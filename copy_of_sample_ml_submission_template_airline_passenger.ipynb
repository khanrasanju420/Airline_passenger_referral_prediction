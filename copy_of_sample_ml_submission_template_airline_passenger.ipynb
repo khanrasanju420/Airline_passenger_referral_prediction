{
  "nbformat": 4,
  "nbformat_minor": 0,
  "metadata": {
    "colab": {
      "private_outputs": true,
      "provenance": [],
      "collapsed_sections": [
        "vncDsAP0Gaoa",
        "FJNUwmbgGyua",
        "w6K7xa23Elo4",
        "yQaldy8SH6Dl",
        "mDgbUHAGgjLW",
        "JlHwYmJAmNHm",
        "35m5QtbWiB9F",
        "PoPl-ycgm1ru",
        "H0kj-8xxnORC",
        "nA9Y7ga8ng1Z",
        "PBTbrJXOngz2",
        "u3PMJOP6ngxN",
        "dauF4eBmngu3",
        "GF8Ens_Soomf",
        "0wOQAZs5pc--",
        "K5QZ13OEpz2H",
        "lQ7QKXXCp7Bj",
        "KSlN3yHqYklG",
        "xiyOF9F70UgQ",
        "-oLEiFgy-5Pf",
        "id1riN9m0vUs",
        "gIfDvo9L0UH2"
      ],
      "include_colab_link": true
    },
    "kernelspec": {
      "name": "python3",
      "display_name": "Python 3"
    },
    "language_info": {
      "name": "python"
    }
  },
  "cells": [
    {
      "cell_type": "markdown",
      "metadata": {
        "id": "view-in-github",
        "colab_type": "text"
      },
      "source": [
        "<a href=\"https://colab.research.google.com/github/khanrasanju420/Airline_passenger_referral_prediction/blob/main/copy_of_sample_ml_submission_template_airline_passenger.ipynb\" target=\"_parent\"><img src=\"https://colab.research.google.com/assets/colab-badge.svg\" alt=\"Open In Colab\"/></a>"
      ]
    },
    {
      "cell_type": "markdown",
      "source": [
        "# **Project Name**    - Airline Passenger Referal Prediction\n",
        "\n"
      ],
      "metadata": {
        "id": "vncDsAP0Gaoa"
      }
    },
    {
      "cell_type": "markdown",
      "source": [
        "![images (7).jpg](data:image/jpeg;base64,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)"
      ],
      "metadata": {
        "id": "5dpgVZM2Byox"
      }
    },
    {
      "cell_type": "markdown",
      "source": [
        "##### **Project Type**    - Classification\n",
        "##### **Contribution**    - Individual\n",
        "##### **Team Member** - SANJU KHANRA"
      ],
      "metadata": {
        "id": "beRrZCGUAJYm"
      }
    },
    {
      "cell_type": "markdown",
      "source": [
        "# **Project Summary -**"
      ],
      "metadata": {
        "id": "FJNUwmbgGyua"
      }
    },
    {
      "cell_type": "markdown",
      "source": [
        "Data includes airline reviews from 2006 to 2019 for popular airlines around the world with multiple choice and free text questions. Data is scraped in Spring 2019. The main objectives are to predict whether passengers will refer the airline to their friends.\n",
        "\n",
        "We have Started with data loading and we have done EDA, feature engineering, data cleaning, target encoding feature selection and then model building.\n",
        "So, we have used this models:\n",
        "*\tLogistic Regression Model\n",
        "*\tDecision Tree Model\n",
        "*\tRandom Forest Model\n",
        "*\tSupport Vector Machine Model\n",
        "*\tK-Nearest-Neighbour Model\n",
        "*\tNaïve Bayes\n",
        "\n",
        "*\tWe performed hyperparameter tuning for decision tree models, random forest models, K-Nearest Neighbors, Support Vector Machines, and Naive Bayes using the GridSearch CV method. This is done to improve accuracy and avoid overfitting criteria. After that, we completed the Gradient Boosting model by fine-tuning the hyperparameters.\n",
        "*\tBased on an understanding of the business and problem use cases. The classification metrics for Recall are given first priority, Accuray second priority, and ROC AUC third priority.\n",
        "*\tWe created classifier models using 6 different classifier types, all of which provided over 90% accuracy. We can conclude that LogisticRegression gives the best model.\n",
        "*\tComparing the model evaluation metrics, we can see that the SVM is the most accurate model with a very small margin, and performs the best among the experimental models on the given dataset.\n",
        "*\tThe most important features were overall rating and value for money, which helped the model predict whether passengers would recommend a particular airline to their friends.\n",
        "*\tThe developed classifier models can be used to predict passenger recommendations as they enable airlines to identify influential passengers who can help generate more revenue.\n",
        "*\tTherefore, in order to grow or grow their business, our customers must provide outstanding cabin service, ground handling, entertaining food, beverages and comfortable seating.\n"
      ],
      "metadata": {
        "id": "F6v_1wHtG2nS"
      }
    },
    {
      "cell_type": "markdown",
      "source": [
        "# **GitHub Link -**"
      ],
      "metadata": {
        "id": "w6K7xa23Elo4"
      }
    },
    {
      "cell_type": "markdown",
      "source": [],
      "metadata": {
        "id": "Pfl8uv2vB7nQ"
      }
    },
    {
      "cell_type": "markdown",
      "source": [
        "# **Problem Statement**\n"
      ],
      "metadata": {
        "id": "yQaldy8SH6Dl"
      }
    },
    {
      "cell_type": "markdown",
      "source": [
        "1. Which Traveller_type has more ratings?\n",
        "\n",
        "2. Which type of Cabin has more recommendation?\n",
        "\n",
        "3. Which type of traveller type is value for money?\n",
        "\n",
        "4. What is distribution of average ratings of Food_bev and entertainment given by the passenger in every class?\n",
        "\n",
        "5. Which cabin type has more recommended based on ground service ratings?\n",
        "\n",
        "6.  Which cabin type has more recomended based on overall service ratings by customers?\n",
        "\n",
        "7. Which airline made highest trips?\n",
        "\n",
        "8. Which cabin type has more recomended based on overall service ratings by customers?\n",
        "\n",
        "9. Comparison of all independent variable/features?"
      ],
      "metadata": {
        "id": "DpeJGUA3kjGy"
      }
    },
    {
      "cell_type": "markdown",
      "source": [
        "# **General Guidelines** : -  "
      ],
      "metadata": {
        "id": "mDgbUHAGgjLW"
      }
    },
    {
      "cell_type": "markdown",
      "source": [
        "1.   Well-structured, formatted, and commented code is required. \n",
        "2.   Exception Handling, Production Grade Code & Deployment Ready Code will be a plus. Those students will be awarded some additional credits. \n",
        "     \n",
        "     The additional credits will have advantages over other students during Star Student selection.\n",
        "       \n",
        "             [ Note: - Deployment Ready Code is defined as, the whole .ipynb notebook should be executable in one go\n",
        "                       without a single error logged. ]\n",
        "\n",
        "3.   Each and every logic should have proper comments.\n",
        "4. You may add as many number of charts you want. Make Sure for each and every chart the following format should be answered.\n",
        "        \n",
        "\n",
        "```\n",
        "# Chart visualization code\n",
        "```\n",
        "            \n",
        "\n",
        "*   Why did you pick the specific chart?\n",
        "*   What is/are the insight(s) found from the chart?\n",
        "* Will the gained insights help creating a positive business impact? \n",
        "Are there any insights that lead to negative growth? Justify with specific reason.\n",
        "\n",
        "5. You have to create at least 15 logical & meaningful charts having important insights.\n",
        "\n",
        "\n",
        "[ Hints : - Do the Vizualization in  a structured way while following \"UBM\" Rule. \n",
        "\n",
        "U - Univariate Analysis,\n",
        "\n",
        "B - Bivariate Analysis (Numerical - Categorical, Numerical - Numerical, Categorical - Categorical)\n",
        "\n",
        "M - Multivariate Analysis\n",
        " ]\n",
        "\n",
        "\n",
        "\n",
        "\n",
        "\n",
        "6. You may add more ml algorithms for model creation. Make sure for each and every algorithm, the following format should be answered.\n",
        "\n",
        "\n",
        "*   Explain the ML Model used and it's performance using Evaluation metric Score Chart.\n",
        "\n",
        "\n",
        "*   Cross- Validation & Hyperparameter Tuning\n",
        "\n",
        "*   Have you seen any improvement? Note down the improvement with updates Evaluation metric Score Chart.\n",
        "\n",
        "*   Explain each evaluation metric's indication towards business and the business impact pf the ML model used.\n",
        "\n",
        "\n",
        "\n",
        "\n",
        "\n",
        "\n",
        "\n",
        "\n",
        "\n",
        "\n",
        "\n",
        "\n",
        "\n",
        "\n",
        "\n",
        "\n",
        "\n",
        "\n"
      ],
      "metadata": {
        "id": "ZrxVaUj-hHfC"
      }
    },
    {
      "cell_type": "markdown",
      "source": [
        "# ***Let's Begin !***"
      ],
      "metadata": {
        "id": "O_i_v8NEhb9l"
      }
    },
    {
      "cell_type": "markdown",
      "source": [
        "## ***1. Know Your Data***"
      ],
      "metadata": {
        "id": "HhfV-JJviCcP"
      }
    },
    {
      "cell_type": "markdown",
      "source": [
        "### Import Libraries"
      ],
      "metadata": {
        "id": "Y3lxredqlCYt"
      }
    },
    {
      "cell_type": "code",
      "source": [
        "# Import Libraries\n",
        "import pandas as pd\n",
        "import numpy as np\n",
        "import matplotlib.pyplot as plt\n",
        "import seaborn as sns\n",
        "%matplotlib inline\n",
        "\n",
        "import lightgbm\n",
        "import warnings\n",
        "warnings.filterwarnings('ignore')\n",
        "\n",
        "from statsmodels.stats.outliers_influence import variance_inflation_factor\n",
        "from sklearn.preprocessing import LabelEncoder\n",
        "from sklearn.preprocessing import OneHotEncoder\n",
        "from sklearn.model_selection import train_test_split, GridSearchCV,  cross_val_score"
      ],
      "metadata": {
        "id": "M8Vqi-pPk-HR"
      },
      "execution_count": null,
      "outputs": []
    },
    {
      "cell_type": "code",
      "source": [
        "# Importing all models from sklearn to be used in our model building\n",
        "from sklearn.linear_model import LogisticRegression\n",
        "from sklearn.ensemble import RandomForestClassifier\n",
        "from sklearn.tree import DecisionTreeClassifier\n",
        "from sklearn.neighbors import KNeighborsClassifier\n",
        "from sklearn.svm import SVC\n",
        "from sklearn.naive_bayes import GaussianNB\n",
        "from sklearn.svm import LinearSVC\n",
        "import time\n",
        "from sklearn.naive_bayes import MultinomialNB"
      ],
      "metadata": {
        "id": "vi93QDgOHyqk"
      },
      "execution_count": null,
      "outputs": []
    },
    {
      "cell_type": "code",
      "source": [
        "# Importing  metrics for evaluation for our models\n",
        "from sklearn import metrics\n",
        "from sklearn.metrics import classification_report,confusion_matrix\n",
        "from sklearn.metrics import accuracy_score,precision_score\n",
        "from sklearn.metrics import recall_score,f1_score,roc_curve, roc_auc_score"
      ],
      "metadata": {
        "id": "twqn_IYnIRiP"
      },
      "execution_count": null,
      "outputs": []
    },
    {
      "cell_type": "code",
      "source": [
        "!pip install shap==0.40.0\n",
        "import shap \n",
        "import graphviz\n",
        "sns.set_style('darkgrid') "
      ],
      "metadata": {
        "id": "Kbz2H9mGV2cL"
      },
      "execution_count": null,
      "outputs": []
    },
    {
      "cell_type": "markdown",
      "source": [
        "### Dataset Loading"
      ],
      "metadata": {
        "id": "3RnN4peoiCZX"
      }
    },
    {
      "cell_type": "code",
      "source": [
        "# Load Dataset\n",
        "from google.colab import drive\n",
        "drive.mount('/content/drive')"
      ],
      "metadata": {
        "id": "4CkvbW_SlZ_R"
      },
      "execution_count": null,
      "outputs": []
    },
    {
      "cell_type": "code",
      "source": [
        "airline_df1=pd.read_excel(r\"/content/drive/My Drive/Colab Notebooks/Airline Passenger Referral Prediction/data_airline_reviews.xlsx\")"
      ],
      "metadata": {
        "id": "R1LRwdXYCKUB"
      },
      "execution_count": null,
      "outputs": []
    },
    {
      "cell_type": "markdown",
      "source": [
        "### Dataset First View"
      ],
      "metadata": {
        "id": "x71ZqKXriCWQ"
      }
    },
    {
      "cell_type": "code",
      "source": [
        "# Dataset First Look\n",
        "airline_df1.head(5)"
      ],
      "metadata": {
        "id": "LWNFOSvLl09H"
      },
      "execution_count": null,
      "outputs": []
    },
    {
      "cell_type": "code",
      "source": [
        "airline_df1.tail(5)"
      ],
      "metadata": {
        "id": "S_6drw7ZlC4q"
      },
      "execution_count": null,
      "outputs": []
    },
    {
      "cell_type": "markdown",
      "source": [
        "### Dataset Rows & Columns count"
      ],
      "metadata": {
        "id": "7hBIi_osiCS2"
      }
    },
    {
      "cell_type": "code",
      "source": [
        "# Dataset Rows & Columns count\n",
        "print(f\"This dataset has {airline_df1.shape[0]} row and {airline_df1.shape[1]} columns\")"
      ],
      "metadata": {
        "id": "Kllu7SJgmLij"
      },
      "execution_count": null,
      "outputs": []
    },
    {
      "cell_type": "markdown",
      "source": [
        "we have 17 columns and 131895 rows in our data."
      ],
      "metadata": {
        "id": "E_JafkVDnZRZ"
      }
    },
    {
      "cell_type": "markdown",
      "source": [
        "### Dataset Information"
      ],
      "metadata": {
        "id": "JlHwYmJAmNHm"
      }
    },
    {
      "cell_type": "code",
      "source": [
        "# Dataset Info\n",
        "airline_df1.info()"
      ],
      "metadata": {
        "id": "e9hRXRi6meOf"
      },
      "execution_count": null,
      "outputs": []
    },
    {
      "cell_type": "markdown",
      "source": [
        "#### Duplicate Values"
      ],
      "metadata": {
        "id": "35m5QtbWiB9F"
      }
    },
    {
      "cell_type": "code",
      "source": [
        "# Dataset Duplicate Value Count\n",
        "airline_df1.duplicated().sum()"
      ],
      "metadata": {
        "id": "1sLdpKYkmox0"
      },
      "execution_count": null,
      "outputs": []
    },
    {
      "cell_type": "markdown",
      "source": [
        "This dataset have 70711 duplicate values"
      ],
      "metadata": {
        "id": "dtN5WQVMnrLv"
      }
    },
    {
      "cell_type": "code",
      "source": [
        "#Drop all Duplicate value from the Dataset\n",
        "airline_df1.drop_duplicates(inplace=True)"
      ],
      "metadata": {
        "id": "iEfErjCZnh38"
      },
      "execution_count": null,
      "outputs": []
    },
    {
      "cell_type": "code",
      "source": [
        "#Final check of Duplicate value\n",
        "airline_df1.duplicated().sum()"
      ],
      "metadata": {
        "id": "GPl5KkG8nh-C"
      },
      "execution_count": null,
      "outputs": []
    },
    {
      "cell_type": "code",
      "source": [
        "#New shape of dataset\n",
        "airline_df1.shape"
      ],
      "metadata": {
        "id": "q0FjXaKsnh6e"
      },
      "execution_count": null,
      "outputs": []
    },
    {
      "cell_type": "markdown",
      "source": [
        "#### Missing Values/Null Values"
      ],
      "metadata": {
        "id": "PoPl-ycgm1ru"
      }
    },
    {
      "cell_type": "code",
      "source": [
        "#copy the dataset\n",
        "airline_df=airline_df1.copy()"
      ],
      "metadata": {
        "id": "rgHhjet-b9wp"
      },
      "execution_count": null,
      "outputs": []
    },
    {
      "cell_type": "code",
      "source": [
        "#print 1st 2row of dataset\n",
        "airline_df.head(2)"
      ],
      "metadata": {
        "id": "ZMDokjrvcsvW"
      },
      "execution_count": null,
      "outputs": []
    },
    {
      "cell_type": "code",
      "source": [
        "# Missing Values/Null Values Count\n",
        "airline_df.isnull().sum()"
      ],
      "metadata": {
        "id": "GgHWkxvamxVg"
      },
      "execution_count": null,
      "outputs": []
    },
    {
      "cell_type": "code",
      "source": [
        "# Visualizing the missing values\n",
        "airline_df.isnull().sum().plot(kind=\"bar\")\n",
        "plt.show()"
      ],
      "metadata": {
        "id": "3q5wnI3om9sJ"
      },
      "execution_count": null,
      "outputs": []
    },
    {
      "cell_type": "markdown",
      "source": [
        "### What did you know about your dataset?"
      ],
      "metadata": {
        "id": "H0kj-8xxnORC"
      }
    },
    {
      "cell_type": "markdown",
      "source": [
        "Air transport or aviation plays a very important role in the present transport structure of the world and surely it is considered the gift of the twentieth century to the world. In today’s fast-paced world, air transport has been a blessing to all because of its speed of transportation. This mode of transport is very useful to get the products with short delivery times quickly and safely to those who require it also allows the tourism industry in each country to have stable growth by shortening the distance among all the people who inhabit the world. Here, I have a dataset regarding the ratings of services provided by different airlines to customers. The main objective of this project is to understand how likely the passengers will recommend the airlines to others. The dataset here is quite large which initially had 131895 rows and 17 columns. On checking the data information, it was derived that there were basically two different types of data in the dataset there are 7 columns of floats64, data types 10 columns with object types. Coming to the null values and missing values in the dataset, it was observed that there was a mismatch in the non-null counts which clearly stated that a large number of missing and null values were present in the dataset.\n",
        "\n",
        "Data is scrapped in the Spring of 2019 from the Skytrax website. Data includes airline reviews from 2006 to 2019 for popular airlines around the world with multiple-choice and free-text questions. The main objective is to predict whether passengers will refer the airline to them or not."
      ],
      "metadata": {
        "id": "gfoNAAC-nUe_"
      }
    },
    {
      "cell_type": "markdown",
      "source": [
        "## ***2. Understanding Your Variables***"
      ],
      "metadata": {
        "id": "nA9Y7ga8ng1Z"
      }
    },
    {
      "cell_type": "code",
      "source": [
        "# Dataset Columns\n",
        "airline_df.columns"
      ],
      "metadata": {
        "id": "j7xfkqrt5Ag5"
      },
      "execution_count": null,
      "outputs": []
    },
    {
      "cell_type": "code",
      "source": [
        "# Dataset Describe\n",
        "airline_df.describe().T"
      ],
      "metadata": {
        "id": "DnOaZdaE5Q5t"
      },
      "execution_count": null,
      "outputs": []
    },
    {
      "cell_type": "markdown",
      "source": [
        "### Variables Description "
      ],
      "metadata": {
        "id": "PBTbrJXOngz2"
      }
    },
    {
      "cell_type": "markdown",
      "source": [
        "**Feature descriptions briefly as follows:**\n",
        "\n",
        "1. airline: Name of the airline.\n",
        "\n",
        "2. overall: Overall point is given to the trip between 1 to 10.\n",
        "\n",
        "3. author: Author of the trip\n",
        "\n",
        "4. review date: Date of the Review\n",
        "\n",
        "5. customer review:Review of the customers in free text format\n",
        "\n",
        "6. aircraft: Type of the aircraft\n",
        "\n",
        "7. traveller type: Type of traveler (e.g. business, leisure)\n",
        "\n",
        "8. cabin: Cabin at the flight date flown: Flight date\n",
        "\n",
        "9. seat comfort: Rated between 1-5\n",
        "\n",
        "10. cabin service: Rated between 1-5\n",
        "\n",
        "11. foodbev: Rated between 1-5\n",
        "\n",
        "12. entertainment: Rated between 1-5\n",
        "\n",
        "13. ground service: Rated between 1-5\n",
        "\n",
        "14. value for money: Rated between 1-5\n",
        "\n",
        "15. recommended: Binary, target variable."
      ],
      "metadata": {
        "id": "aJV4KIxSnxay"
      }
    },
    {
      "cell_type": "markdown",
      "source": [
        "### Check Unique Values for each variable."
      ],
      "metadata": {
        "id": "u3PMJOP6ngxN"
      }
    },
    {
      "cell_type": "code",
      "source": [
        "# Check Unique Values for each variable.\n",
        "airline_df.nunique()"
      ],
      "metadata": {
        "id": "zms12Yq5n-jE"
      },
      "execution_count": null,
      "outputs": []
    },
    {
      "cell_type": "markdown",
      "source": [
        "## 3. ***Data Wrangling***"
      ],
      "metadata": {
        "id": "dauF4eBmngu3"
      }
    },
    {
      "cell_type": "markdown",
      "source": [
        "### Data Wrangling Code"
      ],
      "metadata": {
        "id": "bKJF3rekwFvQ"
      }
    },
    {
      "cell_type": "code",
      "source": [
        "# Write your code to make your dataset analysis ready.\n",
        "def missing_value(df):\n",
        "    percentage_missing=airline_df.isnull().sum()*100/len(airline_df)\n",
        "    missing_value_df=pd.DataFrame({\"column_name\":airline_df.columns,\"percentage_missing\":percentage_missing})\n",
        "    return missing_value_df.sort_values(\"percentage_missing\",ascending=False)"
      ],
      "metadata": {
        "id": "wk-9a2fpoLcV"
      },
      "execution_count": null,
      "outputs": []
    },
    {
      "cell_type": "code",
      "source": [
        "#Checking Percentage wise missing values.\n",
        "missing_value(airline_df)"
      ],
      "metadata": {
        "id": "4LGpb26U6Rcu"
      },
      "execution_count": null,
      "outputs": []
    },
    {
      "cell_type": "code",
      "source": [
        "#Showing the unique aircraft names\n",
        "airline_df.aircraft.unique()"
      ],
      "metadata": {
        "id": "Y2ae-obT6chK"
      },
      "execution_count": null,
      "outputs": []
    },
    {
      "cell_type": "code",
      "source": [
        "#checking the number of unique aircrafts\n",
        "airline_df.aircraft.nunique()"
      ],
      "metadata": {
        "id": "nAjk5X1n6cpa"
      },
      "execution_count": null,
      "outputs": []
    },
    {
      "cell_type": "markdown",
      "source": [
        "Droping the aircraft column from data as it have highest null values."
      ],
      "metadata": {
        "id": "fNukPDf-6ssW"
      }
    },
    {
      "cell_type": "code",
      "source": [
        "#drop aircraft column\n",
        "airline_df = airline_df.drop(['aircraft'],axis = 1)"
      ],
      "metadata": {
        "id": "tpSBjabc6nM4"
      },
      "execution_count": null,
      "outputs": []
    },
    {
      "cell_type": "code",
      "source": [
        "#droping the columns from data which are not for our use\n",
        "airline_df = airline_df.drop(['author','review_date','route','date_flown','customer_review'],axis = 1)\n",
        "airline_df.head()"
      ],
      "metadata": {
        "id": "Tghkz09d6nUZ"
      },
      "execution_count": null,
      "outputs": []
    },
    {
      "cell_type": "code",
      "source": [
        "#Splitting the Numeric column\n",
        "low_null = ['overall','seat_comfort','cabin_service','value_for_money']\n",
        "high_null = ['food_bev','entertainment','ground_service']"
      ],
      "metadata": {
        "id": "HGYCjEaAAyu0"
      },
      "execution_count": null,
      "outputs": []
    },
    {
      "cell_type": "code",
      "source": [
        "#Imputation technique using Quantile-1 value\n",
        "def impute_by_q1_values(df,column):\n",
        "  Q1=np.percentile(np.sort(df[column].dropna()),25)\n",
        "  df[column].fillna(Q1,inplace=True)"
      ],
      "metadata": {
        "id": "KIV3JD5VAy2o"
      },
      "execution_count": null,
      "outputs": []
    },
    {
      "cell_type": "code",
      "source": [
        "#Looping the null value column\n",
        "for col in low_null:\n",
        "  impute_by_q1_values(airline_df,col)"
      ],
      "metadata": {
        "id": "7zh3x4sHAzCB"
      },
      "execution_count": null,
      "outputs": []
    },
    {
      "cell_type": "markdown",
      "source": [
        "Imputed null values by Quantile-1 for the columns have low null value percentage."
      ],
      "metadata": {
        "id": "udSJvS9wBV7b"
      }
    },
    {
      "cell_type": "code",
      "source": [
        "#Imputation technique using Median Imputation\n",
        "def median_imputation(df,column):\n",
        "  df[column].fillna(df[column].median(),inplace=True)"
      ],
      "metadata": {
        "id": "mPYFhKwyBQCf"
      },
      "execution_count": null,
      "outputs": []
    },
    {
      "cell_type": "code",
      "source": [
        "#Looping the null value column\n",
        "for col in high_null:\n",
        "  median_imputation(airline_df,col)"
      ],
      "metadata": {
        "id": "mD3-hsWVBQFi"
      },
      "execution_count": null,
      "outputs": []
    },
    {
      "cell_type": "markdown",
      "source": [
        "Imputed null values by Median Imputaion for the columns have high percetage."
      ],
      "metadata": {
        "id": "yzWwqaelBiZO"
      }
    },
    {
      "cell_type": "code",
      "source": [
        "#after imputed null values\n",
        "airline_df.head(5)"
      ],
      "metadata": {
        "id": "z28n_ZS8BhXY"
      },
      "execution_count": null,
      "outputs": []
    },
    {
      "cell_type": "code",
      "source": [
        "#Remove recommended null value row\n",
        "airline_df.dropna(subset=['recommended'],inplace=True)"
      ],
      "metadata": {
        "id": "yNCwm2LoBQIw"
      },
      "execution_count": null,
      "outputs": []
    },
    {
      "cell_type": "code",
      "source": [
        "#replaces the NULL values with the value from the previous row\n",
        "airline_df['traveller_type'].fillna(method=\"ffill\",inplace=True)"
      ],
      "metadata": {
        "id": "bjtDneuSBQMQ"
      },
      "execution_count": null,
      "outputs": []
    },
    {
      "cell_type": "code",
      "source": [
        " ##replaces the NULL values with mode\n",
        " airline_df['cabin'].fillna(airline_df['cabin'].mode().values[0],inplace=True)"
      ],
      "metadata": {
        "id": "0TYeeEpeB4AK"
      },
      "execution_count": null,
      "outputs": []
    },
    {
      "cell_type": "markdown",
      "source": [
        "Filling traveller_type column with Mode Imputation\n",
        "\n",
        "cabin column with Forward fill method."
      ],
      "metadata": {
        "id": "ywuhBy4eCu12"
      }
    },
    {
      "cell_type": "code",
      "source": [
        "airline_df.head(5)"
      ],
      "metadata": {
        "id": "pt-BkShBB4I-"
      },
      "execution_count": null,
      "outputs": []
    },
    {
      "cell_type": "code",
      "source": [
        "#Checking the new null value percentage\n",
        "missing_value(airline_df)"
      ],
      "metadata": {
        "id": "UzrLIvIqCGDe"
      },
      "execution_count": null,
      "outputs": []
    },
    {
      "cell_type": "code",
      "source": [
        "#shape of dataset\n",
        "airline_df.shape"
      ],
      "metadata": {
        "id": "3PsvuOhrCIgl"
      },
      "execution_count": null,
      "outputs": []
    },
    {
      "cell_type": "markdown",
      "source": [
        "It is better to work with clean data for prediction rather than huge corrupt data"
      ],
      "metadata": {
        "id": "fphiqu9yCRi6"
      }
    },
    {
      "cell_type": "markdown",
      "source": [
        "### What all manipulations have you done and insights you found?"
      ],
      "metadata": {
        "id": "MSa1f5Uengrz"
      }
    },
    {
      "cell_type": "markdown",
      "source": [
        "**Reason of droping columns--**\n",
        "\n",
        "1. Author - Being the categorical with high Variability not required for prediction.\n",
        "2. Route - Not needed for building a model as it is independent of the Services and Quality of travel.\n",
        "3. Date_flown - Not needed for building a model as it is not a time series data, also some common time period is there between 2 dates.\n",
        "4. Review_date - Similar to Date_flown\n",
        "5. Customer_review - As it is related to overall review feature of the datasets.\n",
        "On the basis of null value percentage we divide our data in two parts-\n",
        "\n",
        "high_null = columns which have high percentage of null values.\n",
        "\n",
        "\n",
        "low_null = columns which have low percentage of null values"
      ],
      "metadata": {
        "id": "LbyXE7I1olp8"
      }
    },
    {
      "cell_type": "markdown",
      "source": [
        "## ***4. Data Vizualization, Storytelling & Experimenting with charts : Understand the relationships between variables***"
      ],
      "metadata": {
        "id": "GF8Ens_Soomf"
      }
    },
    {
      "cell_type": "markdown",
      "source": [
        "#### Chart -1 Which Traveller_type has more ratings?"
      ],
      "metadata": {
        "id": "0wOQAZs5pc--"
      }
    },
    {
      "cell_type": "code",
      "source": [
        "airline_df.head(2)"
      ],
      "metadata": {
        "id": "t9JXNnhfbHnn"
      },
      "execution_count": null,
      "outputs": []
    },
    {
      "cell_type": "code",
      "source": [
        "# Chart - 1 visualization code\n",
        "plt.figure(figsize=(10,5))\n",
        "sns.countplot(x=airline_df['traveller_type'])\n",
        "plt.show()"
      ],
      "metadata": {
        "id": "7v_ESjsspbW7"
      },
      "execution_count": null,
      "outputs": []
    },
    {
      "cell_type": "markdown",
      "source": [
        "##### 1. Why did you pick the specific chart?"
      ],
      "metadata": {
        "id": "K5QZ13OEpz2H"
      }
    },
    {
      "cell_type": "markdown",
      "source": [
        "I picked this specific chart for check that which traveller_type has more ratings"
      ],
      "metadata": {
        "id": "XESiWehPqBRc"
      }
    },
    {
      "cell_type": "markdown",
      "source": [
        "##### 2. What is/are the insight(s) found from the chart?"
      ],
      "metadata": {
        "id": "lQ7QKXXCp7Bj"
      }
    },
    {
      "cell_type": "markdown",
      "source": [
        "**From above plot**\n",
        "\n",
        "Travelling type of Solo Leisure has more ratings"
      ],
      "metadata": {
        "id": "C_j1G7yiqdRP"
      }
    },
    {
      "cell_type": "markdown",
      "source": [
        "##### 3. Will the gained insights help creating a positive business impact? \n",
        "Are there any insights that lead to negative growth? Justify with specific reason."
      ],
      "metadata": {
        "id": "448CDAPjqfQr"
      }
    },
    {
      "cell_type": "markdown",
      "source": [
        "* In the airplane most of the traveler are solo Leisure followed by Couple Leisure,Business and Famaly Leisure.We should focus on Famaily Leisre so that more famaily memeber travel together in the flight. "
      ],
      "metadata": {
        "id": "3cspy4FjqxJW"
      }
    },
    {
      "cell_type": "markdown",
      "source": [
        "#### Chart - 2 Which type of Cabin has more recommendation?"
      ],
      "metadata": {
        "id": "KSlN3yHqYklG"
      }
    },
    {
      "cell_type": "code",
      "source": [
        "airline_df.head(2)"
      ],
      "metadata": {
        "id": "KSJRmF8bbNNi"
      },
      "execution_count": null,
      "outputs": []
    },
    {
      "cell_type": "code",
      "source": [
        "# Chart - 2 visualization code\n",
        "plt.figure(figsize=(10,5))\n",
        "sns.countplot(x=airline_df['cabin'],hue=airline_df['recommended'])\n",
        "plt.show()"
      ],
      "metadata": {
        "id": "R4YgtaqtYklH"
      },
      "execution_count": null,
      "outputs": []
    },
    {
      "cell_type": "markdown",
      "source": [
        "##### 1. Why did you pick the specific chart?"
      ],
      "metadata": {
        "id": "t6dVpIINYklI"
      }
    },
    {
      "cell_type": "markdown",
      "source": [
        "I pick this specific chart for check which type of Cabin has more recommendation from coustomer."
      ],
      "metadata": {
        "id": "5aaW0BYyYklI"
      }
    },
    {
      "cell_type": "markdown",
      "source": [
        "##### 2. What is/are the insight(s) found from the chart?"
      ],
      "metadata": {
        "id": "ijmpgYnKYklI"
      }
    },
    {
      "cell_type": "markdown",
      "source": [
        "**On the basis of above graph -**\n",
        "\n",
        "1. Economy class has highest recommendation with bad reviews.\n",
        "\n",
        "2. Business class has second most recommended cabin type with good reviews.\n",
        "\n",
        "3. premium economy has equal reviews.\n",
        "\n",
        "4. first class is least recommend cabin type with good reviews."
      ],
      "metadata": {
        "id": "PSx9atu2YklI"
      }
    },
    {
      "cell_type": "markdown",
      "source": [
        "##### 3. Will the gained insights help creating a positive business impact? \n",
        "Are there any insights that lead to negative growth? Justify with specific reason."
      ],
      "metadata": {
        "id": "-JiQyfWJYklI"
      }
    },
    {
      "cell_type": "markdown",
      "source": [
        "* Here we can see that most of the traveler travel in the Economy Class and very less taveler travel in the Premium and First class.\n",
        "\n",
        "\n",
        "* In the Business class about 50% of traveler are not recommended to the other traveler and also same as First class for that reason we should make some effort in business for more recommendation by traveler.\n",
        "\n",
        "\n",
        "* In the Economy class about 30% pessengers are not recommended the other so this is also a drawback of business. "
      ],
      "metadata": {
        "id": "BcBbebzrYklV"
      }
    },
    {
      "cell_type": "markdown",
      "source": [
        "#### Chart - 3 Which type of traveller type is value for money?"
      ],
      "metadata": {
        "id": "EM7whBJCYoAo"
      }
    },
    {
      "cell_type": "code",
      "source": [
        "airline_df.head(2)"
      ],
      "metadata": {
        "id": "bjbAiFufcjWy"
      },
      "execution_count": null,
      "outputs": []
    },
    {
      "cell_type": "code",
      "source": [
        "# Chart - 3 visualization code\n",
        "airline_df.groupby(\"traveller_type\")['value_for_money'].mean().plot(kind=\"bar\",color=('r',\"b\"),figsize=(10,6))\n",
        "plt.show()"
      ],
      "metadata": {
        "id": "t6GMdE67YoAp"
      },
      "execution_count": null,
      "outputs": []
    },
    {
      "cell_type": "markdown",
      "source": [
        "##### 1. Why did you pick the specific chart?"
      ],
      "metadata": {
        "id": "fge-S5ZAYoAp"
      }
    },
    {
      "cell_type": "markdown",
      "source": [
        "I chose this chart for show that Which type of traveller type is value for money for coustomer."
      ],
      "metadata": {
        "id": "5dBItgRVYoAp"
      }
    },
    {
      "cell_type": "markdown",
      "source": [
        "##### 2. What is/are the insight(s) found from the chart?"
      ],
      "metadata": {
        "id": "85gYPyotYoAp"
      }
    },
    {
      "cell_type": "markdown",
      "source": [
        "**From above plot**\n",
        "\n",
        "We can say thet travelling Type of Solo Leisure worth of Money compare to other type of travelling."
      ],
      "metadata": {
        "id": "4jstXR6OYoAp"
      }
    },
    {
      "cell_type": "markdown",
      "source": [
        "##### 3. Will the gained insights help creating a positive business impact? \n",
        "Are there any insights that lead to negative growth? Justify with specific reason."
      ],
      "metadata": {
        "id": "RoGjAbkUYoAp"
      }
    },
    {
      "cell_type": "markdown",
      "source": [
        "Solo Leisure traveling type gives best rating in value for money section compare to other type of traveling. this is a positive sign of business. "
      ],
      "metadata": {
        "id": "zfJ8IqMcYoAp"
      }
    },
    {
      "cell_type": "markdown",
      "source": [
        "#### Chart - 4 What is distribution of average ratings of Food_bev and entertainment given by the passenger in every class?"
      ],
      "metadata": {
        "id": "6VDNaUQ6hY7z"
      }
    },
    {
      "cell_type": "code",
      "source": [
        "airline_df.head(2)"
      ],
      "metadata": {
        "id": "YHCkhwUGf0hx"
      },
      "execution_count": null,
      "outputs": []
    },
    {
      "cell_type": "code",
      "source": [
        "# Chart - 4 visualization code\n",
        "airline_df.groupby(\"cabin\")[\"food_bev\",'entertainment'].mean().plot(kind=\"bar\",figsize=(10,6))\n",
        "plt.show()"
      ],
      "metadata": {
        "id": "irlUoxc8YrdO"
      },
      "execution_count": null,
      "outputs": []
    },
    {
      "cell_type": "markdown",
      "source": [
        "##### 1. Why did you pick the specific chart?"
      ],
      "metadata": {
        "id": "iky9q4vBYrdO"
      }
    },
    {
      "cell_type": "markdown",
      "source": [
        "I picked this specific chart for show that the distribution of average ratings of Food_bev and entertainment given by the passenger in every class."
      ],
      "metadata": {
        "id": "aJRCwT6DYrdO"
      }
    },
    {
      "cell_type": "markdown",
      "source": [
        "##### 2. What is/are the insight(s) found from the chart?"
      ],
      "metadata": {
        "id": "F6T5p64dYrdO"
      }
    },
    {
      "cell_type": "markdown",
      "source": [
        "**From above plot**\n",
        "\n",
        "\n",
        "1. In Businss Class the average ratings of Food_bev and entertainment given by passenger is highest.\n",
        "\n",
        "\n",
        "2. In Economy Class the average ratings of Food_bev and entertainment given by passenger is lowest."
      ],
      "metadata": {
        "id": "Xx8WAJvtYrdO"
      }
    },
    {
      "cell_type": "markdown",
      "source": [
        "##### 3. Will the gained insights help creating a positive business impact? \n",
        "Are there any insights that lead to negative growth? Justify with specific reason."
      ],
      "metadata": {
        "id": "y-Ehk30pYrdP"
      }
    },
    {
      "cell_type": "markdown",
      "source": [
        "In Economy Class the average ratings of Food_bev and entertainment given by passenger is lowest thats why we need to improve airplain's Food_bev and entertainment in Economy section."
      ],
      "metadata": {
        "id": "jLNxxz7MYrdP"
      }
    },
    {
      "cell_type": "markdown",
      "source": [
        "#### Chart - 5 Which cabin type has more recomended based on ground service ratings?"
      ],
      "metadata": {
        "id": "bamQiAODYuh1"
      }
    },
    {
      "cell_type": "code",
      "source": [
        "airline_df.head(2)"
      ],
      "metadata": {
        "id": "ECmUOi3vjqZT"
      },
      "execution_count": null,
      "outputs": []
    },
    {
      "cell_type": "code",
      "source": [
        "# Chart - 5 visualization code\n",
        "plt.figure(figsize=(10,5))\n",
        "sns.boxplot(x=airline_df['cabin'],y=airline_df['cabin_service'],hue= airline_df['recommended'], palette= ['blue','red'])\n",
        "plt.show()"
      ],
      "metadata": {
        "id": "Hq_iUtfxlO4W"
      },
      "execution_count": null,
      "outputs": []
    },
    {
      "cell_type": "markdown",
      "source": [
        "##### 1. Why did you pick the specific chart?"
      ],
      "metadata": {
        "id": "QHF8YVU7Yuh3"
      }
    },
    {
      "cell_type": "markdown",
      "source": [
        " I pick the specific graph to check which cabin type has more recomended based on ground service ratings."
      ],
      "metadata": {
        "id": "dcxuIMRPYuh3"
      }
    },
    {
      "cell_type": "markdown",
      "source": [
        "##### 2. What is/are the insight(s) found from the chart?"
      ],
      "metadata": {
        "id": "GwzvFGzlYuh3"
      }
    },
    {
      "cell_type": "markdown",
      "source": [
        "**From above plot its showed that**\n",
        "\n",
        "1. First class travellers are least likely to recommend the airlines.\n",
        "\n",
        "2. Recommendation is most probable when the cabin service is given star rating greater then 4.\n",
        "\n",
        "3. In economy class if we got ratings between 4 to 5 that means airlines recommended."
      ],
      "metadata": {
        "id": "uyqkiB8YYuh3"
      }
    },
    {
      "cell_type": "markdown",
      "source": [
        "##### 3. Will the gained insights help creating a positive business impact? \n",
        "Are there any insights that lead to negative growth? Justify with specific reason."
      ],
      "metadata": {
        "id": "qYpmQ266Yuh3"
      }
    },
    {
      "cell_type": "markdown",
      "source": [
        "* from the insight we come to conclution that we should focus on cabin service improvement because it has direct relation with recommendation.\n",
        "\n",
        "* Improve First class traveler service for more recommendation."
      ],
      "metadata": {
        "id": "_WtzZ_hCYuh4"
      }
    },
    {
      "cell_type": "markdown",
      "source": [
        "#### Chart - 6 Which cabin type has more recomended based on overall service ratings by customers?"
      ],
      "metadata": {
        "id": "OH-pJp9IphqM"
      }
    },
    {
      "cell_type": "code",
      "source": [
        "airline_df.head(2)"
      ],
      "metadata": {
        "id": "llEE0JLVz4LT"
      },
      "execution_count": null,
      "outputs": []
    },
    {
      "cell_type": "code",
      "source": [
        "for i in range(1,11):\n",
        "  x= airline_df[airline_df['overall']==i]['recommended'].value_counts()\n",
        "  print(f\"when overall rating= {i}\\n\",x)"
      ],
      "metadata": {
        "id": "Y0aQCRyX2j-Q"
      },
      "execution_count": null,
      "outputs": []
    },
    {
      "cell_type": "code",
      "source": [
        "# Chart - 6 visualization code\n",
        "plt.figure(figsize=(10,5))\n",
        "sns.boxplot(x=airline_df['cabin'],y=airline_df['overall'],hue= airline_df['recommended'], palette= ['blue','red'])\n",
        "plt.show()"
      ],
      "metadata": {
        "id": "kuRf4wtuphqN"
      },
      "execution_count": null,
      "outputs": []
    },
    {
      "cell_type": "markdown",
      "source": [
        "##### 1. Why did you pick the specific chart?"
      ],
      "metadata": {
        "id": "bbFf2-_FphqN"
      }
    },
    {
      "cell_type": "markdown",
      "source": [
        "I picked this specific chart for show that which cabin type has more recomended based on overall service ratings by customers."
      ],
      "metadata": {
        "id": "loh7H2nzphqN"
      }
    },
    {
      "cell_type": "markdown",
      "source": [
        "##### 2. What is/are the insight(s) found from the chart?"
      ],
      "metadata": {
        "id": "_ouA3fa0phqN"
      }
    },
    {
      "cell_type": "markdown",
      "source": [
        "**From above plot**\n",
        "1. If the trip is rated above 8 for overall section, the trip is most likely be recommended by the travellers.\n",
        "\n",
        "2. If it is below 3 , the unhappy travellers has not referred the airlines to their friends irrespective of their cabin type."
      ],
      "metadata": {
        "id": "VECbqPI7phqN"
      }
    },
    {
      "cell_type": "markdown",
      "source": [
        "##### 3. Will the gained insights help creating a positive business impact? \n",
        "Are there any insights that lead to negative growth? Justify with specific reason."
      ],
      "metadata": {
        "id": "Seke61FWphqN"
      }
    },
    {
      "cell_type": "markdown",
      "source": [
        "* When travelers give more than 8 rating they recommended the others so from this insight we can say that we need to improve overall experience of the traveler for more recommendation."
      ],
      "metadata": {
        "id": "DW4_bGpfphqN"
      }
    },
    {
      "cell_type": "markdown",
      "source": [
        "#### Chart - 7 .Which airline made highest trips?"
      ],
      "metadata": {
        "id": "PIIx-8_IphqN"
      }
    },
    {
      "cell_type": "code",
      "source": [
        "airline_df.head(2)"
      ],
      "metadata": {
        "id": "s52ywVPLbKFz"
      },
      "execution_count": null,
      "outputs": []
    },
    {
      "cell_type": "code",
      "source": [
        "sns.countplot(data=airline_df,x='airline',hue='recommended')"
      ],
      "metadata": {
        "id": "jfLgvKXnAEcr"
      },
      "execution_count": null,
      "outputs": []
    },
    {
      "cell_type": "code",
      "source": [
        "# Chart - 7 visualization code\n",
        "airline_df['airline'].value_counts()[:10].plot(kind='bar',figsize=(10,5),color='red')\n",
        "plt.show()"
      ],
      "metadata": {
        "id": "lqAIGUfyphqO"
      },
      "execution_count": null,
      "outputs": []
    },
    {
      "cell_type": "markdown",
      "source": [
        "##### 1. Why did you pick the specific chart?"
      ],
      "metadata": {
        "id": "t27r6nlMphqO"
      }
    },
    {
      "cell_type": "markdown",
      "source": [
        "I pick this chart for observed that which airline made highest trips?"
      ],
      "metadata": {
        "id": "iv6ro40sphqO"
      }
    },
    {
      "cell_type": "markdown",
      "source": [
        "##### 2. What is/are the insight(s) found from the chart?"
      ],
      "metadata": {
        "id": "r2jJGEOYphqO"
      }
    },
    {
      "cell_type": "markdown",
      "source": [
        "\n",
        "**From the above plot we have observed that the top 10 airlines with most trips are-**\n",
        "\n",
        "1. Spirit Airlines\n",
        "\n",
        "2. American Airlines\n",
        "\n",
        "3. United Airlines\n",
        "\n",
        "4. British Airways\n",
        "\n",
        "5. Emirates\n",
        "\n",
        "6. china southern airline\n",
        "\n",
        "7. frontier airlines\n",
        "\n",
        "8. ryanair\n",
        "\n",
        "9. delta air lines\n",
        "\n",
        "10. turkish airlines"
      ],
      "metadata": {
        "id": "Po6ZPi4hphqO"
      }
    },
    {
      "cell_type": "markdown",
      "source": [
        "#### Chart - 8 Which cabin type has more recomended based on overall service ratings by customers?"
      ],
      "metadata": {
        "id": "BZR9WyysphqO"
      }
    },
    {
      "cell_type": "code",
      "source": [
        "airline_df.head(2)"
      ],
      "metadata": {
        "id": "pBZTu6fPfurm"
      },
      "execution_count": null,
      "outputs": []
    },
    {
      "cell_type": "code",
      "source": [
        "# Chart - 8 visualization code\n",
        "plt.figure(figsize=(10,5))\n",
        "sns.boxplot(x=airline_df['cabin'],y=airline_df['seat_comfort'],hue= airline_df['recommended'], palette= ['blue','red'])\n",
        "plt.show()"
      ],
      "metadata": {
        "id": "TdPTWpAVphqO"
      },
      "execution_count": null,
      "outputs": []
    },
    {
      "cell_type": "markdown",
      "source": [
        "##### 1. Why did you pick the specific chart?"
      ],
      "metadata": {
        "id": "jj7wYXLtphqO"
      }
    },
    {
      "cell_type": "markdown",
      "source": [
        "I picked this specific chart for show that which cabin type has more recomended based on seat comfort ratings by customers."
      ],
      "metadata": {
        "id": "Ob8u6rCTphqO"
      }
    },
    {
      "cell_type": "markdown",
      "source": [
        "##### 2. What is/are the insight(s) found from the chart?"
      ],
      "metadata": {
        "id": "eZrbJ2SmphqO"
      }
    },
    {
      "cell_type": "markdown",
      "source": [
        "**From above plot**\n",
        "1. If the trip is rated above 3 for seat comfort section, the trip is most likely be recommended by the travellers in Economy class but in Business class,Premium Class or First class \n",
        "\n",
        "2. If the trip is rated above 4 for seat comfort section, the trip is most likely be recommended by the travellersin Business class, Premium Class and theFirst class.\n",
        "\n",
        "3. If it is below 3 , the unhappy travellers has not referred the airlines to their friends irrespective of their cabin type and in the First class section it is below 4."
      ],
      "metadata": {
        "id": "mZtgC_hjphqO"
      }
    },
    {
      "cell_type": "markdown",
      "source": [
        "##### 3. Will the gained insights help creating a positive business impact? \n",
        "Are there any insights that lead to negative growth? Justify with specific reason."
      ],
      "metadata": {
        "id": "rFu4xreNphqO"
      }
    },
    {
      "cell_type": "markdown",
      "source": [
        "* When traveler give more than 4 rating in seat comfort section they mostly recommended the others so that from this insight we can say that we need to improve seat comfort of the traveler for more recommendation.\n",
        "\n",
        "* In Business, First and Premium class is positively relate with traveller recommendation. When they give more than 4 rating chances of recommendation goes high.This is the sign of positive growth in business"
      ],
      "metadata": {
        "id": "ey_0qi68phqO"
      }
    },
    {
      "cell_type": "markdown",
      "source": [
        "#### Chart - 9 Comparison of all independent variable/features?"
      ],
      "metadata": {
        "id": "YJ55k-q6phqO"
      }
    },
    {
      "cell_type": "code",
      "source": [
        "airline_df.head(2)"
      ],
      "metadata": {
        "id": "21-VYtEDmpOy"
      },
      "execution_count": null,
      "outputs": []
    },
    {
      "cell_type": "code",
      "source": [
        "# Chart - 9 visualization code\n",
        "#frequency distribution using histgram\n",
        "airline_df.hist(bins=50, figsize=(20,15),color = 'blue')\n",
        "plt.show()"
      ],
      "metadata": {
        "id": "B2aS4O1ophqO"
      },
      "execution_count": null,
      "outputs": []
    },
    {
      "cell_type": "markdown",
      "source": [
        "##### 1. Why did you pick the specific chart?"
      ],
      "metadata": {
        "id": "gCFgpxoyphqP"
      }
    },
    {
      "cell_type": "markdown",
      "source": [
        "For compare of all independent variable/features in the dataset"
      ],
      "metadata": {
        "id": "TVxDimi2phqP"
      }
    },
    {
      "cell_type": "markdown",
      "source": [
        "##### 2. What is/are the insight(s) found from the chart?"
      ],
      "metadata": {
        "id": "OVtJsKN_phqQ"
      }
    },
    {
      "cell_type": "markdown",
      "source": [
        "**From above plot**\n",
        "\n",
        "1. The overall feature ratings of 1 to 2 occur more frequently.\n",
        "\n",
        "2. From Seat comfort feature, We can say that rating of 1 is highest and rating of 4 is the second highest.\n",
        "\n",
        "3. From cabin service feature, We can say that rating of 5 is highest and rating of 1 is the second highest.\n",
        "\n",
        "4. The food bev feature ratings of 2,4 and 5 are varies equally.Which means their frequency are approximately equal.\n",
        "\n",
        "5. The features of both the entertainment & ground service, We can say that ratings of 3 is highest and ratings of 1 is the second highest.\n",
        "\n",
        "6. From value for money feature, It clearly shows that most of the passenger gives ratings of 1 as highest. From this we can say that most of the airline does not provide good service to passenger."
      ],
      "metadata": {
        "id": "ngGi97qjphqQ"
      }
    },
    {
      "cell_type": "markdown",
      "source": [
        "#### Chart - 10 - Correlation Heatmap"
      ],
      "metadata": {
        "id": "NC_X3p0fY2L0"
      }
    },
    {
      "cell_type": "code",
      "source": [
        "airline_df.head(2)"
      ],
      "metadata": {
        "id": "-Yv-9uK3mm3I"
      },
      "execution_count": null,
      "outputs": []
    },
    {
      "cell_type": "markdown",
      "source": [
        "Converting target as categorical data into numerical data: 'Label Encoding'"
      ],
      "metadata": {
        "id": "UtvW98qomBQl"
      }
    },
    {
      "cell_type": "code",
      "source": [
        "#converting targeted column\n",
        "airline_df['recommended'].replace({'yes':1,'no':0},inplace=True)"
      ],
      "metadata": {
        "id": "INbxaUpCkBnE"
      },
      "execution_count": null,
      "outputs": []
    },
    {
      "cell_type": "code",
      "source": [
        "# Correlation Heatmap visualization code\n",
        "plt.figure(figsize=(8,6))\n",
        "sns.heatmap(airline_df.corr(), annot=True)\n",
        "plt.show()"
      ],
      "metadata": {
        "id": "xyC9zolEZNRQ"
      },
      "execution_count": null,
      "outputs": []
    },
    {
      "cell_type": "markdown",
      "source": [
        "##### 1. Why did you pick the specific chart?"
      ],
      "metadata": {
        "id": "UV0SzAkaZNRQ"
      }
    },
    {
      "cell_type": "markdown",
      "source": [
        "Correlation heatmaps can be used to find potential relationships between variables and to understand the strength of these relationships."
      ],
      "metadata": {
        "id": "DVPuT8LYZNRQ"
      }
    },
    {
      "cell_type": "markdown",
      "source": [
        "##### 2. What is/are the insight(s) found from the chart?"
      ],
      "metadata": {
        "id": "YPEH6qLeZNRQ"
      }
    },
    {
      "cell_type": "markdown",
      "source": [
        "**We can infer the following from the above correlation heatmap -**\n",
        "\n",
        "1. Value for money and overall are highly correlated to each other.\n",
        "\n",
        "2. overall and recommended are highly correlated to each other. \n",
        "\n",
        "3. cabin service and value for money is highly correlated with recommended.\n",
        "\n",
        "4. seat comfort and cabin service are very correlated to value for money.\n",
        "\n",
        "5. value for money and recommended are highly correlated to each other.\n",
        "\n",
        "6. Entertainment and ground service are very low correlated to each other.\n",
        "\n",
        "7. Entertainment and recommended are low correlated to each other."
      ],
      "metadata": {
        "id": "bfSqtnDqZNRR"
      }
    },
    {
      "cell_type": "markdown",
      "source": [
        "#### Chart - 11 - Pair Plot "
      ],
      "metadata": {
        "id": "q29F0dvdveiT"
      }
    },
    {
      "cell_type": "code",
      "source": [
        "airline_df.head(2)"
      ],
      "metadata": {
        "id": "lzlqkYcamieS"
      },
      "execution_count": null,
      "outputs": []
    },
    {
      "cell_type": "code",
      "source": [
        "# Pair Plot visualization code\n",
        "fig = plt.figure(figsize=(15, 8))\n",
        "sns.pairplot(airline_df)\n",
        "plt.show()"
      ],
      "metadata": {
        "id": "o58-TEIhveiU"
      },
      "execution_count": null,
      "outputs": []
    },
    {
      "cell_type": "markdown",
      "source": [
        "##### 1. Why did you pick the specific chart?"
      ],
      "metadata": {
        "id": "EXh0U9oCveiU"
      }
    },
    {
      "cell_type": "markdown",
      "source": [
        "to understand the best set of features to explain a relationship between two variables or to form the most separated clusters"
      ],
      "metadata": {
        "id": "eMmPjTByveiU"
      }
    },
    {
      "cell_type": "markdown",
      "source": [
        "##### 2. What is/are the insight(s) found from the chart?"
      ],
      "metadata": {
        "id": "22aHeOlLveiV"
      }
    },
    {
      "cell_type": "markdown",
      "source": [
        "In here the pairplot is not helpfull for analysis."
      ],
      "metadata": {
        "id": "uPQ8RGwHveiV"
      }
    },
    {
      "cell_type": "markdown",
      "source": [
        "## ***6. Feature Engineering & Data Pre-processing***"
      ],
      "metadata": {
        "id": "yLjJCtPM0KBk"
      }
    },
    {
      "cell_type": "markdown",
      "source": [
        "### 1.Checking multicollinearity between variables"
      ],
      "metadata": {
        "id": "xiyOF9F70UgQ"
      }
    },
    {
      "cell_type": "code",
      "source": [
        "airline_df.head(2)"
      ],
      "metadata": {
        "id": "CrA0BAJbiDme"
      },
      "execution_count": null,
      "outputs": []
    },
    {
      "cell_type": "code",
      "source": [
        "#drop object value column\n",
        "airline_df_num=airline_df.drop(['airline','traveller_type','cabin'],axis=1)"
      ],
      "metadata": {
        "id": "rSRS-nkqiIKy"
      },
      "execution_count": null,
      "outputs": []
    },
    {
      "cell_type": "code",
      "source": [
        "airline_df_num.head(2)"
      ],
      "metadata": {
        "id": "efYF-dYsiIOS"
      },
      "execution_count": null,
      "outputs": []
    },
    {
      "cell_type": "code",
      "source": [
        "# calculating VIF for each feature\n",
        "vif_data = pd.DataFrame()\n",
        "vif_data[\"feature\"] = airline_df_num.columns\n",
        "vif_data[\"VIF\"] = [variance_inflation_factor(airline_df_num.values, i) for i in range (len(airline_df_num.columns))]\n",
        "  \n",
        "print(vif_data)"
      ],
      "metadata": {
        "id": "iRsAHk1K0fpS"
      },
      "execution_count": null,
      "outputs": []
    },
    {
      "cell_type": "markdown",
      "source": [
        "#### What multicollinearity techniques have you used and why did you use those techniques?"
      ],
      "metadata": {
        "id": "7wuGOrhz0itI"
      }
    },
    {
      "cell_type": "markdown",
      "source": [
        "Here I use VIF for detect multicollinearity betwwn variable.\n",
        "\n",
        "The variance inflation factor (VIF) directly measures the ratio of the variance of the entire model to the variance of a model with only the feature in question.\n",
        "\n",
        "In layman’s terms, it gauges how much a feature’s inclusion contributes to the overall variance of the coefficients of the features in the model.\n",
        "\n",
        "A VIF of 1 indicates that the feature has no correlation with any of the other features.\n",
        "\n",
        "Typically, a VIF value exceeding 5 or 10 is deemed to be too high. Any feature with such VIF values is likely to be contributing to multicollinearity."
      ],
      "metadata": {
        "id": "Wk2LJS2BlryG"
      }
    },
    {
      "cell_type": "markdown",
      "source": [
        "### 2. Feature  Selection"
      ],
      "metadata": {
        "id": "-oLEiFgy-5Pf"
      }
    },
    {
      "cell_type": "code",
      "source": [
        "# Drop overall column\n",
        "airline_df.drop([\"overall\"], axis = 1, inplace = True)"
      ],
      "metadata": {
        "id": "BYSYFy5HoQfT"
      },
      "execution_count": null,
      "outputs": []
    },
    {
      "cell_type": "code",
      "source": [
        "# Drop airline column\n",
        "airline_df.drop([\"airline\"], axis = 1, inplace = True)"
      ],
      "metadata": {
        "id": "YLhe8UmaBCEE"
      },
      "execution_count": null,
      "outputs": []
    },
    {
      "cell_type": "markdown",
      "source": [
        "##### What all feature selection methods have you used  and why?"
      ],
      "metadata": {
        "id": "pEMng2IbBLp7"
      }
    },
    {
      "cell_type": "markdown",
      "source": [
        "* Here we Drop overall column as it has highest correlation value than others.\n",
        "\n",
        "\n",
        "* Here we are dropping airline column from our data as it is no usecase further"
      ],
      "metadata": {
        "id": "rb2Lh6Z8BgGs"
      }
    },
    {
      "cell_type": "markdown",
      "source": [
        "### 3. Handling Outliers"
      ],
      "metadata": {
        "id": "id1riN9m0vUs"
      }
    },
    {
      "cell_type": "code",
      "source": [
        "airline_df.info()"
      ],
      "metadata": {
        "id": "z-Cvx6oJpIWc"
      },
      "execution_count": null,
      "outputs": []
    },
    {
      "cell_type": "code",
      "source": [
        "# Handling Outliers & Outlier treatments\n",
        "# draw boxplot of numeric values of the dataset\n",
        "plt.figure(figsize=(18, 18))\n",
        "for i, col in enumerate(airline_df.select_dtypes(include=[\"float\",'int']).columns):\n",
        "    ax = plt.subplot(3,3, i+1)\n",
        "    sns.boxplot(data=airline_df, x=col, ax=ax,color='r')\n",
        "plt.suptitle('Box Plot of continuous variables')\n",
        "plt.tight_layout()"
      ],
      "metadata": {
        "id": "M6w2CzZf04JK"
      },
      "execution_count": null,
      "outputs": []
    },
    {
      "cell_type": "markdown",
      "source": [
        "##### What all outlier treatment techniques have you used and why did you use those techniques?"
      ],
      "metadata": {
        "id": "578E2V7j08f6"
      }
    },
    {
      "cell_type": "markdown",
      "source": [
        "As we can see above there are no outliers presents"
      ],
      "metadata": {
        "id": "uGZz5OrT1HH-"
      }
    },
    {
      "cell_type": "markdown",
      "source": [
        "### 4. Categorical Encoding"
      ],
      "metadata": {
        "id": "89xtkJwZ18nB"
      }
    },
    {
      "cell_type": "code",
      "source": [
        "# Encode your categorical columns\n",
        "categorical_features=list(airline_df.select_dtypes(['object']).columns)\n",
        "categorical_features=pd.Index(categorical_features)\n",
        "categorical_features"
      ],
      "metadata": {
        "id": "21JmIYMG2hEo"
      },
      "execution_count": null,
      "outputs": []
    },
    {
      "cell_type": "code",
      "source": [
        "#separating the dependent and independent variables\n",
        "y = airline_df['recommended']\n",
        "x = airline_df.drop(columns = 'recommended')"
      ],
      "metadata": {
        "id": "NJBBRfmmsQsg"
      },
      "execution_count": null,
      "outputs": []
    },
    {
      "cell_type": "code",
      "source": [
        "x.columns"
      ],
      "metadata": {
        "id": "RqjlkE6QsXDQ"
      },
      "execution_count": null,
      "outputs": []
    },
    {
      "cell_type": "code",
      "source": [
        "def one_hot_encoding(data, column):\n",
        "    data = pd.concat([data, pd.get_dummies(data[column], prefix=column, drop_first=True)], axis=1)\n",
        "    data = data.drop([column], axis=1)\n",
        "    return data\n",
        "\n",
        "for col in categorical_features:\n",
        "    x = one_hot_encoding(x, col)\n",
        "x.head()  "
      ],
      "metadata": {
        "id": "kN1wUa2HqxuW"
      },
      "execution_count": null,
      "outputs": []
    },
    {
      "cell_type": "code",
      "source": [
        "x.shape"
      ],
      "metadata": {
        "id": "mxI-H60PqxxK"
      },
      "execution_count": null,
      "outputs": []
    },
    {
      "cell_type": "code",
      "source": [
        "print(\"The Percentage of No labels of Target Variable is\",np.round(y.value_counts()[0]/len(y)*100))\n",
        "print(\"The Percentage of Yes labels of Target Variable is\",np.round(y.value_counts()[1]/len(y)*100))"
      ],
      "metadata": {
        "id": "-dlHbVyJtaOU"
      },
      "execution_count": null,
      "outputs": []
    },
    {
      "cell_type": "markdown",
      "source": [
        "**The Percentage of both labels('yes','no) is approximately equal. So no need of Handling Class Imbalance technique**"
      ],
      "metadata": {
        "id": "l8xTsvYEtfv2"
      }
    },
    {
      "cell_type": "markdown",
      "source": [
        "#### What all categorical encoding techniques have you used & why did you use those techniques?"
      ],
      "metadata": {
        "id": "67NQN5KX2AMe"
      }
    },
    {
      "cell_type": "markdown",
      "source": [
        "***In here I used OdinalEncoder on the dataset***\n",
        "\n",
        "* OdinalEncoder is used when the variables in the data are ordinal, ordinal encoding converts each label into integer values and the encoded data represents the sequence of labels.\n",
        "\n",
        "* In One-Hot Encoding, each category of any categorical variable gets a new variable. It maps each category with binary numbers (0 or 1). This type of encoding is used when the data is nominal. Newly created binary features can be considered dummy variables. After one hot encoding, the number of dummy variables depends on the number of categories presented in the data."
      ],
      "metadata": {
        "id": "UDaue5h32n_G"
      }
    },
    {
      "cell_type": "markdown",
      "source": [
        "### 5. Data Splitting"
      ],
      "metadata": {
        "id": "BhH2vgX9EjGr"
      }
    },
    {
      "cell_type": "code",
      "source": [
        "# Split your data to train and test. Choose Splitting ratio wisely.\n",
        "#train and test split\n",
        "x_train, x_test, y_train, y_test = train_test_split( x,y , test_size = 0.2, random_state = 42)"
      ],
      "metadata": {
        "id": "0CTyd2UwEyNM"
      },
      "execution_count": null,
      "outputs": []
    },
    {
      "cell_type": "code",
      "source": [
        "#shape of y_train and y_test data\n",
        "print(y_train.shape)\n",
        "print(y_test.shape)"
      ],
      "metadata": {
        "id": "zdlFU5kzt7MK"
      },
      "execution_count": null,
      "outputs": []
    },
    {
      "cell_type": "code",
      "source": [
        "#shape of x_train and x_test data\n",
        "print(x_train.shape)\n",
        "print(x_test.shape)"
      ],
      "metadata": {
        "id": "VBV_keNAt7Ir"
      },
      "execution_count": null,
      "outputs": []
    },
    {
      "cell_type": "markdown",
      "source": [
        "##### What data splitting ratio have you used and why? "
      ],
      "metadata": {
        "id": "qjKvONjwE8ra"
      }
    },
    {
      "cell_type": "markdown",
      "source": [
        "The foregoing data splitting methods can be implemented once we specify a splitting ratio. A commonly used ratio is 80:20, which means 80% of the data is for training and 20% for testing which I did in here. Other ratios such as 70:30, 60:40, and even 50:50 are also used in practice. There does not seem to be clear guidance on what ratio is best or optimal for a given dataset. The 80:20 split draws its justification from the well-known Pareto principle, but that is again just a thumb rule used by practitioners."
      ],
      "metadata": {
        "id": "Y2lJ8cobFDb_"
      }
    },
    {
      "cell_type": "markdown",
      "source": [
        "## ***7. ML Model Implementation***"
      ],
      "metadata": {
        "id": "VfCC591jGiD4"
      }
    },
    {
      "cell_type": "markdown",
      "source": [
        "### ML Model - 1 Fitting Logistic Regression"
      ],
      "metadata": {
        "id": "OB4l2ZhMeS1U"
      }
    },
    {
      "cell_type": "markdown",
      "source": [
        "![Inked46-4.jpg](data:image/jpeg;base64,/9j/4AAQSkZJRgABAQEAAAAAAAD/4RCyRXhpZgAATU0AKgAAAAgAAodpAAQAAAABAAAIMuocAAcAAAgMAAAAJgAAAAAc6gAAAAgAAAAAAAAAAAAAAAAAAAAAAAAAAAAAAAAAAAAAAAAAAAAAAAAAAAAAAAAAAAAAAAAAAAAAAAAAAAAAAAAAAAAAAAAAAAAAAAAAAAAAAAAAAAAAAAAAAAAAAAAAAAAAAAAAAAAAAAAAAAAAAAAAAAAAAAAAAAAAAAAAAAAAAAAAAAAAAAAAAAAAAAAAAAAAAAAAAAAAAAAAAAAAAAAAAAAAAAAAAAAAAAAAAAAAAAAAAAAAAAAAAAAAAAAAAAAAAAAAAAAAAAAAAAAAAAAAAAAAAAAAAAAAAAAAAAAAAAAAAAAAAAAAAAAAAAAAAAAAAAAAAAAAAAAAAAAAAAAAAAAAAAAAAAAAAAAAAAAAAAAAAAAAAAAAAAAAAAAAAAAAAAAAAAAAAAAAAAAAAAAAAAAAAAAAAAAAAAAAAAAAAAAAAAAAAAAAAAAAAAAAAAAAAAAAAAAAAAAAAAAAAAAAAAAAAAAAAAAAAAAAAAAAAAAAAAAAAAAAAAAAAAAAAAAAAAAAAAAAAAAAAAAAAAAAAAAAAAAAAAAAAAAAAAAAAAAAAAAAAAAAAAAAAAAAAAAAAAAAAAAAAAAAAAAAAAAAAAAAAAAAAAAAAAAAAAAAAAAAAAAAAAAAAAAAAAAAAAAAAAAAAAAAAAAAAAAAAAAAAAAAAAAAAAAAAAAAAAAAAAAAAAAAAAAAAAAAAAAAAAAAAAAAAAAAAAAAAAAAAAAAAAAAAAAAAAAAAAAAAAAAAAAAAAAAAAAAAAAAAAAAAAAAAAAAAAAAAAAAAAAAAAAAAAAAAAAAAAAAAAAAAAAAAAAAAAAAAAAAAAAAAAAAAAAAAAAAAAAAAAAAAAAAAAAAAAAAAAAAAAAAAAAAAAAAAAAAAAAAAAAAAAAAAAAAAAAAAAAAAAAAAAAAAAAAAAAAAAAAAAAAAAAAAAAAAAAAAAAAAAAAAAAAAAAAAAAAAAAAAAAAAAAAAAAAAAAAAAAAAAAAAAAAAAAAAAAAAAAAAAAAAAAAAAAAAAAAAAAAAAAAAAAAAAAAAAAAAAAAAAAAAAAAAAAAAAAAAAAAAAAAAAAAAAAAAAAAAAAAAAAAAAAAAAAAAAAAAAAAAAAAAAAAAAAAAAAAAAAAAAAAAAAAAAAAAAAAAAAAAAAAAAAAAAAAAAAAAAAAAAAAAAAAAAAAAAAAAAAAAAAAAAAAAAAAAAAAAAAAAAAAAAAAAAAAAAAAAAAAAAAAAAAAAAAAAAAAAAAAAAAAAAAAAAAAAAAAAAAAAAAAAAAAAAAAAAAAAAAAAAAAAAAAAAAAAAAAAAAAAAAAAAAAAAAAAAAAAAAAAAAAAAAAAAAAAAAAAAAAAAAAAAAAAAAAAAAAAAAAAAAAAAAAAAAAAAAAAAAAAAAAAAAAAAAAAAAAAAAAAAAAAAAAAAAAAAAAAAAAAAAAAAAAAAAAAAAAAAAAAAAAAAAAAAAAAAAAAAAAAAAAAAAAAAAAAAAAAAAAAAAAAAAAAAAAAAAAAAAAAAAAAAAAAAAAAAAAAAAAAAAAAAAAAAAAAAAAAAAAAAAAAAAAAAAAAAAAAAAAAAAAAAAAAAAAAAAAAAAAAAAAAAAAAAAAAAAAAAAAAAAAAAAAAAAAAAAAAAAAAAAAAAAAAAAAAAAAAAAAAAAAAAAAAAAAAAAAAAAAAAAAAAAAAAAAAAAAAAAAAAAAAAAAAAAAAAAAAAAAAAAAAAAAAAAAAAAAAAAAAAAAAAAAAAAAAAAAAAAAAAAAAAAAAAAAAAAAAAAAAAAAAAAAAAAAAAAAAAAAAAAAAAAAAAAAAAAAAAAAAAAAAAAAAAAAAAAAAAAAAAAAAAAAAAAAAAAAAAAAAAAAAAAAAAAAAAAAAAAAAAAAAAAAAAAAAAAAAAAAAAAAAAAAAAAAAAAAAAAAAAAAAAAAAAAAAAAAAAAAAAAAAAAAAAAAAAAAAAAAAAAAAAAAAAAAAAAAAAAAAAAAAAAAAAAAAAAAAAAAAAAAAAAAAAAAAAAAAAAAAAAAAAAAAAAAAAAAAAAAAAAAAAAAAAAAAAAAAAAAAAAAAAAAAAAAAAAAAAAAAAAAAAAAAAAAAAAAAAAAAAAAAAAAAAAAAAAAAAAAAAAAAAAAAAAAAAAAAAAAAAAAAAAAAAAAAAAAAAAAAAAAAAAAAAAAAAAAAAAAAAAAAAAAAAAAAAAAAAAAAAAAAAAAAAAAAAAAAAAAAAAAAAAAAAAAAAAAAAAAAAAAAAAAAAAAAAAAAAAAAAAAAAAAAAAAAAAAAAAAAAAAAAAAAAAAAAAAAAAAAAAAAAAAAAAAAAAAAAAAAAAAAAAAAAAAAAAAAAAAAAAAAAAAAAAAAAAAAAAAAAAAAAAAAAAAAAAAAAAAAAAAAAAAAAAAAAAAAAAAAAAAAAAAAAAAAAAAAAAAAAAAAAAAAAAAAAAAAAAAAAAAAAAAAAAAAAAAAAAAAAAAAAAAAAAAAAAAAAAAAAAAAAAAAAAAAAAAAAAAAAAAAAAAAAAAAAAAAAAAAAAAAAAAAAAAAAAAAAAAAAAAAAAAAAAAAAAAAAAAAAAAAAAAAAAAAAAAAAAAAAAAAAAAAAAAAAAAAAAAAAAAAAAAAAAAAAAAAAAAAAAAAAAAAAAAAAAAAAAAAAAAAAAAAAAAAAAAAAAAAAAAAAAAAAAAAAAAAAAAAAAAAAAAAAAAAAAAAAAAAAAAAAAAAAAAAAAAAAAAAAAAAAAAAAAAAAAAAAAAAAAAAAAAAAAAAAAAAAAAAAAFkAMAAgAAABQAABCAkAQAAgAAABQAABCUkpEAAgAAAAM5MQAAkpIAAgAAAAM5MQAA6hwABwAACAwAAAh0AAAAABzqAAAACAAAAAAAAAAAAAAAAAAAAAAAAAAAAAAAAAAAAAAAAAAAAAAAAAAAAAAAAAAAAAAAAAAAAAAAAAAAAAAAAAAAAAAAAAAAAAAAAAAAAAAAAAAAAAAAAAAAAAAAAAAAAAAAAAAAAAAAAAAAAAAAAAAAAAAAAAAAAAAAAAAAAAAAAAAAAAAAAAAAAAAAAAAAAAAAAAAAAAAAAAAAAAAAAAAAAAAAAAAAAAAAAAAAAAAAAAAAAAAAAAAAAAAAAAAAAAAAAAAAAAAAAAAAAAAAAAAAAAAAAAAAAAAAAAAAAAAAAAAAAAAAAAAAAAAAAAAAAAAAAAAAAAAAAAAAAAAAAAAAAAAAAAAAAAAAAAAAAAAAAAAAAAAAAAAAAAAAAAAAAAAAAAAAAAAAAAAAAAAAAAAAAAAAAAAAAAAAAAAAAAAAAAAAAAAAAAAAAAAAAAAAAAAAAAAAAAAAAAAAAAAAAAAAAAAAAAAAAAAAAAAAAAAAAAAAAAAAAAAAAAAAAAAAAAAAAAAAAAAAAAAAAAAAAAAAAAAAAAAAAAAAAAAAAAAAAAAAAAAAAAAAAAAAAAAAAAAAAAAAAAAAAAAAAAAAAAAAAAAAAAAAAAAAAAAAAAAAAAAAAAAAAAAAAAAAAAAAAAAAAAAAAAAAAAAAAAAAAAAAAAAAAAAAAAAAAAAAAAAAAAAAAAAAAAAAAAAAAAAAAAAAAAAAAAAAAAAAAAAAAAAAAAAAAAAAAAAAAAAAAAAAAAAAAAAAAAAAAAAAAAAAAAAAAAAAAAAAAAAAAAAAAAAAAAAAAAAAAAAAAAAAAAAAAAAAAAAAAAAAAAAAAAAAAAAAAAAAAAAAAAAAAAAAAAAAAAAAAAAAAAAAAAAAAAAAAAAAAAAAAAAAAAAAAAAAAAAAAAAAAAAAAAAAAAAAAAAAAAAAAAAAAAAAAAAAAAAAAAAAAAAAAAAAAAAAAAAAAAAAAAAAAAAAAAAAAAAAAAAAAAAAAAAAAAAAAAAAAAAAAAAAAAAAAAAAAAAAAAAAAAAAAAAAAAAAAAAAAAAAAAAAAAAAAAAAAAAAAAAAAAAAAAAAAAAAAAAAAAAAAAAAAAAAAAAAAAAAAAAAAAAAAAAAAAAAAAAAAAAAAAAAAAAAAAAAAAAAAAAAAAAAAAAAAAAAAAAAAAAAAAAAAAAAAAAAAAAAAAAAAAAAAAAAAAAAAAAAAAAAAAAAAAAAAAAAAAAAAAAAAAAAAAAAAAAAAAAAAAAAAAAAAAAAAAAAAAAAAAAAAAAAAAAAAAAAAAAAAAAAAAAAAAAAAAAAAAAAAAAAAAAAAAAAAAAAAAAAAAAAAAAAAAAAAAAAAAAAAAAAAAAAAAAAAAAAAAAAAAAAAAAAAAAAAAAAAAAAAAAAAAAAAAAAAAAAAAAAAAAAAAAAAAAAAAAAAAAAAAAAAAAAAAAAAAAAAAAAAAAAAAAAAAAAAAAAAAAAAAAAAAAAAAAAAAAAAAAAAAAAAAAAAAAAAAAAAAAAAAAAAAAAAAAAAAAAAAAAAAAAAAAAAAAAAAAAAAAAAAAAAAAAAAAAAAAAAAAAAAAAAAAAAAAAAAAAAAAAAAAAAAAAAAAAAAAAAAAAAAAAAAAAAAAAAAAAAAAAAAAAAAAAAAAAAAAAAAAAAAAAAAAAAAAAAAAAAAAAAAAAAAAAAAAAAAAAAAAAAAAAAAAAAAAAAAAAAAAAAAAAAAAAAAAAAAAAAAAAAAAAAAAAAAAAAAAAAAAAAAAAAAAAAAAAAAAAAAAAAAAAAAAAAAAAAAAAAAAAAAAAAAAAAAAAAAAAAAAAAAAAAAAAAAAAAAAAAAAAAAAAAAAAAAAAAAAAAAAAAAAAAAAAAAAAAAAAAAAAAAAAAAAAAAAAAAAAAAAAAAAAAAAAAAAAAAAAAAAAAAAAAAAAAAAAAAAAAAAAAAAAAAAAAAAAAAAAAAAAAAAAAAAAAAAAAAAAAAAAAAAAAAAAAAAAAAAAAAAAAAAAAAAAAAAAAAAAAAAAAAAAAAAAAAAAAAAAAAAAAAAAAAAAAAAAAAAAAAAAAAAAAAAAAAAAAAAAAAAAAAAAAAAAAAAAAAAAAAAAAAAAAAAAAAAAAAAAAAAAAAAAAAAAAAAAAAAAAAAAAAAAAAAAAAAAAAAAAAAAAAAAAAAAAAAAAAAAAAAAAAAAAAAAAAAAAAAAAAAAAAAAAAAAAAAAAAAAAAAAAAAAAAAAAAAAAAAAAAAAAAAAAAAAAAAAAAAAAAAAAAAAAAAAAAAAAAAAAAAAAAAAAAAAAAAAAAAAAAAAAAAAAAAAAAAAAAAAAAAAAAAAAAAAAAAAAAAAAAAAAAAAAAAAAAAAAAAAAAAAAAAAAAAAAAAAAAAAAAAAAAAAAAAAAAAAAAAAAAAAAAAAAAAAAAAAAAAAAAAAAAAAAAAAAAAAAAAAAAAAAAAAAAAAAAAAAAAAAAAAAAAAAAAAAAAAAAAAAAAAAAAAAAAAAAAAAAAAAAAAAAAAAAAAAAAAAAAAAAAAAAAAAAAAAAAAAAAAAAAAAAAAAAAAAAAAAAAAAAAAAAAAAAAAAAAAAAAAAAAAAAAAAAAAAAAAAAAAAAAAAAAAAAAAAAAAAAAAAAAAAAAAAAAAAAAAAAAAAAAAAAAAAAAAAAAAAAAAAAAAAAAAAAAAAAAAAAAAAAAAAAAAAAAAAAAAAAAAAAAAAAAAAAAAAAAAAAAAAAAAAAAAAAAAAAAAAAAAAAAAAAAAAAAAAAAAAAAAAAAAAAAAMjAyMzowNToxMyAxNzoxMDowOQAyMDIzOjA1OjEzIDE3OjEwOjA5AAAA/+EJoGh0dHA6Ly9ucy5hZG9iZS5jb20veGFwLzEuMC8APD94cGFja2V0IGJlZ2luPSfvu78nIGlkPSdXNU0wTXBDZWhpSHpyZVN6TlRjemtjOWQnPz4NCjx4OnhtcG1ldGEgeG1sbnM6eD0iYWRvYmU6bnM6bWV0YS8iPjxyZGY6UkRGIHhtbG5zOnJkZj0iaHR0cDovL3d3dy53My5vcmcvMTk5OS8wMi8yMi1yZGYtc3ludGF4LW5zIyI+PHJkZjpEZXNjcmlwdGlvbiByZGY6YWJvdXQ9InV1aWQ6ZmFmNWJkZDUtYmEzZC0xMWRhLWFkMzEtZDMzZDc1MTgyZjFiIiB4bWxuczp4bXA9Imh0dHA6Ly9ucy5hZG9iZS5jb20veGFwLzEuMC8iPjx4bXA6Q3JlYXRlRGF0ZT4yMDIzLTA1LTEzVDE3OjEwOjA5LjkwODwveG1wOkNyZWF0ZURhdGU+PC9yZGY6RGVzY3JpcHRpb24+PC9yZGY6UkRGPjwveDp4bXBtZXRhPg0KICAgICAgICAgICAgICAgICAgICAgICAgICAgICAgICAgICAgICAgICAgICAgICAgICAgICAgICAgICAgICAgICAgICAgICAgICAgICAgICAgICAgICAgICAgICAgICAgICAgIAogICAgICAgICAgICAgICAgICAgICAgICAgICAgICAgICAgICAgICAgICAgICAgICAgICAgICAgICAgICAgICAgICAgICAgICAgICAgICAgICAgICAgICAgICAgICAgICAgICAgCiAgICAgICAgICAgICAgICAgICAgICAgICAgICAgICAgICAgICAgICAgICAgICAgICAgICAgICAgICAgICAgICAgICAgICAgICAgICAgICAgICAgICAgICAgICAgICAgICAgICAKICAgICAgICAgICAgICAgICAgICAgICAgICAgICAgICAgICAgICAgICAgICAgICAgICAgICAgICAgICAgICAgICAgICAgICAgICAgICAgICAgICAgICAgICAgICAgICAgICAgIAogICAgICAgICAgICAgICAgICAgICAgICAgICAgICAgICAgICAgICAgICAgICAgICAgICAgICAgICAgICAgICAgICAgICAgICAgICAgICAgICAgICAgICAgICAgICAgICAgICAgCiAgICAgICAgICAgICAgICAgICAgICAgICAgICAgICAgICAgICAgICAgICAgICAgICAgICAgICAgICAgICAgICAgICAgICAgICAgICAgICAgICAgICAgICAgICAgICAgICAgICAKICAgICAgICAgICAgICAgICAgICAgICAgICAgICAgICAgICAgICAgICAgICAgICAgICAgICAgICAgICAgICAgICAgICAgICAgICAgICAgICAgICAgICAgICAgICAgICAgICAgIAogICAgICAgICAgICAgICAgICAgICAgICAgICAgICAgICAgICAgICAgICAgICAgICAgICAgICAgICAgICAgICAgICAgICAgICAgICAgICAgICAgICAgICAgICAgICAgICAgICAgCiAgICAgICAgICAgICAgICAgICAgICAgICAgICAgICAgICAgICAgICAgICAgICAgICAgICAgICAgICAgICAgICAgICAgICAgICAgICAgICAgICAgICAgICAgICAgICAgICAgICAKICAgICAgICAgICAgICAgICAgICAgICAgICAgICAgICAgICAgICAgICAgICAgICAgICAgICAgICAgICAgICAgICAgICAgICAgICAgICAgICAgICAgICAgICAgICAgICAgICAgIAogICAgICAgICAgICAgICAgICAgICAgICAgICAgICAgICAgICAgICAgICAgICAgICAgICAgICAgICAgICAgICAgICAgICAgICAgICAgICAgICAgICAgICAgICAgICAgICAgICAgCiAgICAgICAgICAgICAgICAgICAgICAgICAgICAgICAgICAgICAgICAgICAgICAgICAgICAgICAgICAgICAgICAgICAgICAgICAgICAgICAgICAgICAgICAgICAgICAgICAgICAKICAgICAgICAgICAgICAgICAgICAgICAgICAgICAgICAgICAgICAgICAgICAgICAgICAgICAgICAgICAgICAgICAgICAgICAgICAgICAgICAgICAgICAgICAgICAgICAgICAgIAogICAgICAgICAgICAgICAgICAgICAgICAgICAgICAgICAgICAgICAgICAgICAgICAgICAgICAgICAgICAgICAgICAgICAgICAgICAgICAgICAgICAgICAgICAgICAgICAgICAgCiAgICAgICAgICAgICAgICAgICAgICAgICAgICAgICAgICAgICAgICAgICAgICAgICAgICAgICAgICAgICAgICAgICAgICAgICAgICAgICAgICAgICAgICAgICAgICAgICAgICAKICAgICAgICAgICAgICAgICAgICAgICAgICAgICAgICAgICAgICAgICAgICAgICAgICAgICAgICAgICAgICAgICAgICAgICAgICAgICAgICAgICAgICAgICAgICAgICAgICAgIAogICAgICAgICAgICAgICAgICAgICAgICAgICAgICAgICAgICAgICAgICAgICAgICAgICAgICAgICAgICAgICAgICAgICAgICAgICAgICAgICAgICAgICAgICAgICAgICAgICAgCiAgICAgICAgICAgICAgICAgICAgICAgICAgICAgICAgICAgICAgICAgICAgICAgICAgICAgICAgICAgICAgICAgICAgICAgICAgICAgICAgICAgICAgICAgICAgICAgICAgICAKICAgICAgICAgICAgICAgICAgICAgICAgICAgICAgICAgICAgICAgICAgICAgICAgICAgICAgICAgICAgICAgICAgICAgICAgICAgICAgICAgICAgICAgICAgICAgICAgICAgIAogICAgICAgICAgICAgICAgICAgICAgICAgICAgICAgICAgICAgICAgICAgICAgICAgICAgICAgICAgICAgICAgICAgICAgICAgICAgICAgICAgICAgICAgICAgICAgICAgICAgCiAgICAgICAgICAgICAgICAgICAgICAgICAgICA8P3hwYWNrZXQgZW5kPSd3Jz8+/9sAQwACAQEBAQECAQEBAgICAgIEAwICAgIFBAQDBAYFBgYGBQYGBgcJCAYHCQcGBggLCAkKCgoKCgYICwwLCgwJCgoK/9sAQwECAgICAgIFAwMFCgcGBwoKCgoKCgoKCgoKCgoKCgoKCgoKCgoKCgoKCgoKCgoKCgoKCgoKCgoKCgoKCgoKCgoK/8AAEQgCDALQAwEiAAIRAQMRAf/EAB8AAAEFAQEBAQEBAAAAAAAAAAABAgMEBQYHCAkKC//EALUQAAIBAwMCBAMFBQQEAAABfQECAwAEEQUSITFBBhNRYQcicRQygZGhCCNCscEVUtHwJDNicoIJChYXGBkaJSYnKCkqNDU2Nzg5OkNERUZHSElKU1RVVldYWVpjZGVmZ2hpanN0dXZ3eHl6g4SFhoeIiYqSk5SVlpeYmZqio6Slpqeoqaqys7S1tre4ubrCw8TFxsfIycrS09TV1tfY2drh4uPk5ebn6Onq8fLz9PX29/j5+v/EAB8BAAMBAQEBAQEBAQEAAAAAAAABAgMEBQYHCAkKC//EALURAAIBAgQEAwQHBQQEAAECdwABAgMRBAUhMQYSQVEHYXETIjKBCBRCkaGxwQkjM1LwFWJy0QoWJDThJfEXGBkaJicoKSo1Njc4OTpDREVGR0hJSlNUVVZXWFlaY2RlZmdoaWpzdHV2d3h5eoKDhIWGh4iJipKTlJWWl5iZmqKjpKWmp6ipqrKztLW2t7i5usLDxMXGx8jJytLT1NXW19jZ2uLj5OXm5+jp6vLz9PX29/j5+v/aAAwDAQACEQMRAD8A/fyiiigAooooAKKKKACiiigAooooAKKKKACiiigAooooAKKKKACiiigAooooAKKKKACiiigAooooAKKKKACiiigAooooAKKKKACiiigAooooAKKKKACiiigAooooAKKKKACiiigAooooAKKKKACiiigAooooAKKKKACiiigAooooAKKKKACiiigAooooAKKKKACiiigAooooAKKKKACiiigAooooAKKKKACiiigAooooAKKKKACiiigAooooAKKKKACiiigAooooAKKKKACiiigAooooAKKKKACiiigAooooAKKKKACiiigAooooAKKKKACiiigAooooAKKKKACiiigAooooAKKKKACiiigAooooAKKKKACiiigAooooAKKKKACiiigAooooAKKKKACiiigAooooAKKKKACiiigAooooAKKjuby0s08y7uo4l/vSOFHUDv7kD6kVJRfoAUUUUAFFFFABRRRQAUUUUAFFFFAAc9hQC3cUUUAFFFFABRUc1rbXEkUs9vG7QSb4WZQTG20ruX0O1mGR2YjuakoAKKKKACiiigAooooAKKKKACiiigAooooAKKKKACiiigAooooAKKKKACiiigAooooAKKKKACiiigAooooAKKKKACiiigAorx39pj/goN+xL+xr4j0Pwj+1P+094P8AAmp+JMto1j4i1ZIJJ4wxUykH/VxBgVMr7UBGN2eK9etbq2vbaO8s7iOaGaMPDNEwZXUjIYEcEEd6AJKKKKACiivGfjt/wUQ/Yb/Zh+LGh/Av9oP9qfwX4Q8XeIo45dI0HXNaSGeWOR2SORgeIkd0dVeQqrMpAJIxQB7NRRRQAUUUUAFFFFABRRRQAUUUUAFFFFABRRRQAUUUUAFFFFABRRRQAUV4z8Nv+CiH7Dfxh/aD1b9lP4X/ALU/gvXPiLoclxFqXhHT9aSS7jkgLCeNR0keIo3mIhZo9p3BcGvZqACiiigAooooAKKKKACiiigAooooAbNDDcJ5c8KyKGVgrrkBgQQfqCAR6EU6iigAooooAKKKKACiiigAooooAKKKKACiiigAooooAKCcDJoooAKKKKACiiigAooooAKKKKACiiigAooooAKKKKACiiigAooooAKKKKACiiigAooooAKKKKAPEP8Agpp4s8VeAv8Agm7+0F468C+JdQ0XW9F+CHiy/wBH1jSbx7a6sLqHR7qSKeGWMh4pUdVZXUhlZQQQQDX5Zf8ABmz+1h+1N+1B/wANHf8ADS37SvxA+In9h/8ACIf2L/wnXjK+1b+z/O/tvzvI+1SyeV5nlRbtuN3lpnO0Y/T3/grB/wAos/2lv+yAeMv/AEyXlfkF/wAGM3/N0X/ck/8AueoA/fyvEv2zP+Cjn7EX/BPnw9a+Iv2wP2itB8GLqCM+l6bdNJcahfKpAZoLO3SS4mVSQGdYyqlhkjIr22v5Z/8Agmf8G/DP/Bwt/wAF2fiJ4t/bq1XXdY8M2uj6z4obwzcahNaSHTre/trOx0cNEUkt4oVvY8iMo58lstudmIB+737JH/Bd3/glN+278QYfhL8Af2uNJufFF1Isen6D4g0u90e4v3bOEtvt0MS3Lnaf3cTM4xkqARn61vr6y0yym1LUruK3t7eJpbi4nkCJEijLMzHgAAEkngCv59P+DoH/AIIn/sW/sVfsueGf22v2KPh+nw51jSvGtnpGuaTpWrXJtr2GeKVoriJJWcxXEUsCY8to1ZHkZssq1S/4KV/8FQf2mPjL/wAGtfwI8ban4j1SHXvit4mk8H/ELxAJm83VLPTH1CJ98qbfmuzYwPKMEOPPjO4FiQD9NvH/APwcn/8ABFT4cfEH/hW+tftv6Re3azCKbUPD/h/U9T0+Ni23P2y1tpIHXP8AEjsoHJIHNd3qn/Bbz/gllpfxv8C/s6L+11pN/wCLPiY2ljwNZ6JoepahbaqdRuPs1mEvLW2ktU3zZjO+VfLYHzNmDj4N/wCCFP8Awb0f8Exfil/wTe8B/tF/tH/B+2+J3iz4laC2pajqGpaxdx2+mxySuq2dtHbzIsbRqoV5DmXzQ+GQYRfzb+M37DPwn/4J1/8ABzn8Jf2Y/gd4gub3wrY/HzwBqOj219cCa402K81KwuPscj9X8suVVm+cx+WWLMSxAP0r/wCDkL9lP/git8Uf2q/h/wDEb/gov+3H4w+D/jKbwetpDZ+HfCV/qses6NDdzspBgsrhLaVZZpgHJOQeY2wDX6n/ABH+Lf7N37C3wBtfEnxk+J+i+B/AvhTTbXTbfVPEWpiOOOONFihiDOd0shCgBRudj0BNfz//APB7f/yeP8Gf+yZ3P/pwlr6L/wCDy79k/wDa/wDjr4E+EHxV+CvgTxB4q8C+DTrCeKtM8O2ct02nXU/2Yw3s0EQLNGY4pU83BEWGBK+byAfX3h3/AIOhf+CIHiXxLH4Ztf2zDbNPL5cN9qPgPXLe2Zs4BMklkBGD/efaB3Iqr/wWl/4LUfDP9i79gl/jP+yd+0P8P9T+InibT9L1b4aafdzpfw67pkuoRQ3FzAiOBMixGY5DfKU56Yr8q/gz/wAFJf8Ag1j+L/w1034PftH/APBJ3WfhvNPpsdvfeINDhOoCzkVADJ/aFtcxX8h3ZO7yWLYG5Tkivrn/AIOPP2Qv+Cf3xY/4IwaP+3L8BdBsdV/4V94P8NaH8H/EWh6tPHY22hTalawCJLdGWJ/3UjL+8j3IePlK4AB79/wRG/4Lt/CX9tn9m/wfpX7XH7Sfw90/45+KPE17p0HgnTGFpcTqLhktVjtizNl4wGzk568CvAf+C4P7FP8AwRF+Pn/BU7wVJ+2/+274y8A/EzxLo+i2s/gDRfC1/eW/iC1e6mtrMrdw2Usdm8jq0LEyYCxhtsZJkbF/4Ncf+CSn7CfxV/Y2+Gv/AAUQ8b/Ce8uvixofjbU59N8RJ4lvo44ntbt44CbZJhA21RjlDnvk18+/8HKH/Kxv+z//ANgfwP8A+pFeUAf0ReO/H/w2+CPw9vvH/wATPGek+GfDPh+x87Uta1zUEtrWyt0H35JZWCqAO5P618U3P/Bzd/wRHtfHv/CvpP217Vp/tgtjqUfg7WXsBIW2/wDHyLMx7M/8tc+WByW2gmvzS/4PH/2lfjD8Q/2vvhL/AME6vDHiKbTPCs3huz1+8t5rpo7XUdTvr+5s4XnCqSyW6W2Vb5sGeTC5UE/fNt/wamf8Ei4v2W2+AUnwe1BvE0mkiOT4pf29dnWBqHkhPtqqZfIA3Dd9n8vyOSNmSWoA/Q/4efEXwF8W/A+l/Ez4W+M9L8ReHdbs0u9H1zRb5Lm1vYGHyyRyxkq6n1Brlv2uNb1nw1+yj8TvEXh3VrrT9Q0/4e61c2N9ZXDRTW0yWMzJJG6kMjqwDBgQQQCOa82/4Jgf8E1/hH/wSu/Zmh/Zm+DvjzxX4isG1SbU77UfFWpCZnupVUSeTEirFbRHYCI0XrlmZ3LOe/8A20/+TOPi1/2TPXv/AE3z0AfzE/8ABKrwR/wXr/4K+ar420f9mv8A4KzfELQ5PAdvp82sN45+PHim2WZbtrhYxD9lW43EG2fduC4yuM5OPev2kf2gP+Dlb/g3113wb8Sf2nf2nbH4seAdX1L+zlbVNem8QabfTKhkNnNPeQw38EzRo7rICu7Yx3NtZa+df+Ddr/gs7+z3/wAEffEXxY1j49/DTxl4jj8fWWjQ6WvhC3tJGgaze8aQy/aJ4sA/aU27d33WzjjPqv8AwWe/4Lb6z/wX00r4e/sGfsN/sj+NHWPxpHrkMOoJFcarqd+lrcW0caW9sZEhhjjup3eRpSMYLbFjLEA/or/Yw/as8Dftp/sl+A/2tvA9u1jpHjbwzDqv2O4mVmsJCCJ7d3GAWhlWSNmGATGTxXzd8ZP+DkT/AIIv/Av4i3Hwv8Zftq6ZealYzeVfz+GPDup6xZwNnBH2qytpYZMc5EbuRgggHivgD/gsnpHxs/4I9/8ABtt8Fv8Agn/4T8RfYNZ8V6iugfEa/wBMuHZTFcpe6rqdnFLuB2SXUvlFsbZIBKpULJgfL3/BOL4zf8EF/g7+xro/gr9pn/gk78f/AIseOte00zeLvGyfD+2vLeSaQMNmmTDVImggRThJEWORiN7HONoB/Sf8Av2i/gR+1P8ADaz+MH7Ofxa0Hxp4ZvmZLfWPD+oJcQ+Yv3o22nMci/xRsAynqBXA/tnf8FKf2Gv+CfGjWur/ALX37RmheD5NQhaXTdKn8261C9RTgvDZ2ySTyKCQC4TaCcEivwl/4Nn/AIpeO/2d/wDgsp4i+BHwP+H3xU034D/FpNai0XT/AB54aa1msVtIJr/T57wq7xJcRwwS2pkSQiQzglRlRH5r+xp8B/D3/Bdn/g4a+JOj/t1+JNYuNDs73xBqcnh7+0HtZpbLT7tbW00eNg2+CONJELCMh9sMhBDMXAB+5Hwo/wCDg7/gkF8Zvh34p+Jvgr9sfTPsPgvTW1HxFZahoGpW2oQWiuiNPFZyWwuLpFLpuMCSbd3zY5x658Fv+Ckv7Fn7Q37JfiP9ub4PfGf+2PhZ4Ss9Uu/EHij/AIR3Urf7JDp8BnvG+zT26XL+XEC2EiYt0QMeK/KH/g48/wCCDn/BN79mz/gm74j/AGv/ANl74PRfDvxV4AvNIjWHSdVuZLbWra61GCyaCWK4ldfMX7V5wlTEh8raxZcbZ/8Agi7/AMqmH7Rn/YmfE7/0xvQB+geif8HAX/BH3xB8C9U/aQsP22NFj8JaTrH9lT3WoaDqlpdT3nlJKYbezntUursiORGYwROFDDcRX0N4Q/am+AXjH9mrS/2v7b4mabpvw31fwxB4ht/FfiCb+zraLTZollS4mNzs8hSjKT5m0jOCAeK/mv8A+DXn/gjH+y//AMFNdd+Jnxd/bD0S+17wr4FfTtP0nwvY6zPYpfXlyJpJJJ5bdkmCRxxIFVHXcZmJPyDPqn/B3j8XJf2eJfgP/wAEpvgeup+F/hL4T+HdtrTaFa3Ms8N1GtxNYWMLyzSNLcG1jspSFkfk3CszM20oAfqZYf8ABzJ/wRL1H4jf8Kzg/bZsVuvtjWo1S48KavFppkBIP+lvaCHy8g4lLeWRyHIIJ+3vCPjPwh4/8K2HjvwL4p07WtE1SzS60zWNKvUuLW7gcblljljJV0I5DKSCK/m91/4of8G5t9+yTN+zPov/AASC/aotdXGhNbWfxLPw3szr6X+0lb9rj+1vmbzTvMJXycfIIwgCjrv+Dd3VP29fil/wTL/a6/4J2+H9I8RaPqC/D+4vfhGdXtJ7Fre+1CC8hu7WGaXb5YldYGXbgRySySEgvkAH6lfH/wD4OMP+COP7NnxDvPhX8Qv2ydNvNc06V4tRt/C+g6jrENtIrFGje4s7eSHeGVgUDllI+YDIz7Z+xl/wUm/Yb/4KD6Vfap+x7+0ZofjRtLijl1TT7ZJ7W+s43JVHltbmOOeNSVIDMgBI61/Mb/wTg/aG/wCCeX/BNeTxb8Bf+Cw3/BJPxF4t8aTa4Lq11fWNNU3+n2flLGLQafftAiqJY5JBOkmZPOKniNSf2c/4JT+JP+CTfx//AGXv2hdO/wCCF1mnw7+InjTwrcDVNF1qCeG+0bUmsLiHTp9k8sg+zRzyswEMrwo5fG0tggHvf7Tv/BwL/wAEjP2RfiLefCT4w/tg6W3iTTbh4NU0vw3o9/rBsZUOHjmksoJY45Fb5WjZw6nIKjBx6P8AsV/8FV/+CfX/AAUNurnSP2Qv2m9D8WatZWLXt54f8m4sdSgtlkWN5jaXccU3lK7xqZAhQGRPm+dc/wAy3/BP/wCJf7Gn/BK7x940+EX/AAWX/wCCSviTxh4jvL1E0u81yzAn0yKHKyRRWd20cEyO2HFzHIdwwASpBr9uf+CC/wAaf+CEXxb+JfxA8Yf8ErvAU3gPx14l0WzuPGXgXXYZre8gsraRgJbeB55oUi8y5VZfsshj3eTuAJUsAeF/8Ey/2Hv+CHvhr/gt94q+IH7L/wC2z4y8YfF7wprniW+h+F+peF7+1tNCvPMntNQzey2Ucd2kJuZI418w5GGLTY3V+qn7Wf7bv7J37C3w9X4o/ta/HbQfA+jyM6WcmrTs1xeuq7mjtraJXnuXC87Ikdsdq/BP/ggz/wArSPx6/wCwx8RP/T1XB+KvB2p/8F2P+DnbxD+z5+094r1SPwD4V8a6/o0Ogx6k0bw6LoZuEFpb4X901zLAHlIwyieYhyyqaAP2o/Z1/wCDhz/gj1+1D8Q7X4VfDH9svSbfXdQuEg0208UaNf6LHeSuwVI4pr6CKJpGYhVj372JACkmvqL9oX9oL4Q/sq/BfxB+0L8e/F39g+D/AAtZi717WP7PuLr7LCXVN3lW8ckr/M6jCIx56YzX4vf8HHX/AAQT/wCCdX7Nf/BNrxB+15+yj8GY/h94l+Hd3pEc0el6vdzW+r2VzqEFiYpY7iWQGVWu1lEww5EZDMwwBS+AX7W/xQ/a4/4M+/jBqPxg17UtY1vwHZ3vhFtc1Ylpr+2t7mwntmLkfvPLguooN5ySYDuJbcaAP0a1T/g4A/4JA6P8ArH9pfUP21NFi8K6pqFxZaSZND1NNRvpoGRZfJ05rYXjorSIDKIfLBPLjBx3v7EX/BWH/gn1/wAFFri+0r9kP9pHSvFGq6bb/aNQ0CazudP1GGEMFMv2a7iileMMygyIrICygtkivxC/4Nev+CHP7D3/AAUQ/Zy8d/tS/tneCL7xhFpvjqTwvoPhuPxBeadb25gsrW6luXeylilkdvtsaqC4VRE2Qxbjzr4/fsxeD/8AgjR/wc2fB/4e/se6nqGn+G9Q8aeFbjT9Nvr155LSw1a5Fje2Bmcl5UaNrgKzksFkUEsV3EA/qLooooAKKKKACiiigAooooAKKKKACiiigAooooAKKKKACiiigAooooAKKKKACiiigAooooAKKKKACiiigAooooAKKKKACiiigAooooAKKKKACiiigAooooAKKKKACiiigAooooA8X/4KR+BPGPxS/wCCdvx7+GXw88O3WseIPEXwX8U6Xoek2Ue6a9vLjSLqKGCMd3eR1UDuSK/nV/4Jc/D/AP4ONf8Agkb/AMJz/wAMvf8ABNDWL7/hYP8AZn9uf8Jh4LubvZ9h+1+T5Pk3UO3P2yXdndnC4xg5/qSooA/HP9iT/go9/wAHMnxO/a1+H/w+/at/4J2aR4Y+HGr+Jbe28ZeILf4f31u9hYsfnlEr38ipjj5ijAeleDftqf8ABHL/AIKl/wDBK7/gpJrH/BSz/gj54U/4TjQPEOpX1/ceF7O3S4utNF67SXem3FlvRryzaT5omgJkTCAhWiWV/wCgWigD+bj4+fCL/g4+/wCDibxF4O+D/wC05+ypD8Gvh74d1r7bdTat4PvvDun2s5QxG+kg1KeW8vJkieVI0iyv7xvuhmcfrT+0b/wRI/Zg+LX/AASI0n/glxd+JW0fQ/A+hQS+E/HF5aRNNper26yOdWkTKIfMea5aZQybo7mZQyZDD7erx39v79kj/hu39kHxx+yXJ8Xdc8Dw+NtLFjdeIfD8MUk8cXmK7xMkgw8MgXy5EDIXjd1DruzQB+IP7Pn/AAS3/wCDsT/gnNbn9mf9ir436G3w9vtQuJI9TsvEei3mlaeHOTMkOsQG5tfMJ3lbaI/OWY8ksfkXwp+yp8efg1/wcj/B/wCCHxn+Plt8VvijZ/GvwdrvxI8SWUk0kS6h9ptNSvIFmmAacQQDG/ag+XZsTYVH6H6L/wAG6f8AwXa+Bfh9fhV+zV/wXB1K28GuEtPsdz4k17TfsVmFfm1gie4WBwdg2xSR5BJL/IoP0f8A8Ec/+DbfwB/wTg+ON5+2L+0D8dbj4sfFyf7UdM1aTT2gtNJe5VlubhTLJJNc3civKpuHZPlmkXYSS5APln/g7U/4J5ftvftm/tTfCvxX+yv+zH4s8dabo/w/ntNUvvD+mmaO2na+kcRscjDbSDj0Ir7t/wCCz/xw/wCC13wO1/4e+Lv+CUn7Omi+PNBsYb+X4g2upRQXcl1IfLFtB9mNxBcbFCyuXgYszMqkqBh/vWigD+cH9t/4o/8ABdD/AILT/DD/AIZW8U/8EMLHwbqFxrVnNcePNZ+H17pd1ZvHIW3W1/qrRpAjEOJGVnJjdl/jyf0M1D/giB8UIf8Ag3Nb/gknD8Q9PvPH8OgnUYdSWdhp51r+1/7ZNojsoYW5mJtxKVBwfNKgkqP0yooA/n2/4I2fFz/g4I/4Jv3XhH/gnLqv/BLXVtS8Bx+PIb/WPE194cn3abpdzegaisWpR3A0+R8FpIwzMyjccOjIY+t/4L1f8E9v22v2iP8Agul8F/2hvgf+zL4s8UeCdA0vwjHrPibSNNMtraNba5dTzh2z1SJ1c+gYV+7lFAH5c/8AByR/wQv8cf8ABU7wT4b+O37NF/YR/FbwDp01jDo2pTJBD4i0x380WvnsMRTxyF2iLkRnzpAxXIdfif8A4eDf8HdWn/C1f2JT+wjrza4dHGkx/FBfhrePqSR7PK83+1RcnS/O2j/XFN2Tvzuw1f0PUUAfLf8AwR++FH/BRD4P/sXaL4a/4Ka/Gq38ZfEeS4eZdixSz6RYlVEVlc3cfF9cKQzPPzy+wPJs81/ZP2sPD2ueLv2WfiV4U8MaVNfalqnw/wBZtNPsbaMtJcTyWMyRxqB1ZmIAHcmvQKKAPwl/4NVv+CUvxq+BXiv42Tf8FBv2HJNLt9T0/QF8Kt8RPCcE6yPHJf8A2jyPOV9pAeHdjGcrnOKp/wDBYr/gjX+2H+xv/wAFD/Bn/BUX/gi58ILi6vbzVhc674L8I6UCmmaoqt5sptkKq1jeQlkljXaFcycjzl2/vNRQB8N/8FA/2Hov+C5//BLjTfh/4/8ABms/Cvx1cx2viDQtP8WabJHceG/EEMUkb21wuAZIGEk8JkTIZJFlUMQor80v2W/jz/wdAf8ABHX4WWv7E1r/AME7P+Ft+GdHmmsfA2sR6De65Hp5lkLxAXem3A/0FWZ22XCxtGGVPMhVVQf0I0UAfDf/AARV8e/8Fn/iT4V8b+NP+CtHw28N+GbfVtViu/Aem2axQalZRsmJbd7eBpFS2Xahj86Q3G5pN+5SpHwz/wAFOf8Ag3O/bD0L9vnU/wDgod/wRw+NGmaD4u1LVH1/VvCLa4um32lajc+Z509pKwMMlvcsJi0M5RdzSKC6HYn7lV+UX/BSj/g3s/a7/aZ/bV8Q/t4/sd/8FSvGHw18V+JLO2tLnTZJ7y0FjbwRLGlvbXmnTxvHbgLu8kxN87O5dmcmgD86P+Cr37Mf/BwX4s/4J569+0V/wWK/ao0vSvC3g/UtPXw58M/tGkm61zU572O1Tcmixrat5cElxcB5JZXCxMAilmZfsz/ghh8KfiH48/4NXvjH4B8F+FLvVNa8beF/iNaeFdLs4902pXE2mzWkUUa92edDGB3Ncrr3/Brl/wAFOP2z/GelXH/BTz/grfd+LPDml6iZU0vSrrUdVZYgWXNsl55NvaTSR7Q0gifaWbIlC/N+zX7Nn7O/wp/ZL+A/hX9m74H+Hf7L8K+DtIj07RrNpC7iNclpJHPLyO5aR3PLO7MetAH5e/8ABo9+xb+1b+xh8E/jL4d/aq+AviPwHfa54p0u50i38RWJha7iS2mV3T1AYgH0yPWvSv8Ag44/4If+Lv8Agq/8LfDPxN/Z61rTrL4qfD2K4h0yx1abybXX9PmZGezabnyZUdd8TsNhLyI+0OJE/TCigD8GfAn/AAU4/wCDsD4O/D+x/Zf17/gl3J4o8XafYR2lj8Q9S8F3l0skUYEfmXFza3YsJp++/egb7zI/JP6Lfsxaz/wWU0//AIJLaxd/tHeBPCeoftQW/hm/i8JWNtq1tGt3cGICyl1Bk22kdyrsWkSJ/JYRr86F2CfaFFAH4Qap/wAFX/8Ag5Y8H6PH8Ev2m/8AgiDZfEvUpEWCPVovhjqV9Zz7sLuuXsZZ7IkthmKtEgA6KBmtX/ggP/wSD/4KK/sf/Eb41f8ABSn4r/Azw74N8ceKPAWs2Hwy+DdveQ2FvNfXdyl6qTJEXj06zSW2ghiiLM6ozFlQRpv/AHKooA/B6P8A4Knf8HO3wR8O2vwY/aw/4I1x/Fy6WFIE1uz+HN7qH2pkGySS6k0mSexLPlTlEhX7xAIPy9D/AMG+H/BIj9u3wV/wUM8Xf8FS/wBsv4J6D8GrfWLPVI9F+G/h+0js1luL5kLmOyikk+x2ca79screYXCnbgb2/cCigD8I/wDgjf8A8E9v22vgd/wcPfGP9pn4ufsy+LPD/gHXtU8cSaP4s1LTTHZ3a3eq+bbFXz0kj+ZfUVN/wV7/AOCI/wC3/wDAD/go4n/BYD/gkXY/29rt1rp17W/CdmIBfadqbxGK6lihlKre210jSebGCZd08oAZWBT91qKAP5vf2mPEP/Bz1/wXW8Iad+x/8Vv2HF+F/g4a1DNr13eeDNQ8L2F1JCcpNdzapPLLPFGx8wJbKwZlUhHZVx+jHx1/4JT61+yN/wAG6Pjr/gnN+zbpOpePvFjeEG8xtNsMXOv6vcX0M9xJHECdq5yqKSSsUSAsxBY/pVRQB+Yv/BqD+yd+0j+xz/wTt8Z/DL9qL4M654H8QX3xp1HVLPSfEFp5M0tm+kaREk4GeUMkMqg+sbelfLv/AAWQ/wCCe37bXxx/4OHvg5+0z8I/2ZfFniDwDoOqeB5NY8Wabppks7RbTVfNuSz56Rx/M3oK/dyigAooooAKKKKACiiigAooooAKKKKACiiigAooooAKKKKACiiigAooooAKKKKACiiigAooooAKKKKACiiigAooooAKKKKACiiigAooooAKKKKACiiigAooooAKKKKACiiigArxf4T/ALc/wl+MfxA0/wCHHhjw74igvtS83yJb6zgWJfLieU7ik7N91DjAPOOnWvaK/Ov9hP8A5Oq8K/8Ab9/6Q3FfkviJxjnXDfFGQ4HBOKp4utyVLxu3Hnox0fR2nLX07H6Hwbw3lmd5Fm2KxSbnh6XNCzsr8tR6rrrFH6KUUUV+tH54FFFFABRRRQAUUUUAFFFFABRRRQAUUUUAFFFFABRRRQAUUUUAFFFFABRRRQAUUUUAFFFFABRRRQAUUUUAFFFFABRRRQAUUUUAFFFFABRRRQAUUUUAFFFFABRRRQAUUUUAFFFFABRRRQAUUUUAFFFFABRRRQAUUUUAFFFFABRRRQAUUUUAFFFFABRRRQAUUUUAFFFFABRRRQAUUUUAFFFFABRRRQAUUUUAFFFFABX51/sJ/wDJ1XhX/t+/9Ibiv0Ur86/2E/8Ak6rwr/2/f+kNxX89+MX/ACXXCn/YS/8A07hj9i8N/wDkleIP+vH/ALjrn6KUUUV/Qh+OhRRRQAUUUUAFFFFABRRRQAUUUUAFFFFABRRRQAUUUUAFFFFABRRRQAUUUUAFFFFABRRRQAUUUUAFFFFABRRRQAUUUUAFFFFABRRRQAUUUUAFFFFABRRRQAUUUUAFFFFABRRRQAUUUUAFFFFABRRRQAUUUUAFFFFABRRRQAUUUUAFFFFABRRRQAUUUUAFFFFABRRRQAUUUUAFFFFABRRRQAUUUUAFFFFABRRRQAV+df7Cf/J1XhX/ALfv/SG4r9FK/Ov9hP8A5Oq8K/8Ab9/6Q3Ffz34xf8l1wp/2Ev8A9O4Y/YvDf/kleIP+vH/uOufopRRRX9CH46FFFFABRRRQAUUUUAFFFFABRRRQAUUUUAFFFFABRRRQAUUUUAFFFFABRRRQAUUUUAFFFFABRRRQAUUUUAFFFFABRRRQAUUUUAFFFFABRRRQAUUUUAFFFFABRRRQAUUUUAFFFFABRRRQAUUUUAFFFFABRRRQAUUUUAFFFFABRRRQAUUUUAFFFFABRRRQAUUUUAFFFFABRRRQAUUUUAFFFFABRRRQAUUUUAFFfzcfG3/g5l/4OJP2Z9Fs/Ev7R/7CXh/4f6bqN0bbT9Q8bfBbxBpMN1MFLGKN7q7RXfaC20EnAJxiv3D/AOCU/wC1H8SP21f+Cefws/am+Ltnpdv4k8aeH2vtWh0S1eG0SQXEseI0d3ZV2oOCzHOeaAPoSvzr/YT/AOTqvCv/AG/f+kNxX6KV+df7Cf8AydV4V/7fv/SG4r+e/GL/AJLrhT/sJf8A6dwx+xeG/wDySvEH/Xj/ANx1z9FKKKK/oQ/HQooooAKKKKACiiigAooooAKKKKACiiigAooooAKKKKACiiigAooooAKKKKACiiigAooooAKKKKACiiigAooooAKKKKACiiigAooooAKKKKACiiigAooooAKKKKACiiigAooooAKKKKACiiigAooooAKKKKACiiigAooooAKKKKACiiigAooooAKKKKACiiigAooooAKKKKAPAv8AgqD+xR4f/wCChn7CHxG/ZO1mOJbvxJoLP4dvJePserQMJ7GbOQQq3Ece4ZG5C6nhiK/Hz/gzX/bG8R/Dv4lfFj/gl78XpZrC9huJfEnhfS77cslrfW7raaracsQGwLaQRqBgw3DHOeP6AK/mf/4LyfD3xt/wRZ/4LseC/wDgpZ8AfDVr/ZfjjUH8X2enMfKt7nUk/wBH1yyYquVFwlwJXcbiDqDHtigDs/8Ag5I+KvjP/gqP/wAFjfhJ/wAEkPgZrDyWfhTUrbTNWkgkYxRaxqPlTXlzIvCyLaWKRtkZZD9pUcllr+gn4OfCfwT8B/hL4Z+CXw10hbDw94R0G00fRLNf+WNrbQrDEvudqDJ6k81+Ef8AwaOfsyeNv2of2rPjN/wWC+PitfapPrF9peh3ki/u59a1F/tep3KbsspjhkiiXDEbb2RTkqCP6AKAPin/AILbf8EfP+HxvwV8HfB//hoj/hXP/CJ+KH1j+0f+ER/tf7Vutng8ry/tdts+/u3bm6Yx3r82f+IGf/rKH/5hP/79V+mX/BZ3/gl38T/+Cpfwe8IfDL4XftVXnwnuvDPiWTVLjV7PTZ7lr2Nrd4vIIhuYCBlg2SxHy9O4/Ov/AIhAP2vv+kzOvf8AhK6h/wDLagD7W/4Ic/8ABB//AIcx658SNZ/4ao/4WR/wsK10qDy/+EH/ALH+wfY2umzn7dc+bv8AtPTCbdn8WeP0Ir4F/wCCKf8AwRu+MX/BKjXPiJq/xV/bUv8A4uL42tdMhsYr7Sbi1/ss2rXJdh513cbvM89c4248sZzkY++qAPxU/wCD2z/kyv4O/wDZUZv/AE2z19wf8G9n/KGH9n//ALEx/wD0suK+H/8Ag9s/5Mr+Dv8A2VGb/wBNs9fcH/BvZ/yhh/Z//wCxMf8A9LLigD7Lr81/2SNcu/Dn7Qnh/WbGONpYfte1ZlJU5tJl5wR2PrX6UV+c/wCw9aWl/wDtReF7S+tY5om+27o5owyn/QpzyD71/Pvi/KMePeE3JXX1nX/wbhj9c8P4VKnBvEcKcuWTw7SfZunXs/kz7G/4Xd4r/wCgfp//AH5k/wDi6P8Ahd3iv/oH6f8A9+ZP/i69C/4RHwp/0LGn/wDgFH/hR/wiPhT/AKFjT/8AwCj/AMK/pf61l/8Az6P5x/sbiX/oN/Bnnv8Awu7xX/0D9P8A+/Mn/wAXR/wu7xX/ANA/T/8AvzJ/8XXoX/CI+FP+hY0//wAAo/8ACj/hEfCn/Qsaf/4BR/4UfWsv/wCfQf2NxL/0G/gzz3/hd3iv/oH6f/35k/8Ai6P+F3eK/wDoH6f/AN+ZP/i69C/4RHwp/wBCxp//AIBR/wCFH/CI+FP+hY0//wAAo/8ACj61l/8Az6D+xuJf+g38Gee/8Lu8V/8AQP0//vzJ/wDF0f8AC7vFf/QP0/8A78yf/F16F/wiPhT/AKFjT/8AwCj/AMKP+ER8Kf8AQsaf/wCAUf8AhR9ay/8A59B/Y3Ev/Qb+DPPf+F3eK/8AoH6f/wB+ZP8A4uj/AIXd4r/6B+n/APfmT/4uvQv+ER8Kf9Cxp/8A4BR/4Uf8Ij4U/wChY0//AMAo/wDCj61l/wDz6D+xuJf+g38Gee/8Lu8V/wDQP0//AL8yf/F0f8Lu8V/9A/T/APvzJ/8AF16F/wAIj4U/6FjT/wDwCj/wo/4RHwp/0LGn/wDgFH/hR9ay/wD59B/Y3Ev/AEG/gzz3/hd3iv8A6B+n/wDfmT/4uj/hd3iv/oH6f/35k/8Ai69C/wCER8Kf9Cxp/wD4BR/4Uf8ACI+FP+hY0/8A8Ao/8KPrWX/8+g/sbiX/AKDfwZ57/wALu8V/9A/T/wDvzJ/8XR/wu7xX/wBA/T/+/Mn/AMXXoX/CI+FP+hY0/wD8Ao/8KP8AhEfCn/Qsaf8A+AUf+FH1rL/+fQf2NxL/ANBv4M89/wCF3eK/+gfp/wD35k/+Lo/4Xd4r/wCgfp//AH5k/wDi69C/4RHwp/0LGn/+AUf+FH/CI+FP+hY0/wD8Ao/8KPrWX/8APoP7G4l/6DfwZ57/AMLu8V/9A/T/APvzJ/8AF0f8Lu8V/wDQP0//AL8yf/F16F/wiPhT/oWNP/8AAKP/AAo/4RHwp/0LGn/+AUf+FH1rL/8An0H9jcS/9Bv4M89/4Xd4r/6B+n/9+ZP/AIuj/hd3iv8A6B+n/wDfmT/4uvQv+ER8Kf8AQsaf/wCAUf8AhR/wiPhT/oWNP/8AAKP/AAo+tZf/AM+g/sbiX/oN/Bnnv/C7vFf/AED9P/78yf8AxdH/AAu7xX/0D9P/AO/Mn/xdehf8Ij4U/wChY0//AMAo/wDCj/hEfCn/AELGn/8AgFH/AIUfWsv/AOfQf2NxL/0G/gz+YeP/AIO5v+CpLftsL4vNvoP/AArs+KPsv/Cof+ETt8/YvO8vyvtW37Z9s2fxebs83/llt+Sv0a/4OMf+C1f7Xf8AwTp+CvgTR/2X7PR9J8RfEDU7+KTxfcaOt5/ZMNmkDFI4p98JmlNwu0yI6hYpPlJIZftBf+CMP/BLlf2of+Gyl/Yu8I/8LE/tL+0f7Y2z/Z/tu7d9r+w+Z9k8/f8AvPO8nfv+fdu+avRv2o/2Gf2Rv20/hfJ8Gv2n/gH4f8W+HZLlbmOzu7doZLeZQQJYZ4GSaCTDMu+N1bazDOCQeGNSlGnKLWr2fY+irYfGTxVGpCdoRvzK79660+56+Z+df/Buf/wWq/a6/wCCi3wR8daT+0/ZaPq3iL4f6pYxJ4vt9HWzGrQ3aTsEkig2QiaI27bjGiKUlj+UEFm/OOP/AIO5v+CpLftsL4vNvoP/AArs+KPsv/Cof+ETt8/YvO8vyvtW37Z9s2fxebs83/llt+Sv6Mv2Xf2Gv2R/2LfhdF8Gf2YPgJoHhPw7HctctZ2lu00k87ABpZp52eaeQhVXfI7NtVVzgADzdf8AgjD/AMEuV/ah/wCGyl/Yu8I/8LE/tL+0f7Y2z/Z/tu7d9r+w+Z9k8/f+887yd+/59275qJVKUqcUo6rd9wo4fGQxVapOd4Styxu/dstfvevkfF//AAcY/wDBav8Aa7/4J0/BXwJo/wCy/Z6PpPiL4ganfxSeL7jR1vP7Jhs0gYpHFPvhM0puF2mRHULFJ8pJDK7/AINz/wDgtV+11/wUW+CPjrSf2n7LR9W8RfD/AFSxiTxfb6OtmNWhu0nYJJFBshE0Rt23GNEUpLH8oILN+in7Uf7DP7I37afwvk+DX7T/AMA/D/i3w7Jcrcx2d3btDJbzKCBLDPAyTQSYZl3xurbWYZwSC79l39hr9kf9i34XRfBn9mD4CaB4T8Ox3LXLWdpbtNJPOwAaWaednmnkIVV3yOzbVVc4AA19th/rPPye72+X9M4/qOaf2T7D2372/wAeve+3pp+J/ObH/wAHc3/BUlv22F8Xm30H/hXZ8UfZf+FQ/wDCJ2+fsXneX5X2rb9s+2bP4vN2eb/yy2/JX6Nf8HGP/Bav9rv/AIJ0/BXwJo/7L9no+k+IviBqd/FJ4vuNHW8/smGzSBikcU++EzSm4XaZEdQsUnykkMv2gv8AwRh/4Jcr+1D/AMNlL+xd4R/4WJ/aX9o/2xtn+z/bd277X9h8z7J5+/8Aeed5O/f8+7d81ejftR/sM/sjftp/C+T4NftP/APw/wCLfDslytzHZ3du0MlvMoIEsM8DJNBJhmXfG6ttZhnBIOUalKNOUWtXs+x2VsPjJ4qjUhO0I35ld+9dafc9fM/Ov/g3P/4LVftdf8FFvgj460n9p+y0fVvEXw/1SxiTxfb6OtmNWhu0nYJJFBshE0Rt23GNEUpLH8oILN8I/wDBSj/g6W/4KifBz/gop40+G/wO1nw34X8F/DnxhdaInhG+8JW90muLaTGJ57qaZTcKszKzL5EkOI2TGTlz/QJ+y7+w1+yP+xb8Lovgz+zB8BNA8J+HY7lrlrO0t2mknnYANLNPOzzTyEKq75HZtqqucAAec/Hb/gjN/wAEvf2mPjva/tL/ABx/Yz8J6940tWiZtUmFxDHeNEAEN3bQypb3hCqq/v45PlVVPAADnUoyoRio+8t33JoYbG08wqVZ1L05L3Y9np+evofKf/BVD/gtt+0Z+y5/wSb8I/tofBT4baZp3iz4kW+hRafHqli9wvht9RsHvHlljZgsjRLG0Shxt8x0LKwyh8G/4Nwv+C9/7d37d/xR8bfs7/ta6hpPi640bw1/b+k+MY/D0FhLCq3MNu9nMlmsULBvPV4yI1YeVLuL5G39hfjP+y7+zr+0P8LNU+CXxr+C/h3xF4U1i2EGoaJqGmIYZEUgqRtAKMrBWV0KsjKGUggGuH/Y9/4Jo/sJ/sDeG9S8K/slfs16D4SttZuFm1aZWnvbq8Zc7BJc3kkszou5tqF9q7m2gbjmnWw/t1JR91bruc8MHmUctnRdb9427S10V1b7vxPwZ/4KUf8AB0t/wVE+Dn/BRTxp8N/gdrPhvwv4L+HPjC60RPCN94St7pNcW0mMTz3U0ym4VZmVmXyJIcRsmMnLn9Ev+CqH/Bbb9oz9lz/gk34R/bQ+Cnw20zTvFnxIt9Ci0+PVLF7hfDb6jYPePLLGzBZGiWNolDjb5joWVhlD9WfHb/gjN/wS9/aY+O9r+0v8cf2M/CeveNLVombVJhcQx3jRABDd20MqW94Qqqv7+OT5VVTwAB7B8Z/2Xf2df2h/hZqnwS+NfwX8O+IvCmsWwg1DRNQ0xDDIikFSNoBRlYKyuhVkZQykEA1MalFc9477eRtVwuOk6HJUtyW59/e2/wCHPx6/4Nwv+C9/7d37d/xR8bfs7/ta6hpPi640bw1/b+k+MY/D0FhLCq3MNu9nMlmsULBvPV4yI1YeVLuL5G35m/4KUf8AB0t/wVE+Dn/BRTxp8N/gdrPhvwv4L+HPjC60RPCN94St7pNcW0mMTz3U0ym4VZmVmXyJIcRsmMnLn95v2Pf+CaP7Cf7A3hvUvCv7JX7Neg+ErbWbhZtWmVp726vGXOwSXN5JLM6Lubahfau5toG455f47f8ABGb/AIJe/tMfHe1/aX+OP7GfhPXvGlq0TNqkwuIY7xogAhu7aGVLe8IVVX9/HJ8qqp4AAmU6boqKXvX1ZrTw+KjmE6sp3ptJKPZ6Xfz/AK3Nv9n79r/xj8cPgN4J+NNx4OtNIk8YeEdN1t9JuI5DJZG6tY5zAx3DLJ5m08DkV1//AAu7xX/0D9P/AO/Mn/xdegReDPB8ESwQeFNNREUKiLYxgKB0AGOlO/4RHwp/0LGn/wDgFH/hXcsVgLa0j56WT8SOTaxll21PPf8Ahd3iv/oH6f8A9+ZP/i6P+F3eK/8AoH6f/wB+ZP8A4uvQv+ER8Kf9Cxp//gFH/hR/wiPhT/oWNP8A/AKP/Cn9ay//AJ9E/wBjcS/9Bv4M89/4Xd4r/wCgfp//AH5k/wDi6P8Ahd3iv/oH6f8A9+ZP/i69C/4RHwp/0LGn/wDgFH/hR/wiPhT/AKFjT/8AwCj/AMKPrWX/APPoP7G4l/6DfwZw+hfGHxNqet2emz2NisdxdRxOyRvkBmAOPn6816RVGHwv4Zt5Vng8O2MckbBkdLNAVI6EHHBq9XJialCpJOlHlPcynCZhhKcli6vtG3o+yCiiiuU9YKKKKACiiigAooooAKKKKACiiigAooooAKKKKACiiigAooooAKKKKACiiigAooooAKKKKACiiigDwf8A4KZftqH/AIJ6/sR+O/2tYPhzf+LLvwrpqyafoNjDKwuJ3kWNDM8at5NuhbzJJSMIiMeuAf54/wDgq7/wWW+If/Bw9YfCn9ij9lv9hvVNP8QW/isaltXUhql7PdvA1v5UTRwoILRRK8kssmAQkbN5axEn+pRlDLtZcg8EHvWT4d8BeBvCFzcXvhPwXpOlzXZzdTadpsULTHOcuUUFufWgDxj/AIJf/sQ+H/8AgnX+wp8Pf2StFmhuLrw3owfxDqEG7bfatOxnvZxuJOwzySBAfuxhF4CgV77RRQAUUUUAFFFFAHlP7V/7D37KH7cvhfS/BX7WfwT0vxxpWi6g19pdjq0kwS3uChjMg8t152kjnPBrrPgn8E/hX+zl8K9F+CXwS8GWvh7wr4dtTb6LotmztFaRF2copdmbG5mPJPWuqooAK/Ov9hP/AJOq8K/9v3/pDcV+ilfnX+wn/wAnVeFf+37/ANIbiv578Yv+S64U/wCwl/8Ap3DH7F4b/wDJK8Qf9eP/AHHXP0Uooor+hD8dCiiigAooooAKKKKACiiigAooooAKKKKACiiigAooooAKKKKACiiigAooooAKKKKACiiigAooooAKKKKACiiigAooooAKKKKACisHwN8Ufh78TDqyeAvF9jqkmhaxcaVrMNrNmSyvIJGjlhlU/MjBlOMjDDDLlSCd6gAooooAKKKKACiiigAooooAKKKKACiiigAooooAKKKKACiiigAooooAKKKKACiiigAooooAKKKKACiiigAooooAKKKKACiiigAooooAKKKKACiiigAooooAKKKKACiiigAr86/2E/8Ak6rwr/2/f+kNxX6KV+df7Cf/ACdV4V/7fv8A0huK/nvxi/5LrhT/ALCX/wCncMfsXhv/AMkrxB/14/8Acdc/RSiiiv6EPx0KKKKACiiigAooooAKKKKACiiigAooooAKKKKACiiigAooooAKKKKACiiigAooooAKKKKACiiigAoorjvjL+0H8E/2e/D/APwk/wAafiZpPh20YEw/2hcgSz46iKIZklP+yisfagDsaK/PX45f8HAHwm8OyzaT+z/8I9T8SSLlV1bXbgWNrn+8sah5ZF9m8o18u/Ef/gtp+3f45lkHh/xdofhSB+PJ0DQYmIX033XnNn3BH4UAftZRX8/evf8ABQL9t3xHK0uoftU+Ooy3X7B4intR+ULIBWX/AMNqftkf9HafEz/wvNR/+PUAf0MUV/PP/wANqftkf9HafEz/AMLzUf8A49R/w2p+2R/0dp8TP/C81H/49QB3HxY/aL+MP7Mn/BQX4qfEb4MeM7jSdQj+JmurcRod0F5F/aM5MU8Z+WVD6EcHkEEAj9Lv2Df+CsHwe/a3itfAPjj7P4S8fMoT+ybib/RdTfu1pIx5J6+Sx3jsZAC1fivret6z4l1m78R+I9WutQ1DULqS5vr6+uGlmuZnYs8kjsSzuzEsWJJJJJ5qvDNLbyrPBK0ckbBkdGwVI6EHsaAP6YqK/J79gf8A4LWeLPhr9i+FX7W9xd69oC7YrPxcimW/sF6AXA63MY/vf60DP+s4A/VHwp4r8N+OvDNh4y8H61b6lpWqWkd1p9/aSB454XXcrqR1BBoA0KKKKACiiigAooooAKKKKACiiigAooooAKKKKACiiigAooooAKKKKACiiigAooooAKKKKACiiigAooooAKKKKACiiigAooooAKKKKACiiigAooooAKKKKACiiigAr86/2E/+TqvCv/b9/wCkNxX6KV+df7Cf/J1XhX/t+/8ASG4r+e/GL/kuuFP+wl/+ncMfsXhv/wAkrxB/14/9x1z9FKKKK/oQ/HQooooAKKKKACiiigAooooAKKKKACiiigAooooAKKKKACiiigAooooAKKKKACiiigAooooAKy/Gvjfwf8OPC95428feJrHR9I0+Ey3uo6jcLFDCvqWY468AdSSAMk1wH7Wf7YHwb/Y4+HL+PfirrP76bcmjaHaMGu9TmA+5GpPCjI3SHCqCMnJUH8Wv2y/28fjj+2p4vOqeP9VNjoNrMW0XwpYTN9ksh0DN086XHWVhnkhQqnaAD66/bO/4Lr6pezXfgL9jbS/stuN0cnjbV7UGWT/atbdxhB6PKCSD/q1IBr88fHXj/wAcfE7xNceM/iL4u1LXNWu2zcahql488z+g3OScDsOgHAxUPhHwf4s8f+I7Xwh4H8NX2sarfS+XZ6dptq800zeiogJP5dK++P2V/wDggz8RPGENv4r/AGqfGX/CL2UmH/4RvQ2jn1Bl9JJjuigPsolPrtNAH5616h8NP2K/2tPjBFHd/Dv9nnxZqFrNgxXzaRJDbP8ASaULGf8Avqv24+A37CP7J37N0MMnws+C+kW+oQ4xrWoQ/bL4t3YTzbnTPXCFV9AK9coA/EfQP+CLP/BQPWYVmvfhdpel7uduoeJ7Mt/5Cketj/hxn+3Z/wBAzwp/4UQ/+Ir9oKKAPxf/AOHGf7dn/QM8Kf8AhRD/AOIo/wCHGf7dn/QM8Kf+FEP/AIiv2gooA/mz+IngbXvhf8QNd+GnilYV1Tw7rF1pmpLbyb4xcQStFJtb+JdyHB7iofCPhDxV4+8S2fg3wR4dvNW1bUJhDY6dp9u0s07n+FVUEn+g5r6i1P8AYS+PH7aH7eXxa0v4baH9l0W1+KWurq/inUUZbKzH9oTErnGZZcdI0yeQTtXLD9QP2Nf2A/gP+xZ4a+zeAdI/tHxFcwhNW8WalGpu7r1RO0EWekaeg3FyN1AHzB+wP/wRN8PeCPsXxW/bBtrbWNYXbNZeCo3ElnZt1BumHFw4/wCeY/dDnJkB4/Qy2treyt47Ozt0hhhQJFFGoVUUDAUAcAAdqfRQAUUUUAFFFFABRRRQAUUUUAFFFFABRRRQAUUUUAFFFFABRRRQAUUUUAFFFFABRRRQAUUUUAFFFFABRRRQAUUUUAFFFFABRRRQAUUUUAFFFFABRRRQAUUUUAFFFFABX51/sJ/8nVeFf+37/wBIbiv0Ur86/wBhP/k6rwr/ANv3/pDcV/PfjF/yXXCn/YS//TuGP2Lw3/5JXiD/AK8f+465+ilFFFf0IfjoUUUUAFFFFABRRRQAUUUUAFFFFABRRRQAUUUUAFFFFABRRRQAUUUUAFFFFABRRRQAV4t+2/8AttfDT9iX4WP4z8Wut9rd8rxeG/DkUwWbUJwOp67IkyC8mOAQBlmVT0n7U37Tfw5/ZK+DmpfGH4kXf7m1XytO0+NwJtRu2B8u3jz/ABNgknoqhmPCmvwe/aW/aR+Jn7Vfxb1H4vfFHVPOvLxtlnZxsfI0+2BPl28Kn7qKD9WJZmJZiSAQftCftDfFT9p74nX3xX+LviJ77UrxtsMS5WCyhBJS3gTJ8uNcnA6kksxZmZj6P+xB/wAE7/jZ+2z4j83w1bf2L4Ts59mreLL6AmGM94oV48+bH8IIC5G5lyM+jf8ABM//AIJb+Iv2ttSh+LXxbhutK+HNpcYXbmO412RTzFCeqxAjDyjvlU+bcyfsb4M8GeE/h34WsfBHgXw7aaTpGmW6wWGn2MIjigjHZVH5k9SSSckmgDzf9lL9ib4A/sdeFhofwl8Jr/aE0ITVPEd+Fkv78/7cmBtTPIjQKg64zkn1uiigAooooAKKKKACiiigCvp2laZo8L22k6bb2sclxJPJHbwqitLI5eSQgAZZnZmZupZiTkk1YoooAKKKKACiiigAooooAKKKKACiiigAooooAKKKKACiiigAooooAKKKKACiiigAooooAKKKKACiiigAooooAKKKKACiiigAooooAKKKKACiiigAooooAKKKKACiiigAooooAK/Ov9hP/k6rwr/2/f8ApDcV+ilfnX+wn/ydV4V/7fv/AEhuK/nvxi/5LrhT/sJf/p3DH7F4b/8AJK8Qf9eP/cdc/RSiiiv6EPx0KKKKACiiigAooooAKKKKACiiigAooooAKKKKACiiigAooooAKKKKACiiigAql4k8SaD4P8PX3izxTq0Nhpum2kl1qF7cybY4IUUs7sewCgk1dr8xv+C437cz3N0P2MvhnrH7mHy7nx1dW8n334eGxyOw+WWQevlrkYcUAfK3/BRX9uDxF+2t8bJtdtZri28H6I0lt4S0qTI2w5+a5kX/AJ6y4DH+6oVOduT2f/BLv/gnFqn7Ynjf/hYfxHtLi1+HWhXQF/IuUbWLgYP2SJuoXGDI45VSFGGbcvlv7Dv7H3jL9tH442fwz0Ey2mk2+LrxNrSx5WwsweSM8GRz8iL3Y5PyqxH7x/DD4Z+Cfg34A0n4YfDnQYdN0XRbNbews4RwqjqxPVmYkszHlmYkkkmgDT0HQtF8L6JaeG/Dek29jp+n26W9jZWkIjigiRQqoijhVAAAA6CrdFFABRRRQAUUUUAFFFFABRRRQAUUUUAFFFFABRRRQAUUUUAFFFFABRRRQAUUUUAFFFFABRRRQAUUUUAFFFFABRRRQAUUUUAFFFFABRRRQAUUUUAFFFFABRRRQAUUUUAFFFFABRRRQAUUUUAFFFFABRRRQAUUUUAFfnX+wn/ydV4V/wC37/0huK/RSvzr/YT/AOTqvCv/AG/f+kNxX89+MX/JdcKf9hL/APTuGP2Lw3/5JXiD/rx/7jrn6KUUUV/Qh+OhRRRQAUUUUAFFFFABRRRQAUUUUAFFFFABRRRQAUUUUAFFFFABRRRQAUUUjOqKXdgqqMsx7UAePft2ftX6H+x1+ztrHxWvGhl1aRfsXhnT5T/x9ahIp8sEd0QBpH6fLGQOSK/Bg/8ACd/GL4iZxea54k8Tax/vz315cS/qzu35mvoX/gqz+2e37W37RU+n+E9UMvgzwg0mn+HfLb93dPuHn3nv5jKAp/55xxngk19Cf8ELP2KxqupXH7ZPxC0ndb2by2PgiGePiSblJ7wZ7JzEh5+Yy9CimgD7O/4J+/sbeHv2LvgHZeBI44J/EepbbzxbqkYz9ouyv+rVupiiB2IOAfmbALtXuVFFABRRRQAUUUUAFFFFABRRRQAUUUUAFFFFABRRRQAUUUUAFFFFABRRRQAUUUUAFFFFABRRRQAUUUUAFFFFABRRRQAUUUUAFFFFABRRRQAUUUUAFFFFABRRRQAUUUUAFFFFABRRRQAUUUUAFFFFABRRRQB59+1J+098Jf2N/gdrf7Rnx2v9Ss/CPhyOOXXNQ0vQ7nUJLSJ5Fj81obZHk8sMy7mCkICWbCgkcN+wf/wU0/Yt/wCClnhfX/Fv7HPxeHie38L6hFZ67DPpN1Y3Fo8qF4maG6jjfY4DhXAKkxuAcqQPZ/Gvgzwr8RvB2rfD7x1oFtquia5ps+n6xpd5Hvhu7WaMxywuvdWRmUjuDX8w/h64+Jn/AAaz/wDBc19M1mfVLz4L+K2CST+XIy6t4Tu5srKFBPmXdhKMH+JmgcAKlwMgH9Lnx9+PHwo/Zg+DHiT9oL45eLodB8JeE9Lk1DXdWmjeQQQp6IgZ5HYkKqICzsyqoJIFeYfsHf8ABTb9kD/gpXoPiDxV+x7441bxJpXhi8htNY1K88LX+nwR3Eil1hRruGMSuFG5lTdsDIWxvXP43/8ABzJ/wUN8Xf8ABQ39oz4c/wDBHD9gvWY/FFtrOraZeeJrrRZjJBq+p3SpJYW3mx5BtreGUXUrYKKzqzbTbtX7M/8ABNr9hH4af8E3f2OPB/7J3w0SOZdCsfN17WFjKvrGqy4a7vXySfnkztUk7I1jjHCCgD3Wvzr/AGE/+TqvCv8A2/f+kNxX6KV+df7Cf/J1XhX/ALfv/SG4r+e/GL/kuuFP+wl/+ncMfsXhv/ySvEH/AF4/9x1z9FKKKK/oQ/HQooooAKKK8V/aM/bo+G37Pnj6x+DOmfDjx18RfH2o6O+rW/gX4a+HP7QvorBWKfariSWSG1s4mkVo0a4ni811ZY95VsAHtVFeP/s4fti6R+0J4kvvAmrfs/fFT4ceJNP01NQn0T4keDWsw9u0nl7ory2knsZ2DYzHHcNIoIJUDJHsFABRRXnvxF/aE0P4c/Hn4cfAW/8AD91cXvxI/tj7BfQyKIrT+z7Vbh/MB5O9W2jHQ9aAPQqKKKACiiigAooooAKKK89/aA/aE0P9n7/hCf7b8P3Wof8ACb/ELTfCdn9lkVfs0955m2Z93VF8s5A554oA9CooooAKKKKACvi7/gs7+2j/AMM/fA4fBDwPqvl+LPHdtJDI8MmJLDS/uzS8cq0nMKe3mkEFBX1n8UPiT4Q+Dvw81n4o+PdUWz0fQdPkvNQuD1CIM7VH8TMcKq9WYgDk1/P3+1L+0R4v/an+OmvfGvxizJLqt1ixsvM3LY2ifLDbr7KgGSANzbmPLGgCf9kn9m3xX+1j8e9C+CvhUPGNQuPM1W/VNwsbFMGac9uF4UHAZ2Rf4hX9AXw88AeFPhX4F0n4b+BtKSx0fQ9Pis9PtY/4IkUKMnux6ljySSTya+VP+COP7F3/AAzf8BR8WPG2k+V4w8dW8dzMs0eJLDTvvQW/PKs2fNccHLIpGY6+xKACiiigAor5bs/+Cq3w98R+IvFGh/Dj9lD48eLrfwl4y1bwxqeteF/h19qsZNQ067ktLpIpfPG9VmicbsDOOleqfs1/tg/BT9qmPW7L4bXusWOueF7pLfxT4Q8WeHrrR9Z0d33GI3FndxpKscgRjHKA0cgVtjttbAB6hRRRQAUUVxP7Snxu0X9mf9nTx/8AtH+JdGutR034f+CdV8Sahp9iyia6hsbOW6eKMsQodliKjJAyRnigDtqK87vvjvrgl+Gc3hr4JeJtc0/4hSA32raX9nNv4Zhaya6Se9LyK2xmAhBjVzvYcDIz6JQAUVBqmp6foum3Gs6vex21raQPNdXEzBUijVSzOxPQAAkn0FVPBnjLwn8RvB2k/ELwD4kstZ0LXtNg1HRdY024Wa3vrSeNZIZ4pFJV43RlZWBIIYEcGgDSooooAKK81/a1/aW8O/sj/BG4+N/irw7e6rZ2/iLQtINlp7osrSaprFnpcT5cgbUkvEdu+1Gxk4FekTO0cTSJC0jKpKxpjLewyQM/UgUAOorg/wBnP9or4d/tP/DlviR8OTfQw22sX2kavpWr2ogvtK1GzuHt7mzuYtzeXLHIhBGSCCrAlWUl1h+0J4C1j9ojUv2ZNCi1C+8RaH4Yt9d8QTWtqGs9Kt7maSK1inlLDbPMYZ2SJQzbIWdtoKFgDuqKKKACiiigAooooAKKKKACiiigAooooAKKKKACiiigAooooAKKKKACiiigAooooAKKKKACiiigAooooAKKKKACiiigAooooAKKKKACiiigAr8z/wDg6r/Ym+Fn7S//AAS78SfHbxFAtp4s+De3XPC+sR26tIYZZooLqyYnnypUZHODxJBE3IUg/phXhP8AwUz/AGUPFX7cv7CHxK/ZM8EeJ9P0XVfHGhrYWeqaqjtb2zCeKQs4jBYjCHoOpFAH4yf8GWP7Enwr8Xa18SP29/F0C6h4m8K6hH4X8I281uNul+dbiW7u1Yk5lkjdIVIAKJ5wy3m4X+hGvgn/AIID/wDBI74rf8EhPgP45+EfxW+Knh/xZc+KvF0er2t54egnjjhjW1jhKOJlB3ZTORxg197UAFfnX+wn/wAnVeFf+37/ANIbiv0Ur86/2E/+TqvCv/b9/wCkNxX89+MX/JdcKf8AYS//AE7hj9i8N/8AkleIP+vH/uOufopRRRX9CH46FFFFABXyv8avgR+1z8Gf2xNc/bX/AGPfDHg/x1D448G6R4f+IPw78X69Lo9yw0ua9ls73TdQSC4RX2388cltNGqP8jiVCpB+qK8L+Ovhz/gononxJuvHH7LHxC+F+veHbzT44/8AhX/xL029sDZ3SDBmt9WsBM4jcfM0UtrKQy/K6BiAARfs6/t16d8Xvizcfs3/ABh+A/jL4S/E630N9Zh8I+MltJo9V0+OVIpbrT76xmmtbyOOSSJXVXWWPzYy8ahgSnwm/wCCln7JPxu+Mtr8A/h5rnjibxLeXF1Dbx6p8HfE+nWZe3ikllzfXmnRWijZE+1mlCudqoWZlBxfgv8Asy/tO+Nv2ntE/bE/bW8UeB4dc8IeD9Q0DwP4J+G63k2n6UNRltJNQu5r68WKW8lk+w2saKLeFIkjY4dnyv0o27b8p57ZFAH5maH8YtN8Qaj4gvv2/P8AgpD8cP2ffiYvizUrWLSLyO38PeFdIg+2yQ6eNPubvTn07U4HgEEgllnneRpG3iM/u09X/b58MfGfxn+1x+yT4N+Cfxnj0fVtS/4S2DUPiE2m211dW9l/YsRnvLWEp9ma6kAxGXjeBHlDmKRE8pus8W/Bz/grX4j8I618GdW+PH7Puv6HrNrcWP8Awl+ufDPU1v47OZCmZ9MS/NrdTKpPIlhickZjUAht/wAC/sD/APCo9Z/Zj0X4feM2ufDX7PPg+/8ADxbWmLX2pwSaRBp8EmUUJvHk7nHyqM4UYAAAOC+Ifgf44/sH/HX4Q+OvCX7W/wAQ/Hng3x98RoPBnjrwd8TNUt9RA+329w1rqNhMlvHJbTQ3MMSvFuMLwyy4RXVDW9+3Dr3wui+Mlh4d+LP/AAUe8efDu1bw2tzY/DL4YrDHqVz+/dX1Od7ezub9oc7IlC+VCGR9xcthfV/2r/2ffEX7QH/Ctf8AhHdcsrH/AIQn4s6N4rvvtof/AEi3s/O3wx7Qf3jeYMZwODkiuO8Y/s4ftJ/D39qnxZ+07+y/4q8D3i/ELQ9JsPF3hvx9a3SGGXThOlvcWl3a7mVDHcOHt3jZS43q6FnDAHAf8Evv2mtW+Ifxq+Nf7Lv/AAvvxJ8T9B+HH/CPat4T8YeM9Baw1ZbHV474f2dclre3N00E2nTFbkxKzx3CKxdoyx4L/gnt8EP2uf20/wBlPRfjV+0j+3p8T9A+1ahq0HhPSPhzq1rYvDaQ6jcwx3d/czW88l9cuYywQlbeOIxRmFnR5G90/ZC/ZE/aB+Dn7V/xk/ak/aB+Neh+Lb/4qeH/AApYwWeg6G+n2+kHSf7VDwwxO8jeQRfxlTJNLIziZmKqyRp85f8ABLb4R/t/+AP2JfDOsfsp/G74e6h4Z8TahrV+PDfxW0G+nfw7dSard+b9iubGeNprZ5A0xtpl3LJLJsnVCsaAHReKf+CgX7Qf7Hn7Ofx28A/G/wASWfjDx98HvGfh3w14R8d3WjhY9ftfETWUelajf2lmFxLbyXciXMcCp532JniRPORK4rxh8Xbb4WfD+9+LPwX/AOCpfxw8Y/FLSLSbUYtH8b/D+8bw34nukR2/s6Wwg0VFsLeU4jWS2ZZYvlfdKQ2/6Q8Jf8EyfCurfs4fEr4U/tE/E7UPF3jT4ya7H4h+IXxC021XTbhNYgS2XT59OiDSfY008WVn9kQtIUNsrO0js7M21+F3/BXibTbf4aan+1X8G4dPVxDdfEmx+HF7/b81sH++lhJeGxiumTA80tJCrZYW7DEYAOX8W/Hv4x/tx/Gz4e/s0fBX4l+JPhDoerfBfTPih8RtY0/T4ovEkdnqUzQado9v9sgkSzkaS3vWuJTGZYxbLGoQyl14H9sP9nT49fs9/FH9nOPSP2ofFvxC+HupftFeHYta0X4lXFve6lpN4BcPBdWd9HFFI8LbZI5becSnMsTxvEsbo/0f+1B+yp8V/Gnxc8M/tU/ssfFjS/CPxN8MaPcaJcf8JNo8l/oviTRZ5UmewvoYZYZFKTRiaG4icPE5kG10ldD5d8Rv2Jf27P2m/il8Kfix+0v8f/Alnb/C34mad4l07wH4B0i8g024EIkSW5ubm6eSa6uhHI0cKBYIY1mlLiV9joAfZlFFFABRRXjf7d/7WGh/sdfs66v8VLpoZdYlX7F4X0+X/l61CRT5eR3RAGkfp8qEA5IoA+F/+C6X7aP/AAkfiO2/Y78AatusdJkjvfGk0L8TXWN0FoSOojBEjDkb2QcGM14n/wAElf2Lv+GrP2hY/E3jHSvO8GeC3ivtaEqZjvbjObez9CGZS7jpsjYHG9a+cLW18ffGn4kpa263eueJvFOs4XJ3TX17cS9Se7M7dfev3t/Yl/ZZ8Pfsf/s86L8INJ8mbUET7X4i1CJf+P3UJAPNk/3RgRpnkJGuec0AetAYGAKKKKACiiigD82P2B/+Cov/AATy/Zb0/wCNnwg/aI/bA8DeD/FFn+1N8TJ7rQ9d1lYbiKOXxRfvGxU9mUgj2r2f9mzxtaftb/8ABRzWf2wfgx4Z163+Gvh/4Pf8IYPFur6BPp0HjDUptUjvlezW5jjmuLeyjilUXAXyXfUZVjZyjkeufsU/s1eJP2X/AAb468M+JvENjqUnir4yeL/GVpJYq4WG21fWLi/igfeB+8jScIxGVJUkHFeyUAfnz/wST1v9pHXP+CeHgL/go1+2d+1p428U3UPwwm1n/hD7GaCPS/sMNvO3n3IERnvr2VB5zSSShEcokcaBCX4n4XfH/Rv2h/hZpf7QXxn/AOCn/wAbvBPj7xVpMGr2fh/4c+CbpfD3hPz4lkisYrabRpk1JYgwV5rlpPPbcy+WpRV+0P2DP2U9R/ZY/YM+Hf7HnxK1PTfEE3hHwTDoGsXVnG/2W/CoUchZAG2MpIwR3rzH4dfswf8ABSD9lbwTb/s+/su/tB/C3Xvh7osH2LwNcfFTwvqc+s+GtNUbbexkks7tI9Ujt02pG7/Z5DHGiyO7ZlIBw9n+37+018Vf2O/hP4Z8Li38M/GD4sfFq8+Gi+LrrwtNBZWf2H+0ZrvxJbWN6AxSbT9Mkura3lyBLdQo+9FcnD/4KZ/sYfHr4M/8E2vjt43+G/7enxU8V3Fv8FvE6+LNB+KF9Yalput2D6TOt2ypDaQvZXKRebJC1s0cfmYV43QgL9MfHP8AY58V/H/9nDwr8OfGnx7vF+JXgfVLDxB4X+K9p4ft4pbPxFaK6rffYlPlGGRZZoZbbdiSCeWMv8xevHP2nf2Qf+Co/wC2j+zT42/Zf+M37SPwh8L6P4m8F6lpdzqPw98J6nHeaxdS2rR26ytd3Mq2NmZSGnjjWeSSLMayJkswBvfFr4m/EDwHqv7Evhjwd4uvtN0/xd47h0vxNZ2sxVNSs18GaxdLBKP4kE9vBJj+9GtVrSP42/8ABQT9pv4seGNO/aa8ZfDP4X/BrxdD4Oh0j4czW1lqniXW/wCy7LUbu7vL2aCWWG2hW/t4oYbcxF2SV5XdWWNfRviZ+yL4u8da3+zZq1n4p02Bfgl4uXV9aSRZD/aEY8OajpOyDA4bzL1ZMtgbUI6kVi/EP9lT9qH4X/tBeKP2iv2F/iv4L00fEKS3ufiJ8P8A4jaFdXGmahqVvbR2kWqWlzZzRzWVybeGGKZWSeOdbeI7YnDSMAM8ZfsrfFjw1+yd8T/hb8Uv2w/HPjHR/sN5feEdYkkj07xBp1qlozNZXV/Z+Wt/GZN2GMMb+WQkjSn5q8W/Y38TaL/wT5/4IZeE/wBuCXxZ428Vtof7K2ga+PC+v+K57qwSaPQreaO3tYnytpG0hWP5B8keMAhQK+qfgj8Jv2jJ/AHizS/2wvjVpPivUvF80yDSvCPh8abpfh+yeDyfsloZGkuZyRl3mnkJZ2OxIlwleTfsz/sQ/tGeFv2ah+wF+1h4y+GvjT4KaX8LZPAenJofh+/s9c1fTlhis7V7t3uWhgdLJHSTylYySskqNCEKMAeEWPxEs7nwcPiDrH/BXf41R/FqWBbuSa0+GN6vhGC84f7GujHSCDYBh5XzSm6MfJuPM+evRbn9sH9o39sPwr+zr8BvhrquofB/xb8aPBWq+KfiR4gtdLSS/wDDWnaSbO3vrbTo7+EqLie9voI4pZ4W8uASSlN+wV23hz4I/wDBWn4beEbf4KeC/wBrH4Ta9otjEllpXxG8a+A7+bxJb2Sqqq1zbW95HaX12qgjz8wI7FXaE4ZX7T9pv9kH4g/Fu0+HvxR+E/xti8O/GH4VrMfDPjjWPD63lnqUdzBHDqFlqNnFJD5lrdiKJ3SKSJo5YYZIyDEAQD5V/wCCqX7Kvxr+An7J8OveEf2w/iB408J3XxS+H8HjDwv8UL611Mqv/CY6Q0N5Y3MdvFPBOLgQI8bO8DRM5WNHUMf0mr4h/af/AGIv+CjX7bnw9svBHx5/aE+GPh3T9D8XeHde0/w74A0HUFh1a40/WbW8kN/dXcsjmLyIZBFbxRLicxyPKyoEH29QB8R/te+OdV/4Jc/tBar+2r4M+Hus+Jvh/wDGBYNI8feDfDsaNNH40WIW+h6hBGcANqBEWlzuSAJP7PkbCrK490/Yb/Zw8TfAD4U3mt/FzUrXVPih8QNYfxP8VNctVHl3OsTxopt4TgH7JaQxw2duDyIbaMnLMxM37cf7NniP9qn4OaR8NfC3iGx0y4074k+E/EslxqCuUeHSddstSliGwE73S1ZFPQMwJ4zXsVABRRRQAUUUUAFFFFABRRRQAUUUUAFFFFABRRRQAUUUUAFFFFABRRRQAUUUUAFFFFABRRRQAUUUUAFFFFABRRRQAUUUUAFFFFABRRRQAUUUUAFFFFABRRRQAV+df7Cf/J1XhX/t+/8ASG4r9FK/Ov8AYT/5Oq8K/wDb9/6Q3Ffz34xf8l1wp/2Ev/07hj9i8N/+SV4g/wCvH/uOufopRRRX9CH46FFFFABRRRQAUUU2SRIkaWV1VVXLMxwAPWgB1FfI/hz9uv8AbM/aK0hfjB+xD+xJ4d8W/C+WaT+w/FHjj4pNoF74qtkbb9r020TTrkC3kKt5MlzLD5qlH2qjBj3niz9tTXvDN5+z3aan8CtY0O6+OHjKTQdR0TxRcR2+oeGXTRNS1NvNSHzY5ZA2n+SVWQKRLvDkAAgHvlFeTftm/tMXX7KHwm0v4mWfg+PXG1L4heF/DJs5L424jXV9as9MM+4I+TELrzAmBvKbcrncOC/a4/b08f8A7PH7U3w3/ZT+GH7Nl58QvEHxN8J69qWhx2euJYx291p02nrtupZI2S3tTFeSySXB3MnkKiRTPKiUAfS1Zng7wV4O+Hfhy38HfD/wlpmh6RZ7/sml6PYR2ttBvdnbZFGAq5dmY4AyzEnkmvGNK/aw+J/gz9on4Zfs8ftHfCfRfDd38TPBmoXWm6vofiR7+zj8RWJWW50VXlt4GlLWbNcxS7UaRbW5BjTy8tvfGf8AahPw4/aJ+G/7OPhnw3b6nqnjCHVtZ8SXl1eNDD4e8O6dAPtGoSFUYFmurixto42KBjPI+7ELAgHrlFfIvhv9uf8Abj+Ofh60+PH7J37Ami+KPhPqVut54b1TxT8Vl0TXvE+nsNyX1jYGwmhjilQiSAXdzbtKpUuIAwavoL9nD9oL4f8A7UnwZ0f43/DNrxdM1ZZo5LPUrbybvT7u3nkt7qyuY8ny54LiKaGRckB4mAJGCQDuKKKKACiiigBHdY1LuwVVGWZu1fh1/wAFVv2z3/a3/aKuLPwpqhl8GeEWk0/w2I2/d3Tbh595/wBtGUBT/wA844+ASa+9P+Cz37aP/DP/AMDh8D/A+reX4s8d2skMrwviSx0vlZpePutIcwr7eaQQUFflv+yN+zX4r/az+Peh/BXwtviW/n83VtQVNwsbFMGac9uF4UHAZ2Rf4qAPtz/ghV+xd/aOoXP7ZPxA0n9zatLYeCIZo+Hl5S4vB7KMwofUy9Cqmv0+rH+HvgHwr8LPA2k/DjwNpSWOj6Hp8Vnp9rH/AARIoUZPcnGSx5JJJ5NbFABRRRQA2e4gtYHurqZY441LSSSMFVVAySSegArmU+N3wXl8BaL8VI/i74Xbwv4jazXw94kXX7Y2GqNdsq2ot7jf5c5mZ0Eexj5hZQucitLx5/yI+tf9gm4/9FNXwV+z38R/h/8ACr/ghb+yj4u+I3wP0Hx9aSab8K9Ms9H8QQxtDaXd9faZYw6gnmRSATWz3AnTABLR4DLncAD9C6K8H/aQ/a4+JPgv4rWn7Mv7KvwKg+JHxNuNBTXdUsNW8TLouj+HdJed4IbvUL3yZ5FM0sU6QwQwSySm3mJEaIzir8CP2yPiRqXxaf8AZr/bB+BFr8NfiBJ4bufEGgrovin+3NF8RaZbSQxXc1ld/Z7eUS273FuJbeaCN1E6MnmoS4APoKivj34Wft1ft7/tFeBtH/aR/Z0/YG8I638KfElimo+FZNY+NA0/xJq+mvzFdCy/s17S3eRCHWCW8BC4EjxsSifYKFmRWdNrEfMuc49qAMrwz488D+NbvWLDwb4z0nVp/D+rNpevw6ZqMVw+mXyxRTG1uAjEwzCKaGQxvhgksbYwyk61fnT+yl8e/wBpLw3+0n+118H/ANlP9mK18ceII/2krnVtU1jxd4qbQdB063l8N+H4oYjdJa3Utxcubec+TFCwjVVaR4xJHv8AqD9mf9snXvid4y8VfAz9o34NyfDD4leCdLttW1vQ31tdS0y+0mfzFi1PT9QWOIXNvviljcPHFLFJGQ8YDIzgHu1FfIvhv9uf9uP45+HrT48fsnfsCaL4o+E+pW63nhvVPFPxWXRNe8T6ew3JfWNgbCaGOKVCJIBd3Nu0qlS4gDBq4H/go3+3J+0D41/4J0eHf2of2BYdHtNL1jxr4e0/xJf+JvE13o2taHdnxbpemyaWLeCyuVdzcG7sb3dLGYEEjRi4OEIB98UV85eLv2qP2mv2ePAXg/xz+1v8GPAOkwa98WNN8K69ceBfHV/q1ro+n6lstLDUGludLtGZ21SW3tZIjGESOdZfOOGQRf8ABQz/AIKGab+wcvgNm+HD+KP+Ek8QNL4qWHVY7U+HPClqYhqviB94PmRWZubTcgxn7QPmXFAH0lRXlf7TX7SE3wMb4feGvCfhq38QeJfiV8QtP8M+HdJk1DyFaN1kur+8LBWJS1062vLnAHzmFI9y+YGHleofts/tbfGbxHrl1+wb+x/4b8ceDfDOvX2i33jTx58TW8Owa1qFlO9veQaZHDp97JMkNxFLA1xMIYzLGwj8xVL0AfVFFfPWhf8ABR34R/8ADMfiz9ob4h+EfEHhvUvAOv8A/CNeNPh9PDFc6xYeImkt4oNJiELtFdS3L3dn9meN/LmW8gfcoY7eK8Sft0ftw/Anw3efHj9rb9gXRfC/wp02FrzxFq3hb4rrrWu+F9PXl72+08WEMMkcSfvJxaXM7RKGKCcKWoA+uqK+Zv2v/wDgoP4g/Zu/aH+Df7PXw0/Z/wBQ+JGq/GjRvEdz4cj0XVo7fbcaaNMdPMklXyorVor6WaW4ZwY0tSI455JI4mreAf21v2oPA37QPg/4EftzfsqeHfA0PxKu7qw8AeMPAfxEl8Q6dcapBbTXbaZeCfT7KW1me2t7iWKQLJHJ5LplGChwD6iooooAKKKKACiiigAooooAKKKKACiiigAooooAKKKKACiiigAooooAKKKKACiiigAooooAKKKKACiiigAooooAKKKKACiiigAooooAKKKKACiiigAooooAK/Ov9hP/AJOq8K/9v3/pDcV+ilfnX+wn/wAnVeFf+37/ANIbiv578Yv+S64U/wCwl/8Ap3DH7F4b/wDJK8Qf9eP/AHHXP0Uooor+hD8dCiiigAooooAKzvF/hu18ZeE9U8IX08kUGq6dPZzSwnDossZQlfcBuPetGigD4X/ZX/a31b9gP9mvwL+xP+07+zF8XpvF3wz8L2PhPSdQ+Hvws1XxDpPi23sLeO1tr6zvLGGSGEzxJEzxXTQvDI7K3yr5h6v9sy0+Pvj/AOGv7Pv7Zejfs0eI2174W/Ei28XeLvhPZ3Vtd61HptzpGo6XdxQeVIYrm7t01FbjyY3PmCB40JcqD9e0UAfnb+3p+1r4m/bQ+FHgbwH+y/8AsrfFzUdNtvjp4D1Dxl4g8V/DHVtBj0uztfE2mzN5UN/bxT3UgZVdzFG0UUEc8kkiFVVvePip4N8V3/8AwVy+DPju08KahNomm/A7x1Z32sx2MjWtrczal4baGF5gNiSSLDMVUkMwikIBCtj6aooA8D/4KQ/AXxv8bv2arjXPgtZRyfEz4c6xa+Nfhc7HaW1vTmMqWm7qsd3CZ7GTGMxXkg715h+x18M/FX7Z3hr4xftlfG34f+JPA+pfG/RX8IeD/DvifTGs9V8NeEbSGe3hSSFzuimuLu4v75gQrFZrcMP3a4+y6KAPyg+D/wAIP2aP2dfhv4f/AGf/ANsj9mr9sO1+JHhzTINIuLj4b+PPifrHh/xNJAohW+0y40rU5LW3hm2q4tpjbvb+YEdFVVY/oH+w58Ffh18C/wBnHRvDvw1+CviL4e2+sTXGvap4T8XeKJ9Z1Sz1G+la5ujd3k13dtNO80ju7ee43Mec5r1yigAooooAKwfil8S/CHwb+HWtfFLx9qa2ej6Dp8l5fznqEQZ2qP4nY4VV6szADk1vV+WP/BdH9tH/AISbxLb/ALHvgDVt1ho8kd74ymhfia7xuhtCR1EanzGHI3sg4MZoA+Kv2pP2h/F/7U/xz1741+MmZJtWuv8AQrLzNy2Novyw26+yoACcDc25jyxr9Yf+COn7F3/DNvwEX4qeNtJ8rxh46gjurhZkxJYaf963t+eVZgfNccHLKpGY6+Cf+CSf7F3/AA1V+0LH4o8Y6V53gzwXJFfa0JUzHe3Gc29p6EMyl3HI2RspxvWv24oAKKKKACiiigDL8bQzXHgzV4IImkkk0u4VERcliY2wAO5r89bb4S/FVf8AghR+y38NG+GXiAeJNF1T4NtrPh/+xZ/t1gLTX9FkujNBs8yIQpHI8m5R5axsWwFJH6PUUAfn3+3J+yn4d8G/t2al+2L8W/hN8ZPGnw58beAdJ0LXJ/gn408R2OqeFtQ0y4vnjubiw0G9t7jUbOeG+25SO4kt5ICQipPIw6X9ib4U/sjeKfjSfj38Bf2X/wBozzPBug3h8P8AjL4w+MvFywz3FwoinsbLTvE+pGRpHjHzTm3SIFQBLuHH2/RQB+V/xFvv2eNN8Ma7b/sTfsyfth/BP43XWm3c3h3wV4H8HeIrHRYtcmDyoLi3k83ws0JuXJlnJ8pgzt5udrD9OPh7/wAJp/wgOh/8LH+y/wDCRf2Pbf299h/1P23yl8/y/wDY8zdj2xWxRQB+ev7On7R3j/8AYv8A2kv2pL/44fss/Eyb4d+K/wBoCbU/DXjfwf4F1DW2kn/sDRIJVls7OGS5Fs3lRiG6jjkhaRbmNmjaMB+6+Hvw68bft7/tKeOP2ovEnwr8WfDvwHcfBG/+GfggeL9Nk03WtaXUrmO6v9Tk0+VRNaQxm3tYrcThJWP2hjGishb7QooA/KD4P/CD9mj9nX4b+H/2f/2yP2av2w7X4keHNMg0i4uPhv48+J+seH/E0kCiFb7TLjStTktbeGbari2mNu9v5gR0VVVj7r+0D+yEmk/8EgtS+HP7Mf7M3jHw9qUniTQ/iFefDXWfEkuueIJry28TWGv6jbtc3F7cm5vphbT4BuGDzSAbgSa+6qKAPnu98T/CX/gqV+yj8RPhHpvhL4ieG9F8Q6Pc6FLf+NPAGp+HLuC4lgJS6tY9QhhldoJCjiVFKCWMAMSpA8n/AGDfBPxY/bSm8efH39un4M32h6jdfD+1+Er+FdcsjHHNDDAX8RXsCuoLW19qExiR8bZYNLtpBwwr7cooA+Ef+CcXgX9ozx38dbNf2m/CHiOzg/Zj8G3Pw38L6xr8LRr4v1KW8KT+IY8fJMr6VY6RsmGdsmo38RwVYV4r4N/Zo/Z7/YubWvgr+2b8Ef2qLyS18U6rc+D/AB58I/G3xF1LQ/EGmXN7LdWy/ZfD2oMmmXcUcwhlheCBHeFpYi6udv6sUUAfnn48/wCCdHg342/8E9/FkP7M37O3xG8DeJ/EHxK0Xxx/wj/xQ+JmsNrniibQ7+1a2WfUJ9RuLzTHurKySGJvOhmtS0LMsbRccZD4H/YN+JNsvwot/wBiz9ua/wDF2qxiz1bwDr3xA+JNrb26yfJMtzqdzrI0loFVjukS6kjkU4QyFgD+n9FAHyj8TvhDfeE/+ClH7K8XgDwPqS+EPBvwl+IWkNfQ2889tpisPDKWkE1w27a7pbyBPMbfJ5LkbirGtL/gor4O8XeK/id+yre+FvCupalDon7TllqGtTafYyTLYWY8M+IojcTFARFEJJYk8xsLulRc5YA/TlFABRRRQAUUUUAFFFFABRRRQAUUUUAFFFFABRRRQAUUUUAFFFFABRRRQAUUUUAFFFFABRRRQAUUUUAFFFFABRRRQAUUUUAFFFFABRRRQAUUUUAFFFFABRRRQAV+df7Cf/J1XhX/ALfv/SG4r9FK/Ov9hP8A5Oq8K/8Ab9/6Q3Ffz34xf8l1wp/2Ev8A9O4Y/YvDf/kleIP+vH/uOufopRRRX9CH46FFFFABRRRQAUUUUAFFFFABRRRQAUUUUAFFFFABRRSO6RoZJGCqoyzMeAKAPG/28P2sdE/Y6/Z11f4p3Lwy6xMv2Hwvp8n/AC9X8inZkd0QBpH6fKhGckV+D1lZ+PvjT8SY7K1S71zxN4p1nC5O+a+vLiXqT3Znbk+9e/8A/BVT9s9/2uP2ip7Xwpqhl8GeEWk0/wANiNv3d024efef9tWUBT/zzSPgEmvov/ghT+xd9uvrn9sr4gaT+5tmlsPBEM0fDycpcXg/3RuhQ+pl7qpoA+4/2Jv2WvDv7H/7PWi/B/SPJmv44/tXiLUI1/4/dQkA82T/AHRgRpnkJGuec16zRRQAUUUUAFFFFAHlP7bH7Sr/ALJX7NuvfGnTvCy69rMM1jpfhXw+90YF1bWtQvIbDT7RpAreUkl3cwq0m07ELMRhTXiWt/s1f8FT/Anguf45eHP+Chk3jL4iWVj9vuPhbqPgXSbTwbqsqqHk0u3MVv8A2jaI+0xRXTXcroWV3WQbkPR/8FdvD+rzfsk2PxX0nTbm+j+FfxS8HfEDVrKztnmmm03Rtesr6+2RxqzOyWsU8gVQWby8DkivYPiF+1H8Bvhn+znfftYeJPiZpJ8A2Ph7+2l8R2t2s1vdWhj3xtAyE+c0mVWNUy0jOqqCSBQBJ+y5+0F4P/av/Zw8C/tL+AYJodH8d+FbHW7G3uP9ZbrcQrJ5L443oWKNjjKnHFcf+0D/AMFFf2O/2YvGMnw4+LHxZm/4SaGziu7rwz4W8Man4g1O0t5SRHNPaaVbXE0EbkHa8iKrY4JrN/4JZ/Djx38Kf+Ce/wAKPCXxP8PyaR4jk8Kx6lrmjyn59Our2R72S1b/AGomuDGfdDXI3fx3/at+O37THxa+Cn7IN58KPAz/AAs1rSdN8Tax8RPC99rV9rlxdaXBfJMlnZ31gYLZYrmKKOeSWXzHgnVUUIGoA94+Dv7RPwS/aC+Fy/Gj4L/EjTvEfhljOrapprswhkgYrNDJGQJIpo2Uq8TqsiMMFQeK8Xu/+Cx//BOK28N6N4xt/wBoh7/Stb0e11WLUNH8G6zfQ2FncW6XMMt+1vZuNMDQOkuLzyWCMCQBXj//AAS+1rxdqfxW/bbtfGfxF8FeJ9Qh+Klk2p6p8OdFl07RZr4+EtLS5aG2lu7t45Q8flzFp3LzRSN8uQi+of8ABD34f+CvAP8AwSJ/Z80bwb4YstOtdR+Fek6nfw2tuqLcXl3bJcXM74HzPJLI7Mx5JagD6S0f4j/D7xD8Prf4s6H430m68L3Wkrqlv4ih1CNrGSxMfmi5E+dnleX8+/O3bznFfP2l/wDBWn9gT4lS3PhH4fftGQtd38LW/h/XLzw/qVjpGq3UiN5MdjqtzbR2N7I7cIsE8hZuFyeK+PrzTPsX/BEfXPDl3YzN8NfB/wC1Jq9v4+0m1jd1t/h/YfE24/tK1CKCTaRadHIJI/ui1jkQgoCp+7/2t/iF+yb/AMMO+LPEnxe13w3qHwx1TwfNAnkyQ3FrqUMkW23gtFQkTSu/lrCkWWaQoE+bFAFH/gll8RPHHxc/4JtfAn4pfEzxRea34i8RfCnQ9R1zWNQk3z3t1NZRPJM7d2ZiST6mvL/2sdQ/a+/Z6/bB+CPjfQf22vEWoeBfil8dLfwpqnwsvPBmgrYWdhJoWrXhEV4tl9uLCbT4zuacn52GcYA7f/gjZ/yic/Zv/wCyK+HP/TfDWN/wU0/5Kx+yF/2dbY/+or4moA+ra8R8Pf8ABRz9i7xb8SIfg94W+N1vqXiqTxXqHhxvD1ho19NeW99Y38mn3PnRLAWgt1u4pIRdyBbd2RtkrAZr26vjn/gjZ8PfBnhbwd+0F400Hw9a2+reKP2uPiXca9qEcIE148PiO8t4t7YyVSONQqk4GWIxuOQD0b4u/wDBUj9hf4I+PNQ+GXjX40z3WtaLeLa+ILPwp4R1bXl0WYqH8u+k0y1uI7FgpDETtHheTgc16Br37U/7Pfh79mu+/bCufippt18M9O8LzeIrjxfo++/tW0uKIyvcxi2WR5gEUnbGrMcYAJ4r59+G3x5/bV/alPjrxr+yn4p+CXw18K+EfiV4h8M3tn488Falrmp3Nzpl49rcXl0LTVNOSxMkkTzLGwmZoZIZGdS22vlv4a6xPrP/AAbp/tdSt4o0DWYI9V+Mos9R8I2bWujzxtqmpyeZYQNLMYLR2dpIozLIVRwC7nLEA+2vFP8AwVo/4J7+C/Fn/CJeI/2ireHy7r7Nda9H4e1KXRLKfzBGYbnVo7ZrC2kWQhGSWdGVvlYA8V7Z8Sfix8Mfg58PNS+LfxX8f6P4c8L6PZ/atU8QazqEdvaW0P8AfeVyFAOQBzySAMkgVx2l/Bn4VaL+xnF8BtM8AaVD4Nh+HP8AY6eG0s0Fn9h+w+WYPLA27CmQRjnJr4L0XxH/AMayv+Cevx+/aHuZ9W+FPhH/AIRfVvjBd6irXFvbR/8ACMXVvpeqah13W1tqslhM8jhljcRzvgRGRQD6rs/+CxX/AATmufD+ueKL/wDaFk0my0DR73VbiTxF4N1nS2vrO0ga4uJrBLuzjbU1SFWk/wBDExKDcoI5r2T4y/tH/A39nn4Yf8Ll+NnxM0zw34bZ4I4dS1OQr9ommIEMEUYBkmmkJwkKK0jHgKTXxh/wXs/aS/Yj8c/8Emfiv4U8RePvCvji88ReCbq48C6P4fvIdWupr+KIzQahBHbs7LFbEC4kuRiOKJGLMAcFP26Lj44+HP24f2W/GHhT4ofDzwfoLeA/EWl+Hde+KfhW71fRbfxVONLaCPy7fULHyb6WxivktpnlYbRdRKhacGgD6m/Zw/b1/ZQ/ax1u88J/BH4ptd69p9it7eeGde0C/wBE1aK1aRo1uTYalBb3Pkl1ZRL5ewkYBr2Cvivxb8CP2wvG37V3wV1v9pD9sf4Aw654Q8VXGteHdI8G/C/VNJ17WLT7FPBf2UUlz4hug1s8EpaQGB1DRRPwyKR9qUAFFFFABRRRQAUUUUAFFFFABRRRQAUUUUAFFFFABRRRQAUUUUAFFFFABRRRQAUUUUAFFFFABRRRQAUUUUAFFFFABRRRQAUUUUAFFFFABRRRQAUUUUAFfnX+wn/ydV4V/wC37/0huK/RSvzr/YT/AOTqvCv/AG/f+kNxX89+MX/JdcKf9hL/APTuGP2Lw3/5JXiD/rx/7jrn6KUUUV/Qh+OhRRRQAUUUUAFFFFABRRRQAUUUUAFFFFABRRRQAV8V/wDBaH9tH/hQXwQHwL8Dat5fizx3ayRTvDJiSx0rlZpf9lpTmFfbzSCCgr61+KfxM8IfBr4c618U/H2prZ6PoOnyXl/OeuxR91R/E7HCqvVmYAcmv5+v2of2hvF/7Uvxy1741+M3ZZtWuj9js/M3LZWq/LDbr7IgAJwNzbmPLGgC3+yL+zV4q/a0+Pmh/Bbwv5kS30/m6tqCpkWNihBmnPbIXhQeGdkX+Kv6Afh/4D8K/C7wPpPw58D6THY6RomnxWen2sfSOKNQo57njJY8kkk8mvlX/gjr+xd/wzZ8A1+KXjbSfK8YeOoI7q4WZMSWGn/et7fnlWYHzXHByyqRmMV9hUAFFFFABRRRQAUUUUADKGXay5B4IPevAPDf/BK7/gnZ4P8Aiba/F7w1+yB4Ks9csNYbVtNaPTP9FstQLbvtkFoSbeCcMSwljjVwSSCCSa9/ooAK8t+M37Ev7I/7Q/jK3+Inxs/Z38J+JPEFrp/9nxa5qWkxteGz37/srTAB3g3/ADeUxKZOdua9SooA4z4bfs7fAn4Nx61b/CX4R+H/AAzD4iFsNatdB0yO0huRb2kdlADHGAoEdtDFCoUABI1A4ArZ+HXw78D/AAj8BaP8Lvhn4Xs9E8O+H9Nh0/RNH0+LZBZWsSBI4Y1/hVVAAHYCtqigDn/AHwr+HPws8OXPhD4eeDbDSNLvNUvtRurGzhCxy3d5cSXN1Mw7tLNLJI57s7HvXk/gP/glz/wTk+F3xTb42/Dn9iD4Y6H4s86SWHXdL8G2kM9vJIrK7wlUAgZlZgWjCkhm55Ne8UUAYvw6+Hfgf4R+AtH+F3wz8L2eieHfD+mw6fomj6fFsgsrWJAkcMa/wqqgADsBUfjb4X/D34j33h/U/HfhGy1S48Ka8mt+G5ryHc2nagsE1utzEf4ZBDcTx5/uysO9b1FABWD8P/hf8PfhVY6lpnw58I2WjW+sa9fa3qcNjDsW51C8na4urlh3klmd5GPdmJ71vUUAeQfEX9gD9iT4t/ES++LPxM/ZX8Da54i1ZYRrWqaj4dgkk1UQrtiF2Cu27CL8qiYPtHAwOK6SP9mL9nyH4V+JvgdB8IdDj8H+MrnUrjxR4cjsgtpqUmoSPJetLGOD5zyOz9iWPrXd0UAV/wCytO/sr+w/si/ZPs/kfZ/4fL27dv0xxXmfxI+HXxF+Ef7OFj8Mf2Ifhr4BDeHLO1sNF8F+LJbiz0ibS4l8t7BZbdJWtiYhtjcxSopADIy5x6pRQB+ffjb9kX9oT9oH4b+J/wBmPwb/AME0/hD+zx4f+JzfYPi14+0HxRp9xeXmkysgv47OHT7CJ7m5nhRoVmuXhEYdZCrsojH3F8QPhJ8Lfix8Prv4TfFL4daL4k8L39qLa+8P69pkV5Z3EIGAjxSqysBgYyOMV0VFAHkP7N/7An7E/wCx/qeoa5+y/wDss+B/AuoaogTUNR8O+HYLe5njHSMyhd+zPOzO3POM169RRQAUUUUAFFFFABRRRQAUUUUAFFFFABRRRQAUUUUAFFFFABRRRQAUUUUAFFFFABRRRQAUUUUAFFFFABRRRQAUUUUAFFFFABRRRQAUUUUAFFFFABRRRQAV+df7Cf8AydV4V/7fv/SG4r9FK/Ov9hP/AJOq8K/9v3/pDcV/PfjF/wAl1wp/2Ev/ANO4Y/YvDf8A5JXiD/rx/wC465+ilFFFf0IfjoUUUUAFFFFABRRRQAUUUUAFFFFABRRRQAUUV4d/wUD/AGw9C/Yx/Z91Dx+0sM3iLUN1l4T02Tn7ReMv+sZe8cQ/eP2OAuQXWgD4i/4Lo/tpf8JR4nt/2Pvh/q27T9HljvfGU0Enyz3mN0NqSOojU+Yw5G9kHDRmvF/+CSH7F3/DVP7QkfizxlpPneDPBUkV9rCzR5jvbnObe054YMyl3HI2IVON6183afYePPjR8SItPs0u9c8S+KNYCrubfNe3lxL1JPVmdskn1ya/e/8AYp/Zb8Ofsgfs9aL8HtG8qa+jj+1eINQjXH23UJAPNk9dowETPISNAecmgD1iiiigAooooAKKKKACiiigAooooAKKKKACiiigAooooAKKKKACiiigAooooAKKKKACiiigAooooAKKKKACiiigAooooAKKKKACiiigAooooAKKKKACiiigAooooAKKKKACiiigAooooAKKKKACiiigAooooAKKKKACiiigAooooAKKKKACiiigAooooAK/Ov8AYT/5Oq8K/wDb9/6Q3FfopX51/sJ/8nVeFf8At+/9Ibiv578Yv+S64U/7CX/6dwx+xeG//JK8Qf8AXj/3HXP0Uooor+hD8dCiiigAooooAKKKKACiiigAooooAKKKbNNFbwtcXEqxxxqWkkdsKqjqSewoAzPHHjfwp8NvB+pePvHOtwabo+j2cl1qN9cNhIYkGST6+wGSTgAEkCvwe/b4/bJ8T/tqfHa7+IF4JrXw/p+6z8KaRI3/AB6Wgb77AcebIfnc884XJVFr27/grd/wUi/4aU8TyfAL4Ma0x8B6Ld51DULd/l167Q8PkdbeM/cHR2+fkBMeMf8ABPv9i/xJ+2p8dbXwXHHPb+GdLKXfi7Vo1x9ntd3ESt082Ugog5x8z4IQ0AfXf/BDH9iN2ll/bN+I2kfKvm2fgW3uI+p5Se+H/j0KH/rqcfdNfppVDwt4Y8P+CfDWn+DvCekQ2Gl6XZx2mn2Nuu2OCGNQqIo9AoAq/QAUUUUAFFFFABRRRQAUUUUAFFFFABRRRQAUUUUAFFFFABRRRQAUUUUAFFFFABRRRQAUUUUAFFFFABRRRQAUUUUAFFFFABRRRQAUUUUAFFFFABRRRQAUUUUAFFFFABRRRQAUUUUAFFFFABRRRQAUUUUAFFFFABRRRQAUUUUAFFFFABRRRQAUUUUAFFFFABX51/sJ/wDJ1XhX/t+/9Ibiv0Ur86/2E/8Ak6rwr/2/f+kNxX89+MX/ACXXCn/YS/8A07hj9i8N/wDkleIP+vH/ALjrn6KUUUV/Qh+OhRRRQAUUUUAFFFFABRRRQAUUVifET4keA/hJ4OvfiB8S/FdloujafH5l5qGoTBI0HYerMTwFALMSAASQKANmaaK3ha4uJVjjjUtJI7YVVHUk9hX5Uf8ABVn/AIKsp8T01D9mj9mfxA3/AAjmWg8UeKLOTH9q9mtrdh/y79mcf63oP3eTJxf/AAUa/wCCt/i79ptb34O/Al7zQfATM0V9dtmO811e/mY5igPaIcsPvnnYvyD8Pvh940+KvjTTfh58O/Dl1q2tatcrBp+n2ce55XP6AAZJYkKoBJIAJoA0fgr8GPiF+0F8TdJ+Enwv0Nr/AFjWLgRW8fISJeryyN/BGi5Zm7Ad+BX7x/safsl+Av2NvgpY/Cnwaq3F2f8ASNf1lo9smpXhADyn0UY2ouflUAcnLHhP+Ccv/BPfwj+xH8Ojd6r9n1Px3rVuv/CRa1GuVhXhhaW5IyIlOMngyMNxwAir9JUAFFFFABRRRQAUUUUAFFFFABRRRQAUUUUAFFFFABRRRQAUUUUAFFFFABRRRQAUUUUAFFFFABRRRQAUUUUAFFFFABRRRQAUUUUAFFFFABRRRQAUUUUAFFFFABRRRQAUUUUAFFFFABRRRQAUUUUAFFFFABRRRQAUUUUAFFFFABRRRQAUUUUAFFFFABRRRQAUUUUAFfnX+wn/AMnVeFf+37/0huK/RSvzr/YT/wCTqvCv/b9/6Q3Ffz34xf8AJdcKf9hL/wDTuGP2Lw3/AOSV4g/68f8AuOufopRRXN/Fn4v/AA0+Bfge8+I/xa8Y2eh6LYrma8vZMbm7IijLSOccIoLMegNf0Ifjp0lfEv7fH/BY34a/s8/bfhh+z+1l4s8aR7obm+Em/TdIk6EOyn9/KD/yzQ7VOdzAgofk39vj/gsX8S/2iftvww+ATXnhPwVJuiubwSbNS1ePofMZT+4iI/5ZocsM7mIJQfE9AH71f8Exvif49+M/7EPg34n/ABP8S3Gsa9rE2rS6hqF1jdIw1W8RRgABVVFVVUABVUAAAAV71X5tf8E7v+Cp37I37OP7HXg/4MfE/wAQ6zBrmjf2h9uitdDkmjXzdQuZ0w44PySp9Dx2r2v/AIfe/sE/9Db4i/8ACamoA+uqK+Q5P+C3/wCwUiFl8UeI3P8AdXw3Lk/mRXM+Kv8Agvn+x/pETL4a8D+OtYmx8m3TLaCI/VnuNw/74NAH3FTLm5t7O3ku7ydIoYkLyyyMFVFAySSegA71+WHxW/4ODvihqsMln8F/gNo2i5+VL7xBqMl8+P7wjjEKqfYs4+vSvkH49/ttftS/tMu8Pxi+MerajYu24aPbyC2sV9P9HhCxsR2ZgW96AP1P/a1/4LMfsz/s/wAN14a+F97H8QPE8YZFt9HuR/Z9u/rLdAFWx/diDnjBKda/LD9qT9sz4+/tgeKh4j+Mfi9prW3kZtM0GxUxWFgD2iiyfmxwXYs5HBYgADyuvp/9ij/glb+0D+11c2virUrGTwl4JkZWk8SapbHfdx/9OkJwZs/3ztjHPzEjaQDw74H/AAJ+Kn7RnxDs/hf8IPCVxq2rXjZ8uIYjt4wRumlc/LHGueWYgdAMkgH9pv8Agn5/wTm+G37EXhL+0pXh1vxzqVuE1rxI0XEanBNtbA8xwgjk8NIQC2AFRPRv2Yv2Tfgl+yN4DXwJ8G/Cy2qyBW1LVLjEl5qMgH+smlwN3U4UAIuTtVc16VQAUUUUAFFFFABRRRQAUUUUAFFFFABRRRQAUUUUAFFFFABRRRQAUUUUAFFFFABRRRQAUUUUAFFFFABRRRQAUUUUAFFFFABRRRQAUUUUAFFFFABRRRQAUUUUAFFFFABRRRQAUUUUAFFFFABRRRQAUUUUAFFFFABRRRQAUUUUAFFFFABRRRQAUUUUAFFFFABRRRQAUUUUAFfnX+wn/wAnVeFf+37/ANIbiv0Ur86/2E/+TqvCv/b9/wCkNxX89+MX/JdcKf8AYS//AE7hj9i8N/8AkleIP+vH/uOufopX54f8FfP+Cev7THx011vjv8LPHGp+LtP0+1x/wgMzASacoUb3skUBZd2NzKR5pPQycKv6H0V/Qh+On8z93a3VhdSWN9bSQzQyNHNDMhVo2BwVIPIIPBB6VHX7gft2/wDBLH4L/th2tx4z0JIfCvjzy8x+ILS3/dX7AcJdxjHmenmDEi8csFCV+Pv7RX7Mfxo/ZW8eSfD340eD5tNuvmazu1+e1v4wf9bBKBtkXp6MucMFORQBwNFfqx/wTZ/4Js/sV/H79ivwX8W/i38GP7W8Qat/aP8AaGof8JFqVv5vlaldQp8kNwiLiONF4UZxk5JJPuf/AA53/wCCcn/Ruv8A5d2r/wDyXQB+GlFfuYP+CPH/AATlByP2df8Ay7tX/wDkuui8Mf8ABMj9grwjKs2lfsxeHZmXp/aiy3w/EXDuD+NAH4O+H/DniHxZqseheFtBvNSvpjiGz0+1eaWQ+yICT+Ar6e+AX/BHP9tT42Sw32veCI/BGkyYL3/iyQwzbe+21UGbdjoHVAf7wr9ovBvw7+H/AMObD+yvh74F0fQbX/n20bS4rWP/AL5jVRWxQB8kfsq/8Ebv2Wf2d5rbxP41sn8feJINrrfa/bqLOCQfxRWgJTryDIZCCMgivrZESNBHGgVVGFVRwBS0UAFFFFABRRRQAUUUUAFFFFABRRRQAUUUUAFFFFABRRRQAUUUUAFFFFABRRRQAUUUUAFFFFABRRRQAUUUUAFFFFABRRRQAUUUUAFFFFABRRRQAUUUUAFFFFABRRRQAUUUUAFFFFABRRRQAUUUUAFFFFABRRRQAUUUUAFFFFABRRRQAUUUUAFFeW+FP25v2J/HnxcP7P8A4G/bC+FutePFvrqybwTpPxB0241cXNssjXEP2OOczeZEsUpdNm5BG5YDacenXl5aafaS39/dRwQQRtJNNM4VI0AyWYngADkk8AUASUV518D/ANsD9kr9pu/1DSv2bf2o/h18QrrSYUl1S28D+NrDVpLONyQjyrayuY1YqQC2ASDjpXoc9xBawPdXUyxxxqWkkkYKqqBkkk9ABQA6ivAP+HsH/BLP/pJX8AP/AA8mif8AyVVrQ/8AgqJ/wTO8T61Z+GvDX/BRP4FahqWoXUdtp+n2Pxc0aaa5mkYKkUaLclndmIUKASSQAM0Ae60UV4P/AMFK/wBvn4Y/8E0v2PPFX7WXxPtGvo9FhS30PQ4pvLk1jU5jttrRWwdm5uWfB2RpI+DtwQD3iiv5o/gf+1l/wdS/8FmJPEX7Q37Jfj7UPD/gvS9Rkjs7fw3eadoOkxXEaq32C2e4Pn3jgOCzSvKoJw7rlFr6E/4Isf8ABwn+2ho37b6/8Evv+CvkCr4kvtZbQND8UatpcOn6lp2t7sQ6ferAqwzxzkpHDMihi7R5aVZg6AH7sV+df7Cf/J1XhX/t+/8ASG4r9FK/Ov8AYT/5Oq8K/wDb9/6Q3Ffz34xf8l1wp/2Ev/07hj9i8N/+SV4g/wCvH/uOufopRRRX9CH46Fcj8bvgP8J/2i/Adz8NvjH4Mtda0q45WO4XEkEmMCWKQYaKQZ4ZSDyR0JB66igDz/8AZc/Z80D9lj4HaP8AAjwrrl3qWm6HPetZXV8qiYxz3k9yFfbgEr52zcAN23OFzgegUUUAFFFFABRRRQAUUUUAFFFFABRRRQAUUUUAFFFFABRRRQAUUUUAFFFFABRRRQAUUUUAFFFFABRRRQAUUUUAFFFFABRRRQAUUUUAFFFFABRRRQAUUUUAFFFFABRRRQAUUUUAFFFFABRRRQAUUUUAFFFFABRRRQAUUUUAFFFFABRRRQAUUUUAFFFFABRRRQAUUUUAfzW/8HH/AMFvHf8AwSs/4LN/Dz/gqP8AAbSTBp/jLVLbxIscLGOJtcsGjj1C1chCES6gaJ2yWLm4uOMCv0a/4OCP+CqHgr4W/wDBFEfFn4DeL1kvv2iNDs9H8CXkO7zBp+oW3nXk/BDRslkZY85BjmmjyMgivWP+Dhr9gY/8FAv+CYXjfwR4a0b7V4y8Fx/8Jb4I8uHfLJeWSO0tsg3Lkz2zXEIGcb5I2IJUCv5qf2H/AA9+0h/wV1/aE/Zq/wCCaXi3xDcah4M8DX95Z6asasH0nQ57s6hq07S/Md4hjMcecKPLt4xt6kA/fT/g08/YKi/ZM/4Jq2fx38U6KsPi343XaeIrqWSALLHo6KyaZDu6shjaW6X/AK/cdq/TjXLOz1HRbzT9Rn8q3uLWSOeUMF2IykMcngYHc8Uzw34d0Pwf4dsPCXhfSobHTdLsorTTrG3TbHbwRoEjjUdlVVAA9BUusabFrOkXWjzuyx3dvJC7J1AZSpI9+aAPw+/4hf8A/g3t/wCkl3jP/wAPL4T/APlbXR/Bz/g20/4IK/DX4u+FfiL4H/4KMeLtQ1rQPEljqWj2M3xe8LSpc3UFwksUbJHpyu4Z1VSqkMQcAg4Nan/EFD/wTr/6Od+NX/gw0j/5X10Hwn/4M5f2AvhB8U/DPxa8P/tI/GG4v/C/iCz1ext7y+0owyzW06TIrhbEMVLIAcEHGcEdaAP1yr8S/wDg9x8Ra5bfshfBbwnbo/8AZt78SLy7u2AO0Tw6e6RA9s7bibGeeDjvX7aV8D/8HHH/AATb8a/8FJ/+CdWoeDPg9pX27x94F1mPxR4R05MB9TeKGWKexUk43SwyuUH8UscQJAJNAHYf8G+3gbwn4A/4I2fAHSvB1lHDBe+CV1O7KYJku7qeW4uHYjqTLI/XkAAdq/EH/g6sjX4I/wDBdXwx8WvhLoa/8JLN4P8AC/iKVLOP95earb3lxDASIxuZzHZ2qDq2FUDsB2H/AARp/wCDnfRP+CZX7Kj/ALDP7ZX7O3jLWpPAOpXsHhO80Foo7y2SS4kll06+gvHjMTQ3DyhXViQjCMxL5QZ+N/Yx+Hf7R/8Awch/8Fwk/bZ8afDWfQ/hn4Y8TabqfiJmZp7HSdL07y2tNGSZlVZri4Ma7wAp/fTy7VUBaAP6iK/Ov9hP/k6rwr/2/f8ApDcV+ilfnX/wwn+1V/0Sz/yuWP8A8fr+e/G3C57/AG5kOY5dgqmJ+rVJ1JRpwlL4ZUJJNxjLl5uVpNp7NpOx+xeF+Iyr+ys2wWNxUKHt4RgnOUVvGrFtKUo83LzJtJ9tVc+6PjB8evgb+z14aj8afH74z+E/A+jy3C28ereMPEVtpls8xBIjEty6KWIBwucnFb/hvxL4d8ZaBZ+K/CGv2Wq6XqNulxp+pabdJPb3ULDKyRyISrqRyGBII6V/Nt/wcC/8Ehf+Cn/xE8beC/iz8Nv2afFfjLwvYaK2mzaN4PjTVrqwvmneRpza2jyS7ZYzEpkVCB5GGIyufdP+Can/AASE/wCCn/w5/wCCY+sfCfxp8Or3w74s8R2msTeEbXUtctIrjQFurUJbLIpm3QsJ985TAZDLggMCB+gYjjPPaPCWGzaOVVJVqsoxlQ/ec9NNyTlK1FytFJN3pxVno3pf4+jwzlNTiKvl0swgqVOLcavucs2kmkr1FHW7StNvTVLW37U+CP2nv2avib8RdV+EHw3/AGhvA3iDxboO7+3PC+h+LLO71HTtrbW8+2ikaWLDHB3qMHirvxg+PXwN/Z68NR+NPj98Z/CfgfR5bhbePVvGHiK20y2eYgkRiW5dFLEA4XOTiv5T/wDgnJ/wQ8/4K+6F/wAFAfC41H9kLxx4Rj8F+JI7zxJ4j1u1Wz06S0jfE8MF5IywXnnJuiAgeQESZPygsPob/g4F/wCCQv8AwU/+InjbwX8Wfht+zT4r8ZeF7DRW02bRvB8aatdWF807yNObW0eSXbLGYlMioQPIwxGVz7mKz7MsPxXh8qhg5So1ISlKuubkg1e0Ham43lZWvUi9dtuby8PlODrcP1swliYxqQkoql7vNJO15L31KyvraD233t/ST4b8S+HfGWgWfivwhr9lqul6jbpcafqWm3ST291CwyskciEq6kchgSCOlcn4I/ae/Zq+JvxF1X4QfDf9obwN4g8W6Du/tzwvofiyzu9R07a21vPtopGliwxwd6jB4r8Vv+Can/BIT/gp/wDDn/gmPrHwn8afDq98O+LPEdprE3hG11LXLSK40Bbq1CWyyKZt0LCffOUwGQy4IDAgfAv/AATk/wCCHn/BX3Qv+CgPhcaj+yF448Ix+C/Ekd54k8R63arZ6dJaRvieGC8kZYLzzk3RAQPICJMn5QWHHgeJ82xUszVTL5w+qtqm3z/7QkpNOF6S0bSXue01el9OboxWR5fh44FwxkZfWEnO3L+5u0rS/ePa7fvcmi1trb+rD4wfHr4G/s9eGo/Gnx++M/hPwPo8twtvHq3jDxFbaZbPMQSIxLcuiliAcLnJxW/4b8S+HfGWgWfivwhr9lqul6jbpcafqWm3ST291CwyskciEq6kchgSCOlfzbf8HAv/AASF/wCCn/xE8beC/iz8Nv2afFfjLwvYaK2mzaN4PjTVrqwvmneRpza2jyS7ZYzEpkVCB5GGIyufdP8Agmp/wSE/4Kf/AA5/4Jj6x8J/Gnw6vfDvizxHaaxN4RtdS1y0iuNAW6tQlssimbdCwn3zlMBkMuCAwIHn4jjPPaPCWGzaOVVJVqsoxlQ/ec9NNyTlK1FytFJN3pxVno3pfso8M5TU4ir5dLMIKlTi3Gr7nLNpJpK9RR1u0rTb01S1t+1Pgj9p79mr4m/EXVfhB8N/2hvA3iDxboO7+3PC+h+LLO71HTtrbW8+2ikaWLDHB3qMHit34kfFD4afBvwdefET4vfEPQ/Cvh/T1DX2ueJNWhsbO2BOAZJpmVEySByRya/k/wD+Ccn/AAQ8/wCCvuhf8FAfC41H9kLxx4Rj8F+JI7zxJ4j1u1Wz06S0jfE8MF5IywXnnJuiAgeQESZPygsPtL/gvl/wSW/4KU/GX4G+EfEXwa+AmueJNN8L6tdT+IfDXhy6gvry4MscawXEdrBI0k5j2yrtRWYCfOMBiPUzLiTNcDxZhMppYCdSjWi3KuufkpNc1lK1OUbuySvOOsldJWb4cDkuX4rh/EZhUxcYVabSjSfLzTT5dVeael23aL20u9F+93w4+J/w1+Mfg6z+Inwi+Ieh+KvD+oKWsNc8N6tDfWdyAcExzQsyOAQRwTyKwh+09+zUfjF/wzwP2hvA3/CwPL3/APCC/wDCWWf9sbdu/d9i8zz8bfmzs6c9K/C//ggd/wAElv8AgpT8GvgV4s8Q/GX4C654c07xRq1rP4e8M+I7qCxvLfyo5EnuJLWeRZIDLuiXa6qxEGcYKk/BCf8ABBn/AILUD9ucfDz/AIZd8cf8JF/wln27/hZXkj+x8+f5v9of2nu+zZ/5a7PM83Py7N/y1pl/EGZYzPMfgauClTp4dRcKr5+WtzRbfL+7S9x+7LllN3eiZnjMnwOHyrCYqGKjOdZy56a5ealZ2XN77fvLVXUdN2j+uT4kfFD4afBvwdefET4vfEPQ/Cvh/T1DX2ueJNWhsbO2BOAZJpmVEySByRyaPhx8T/hr8Y/B1n8RPhF8Q9D8VeH9QUtYa54b1aG+s7kA4JjmhZkcAgjgnkV+CP8AwXy/4JLf8FKfjL8DfCPiL4NfATXPEmm+F9Wup/EPhrw5dQX15cGWONYLiO1gkaScx7ZV2orMBPnGAxC/8EDv+CS3/BSn4NfArxZ4h+MvwF1zw5p3ijVrWfw94Z8R3UFjeW/lRyJPcSWs8iyQGXdEu11ViIM4wVJ8L/XbiD/Ub+3P7Iq/WL2+q/vPaW5+W/8AB5vh9/4LcvW563+q+Uf61f2V/aMPY2v7f3OT4ea38S2/u/Fe/Sx+6A/ae/ZqPxi/4Z4H7Q3gb/hYHl7/APhBf+Ess/7Y27d+77F5nn42/NnZ056Vu/Ej4ofDT4N+Drz4ifF74h6H4V8P6eoa+1zxJq0NjZ2wJwDJNMyomSQOSOTX8jaf8EGf+C1A/bnHw8/4Zd8cf8JF/wAJZ9u/4WV5I/sfPn+b/aH9p7vs2f8Alrs8zzc/Ls3/AC197f8ABfL/AIJLf8FKfjL8DfCPiL4NfATXPEmm+F9Wup/EPhrw5dQX15cGWONYLiO1gkaScx7ZV2orMBPnGAxHu5hxBmWDz3AYGlgpVKeIUnOquflo8sbrm/dte+/djzSg77pHk4PJ8DiMpxeLniownRceWm+Xmq3dny++n7q1dlJW2bP3u+HHxP8Ahr8Y/B1n8RPhF8Q9D8VeH9QUtYa54b1aG+s7kA4JjmhZkcAgjgnkVuV/Pt/wQO/4JLf8FKfg18CvFniH4y/AXXPDmneKNWtZ/D3hnxHdQWN5b+VHIk9xJazyLJAZd0S7XVWIgzjBUn71/wCGE/2qv+iWf+Vyx/8Aj9fC8TeJnFmR55WwOE4er4mnBpKrD2nLO8U3a1CS0bcXaTV07M+syPgfh7NcqpYrEZzSoTknenLk5o2bWt6qeqV1dJ2ex+ilFfnX/wAMJ/tVf9Es/wDK5Y//AB+j/hhP9qr/AKJZ/wCVyx/+P14P/EYuOv8AolMT99X/AOZj1v8AiG/Cv/RQUP8Ayn/8vP0Uor86/wDhhP8Aaq/6JZ/5XLH/AOP0f8MJ/tVf9Es/8rlj/wDH6P8AiMXHX/RKYn76v/zMH/EN+Ff+igof+U//AJefopRX51/8MJ/tVf8ARLP/ACuWP/x+j/hhP9qr/oln/lcsf/j9H/EYuOv+iUxP31f/AJmD/iG/Cv8A0UFD/wAp/wDy8/RSivzr/wCGE/2qv+iWf+Vyx/8Aj9H/AAwn+1V/0Sz/AMrlj/8AH6P+Ixcdf9Epifvq/wDzMH/EN+Ff+igof+U//l5+ilFfnX/wwn+1V/0Sz/yuWP8A8fo/4YT/AGqv+iWf+Vyx/wDj9H/EYuOv+iUxP31f/mYP+Ib8K/8ARQUP/Kf/AMvP0Uor86/+GE/2qv8Aoln/AJXLH/4/R/wwn+1V/wBEs/8AK5Y//H6P+Ixcdf8ARKYn76v/AMzB/wAQ34V/6KCh/wCU/wD5efopRX51/wDDCf7VX/RLP/K5Y/8Ax+j/AIYT/aq/6JZ/5XLH/wCP0f8AEYuOv+iUxP31f/mYP+Ib8K/9FBQ/8p//AC8/RSivzr/4YT/aq/6JZ/5XLH/4/R/wwn+1V/0Sz/yuWP8A8fo/4jFx1/0SmJ++r/8AMwf8Q34V/wCigof+U/8A5efopRX51/8ADCf7VX/RLP8AyuWP/wAfo/4YT/aq/wCiWf8Alcsf/j9H/EYuOv8AolMT99X/AOZg/wCIb8K/9FBQ/wDKf/y8/RSivzr/AOGE/wBqr/oln/lcsf8A4/R/wwn+1V/0Sz/yuWP/AMfo/wCIxcdf9Epifvq//Mwf8Q34V/6KCh/5T/8Al5+ilFfnX/wwn+1V/wBEs/8AK5Y//H6P+GE/2qv+iWf+Vyx/+P0f8Ri46/6JTE/fV/8AmYP+Ib8K/wDRQUP/ACn/APLz9FKK/Ov/AIYT/aq/6JZ/5XLH/wCP0f8ADCf7VX/RLP8AyuWP/wAfo/4jFx1/0SmJ++r/APMwf8Q34V/6KCh/5T/+Xn6KUV+df/DCf7VX/RLP/K5Y/wDx+j/hhP8Aaq/6JZ/5XLH/AOP0f8Ri46/6JTE/fV/+Zg/4hvwr/wBFBQ/8p/8Ay8/RSivzr/4YT/aq/wCiWf8Alcsf/j9H/DCf7VX/AESz/wArlj/8fo/4jFx1/wBEpifvq/8AzMH/ABDfhX/ooKH/AJT/APl5+ilFc78H9C1Xwt8JfC/hjXbXyL7TfDtja3kPmK3lyxwIjrlSVOGBGQSD2Jroq/fMHWqYjCU6s4ODlFNxe8W0m09Fqttl6H5HiKcaOInTjLmUW0mtmk7XW+++7CiiiugxCiiigAooooAKKKKACiiigAooooAKKKKACiiigAooooAKKKKACiiigAooooAKKKKACiiigAooooA/En/goT/wXO/4Ll/s3/tU/FX4D/CL/gmRql14Ym1R7H4V+JLr4f6pfXAgWIQ/bUls3e2vRJKPPjTgx7xHJuIKjqv+DWD/AIIy/GX9jDTfFf7cn7Y3gKfw98QvHFj/AGZ4X8N6pCEvdI0ppFmuJriP/lhNcSpEBEQHjSHDYMrIv7GUUAFFFFABRRRQAUUUUAeS/G79gf8AYd/aV8RxeMf2hP2P/hn421iHAj1bxR4Hsb662j+EyyxM5Xp8pJHHSvQvAnw98A/Czwta+B/hj4H0fw5otjHssdH0HTYrO1t1/upFEqog9gBWxRQAUUUUAFFFFABRRRQAUUUUAFFFFABRRRQAUUUUAFFFFABRRRQAUUUUAFFFFABRRRQAUUUUAFFFFABRRRQAUUUUAFFFFABRRRQAUUUUAFFFFABRRRQAUUUUAFFFFABRRRQAUUUUAFFFFABRRRQAUUUUAFFFFABRRRQAUUUUAFFFFABRRRQAUUUUAFFFFABRRRQAUUUUAFFFFABRRRQAUUUUAFFFFABRRRQAUUUUAFFFFABRRRQAUUUUAFFFFABRRRQAUUUUAFFFFABRRRQAUUUUAFFFFABRRRQAUUUUAFFFFABRRRQAUUV87f8ABTH/AIKJ+F/+CYn7P6ftMfEb4F+NvGfhWDVI7LXLjwRb2s0ukebxFPOtxPFiFnxHvBO13QEDeDQB9E0V8z/8Eu/+CrX7Mf8AwVl+Cmo/GP8AZ1bVtPl0PV207xF4X8SRQxalpsmN0TyJFJIpilT5kkVipKuuQ0bqPMf+Cqf/AAcAfsYf8EmfiJ4f+EXxk0LxR4s8Ua7pr6hNongmG0mm0u13BYpLn7RPEE80h9igliI2JABUkA+5qK5L4EfE3V/jP8HvDvxX1z4Ya74LuPEOlxX3/CL+J1iXUdOSQbkjuVid0jl2kFkDEqTtOGBA62gAooooAKKKKACiiigAooooAKKKKACiiigAooooAKKKKACiiigAooooAKKKKACiiigAooooAKKKKACiiigAooooAKKKKACiiigAooooAKKKKACiiigAooooAKKKKACiiigAooooAKKKKACiiigAooooAKKKKACiiigAooooAKKKKACiiigAooooAKKKKACiiigAooooAKKKKACiiigAooooAKKKKACiiigArC+J/wAM/AXxo+HOufCT4peFrTW/DfiTS59N1zSL6PdDd2syFJI2HoVJ5HI6jBGa3awfij8T/AHwV+HGufFz4qeKrPQ/DfhvS5tR1zWNQk2Q2ltEhd5GPoADwOSeACSBQB/Lz8TtP/ap/wCDUH/grPdeJvhrYXHin4a+KbK4k0Kx1C8a3tfFegu+RaTSBXCXlpKUUyBSwZVcKI7go3vX/BvZ/wAE8/iv/wAFaf22vE3/AAWn/wCCgEH9saPZ+LXvPD9neWJW31/XY9gjaNHyDY2KrHGijcpkijj3HyJFPiPxAn/ak/4Ox/8Agq9qGhfD7Up/Cfwv8F6XdDQbrULaSa18OaKr4jmlQEKb29mEZZQd2Bgb0ts16d/wb2/8FHvix/wSK/bh8Sf8EiP2+Hm0Pwzqvix9OtG1K4/c+GPEDECORXYgfYbxfL+dfkLSQzDCvKxAP6SqKKKACiiigAooooAKKKKACiiigAooooAKKKKACiiigAooooAKKKKACiiigAooooAKKKKACiiigAooooAKKKKACiiigAooooAKKKKACiiigAooooAKKKKACiiigAooooAKKKKACiiigAooooAKKKKACiiigAooooAKKKKACiiigAooooAKKKKACiiigAooooAKKKKACiiigAooooAKKKKACiiigAooooAKKKKACvlf/grH/wAE2PEf/BUv4EWf7Ntz+1HrXw58JtqK3niS10DRI7mXWzHgwwyu8q7YUf8AeGMKdzhCT8gB+qKKAPl3/gk9/wAEpvgL/wAEk/2d7n4HfBzU7vXNR1nVn1LxV4v1SBY7vV5+ViDKpKxxxRYRI1O0He/3pHJ8Z/4K+/8ABu9+zR/wVr+KHh7436/8SdU+H3i7SNNfT9W1jQdJhuP7atQQYFuFkK/PD84VwclZCpyFTb+hFFAHnP7JfwW8efs6/s8+F/gf8RfjXffETUPC+mrp8fi7VdOW2vL63j4iM4V3Dyqm1DJkF9oJG4sT6NRRQAUUUUAFFFFABRRRQAUUUUAFFFFABRRRQAUUUUAFFFFABRRRQAUUUUAFFFFABRRRQAUUUUAFFFFABRRRQAUUUUAFFFFABRRRQAUUUUAf/9k=)"
      ],
      "metadata": {
        "id": "5zFKd_z06hx0"
      }
    },
    {
      "cell_type": "code",
      "source": [
        "# ML Model - 1 Implementation\n",
        "\n",
        "# Fit the Algorithm\n",
        "\n",
        "# Predict on the model\n",
        "#logistic regression fitting \n",
        "log_reg = LogisticRegression(fit_intercept=True, max_iter=10000)\n",
        "log_reg.fit(x_train, y_train)\n"
      ],
      "metadata": {
        "id": "7ebyywQieS1U"
      },
      "execution_count": null,
      "outputs": []
    },
    {
      "cell_type": "code",
      "source": [
        "log_reg.coef_"
      ],
      "metadata": {
        "id": "Bh5pI_mcJtp3"
      },
      "execution_count": null,
      "outputs": []
    },
    {
      "cell_type": "code",
      "source": [
        "log_reg.intercept_"
      ],
      "metadata": {
        "id": "-BzTXFFmJttA"
      },
      "execution_count": null,
      "outputs": []
    },
    {
      "cell_type": "code",
      "source": [
        "log_reg.score(x_train,y_train)"
      ],
      "metadata": {
        "id": "UcHTg-2Sh_qZ"
      },
      "execution_count": null,
      "outputs": []
    },
    {
      "cell_type": "code",
      "source": [
        "log_reg.score(x_test,y_test)"
      ],
      "metadata": {
        "id": "YoIh_M1QJ1O5"
      },
      "execution_count": null,
      "outputs": []
    },
    {
      "cell_type": "markdown",
      "source": [
        "#### 1. Explain the ML Model used and it's performance using Evaluation metric Score Chart."
      ],
      "metadata": {
        "id": "ArJBuiUVfxKd"
      }
    },
    {
      "cell_type": "code",
      "source": [
        "# Get the predicted probabilities\n",
        "train_preds = log_reg.predict_proba(x_train)\n",
        "test_preds = log_reg.predict_proba(x_test)"
      ],
      "metadata": {
        "id": "HhXj2JGGmIlU"
      },
      "execution_count": null,
      "outputs": []
    },
    {
      "cell_type": "code",
      "source": [
        "test_preds"
      ],
      "metadata": {
        "id": "F3LRm7AqmIxm"
      },
      "execution_count": null,
      "outputs": []
    },
    {
      "cell_type": "code",
      "source": [
        "train_preds = log_reg.predict_proba(x_train)[:,1]\n",
        "test_preds =log_reg.predict_proba(x_test)[:,1]"
      ],
      "metadata": {
        "id": "PC6E_IMdmIzz"
      },
      "execution_count": null,
      "outputs": []
    },
    {
      "cell_type": "code",
      "source": [
        "test_preds"
      ],
      "metadata": {
        "id": "-HJIdgSHmI2r"
      },
      "execution_count": null,
      "outputs": []
    },
    {
      "cell_type": "code",
      "source": [
        "# Get the predicted classes\n",
        "train_class_preds = log_reg.predict(x_train)\n",
        "test_class_preds = log_reg.predict(x_test)"
      ],
      "metadata": {
        "id": "nVhTtIywmI6i"
      },
      "execution_count": null,
      "outputs": []
    },
    {
      "cell_type": "code",
      "source": [
        "train_class_preds"
      ],
      "metadata": {
        "id": "PCRGi4IDmYPg"
      },
      "execution_count": null,
      "outputs": []
    },
    {
      "cell_type": "code",
      "source": [
        "# Get the accuracy scores\n",
        "train_accuracy = accuracy_score(train_class_preds,y_train)\n",
        "test_accuracy = accuracy_score(test_class_preds,y_test)\n",
        "\n",
        "print(\"The accuracy on train data is \", train_accuracy)\n",
        "print(\"The accuracy on test data is \", test_accuracy)"
      ],
      "metadata": {
        "id": "RAzbII3YKPz9"
      },
      "execution_count": null,
      "outputs": []
    },
    {
      "cell_type": "code",
      "source": [
        "# Get the confusion matrix for both train and test\n",
        "cm = confusion_matrix(y_train, train_class_preds)\n",
        "print(cm)\n",
        "\n",
        "ax= plt.subplot()\n",
        "sns.heatmap(cm, annot=True, ax = ax) #annot=True to annotate cells\n",
        "\n",
        "# labels, title and ticks\n",
        "ax.set_xlabel('Predicted labels')\n",
        "ax.set_ylabel('True labels')\n",
        "ax.set_title('Confusion Matrix')"
      ],
      "metadata": {
        "id": "yss-asjcKP5R"
      },
      "execution_count": null,
      "outputs": []
    },
    {
      "cell_type": "code",
      "source": [
        "# Get the confusion matrix for both train and test\n",
        "cm = confusion_matrix(y_test, test_class_preds)\n",
        "print(cm)\n",
        "\n",
        "ax= plt.subplot()\n",
        "sns.heatmap(cm, annot=True, ax = ax); #annot=True to annotate cells\n",
        "\n",
        "# labels, title and ticks\n",
        "ax.set_xlabel('Predicted labels')\n",
        "ax.set_ylabel('True labels')\n",
        "ax.set_title('Confusion Matrix')"
      ],
      "metadata": {
        "id": "qSsDasMammHY"
      },
      "execution_count": null,
      "outputs": []
    },
    {
      "cell_type": "markdown",
      "source": [
        "#### 2. Cross- Validation & Hyperparameter Tuning"
      ],
      "metadata": {
        "id": "4qY1EAkEfxKe"
      }
    },
    {
      "cell_type": "code",
      "source": [
        "# ML Model - 1 Implementation with hyperparameter optimization techniques (i.e., GridSearch CV, RandomSearch CV, Bayesian Optimization etc.)\n",
        "\n",
        "# Fit the Algorithm\n",
        "\n",
        "# Predict on the model\n",
        "logistic = LogisticRegression()"
      ],
      "metadata": {
        "id": "Dy61ujd6fxKe"
      },
      "execution_count": null,
      "outputs": []
    },
    {
      "cell_type": "code",
      "source": [
        "#import libery\n",
        "from sklearn.model_selection import cross_val_score\n",
        "from sklearn.model_selection import cross_validate"
      ],
      "metadata": {
        "id": "RSfm3NdbKPxr"
      },
      "execution_count": null,
      "outputs": []
    },
    {
      "cell_type": "code",
      "source": [
        "scoring = ['accuracy']"
      ],
      "metadata": {
        "id": "yxVJgiqIkjR7"
      },
      "execution_count": null,
      "outputs": []
    },
    {
      "cell_type": "code",
      "source": [
        "scoring = ['accuracy']\n",
        "scores = cross_validate(logistic,x_train, y_train, scoring = scoring, cv =10, return_train_score=True,return_estimator=True,verbose = 10)"
      ],
      "metadata": {
        "id": "gsm-KupHmmK1"
      },
      "execution_count": null,
      "outputs": []
    },
    {
      "cell_type": "code",
      "source": [
        "scores['train_accuracy']"
      ],
      "metadata": {
        "id": "2B_jcibwmYSD"
      },
      "execution_count": null,
      "outputs": []
    },
    {
      "cell_type": "code",
      "source": [
        "scores['test_accuracy']"
      ],
      "metadata": {
        "id": "VPwpeIQamYX6"
      },
      "execution_count": null,
      "outputs": []
    },
    {
      "cell_type": "code",
      "source": [
        "scores['estimator']"
      ],
      "metadata": {
        "id": "jaLDhhdtm_No"
      },
      "execution_count": null,
      "outputs": []
    },
    {
      "cell_type": "code",
      "source": [
        "for model in scores['estimator']:\n",
        "    print(model.coef_)"
      ],
      "metadata": {
        "id": "ZUyDvaMunCtw"
      },
      "execution_count": null,
      "outputs": []
    },
    {
      "cell_type": "markdown",
      "source": [
        "#####Hyperparameter Tuning"
      ],
      "metadata": {
        "id": "XycmCx2E7nn2"
      }
    },
    {
      "cell_type": "code",
      "source": [
        "logModel = LogisticRegression()"
      ],
      "metadata": {
        "id": "8Z_Zd0oP1rAW"
      },
      "execution_count": null,
      "outputs": []
    },
    {
      "cell_type": "code",
      "source": [
        "param_grid = [    \n",
        "    {'penalty' : ['l1', 'l2', 'elasticnet', 'none'],\n",
        "    'C' : np.logspace(1, 5, 10),\n",
        "    'solver' : ['lbfgs','newton-cg','liblinear','sag','saga'],\n",
        "    'max_iter' : [1000,2500, 5000,10000]\n",
        "    }\n",
        "]"
      ],
      "metadata": {
        "id": "s6MxXWi81rC2"
      },
      "execution_count": null,
      "outputs": []
    },
    {
      "cell_type": "code",
      "source": [
        "clf = GridSearchCV(logModel, param_grid = param_grid, cv = 3, verbose=True, n_jobs=-1)"
      ],
      "metadata": {
        "id": "Za9Tbhjy1rFV"
      },
      "execution_count": null,
      "outputs": []
    },
    {
      "cell_type": "code",
      "source": [
        "best_clf = clf.fit(x,y)"
      ],
      "metadata": {
        "id": "uCCNXlhT1rH9"
      },
      "execution_count": null,
      "outputs": []
    },
    {
      "cell_type": "code",
      "source": [
        "best_clf.best_estimator_"
      ],
      "metadata": {
        "id": "du3uWN5b1rKS"
      },
      "execution_count": null,
      "outputs": []
    },
    {
      "cell_type": "code",
      "source": [
        "print (f'Accuracy - : {best_clf.score(x,y):.3f}')"
      ],
      "metadata": {
        "id": "XHxjnlli1rMs"
      },
      "execution_count": null,
      "outputs": []
    },
    {
      "cell_type": "markdown",
      "source": [
        "##### Which hyperparameter optimization technique have you used and why?"
      ],
      "metadata": {
        "id": "PiV4Ypx8fxKe"
      }
    },
    {
      "cell_type": "markdown",
      "source": [
        "Here we use GridSearchCV Hyperparameter optimization technique for better accuracy score\n"
      ],
      "metadata": {
        "id": "negyGRa7fxKf"
      }
    },
    {
      "cell_type": "markdown",
      "source": [
        "##### Have you seen any improvement? Note down the improvement with updates Evaluation metric Score Chart."
      ],
      "metadata": {
        "id": "TfvqoZmBfxKf"
      }
    },
    {
      "cell_type": "markdown",
      "source": [
        "Ater hyperparameter optimization we not find any improvement in accuracy."
      ],
      "metadata": {
        "id": "OaLui8CcfxKf"
      }
    },
    {
      "cell_type": "markdown",
      "source": [
        "### ML Model - 2 Fitting Decision Tree Classifier"
      ],
      "metadata": {
        "id": "dJ2tPlVmpsJ0"
      }
    },
    {
      "cell_type": "markdown",
      "source": [
        "![decision-tree-classification-algorithm.png](data:image/png;base64,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)"
      ],
      "metadata": {
        "id": "ZUuYiNuf42b3"
      }
    },
    {
      "cell_type": "markdown",
      "source": [
        "#### 1. Explain the ML Model used and it's performance using Evaluation metric Score Chart."
      ],
      "metadata": {
        "id": "JWYfwnehpsJ1"
      }
    },
    {
      "cell_type": "code",
      "source": [
        "#Initializing Decision Tree Model object\n",
        "decision_classify=DecisionTreeClassifier()"
      ],
      "metadata": {
        "id": "IQljR7J8jshc"
      },
      "execution_count": null,
      "outputs": []
    },
    {
      "cell_type": "code",
      "source": [
        "#Taining a model with x and y\n",
        "decision_classify.fit(x_train,y_train)"
      ],
      "metadata": {
        "id": "8fxVcSg1j0-P"
      },
      "execution_count": null,
      "outputs": []
    },
    {
      "cell_type": "code",
      "source": [
        "decision_classify.score(x_train,y_train)"
      ],
      "metadata": {
        "id": "YGHirg8okDRZ"
      },
      "execution_count": null,
      "outputs": []
    },
    {
      "cell_type": "code",
      "source": [
        "decision_classify.score(x_test,y_test)"
      ],
      "metadata": {
        "id": "ic5dfb8dkDVB"
      },
      "execution_count": null,
      "outputs": []
    },
    {
      "cell_type": "code",
      "source": [
        "# Visualizing evaluation Metric Score chart\n",
        "y_pred = decision_classify.predict(x_test)"
      ],
      "metadata": {
        "id": "yEl-hgQWpsJ1"
      },
      "execution_count": null,
      "outputs": []
    },
    {
      "cell_type": "code",
      "source": [
        "#report of decision tree \n",
        "report_dec_tree = classification_report(y_test, y_pred)\n",
        "print(report_dec_tree)\n",
        "dm = confusion_matrix(y_test, y_pred)\n",
        "sns.heatmap(dm,annot=True)"
      ],
      "metadata": {
        "id": "6KHU_39d3av7"
      },
      "execution_count": null,
      "outputs": []
    },
    {
      "cell_type": "markdown",
      "source": [
        "#### 2. Cross- Validation & Hyperparameter Tuning"
      ],
      "metadata": {
        "id": "-jK_YjpMpsJ2"
      }
    },
    {
      "cell_type": "code",
      "source": [
        "# ML Model - 1 Implementation with hyperparameter optimization techniques (i.e., GridSearch CV, RandomSearch CV, Bayesian Optimization etc.)\n",
        "\n",
        "# Fit the Algorithm\n",
        "\n",
        "# Predict on the model\n",
        "#setting the parameters and scoring metric\n",
        "parameters = {\"criterion\":[\"gini\",\"entropy\"],\"max_depth\":[5,7],\"min_samples_split\":[5,7],\"min_samples_leaf\":[2,3]}\n",
        "scoring_=['f1','recall','precision','accuracy']"
      ],
      "metadata": {
        "id": "Dn0EOfS6psJ2"
      },
      "execution_count": null,
      "outputs": []
    },
    {
      "cell_type": "code",
      "source": [
        "#performing hyperparameter tuning using gridsearchcv\n",
        "\n",
        "#setting an estimator,and crossvalidation\n",
        "tree_cv = GridSearchCV(estimator=decision_classify, param_grid=parameters, scoring=scoring_, cv=5,refit='accuracy')\n",
        "\n",
        "#Fitting x and y to gridsearchcv model using an estimator Decision tree classifier\n",
        "tree_cv.fit(x_train, y_train)"
      ],
      "metadata": {
        "id": "-_6d5lTL3_9-"
      },
      "execution_count": null,
      "outputs": []
    },
    {
      "cell_type": "code",
      "source": [
        "#calling an best params\n",
        "tree_cv.best_params_"
      ],
      "metadata": {
        "id": "EIfem0ar4AAd"
      },
      "execution_count": null,
      "outputs": []
    },
    {
      "cell_type": "code",
      "source": [
        "#calling an best score\n",
        "tree_cv.best_score_"
      ],
      "metadata": {
        "id": "LXPDtC5h4ADC"
      },
      "execution_count": null,
      "outputs": []
    },
    {
      "cell_type": "markdown",
      "source": [
        "##### Which hyperparameter optimization technique have you used and why?"
      ],
      "metadata": {
        "id": "HAih1iBOpsJ2"
      }
    },
    {
      "cell_type": "markdown",
      "source": [
        "**Here our model is Overfitted. So Hyperparameter tuning is done to prune a Decision tree to preserve Generalized Model.**\n",
        "\n",
        "* GridSearchCV is the process of performing hyperparameter tuning in order to determine the optimal values for a given model. As mentioned above, the performance of a model significantly depends on the value of hyperparameters. Note that there is no way to know in advance the best values for hyperparameters so ideally, we need to try all possible values to know the optimal values. Doing this manually could take a considerable amount of time and resources and thus we use GridSearchCV to automate the tuning of hyperparameters.\n"
      ],
      "metadata": {
        "id": "9kBgjYcdpsJ2"
      }
    },
    {
      "cell_type": "markdown",
      "source": [
        "##### Have you seen any improvement? Note down the improvement with updates Evaluation metric Score Chart."
      ],
      "metadata": {
        "id": "zVGeBEFhpsJ2"
      }
    },
    {
      "cell_type": "markdown",
      "source": [
        "***94% accuracy of Decision Tree with the help of hypermatring tunning.***"
      ],
      "metadata": {
        "id": "74yRdG6UpsJ3"
      }
    },
    {
      "cell_type": "markdown",
      "source": [
        "### ML Model - 3 Fitting Random Forest"
      ],
      "metadata": {
        "id": "Fze-IPXLpx6K"
      }
    },
    {
      "cell_type": "markdown",
      "source": [
        "![The-architecture-of-the-Random-Forest-Classifier.png](data:image/png;base64,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)"
      ],
      "metadata": {
        "id": "-4a9XEdi4UIH"
      }
    },
    {
      "cell_type": "markdown",
      "source": [
        "#### 1. Explain the ML Model used and it's performance using Evaluation metric Score Chart."
      ],
      "metadata": {
        "id": "7AN1z2sKpx6M"
      }
    },
    {
      "cell_type": "code",
      "source": [
        "# ML Model - 3 Implementation\n",
        "\n",
        "# Fit the Algorithm\n",
        "\n",
        "# Predict on the model\n",
        "random_forest = RandomForestClassifier()\n",
        "random_forest.fit(x_train,y_train)"
      ],
      "metadata": {
        "id": "FFrSXAtrpx6M"
      },
      "execution_count": null,
      "outputs": []
    },
    {
      "cell_type": "code",
      "source": [
        "random_forest.score(x_test,y_test)"
      ],
      "metadata": {
        "id": "GW-XLqoA-g4d"
      },
      "execution_count": null,
      "outputs": []
    },
    {
      "cell_type": "markdown",
      "source": [
        "92% accuracy with Random Forest"
      ],
      "metadata": {
        "id": "KafcafQ15-Sg"
      }
    },
    {
      "cell_type": "code",
      "source": [
        "#report of decision tree \n",
        "report_ran_forest = classification_report(y_test, y_pred)\n",
        "print(report_ran_forest)\n",
        "cm = confusion_matrix(y_test, y_pred)\n",
        "sns.heatmap(cm,annot=True)"
      ],
      "metadata": {
        "id": "bc73urB2-g69"
      },
      "execution_count": null,
      "outputs": []
    },
    {
      "cell_type": "markdown",
      "source": [
        "#### 2. Cross- Validation & Hyperparameter Tuning"
      ],
      "metadata": {
        "id": "9PIHJqyupx6M"
      }
    },
    {
      "cell_type": "code",
      "source": [
        "# ML Model - 3 Implementation with hyperparameter optimization techniques (i.e., GridSearch CV, RandomSearch CV, Bayesian Optimization etc.)\n",
        "\n",
        "# Fit the Algorithm\n",
        "\n",
        "# Predict on the model\n",
        "random_forest_gridcv = GridSearchCV(estimator=random_forest,\n",
        "                       param_grid = parameters,\n",
        "                       cv = 5, verbose=2)"
      ],
      "metadata": {
        "id": "eSVXuaSKpx6M"
      },
      "execution_count": null,
      "outputs": []
    },
    {
      "cell_type": "code",
      "source": [
        "random_forest_gridcv.fit(x_train,y_train)"
      ],
      "metadata": {
        "id": "oRBdFPsR-4nF"
      },
      "execution_count": null,
      "outputs": []
    },
    {
      "cell_type": "code",
      "source": [
        "random_forest_gridcv.best_params_"
      ],
      "metadata": {
        "id": "ThBlMpQb-4wT"
      },
      "execution_count": null,
      "outputs": []
    },
    {
      "cell_type": "code",
      "source": [
        "#calling an best score\n",
        "random_forest_gridcv.best_score_"
      ],
      "metadata": {
        "id": "Fcn4lNRPqOcv"
      },
      "execution_count": null,
      "outputs": []
    },
    {
      "cell_type": "markdown",
      "source": [
        "##### Which hyperparameter optimization technique have you used and why?"
      ],
      "metadata": {
        "id": "_-qAgymDpx6N"
      }
    },
    {
      "cell_type": "markdown",
      "source": [
        "Here we used GridSearchCv for improve the accuracy"
      ],
      "metadata": {
        "id": "lQMffxkwpx6N"
      }
    },
    {
      "cell_type": "markdown",
      "source": [
        "##### Have you seen any improvement?"
      ],
      "metadata": {
        "id": "Z-hykwinpx6N"
      }
    },
    {
      "cell_type": "markdown",
      "source": [
        "**After Hypermeter tuning we get a better score and the accuracy is 94%.**"
      ],
      "metadata": {
        "id": "MzVzZC6opx6N"
      }
    },
    {
      "cell_type": "markdown",
      "source": [
        "###ML Model - 4 K-Nearest Neighbor\n",
        "\n",
        "\n",
        "\n"
      ],
      "metadata": {
        "id": "OFEu2FxKaqJc"
      }
    },
    {
      "cell_type": "markdown",
      "source": [
        "![download - 2023-05-13T165155.377.png](data:image/png;base64,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)"
      ],
      "metadata": {
        "id": "JX0UBstM1ych"
      }
    },
    {
      "cell_type": "markdown",
      "source": [
        "#### 1. Explain the ML Model used and it's performance using Evaluation metric Score Chart."
      ],
      "metadata": {
        "id": "qzLLMQVKg9qE"
      }
    },
    {
      "cell_type": "code",
      "source": [
        "# ML Model - 3 Implementation\n",
        "\n",
        "# Fit the Algorithm\n",
        "\n",
        "# Predict on the model\n",
        "k_neighbor=KNeighborsClassifier()\n",
        "k_neighbor.fit(x_train,y_train)"
      ],
      "metadata": {
        "id": "ceiErPDaa61U"
      },
      "execution_count": null,
      "outputs": []
    },
    {
      "cell_type": "code",
      "source": [
        "y_predict=k_neighbor.predict(x_test)"
      ],
      "metadata": {
        "id": "L4zxc8IhbVgU"
      },
      "execution_count": null,
      "outputs": []
    },
    {
      "cell_type": "code",
      "source": [
        "# Compute accuracy on the training set\n",
        "train_accuracy=k_neighbor.score(x_train,y_train)\n",
        "print(train_accuracy)\n",
        "# Compute accuracy on the training set\n",
        "test_accuracy=k_neighbor.score(x_test,y_test)\n",
        "print(test_accuracy)"
      ],
      "metadata": {
        "id": "D8p0u5-HbVo6"
      },
      "execution_count": null,
      "outputs": []
    },
    {
      "cell_type": "markdown",
      "source": [
        "Train accuracy-95%.\n",
        "\n",
        "Test accuracy-93%."
      ],
      "metadata": {
        "id": "Ibr5IAnZ8ET9"
      }
    },
    {
      "cell_type": "code",
      "source": [
        "#confusion matrix of k_neighbor  \n",
        "confuse_matrix_k_neighbor  = confusion_matrix(y_test,y_pred)\n",
        "print(confuse_matrix_k_neighbor)\n",
        "sns.heatmap(confuse_matrix_k_neighbor,annot=True)"
      ],
      "metadata": {
        "id": "HaLoDDU9hE0W"
      },
      "execution_count": null,
      "outputs": []
    },
    {
      "cell_type": "code",
      "source": [
        "# Area under ROC curve\n",
        "roc_auc_score(y_test,y_pred)"
      ],
      "metadata": {
        "id": "Hw012CiQhE3q"
      },
      "execution_count": null,
      "outputs": []
    },
    {
      "cell_type": "markdown",
      "source": [
        "#### 2.Hyperparameter Tuning"
      ],
      "metadata": {
        "id": "fb9ixwSrjuFO"
      }
    },
    {
      "cell_type": "code",
      "source": [
        "# Import GridSearchCV\n",
        "from sklearn.model_selection import GridSearchCV"
      ],
      "metadata": {
        "id": "L74L7T9AjZPO"
      },
      "execution_count": null,
      "outputs": []
    },
    {
      "cell_type": "code",
      "source": [
        "# In case of classifier like knn the parameter to be tuned is n_neighbors\n",
        "param_grid = {'n_neighbors':np.arange(1,50)}"
      ],
      "metadata": {
        "id": "Yn79SGtIkEsg"
      },
      "execution_count": null,
      "outputs": []
    },
    {
      "cell_type": "code",
      "source": [
        "knn = KNeighborsClassifier()\n",
        "knn_cv= GridSearchCV(knn,param_grid,cv=5)\n",
        "knn_cv.fit(x,y)"
      ],
      "metadata": {
        "id": "Xqg-12YujZRo"
      },
      "execution_count": null,
      "outputs": []
    },
    {
      "cell_type": "code",
      "source": [
        "knn_cv.best_score_"
      ],
      "metadata": {
        "id": "OwYafVSwjZUC"
      },
      "execution_count": null,
      "outputs": []
    },
    {
      "cell_type": "code",
      "source": [
        "knn_cv.best_params_"
      ],
      "metadata": {
        "id": "WFUv3d_HjZW2"
      },
      "execution_count": null,
      "outputs": []
    },
    {
      "cell_type": "markdown",
      "source": [
        "##### Which hyperparameter optimization technique have you used and why?"
      ],
      "metadata": {
        "id": "9M0UStWC7pfk"
      }
    },
    {
      "cell_type": "markdown",
      "source": [
        "Here we used GridSearchCv for improve the accuracy"
      ],
      "metadata": {
        "id": "J7TWMuzA7sND"
      }
    },
    {
      "cell_type": "markdown",
      "source": [
        "##### Have you seen any improvement?"
      ],
      "metadata": {
        "id": "q1NRKnt97sfy"
      }
    },
    {
      "cell_type": "markdown",
      "source": [
        "**After using Hypermeter tuning we get a better accuracy score and the accuracy is 94%.**"
      ],
      "metadata": {
        "id": "_qf7gKsG65q8"
      }
    },
    {
      "cell_type": "markdown",
      "source": [
        "###ML Model - 5 Naive Bayes Classifier"
      ],
      "metadata": {
        "id": "heVVxVWalj0p"
      }
    },
    {
      "cell_type": "markdown",
      "source": [
        "![Inked1_39U1Ln3tSdFqsfQy6ndxOA.jpg](data:image/jpeg;base64,/9j/4AAQSkZJRgABAQEAAAAAAAD/4RCyRXhpZgAATU0AKgAAAAgAAodpAAQAAAABAAAIMuocAAcAAAgMAAAAJgAAAAAc6gAAAAgAAAAAAAAAAAAAAAAAAAAAAAAAAAAAAAAAAAAAAAAAAAAAAAAAAAAAAAAAAAAAAAAAAAAAAAAAAAAAAAAAAAAAAAAAAAAAAAAAAAAAAAAAAAAAAAAAAAAAAAAAAAAAAAAAAAAAAAAAAAAAAAAAAAAAAAAAAAAAAAAAAAAAAAAAAAAAAAAAAAAAAAAAAAAAAAAAAAAAAAAAAAAAAAAAAAAAAAAAAAAAAAAAAAAAAAAAAAAAAAAAAAAAAAAAAAAAAAAAAAAAAAAAAAAAAAAAAAAAAAAAAAAAAAAAAAAAAAAAAAAAAAAAAAAAAAAAAAAAAAAAAAAAAAAAAAAAAAAAAAAAAAAAAAAAAAAAAAAAAAAAAAAAAAAAAAAAAAAAAAAAAAAAAAAAAAAAAAAAAAAAAAAAAAAAAAAAAAAAAAAAAAAAAAAAAAAAAAAAAAAAAAAAAAAAAAAAAAAAAAAAAAAAAAAAAAAAAAAAAAAAAAAAAAAAAAAAAAAAAAAAAAAAAAAAAAAAAAAAAAAAAAAAAAAAAAAAAAAAAAAAAAAAAAAAAAAAAAAAAAAAAAAAAAAAAAAAAAAAAAAAAAAAAAAAAAAAAAAAAAAAAAAAAAAAAAAAAAAAAAAAAAAAAAAAAAAAAAAAAAAAAAAAAAAAAAAAAAAAAAAAAAAAAAAAAAAAAAAAAAAAAAAAAAAAAAAAAAAAAAAAAAAAAAAAAAAAAAAAAAAAAAAAAAAAAAAAAAAAAAAAAAAAAAAAAAAAAAAAAAAAAAAAAAAAAAAAAAAAAAAAAAAAAAAAAAAAAAAAAAAAAAAAAAAAAAAAAAAAAAAAAAAAAAAAAAAAAAAAAAAAAAAAAAAAAAAAAAAAAAAAAAAAAAAAAAAAAAAAAAAAAAAAAAAAAAAAAAAAAAAAAAAAAAAAAAAAAAAAAAAAAAAAAAAAAAAAAAAAAAAAAAAAAAAAAAAAAAAAAAAAAAAAAAAAAAAAAAAAAAAAAAAAAAAAAAAAAAAAAAAAAAAAAAAAAAAAAAAAAAAAAAAAAAAAAAAAAAAAAAAAAAAAAAAAAAAAAAAAAAAAAAAAAAAAAAAAAAAAAAAAAAAAAAAAAAAAAAAAAAAAAAAAAAAAAAAAAAAAAAAAAAAAAAAAAAAAAAAAAAAAAAAAAAAAAAAAAAAAAAAAAAAAAAAAAAAAAAAAAAAAAAAAAAAAAAAAAAAAAAAAAAAAAAAAAAAAAAAAAAAAAAAAAAAAAAAAAAAAAAAAAAAAAAAAAAAAAAAAAAAAAAAAAAAAAAAAAAAAAAAAAAAAAAAAAAAAAAAAAAAAAAAAAAAAAAAAAAAAAAAAAAAAAAAAAAAAAAAAAAAAAAAAAAAAAAAAAAAAAAAAAAAAAAAAAAAAAAAAAAAAAAAAAAAAAAAAAAAAAAAAAAAAAAAAAAAAAAAAAAAAAAAAAAAAAAAAAAAAAAAAAAAAAAAAAAAAAAAAAAAAAAAAAAAAAAAAAAAAAAAAAAAAAAAAAAAAAAAAAAAAAAAAAAAAAAAAAAAAAAAAAAAAAAAAAAAAAAAAAAAAAAAAAAAAAAAAAAAAAAAAAAAAAAAAAAAAAAAAAAAAAAAAAAAAAAAAAAAAAAAAAAAAAAAAAAAAAAAAAAAAAAAAAAAAAAAAAAAAAAAAAAAAAAAAAAAAAAAAAAAAAAAAAAAAAAAAAAAAAAAAAAAAAAAAAAAAAAAAAAAAAAAAAAAAAAAAAAAAAAAAAAAAAAAAAAAAAAAAAAAAAAAAAAAAAAAAAAAAAAAAAAAAAAAAAAAAAAAAAAAAAAAAAAAAAAAAAAAAAAAAAAAAAAAAAAAAAAAAAAAAAAAAAAAAAAAAAAAAAAAAAAAAAAAAAAAAAAAAAAAAAAAAAAAAAAAAAAAAAAAAAAAAAAAAAAAAAAAAAAAAAAAAAAAAAAAAAAAAAAAAAAAAAAAAAAAAAAAAAAAAAAAAAAAAAAAAAAAAAAAAAAAAAAAAAAAAAAAAAAAAAAAAAAAAAAAAAAAAAAAAAAAAAAAAAAAAAAAAAAAAAAAAAAAAAAAAAAAAAAAAAAAAAAAAAAAAAAAAAAAAAAAAAAAAAAAAAAAAAAAAAAAAAAAAAAAAAAAAAAAAAAAAAAAAAAAAAAAAAAAAAAAAAAAAAAAAAAAAAAAAAAAAAAAAAAAAAAAAAAAAAAAAAAAAAAAAAAAAAAAAAAAAAAAAAAAAAAAAAAAAAAAAAAAAAAAAAAAAAAAAAAAAAAAAAAAAAAAAAAAAAAAAAAAAAAAAAAAAAAAAAAAAAAAAAAAAAAAAAAAAAAAAAAAAAAAAAAAAAAAAAAAAAAAAAAAAAAAAAAAAAAAAAAAAAAAAAAAAAAAAAAAAAAAAAAAAAAAAAAAAAAAAAAAAAAAAAAAAAAAAAAAAAAAAAAAAAAAAAAAAAAAAAAAAAAAAAAAAAAAAAAAAAAAAAAAAAAAAAAAAAAAAAAAAAAAAAAAAAAAAAAAAAAAAAAAAAAAAAAAAAAAAAAAAAAAAAAAAAAAAAAAAAAAAAAAAAAAAAAAAAAAAAAAAAAAAAAAAAAAAAAAAAAAAAAAAAAAAAAAAAAAAAAAAAAAAAAAAAAAAAAAAAAAAAAAAAAAAAAAAAAAAAAAAAAAAAAAAAAAAAAAAAAAAAAAAAAAAAAAAAAAAAAAAAAAAAAAAAAAAAAAAAAAAAAAAAAAAAAAAAAAAAAAAAAAAAAAAAAAAAAAAAAAAAAAAAAAAAAAAAAAAAAAAAAAAAAAAAAAFkAMAAgAAABQAABCAkAQAAgAAABQAABCUkpEAAgAAAAMwMAAAkpIAAgAAAAMwMAAA6hwABwAACAwAAAh0AAAAABzqAAAACAAAAAAAAAAAAAAAAAAAAAAAAAAAAAAAAAAAAAAAAAAAAAAAAAAAAAAAAAAAAAAAAAAAAAAAAAAAAAAAAAAAAAAAAAAAAAAAAAAAAAAAAAAAAAAAAAAAAAAAAAAAAAAAAAAAAAAAAAAAAAAAAAAAAAAAAAAAAAAAAAAAAAAAAAAAAAAAAAAAAAAAAAAAAAAAAAAAAAAAAAAAAAAAAAAAAAAAAAAAAAAAAAAAAAAAAAAAAAAAAAAAAAAAAAAAAAAAAAAAAAAAAAAAAAAAAAAAAAAAAAAAAAAAAAAAAAAAAAAAAAAAAAAAAAAAAAAAAAAAAAAAAAAAAAAAAAAAAAAAAAAAAAAAAAAAAAAAAAAAAAAAAAAAAAAAAAAAAAAAAAAAAAAAAAAAAAAAAAAAAAAAAAAAAAAAAAAAAAAAAAAAAAAAAAAAAAAAAAAAAAAAAAAAAAAAAAAAAAAAAAAAAAAAAAAAAAAAAAAAAAAAAAAAAAAAAAAAAAAAAAAAAAAAAAAAAAAAAAAAAAAAAAAAAAAAAAAAAAAAAAAAAAAAAAAAAAAAAAAAAAAAAAAAAAAAAAAAAAAAAAAAAAAAAAAAAAAAAAAAAAAAAAAAAAAAAAAAAAAAAAAAAAAAAAAAAAAAAAAAAAAAAAAAAAAAAAAAAAAAAAAAAAAAAAAAAAAAAAAAAAAAAAAAAAAAAAAAAAAAAAAAAAAAAAAAAAAAAAAAAAAAAAAAAAAAAAAAAAAAAAAAAAAAAAAAAAAAAAAAAAAAAAAAAAAAAAAAAAAAAAAAAAAAAAAAAAAAAAAAAAAAAAAAAAAAAAAAAAAAAAAAAAAAAAAAAAAAAAAAAAAAAAAAAAAAAAAAAAAAAAAAAAAAAAAAAAAAAAAAAAAAAAAAAAAAAAAAAAAAAAAAAAAAAAAAAAAAAAAAAAAAAAAAAAAAAAAAAAAAAAAAAAAAAAAAAAAAAAAAAAAAAAAAAAAAAAAAAAAAAAAAAAAAAAAAAAAAAAAAAAAAAAAAAAAAAAAAAAAAAAAAAAAAAAAAAAAAAAAAAAAAAAAAAAAAAAAAAAAAAAAAAAAAAAAAAAAAAAAAAAAAAAAAAAAAAAAAAAAAAAAAAAAAAAAAAAAAAAAAAAAAAAAAAAAAAAAAAAAAAAAAAAAAAAAAAAAAAAAAAAAAAAAAAAAAAAAAAAAAAAAAAAAAAAAAAAAAAAAAAAAAAAAAAAAAAAAAAAAAAAAAAAAAAAAAAAAAAAAAAAAAAAAAAAAAAAAAAAAAAAAAAAAAAAAAAAAAAAAAAAAAAAAAAAAAAAAAAAAAAAAAAAAAAAAAAAAAAAAAAAAAAAAAAAAAAAAAAAAAAAAAAAAAAAAAAAAAAAAAAAAAAAAAAAAAAAAAAAAAAAAAAAAAAAAAAAAAAAAAAAAAAAAAAAAAAAAAAAAAAAAAAAAAAAAAAAAAAAAAAAAAAAAAAAAAAAAAAAAAAAAAAAAAAAAAAAAAAAAAAAAAAAAAAAAAAAAAAAAAAAAAAAAAAAAAAAAAAAAAAAAAAAAAAAAAAAAAAAAAAAAAAAAAAAAAAAAAAAAAAAAAAAAAAAAAAAAAAAAAAAAAAAAAAAAAAAAAAAAAAAAAAAAAAAAAAAAAAAAAAAAAAAAAAAAAAAAAAAAAAAAAAAAAAAAAAAAAAAAAAAAAAAAAAAAAAAAAAAAAAAAAAAAAAAAAAAAAAAAAAAAAAAAAAAAAAAAAAAAAAAAAAAAAAAAAAAAAAAAAAAAAAAAAAAAAAAAAAAAAAAAAAAAAAAAAAAAAAAAAAAAAAAAAAAAAAAAAAAAAAAAAAAAAAAAAAAAAAAAAAAAAAAAAAAAAAAAAAAAAAAAAAAAAAAAAAAAAAAAAAAAAAAAAAAAAAAAAAAAAAAAAAAAAAAAAAAAAAAAAAAAAAAAAAAAAAAAAAAAAAAAAAAAAAAAAAAAAAAAAAAAAAAAAAAAAAAAAAAAAAAAAAAAAAAAAAAAAAAAAAAAAAAAAAAAAAAAAAAAAAAAAAAAAAAAAAAAAAAAAAAAAAAAAAAAAAAAAAAAAAAAAAAAAAAAAAAAAAAAAAAAAAAAAAAAAAAAAAAAAAAAAAAAAAAAAAAAAAAAAAAAAAAAAAAAAAAAAAAAAAAAAAAAAAAAAAAAAAAAAAAAAAAAAAAAAAAAAAAAAAAAAAAAAAAAAAAAAAAAAAAAAAAAAAAAAAAAAAAAAAAAAAAAAAAAAAAAAAAAAAAAAAAAAAAAAAAAAAAAAAAAAAAAAAAAAAAAAAAAAAAAAAAAAAAAAAAAAAAAAAAAAAAAAAAAAAAAAAAAAAAAAAAAAAAAAAAAAAAAAAAAAAAAAAAAAAAAAAAAAAAAAAAAAAAAAAAAAAAAAAAAAAAAAAAAAAAAAAAAAAAAAAAAAAAAAAAAAAAAAAAAAAAAAAAAAAAAAAAAAAAAAAAAAAAAAAAAAAAAAAAAAAAAAAAAAAAAAAAAAAAAAAAAAAAAAAAAAAAAAAAAAAAAAAAAAAAAAAAAAAAAAAAAAAAAAAAAAAAAAAAAAAAAAAAAAAAAAAAAAAAAAAAAAAAAAAAAAAAAAAAAAAAAAAAAAAAAAAAAAAAAAAAAAAAAAAAAAAAAAAAAAAAAAAAAAAAAAAAAAAAAAAAAAAAAAAAAAAAAAAAAAAAAAAAAAAAAAAAAAAAAAAAAAAAAAAAAAAAAAAAAAAAAAAAAAAAAAAAAAAAAAAAAAAAAAAAAAAAAAAAAAAAAAAAAAAAAAAAAAMjAyMzowNToxMyAxNjo0NTo1NAAyMDIzOjA1OjEzIDE2OjQ1OjU0AAAA/+EJnGh0dHA6Ly9ucy5hZG9iZS5jb20veGFwLzEuMC8APD94cGFja2V0IGJlZ2luPSfvu78nIGlkPSdXNU0wTXBDZWhpSHpyZVN6TlRjemtjOWQnPz4NCjx4OnhtcG1ldGEgeG1sbnM6eD0iYWRvYmU6bnM6bWV0YS8iPjxyZGY6UkRGIHhtbG5zOnJkZj0iaHR0cDovL3d3dy53My5vcmcvMTk5OS8wMi8yMi1yZGYtc3ludGF4LW5zIyI+PHJkZjpEZXNjcmlwdGlvbiByZGY6YWJvdXQ9InV1aWQ6ZmFmNWJkZDUtYmEzZC0xMWRhLWFkMzEtZDMzZDc1MTgyZjFiIiB4bWxuczp4bXA9Imh0dHA6Ly9ucy5hZG9iZS5jb20veGFwLzEuMC8iPjx4bXA6Q3JlYXRlRGF0ZT4yMDIzLTA1LTEzVDE2OjQ1OjU0PC94bXA6Q3JlYXRlRGF0ZT48L3JkZjpEZXNjcmlwdGlvbj48L3JkZjpSREY+PC94OnhtcG1ldGE+DQogICAgICAgICAgICAgICAgICAgICAgICAgICAgICAgICAgICAgICAgICAgICAgICAgICAgICAgICAgICAgICAgICAgICAgICAgICAgICAgICAgICAgICAgICAgICAgICAgICAgCiAgICAgICAgICAgICAgICAgICAgICAgICAgICAgICAgICAgICAgICAgICAgICAgICAgICAgICAgICAgICAgICAgICAgICAgICAgICAgICAgICAgICAgICAgICAgICAgICAgICAKICAgICAgICAgICAgICAgICAgICAgICAgICAgICAgICAgICAgICAgICAgICAgICAgICAgICAgICAgICAgICAgICAgICAgICAgICAgICAgICAgICAgICAgICAgICAgICAgICAgIAogICAgICAgICAgICAgICAgICAgICAgICAgICAgICAgICAgICAgICAgICAgICAgICAgICAgICAgICAgICAgICAgICAgICAgICAgICAgICAgICAgICAgICAgICAgICAgICAgICAgCiAgICAgICAgICAgICAgICAgICAgICAgICAgICAgICAgICAgICAgICAgICAgICAgICAgICAgICAgICAgICAgICAgICAgICAgICAgICAgICAgICAgICAgICAgICAgICAgICAgICAKICAgICAgICAgICAgICAgICAgICAgICAgICAgICAgICAgICAgICAgICAgICAgICAgICAgICAgICAgICAgICAgICAgICAgICAgICAgICAgICAgICAgICAgICAgICAgICAgICAgIAogICAgICAgICAgICAgICAgICAgICAgICAgICAgICAgICAgICAgICAgICAgICAgICAgICAgICAgICAgICAgICAgICAgICAgICAgICAgICAgICAgICAgICAgICAgICAgICAgICAgCiAgICAgICAgICAgICAgICAgICAgICAgICAgICAgICAgICAgICAgICAgICAgICAgICAgICAgICAgICAgICAgICAgICAgICAgICAgICAgICAgICAgICAgICAgICAgICAgICAgICAKICAgICAgICAgICAgICAgICAgICAgICAgICAgICAgICAgICAgICAgICAgICAgICAgICAgICAgICAgICAgICAgICAgICAgICAgICAgICAgICAgICAgICAgICAgICAgICAgICAgIAogICAgICAgICAgICAgICAgICAgICAgICAgICAgICAgICAgICAgICAgICAgICAgICAgICAgICAgICAgICAgICAgICAgICAgICAgICAgICAgICAgICAgICAgICAgICAgICAgICAgCiAgICAgICAgICAgICAgICAgICAgICAgICAgICAgICAgICAgICAgICAgICAgICAgICAgICAgICAgICAgICAgICAgICAgICAgICAgICAgICAgICAgICAgICAgICAgICAgICAgICAKICAgICAgICAgICAgICAgICAgICAgICAgICAgICAgICAgICAgICAgICAgICAgICAgICAgICAgICAgICAgICAgICAgICAgICAgICAgICAgICAgICAgICAgICAgICAgICAgICAgIAogICAgICAgICAgICAgICAgICAgICAgICAgICAgICAgICAgICAgICAgICAgICAgICAgICAgICAgICAgICAgICAgICAgICAgICAgICAgICAgICAgICAgICAgICAgICAgICAgICAgCiAgICAgICAgICAgICAgICAgICAgICAgICAgICAgICAgICAgICAgICAgICAgICAgICAgICAgICAgICAgICAgICAgICAgICAgICAgICAgICAgICAgICAgICAgICAgICAgICAgICAKICAgICAgICAgICAgICAgICAgICAgICAgICAgICAgICAgICAgICAgICAgICAgICAgICAgICAgICAgICAgICAgICAgICAgICAgICAgICAgICAgICAgICAgICAgICAgICAgICAgIAogICAgICAgICAgICAgICAgICAgICAgICAgICAgICAgICAgICAgICAgICAgICAgICAgICAgICAgICAgICAgICAgICAgICAgICAgICAgICAgICAgICAgICAgICAgICAgICAgICAgCiAgICAgICAgICAgICAgICAgICAgICAgICAgICAgICAgICAgICAgICAgICAgICAgICAgICAgICAgICAgICAgICAgICAgICAgICAgICAgICAgICAgICAgICAgICAgICAgICAgICAKICAgICAgICAgICAgICAgICAgICAgICAgICAgICAgICAgICAgICAgICAgICAgICAgICAgICAgICAgICAgICAgICAgICAgICAgICAgICAgICAgICAgICAgICAgICAgICAgICAgIAogICAgICAgICAgICAgICAgICAgICAgICAgICAgICAgICAgICAgICAgICAgICAgICAgICAgICAgICAgICAgICAgICAgICAgICAgICAgICAgICAgICAgICAgICAgICAgICAgICAgCiAgICAgICAgICAgICAgICAgICAgICAgICAgICAgICAgICAgICAgICAgICAgICAgICAgICAgICAgICAgICAgICAgICAgICAgICAgICAgICAgICAgICAgICAgICAgICAgICAgICAKICAgICAgICAgICAgICAgICAgICAgICAgICAgIDw/eHBhY2tldCBlbmQ9J3cnPz7/2wBDAAIBAQEBAQIBAQECAgICAgQDAgICAgUEBAMEBgUGBgYFBgYGBwkIBgcJBwYGCAsICQoKCgoKBggLDAsKDAkKCgr/2wBDAQICAgICAgUDAwUKBwYHCgoKCgoKCgoKCgoKCgoKCgoKCgoKCgoKCgoKCgoKCgoKCgoKCgoKCgoKCgoKCgoKCgr/wAARCAK9BXgDASIAAhEBAxEB/8QAHwAAAQUBAQEBAQEAAAAAAAAAAAECAwQFBgcICQoL/8QAtRAAAgEDAwIEAwUFBAQAAAF9AQIDAAQRBRIhMUEGE1FhByJxFDKBkaEII0KxwRVS0fAkM2JyggkKFhcYGRolJicoKSo0NTY3ODk6Q0RFRkdISUpTVFVWV1hZWmNkZWZnaGlqc3R1dnd4eXqDhIWGh4iJipKTlJWWl5iZmqKjpKWmp6ipqrKztLW2t7i5usLDxMXGx8jJytLT1NXW19jZ2uHi4+Tl5ufo6erx8vP09fb3+Pn6/8QAHwEAAwEBAQEBAQEBAQAAAAAAAAECAwQFBgcICQoL/8QAtREAAgECBAQDBAcFBAQAAQJ3AAECAxEEBSExBhJBUQdhcRMiMoEIFEKRobHBCSMzUvAVYnLRChYkNOEl8RcYGRomJygpKjU2Nzg5OkNERUZHSElKU1RVVldYWVpjZGVmZ2hpanN0dXZ3eHl6goOEhYaHiImKkpOUlZaXmJmaoqOkpaanqKmqsrO0tba3uLm6wsPExcbHyMnK0tPU1dbX2Nna4uPk5ebn6Onq8vP09fb3+Pn6/9oADAMBAAIRAxEAPwD9/KKKKACiiigAooooAKKKKACiiigAooooAKKKKACiiigAooooAKKKKACiiigAooooAKKKKACiiigAooooAKKKKACiiigAooooAKKKKACiiigAooooAKKKKACiiigAooooAKKKKACiiigAooooAKKKKACiiigAooooAKKKKACiiigAooooAKKKKACiiigAooooAKKKKACiiigAooooAKKKKACiiigAooooAKKKKACiiigAooooAKKKKACiiigAooooAKKKKACiiigAooooAKKKKACiiigAooooAKKKKACiiigAooooAKKKKACiiigAooooAKKKKACiiigAooooAKKKKACiiigAooooAKKKKACiiigAooooAKKKKACiiigAooooAKKKKACiiigAooooAKKKKACiiigAooooAKKKKACiiigAooooAKKKKACiiigAooooAKKKKACiiigAooooAKKKKACiiigAozTXLAfKP/rVn/8ACV+HfLVhrliwYdReR8/+PUAaO75tu0/WlqvFdpdQpNDKskcihleNgQynoQRwR9KO/T9aALAOe1FRec+Pxz/9aniVCOtADqAwYZBrPfxV4bjLrJr1kpjYrJuvI/lIOCD83GDVsXCsqvEVKkZXaeGB70APD5bbtb604sAcE1H55/uf+PUsTlzhh7/SgB9FNjCgfIeKdQAUUUUAFAYE4B6U0vnBRuO/FVrLV7DVYTdaVewzxb2QzQSrIu5eCuVJGQeMdqALQbJxtNAbLbdp+tRmc5yB+FAmbbz13flQBKGBOAaKZE5fqn/AvWlUkAK5+agB1FFFABRRRQAUUUUAFFFFABRRRQAUUUySQg7V/E4zigB9AOe1c740+LHwz+HEYm+IHxA0PQ0Izv1nWbe1H/kV1rhZP27P2KgWD/tf/C1WHDf8XE0vj2/4+KAPWgzqMyFce1AkRjgNXNeA/ix8MvihZtqHwz+Iug+IrdVy02hazb3iAeuYXYVvrJg4XgjrnrQMsLux83X2oquWbJOetP8AM2ooXrnmgRLRTVlQ96cWAOCetABRRRQAUUUUAFFFFABRRRQAUUUUAFFFFABRRRQAUUUUAFFFFABRRRQAUUUUAFFFFABRRRQAUUUUAFFFFABRRRQAUUUUAFFFFABRRRQAUUUUAFFFFABRRRQAUUUUAFFFFABRRRQAUUUUAFFFFABRRRQAUUUUAFFFFABRRRQAUUUUAFFFFABRRRQAUUUUAFFFFABRRRQAUUUUAFFFFABRRRQAUUUUAFFFFABRRRQAUUUUAFFFFABRRRQAUUUUAFFFFABRRRQAUUUUAFFFFABRRRQAUUUUAFFFFABRRRQAUUUUAFFFFABRRRQAUUUUAFFFFABRRRQAUUUUAFFFFABRRRQAUUUUAFFFFABRRRQAUE4GaKRmC9fpQA3OSuWzuPQ9uK/gH7V/fu23zk2kccfpX8Hv7N3hLwX4+/aG8B+BviQ9yvh3WfGWl2OvNZyiOYWU15FHPsYghX8tmwcHBxQB+63/AAaC/wDBWwazo9x/wSs+OPiMfbNPjudV+D95dyDdPb/NNe6OD1Zk/eXUIwTsNypIWONa/eI3GOA+a/iJ/aS+Dvx7/wCCU3/BQbxF8LdO8SX2i+NvhD46Evh3xFDGI5JBDIs9hqKKdw2TQGCdVbIKy7WB5Ff1sf8ABKv/AIKN+AP+Cnf7Fvhn9p/whHa2OrXCnTfHHh+3cn+xdbhVftFuMknymDLPESSTDNHnDBgAa7H1As6MM54p5fAUDuy/+hCs6O6UqB5g+npVqKfeUJP8Sj68igep/Dn+38ip+3d8aAqjH/C2PEvG3/qKXVf2ifsS+VF+xr8JUQBVHwx8PhVUdB/ZlvX8Xf8AwUA/5Pv+NH/ZWPE3/p1uq/s8/YrlMf7G3wlw3/NMfD//AKbLaglHq3mL6/pSgq3Sqguvmx5n4VJFMoXc0i+5NBWpajJDjHepCWVs4yv8qrxv5i70yf8AaVak+0fPjf8AMP4aBEqsGXcKWo1n5+fHTNL5wPCjn3oEfi5/wehftKftCfCT9lz4WfBT4Wa7qmleD/iJr2rp49vdLmkh+1C0gtTbafM6Y3Qy/aLiVoicObVcghTX5T/8G0H7Rnx6+Cf/AAVt+F3gf4Q69qR0j4ga02i+NPDtvI7W2p6ebeZmlliHBa2wbhZOCnltzsZw39V37V/7I/7OH7b3wavvgB+1V8KtN8YeFb64jnk0/UGkjaC4TOyeCeJklt5lDMokidX2u65KswPjP7DP/BFv/gm3/wAE5/Gt18UP2W/2f4NN8VXlq9q/ibWNbu9UvIbdvvRQNcyOtuGGQxiVWccMzAAAA+qo5mMakjqopwkBOCKqyXBUbmbbxRHcAsMTK31YUFalxG2ncp/+vUu6OQ7GFV4yAdpP0qRGKNuoESq4J2kYNOqPzEc5IKn19KOFPzXPf1oESE45NGaYZI3TrSrLHjg0ALvX+8KXNQtJbj5nGM+pp25UTdGuB33ZoAezBV3GhWDDIqMXIZQUwfWlWfn56AJMjOM0VGsqk73HOO1KrE/dOfm5B7UAOYkDIFfm9/wdY+J/Efhb/gjv4yvvC/iC/wBNuJPFXh+GSbT7ySB3ja+XchZGBKnuDwcfSv0gYZbLgYXoa/M//g7MYv8A8EbPGBx/zOPhz/0vWgD+XH9m79m/47fti/G/Rv2e/wBnXwHceKvG3iaScaTo0N1DE9y0UElxKTJO6RqFiikcs7AYU85r7Ntf+DXD/gubcWrTyfsXWsLYBSGb4jeG97+wxfkfmRUH/Brdj/h+l8D9w/h8Tf8AqNapX9cEsqpHyQPl/u0DSufxd/tJ/wDBJb/gqZ+wPbf8LL+O37JPjnwnY6WRPJ4s0dEvrHTzkbXe+06SWKA5OAWdeelfSv8AwTB/4Ogv29/2JPF+m+E/2i/HOr/Gf4ZNMsepaP4s1A3Gs2ERPzS2OoSkyl1G3EE7SQlVKKIS3mL/AFTy/Z5oZLaWLdFNGUljaMFXUjBVh0I9jkGv5Rf+Dnv/AIJ6/Cf9hD/goRDqfwA8LWuheDfid4YTxLaeH9PhEVppF/8AaZbe8traMcRwF40mVBhY/tBjRVRFUA2mj+pX9mr9pL4Qfta/Anwv+0j8BfFsWteEfGGli+0fUo12ll3FHidTykscivFJGeUkjZTyK7tZhu2E+9fhz/wZR/Hfxd4p/Z1+OH7PGrXjy6R4J8V6Nrmj+c5byW1SC6hnjUn7qbtNjk2jA3O56sTX7cxXIJzuHP8AdxQCNENzlTUissvyOv8A9eqkUynac/w/NUyuGP7ts4/u80CJ13jhv++vWnVD55jbMpwDxzxTmmAxtFAiSgso4LVG04x8ozTWkgJy559moAl3r/eFLmoQbc8hT+dPMsZXnvQA8EHoaKjDxxjCj73OKGKk7vP2+2aAJM0Ag9DUZniPy5p0RjwSgx60AOoppljAyZF/OmmVjzGNy9iOc0ASE4GcU1HDjIFNNyh4jOT6elCznPzCgCTOOtFR+arvgjjPH1pwYSEFX6dqAHUZx1pkhBbAm2n+7SSyx7MupH+9wKAJKCccmoxOe4/KmmbIw4GO9AEwOeRRTMpjar7Rnr60odt+xl+lADqKKKACiiigAooooAKKKKACiiigAooooAKKKKACiiigAooooAKKKKACiiigAooooAKKKKACiiigAooooAKKKKACiiigAooooAKKKKACiiigAooooAKKKKACiiigAooooAKKKKACiiigAooooAKKKKACiiigAooooAKKKKACiiigAooooAKKKKACiiigAooooAKKKKACiiigAooooAKKKKACiiigAooooAKKKKACiiigAooooAKKKKACiiigAooooAKKKKACiiigAooooAKKKKACiiigAooooAKKKKACiiigAooooAh27Z1z/eJ/nX8Fvwf1WTQ/ir4Z1qIuGtNfsZlaM4YFLmNsj34r+9Jf9eP94/1r+Bfw5NNb6/YzwStHIl5EyOpwVIcYIoA/oo/4O/8A/gmPN8XvhHpv/BSP4U6A03iH4fxrpHxEhtY8vd6C87fZr0qOS1rPKUcgE+VcBmISDj8xf+Deb/gq1N/wTN/bQt9M+JevyQ/Cf4ktb6N4/jkYmPTH34tNXAHObZ3bfjOYJZwFZgmP6zviN4U8LeO/D+teA/G/h+11bRdc0+407WtIvo98F/ZzxmKeCRTwyPG7KQezV/G//wAFkP8Agm14p/4Jeftv+IvgHKlzdeENQJ1j4c65OCft+izO3lKzd5oGDW8vAy8JYAK65CmrH9klpepOizW9wsiMAY5Y5NySKQCGU5wQQQQe4INaVpPveIAj/WR8D/eFfjz/AMGq/wDwVg/4am/Z1k/YR+NPiRpviB8KNKRvCt1dzEya14YVhHGg5+aWxLJCeBmB4CNxjkYfr5p8zGaH/rtGOvX5lqdiviR/ER+36Sf26/jOT/0VbxL/AOnS6r+zf9jGQr+x38Jxn/mmPh/8P+JZbV/GP+3yc/t0fGY/9VV8Sf8Ap0uq/sx/Y3dv+GPfhQqn/mmPh/P/AIK7aqJjub/x++LkfwH+BPjX43t4P1PxCvg3wnqOuPoejsgu9RFpbPO0EO8hd7CMgZz7AnAP80f7XP8Awdz/APBT3476zdWX7Op8OfBfw9IzLaWmgaZFqmqNC38E19fRuGcHo8EEB6ccZr+oLbDPG0VxbpLG2VkikXcrqRgqQeoIJBHcGvnv9h//AIJL/wDBPr/gn3Yxv+zR+zboOn60J3kk8YaxbLqGtMWOSovJ1LxRgbQI4vLT5QcE5JlDkmfzDXH7XH/Bwh8SLRviHYftB/tcXGnzxmX7fomteJYbPZ1LL9m2whfcADFXf2dP+Dib/gsb+yr4nhkg/a98R+LrWzusaj4d+KX/ABPIbrYcGGV7rN1FyOfKmjfj73Wv7AllfOWnk/7+N/jX5vf8HH//AASg+Bv7bX7Efjr9pDRvAWmaf8Xfhn4ZufEWj+LrO0SK71SxsYTNc6ZdMq7rqNreOQwh8tFMq7GVHlV6Jsek/wDBE/8A4LhfBf8A4K+/C7UbeDw6vg/4o+EreJ/GPgiS885HhY7F1GxkbDTWrPhWBG+3dlR9yvFLL9yCRT3xX8Wf/BFj9rXX/wBir/gp38IfjNpmrva6XN4utdE8VoZCI59H1CRbS7Ei9HCRy+cqngSQxtwVBH9oC3LKxgLbtrFS3TODjNA0fnr/AMHOn7dX7Vf/AAT5/wCCf/hf43fsffFhvB/ie++L2n6Neammi2N95tjLpmpzPCY72CaMAyQQtuChhswDgsD+fv8Awb1/8Fwf+CpH7c3/AAUt8O/AP9qb9qWTxT4QvfDOt3d1ox8G6LZrJNBZtJExktLOKQbXwcBgDjByOK+o/wDg83k3/wDBKfwacf8ANetJ/wDTNrNfld/wac8f8FjPCZx/zJniT/03tQI/po/bZ0X9ovxF+yb8Q9O/ZE8f3Hhn4nL4VurjwHq1pp9rdMNTgUTwwGO6jkhKTtH9nYsjFVmJXDAEfy6eHf8Ag6N/4LgaF4nsdS8Qfti/2pa2V9FNeaRd/D/w/FHeRo4Z4HaPT1kVXAKEqysATgg81/WvKzbx5ZwynIPoRyP1xX8gf/BxR+xWv7EX/BVb4g+HPD2k/Y/C/jqdfGvg9VUKq2uoO7zRKq8IsV6l3CqjokSetA2f1y/Bv4ueDvjv8JvC/wAbfh7eNc6D4y8PWWuaHcMoUyWd3Ak8RIzwdjjI7EGupV+MN+dflL/waQ/tjj9oT/gmW3wG17VPO174L+JJdHaNpC8p0i7L3lhK57AOby3UdltVFfqdHcH5T6UAQeOfHHhb4aeCdY+I3jjWodO0Pw/pdxqesajcH93a2tvE0s0rHsqojMfpX8nXxM/4Onv+C0Xin4m+IPEXw3/aybw54f1LXbu60Lw3H4D8P3A0uzkmd4LRZZbB5JBHGUjDOzM23LEkkn9r/wDg6g/bLb9l/wD4JQ+JPAXh7Vmt/EHxe1SHwfp4hkHmLZSA3GouVPWM2sTW7EdDdr61+Dv/AAbp/sQr+3J/wVR8A+HPEOji78J+BJm8Z+MVaMMjWtgyNBCyn5XWa8e0hZD1SSQ84wQk/qy/YO0b9pXQv2Ovh1aftjeP7rxN8UZvDFveeOtUvNNtbORdRuM3Etr5VpHFCq2/mi2Uqi7lgDNliSeK/wCCmv8AwVI/Zc/4JV/AkfGb9ozX5pbzUpJLbwf4P0na2p+IbpApeOBGICxRh0aWdyI4wygkvJHG/vHibxZoXgzw9qHi7xXrkGn6XpdjNe6pqFy22K2t4kaSWVj2VUVmPsK/jI/4Kc/t1/Gf/grv+3/q/wAXUsNSvY9b1iPQfhf4RjUvJY6Z55jsbKOME5mkZxJJt+/PNIRgEAAz6V/a6/4Onf8AgrH+1941k8N/ATxdH8JfD+oXH2fS/C/w9sFn1KYM/wC6WTUJY2uZJ+dubcQK3/PMV5L4n/aG/wCDjT4WaNJ8VfH3xd/bO0PRrMfaZ9Y17VfFUOnxp13M058kJj+8NuK/os/4Ixf8EXfgB/wSn+Bmlv8A8IppWt/GLVNNRvHXxAktlkuEndQZbCykYboLONvk+TaZjGJJBnaqfbbXbptbzZP++zQFmfzDf8E8f+Duj9u79nvxjp/hv9thovjJ4EeZIr66ksrez8Q6fB0MlvcRLHFdMoJcx3KlpCAvnRA7h/SX+zZ+0p8F/wBrr4HeHP2jP2ffG9v4i8I+KrAXWk6pa5G4Bijxuh+aKWORWjkjYBkdGVgCDX4bf8HYv/BGz4O+APhpH/wU0/Zf+Htj4auLfW7ew+LWh6LZpb2Nyt0/l2+rrEoVYZjcFYZtgxM1xFIQriV5PPP+DN39v7xD4A/aR8Vf8E8PGOvSSeHviBps/iDwbayyFvsuuWUW+5jiXjH2iyWR3Jzg2EeAMsaAP6RldW6Gnb2AwMfXvVJbgq2asRSEgbqB+pP5hICYByB19a/NH/g7Jx/w5r8YY/6HLw7/AOl4r9K/89a/NP8A4OyOP+CNXi8f9Th4c/8AS8UCPw5/4Nbz/wAb0vgh/u+Jv/Ua1Sv61rh2B7+3p1NfxE/sEftr/FT/AIJ3ftXeFv2wfgp4d8P6r4m8Ii+Gm2Piq0nnsZPtVjPZSeYkE0MjYjuHK4kXDBScgEH9Erz/AIPNP+Co91btBH8BPgDCzD5ZI/B+sFl+m/VmH5g0Di7H9MA82aYQxBmZuFRerfTn9a/lX/4Okf2/fhb+21/wUMt/CnwK8S2+ueE/hX4ZXw2mvWNwJrXU9Ta4luL2a3kHDwq8kduHAw5tndWZGRj5R+2f/wAHBH/BU79uHwlqHwz+J37QzeH/AAjqkbR6l4T8B6VFo9rdxspV4ppIh9ouImU4aKWV4yOq17n/AMG93/BKD/gnn+3L8U9L8VftVfto+E9U1azuBPY/s+6fJc2Gp6u6MW2XFxdxwrPGFQs0NgZ2ZGBaaIqylWsDlzH6Nf8ABn7+xp4z+AP7D3jH9p/x5pE+n3Hxo8QWcmhWtyu1ptF0xJ44LrBwVEtxdXe3I+ZIkcEq6mv11jmA3Mdyjv8A41S0nSdG8N6RZ+HvD+j2mm6fp9rHaafp1harDBaQRqEjhjjQBY0RVCqgACgACrSYDEY/CkVHsfhX/wAFnf8Ag6W/a+/Zk/af8efsWfsq/AbSPA954I1qbSdQ8aeNIV1LULxl2tHd2lrkW9vFIhWSPzhOXjkRisbEov5v3X/BTv8A4L8/ti3dx4s8IftR/tC67tkJuJPhm2oWNtG2enl6NFFEgz2wBX9OXi3/AIJNf8E+vif+2Bqn7cvxa/Zq0Hxf8RNX02ws3vfFVuL+yh+yQ+VHPHZygwm48tYV86RXdRBHsKfNu+lLCC20+zjsLGFYLW3jVIYbceWkagYChVwAMdgKoix/G3pn/BXL/gtv+yZ4/EXiL9tv456Trlttk/sn4i65e6gB6FrPVxKjDjoUwa/Yb/ghr/wdN3H7W/xR0T9jv/goHo2i6H401+4jsfBvxA0aMWtjrV42Fjs7yAsVt7mVuI5IiIpXdYxHG23f+qH7YX7HP7Nv7dXwX1L4DftRfDTT/Evh+/hkWGS6gX7XpkxXAu7OcqXtp0/hdCP7rBlZgf4vP2xv2b/GH7EH7YHj79mbWtXmfUvh74yu9Lt9WjUwtcxwy/6PdqAcp5kflTKM5XePSgWx/c6ZMj5V596/nR/4Lx/8Fc/+C23/AATP/wCCjvi74G/Dr9s+8s/AetQQeJfh3DdeAfDszR6Vd7v9HDyaezstvcx3NsrOzOyQKzEliT+z/wDwSq/aw1T9tf8A4J0/B/8Aae1+6abV/E/gu3/4SG5ChVm1W1Z7K+dVH3Va6tpmA7BsV8C/8HhP7ES/HL9hvw/+2P4T0nzNd+DuteVrTxphpNB1KSOGQnA3SGK7W1YDoiTTtxzQPU9H/wCDX7/grb8bf+Cl37PPj7wl+1j8SI/EnxM8AeJoZZtU/sm0sTdaNexE2x8q1jijZo54LpGKoMK0O7JYE/qHvX+8K/kK/wCDaH9tIfsa/wDBWDwLHr+rfZfDXxN3eBvEW77q/bpE+xyc/Kuy+jtMufuxtJ2Jr+ur7TLnDADB5HXB9KBouEgDJNfz9/8ABxj/AMHBP7dn7Jn/AAUQuv2Wv2Ef2hF8H6P4J8L2EPi6NPC+laj9r1m5U3bESXtrMQqW01rHtUjDiQHJzj93vif8UfCPwc+GXiL4vfEPUvsfh/wnoN5rWvXuN3kWVrA888hHHAjjY1/Dr+0F8YviF+2L+1F4u+OOvabNd+JPiR41vNWbTrXdM32m9umdLaIdSFLrEijsqgDgCgTP6YP+DXz9rj/gpX+318GPiF+1H+3V+0PdeLPDqa9D4e8Caa/hbStNQTwR+ff3R+x2kLSj99bQodxUMs4ILAbf0d/aB/aF+C/7K3wc1/8AaA/aC+Ilh4W8H+GbL7VrWt6i7eXCm4IqhVBaWR3ZY44kVpJHdURWZgD5t/wTZ/ZF0n9gT9hL4Y/snaakP2nwj4Xii164t23Jc6tKTcahMp7q91LMVznC7R2r+fz/AIO1P+CnXiT9pT9sV/2EPh54kkX4f/B+6VNahtpv3WreJmi/0iZ8EAi1ST7KisMpILo5IkGADov+Ci3/AAeF/tb/ABd8U33g3/gnp4etvhZ4RhlZLTxRrWl22oeINQUEjeUmElrZqyn/AFaJLIpGRNk4Hyfb/tG/8HH3xi0kfFnwx8Vv2ytU0e+i8+HWPDN54oTTnj670Nptg289VGMV+pH/AAa/f8EM/hF4R+Bfh/8A4KQftZfDqz8QeMPFqjUfhloOuWAmt9A0wMfI1IxSAo91OV86JyGEUXlOhDudv7am7fB/ey8/9NGoCzP5Lv2U/wDg5o/4K9/sfeM4dM8e/Gu6+JWi2F0YtW8I/FW0+2TMQdrj7ZhL2GVRkDMrKrctG+Cp/o//AOCU3/BWT9nD/grR8AH+L/wTNxpGuaLJDa+OPA2qXCPfeH7uRSUDMuBNbS7XMNwAokCMCsciSRJ4P/wX/wD+COPwf/4KP/ss+Jvin4K+H1lafHDwboc2p+EfE2n2ax3mtpbRGRtHumAH2mOWNGWEyHMExRlYI0qSfzz/APBC/wDb/wBe/wCCdn/BR7wH8Vpdda38H+INSi8OfEO1kn2wzaPeSLG8z+9vIY7pcYO6325AZgQNj+zASKeh718X/wDBZz/gtP8AAz/gkH8GrPWPEGk/8JX8RvFKSL4J8B2955JnVDiS9u5QCbe0jJC5ALyuQiDAkki+xJLuSNXDdY8huOpFfyC/8HJHx18X/Hj/AILJfF9/E+oTNZ+EdWt/Cvh+zkk3JZWVlAiFEz0V52uJyP787nvigbuSftDf8HD3/BZr9snxpJZ6d+1J4k8Jx6jdEaT4T+EET6MluW/5ZQvbZvZvbzZ5H965G+/4KPf8Fzf2a9UtfFXjf9sH9pPQ2Zh9l/4TfxNrUltKeo/daiWif6FTkV/QB/wa5/sWfs9/s/8A/BMTwH+0V4I8KaZeePPihp91qPivxgIEa6dPts0UdhHKQWihhSBFaJWCmYSORkgD9HtXstP17TLjRNasIb2zu4WiurS8jE0UsbcFGRwVYEdiMUE2PyN/4Ng/+Cw//BRL/gph4w+IHw3/AGr08M+JvDvgHw5a3Uvjy10ZdP1RtSu7jZbWs0dvttZI2hhu33JFG6mEZL7vl/YXev8AeFeS/s7fsgfsr/sj3Xiq7/Zk+A/h3wL/AMJprMeqeJLbwzZG2trm6jgECMsCnyoFCL/q4lRCzO+3fI7N6hDP/C3egrUuKxHYH60+FpGYknioIpQ46/Sn98igCwCf4qKYh3IpQ/72afQSFFFFABRRRQAUUUUAFFFFABRRRQAUUUUAFFFFABRRRQAUUUUAFFFFABRRRQAUUUUAFFFFABRRRQAUUUUAFFFFABRRRQAUUUUAFFFFABRRRQAUUUUAFFFFABRRRQAUUUUAFFFFABRRRQAUUUUAFFFFABRRRQAUUUUAFFFFABRRRQAUUUUAFFFFABRRRQAUUUUAFFFFABRRRQAUUUUAFFFFABRRRQAUUUUAFFFFABRRRQAUUUUAFFFFABRRRQAUUUUAFFFFABRRRQAUUUUAFFFFABRRRQAUUUUAFFFFABRRRQBCoxN/wI/yr+BXQv8AkNWf/X1H/wChiv76x/rv+BGv4FNC/wCQ1Z/9fUf/AKGKAP7ztaUtezYH8X+FfCP/AAXo/wCCWdl/wU+/YlvvDXhDSoZPih4DW41r4Y3jKqvPPsH2nSix6JeJGqjlVE8VuzHarA/eWrgNeSLnHzf0FZrRSNyrnOQQwbkdKnqafZP4gf2Vf2lvjP8AsJftReFv2j/hJdzaT4u8C66LiK3u43QSbd0dxZXCcN5csTSwSpwSkjjg8j+zj9i79q34Vftu/s3+Bf2p/gvcs3h/xpp8F7b28rhprCcSCO5sZiOPOgmSSF8ZBKZBIYE/gJ/wdi/8Eo/+GfPjrF/wUT+CnhjyvBvxN1RofHtpZw/JpPiVgXa5IH3Y75Q0ucHFxHPuYebGtX/+DQz/AIKYSfBn9onUP+CdvxU1/b4Y+JV3/afgSS6k+Sx8RQoC9uCcBVvLePbyf9dbQKozKxNErQ/MX/goFBJaft5fGuymx5kHxa8TRybTkbhql1nHtX9lX7Gzhv2QPhSA3yn4Y+HT/wCUu2r+O7/gqPpJ0H/gpr+0VouzaLX45eLo1G3HyjV7rHGT2xX9g/7Hkpj/AGRfhSo+7/wrHw736f8AEqtaTCO56kH2/wDLTC9+BXzP+3v/AMFjf+Cfv/BNKNtL/aa+OMMfihrUT2vgHw3anUdcnUgMpa3QhbVXXJV7l4UbBwTXi/8AwcL/APBWHX/+CXf7G9rN8HLyCL4qfEq+uNK8C3VxEso0mGFEa91Ty3BWVoVlhjjVsqJriNmV1jZG/nF/4J5fsCftPf8ABYj9sV/hN4N8VzT6pqRm134geP8AxRdS3X9n2nmjz7+4diZbqd5JFVEyXllkXcyLvkQsDl0P1o+N3/B7N4dh1G40r9mz9gu9vLXd/oeteOvGy28rDnG+zsoHC9ulwf6182/Fz/g8R/4KA/FTwX4g+G8v7NfwTtdG8Q6LeaXeRyaVrE06w3ELwuQ51FVzsc9UIz27V+pn7LH/AAavf8ElP2efD1mPiV8LtW+LXiKFVe41zxxrk6QGXHz+XYWbxQLETyEl85gOC7da+gvEn/BKH/gl34V+HetJon/BOT4Go8Oh3jQzz/C/TLiVGW3kZWDzROwIIBznPHWmFmfxn6Hc3Frrdnd20zRyR3MbRyRtgqwYYIPrkV/eddzst7Kitx5rfnur+C/TONUt8D/ltH/MV/eJfTyf2lcKq8Cd8/N/tGkwiflP/wAHlUhf/glP4Pz/ANF70j/0z6zX5Z/8Gnjbf+CxPhVj28F+JP8A03tX6jf8Hjz7v+CUvhEEdPj1o/8A6ZtZr8uP+DUA4/4LDeFSf+hK8S/+m5qYP4j+rGSZcsqivx9/4PDf2LP+FwfsSeFv2yPC+k+ZrHwj8QfY9dljjALaHqbpEWYj5n8q9S12jooupTxzn9fC4LbUHOfyrjf2iPgb4K/ae+A/jL9m/wCIybtD8c+F73QdUkRFZ4Y7qFovNTPR42KyKeoZAe1Tcpx90/mZ/wCDTn9sP/hm/wD4KiWXwZ8Qar5Hh/4zaDP4bmWabZDHqkf+l6dMw/icyRSWqD1vT9R/U4lwPLDY7Z+9jH4V/Dbr+j/Gb9hz9q250W6kOi/ED4S+PinmxfN9j1bTL35XUnG4CaEMG6EYPev7Nvh5+2h8IPHP7E2m/wDBQC7vPsfgm9+Gi+OtSfeJGsrNbI3dxE2OC8ZWWIr/AHlxTZMbdT+e/wD4PBv2wH+Nn/BQ7Rf2XND1LztI+DfhWO3vIVk3KNa1IR3d0QQcHFv9giI6q0bg88D7+/4M+f2Jv+FG/sJ+IP2vvFWkeXrnxj1zZpDyJ8yaFpryQQkZG6Pzbtrtzjh0ihbkAY/AGG2+NH/BT7/goB5VtEs3jj44/FBn2jc8Ntd6nfFifVYIRKSegSOLsF4/tE+Cfwk8Dfs9fB3wr8Bfhnb/AGXw74K8O2WhaHCzAsLW1gWGMsR95mCbmY8lmJPJp7BFXZ8r/wDBxV8a9a+CH/BGb46eI/Dl35N9rHh+08NoAT88OqX9vZXK9uttLcV/Lx/wS1/aV+Bf7Hf7f3w1/aj/AGjfBGteIvCngXXJNXuNH8OwwSXkt3FbSmyeMTyRp+7u/s8pyw+WM4ycV/SV/wAHSGlX2p/8EVPihqFnDvTTdc8M3NzjtH/bNvFu/wC+pUH41/Ot/wAEZ/2Rvgh+3d/wUe+Hn7Jv7Q+sa5p/hjxgdUguLvw7qEVrdLcQ6XdXNuqSSwyqN00KJyhzuxxQEtz9tx/wej/8E6AMf8M1fG8+5sdG5/8AJ6j/AIjRv+CdGc/8M1fG7/wB0b/5Nra/4g9P+CUxXd/wsP43+v8AyO2mf/Kqk/4g9v8AglKenxE+N3/hb6Zz/wCUqgLM+df+Ck//AAdK/wDBPn9uL9hD4o/so+Hv2efi5Z6p428LvZ6Pd6zY6V9kgvVmingklMd4zhVliRiVViMcA9vzA/4IhfEDWPhx/wAFeP2dvEWhOyzXXxa0jS3ZWwfJvpxZTD8YrhwfWv3K/wCIPP8A4JUH/moXxu/8LbTP/lVXb/s2f8Gsn/BNj9mL9oDwX+0f4A8YfFy81zwH4os9e0a11rxdYTWcl3ayiWHzUj06NmQOqsQrqTtxnGcgWZ+l1vOURULZ2qB+lXbadc5/Dr0rMHBwXx/tH6Vbtm5Ax6jIH0qSraGnE3G7OB1r82P+Dsn/AJQ1+L/+xx8Of+l4r9IoG3Ls56V+bn/B2Vj/AIc1eMMj/mcPDv8A6XiqIPwP/wCDdj4K/CT9oj/gsN8I/g98dPhvovi7wrrC+IP7U8P+ILBbq0uvK0DUZ498b/K22WONxnoyA9q/pd1H/gjB/wAEmNQtjbT/APBOj4QqrEHdD4Riibv/ABIQf1r+cr/g1yJH/Bc/4IkH+HxN/wCo1qlf1oS5C4/H60mOJ+bv7TP/AAayf8Ekfjv4duovh38Ktb+FWuSqzW+ueB/EVzLGJMHbvsr95oWjz1WPymIGAynmv59/+Co//BLb9pP/AIJDftF2Pw2+J+rRalpeqI2pfD/4gaEskNtrFvFIAXTPzW11CxQSwbi0TMhDOjxyP/ZChy2T83zccV+Yn/B258K/Cvjj/gk1J471qKL+0vBPxG0a+0a5KjzM3PnWc0QPXaySKxXOCYFPVaSCUdDlf+DYv/gtj4+/bs8Hap+xf+1j4qk1r4neB9FGo+HPFl/Lm68S6JGyRSLdOf8AXXtszx5mzvnhfc4Z4pZZP1ugxu6dx/FX8gH/AAbx+Odd8A/8FmPgLqmgzFWvvF0mlXUe75ZLe8s7i2mVh3GyUnB7gHtmv6v/ANpv9o74ffsifs2eMv2nvirK39g+B/DNxrGoxRyBZboxr+7toyePNmlMcKZIG6Vc0MIsm/aY/a6/Zn/Yr+GMvxk/ar+NeheB/DsTGOO+1q4Iku5AMmG2gQNNdzbQW8qFHchScYBNflb+0p/welfsjeA9Sn0b9lr9lXxp8QvJdov7W8SavB4es5uuJYVVLqd0PBxIkLdiF4NfiD+2L+2R+19/wV3/AGxY/H3xLu73xD4r8Wa1Do/gfwbpZY22mJPOIrTSrCEnCLvdF/vyOxkkZndmP7if8E8v+DP39kz4ZeCdO8Yf8FD/ABHqnxG8YXUKvqXhDQ9Ym03QtNYgEwedblLq7dCOZRJChyQIzgMaDc+T/HH/AAen/t1Xl25+Hv7Jfwh0u3f7kOuf2vqDhfQtHd24P1Civy9/bk/bB+If7fH7VXi79rn4r+GtB0fxD4zurefVNP8ADFvNDYxPDaw2wMSzyyyDcsKs252yzMRgYA/ro8F/8EZP+CTHw502PTvD3/BOn4PXEcKgI2u+CrfVJOPWS881mPrknPfNfzO/8HG3wp+FvwR/4LLfGL4YfBb4aeH/AAf4Z0xfDp03w74V0WDT7C083w5pk0nlW8CLHHvlkkkbao3M7Mckk0CP33/4Nfblh/wRA+D6SOSE1DxOFDN0H9vXhwPxJr7Z+M3wp8C/tAfB7xV8CfibY/avDfjLw7eaJrkCsAzWl1C0MhU4O1lDblbqGUEcivh7/g2CkVP+CInwhJx/yE/FH/p9u6++45SQwyuP9lqnqXH4T+Hn9pH4FfEb9jv9pjxh+z544lls/Enw/wDFd1pVzd22+LdNbTFUuYj94I4VJUYdVZSOor+yH/gmP+2Pbft4/sF/C79qyO7ie/8AFHhWL/hI44UCrFrFuTbaggX+FRcxSsueqOp6EV+Hf/B47+xEfh3+0z4K/bz8JaQV034l6V/Yfi64jjOF1vT41WGWRj/FPY+Uqgf8+MhPWvWf+DMH9spr3w98Vv2B/Euosz2EkfjrwnG3zERP5NlqUeT91Q32CQKOMtK3qTRC3PrT/g6z/bE/4Zu/4JW6t8KdC1RoPEHxi1638MWvkzbZo9OQi71CUDo0bRxR2rjni8/EfjV/wa9fsVj9rj/gql4X8a+JdI+0eF/hDbN401jzEIjku7d1TTYQ2MBzeyQzbT95LaUe49H/AODvX9rh/jd/wUe0z9mnRNSaXR/gz4UhsJ4NwZF1nUAl7eOrDg/uTYwkdQ1uwPPA/Sz/AINMP2L1/Zq/4JvTftD+JtK8nxH8bNcOr7pIyki6HZl7bT42B6hpDeXKsOClxH6ZIPeR+pGv+KdN8K6LeeKNbmZbXS7Oa8u5F5PlwxtKx/JDX8KPxL+I+v8Axh+K+vfFr4hXsk2qeKvEF1q+uXUY3PJPdTvNM43HklpGPJ59e9f3E/GTRdS8WfCDxV4W0eJpbzUvC2qWtrGASXkks5kUfizAV/C/ov8AYsmu2f8AwkJmGn/aIRfG3bEnk7lD7Tg4O3OODz2PSkgluf0b+DP+DxD/AIJffDrwfpPw98FfsqfGux0XQdLttN0ezjsNGCwWlvCkMKAfbuAERRjJrSb/AIPQv+CcuMr+zN8bv/ALR/8A5Nrck/4M+v8Agk+zGW0+I3xskik+eCSLxtppV42G5WB/so8FSD1P403/AIg+P+CU44Pj/wCN+P8AsdtM/wDlVRoHvGTaf8Hov/BOSO4jkm/Zo+N6hZFLFbHR2wM88fbhnjtkZ9R1r+cL4j6t4U174ia9rXgTS5rPRLvWLufR7O6VVkhtXmdoUcKSoZUKg4JGRwT1r+lVP+DPT/glQ3I+IXxu/Dxtpn/yqpzf8Gd//BKqWNlX4jfHFflYbl8a6ZleMZ50rGfrQHvH6RfskfELV/ip+yn8MfiX4ikL33iT4b6Dql9ubkzXGm20r8/7zmv57/8Ag7L/AOCXPxK+EH7V2of8FGfhx4auNQ+HfxI+yf8ACWXVlbkp4e15Ikt2WYDOyG6EccqSk4MzzRnafL3/ANF3wu+H/hz4SfDXw78KfB0M0ej+F9BstH0lbiYSSLbWtvHbxBmAG5tka5OBk54HStLX/DPhzxn4dvvB/jHw9Yaxo+rWclpquk6tZpcWt5byLtkhlikBSWNlJDKwIIJzSHa6P5P/APgjv/wcMftP/wDBKPS3+Dl34XtviN8KLm/e7/4QvVNQa1uNJnk/1smn3YV/IDth3hdJImYMyrG8kjt++X7B3/BxF/wTJ/b81Gw8E+DvjFN4F8a6g6xW/gv4kwx6bcXMxIUR29yHe0uWdzhI1lErcfuweK+Z/wBu/wD4NBf2K/j1qOoeP/2OPiPqnwd1y6Z5m8OzW7at4ekkwWxHGzrc2e9yc7ZZY0XASIAYr8Nv+Cjn/BJf9tX/AIJbeNbXw1+0/wDD+3Gj6tM8fh3xt4dvPtmi6wUHzCGbarRyDnMM6RS4G7ZtIY0LVH9oRkkSQxyK27b8ysuCP0qeCdn6D8fSvwH/AODV7/gtl8X/AB38U7H/AIJjftV+Ob7xJb6hpcz/AAi8R6tcNNeWUlrC00mjyzPlpbdoI5HgLtuhaHyVLJJGkX7420kYbcDx1/Sp2KWqNO3YlcY/i9ferGcVUtWO7bj/ADmratkbgKokmTbHFuP1NOByM1GmWiKZ5I9akAwMUEhRRRQAUUUUAFFFFABRRRQAUUUUAFFFFABRRRQAUUUUAFFFFABRRRQAUUUUAFFFFABRRRQAUUUUAFFFFABRRRQAUUUUAFFFFABRRRQAUUUUAFFFFABRRRQAUUUUAFFFFABRRRQAUUUUAFFFFABRRRQAUUUUAFFFFABRRRQAUUUUAFFFFABRRRQAUUUUAFFFFABRRRQAUUUUAFFFFABRRRQAUUUUAFFFFABRRRQAUUUUAFFFFABRRRQAUUUUAFFFFABRRRQAUUUUAFFFFABRRRQAUUUUAFFFFABRRRQAUUUUAQqQZsf7Rr+BXQv+Q1Z/9fUf/oYr++oZWcZH8R/rX8CuhgLq1pM7oqrcxli0gGPnHvQB/epqmDfSf739BVFEyFDMPdWq/qoH2qUkchv8KqEL1281L3NY7HAftQ/s0fCj9sT9nnxd+zD8b9FbUPC/jTR3sNVhTHmQ8h4rmIkELNBMsc0bYO2SJTX8bX7WP7Nf7Qn/AAS0/bg1j4L+KdUn0vxp8NfE0F74f8SacpjW5Eci3FhqlsTnCuoimXqVOVbDKwH9tUcO0fKvOfvV+Vv/AAdPf8Env+G0v2VF/bB+D/hr7R8Tfg/pckt3Daxbptc8NKWlubX1aS2Znuohn7puUVWaRcNESP5z/wBuP9obRf2tP2tvHn7TeieGW0b/AIT7XJNev9LMhZba+uo1lu0QkkmMXLTbCTkptzzmv7If2OnP/DI/wnUd/hf4c/8ATVbV/EQsbD5iy/dP8Y9K/t0/Y9xJ+yF8J5EYMv8Awq/w5gqcg/8AEqtvSmET8Lf+D0iXxQ37TvwRhu1m/sRfhxqDaduX939qOqSfaNv+1sFtn2212X/Bkr4w8C2XjL9ovwDd3duvijUNG8NajptuxBml0+2nv47p0HUIkt1Z7z0/eJntX31/wX9/4JNav/wVT/ZGs9M+E5s1+Knw5vLjVPAKX1wsMeqJMiLeaU0rnZCZxFC8bthBNAiuyI7Ov8w/w1+Jn7X3/BNf9qOPxf4F1LxN8Lvil4H1BoZobyxNveWchX54Li2uEKyRupG6KVGjdWGQwIoFsz+3reRH8q/N6V8v/wDBYb9vD4e/8E+f2BfH/wAavFfiGG31zUNBvNF8A6W0w87Utburd4YERMgssRYzykfdjhY9SoP4ZRf8Hjn/AAVNt/DMfh+b4RfA5rsW/lf21L4N1Jbhmx/rSg1IW+/6RBf9msD9kP8AYZ/4Ko/8HI/7Tei/H39sbx/4n/4VfY3iQan8QNXtUsrC3s/MHmafodqqLC077NpMMZjjYeZOxbask8pTlpY/L/T5Uj1GGWRgFWZCzegBHNf3h32TqkxVhzcNj5uoyTn6c1/DN+0J8M4/g58e/G/wigL7fCvi7U9IXzplZ8Wt3LD8xAGTiPrgZPav7hPB/i3TvHnhHRfHOkTx3Frrmj2d/bXELBlkjmto5VZSOCCGyCKbFE/Lb/g8aJb/AIJT+EyR/wA180f/ANM+tV+Xn/Bp/wD8phvCuf8AoS/Ev/puav1E/wCDxtl/4dU+EVLqC3x80cLuYDP/ABJta9a/Lr/g1C+T/gsP4VUsu7/hCvEu0bxz/wAS56YfaP6qzkFVUfxZPvzQESV2JUbfukU5gWGdnzdM+lOghBOw88ZPNZmh/Mn/AMHff7Fx+B37fui/tYeGtL8rRPjR4fE+oSRrhV1zTljtroBV4UPbmymz1d3lPXJPK+Df+CpN7oP/AAbB+Iv2KY/E0S+KH+MieE7G1jvNt1D4XulOtzSAdShuoJ7Zu2y5C9CRX7Rf8HKn7FY/bH/4JReOJ9C0oT+JPhcy+OfD2wAMy2UbrfxZxuYNYyXLCMfekii4yBj+R7yWxncuOv3x/jWhifsX/wAGd/7FDfFH9rvxd+3B4s0vdpPwr0M6b4bmljI3a7qSPH5kbdG8myW53DqDdQtxxX9H6ynqjDpjFfHP/BCD9iU/sH/8Evvhx8Ltb0j7L4o8TWf/AAl/jhDGUkGpaikciwyKejwWq2ts2ON0LY619hqFHAHapZpFHl/7cP7MOn/tqfsefEr9lbVLm3h/4Tvwfe6VYXl0paO0vmTfZ3DAA5Ed0kD49F7V/Gf8M/Hvxq/YT/az0f4hWWky6H4++E/juO5l0vUoiDa6np93+8tp0B5AkiaORM8jcO9f3DQx7h85+994V+Rv/Bwd/wAG519+3hr11+2l+xDaWNr8Wmt0Txd4PurhLe38XiNAkdzDNIVjgv1VVjYSFYp1CktG6MZRMmUep+gv7Bn7eP7P/wDwUZ/Zv0f9pf8AZ48RQ3Gm30ax61orzKbzw7qG0GXT7tBgxyRsflYgLLGUkQsjgn2FUIkVcMQuOSPrX8Vvw8+LH7fv/BKr9oG7l8D+JfH3wY+IGmhY9V024hm0+eaIMSsdzazr5d1CT8wWVHjbAYZ4Nfa3gb/g7q/4K4eFdCj0zXLP4V+KrhY9r6trvw/8ueRv7xFlPBFn6IB7U7ApH9QSKivkvtX/AHuBVhY5U27oyu/7uVIB9xxX8pPxZ/4Opf8Agsb8TLGTT/Dfxq8M+Bo5o2Wf/hDfAtjDIVIwQs10s8kZ/wBpGVh2Nfql/wAGl3x9/bL+N/7PHxcm/au/4WNrtvc+NLDxB4X+IHjxb64TW/tdo9vcwWt3c5Eyw/YrdikbFUE44G4ZVh812frMse5eQdx9ulW7ZcYBDfXtSRQoT04XirEEXIUdv05oSG2TW6jHpzwenFfm3/wdlf8AKGnxhkf8zh4d/wDS8V+lMUYCgn04r81v+DsplX/gjX4uDOq58ZeHQNzY/wCX8VRB+G//AAa5f8p0PgiP9nxN/wCo1qlf1pSLuHIyCO3brX8OX7Kn7VHx1/Yl+Peg/tM/s2eMo/D/AI08N/av7H1aTTba8WAXFrLazAxXKSRNuhmkX5lON2RggEfbUf8AwdZf8FmUsGtH+OHhOSQghbpvhtpPmL9AIQvH+7SGnY/qwW3aWXy4AZGHOxfmPX0Hav59P+DtT/grL8HPjVp+g/8ABOP9nPxpp/iRPDviRdc+JevaNcrNawahDFLBbaUkyErM8XnTST7cqknlR7jJHKqfnd+0n/wW1/4Kyftm6E/w7+Mv7Zni6/0fUlNtP4d8Mpb6Pa30b/L5EsGmRQi4Q9NkgcH0Jrvv2Av+Dc7/AIKY/t2eINPv7r4M6h8MfA00itfeOviNYS2EawH5i1rZuBc3rMm4p5aCJmADSxg7qYXuen/8Gmv7H3in4/f8FP8AT/2g20mRvC/wX0e51rVr2SImFtQuYJrPT7UkdJGeSa4X1Wyf8f2I/wCDpAa/B/wRN+KUeiLL9kOteGRq3ljj7N/bFvjd/s+cIPx219Lf8E7v+CefwB/4Jl/sy6Z+zV8AdPmkt4ZmvfEHiDUFT7br2pOoWS8nK8A4VUSMcRxqqgkgse2/am/Zx+HX7X37OXjb9mP4rQyN4f8AHHh240nUJoADLa+YuY7mLdkebDKscyZBG+NcgipuPl90/ks/4ID+M/h34C/4LGfAHxD8U3gXSf8AhOltEa5ICJe3FtPb2TnPA23csBB7EZyOtf2LQvIsQiJwVADLnlSO1fxWf8FEv+Ca/wC1P/wTE+PN18H/ANoPwfcwW5upH8K+MbOF/wCzPENspytzazdCcFS8RPmRMwV1Bxn66/Z2/wCDtL/grB8BvhlY/DrxKnw8+Jn9nwJBbeI/iN4dvJ9UaJFCqstxZXlt9oIAGZZQ8rnl3Ykktii7bn9Q/i/xb4Z8DeGNU8aeN/Eljo+i6Pp819rGsapdLDb2NrEheW4lkchUjRAWZmIAAr+Mf/grf+2JoH7fP/BRz4sftX+EbWSLQ/FHiRU8PedGY3k0yzt4bGzldCMo729tE7Ifus5XnGT9G/En9vT/AILdf8HEHjuH9ljwba3OqaDcXENxqXgf4e6P/Zfh6xXduW61O4LMfJVkVlN5O6B0Xy18wgHyj/gtF/wTBsf+CT/7QHgP9nKPx7J4m1LV/hHpviPxHrAwttJqU97fwTpbKVVhAhtgqb/nYDe23dtUSsEpcx/QL/wbBXFvN/wRG+EsMciM0ereKEkHdD/bd02Prgg/iK+/ohnBOOrbvfmvzY/4NOvGNl4p/wCCPeg6FbTxyN4Z+IXiLTblVIOyR5ILwKcd9lyrfQjtiv0sRFDYI/Kl1KjsfLP/AAWq/Ye/4eCf8E1fiP8AAbSNF+2eKLLTf+Ej8CKsW+Ya1YB5oYo88Bp4vPtcnoLk9K/mC/4Ir/tmaN+wX/wUw+Fv7QnjHWPsXhaDWm0rxlK25o10m+ie1uJJFUEusQlE+0AktAvev7LoVlRhIiDcrbl46HNfx9f8HAf7HOifsT/8FU/ib8OvBcUMXhrxBfReKvDNtCVAtbXUlNw1tsX/AFaxTmeJF6+XGjfxU0TI8u8OaD8WP+CsP/BStdLsFkXxT8dPivNPOyqZV0/+0L1pZpMf88beJ3YgcLHDxgAV/Zd8OfAng34RfD/w/wDCP4caWlj4b8K6HaaN4fs1b5bextYFggjGfSONfxzX4B/8GcH7C03jT40+Of8AgoX4v0fdpvgezfwt4JuJI+G1i8hDXsyMOVeCxYRkHgjUR6V/Qj2xn1H86GER9rO8Ei3Cklo2V/mk64Ocf0r+N/8A4LOfsS61+wF/wUc+JHwLl0hrbw/ca3LrvgWZYisdxoV9I89oUJ+95alrdmAx5lvIO2K/sgiKsWBG78fc18c/8FoP+CNfwq/4K4/AW18Oyaxa+F/iZ4SWabwB40lgLxRl+ZNOvVT5ns5iFO5QZIJAJEDDzIpUhyR5f/wbnf8ABV74eft+fsd+HvgJ4u8XW8Pxi+F/h+30jxBod1MFudZ022RYbXV4AcmdTF5UU5XLRzKWcKk0Rb9Ewf4x83+7zn8f89frX8XX7Sf7G/7fn/BKj46WUfxh8CeLvhp4o0m/87wv4x0e8lghuJFGVuNO1K2YJIdpBzHJvTOGCsCo+qPgp/wdY/8ABYP4UaLFoviP4i+EPiGtuqxwXHjrwTBNcKijADTWZt5JT6tIWc92p2EpH9UUalRtYfd4z68VYiifZ5qKzRlsbsHb+eMZr+Wv4g/8Hbn/AAV68YWMln4c1v4beDrhv9XeeHfh7DJJH7j7e9wv5qa99/4Nsf2//wDgpd+1v/wVabxx+0N46+J3xN8K+IPA+saHrutXkNzNoPhqUJHfwTMkSizsS8tmsK7VQk3AUfepWHzH9DSIQCcbcHgdqlEEip83yjOOfXrj6+3XFSQW4mZInH+sYZI7DjNfyS/tYf8ABUj/AIKs/sjf8FQvjJ8efB/jf4j/AAb17xn42vNSm8F+JtPaOGXTw/kWAuNPvEa2uTHZxQxJN5bfKpKPg5oSG5WP62GgYEkH/wCvXwv/AMHIel/Cq/8A+CMvxob4sR2ohtdN0640CSdV82LWBqNstmYSfmDszOh28mJpQfl3V+PXhf8A4PKP+CqGh6JDpmo/B74G61NCuG1PUPBupxzTH1cW2pRRZ/3UAr5A/bw/4Ktf8FDv+Cuvi/Q/CHxz8YTaxZ2+qBvCvw38FaMbfT472RTGGitIt8lzOQzKskrSyKJHVSodlLsTzaWJP+CGGk+Jtb/4LA/s82XgyOZrpPilp1xIsDYb7JE5luSf9kW6SlvVc1/ZBZybY1B/urx68V+NP/Bs7/wQZ+KH7G3iFv2+/wBtPwk2h+PLzR5bL4f+CbwD7X4ftrlNs9/dgH9zdywloUgzuijll80CRwkf7LAkNhdvPTI6UpFRNG1fhTv/APHqvRMD0NZlm2Co9f8AGtC1bjG38aoT3LMBPU49qkRiwyVxUUIy/X3xU1BAUUUUAFFFFABRRRQAUUUUAFFFFABRRRQAUUUUAFFFFABRRRQAUUUUAFFFFABRRRQAUUUUAFFFFABRRRQAUUUUAFFFFABRRRQAUUUUAFFFFABRRRQAUUUUAFFFFABRRRQAUUUUAFFFFABRRRQAUUUUAFFFFABRRRQAUUUUAFFFFABRRRQAUUUUAFFFFABRRRQAUUUUAFFFFABRRRQAUUUUAFFFFABRRRQAUUUUAFFFFABRRRQAUUUUAFFFFABRRRQAUUUUAFFFFABRRRQAUUUUAFFFFABRRRQAUUUUAFGcdaKCAwwRQBC7Evk+pArzVv2R/wBluLHlfs2+ABtwU2+CdO4x/wBsK9Mn69e2ahcZGcUFGdchpHxJuJbOaijjTI2Z3H36Vckhy/yDAxTfJOcBuntQVcSCPnCDrT5IthIB/h/z1qWKNVPHPbmpNjYzQTc8ouv2S/2XvLMR/Zt+HuxsqVPgbTCCPTHkdK6uPTLext4rGxt47eGCJYoYLeNUSNFUKqqq4CqqgAAAAAYGK6Wa23twKovaZO3NSyotGUsI3YMnXjA4rgvjz+yJ+y3+1VZW+nftM/s5eBfiAtnGY9Pk8X+F7W+mtFJziGaRTLDyf4GHU+teofZD17YzThbN16+zUahofM/gD/gkJ/wSz+GetR+I/CP/AAT8+ENvfQsr291c+CLe7aFhyHT7T5gRgRwwAIr6MSz+zpHBaoI44Y1S3jjUKsSgABVAwFAxwAABVx7f+70/2aDbHZu3t/3zR7we6ed6t+zL+zjrmoXWq658APAd5dXs8k15PdeCdNkknkclnd2aAl2Ykkkkkkkmuys9Ms9PtYNO06yit7e3iSOC3t41jjijVQqoqrgKoAACgAAAADFaBtgMEluefu0i2zSNkj8aNQ90wvGHw/8ABPxE0dPD/wAQ/Bej69Yx3Kzx2euaTBeQpKqlVkCTKyhgGYBgMgMeeTWd4Q+AnwQ8C64vifwL8GfCOj6lFE8UeoaR4XsrWdEcYdRJFErgMBggHBHWuzS2UDnhvapjB2KfyoB2KaqxbBIH41LDGSMbvl7n8uKnEL9lPFPigJOQO/Pb8adg5iKWztrq3e0u4Y5IZUKSRTKGV1YYIIPBBBwQeCK89k/ZM/ZdiRUT9mz4fKqj5QPA+m4X0/5YV6cI0Axjr196jmhBHyDsaZN7mPcq0rb5G5/ibNRrbhmUbs/StKW3zz044qNbQK3PI75qdStCO3iKnKfQe9WlhDDaefxp0FvgqpPDf4VZWFAuCu73qhXOE+MPwF+CP7QHh6Pwj8fPg34T8caTE7PDpfjLw3aapbqTgEqlyjhTwOmOlfPt9/wRG/4JJX99JeTf8E7/AIUq7kllh8N+WgPsiOFH4AV9dXES4BUY7VVlt8Hpn0DUgVjw74Uf8E5f2AvgTqNvrXwc/Yi+EvhvUbZg0OraT8PdPS8jI6EXDRNL/wCPcV7WZJp38ySVnxk5Zs4/wpwtSGwRn69KdHCSpJbr39aWo/d6EwAA2irFvtEfB7/lUKZHzZ/XrVmFG2gH+GqJZIn3B9KoeKPCfhjxvok3hvxh4dsNV0+42+fY6lZR3EMmDkbkkVlOCMjI4NaABPSggqdpoA8J8S/8E3f+CdXiy5a78V/sBfBHVpi2TNqXwn0edieectbH1/WsUf8ABLv/AIJjQSrLb/8ABNz9n9XX5kZfgzoYKnsR/ovBr6KmjbAVeao3EJfj/P1oCNjiPhl8Bvgf8Egw+DnwW8H+EEaPay+FvCtlp/y/3f8AR4kOMe9daoJPmO7MxHLsSSfxPNSPBIhwPmpFibPznH+7zUamnu9BDzwDUYRicCTOf9mrAt8cbAfc1JFbsTxwfanyi5jm/H3w1+Hnxc8IXXw7+K/gDQ/FWgX3/H9oPibR4L+yuQP+ekE6NG34jNfPbf8ABFj/AIJMjW/7dP8AwTr+EPnebvMf/CIx+Tn08rd5eP8AZ249q+rBbEjaU7Z5pr2525XKr7UxaHJ/Dn4X/DX4NeD4Ph98IvhxoPhHw9asWtdB8L6Lb6fZQk4+7BboiDoOcZ4FVvG/wY+EfxH1C31j4ifCvwvr13b2/wBnt7vXPDdneSRRbi3lq88bMF3EnaDjJJxk12L2u0fcGe+O1R/Z93OW45+7S94PdOd8GfD3wL8OtLk0L4eeCtG0GxkuGuJrPQ9Jt7OF5Sqq0hSBEUsQqgsQSQAM8CtmKMYIV/8Ae+WrIhA6M3r92vlv/gpr/wAFfP2Ov+CUHhTS9V/aU1jXrrXvElrczeE/CfhvRJLi61VYGRJSJm220Co0ke4yyhsNlVfGKNQ91Hs37Tv7THwY/Yy+AXib9pT9oLxSuj+E/Cuntd6lcfK0sxztjtoFLDzJ5pCsUaZBZ3A4GSP41/2rP2g/jt/wVO/b2174z3fhm41Hxp8VvGMFr4e8M6e3mtGZXjtNP0yEkLv2RiCBSQC23ceSa9U/4K6/8Fq/2nf+Ct/xEt5/iBEnhP4d6HePP4T+Guk3zy2tnIQV+1XMpVTeXexinnMqhFZljSMPIG/UL/g1W/4Ii+JPh9NY/wDBUf8Aas8HyWN/dae//Cm/DWqW5WaKGZCr67LGwBXfGWS2DdUkefaQ0D1RG7P1Q/4JufsPeFv+Cd37EPgL9krw9JBcXXhvSPM8TalAvGo6zcN5t9cgkBihmZkjDZKxRxr0Wva2jdeFG4fy9utX541+4oxzioPKcfe6fWoNPIS2Qrjnkcfzq9BCGUKd359qZbQ7vl6c1fhhzxj/AOv700K9jF8VeDvDPjXw7deDvGnh2w1fSNQj8u+0rVrGK6tblc5w8UoZGHA6g183+Kf+CMf/AASg8Zam2r6x/wAE7vg+kzct/Z/guGyQn12WxjTP/Aa+rJrdQuR0/iqvNBkfcH407C0Pm3wF/wAElP8Agl98NLpb/wAG/wDBPX4Nw3ULbobq4+H1ndTRNnO5HuUkKn3GK+gtH0zTdD0y10DRLOCzsbSNY7Wxs7dYYYlHRVjQBVA9gKufZiH5H/Ae1OjhO7kbcccUtR+6PiC5LA57fpXP/FH4L/B747eGf+EL+OPwm8M+NNF3Fjo/i3QLbU7UnGP9VcI69PaujUZ4HT+VSKGYbVH8PeqEz5Z1b/giP/wSR1nUH1O4/wCCdvwlWSRsstr4TjgjH0SNlQfgMV6r8Df2N/2Sv2XC8v7Nv7MXw/8AAM00PlXF54P8H2enzzr6STRRiST/AIExr1NxtfnJ9fzqF0+XA6dKBIoyQkHJ9eW9aAg3YQ9eCPWrLRM4wwDfjSxwDPzfiKnlL5gs1YYyP5epq9bxlOcc/wAVRQRHcrMvH8qtKpB69aojqPiO19x+lTA55FRwgZyF7dakACjAFBIUUUUAFFFFABRRRQAUUUUAFFFFABRRRQAUUUUAFFFFABRRRQAUUUUAFFFFABRRRQAUUUUAFFFFABRRRQAUUUUAFFFFABRRRQAUUUUAFFFFABRRRQAUUUUAFFFFABRRRQAUUUUAFFFFABRRRQAUUUUAFFFFABRRRQAUUUUAFFFFABRRRQAUUUUAFFFFABRRRQAUUUUAFFFFABRRRQAUUUUAFFFFABRRRQAUUUUAFFFFABRRRQAUUUUAFFFFABRRRQAUUUUAFFFFABRRRQAUUUUAFFFFABRRRQAUUUUAFFFFADflYbWT7vT3ohXaucYyfyp1FACbFznaPyo2r12ilooANo/u01o0btTqKAIjaKTu3tTDYRldu7H4VYooAqnTI+0n/joqP7OQdoc8fl/Kr1IURuq0AUDbgHBLf5/Cka35+Ufmv/1qv+Wn92holI+UUDKAtvl6fN/u/wD1qUWwx8wP/fP/ANarRicdqTY/92gZAlsOw/A//qpxgJOcDPrU3lNt3fpSBHP8JoDQiERJ5ApwjQfw/pUnlSEdKPIegNBtBUMOR+OKk8jgAH60eU3lbM96BXK8luH70i2+3gAdc9an8lsge1BhcDIoGRxxKgxtFOx6CnLCxbDcCnpFtXaTznqtAiIgMKikhyckflVkxAE4HHpim+VJ3HbNAFQ2/wA/A4/3f/rUv2dQST0/3f8A61WfKfOdlHlORgpQMhSDaMgfietSqMDApfLk/u0qxOevHFAhFQyHbUhiXack59fWkQBB8o3HOGPpUg3Z5/CgRW2g8sv6VE9uM5I/L+dWjEoGV3N+NMdQp4bvigZUe25+X/D+lCWoB+fP4d/0q0V5BZfxxRjJwBmgZXS2Pfr+Q/lT1gKtuz196lGTyBS7GIyoz6UAMKAjFNMPBXt71MIHx1o8p9239aAK7W4Jxs6eg/8ArVGbcH7v+TVra2cbfr7UdOCMUAVvs5+XA/3vl/8ArV+dX/Bxz/wSQ+Lf/BVX9m3wB4d/Z3tND/4TzwZ47860vPEOpfZbaHSLy3aK9BfazcSRWUpCqzEQsArEgV+jw5zjtR7UBvufj7/wSt/4NMv2bf2Rdf0345ftueLbH4veN9PkSfT/AA3BYtH4Z0ucEEO0cw8zUnUjKtMsUWGOYGZVcfrhckuWZvm3N8zEfrVyZAQw6d6qyrncAfvd6AiUpEDv8w6NnbSRwqzcKcN1wtWDCS+Sq/8AfNSQWxPTt/dFTYrm0FtYMgYU+278farscYK8k/402CP5cY2+tTcYyPXFUSNManpx9KZJDnn9R1qz5GUzuO6mFCOSOPftQBUe3y3yL19R/wDWpfs4DZ7f7vf8qskYILL1o2MeSn6UAQiHBz8x4/ipwjJ4J4qQZJwopQpIyBn8KA0GGMZ4NRvD8wJXvnK1MUcD7po25PyHdQBXMCk5O7/vn/61OS3GcMPTrU+yT+5QqMTtwff2oEMVAtSRIWO7sKVId3zMSPapFXauwGgBE2AYT1p1CgKMCigQUUUUAFFFFABRRRQAUUUUAFFFFABRRRQAUUUUAFFFFABRRRQAUUUUAFFFFABRRRQAUUUUAFFFFABRRRQAUUUUAFFFFABRRRQAUUUUAFFFFABRRRQAUUUUAFFFFABRRRQAUUUUAFFFFABRRRQAUUUUAFFFFABRRRQAUUUUAFFFFABRRRQAUUUUAFFFFABRRRQAUUUUAFFFFABRRRQAUUUUAFFFFABRRRQAUUUUAFFFFABRRRQAUUUUAFFFFABRRRQAUUUUAFFFFABRRRQAUUUUAFFFFABRRRQAUUUUAFFFFABRRRQAUUUUAFFFFABRRRQAUUUUAFFFFABRRSFQWDHPHvQAtFNiRo02PK0h/vNjP6AU6gAooooAKKKKACiiigAooooAKKKKACiiigApCFbgjpzS0AY6CgAooooADnHFC7gMMc0UUAIyK/3hSCJFO4D9adRQAUAEHk0UUAN8iL+5SqqoMKKWigBEDAfOc0jM4Pypn8adRQA3IJUyLg5+Wo5B8+0N6mpqaAXGJFoAgKhxk1BLD1xwevXrVqWMKcLmmkA9exoKKscHOc/gKmSEA5I/WpKOSCQKA9QGFGBUyIFAz124poAiTdt5pyBgMsev6UEg0Ubncy0ENlQpwO9OooARiwHyrmgFtuSvPpS0UAIpYj5lxSOJD9xsU6igBgWbPMn6U+iigApGDEjafrS0UAFFFFABRRRQAUUUUAFFFFABRRRQAUUUUAFFFFABRRRQAUUUUAFFFFABRRRQAUUUUAFFFFABRRRQAUUUUAFFFFABRRRQAUUUUAFFFFABRRRQAUUUUAFFFFABRRRQAUUUUAFFFFABRRRQAUUUUAFFFFABRRRQAUUUUAFFFFABRRRQAUUUUAFFFFABRRRQAUUUUAFFFFABRRRQAUUUUAFFFFABRRRQAUUUUAFFFFABRRRQAUUUUAFFFFABRRRQAUUUUAFFFFABRRRQAUUUUAFFFFABRRRQAUUUUAFFFFABRRRQAUUUUAFFFFAADntRQGXsait76yvA5tLuKXy3KSeXIG2sOoOOh9qAJaKAc8iigAooooAKKKKACkyd2Nh+tLRQAUUUUAFFFFABRUF5etaPbxrYzzfaJ/LzCoIj+UnexJGFGOvqQACTS2F2t/Yw3yQyRrNEsixzJtdcjOGHY+o7UD5Xa5NRRRQIKKCQBkmigAooooAKKKKACiiigAooooAKKKAwJwD06+1ABRRRQAUUUUAFFFFABRRRQAUUUUAFFFFABSMu4dcfSlooAa3XLLnsu2k8hf7zfSn0UARmFVG7LH2pwXB3Kv1p1FAAo2jGc/WiiigAooooAKKKKACiiigAooooAKKKKACiiigAooooAKKKKACiiigAooooAKKKKACiiigAooooAKKKKACiiigAooooAKKKKACiiigAooooAKKKKACiiigAooooAKKKKACiiigAooooAKKKKACiiigAooooAKKKKACiiigAooooAKKKKACiiigAooooAKKKKACiiigAooooAKKKKACiiigAooooAKKKKACiiigAooooAKKKKACiiigAooooAKKKKACiiigAooooAKKKKACiiigAooooAKKKKACiiigAooooAKKKKACiiigAooooAKKKKACiiigAooooAKKKKACiiigCu3DEZ71Dcsdpyx4x1PSrVx0BqF13DigohGrSW22OSJWUDscVPpt7c3olee0WNVl2xMsm7zFwOegx6Y9u45qpPBzgLgfjVYiaA70lZf8AaUnNAG7UNxqFlatsnuVVv7ueaxZrnUWXP2yTBPZj/SqhgAbOz69aBHQvrWmqpK3SswXIX1rDWaeWTcZG+aQk/N71GkJwcL/OrMUPl4BPzbqB+RPbPKG4mbjjhjz+tXrdpD96RmyufvGqtvCRwD1HP6VcjXYgBNAE0HLHJPH+0akpkCgJux1p9BIBQORn86CM9aKKADaM5oAA6fzoooAKKKKACgDHSiigAo6UUUAFGKKKACiiigAooooAMD/JowKKKACiiigAooooAKKKKACiiigAooooAKKKKACiiigAooooAKKKKACiiigAooooAKKKKACiiigAooooAKKKKACiiigAooooAKKKKACiiigAooooAKKKKACiiigAooooAKKKKACiiigAooooAKKKKACiiigAooooAKKKKACiiigAooooAKKKKACiiigAooooAKKKKACiiigAooooAKKKKACiiigAooooAKKKKACiiigAooooAKKKKACiiigAooooAKKKKACiiigAooooAKKKKACiiigAooooAKKKKACiiigAooooAKKKKACiiigAooooAKKKKACiiigAooooAKKKKACiiigAooooAKKKKACiiigAooooAKKKKACiiigAooooAKKKKACiiigBHBZCoqAgg4IqxTWRW6j8aAK7pu5HWq725XjGR7irhgYDJP8ADTTgjkUFGe1sM/JuX22//WqJrYqfuD/gS/8A1q0niR+do/KmfZVIxQBRW3kzgDb67VqWG2wwAHfk7f8A61WRaqMcDj9akWFV7UB6DYoVHIHTv61IAWOMH8KAR0FSQowO4igB0e4IN1OoooJCiiigAooooAKKKKACiiigAooooAKKKKACiiigAooooAKKKKACiiigAooooAKKKKACiiigAooooAKKKKACiiigAooooAKKKKACiiigAooooAKKKKACiiigAooooAKKKKACiiigAooooAKKKKACiiigAooooAKKKKACiiigAooooAKKKKACiiigAooooAKKKKACiiigAooooAKKKKACiiigAooooAKKKKACiiigAooooAKKKKACiiigAooooAKKKKACiiigAooooAKKKKACiiigAooooAKKKKACiiigAooooAKKKKACiiigAooooAKKKKACiiigAooooAKKKKACiiigAooooAKKKKACiiigAooooAKKKKACiiigAooooAKKKKACiiigAooooAKKKKACiiigAooooAKKKKACiiigAooooAKKKKACiiigD528Rf8ABQjwx4f/AOCn+h/8Ey5PhzqUusa38H5PHy+KFvoxawwLfT2n2YxFd5cmBm3A4AZRjqR9DmaIAkyr8pw3zdK/NH4nEr/wde+BWHb9ief/ANP+pV55+yt4m/4KS/t9fts/tefsxaF+3l4g+Gvw5+GXxuulGuaLYwX/AIilhuFljtdHsJLsNDp1lD9led3WMyu0iIrBTISAfrmrKw3Kcj1FNkWLb85Cj8q/P7/gjt+0z+15F+09+0f/AME0P21vjBD8R/EnwF1nRJvDfxEbS4rS71rR9UtXuIFuo4Rs82OMQMW+ZiZ3VmfYGO7/AMHEn7Svxg/ZG/4JjeJPj/8AA3xtqWg+IPD/AIt8Nyw3Wl3zW8k0J1WBZrdnXny5Yy0bDurHr0oA+4NiF/LWdd393vTSB5nlK4Y+m4Zr8k/+Cj+pf8FfP+CYf7Pdl/wVT8Vf8FCZPHeqeHfEemy/FT4J/wDCLWdj4RbTb68SH+ztMwr3MYt5JordbmV3uJUHnMwYNG5/wUKb/gsB/wAE0v2ZbP8A4KseMf8Agotc+NtZ8K61pVz8V/gx/wAInY2fhF9Nv76G3Onaaqq06CCS5igFzI7TyoDMXRsowB+tpUpzIwUf3mIpUiEg3JMCPavmH/go1/xMPAXhX4g+Jf8AgqTcfsy/Dm3a6XxZqViujWd54gaeKJ7OGDUdUWQWUkYjmOyGN5JvNxxsGflX/gj5/wAFNb3xx+3j8Yv2FZP27o/2iPhv4X+H8HjbwD8VNQsYYtQsLOOaG3vtOvpoIIkunje5jdZdmSAxzhhHGAfqUfJi2+ZIq46bj1r5T/b9/wCCiHjD9j39qn9mP9n7w18OdM1qz+O/xDuPDurale6hLFJpcUa2uJYVQFZGP2g8NgfIB3JHzP8AsT6r/wAFD/8Agtn4H1D9ua+/bq8X/AX4O654g1C1+EPw9+Fui6auoz2NldSW39oalf3cMzySPLFIjW6jy/3RK7Q3Pnv/AAWo8D/tMfDH4/f8E5/h14f+L9j8QPijp/xT1Kzs/HXjzSEtra+1Fhpype3drYtEPLj3BzFEys4i27izFiAfsRFMko+V1Jx8wB6V4vcftf6lB+3fD+xSP2b/AIgvazfD0+J/+FnJo4Ph1HFwYvsDXGeJ8DO3ryo24O6vhH9ojxH/AMFHv+CSX7Un7PnxY+Iv/BQ3xB8c/hz8Zfixpfw9+Jfh3xp4V06xWy1C/BEOo6alkg+yxqEmk8hcAeSqsZfMBT2Ww/aD+OB/4ORbz9mCX4paw3w+j/ZHXxCvg83R+w/2r/byQfbPL/56+USm7rjjpQB94+dFgt5q4BwTu6U4MGG5TkV+Qf7Eetf8FMv+CiX7RH7W3wM/4eBeJPhv8O/hh+0t4o07Tda8Oadb3viK5ia5kitdJgnuw0djYWkdqJB5aebI9yy7wq16J/wT1/4KS/tHfAjwV+2R8D/+CgvxBX4ka1+xvJ/aK+OrTTobC78U6HNY3l3ZpJFH+7S6KWYGck5uFVmkZGkcA/TYyxK2xpFDf3d1Or8U/CH7ZHj79oP9kr/htXxh/wAHG/w9+Gvxy1rw7L4j8I/BnQ/GPhWHwt4fV4zPa6Ff2F2Hu7icriKWWaTzYpJCuyQxDzP0u/4Jc/toP/wUJ/YE+GP7YN1oNvpl74y0Bn1iws93kQajbXEtneLEGLMIvtNvLsDMzBCoJJySAcj4J/4KE+MPFP8AwWH8Wf8ABNOf4c6bDonh34H2/jmDxQl/KbqW4e+trY2zREeWExcFtwO7KDru+X6qeWOP/WSKv+81fmf8Hhn/AIOtvicP+rObL/08abXj/wAJ/wDgot4Z/wCCl+p+Ovj78VP+C6/h39mHwja+LL/Svgz8M/C/jTw3pmpfYrSQxx6zrR1IPPcG6bDi0HlxLGgKufMLUAfsluGN2aaksUnEcit/utX53/8ABNz9tr9or/god/wTj+Kugah+2P4V8LfE/wCFHj7VvBWp/tBeGtB0/UdI1GHT5IZ18RQW0jLZGG5s2YZyIQd0yqq7UHzi/wDwUi0f9kb9v74DfDr9mj/gtBeftReHvij8TrHwX8SvAPia80vVZLB9RlWC31bT77TrWGOGKKVhuhV2B3KMPklAD9njIgJBdeOTz0o82MnAkX7uevb1r8r/ANrH4tf8FFvip/wXM17/AIJ5/sl/tO3ngHQ/Ef7P2l65rfiS5t11FPCdrDqMq3d7p9hLiJ764ZrW0EjsBHHPJIAXSNko/tS/Ej/go78O/wDgrZ8Av+Ccn7O37Y95bv4n/ZgNj4l8ceLNNW+SK+tLif7V4l/s/eIbjU5I7IoiyFog9xlgyqcgH6vLLG4zG4bH905rxXwN+2HqfjT9ufxv+xdL+zT8RtLtfB3hGx1uL4oalogj8N6w1wY82lrc5+eVfNxjHzNb3QIXyQZPjHwB8QP27P8Agm7/AMFdPg7+xr8bP2zNe+N3wn/aK0PXv7EvPHek2cWr+HNa0y1+0y7JbVF8yF8wqFICAXBAQGLe/bfsr/tH/HXxf/wcIftPfs5eJvitrV94D8K/C/wte+G/CdxdbrHTbie1sXmlijx8ru0shY5ydxznAwAfoF58O3f5q7T33U4HPIr8Xf8AgjnpP/BWT/grB/wTq0f4o+P/APgqT4q+Gtvoup6rpPhvUvC+g2t/q2v3qXjy/wBo6tc3R3SQxGcWqWcJhVorYMzEsMeyfsW/8Fm/jT4b/wCCMfxn/a//AGztM0/XfiP+zn4t1zwT4mn0+NLa38Sa1Ztax2bkRKqQrNNfW8MjRoBlXdUGQgAP0882Lf5fmLu/u7uaVXVxuRgw9RX5kfC34B/8Fhr79kW1/wCCh/iz/gpnrDfFy+8Jr4yh+EM/hHTV8DR2ht/tqeHprdYluFYw4t2vUmEsbMWBlK739m/4N5/jn8Yf2k/+CQHwh+Nnx7+IuqeLPFmuDX21bXtauPOubnytf1GCLe2BnbDFGg9kFAH2lTTPCF3mZdvruFErFVyD/Ev8xX41f8EnbL/gqf8A8FU/2TvEWueKP+Cm3ir4Z6D4N+IfiDQNE1PwzpFvqGva9frci4W61C7u87LO2S4jt4rS38oyBJC7gCPAB+y+RjOaas0TtsWVSfQNXwH/AMEgf2sP2xf2x/2NPjR8Ef2gfi7pel/G74O/EbxN8Mrr4maf4fgnia/tIQttrLWZEcErRyu2YcIkgt13bd7V8c/thf8ABSnT/wDgm74j8HfGf4H/APBeq4/aI8SWfjTTrX4tfCXWpNE1HT9a0uV9l2+nDS7VV0yaI/MIxMSDwzNsMcoB+rfxQ/a/1H4b/tlfDP8AZIg/Zv8AiFrVv8Q9K1S8n+Imj6L5mg6AbSJnEV5Pn920mwqM4w0sAG7zDs9nSRJBlGB9favgD9qf9o347eEf+DgX9lf9nPwz8VNZsfAvi74e+LrvxN4Ut7vbZanPBZ3rwSTR4+ZkaKMqeoK8cE5f/wAE3/j/APH7wF/wU0/ai/4Jw/tKfFnWvFTaTqFn8Qvg3qGvTGa4fwvqOEnto3IBMFnPJbQDr85l6DGQD79DoWKBhkdRnpSLNEzbFkUt6Bq/GdP+CvP7RXw2/Zm/ae/4KtD4kjVvDnjv42W/w0/ZT8L+KNT8nw3bQW0jWv8AbbcqqwyBZ7iRiwy1jIhZVbeMv9pb9uzW/wBgX4K2H7aXwd/4OFfCv7Rnjvw5qWmy/Ez4N33izwrPpfjCyluooLuLRrGwRZ9Nkj80zq0byHZCxbK5RgD9ricV+f8Apn/BbX4q/FT4u/Fb4efstf8ABL/4tfEzTPg58RNS8HeMPEGi+INEtl+32U0kcn2eC4uFlmDCMuoAyQyAhWbFfeHhfxLpPjLw1p/izQbjzrHUrOG7s5duN8UqLIh/FWFfiX/wTd/aa/4KAfAf9pf9ufTv2O/+CYk/x2025/a58YXOqa1H8YdJ8OjT7lbycC2+zXiNLOSmH3R8HdtHIOQD9SP+Cfv/AAUa+AX/AAUZ+HeueMfg9p/iXQdZ8IeIZtB8deBPHGinTtc8NanHndbXltuYI3Bwysy5V0JEkciJ70Joi2wSru/u7q/Mv/g3vl8KfEZf2kvjj4p8c3Wm/tH/ABA+IaXnx08CXXhOXS28BXQiuF0/T0tbh3NxEu66dbotif7rANGxb52/4KCftt+Jv+Cdfw4ufjL8Mf8Ag4lk+L3x58H6jZnxJ8J9Ys9Bm0DxKqXccV7YDTtNtydJkCtIx/fmVRGUDIxEigH7eiRC/lh13DkrnkUpdAwQsNx6LnrX5xfFL9r74zfAL/grz+zv8UNU+KuvTfAD9qz4e/8ACPWfhfVrrfZeG/FflQ3VlLGoAEclyj21uq5+d5bhjnC7ZPE37Y/xR8W/8FkPi94kHxf8QaR8Af2PPgUdS+Jmh6TdJ9j1vxHeWs97iZekyw2Adgu4GOe0AJG9hQB+jDSxI215FB9C1OLBRuY4Ffiz8Gv20fFv7bP7Pb/tg/FX/g4o8BfAX4peJI7nU/h58HdD8beFYNB8HwbmFpY6vbXyPc6jMwVZJnmZGQzFRHhAp3/jl/wWt/ae+K3/AARW/Z+/bN8C+KY/hVP8SPifYeEPjh8VNH8NjVo/AljHd3Fpfalb2jrIAJngV4ywk8tZhEp854pAAfsKkkcgzG6t/umnZr5h/wCCaHgKfRfB+ufELwd/wU/8RftLeAfEX2UeFdR1680jUDpNxF5v2sLf6fGhn8wyQgwyAGDycAZdsc1/wWQ/b2+L/wCxn8H/AAP8O/2WdA0fUvjF8bPiNp/gP4ar4g3Gw068u2w+oXCry8cKlRjkB5Y2ZXRWRgD7BE0LNsWVSfTdXyn/AME3f+Chni/9uD4s/tHfDvxN8ONN0GD4I/G7U/A+l3NhfyzPqcFrJKguZQ6gRu3l5KrkDdjtk0f2cf8Agn/+218KviZ4Y+Lfxh/4K6fFD4hXlrctL438M6h4U0W10HW1MLp5VvaxW4fT1ErK+5JGJCbflzuHz3/wQVtdSvv2g/8AgoRZaPqv2G7m/a68TJa3nkLL5EhnugsmxuG2nDbTwcYNAH6fCaItsEq7v7u6lZ1QbnYKPU1+H37f/wC3P4j/AOCc3w+k+Nnwq/4OHH+M3xy8I6pZHxZ8I9YtdBn0HxNGt3HDe2KWGmW5OkSBWkcj7QZVWNlDK2HH0n/wWK/b6+KXw/8AHX7LvgHRP2l9T/Z++CvxsuNQm+IXxwsdFgurvS9thFcWGlrNNHLFp7XDSYNwy5Xb5gYRwThgD9LldHXcjhh6g0gmiY4SRWPopr4J+MvxB/ai/YV/4I9fFz9oj9mv9rLWP2otesdNk1v4Y+K9atdNvntNJc2sEknnaeixamtqn2y+MrD5wuwrtTmn/wAEg2v/AI3poP7Tnw//AOC23ij9oHTrzw0H+IngfUrHRhbQapcRoY2W1ihS60QRuJiLZuXG35tqkOAfS37K/wC2ZN+0l4g+Kuj69+zz4++Hlv8ADHx7eeHV1Xx5pK2drr8MAJOoWTk/vLchSwbpseNtx3kL8l/Cv/gr1/wUT/bT0PUf2hP+Cd3/AATC0nxt8HLTWrqx8M+IPGnxet/D+qeNFtpTDNPZW0kDJaoJVZAZ2YHac4YMicP+yj4x/aL/AG2P2b/2+vh98Qv2t/iJo7+Df2lvGmkeE9c0HU4ReaTpNgvmxabA00TqlswUxsgAOxmClSc180/8E4P2Vvj5oX/BuMn7cfwo/wCClnx48E3PhT4X+OvEeieAvDWtadHoVvc6Zf6u6RhHs2m8uWS33yDzd26V9pUYAAP3stZJpLWOW5jSOQxgyLHJvVTjkBsDIz3wM+gpySxScRyK3+61fkr8Rf8Agqv8cPhH/wAEyP2LfAVl+074c8F/FH9pTw7YRat8bvihPbSWfhjT7ayhn1TWJftTJBPdDz4FijmIjkkkwxzis0ft96Z+w9+178C7T4Kf8FpNL/an+H/xc+Ilp4H+IXgTXvGPh7WNY0S81DK2mt2UulpHJbWsUwCSROrRBX2/M8kbRAH6+GWJc5kX5fvfN0oeWKPl5FX/AHmr8lfEHjL/AIKX/te/8FkP2sP+Cfn7Pv7ZutfC/wCH/huHwjq954wjs49TvNAgl0G3P9l6VBKVW2a8ubmWeWfeGQWYCbSzb7n7X/7V/wAV/E//AAVp1j9gn9o//gpN4g/ZZ+HGg/D3R9Q+GutaPBp+mz/EfUZo1+03T6tfxSRRLDN5lv8AZcqJmQ4+ZTkA/WAEEZBpryxx8ySKv+8a4/8AZ88E/EP4c/Bfw34J+K/xqu/iN4h03TEi1TxtfaTbWMuryZJ89oLYCKPggALnIUEliSx+X/8Agp4PD/hfxjpvjn48/wDBaLVv2a/h3J4dFvY+EfDk+h6XqGratFPI8t7HfX0M9zcL5UsEZtIYsL5W8t85AAPtEMpXeGGPWkEsZIAkX5vu89a/LP8A4JW/8FMPi/8AtN/sv/tZfCvXv2nbf4q6l8CW1BPBPxp0bS49Pl1/SLnTb2bT7iSONEQXUT2kgZ1UA4TJcgyPyX/BK79oD9vvxt+wP4Y/4LE/tlftj6z/AMKx+GPwx165t/hFpVhHPceM4dMtLu3n1XVdRmYSveTXkUjQwqnlxpb253M0krEA/XkyxK2xpFDf3d1Or8U/Bn7Y/j39oz9k/wD4bS8a/wDBxv8AD34Y/G/XNAm8ReD/AIM6H4y8Kw+F/DqvGZ7XQ9QsbtXurmcqBHLLNIJIpJSuyTyh5n6Wf8Esv20Z/wDgoX+wB8Mf2wb/AEC30u+8Y6C7axY2YYQQ6ja3M1leCEMWYRfaLeUoGZmCFQSSCSAe/PLHH/rJFX/eNODBhuU5r4i/4KdP4a8HeP7Xxv8AtA/8Ftda/Zv8B3Hh2OLRPBPhufQtLvr/AFOGaUz3y3d5DPdXiFJLdDaxRhU8otu/eEDlf+CAP/BQz4kftpfD74vfCv4q/HfT/ixe/CH4mTaJ4f8AivpujpYL4r0GZGksLuWGNVRbjEUqvtUDb5YJkYNLIAfQv/BTL/goL4E/4Jq/stX/AO0T4v8ABeoeKtRm1W00Twf4O0mYRXPiDWbtmW2s0kKsIgdju77XKxxOVSRgqNe/Yf8Aih+3P8SvCetan+3N+zN4U+GOpQ3sP9h6f4Z8eDXPOgeLdIJnEarHJE+IztZlc7iMKAW+A/8Ag6j+BfinxR4b/Z6+KOn/ALR3jrRbO8/aF8KeF4fCOk3lumm2t1L/AGlMutxq0Rf7fGB5aMzmMKB+7zkn6k+On7PHj/8AZ7/ZV0nw542/4LSeOvhx4a0rxfdXnjT4qfEB/D76vqVjcK6w6ZHqF3BHb2G2YxskiQtIwUxhQGG0A+y0kSQZjcN/umkMsQBJkX5eG+bpX5Q/8Evf+CkV3d/8FSfEX/BP/wAA/wDBQ+4/ad+FOrfCyTxP4R8aa1bW8mseHdVtrkRT6bPeW8ECXiPETN5hQ4zCq7fnLxfAfXP+CjP7dn7f/wC17+yp4V/bu8QfDL4a/DT4pW8ra1odlFfeIHS7smW30nT5LrdDp1lG1tLcSOkZld2jRGCtKaAP1jMsYTzDIu3+9nisL4peO3+Gnwx8RfEm38Iaz4ibw/oN5qceg+G7MXGoamYIHl+y2sWQJZ5NmyNMjc7KMjNflD+xR4h/4K8ftffGv43f8Ey/ip/wUMn8NWH7N/ihLTxB8YvCXhWyXxV4ys9RjkfSLf8Aeo0FiI47eWaeZA0zl4od5xJK/Xfsq/th/tv+E/2e/wBvT9jj9pH44zeLviH+yx4Zvbjwp8WLexisr7UbC+0O/vNMnljjBQXMQtVkLfMcyBWZyhdgD1b9sr/gsn49/Z9/4JH6D/wUu8M/sp61o+ra3qmm2zfDn4m+bpt9YrcX0lszS+UpYBhH5sTYG+OSNyozsr73EilzHuG4fw55r8Jf+Ch3xb+Jvx2/4NLfhj8WvjH451LxL4m1zUPDc+r65q9wZbm8kGrXCb5HPLHaqjJ545yea+2/2yP2gvj1+xV/wWb+AfizxB8WtauPgT8fdMuvh9q3hu8uDJp+heK1Il066iQgCOS6ZoYAAeQtwx/hFAH6AF0Vghcbj0GetLXwRpPx1+Pv7TX/AAX21T4IfDT4s65pfwl/Zw+Fdtc/EbQdNnC2mt+KdZWRrO1usD95HHaOJ0wRtltGB4LCu3/4LNft5fFv9iH9njwron7M3h3S9U+LXxg+I+l/D74Zw6181naanflgLydf40jVcAcjzJYyysgZSAfXyzRO2xZVJ9A1fNH/AAU6/wCCjFj/AME+Phl4VuPCvwivviN8RviV41s/CPwx+H2n6pHYtrGrXB4EtzICtvAgxukKthnjU7VYunyx+2B8Af8AgrB/wTw/Zg1r9vL4af8ABU3xf8WvFnw800+IPiN4C+IHhPS4/DXiXTrfD30dpb2sSS6XsiEkq+XKzER7Qy5zXz9/wVmsLn9s/wDab/4J4/tY+A/2mfid4Z0X46+MtIudB8P6dqVmE8G+dbWEpurHfbNtvczlZHl81C0YwgAwQD9Z/wBjTxz+154++FN1rH7afwN8L+AfFkWuTQWuk+EvF51q1uLERxNHcGYxoY3MjTIY/mwIg2fn2r6w00SHa8iqfQtXE/s5fCfxB8DPglofws8T/GjxV8Qr7SYJVm8Y+Np4ZdU1DfNJKpnaCONGKK4jXCg7I1yWbLH8vrj9pn46/te/8FMPjr+yt8c/+CrHiL9lnxB4D8XR6T8DPhjoun6XZr4gs2T/AEfV5ZtQib+2PtRMcgskkVlU8YDZAB+h/wC0T+2BqPwC/aC+D3wLtP2bviH4wh+K+tX1hceKvCOi/adN8LC3ijYTajJkeSjmUEEkfJFO43GPY3tCzRldxYL8uWBPT61+ff7f3xy/aL+CP/BTT/gn38AtA+POuvpPjXUvF9n8RltxHax+KpLLTNOMc11BEojH7ySWQIoCqZDtAwMeZ+I/iP8A8FD/ANpD/gt18ff2Dvgt+2BqHw6+H1j4C8J67qGuW9jFqGoaHD9jjWW00eG4Bgtprya63S3LpIUW3yoDFcAH6oCWMp5gkXb/AHs8UqujruRww9Qa/IP4CeKP+Ct2r/t+/Ez/AIIs6z/wULuptC8I6TZ+NbX483Hhaxl8Wnw7cxwRjRokdDbi4ae5AN5KrvGsEjLgSRRxez/8EyPjr+1/8GP+ClXxk/4JN/taftD33xesfDfgfT/HXwx+IGtabDa6qdJnkiguLO8MAxKyTXCBHJ3fu5GyFkSOIA/RQzwhd5mXae+4V5v+2P8AHLUv2Zv2Rfil+0homhW+q3nw/wDhvrniW0025maOO8ksbCa6WFnXJVXMQUkcgHivyz/4IuWX/BVL/gq1/wAE7tB+KPxf/wCCmXjH4eaPpN5qulaHqHgvS7K517xJdx3kkv8AaOp314kjeVEZfssdpAIt8duGdySK6nwp+2P+1R8R/wDgnx/wUM/4J/8A7dHiXT/E3xQ/Z2+FXiSym8e6bpsdivinRtR8P6hNYXclvH8kU/lxZYIAu2WIEM6vI4B+h/7A/wC0hrX7Xv7GHwx/af8AEfhm10W+8eeC7DW7rS7O4eWG1eeIOY1dwGYD1PNeuLLE52pIrfRq/ItP+ChXi/8AYT/4IP8A7Hnhb4SePfCfhPx18YtD8L+D/DvjXx1PEmk+EbeW3DXuuXQmZY3jtYcEK7bd8iMyyKpjfn/ir/wUJ0j/AIJ5fEH4V/Gv4Pf8F19F/ac8PeIviBpvh/4zfDXxB4t8N6lcizvSUfWdJTTFjmsltmBb7MN8ZEiB3AXkA/YjxLq82g+Hr7WrfTpLyS0s5Zo7SFgHmZELBFJ4ycYGe5r4x/Za/wCCz/hj9prXP2X9Is/2d/EGix/tNeG/FeraTdXesW8qaGuh7/MSbagM3mgIVKbdvmrkdcfbJVLiLZIu5eVYevUGvm/4F/8ABLX9mz9nk/AR/BGo+Jp2/Z18L67oPgRtS1KCT7RBq6263cl5sgTzZf8AR12lPLVS75VsjaAfSPnxbd5kUdj83SnBgw3KcivyL/4J/XX/AAUw/wCCh3xY/ae+FOo/8FAfFXw9+Gfwz/aY8XaHpmseGrO0vPE2ogXOIdMju72ORLCxs4oonXy4zJK13Iu9VQCvav8Agmf+1D+2N8Lv+Cg3xT/4JGftu/FtPifqvhLwbaeOPhn8UZNHhsLzV/D0s0NtLDexQ4QyxTTxoHxvYpMWZgUwAfoQJYjgiRfm4X5utDyxRnEkir/vNX44/wDBEL4qf8FJ/wBuP4KaT+1J+0H+3jqvhj4X/Bbx/rUOraaunrfal8QmgnlvLiTUbyRlNtZQW88NrFBErbjDK7bdsdeh/sR2/wDwUU/4LSfBq+/b78Qft/8AjX4CeA/FGt6knwX+G/wt0fTt1hp9pcyWiXmrXV1FJLfyySwyb4AUj/dl0ZVmEcYB9/8A7anx41X9l39j/wCKX7SmhaBb6teeAPh5rPiO00y6maOK7ksrOW4WJ3XLKrGMKSOQDVT9hf8AaL1T9rH9jj4X/tM+I/D1rot94+8C6br11pVpctLFayXVuspjRnAZlBbAJ5r87rD9tX9pb4y/8E2P+CgX7Dv7beqabrXxY/Z1+G/iHSdY8Z6TpqWUHinS77Rb6XT9RNumEhmdIHZ0QKgDxcAk1H/wTj/Yx/4Kb/tJ/wDBLT4P/Ebw/wD8FMtc+Dd7a/C/SYvhV4M8C+FrCXR7O1gthFbXGrPcpLPqMt0iRzSIGjjh83asbbTkA/W7IAyTTUlik4jkVv8Adavz3/4J+fttftMf8FH/APglR4v13x58edO+BHxh+HPi++8GfEb4kwaBY3dnpV7pM1tPe3i214wtkE1lJsdmIjhlkkkRQqKlfN/hz/gpXoX7KP8AwUj+Bfwb/Z2/4LHX37Ungr4r+Nv+ER+Ivg/xNdaZqt1o17dFI7LU7DUNPtYY0hE7hWhDMm3Iw5ZWhAPur4cf8FDvGHjb/gsD49/4Js3fw40230Twj8HbPxjb+J49QlN1cTzXFrEbdoivlhALkncDnKDru+X6uWVHUtGwbH905r8b/iH4G/au+Kn/AAc3fFT4afsqfGax+Gt3q37Ouif8Jd8Qn0OLUtQ0rR47mxklj022nP2c3dxMIIBLOrpDE80io0ixivV9O+L37b3/AASt/wCCnXwd/Za+P37XmufG/wCCX7RkuoaT4a1bx1pdnHr3hPX7aNWWM3FrHGLqGd5bdAGCgCRtqIYSZgD7C8Iftq6x4x/aW+Mf7OR/Zp8f6LF8KdBs9QtfHWvaT5Og+JGntjMYrO4H3yhwpxu5WTO0oA3iH7L3/BXnxv8AGD/gi7Yf8FVfEH7LOva9rE8N8z/DX4ZxyajfXJh1yTSwYBINxRQguJWw3lxrIwDbcHmv2Xf2gvjd8Qv+CsX7ffwM8b/FDWNU8H+A/DnhA+DfDd5dbrXSDd6FJLcmBP4PMcbmx1PNfGXwB+Ofxf8A2a/+DKqD41/AX4h6p4T8WaPLOuleINFuDDdWnn/EI28uxxypaKWRCRzhzjFAH7g/D/xgfHfgLRfHU3hnVtCOsaTbXzaN4gtRb31gZolk+z3MQZhHMm7Y6ZO11YZOM0vjzx/4P+GXgTWviZ4612HT9D8PaTc6nrGoyKzJa2tvE0s0pCgsQsaMxABOBwDX5wf8FZP24/2gPgL8Lv2UfCsH7SGpfB34e/Fy+Sz+MXx9tPD6ahdeH9umW81taK0kbxWz30kk/wDpJTMX2cyfcSQHd+P/AOzB488R/wDBIz4yXPh3/grj8SPil4WfwtrPiXwj420m/wBEmuLvTLbRboSaTNqFpbtHqFpPNvaRwEcKFjUptZmAPtD4c/tXfCf42fsx2/7WfwIk1bxr4V1Lwzca5oEeh6LMl/rFvGkhEdva3KxSGWQxFEjcIWYqDjOaq/sUftLX/wC2B+zD4T/aN1P4JeLvh3P4mtZ5ZPB/jrT/ALLqlgYrmWD97GQDsk8rzY2wN8Ukb4G7Ffnn/wAEf/gf8UvgV/wRbs/2r9H/AGy/ipq3279mnVpND8C6vqNk2i+G7pI7ieK6sES2WaOSMw7VLyPxI+c/IEo/CL/gq9+0v8BP+Def4DftEx3U3xK+Onxf8QxeB/A9z4suTMt9rl7quoRQTXbAqzpHBbNjn5mWNWIDFgAfrYJoS2wSru/u7qdXxf8As/8A/BPP9v8A8F+LvCPxc+OX/BYn4meLPEVnqltdeOPDtr4S0S28NavbqczWEFoLUPbIx+T7QriQqCwVGIKeyf8ABRb9srw9/wAE+/2JfiL+2D4m0U6pF4J8Pm5s9M87y1vr6WWO2s7dn58tJLqaFGcBiqsSFYgAgHtRmiVtjSru9N1fLHh//goJ4u1j/gsTrX/BNCT4dacmi6Z8BY/H8fihb6X7U9wdSgszamLGzZtm3bs5yvvgeJfs8fsVf8FXP2mPg54f/aZ/aM/4K4eO/APjzxVpttrVn4I+G3g3R4fD3heG5VJ106S3uoJXv3jjYI0ksmQ2V3Shd75fgtg3/B194uZO/wCxLGR/4UNlQB+lDTRI2xpVB9C1OJAGSa/Lf/gpL46g+APi/wAeeI/ih/wce33wx+IUdzdaj8MvhvZ2egW+n6Fbunm2VnqOmJbXF5fx/wAP2mYqXU7gh24OP8Uv+CwH7Y3jL/g3Q8A/8FH/AIVafb6D428UXlrpHjfxhY+HV1CHwnbRarc6bf68lidyyKHtQyxEMqm6XIIWgD9Xkljk/wBXIrf7po86Lf5fmru/u7ua+M/+Cavh3UW0LWvj18F/+Cs3ij9qbwXqXh3y7bQtbutFuFt9a4mLrd20MctmWTEX2OUAReaWfJC7fk7/AIJCfH347/8ABR/UtH+NfxU/4LMeJvC3xy0/x1dyePP2Y7HQdIsbLR9Ls9RdZdI/sq7gF1JutkVTfB3khM21y0sTEgH6K6H+2Ff6z+3Xrf7Fkn7N/wAQ7S00b4fQ+Jh8T7rRdvhy7d50jNjFcZ+acCQEL1JinG0CPc3zr8VP+Cq37UnxV/a4+IP7In/BM/8AYz0n4mTfCGS1tfiZ488afECPQdHsNSmVnXTbZViklupQqOruNojeJ1ZcbHfnvCnxq/aA+J//AAcC/HD9jh/j74r0nwOv7LNtfaJpWm3yeXoupz3NlD/aVqkiMi3KCdyrMGBJ+YMAAPkz/gj3+wF8Tfix+0d+2N4X0j/gpT+0D4Pfwj+0he6TqGqeE9c0yK58SSI9wrXt801lIGuX28tGETk/IeNoB+x/7Nfjj40fEj4IeH/Gn7Q/wTh+HPjS+s2fxB4Kt/E8OsppUwkdRGLyBVjmygR8qMLv25bbuPbiWItsEi7v7u6vxl/Yw/4K0fH79k//AIIm/tF/tb/HH4o6t8VPGngP4/614N8AXHjzUFdriYrpttZRzsnljyI3mkuZFDJlVlCsmVK5v7Rf7aHjb9kL9nE/tn/C3/g4w8B/Gn4xeGBZ6l4y+DsnjDwtceF/Fdv56C703TLGzRbq1ZUcmOaN3lkEJ+VDISgB+1pdFbazDJ6DPWk82Pbv8xdvrmvy4/4Kk/tw/teXv7TP7CSf8E9PiTJpP/DQ2ieKhb2erSbtLaO70zSns9SvbcBhc/YI72a8SLIDvEFJKkqaX/BSP4wftpf8E1/2ff2ffgB48/4KBeJofD/j/wCJ2o6f8Zf2rdQ8FW8l9oNpIftFtaR24E0Np5/myxRzYIgS13DAUigD72/b0/a20v8AYb/ZA8d/taan4JvPE1r4H0f+0J9F028SGa6Tzo4yFkdWVceZuJIPCngmuV+AH7f9v8dP2w/F37I//CmdX0W58J/Dfw74tuNcvNQikhmXVULJaiNV3K8ZWRS2SGMbYA4zwXwY/Ym8N/tIfsSfEb4BfEP/AIKQ+Lv2hfhb8WNNax8P+LmvtGuL7S7Fotk4t9TsoDHeOZgXDyIwj2Kmzhi3vPgP9kz4XfDr9pLxV+1H4dl1IeIfF3g3Q/DWpW81xGbSO00uS7e3eNBGHEjfbHVyzspEUe1UIYsAePf8Fjv+ChvjD/gmd+yXb/tFeCfhxpvii8m8baRojabqt/LbxCO7kkVpN8QLblCcDGOcnOMH6tE0e/y967v7u6vzF/4Oz7q8sv8Aglra3lhpovJovi54aeO0aTZ5zCS4ITd23HAz2zUn7Yn7Of8AwWX+An7MXib9vnw1/wAFSdQ1L4peCNHu/FniD4V2/gjTk8C3NhArXVzolpAUN1tigEkUd3LK9xP5SkmGSXzIwD9N2ZUG52AHqaEkSQZjcN/umvh3xT+0s/7b3/BOT4Q/tpW3/BQpf2WfBvijS7XVfiBrUMekCSXzrdon0qDUdVBjs3jvVIWZY2kkEWwKN+R4P/wSt/4KO3mrf8FTvEn/AAT68C/8FDZv2m/hTqXwtbxT4R8ca1a276v4f1O3vFguNMuLu3hgS8R4mM3mlDjMIXb+8LAH6stNEjbGlUH0LU5mCjcxwPU1+O/wB/aK/aK/4KAftjfG34UfGD/gr94m/Zv+LXgv4vaj4d+FvwI0fR9HghTR4dv2W7eG/hLa+86b5DskONvmKBDLEi+zf8FLP+CiOp2//BQDwn/wTT0T9u3wp+zf4ag+H7eM/ir8XPEGqaZa6lcQSXP2W10PSn1H/R4byTD3EkhjdliKsmPLdJAD9IUdJBlHDf7ppss8cSndIoOOhavy0/Yn/wCCi1l8E/8AgpnZfsFxf8FNdD/ac+FPj74d3+v+C/Gk3iDSdU1zwrqmnLLNd6dfXWlhUuIZLWKW4SSRFcbVVVCozOz9hG5/4KLf8Fn/AId6t/wUOv8A9v3xp8B/AGu+ItSg+B/w7+G+h6ZItrYWdw9qL3VpbyGVtQkeaKVXtztTMTMjIsixoAfUX7CP/BQ3xh+1t+2Z+1B+zF4h+HGm6PY/AXxhpWj6Tqlnfyyy6rHdx3bNJKjgLGym2GAhI+c56An6vr8m/wDg3htfjXp//BQ39v7Sv2ida0bVPGdn8RfDNtr+r+H7FrW01GaOLV4/tccLO5h85FSUx7iEaRlGAAK+nf8Agsz+3l8Zf2Ofg74F+Gn7Kuk6Td/GH44fEjTvAXw5m15C9lpV1dtiTUZ0x+8SFSgAOVDyo7q6I0bAH2Ks0TttSVSfQNSl0DbSwye2a/Lz9tL4N/8ABVH/AIJl/s2an+318Mf+CnvjL4y6x8P4I9Y+Jvw9+I3hbS4tC8S6ajoLv7DFawrJpJjUtMAkjnahXccENR/b6/bi/a8+Kv7WH7CFv/wT3+Mh8HWv7SfgXxFe+X4ihN1p9pa3Ol6fdxajcWQZUu7qyt555oYWZUedERzsZgQD9UEljkOEkVsddpp1flf408fft8f8Epf+CkP7PPgf4oft3eJvjr8J/wBonxLceFNf0fxzoFhBfaFrRSL7PeWctrGnlxNJOn7kDy1jWVWDM0ckf6mtulg4YqWXquDjigBfOhLbBKu7+7upS6qQGYc9PevxM/4KF/tc+Mf+CfHwx1f4q+C/+DjmT4jftDeDLiKTVPhdqmm6A/h/X/KuVS50x9I063Z9NlMfmfen80bcBoywlT2r/gql+3/+1tY6z+wj8Sv2IfEkWi6h8cvFUccfhzxDeTDSLwapplkbUamkBWSeC3e885kRlY+WdvzEEAH6kLLGzbFkUn0DUpkRW2FxuPQZ61+U3/BQDRv+Cp//AASP+B9r/wAFH9C/4KVeJ/jjp/g3UtN/4XN8N/HnhHSrHTNe0+4uY7WSbTEs4g2lskssZWNS5Abc0jrG0UvQf8FOv2r/ANsm6/4KFfsa/DH9gL43RaFb/HTwt4qVm1yNrjSkt2sbSePVprIMoup7S3kmuIYmZVeVERiEZgQD9OFljc4SRWx6GvlnRf8AgoF4u1P/AILD6r/wTTk+Hemroun/AADT4gJ4oW+l+1NcHU4rM2xixs2bZd27Ocj3wPk39uHxh/wUI/4IoXngX9t3xJ+3/wCLPjj8Jb7xpp2h/Grwb8QvD+mxSWcF4WQ6rpslnDF9lWNgQtuvyhmjDGRSSvWaRp6ah/wdV+LtLe9uLdZv2HRE1xayGOWMHxDaruRh91hnII6ECgD9LVdXG5GDD1FeKft4ftjah+xP8G7H4t6P+zV8RfitJeeLNP0VvDvww0UahqEC3LMDdPHkYiUJt/2pZYUJUOXX5O/4JLftyfE/4U/CD9pj9nP/AIKB/FzVvEXjL9kvxdq0/iLxXrjBrzVPCTQS39hqTk4Ll4YbgjuIzCDycD5K+Kf7Vv8AwUe+Hf8AwRJ+E/7a3xC/ac8a6V4++O37UGk62sMGplBo/hfUDefZNJt+MLZyQ28VwF7idQeBigD90PMXdtLDPpmhZI3+46t9DX5n/wDBUT4+/t4aR/wVz/Zz/ZG/Yx+PcPg2b4seAfFVleXmuWrX+m6U0IM76v8A2fuSO8vLa2hma3jlbymlMYkzHvDZLfEL9uz/AIJb/wDBU/4B/s+/GD9uHxD8cvhP+0lJrGlSW3jvRbKPVPDus2kMMiz281qiDypJJ4VEePLVGlBTcsb0AfqM8kcYzI6r/vGgSIW2h1zjOM1+aafFj9sn/grH/wAFDfjR+z58C/2uPEXwR+Bv7POrWvhvWtS8AafZnxB4w8SOjtcKLq6ilFpb2rxSIVUfOCpYOZP3GX+w/wDFz9v/AMGf8F7vFX7CH7U37VV18RPCXg/9mOXWPDF8mnxaf/bIk12yMGoahaQfuRqEUd1PZNLEEWWK2ikKKzvkA+6v24/2tfB/7C37KfjX9rDx74Z1TWNJ8E6SL6803RfK+03CmaOIKnmsqZ3SqTk8AHGTgH5Fvv8AgvJ45+GPwo0f9pv9pP8A4JY/HPwf8IdasbK/i+I2mz6RrlvZWF2qPBe3dvaXPnW8GyRGZiCy7toVnIU+gf8ABw+cf8EZfj7/ANiWn/pfaV8E/HL9tD/gp9df8EbPC3wO8b/8EudS+HPwb174Q6J4b8YfHyz8a6f4zk0vwnLpsFvdawug2BiuFzaFpsySKIRktgjKgH7YfD/4g+C/ip4B0T4o/DzxJa6t4f8AEmj22q6Hq1o2Yb2zuIlmhnQnqjxurA+hrWWWNxuSRWHsa+OJ/BXw20n/AIJY/CXR/wBkj/gpPH8G/hT4X8L6AP8Ahck1npksmpeGYrL7OIzPqgWDT5p2aFzO0e+KRDGIwWIHyd+xJ/wUds/DX/BWjwr/AME/fhH/AMFQ9R/af+FXxW8F6wbXVNaktZ9b8H65Y2012/8AxMbO2gW4gmt4JNnDbWC7du3dKAfryrq43IwYeopFkR87XU464PSvzl/4JJ/ttfFD4TfD79pz9mD/AIKB/GLV/EHi79lDxhqV5rfi7xAwa81LwdJbyX9hqMhODIWhhnf/AGY3hBxkV88+C/8Agpl+2z+zn/wSc8A/tG/GX4+abpfxe/bE+NTL4D1r4nahH/YPww8O30x2XxSUpF9jtrOMXKKx25vYWdZAjRMAftAssTnakit9GoeWOP8A1kir/vGvxp+LX/BQnSP+Cd/jn4X/ABy+D3/BdrRf2nNB17x/pug/Gb4aeIPF3hvUrg2N6THJrOkppipNYi2cFvs43xkSKHcBfm7z9sT9rX4nfEL/AILBeLv2Ff2hv+CkWvfso/DzQfBejah8J7jQYbDTZPiFe3MQa5um1XUIZIlWC4MloLQFRM0fy/Mj7gD7o/aP/bY0/wDZ8/aj+BP7Mb/DTUtauvjhrms6daavZ3sUcOkf2fYfbXklRgWkDR7sBSMbGJPQH3IOCgc8ZxXhfh79ie18Q33wH+Jfx/8AjVr3jzx/8DW1C60/xj9jtNPTXbu+0yfTria6tYYygUwzllWJlIdEJZxuDehftCfCXXfjh8HdY+FXhn4zeKvh9eaqsCw+MPBNxBFqmniOeOVjA88Usal1QxsWRvkkbGDggAyf2Wv2u/2fP20/hTH8bv2ZviEnifwvPql3p9vq0en3Nqks9tL5UwVbiON2VXyA4Xa3VSRzXjH/AAR1/wCCifiz/gpb+yvqn7QXjn4d6X4VurD4gav4fj0/S9QluI3itDFslLSgHcwk5HTjIxnA+Lv+DVD9mPxq37Ffgv8AaZP7XfxQOj2/ibxPav8ACltQs/8AhG5ibp4fPaL7P5/m7/32fOx5nQAbg3lX/BAr9lj9uf8Aar/YF8WaL8LP29NU+BXgjS/ix4kj0eP4f+G7a61fWdXd7Z2vL65umOy0hGyNLW3ETS5laSQjywAD91wc8im+bFv8vzF3f3d3Nfld+zD/AMFoPj78IP8AgkD+0J+0V+2dBpfir4qfsx/ETWPh9q15ZWy29v4l1WC4tbWyuJEhCKivc3iRyeWF+SFnABbFeQfFv9sL4mfB/wDZHuf22vC3/ByD8OfGHx+0HQU8R618G4fFnhW48HasqKJ5/D1nptvi7Mgjzbx3CTfaJmTIETybowD9sicDJpqSxyf6uRW/3Wr83f2tv+CoH7Qv7Qg/ZP8A2Wv+Cemv6f4D8fftY+GY/Ftx431zTY9UbwN4bTT0vriWO1k2xXN2VMscfmfITbumFaVJI+R/bT8Tft5/8EPdM8H/ALaF5+3h43+Onwdbxdp+j/GXwX8UNK0+S8srW8kMY1XTbu1hiaExt8otzlC0ibtw5QA/VAyxhipkXIGSM9BR5iBPMLrt/vZ4r8tf20PjD/wUO+IP/BdBv+Cf37IH7St54F0Txf8As42Osaz4gurZNRg8Jwxavc/atTs7CX93LfTLHbWauzAIty74LKjJl/tB/tu+KLH9sjRv+CUHjb/grBpPwP8AC/wd+Fej3Pxi+M3iPWNH03xV451m4t4/JsrKTUjJDakwtFeT3EaySBpPLwFO5gD9X1dXG5GDD1FIZ4QocyrtPQ7utfmn/wAEx/2+Nbt/+CkPiz/gmvL+37oP7TfgW6+Gcfjf4Z/FCx1jTL7U9LEd2LS70PUrnTAIbmcZFykjKsgQjOQ6KnhP/BJPwr/wV+/4Kpf8E0tD+NfiX/gqf4m+HV1pk2q6f4FuND0W1vLrXr2C+nf+0Nbupw0ssYkk+xrawiNRDaI7b2cigD9omljTl5FX6mnZr8hf+Cf3iP8A4Kz/APBaz9ie1/aN1/8A4KFXfwNvtFjl8O+HdP8Ah14XspF13WdPASfWtWkkXdtnnYobK28qFRHvH3wo+uP+CGH7cfxb/b6/4J6+G/i5+0Etq/j/AEfWNS8NeNLyxtkhhvr6wuPL+0iOMBEaSNoncIFTzC+xUXaoAPsKiiigAooooAKKKKAPgH4h/s7fHPUf+Dkbwb+09YfCvWZvh7Z/slz+H7rxhHaE2MOqf2zfTC0aToJTHLGwXqQwPriH/gkN+zn8dPg1+3T+3J4++Knwo1rw/ovjz41W+peDdU1OzMcOs2YF6TPbt/y0QeanzDj5sdcgfoHsTdv2Dd03YoVEUkqgG7k4HWgD4M/Yu/Z9+N3gf/guf+2h8fPF/wALtY07wX440XwHH4R8TXVoVs9We00eKG5WB/4zHIrK2OhHPan/APByP+z58bP2n/8AglB44+Dv7Pnww1jxf4o1HXdAey0PQbQzXEqR6nC8jBR2VAWJ6ADJwATX3gERWLhBuPU460OiSDa6Bh6MKAPh7/g4v+A/xl/aW/4JD/FL4NfAL4a6v4u8Vatd+Hzpug6HaGa5uRFrdjNIVQckLGjufQKT2qz/AMHCvwL+MX7SP/BHL4wfBf4EfDjVvFfizWY/Dx0vw/otqZrq68nX9Nnl2IOWKxRSOcdkNfbDIrja6hh6EUMiOux0BHoRQB+Yn/BQ39nj9o/wr/wU1/Z//bv1T9jHXP2gfhJ4H+Fc/h678CeHVsrrUvCPiGSZpf7ag0+9ljjuJJE+zRbg37v7KXZkZId7f2RPg1+2x8VP+C63jr9rr9qf9je9+Hvw+8afstyeHPD1jNqUWoG1hTW7VY7HUbi1Jt49QmihuLo28LukUMsSGRnVzX6eNGjja6Kw9CKBHGG3CNc9M7aAPyp/YLT/AIKOf8ETfAV/+wL4x/YN8bfHj4U+H/EOoz/B/wCJfwn1DTZLqSwu7h7r7JqNjdTRNbyLLNIzyk7A0jKnmIiuen/4KBfCv9rj9q79pn/gnz+0A/7JHifw/ceF/ipd6x8StBS6g1L/AIRCFxZbTd3Nsxi2lYXbcDj+EgN8tfpe8UUnMkat/vLR5cZwTGvy/d46UAfBv/Bd39n343fH/wAI/sy2fwU+F2s+KJvCv7W3hDxD4ij0e0Mp0/S7eO8E95Lj7sSF03MeBuFLZ/s/fG5P+Dkm+/acb4X6yPh6/wCyQvh5fGH2M/YG1T+3kn+xiXp5vlKX29cc195MiP8AfQNjkZHSjYm/zNg3dN2OaAPz8/4Irfs5/Hb4GfH79tbxB8YPhRrXhyx8cftQa7rvg+61az8uPWNNmmnaK6gOfniZXUhhxz65A4n4Jf8ABPT4ofGb9tL/AIKW+BvjR4D13wv4I+P2j+GtE8IeMbjTsw3i/wBjX9vNdWuWAmNvJPExGQNwCkjmv05VFUkqoGeTgdaAiKxZUALdTjrQB+R37K1r+0N+xp8EPD37JH7Wv/BAqb4meLfA+kxaBonxJ+FWh+G9T0fxZa2q+Ta3s814YZrKRoljV/ODOxVpWVC5jX9QP2e9N/sv4IeFYZfgjafDa4m0O3ub7wFYtaNHoF1Mglnsw9n+4kMcrupki+RyCw+9XYNDCzbmiUn1K04ccAUAfAPwt/Z3+OWk/wDByH8Qv2nNS+FWtQ/D7UP2W7PQrHxhJZkWM+pDVbGQ2iSZ+aUJFIxUcgKScZGfnv8AZm/Zf+Mf/BI//hJv2Uvih/wSIf8AaK+Ftv4s1DUfhR8UPh14f0LU9Xj0+6l84abqVpfGOYSQsx/flth3bV3Kgx+wOxd2/aN3TdikeKKT/WRK3+8tAH5hf8FGf2Uf2o/21v8AgkdL4V/Zu/YIg+FOuy/FDT/EPir4DzappNlN400OynP+izTWDC3jlmVbWcxu29fsnl5Zgm7gv2vNP/bT/bB8Qfsjp8Ev+CUPi34SfCP4Q/tMeCvEGvaZrVtp1vqcHkXLrKbPS9NkkWDTLSFZDJcTGIuZ4BHGFSQj9ewihdgUbfTFIIYQNohXGc420AfBfhr9nr432v8Awcl+Jv2nrj4Xaynw9uv2S4/D9v4wa0P2GTVP7ctpvsYk6GXy43fb1AGfSs/4+fs5/HXxD/wcZfA39pbRPhRrV14A0H4D63pes+LobPdY2V7JLqBS3kk/hkYTR4Xqd4xkA4/QXYm/zNg3dN2OaNiF/MKDd03Y5oA+Dv8Agob+z98bfiR/wWC/YZ+NHgL4Xaxq3hTwDqHjt/GniCxtC9roy3emW0dsZ36IJHRlXPUjArL/AGVP2cvjt4R/4OD/ANpz9ozxP8KNbsfAnir4X+FbLw54suLPbY6jcQWtik0UUmfmdGikDDqNhzjIz+gpRGYOyDI6HHSgIgcyBBuPVscmgD8/P+Dab9nP47fsuf8ABLTQ/hJ+0T8Kda8G+JrXxprdxPouvWnk3CxSXYZJCuT8rAEg9CORkYJ8c/Yy/wCCW3xh+Pf/AATR/ba/Yt+PvgjVPAd58XP2kvF2s+DLzxDYtGkkTf2bPpuo7eWe2N1aKSVGWVG284NfrMiJGNqIFHoorM8Y+HrvxN4Q1XwzpPiO+0O41LTp7aDWNK8sXNjJJGyLcReYrJ5iEh13Ky7lGQRkUAfmT4M/aq/4K1eFP2Drz9jL4kf8E1dZ0f4m+Ffh1NoGofGDWPF2m/8ACEJY2+nvB/bz3EcjzyyeUgmNlFCxZ+C0QJCeQ/8ABMr9sP8AaK/ZT/4Ij/sLfA/9l7wn4Z1L4j/G34sar4ctbXxdptzdW9hoTa3rNzf6qIbeeB3+zw+RKfn27HY4bgH6a8b/APBIn/gpH8cfBuofAT9o3/guj428RfCnXrFtL8SeHdB+C2g6PrmpaWyhHtX1mNnf50BSRzEfNVmDhwzA/Xnw1/Ys/Ze+Etr8NbfwR8GNFt5Pg/4Zm0D4b3k1uZrjQbGaGKGdYJZCWV5Y4UWSXJkk+bcx3tkA9Ofc8YIH8Sn8M/4V+f3/AAbifs5/Hb9mb9iPxh4E/aA+FGteD9Yvfjh4j1O003XbMwzS2cv2YRTqueUYo+G6HbkZGCf0FpERIxtjQKPRRQB+OOh/8E7/ANvT4h/sI/8ABST4D/DjwNq/hHxj8Xv2lPEms/Dz+2JRYJ4l0aXUIJ3jhmdgnlXlqk1sHcrGfPw7KpYjiv8AgoL4B/br/an/AOCQun/sZ/so/wDBGLxV8K9P8JSaFceNNL1KTTo2uLm0ureM2mhWllI82pF5ZDcyXtwIEENvMTvkkXH7hKiJnaijPXA60eRDgr5K4PX5RzQB8A/tT/s6fHTxb/wcEfsrftF+GPhXrV94F8J/Dvxba+JvFdvZlrLTJ7izvEhimkz8jO0sYVepLcdCRwn/AAXx/Zg/bNsPiZ8N/wBvb/gnV8LNW8UfEmx8K+JPhn4m0vw/kXU2kazp1ytleO2QBFYXzG4GTjzJYycKGI/TnYhYOUXcvAbHSlZEcYdA3fkUAfnp+13/AMEWrzxr/wAEa/AP/BP/APZ41XQrbxj8GhoeveB7zWLQNpupeIdP3vcSXEbqw2Xj3F6W3KVDXALAqGB5n4e/GLx/4lXS/h58SP8Ag2e1jT/Hc1xDb+JPs2k+EG8MwZdVuJ4tUeTEqBS8gTYS33Nxzvr9Mqb5EO7f5K7vXaKAGW1tBZ2sdpaWyQxRKqRxRqFVVHAAA4AwOnavyM/Yb8eftjf8E5v2jv2uNH1//glr8c/Hy/FL9pfxJ4s8E614P07Tf7Lu9PuLqfyHkuLm6j8oOpV87GAV+cEFT+vFMNvAx3GBM+u0UAfll8Ev+Cdf/BRf4waB+2x+2n8YtF0n4QfGb9pzwOnh/wAA+AdK8TJe/wDCM21npj2dqbu/t8xm4mVYFMsQzFh5AFZ/Kj8L8f8Awi/bq8Tf8EKtW/4JhfAr/gjf4k+Hvi3RvANnZfErxBqNzpcen6xd2D2881zpn2GSW51m+v5LYnBRI42mbdM+xd/7iAADAFNEMIziJfm+98vWgD84f+CuXwNtda/4IL2vi3xxrEPgnxj8FfBfhnxz4T1LXP3MmkeItJt7fy7fAPFxMWmskXP+tuFFdF/wSk/Yj17x9/wS68dXP7Uemf2b40/a+k8R+MvinHaxESWS+I4XSK1jEmXjWGxkhxC/+qd5FxnOfUP21P8AglpoH7fn7Sfgfx5+0f8AHnxFqnwh8E2sN1/woK3tIotF1vXIp5Hj1HUJgd91EI3RPsrLszECGCyTRyfVwGKAPyG/ZI8FftC/8E/Pg9pX7Gv7W3/BDeb4yah4JjbSfCPxc+E/hvw5qVn4p09JG+zTXi3jxTWMqptjYzZZipdhk5b7I8b/ABv+L/wA/ZY8AXvhn/gkb4i1TS/EsN0vxH+FfgHUtAmuPCUcsbOyC18yK21MyyttZYiowzu5zhG+r3hikOXiVv8AeWho43Xa0akehFAH5t/8Ee/2M/iz8Nf27fjv+2L4d/ZHvP2b/g38RNH0my8KfBvULmzjuL6+tyDJrEthZSyQaYQPNjW3Vv8Alu5xjBb1P/gtd+wd8eP2v/g94B+LH7IF/o8Pxk+BnxJsPHfw9tNfk2Werz2xzJp0rllWMS7Y2BYhGaFUdo1dpE+0lVUG1FCj0ApaAPkD9mf/AIKFftpfGb4i+Gfhb8Uv+CRPxW+Ht1cXTxeOvEmt+JNHk0PQ1ELt5ttcpN5mpKZQiARxIcPu524Py5+yn+w1+2rN8IP+Clnw20DwjrHgLxP8YvjJ4vuvhXrmsxm1i1O3uxdeRcQTA5WKVZAgnXlPN3DlSB+sCxRI25IlB9QtKqKpJVQM8nA60Afh38WfhJ+3R43/AOCE2qf8ExPgJ/wRw8TfDvxLofgfTrT4k61qU2mR2Or3mnTW08s+lLYSS3Gs3t9LbFyWjSNDK+6aQhd/3z8Z/jV8UPgv8B/hv8HvHf8AwS18ffG7wDrXwzsYfG0Phu10fUZbC+jht0XTrnR7+eMzqQrs8m7ahRVwxJKfZXkwjIES/N975etDRROMPGrfVaAPzD/4Jcfs+/tm/wDBO39nn9oT48eFv2FdYs9P8efFSDxB8K/2WdK8baet3oGlvIkN1P8AaJJGtYZngbzvsiscfYo4RtLDbl/Ab9mL4m/tC/8ABZD4Z/t8/Ar/AIJv+JP2YvBvgvwz4gtvixrfi6PTdJv/AIhXN7CYrezbTNOnlWXyZj9oN3L/AK0KNxDQQBv1R2Jt2bBj0xSJHHHxHGq/7ooA/N//AIJifsyftB/CvwB+3dpvxH+D2vaNcfED9ozx5rXgmLULIxtrWn3cDC2ubfJ+dJCQFboc9awf2EP2Uv2kPh9/wax61+yZ41+C3iDTPiVc/BP4jabB4JvLApqL3l9da09pB5XXfKs8JVep8xe5xX6fKiLkKijPXA60COMJ5YjXb/dxxQB+SPjj/gmb+1f4n/4J3fsPfHL4VfAjR/EHxg/Zj8L239rfBn4hpb20PiKwvbG3ttT0x2ug0MF0BAnltKAsZLNneqqfdP2ZPidD8WPjR4T8LD/ggB4m+G7Q6ks3iLxt4s8NeFrGy8OPFG0iXFrLE7TXrCdI1UxIjDd5gxtxX34FULtC8elNWGFDuSJVPqFoA+DP2Kv2fvjd4G/4LlftpfHvxf8AC3WtO8GeONI8Bx+EPE11ZlLPV2tNHjhuVgk6OY5AVbHQjmpv+Cj3xW8T/EvUfGn7K/xo/wCCHXjr47+F5LcR/D3XtPn0O70nV55rJS8ss09wlxoLxzvJCJ1VpQIhKmNyrX3cERWLqgyepx1pGiic7niUn3WgD5e/4Iwfss/H79i//gmV8Kf2av2m/ESX3jTw1otwmqRx6h9qXT0mvJ54LATZIkFtDLHb/KWjHlbYyY1Q18vfFr4SftN/swf8Fu/iN+3F43/4J8+Kv2gvBvjzwLomk/CTxH4Jk0u8v/Adxa24jubD7PqE8Is455zNO9yrBFE3yl2kmRP1EprRxv8AfjVvqtAH5Vf8E/v2bP28bH4t/wDBQz4i/tS/szyeD9c+MWk6PqHhTS9Hv/7QsrlpdE1QDT7a82ot5PbC4treeRFWMz79nyEV6h/wSw/YV8d+KP8Ag3r8NfsC/tL+EtZ8C634m+Hfijw7r1jqmn7b7R/7Qv8AUfLnMLEfOqTxzKrEZ+UHGSK/QURxgkiNfm+98vWlVVRdqKAPQUAfkd+ynp/7Q37FnwQ8Pfsh/tbf8EEJvid4q8C6XHoGg/Ev4U6F4b1PSPFlnbKYrW8uJbwwzWUjRLGrmcM7lTKyoXMY/T79nrTpNO+BnhaGb4IWnw0uptDgub7wFYyWjx6BdzL5s9mHswIJCkruDJENrnLD71dk0MTtueJWPqVpw44AoA/LfxZ8K/2ov2Sv+C0/xk/bI8df8E8fFn7QXh74meGdBsvg34x8FzaVcXfgp7O08q50t4tQuIRp0M0rGR7hWCkKrDe0syx9j/wRF+Av7Yvwq/al/a/+JX7YPwLHgrUviP8AE7SvEWlx6fdveabJHPa3ErW9teMkf2w2wmjgllVFQyqxXggD9FXijc5eNWx03LShFUllUAt1460AfA3/AAcFfs8fHD9o34J/APQ/gV8Lda8VXnh39qrwnr2uW+i2Zmex0yCC/Sa7kA+7EjSxhm6DcM4GSOb/AOCxX7Nv7Q3iX9tH9mn9sHSv2Vr74/fCf4U6hrjeN/hLpP2SW8juruIR2urQ2d26xX0kLbXVCco0CkFBI0ifo6yI/wB9A31FDIrja6hh6EUAfl98MfAP7b3xt/4Ls+Af23Pil+xZr3w3+HTfAHWfC3h+31C6gu7ywSO6aeJ9W+yM9rYzztcN5dtHLKVSMbiG3KvpX/BLb9nv43/Cj/gor+3N8SviT8Lta0PQPHnxK0O88G6xqNmY4NZt4rO7Ektux/1iqZEBYcAtjqCB97CONSCI144Hy9KUIiksqAFvvcdaAPg7/gmt+z78bfhh/wAFUf27vi58Q/hfrGj+GfH/AIm8Gy+Ctc1C0MdvrUdtp16k727f8tBG0sasRwCwHXIHmml/sp/tHp+0h/wVS8Sv8F/EA0/4ufDnQbH4Z3jWJEfiW5i8KanbSxWhJxKyzzRRnHRnA9a/TxURSWVAC33iB1pPLjyx8tfm+98vWgD8WP2lf2Hf2v8AxX/wa2fCv9lDw3+zl4svPiVpc2gnUvBMOlk6jbCPVZ5HLxZyu1HVjnG0HJxg4+1P+Dgz4JeD/jF/wSk+KWveIfGFr4b1X4c6fH458G+JbmXY2m6zpbefb+U3aaceZaJjLE3WFBJAr7T8qLZ5flrt/u7eK+Vf25P+CXOk/wDBQj4+eB/Ef7Q/7QXiS8+DnhG3jutQ+A1jaRQ6T4j1iK4aWG91C4B8y4hVCqG1ZShMasrJulWQA4r/AIII/A/4jeF/2PNS/a3+P+kx2vxM/aT8ZX3xN8YQrGR9iiv2zp9khYlxDFZiJ1jY5jM7p2JO3/wWm/YN+M37bP7O/hPxH+y1r+mab8Xfg38SNL+IPw1/tpttpf6jYFj9imc8IsgYMrHC+ZFGrMiM7j7Ehhit4lhgiVEVQFVVwAB0Ap1AH5e/tafH7/gq9/wUc/Zf1j9hH4Z/8EufGHwh8UfEHTDoHxM+IHxE8UaY3hzw3p0+EvXspbeV5dV3xGSJfLiVlEm4BscS/t2f8E/fif4H+Kf/AATh+E/7Onw18Q+KfCHwG+IdjZ+ItdtLEONO060t9PiW9uypxHvFvI5bpu3DrgH9O1iiQ7ljUH1C0rIjEFkB28jI6UAJEGWFQV52ivy5/wCCsEvxe/br+EvxM/Y/8Xf8EJPHHi7x3MNV0b4Q/ES91Dw/Jo9ihkZLLXU1c3KTae2PLuTZ7ctgwSNtZyP1IppiiLbzEu7120AfmF8Zv2KP2uPD/wC1X/wTBh17RNY8fSfBPQ9f034teO9NjkuLW0ujoml263E80gDlZZbeYLJIA8m3LDcSK9E/Zo/Z5+OHhb/gv5+0X+0N4h+FmtWfgfxL8I/CthoPiq4sytjf3UCWwmhik6M6GN9y9Rt56gn76KIzBmQEr0OOlARA5kCDcerY5NAHwN8EP2e/jfoX/Bw38Zf2jdZ+FmtW3gPWv2f9D0nSfFk1mVsbu+jurVnt45OjSKI3JUcgLzjIzL8Mv2fPjdpn/Bxr8QP2mNR+F2sw+ANQ/ZbsdCsvF8loRY3GpDVrWU2qyd5QkbsV6gLk4yM/emxA28IN3Tdik8td/mbRu/vYoA/Cv/g3H/a//bS/Zc/4Jc6LY6f/AME+/F3xi8B6t4j1mXwVrvwp1SxkvrG6NyUmsNTtLuSFok85GlW7jMqeXMFZQyYP0R8I/wDgn9+2fJ+xZ+3h+1Z+098OIbP46ftV+Adci0/4X+HdQj1JtDs7bRL6z0jSvPi+Se6bzwjGMlWCwnhiyL9af8Elf+CdKf8ABLv9i/Rf2QpPi8vjwaPq+oXw8QN4d/szzftU5m2eR9on27c4z5hz1wOlfTJVSuwqMemKAPyf+If/AATC/ag+MX/BHz9kK9+G/wALNK/4Xh+zdbaB4isvhz8QreOO11zybdUvtCufO+SBpgseGcgAx7S0e7zY/T/gd8Vbr4m/ETwr4D1P/g3L8ReDdSm120i8Wa7r2g+E4dG8Ow+YPNvILwNvvxD99ViiWSQL8o3YB/RIKqrtVcD0pqwwq25YlB9QtADh06U2T7v/AAIfzp1DDcMe9AH4n/8ABKL9pv8Aa8/Zf+P/AO2h4m8DfsV+IvjH8L9R/a+8Yx3X/CtdStG8R6HrMd0dxksbuSJbq0nhktwskUm6F7aXchEikfWH/BNr9lz9rn4j/t/fFT/grZ+2v8KF+GmteMPCNn4I+GfwwbWIb+80Xw3DNFcSS30sBMYmnmhikEYbdGWlDAfLXtn/AAT0/wCCev8Awwhq/wAbtUm+Lq+Lf+FyfG/WviGY/wDhHfsP9kHUCp+w5+0TfaNm3/Xfu939xa+lFVVGFXH0oA/Ov/g3f/ZM+LfwX/4Jq+JvgR+1R8Hda8L3us/ErxO11oXiC1NvNcafdeVGJAM52Ou8Bu+MjIwa89/YV1T/AIKR/wDBGH4O3/8AwT58Xf8ABPbxr8ePBfhXWtSb4K/Ej4W6tp2zUtPu7mS6S11WC5lSTT5Elmk3TEOo8woiusSyyfqqqIg2ogUewpGijc5eNW+q0Aflf8Ov+Cd/7YugfsC/tz/tJftMeCYpvj5+1T4L1qVvhz4TuF1IaJbw6TeWuk6NHLFlbm4X7SyM0bMrARYLEEm1+x7+0T/wVb/YN/YZ+H/7IniT/gk/4u+JHjLw/wCBtNsPAXiTwp4k0210S8iNqjwQav8AaZkm0m4tA62s4ZZEkktndJAkikfqQVUrtK8elN8qIkExL8vT5elAH4z/ABh/4IxftwfDj/gjJpHwc0HRNP8Aij8TdY/aLtfi/wDH34eWOtpZWnjSOSQteaNFNJtjdVEdk7BuHe1dowzeUjb37XGgftt/tl/Gv9jrxP8AB3/glz4s+FPwg+Ev7RHhnUNW0/xFHp8GrwL5wEs8el6dJJHZaXZw27h55XV5GuYQkShGLfr4QCNpFNEMIGBCvByPlFAH5X/E/wCFX/BQj4Df8F2vin+39+z9+yRffEXwXD8H/D/hrWNE+2x6bc67aTPG9zLo91cYt5ry0ktIna3kZBLG7oGDmPPTaB8I/wBs3/gqX/wUn+EP7Wn7QP7JetfBL4K/s8/2jqvhDQ/HmoWkniHxd4gu41jWaS1tZJBZQW5iicb2JJQbTIJm8j9KjHGSSY1+bg8daVESMYjQL/uigD89/wBk/wDZy+PHhD/grf8At7/GLxP8JtbsfC3xC0HwdF4H164syttrcltockM627niQpIQjY6Hg18tWP7C/wC2Cv8AwZ7XX7GD/s5eKl+KzSb18A/2W39qMv8Awni3/wDqfvZ+ygzY67RnFftYEQEsEXLfeOOtHlRbPL8pdv8Ad28UAfJfx7+MvxT+AHwG+G/wy1z/AIJseOfjh4L1jwLHZfEC18Jx6TfXGlTxW9qkVpLpV/NH9sWU+fvYMFjMKght/wAvzj/wTR/4JtfHXRPhP+2da33wDX4B+A/2jDNa/Cj4M32tRXR8LLJpN3Z3GpTR2rSQ2hunuIGNtGSYVtvLwUjiJ/UJo43GHjVvqtOACjaowKAPy+/4Jpw/tr6J/wAEtPFH/BN39oD/AIJ/ePPAvin4d/BLXdDtfEl1eWN1pPiK7aO5itrexeCZmmlkSYMSuYwUID/MueE+H3/BKX9q745/8G8PwB+BGg6ZN8Pvjx8F/E0XjvwXpPi23+z+XrFnqmoyRWtzkHyhJDc7l3DAfyt+1dxH69CKJSSsajd975etKqqi7UUAegoA+Lv2dv8Agor+3z8RPFnhP4TfGT/gjl8UfCHiK51a3tPHniBvFGjSeG9HgJxPfW959pL3iLy4gjQuV+VXcgbvXv8AgpZ+xjp//BQr9hX4kfse6hr6aTJ400FYdP1KaMvHaX8E8V3ZyyActGtzBEWA5Khsc4r3IRRK25Ylz67adQB+cP7Mn7dH/BV39n74KeH/ANmb9ov/AII9/Ebxl8SPCml2ujW3izwL4u0R/DviWK3VYU1CS8nuE+wvLGqu0bKTuJJWLJjTp/CH7PPxusP+DkzxN+07c/C7Wk+Hlx+yZF4et/GD2h+wy6p/blrN9kEnQy+VG7leoAz3GfvUxRFt5iXPrtpdibt+wbum7FAH4+/8E8vhh/wUQ/YE8M/Fz9mnUf8AgmPqnjz47eOfiDrGoQftFTavpcfhvxLbX02E1PVdSkm+2wxQ75J/sMUUkzgsFRJZGr1P/glPF+19/wAE9P8Aghr8Gfh5r3/BP7xx468XaL4j1zTvHPw/sLyxsNU0zS7jWtWuTfpDfSIl4Nj26rArBpBcBshVY1+l3lR7/M8td397bzQIognliNdv93bxQB+W/wCwR+y18aLL/gp/8R/+Ci3wK/4J361+zz8LL74JnRE+GGrXGmaXqHj/AMTLdfaVvG020ne200hFEPmyMuWIkyxnuNnCftw/Bv8AaV/4KoeP/hTL8Nf+CRHjX4F/G7wv8RNF1jxR8fvFV5otvH4Ys7Vt0qWuoWVwZ9cUH5Y4zGoBCttXJ2/sIqIi7UQKPQCkWGJG3JEoPqFoA+Afg5+zx8c9H/4OQvi1+05q3wp1q2+H2sfs4ado+l+MJrMrY3OoLfWDtapJnDSBYpCVHICHOMjLP+CNH7Onx0+CP7Tf7anij4t/CrWvDuneOP2mNR1vwhe6rZmKPV9OeSdkuoDn95EQ64Ycc465A/QLYgbeEG7puxQqIpJVAN3JwOtAH4yfsz/8Eg/2jf2kP+CNv7SX7H/xH8GXnw78deIP2mde8Y/DebxhYmOGWSF9PltJ3XDH7NOYZoDJtbCuzhXChW9Z8CfGn4x/8IxZ+Afi/wD8Gy+qXHxQSGOHVl8O6T4QbwveXAwsk8eqTyhYo3+ZwjBym7YXbBev1CREjGEQL3+UUnkxbt3lLn120AfA/wDwUT/Zq+LvjT/gqp+wR8R/hL8HtSvvBfwz1jxqvirU9H08Cy8P29xpthFaCXbhYUYwuqDAHyYHYV7r+3X8fPiN8G9K0Pw9Zf8ABPLxl8ePA/iOzvoPHMXg1tKu59MVBD9nhfTL+WP7ek++bdtYCMQ/NuLgV9CFEZgzICV6HHSh0SQYdA3+8KAPzy/4Ih/safGH9n741/tIftA6h+zLN8Bfhf8AFrxVo978M/gfcatbzy6MtrayR3eoSQWrvBYG7kkVvs0bZjCeVjy4YWP6HUKqoNqrj6UUAfAn/Bxp+yx8dv2xv2EdD+B37PXhLUNU17Uvi94ZLzafp7XX9m24nlWS+lQf8sYd6u56BRzxk1xX7WP7S/8AwWA/aY/Zu8TfsH+D/wDgldq/hv4oeONDuvC3ib4mXnjTT28C6XY3SG1udXs7sSG6nVoGeSO2aFbiLzBlZXjMb/peyq4w6g/UUnlRht/lru/vbaAPyS/av/4JnfGT9k3xT+xNrngP9mvUf2jvg3+zf4ZvtJ8bfDnSYbM3k2qTWojXxBDYXcgiu5fPYzLEWJieNcMu4yL2fwe8Bftt/Gj/AILzeBv23/i5+xjr3w2+Hc37Puq+FPD8F/dwXl3p8cV8biJtVNoz2tlczmdyltHLKVRFDENvVf07ZFcbXUMPQikEcYIIjXjgfL0oA/Iz/gqt4U/aE/4KhfBbWP2arn/ghl400n41HVI7Xwb8VvEWsaCNJ8L2sd8GGoRa7Bc/aCDCvmPZpGdxcr+8KqW6/wDa8/YB/al/Z+/bL+Hv/BQ/4efs36J+1HC3wasvh98cfA+sfYY9WvZLUpIniLTzfq0Us5dMPDw5ChVB81pIP1E8mINvES7v722nMqsMMufrQB8Y/sVa74c+PPxR1GGb/gjDrnwS8P2/he6H/CceNvD/AIe0u8uLmV0gfToraxkkugskEkzGbKpiIo2C65+af2Bp/wDgp/8A8EaPh1qX/BOG/wD+Cc/iv48eC/D/AIi1OX4JfEb4f+JNNtbe/wBPu7mS6W21QXUi/wBnOs0sjPK3CmR1VZEjWWT9Ykjjj/1car/urQ0UTtueNSfUrQB+b/8AwRN/Zn/bP+Cf7cv7ZnxT/bF+GkOi3nxM8UeFdc0vUNHSRtIunktL+e4tLKeRVa5WzNzFavLtAd4yw+9gepf8FqP2EPjp+1/8HvAPxV/ZEvtIi+MnwN+JWn+O/h5Z69J5dnq89qcyadK5IEYlAjYFiFZ4VRmjV2kT7PCKpLKoy33jjrS0Aflz+2P8ZP8Agqf/AMFQv2a9Q/YK+F//AATJ8Z/BXU/H0MekfFP4ifErxJpkmi+GtNd1N2NPe3lMurmRQ0IZIkO187RkunTftBfsNfEX4d/8FI/+CdWl/A/4Za/rHw5+BPhfxToGueJY7XzIdJtV0G1srJrqQYVGlMOBwNzZxX6PLFEh3JEoPstKURmDsgyOhx0oA/Pz/gsV+zp8dfjT+17+xH4y+E3wo1rxDpXgX9oK31bxhqGl2Zki0exX7ITc3Df8s4wI3+Y8fLjqQD9eftd/Dr4o/Fr9lD4lfCr4J+Ll8P8AjLxJ4B1jS/CuuNcPELDUbizlit5/MQFo9sjKd6gsv3gCRivR2RGILIDt5GR0paAPw9tfhD+3pY/8EPfEX/BLr4J/8EavEXgXx/ZeAJtO+I3irUtQ0pNH1aS3Xzp7yxks5ZbnWdRvfI8uOJUEUctwuZmjiAe3/wAFSvDP7Qfw8+Hf/BLHwt4B8JafY/E7QPEmgQaf4c8YSPb266xbaVpA+w3jRh2hBmjMLsoJTJI6Zr9tRDCM4iX5vvfL1r5j/bu/4Jyf8Nq/Hv8AZ5+Ny/GMeGF+A/xKXxZ/Zf8Awjn23+3MG3P2XzftEX2X/Uf6zbL9/wC7xyAfJn7euuf8FKv+CvvwTh/4Jz+Ff+CcvjT4H6P4u1nTo/jT8SPiPr+lzWGh6dbXUV1LDpX2Sd21V3lhRVlUIpC7WVFlaWLnP+Cxdj8bPg3/AMFX/wDgn9p37F3w00bxH4o8I6N42j8L+Ddc1oafb6rZ2mlWwm09btlZLeaWzjmhhldSiTPGz/IGr9co4Y4uVRc/3ttfNv7R/wDwT2b9oH/goH+z5+3QPi8NI/4UTH4jX/hFv+Ee+0f25/atl9lP+k/aE+zeVjd/qpd/T5etAHyH+2b4Y/bp/wCC3Nz4E/Y21b9gfxt8Efg5p/jjT9d+NHjD4oalpyXWoW9k7P8A2TpttazTG4ErHIufuBkQsFUYf1rw5+z78cIP+DkfxB+0/cfCzWY/h9c/skx+HofF7Wp+wvqn9u28/wBjEnQy+WjNt6gDPTFfekUMcQwiKPovWho1Lb1Vd397HagD8Xf+C8H7KHjrx9/wVG+Gfwi/Zf8AG0Gm61+2J8P5Ph58XdPsTm6tNB0rVLDUJtc2ZwXFlFNa7pOGigeNASzFfo3/AIOBf2Rvih8Wf2FPhJ8Ff2TPgfqmvJ4S+N3hO4h8PeF7Eyf2do9nBdw7wmflhiVolJ6KCM4GSPaP2If+CWehfsv/AB88a/tifHD49+I/jN8ZvGvm2Mvj/wAWWkVt/ZOieeZIdLsLSImO1iUeXv2YEjpuVYlYx19XMiOMOgbvyKAPgL9rj9nb45+Mv+C+X7If7QnhX4Va1qHgfwb4R8bQeKvFNtZlrLSpLnTbuK3SaTOEaR5EVR1JbjoSI/8Agq7+zp8dfi7/AMFKv2Evih8MfhTrWu+HfAHxG1678a6xptmZLfRYJYNP8uW4bP7tWMUmCeCUI64B/QEopbeVG4dDjpQyIxDMgJX7pI6UAfmJonwu/bR/4JK/8FFvjd8bPg/+x74m+N3wO/aI1618UXsHw8v7M674R8Q4l+0q1pdSxC4huJJZHLhgqKI8srKwk4X9gnxP+0v8Sv8Ag5w+JPxJ/aV+FGn+B9SvP2SI/wCzvBdnrcepXHh+wbW9MFtbX9xCoia8k8ua4ZIy6Is6oHfYWP2R+1n+xl/wUN+KfxiuviV+yP8A8FZta+EGk6hp9tBeeDtT+EGj+KdPilhRlE1qbpopLdm3Fn+Z9zdeAqrpf8E/f+CaPhv9ivxT48+O3j741+JPix8YvireWtx8RPif4tt4IJr1bZDHb2tpawAR2NpGv3YULdFBbZFCkYBQ/wCC3XwY+Kn7Qv8AwSw+M/wb+Cfge+8SeKNe8KLb6Pommqpnu5BeW7lUDEAnajHGckDjJwK+VLD9p3/gpB40/wCCdeh/sG/s6f8ABH34r2vjT/hUdl4H1HxV8Vb7SNE0HTD/AGUlhPfgtdSSXSJ87rCFVnGOM/If1WZQw2suR701YYUOUhVfotAH4/ftR/8ABJr9pP8AZo/ZG/Yh+G3gj4O/8NE+Cf2bvE15qXxk+FVjdQr/AMJJPdjzRf21veFI7tLOaW9WKBxvdblFKBGlKdfc+FP25/2m/wDgtf8Asmftda7+wR4k+GPwb8D6P4y0rT116a0l1eyFxoUyi71S3sXlt9Mimmnht7eHzXkLW8zPsDxiv1TZVcbXUEehpDDH8u2NRt+78vSgD8Yf+C9H7LXj/wAaf8FNfhb8Mv2WPGVrpviT9sD4f3Pwy+K2n2o3XFt4f0/UrDUJtbEYOGZbOO4t2eTrFAyICWYr9af8Fd/+Cafjb4/fs7fCTV/2LvAXhW68Y/s6eMtN8QfD/wAA+JY410nXdOtYVgk0JzN8kSywxwqrOQoMQUtHu81O+/Ys/wCCWmgfs1ftFeNv2z/jj8efEnxl+MfjIzWEfjnxZaxW66JofntJDpVhaREx20SjYJGXAkZCypEHZD9XUAfnX8EPitdfE74h+FfAGrf8G5HiLwdqVxrlnD4s1zXdB8Jw6L4dhMg868gvQ2+/EH31WKJZJAvyjcQDuf8ABSb4neLPi3L44/ZR+MX/AAQ28dfHHQZLdoPhv4gsbjQrrSdUmmsl3XEtzNcJcaA6TtJEJlVpQIllXBYKPvZYYlO5YlB9QtDRRMdzRKT6laAPmf8A4I4/sw/Hj9jT/gmj8Jf2av2l/EkepeNPC3h+WHVmhvvtKWSyXc88FgsvIcWsEsVtlSU/cYQlApr6aJOOBRRQB+ZP/BBfwZ+2V+wfoV5/wTD/AGhv2J/F1jpfhvxd4g1HRvjPY31nP4d1LTpp/Pt5Nwl8wSysSBEFLKrL5iowdV7D/g23/Zy+Ov7MX7A2vfDz9oP4U634P1yf4weIdQh0vXrMwTSWsr24jmC5OUbY2G6HGRkYJ/QQRxh/MEa7v723mlVEQbUQKPYUAfkV8E/+CUPxt/ag/Yq/4KAfsjfFvwnqXgG7+MH7UXiXxF8O9Y8QWTxwXcS3lre6fejALNayTWyKzoGOxn2hiMV03ws+K3x/8H/D/T/hV+0T/wAG3F7rvxY0/T47S81XwTonhF/C2t3KIE+2DUJHVbKOYjzDGyOYQ+0k7a/U9URPuIFzycDrSGCEtvMK7vXaKAPz9/4KZfsR/tN2nxu/Z7/4KRf8E+Pg7oer+PPgJHdaXqXwgudSt9Mj1/w1e2/kz2Frcf8AHvbzwI8yxgjyx5pdd5iSKXzP9sfwx+3d/wAFx7Hwb+x1qP7Cfjf4E/BVPFun6z8ZvGPxR1LT4dQ1GCzk8waRp1nbTSvL5j/MLogIDGpIUDbJ+qBGRgimpHHH9yNV/wB0UAfBa/s+/G3/AIiRW/abHwr1hfh637I//CPf8JcLM/YBqn9u+f8AY/M6eb5Q3beuOelef/tl/sY/Hj9mv/gpx4l/4KN/Cf8AYf0X9pD4f/FjwjpulfFTwH5OmNruhahp0aQW2qaemoDZcIbeOONoEYMzZZsBUZf012Jv8zYN3TdjmhlVxtdQR7igD5O/YA8WWfxN+ImteK7D/gkjrHwB02x0eOPS/FnizRNA07UtTlkl/f2gtbB3nijASJ97tsc8YBUZ8/8A+Dbz9nv42/sw/wDBJ/wP8Hf2gvhhrHhDxRp2va9Je6Hr1qYbmJJNUmeNipPRkIYHuDkcEE/eCRxx/wCrjVf91aVESMbUQKPRRQB8Ef8ABuV+z38b/wBmj/gmzY/DD4//AAt1rwj4hi+IHiG6k0fXbMw3Cwy3+6OTaf4WUZB6EcjIIJP+DdP9nv43fs1/sM6/4D+Pnwt1rwjrVx8YPE2oQaZrtmYJntZp4vKmCk8o4VirdCBkZGCfvdESMbUQKPRRQqqgwigfQUALRRRQAUUUUAFFFBGRigAzRkHoa+A/h78U/jL8DP8Ag4T8dfs7fEH4veJNU+H/AMbvgjY+Lvh9oesa9cXGn6Hq2lzLZ3tlYQysUtzJEJruVYwASyk5wAvhv/BKH9vH9o34q/8ABT7X/HXxb+Nuoaz8HP2rtL8Vat+z3pF9qU7waWvhfWpNOW2tLeR2jt2n09XvJvKChyqMwY/NQB+ln7V/xm8bfs9fs4+MvjX8N/gbr3xL13w1oU19pXgTwv8A8f2tTJjbbxYR2yc5O1JH2q2yORtqNxPij9v74WfCD4Q/Bb4g/tK+Hde+H+ufG7xB4e8N+H/BmpaXLcX1n4g1ZFaPTbnyl2wtES6yPJsVfLbIDYSvzXvP2m/2nvil/wAEtP2/P+ClWh/tKePrXTvFXjjU7H4Evp/i67ht9D8PaPdRWUF7pgjlC2T3DvKJWh2l2gySScnkf+Con7Onib9oH4C/8E3/AI8eMv2vvjba6x8RfHfwm8K6raaV4/aOzsrm6snml8R2sbxO0euh5m23zM5AAyjdaAP0O/4LYf8ABQf4tf8ABNj9kTTf2gPgz4T8O6xq158RNF0GS08UQ3EluLa6eUSsBbyxN5gWP5SWKgnJVsYP18sinqw+9ivx7/4OHP2eNS/ZL/4IreGPg5pPxv8AiF8UbvTfjlodza+JvjJ4qOsateSSzXciw3F0scRaJSQigAFUwAeM1pf8FTvhZ/wUW/4Jkfs6Sf8ABWbwr/wVB+JHjTxp4H1zSJ/iX8ONea3j8C6zY3d/BZvZafpMcY+woHuI0ErPLcGPc4lWXDgA/XSkLqM5YfL19qoeF/EVn4s8MWHinTVcW+pWUN1B5i4YRyIrjI9cNX422nxh1n9rT/go38a/gH+3p/wVx+NX7MfxD8K/E670v4E/DHwb4mt/C+ian4c4XTb9nuLdotZmunO7ypJFds4TKuEhAP1N/aS/bO+Af7KPiD4d+FPjJ4nurLUfin48svCHgu1s9JnuTe6pdMqxozRqVhQbgzSOVAHr0r1UHIyK/HX/AIOG/wBj6bxj+1r+yB4nm/ay+NemP40+PHhvwc1jofjhLWz0RgSP7a06Fbcra6sTJk3IyPlA2AYrsP8AgrQv7UX/AATW/Zw/ZS+E/wCyP+1J8UPGni68/aUstEs9d+LHxEury68SSahHfNBZ6zcW4hN5ZJcSQjyWXHlQqvUZoA/Vncu3duGPWjeuQNw56e9fll+1X4m/bo/4J6+CPhD/AME8vg5+3J4r+Inx1/aq+Ll2r/GX4jabBcL4TsLe0sRqs2maduMNvDHlZYbTLInnz4O8q4yv29PgR+2t/wAEYf2fbn/go3+zn/wUj+N3xeh8F6tYXHxR+G3x28Uwazpev6VcXUNtKLALbo2mSJJKrgxk4TPJ2FJAD9YywUbmOKQOpO0MPWvyj/ba/aF/a2+NX/BZX9nf4Dfsb/tV614D8JfGr9nm81C+vmaS4hsLNpp75tRt9PeT7M2pG2gFvFPKkgi84thtgFaPhdf2rv8AglN/wV6+BP7L2oftwfE74z/Bv9pXTPEVodP+M2tR6xq+gazpdqtz9ot7tIoysTGaCMRKqxhJZdysyRuoB+phYA4J60KysMq2fpX5i+JfEv7TP/BXz/gpP8bv2T/A37Yfj/4K/A/9nX+zNI1m7+DusR6X4k8VeIruJ5HY6g0cjW1vbtDNGY1GH2qTkvmLH/Zb1D9s74A/8HAVn+wz8Zf2yvGfxK8A6N+zPfa94NfxDqrrdXltLq8ccUmrRQlLa81CBkuYReCJXeHyy2DkUAfqbe3lrp9pJfXtzHDDCheWaZwqxqBksSeAAASSewr58/4Jtfti+O/29fgzrH7UN34DsdB8A6/4w1CH4R7Wn+36r4etZTbR6neJKF8l7maKeSOEKNsPlks5bdWV/wAFoPH2r/DT/glF+0L4r0KSWO6X4R63awTW7lZIWuLZrbzFIOVKiYsCOQRmvmP/AIKm+IPHX7En/BtXa3v7O/xC1zwprHgDwB8PbDRdd8M61cafdoiX2kW8mJrd0kAljaRX5+cSMDnJoA/Tjemcbx1x1pWZVGWbH1r8if8AgoH8Cf8Agpj+y/8AsSal/wAFZNP/AOCqHxIuPjF4S02y8S+I/hzbtbxfDqWzknh8/SrXSQmQkMM+xbmaSaabyCzbHl8yP7A/aW+KPg39ov8A4J1eA/2h/iB+3Rrf7MPhHxXoui+JvEXi7w/rmn6femyvNOMw0uG9vonFvI0s0RV4kMzGAIoIkYUAfWhcDcBywGdteL/s7/tRfFb40ftEfGL4MeNv2RvGngTQ/hrrVhZeF/HPiED7B42inhd5Liy+RRsiZNp2PKMOm8xyFol/M7/gmv8A8FDvBfgv/gq94P8A2LP2WP8Ago/8VP2kvg78UvAusXC3nxiS+vNT8Pa/YRz3XmW+pXllbNdWkkEDxhY/MRWJychSe2/Z/vP2tP2yvjR/wU9/Zh8L/tSfETTdX0fxFpdl8Ibu08dXtsfC18bbUJYI7KRZQbKGSeCBZVhKB49wPXNAH6y54zQzKoyzY+tflj4e/wCCvHjJv+Dadv21LrXdSb4sWXgl/AkitI7aqfGgm/seOdk+8bhpCl+Uxu2seAeBxf7VP7XHxN/Yg0n9l3/gkh8cf+Cimp/DHVdc+HMnib9ob4/eJPEP9oa+tuPMDWOm3t4Jts9zei6hjncM8EMERTfsKMAfsAXA6Ecda+df2D/20fFv7RPi/wCLX7PHxy8IaX4d+KnwV8bDR/F2k6NcyS2l5p13F9q0jVrcyEskN1anOx2LrJDKDgYr8/f2Of2/Php+zf8A8FNfg7+yl+y//wAFXPFH7T/wn+NVprGm+ILH4keLl8Q634O1y1t/tFpdxX/kxSG3ueIBAw2qVlfLHaF+mbLf4M/4OUbi00GTyLHxx+xel7rlnCu0XN/p/icQ291J/eZYJ2iB7LxQB9U/tj/HXx/+zR+zL4w+Onws/Z88RfFXxB4b0sXOlfD/AMKZ+36zKZUTyotscjcBzI22OR9iNsR2wh6z4TeMtZ+Ivwt8NfEDxH4D1PwtqGu+H7PUL7wzrW37ZpE00CSPZz7CV82JmMb7SRuQ4r5V/wCDgb4pfEz4Lf8ABID41fE34O/ETXPCfiTS9G099L8QeG9Wmsb6zZ9WsY2aKeFlkjJR3UlWBIYjvXzP/wAFMf2lf2w/h98Bf+Cf+ofs4/G/UdJ8a/ET4geGNDvr7VtYvGsdVuNR0eGIPqkUM0Zv4lnmE7RyEh2XuScgH6wiRCQA456c9aUsqnBPXp71+RX7cvhn9s//AIIxfEv4Jftl6F/wUr+L3xc8PeNvjBpPgz4w+A/ilfW13pt9FqCyu93pdtBFHHpYT7PKUiiDFWaIF2RZEk9O/at+LX7UH/BQT/grJqn/AASn+An7TXij4OfDj4XfD218S/GLxj8PpY7bxJqt7emI2mmWd46v9iUQzwy+ai5P74MD8goA9v8A23v2+/iv+zR/wUI/ZP8A2SvBPhXw7e6D8eNa8T2nirUNUhuGvLKPTbS1mi+ymOVEVme4O4yJICFwApOa+to5QyKWIDMucV+L/wC0j+y58df2Sf8Agtl+wP8ADbxt+1742+L3gaTX/Fsvge++KV1BfeJNKuBp1uNQhuNQhii+2wPm0eIyJ5kZEibioGbn7Q3/AAUb+C/7YP7dPxq+AX7Sv/BW7xD+zF8K/gzr0PhTwvoXwz8Xx+H/ABD4r1yDcNR1C6v/ACJpUtYZVe3SCPCSHDNtKESAH7LKysMqc/SkLoOC445PPSvx0/ZZ/wCCkfxC8d/spft8fss+E/22b34vW/wN+Eep678G/jvYagI9YvNNu9BvJ4knurdYy95YXESIboBXeTc3y7VA6T/gn3+xx+3p/wAFKP8AgnT8Lf2lvj1/wVp+N3gPxNfeC7RPA2n/AAs1yO1sbaGCP7LDe600wkuddu7hoftdwZZ4l3TtGoUDdQB+tGRjOaTehxhhz0561+N9h/wXd/aj+Df/AAR4+IvjH466r4Z/4aI+GvxyufgjN4mv7dI9JutbWQY1maONAipFbC5kZVTY8lpu8tUfYPKP2jf28Pg/+w18Ml/bL/ZH/wCDhHxp8ePix4f1XTLnxl8K/HHjS3vvDnjW1e4ih1C2sNLS2RNJP7xpo2gdzFFEygscSAA/egsFG5jikDqTgMK/KD9s34zftm/Gn/gu58Kf2YP2Tv2uNe+Hvgf4ofssJqmu3MLPdLp1mdVvbmXULCxlf7Kuqyw20Nml3LHIYY55HCsUUVsfCm6/as/4Jgf8FlfhJ+xJrn7aXxI+NHwf/aI8K69Lpsfxi1uPVda8O6zpdrJdvJHdrGjGF1REWMKkeLhsoTErkA/UjcobaTz6V8i+Lf2/vivoP/Ba/wAM/wDBNmz8K+HX8F6z+z3N48utZkhuDqa366nc2iwo4lEIg2W+SDEXLN98AYPznFrv7UH/AAWY/wCChfx3+BPhf9s34j/BP4D/ALPOtW3hXb8GtXj0jxB4o8RlZDdSy6g0crwwwSRSR+Uq7XUxHG4uR5/8APgr8c/gD/wc+eGfhP8AGr9ovVvijb2P7KN4fBHizxRBCNc/sRtVn8u21GWBI47u4iuBd/6QERpEZCw3ZoA/YXcucbh60oIIyDX4beFP+Ckv7N3/AAUm8VeOvjf+1p/wXC8Zfs6eH9P8e3umfB/4X/CLx5F4duINGtSI01TVpfss0l7NdN+8ELnyo1U7Swk2xv8AHn/BUz9pT43f8G7X7UXijTv2qLrVPiN8DfiZZ+ENK+Nnw/vZNJuPE2mLr+lC11eJ7VkMDXFtNLEwjI3IMkku1AH7ieYg6uvXHWnEgDJNfkP+158Af+CmngT/AIJ8Xn/BWuy/4Kp/Eqz+Mnh3wbb+N7/4e6NLbQfD2Gw8tLmXSYtKMbmYw27+Wt1cSSvO0O51Uy5T0n9rf/gpp+1T8bfhX+xz+z1+xPqul+A/il+2N4ft9duPGF3p66hH4I0aLSrbUdSlgt5jtnuAkziLflStvKPkd0lQA/S4Op4DDnp70GRBkFx8vXnpXyD+z9/wT51r9iHxrc/tLeOP+Cnn7S3xD0zTNBvrrxR4d+KHji11PRpsW+5p47ZbVDaiPY8ipG+AcAkgNu/OH4Nft+fBD/gof4Dm/av/AGw/+C/vjD9nvxprmrahJ8P/AIR/DHxxBpGl+DNPS4eKxj1W3+zMdXmYxieVppUDRzbB5YxsAP3dBzyKCyg7S1fG3/BCX9vnx5/wUP8A2ANJ+K/xc1/S9Y8aeGvEWo+FPF+v6HAIrPWLyydNl/EiqqqJ7eW3lYKqJvd9iIuEWj/wV9f4CaBougeLv2qf+CuHxD/Zu8FxWV0kei/DfxZaaJqXiG8WSJvNjnFtPfTiKNijQW6kfvEYlSPnAPtdWVuVbP0pvmR4zvXrjrX5a/8ABDT/AIKBeOPjJ8aP2kP2R/BX7THij4+eDvhna6RrPwZ8d/ETTZ9P12/tL21kZ9O1CS6treWUx3Coi3EkILgyOD5bRInlv/BIX4k3f7c/xL0P4lftPf8ABZL46eFf2otF8aXDePP2abjxBb6DokEdpfyMdLj0C5tQLmNrOIeZJC7SxiRi+11NAH7OllB2lhnrilBDDINfkL/wUB/aK1Dxh/wV28Tfsk/t5/8ABSP4sfsp/CGz8JaPefA3Vfhv4gj8M2vjC8kiV9Sub3WpLeVVEMzNbiCVkixGhyjE+f6V/wAFaPGHxu/Zd+AX7FHgz4b/ALW3jzVrjUv2pvBOgeIvG8PiRra88W6ZOlyZEvXsjHHcwzAIWQho3CqSGPJAP0woLBRuY4r87/8Ag5X+OHxo+An7CXg/xh8Dfi34m8G6tdfHLw5YXOqeFdduNPuJbWQ3XmW7SQOrNE+1dyE7W2jINcV/wUG8e/tteMP+C63wp/Y7/Zr/AGrdc+HXhvx/8A9RbxZdWsr3Sadbw6pczT31jZSP9lGpvFbJaR3UschhS4dwrFFFAH6iF0AyWHHXnpShgTgGvxx8ReD/APgo/wDsh/8ABUbwv/wSk+Df/BTX4ieIfh78ePBc3iCPx98VpYPEHizwathJPJqMWn3EsYiaS4ithDG7x+XCLsusXmQK8npfwG1D9p7/AIJqf8FkvBP7A/ib9sr4lfGj4U/HT4c6xq/h2T4va4mqa14f1vTUknmxeBELQNFCQEComZgNuYtzgH6hsyryzY+tJvU9G6HB9q/Ij9mHSf24/wBvv/gop+2b+yrdft8/Ef4e/CfwB8VLeaa48F663/CSZu7eVLfTdNvLsTx6TYxm2kmkWCEO7siqyqXrrPghqf7U37NP/BRXxV/wRG/aE/bV+JPjz4f/ABi+Ct/r/wAHvipfa1HH438Lyhp7e4tv7TWPMlwiRzzpcsjbGigKKu50UA+/P2af2wPgb+1vJ49HwM8R3WqR/Df4iX/gjxRNcaXNarDrNkkLXUKeaqmRUMyr5gG1iDtLDDHD/ZO/am+K/wC0P4/+LXg/4j/sheNPhnZfDvx/P4f8N654qA+z+MrJAcanZfIh8livG3zIyrx4lZvMSL81/wDg3w/YBaT4t/Hj41/8Nw/tFH/hWP7YvjLQv+ETf4mg6L4u+zxWy/2hrlt9n/4mF9N5u6afcnmNFEdq7Oe4/Ye/4KFfEr4C/B//AIKOftN/HH4h+JPG1j8F/wBo3xnH4R0TxF4iuLmO1traR0stKtjKz/ZLcymKMJGNiBsheKAP1b3pyd44689KXNfl3+zf/wAE+P8AgoJ+3D+y74V/bf8Ajj/wV8+OXgj4t+PPDMPiXw14d+G+rWth4L8OxXsS3FhZz6OID9vWKN4xKZJQz5KlmIMj+L/tAf8ABVf9rX4yf8G43xQ/aC8UeLdQ8HfHL4NfFiw8CeONd8F6pPpf2vVLDW9NWeaNrV0aNLi2uUWVEKxszTBVRCqKAftXvTON46460pYDqa/In/goz8Cv+CmH7Hv7GWp/8FYNL/4KnfEe++L3g6Cw1/xV8OFe3T4d3FpNcwpNpdppITKRwx3AVbiaSWaYQFmKSSiSPqv+CvX7ePxV/wCFU/soeOpvjb46+Bf7Pvxoha/+NnxZ+Hdi02seG47jTLa60ywjulhkayE800iG4SMuPKyAQjRyAH6mBlJwD06+1fIf/BTb/goB8Wf2K/jH+zL8Pfht4T8O6lZ/Gj48aX4J8TSa5DcNLaWFy0avLamKVFWYGTIMgkTjBTnI7D/gmV8OPh/4D/Z/k1D4Qf8ABQHxx+0Z4R1rVjd+H/GnjrxvaeIrm3jEMcclot9bxp5oWVZGIkG9GbYQCpJ+Of8Ag5UHxOf4k/sWw/BObSIfGUv7Uelx+E7jxBE8ljBqTCJbaW4SNlZ4klKMyqQWVSB1oA/VASKf4h94jrTmZVGWOPrX5N/8FG/2ef8AgoF/wSv/AGfr7/gpz8Cv+Co3xj+J/iTwLfWGofE74f8AxU1CzuPDHiWwkuYbe6Sx063gij0pQ0pk2xszJFkI4dVLR/8ABQj/AIK0+Cfi9+1H8Lf2PYv28pf2avhT4q+C1r8SfH/xM0+8htdf1GDUCq6doWm3UkUosZyrfapJ1QsY1wrKFZZAD9Z969j0ryz9nD9sr4DftX+JfiN4Y+CPia61Sb4V+PrvwZ4vkm0qa2jg1i1A+0wRmVVMojYlDIo2MVJUspDH8xP2Mv2y/BEH/BQCH/gl18Cv+Csnjj4/fCX47/CvXY/D3jDUfGSX/jT4feIre2nkmaHVxboxV7VJZYDIjtFLDGVChHM+N/wQO/4J9Nd/tN/tG/EQftzftHR/8Kj/AGvfEekf8I/H8Tx/ZvjP7I4H2zXoPs3/ABMbqbH76XdH5mF4GKAP2ooBz0r8yP2IP2zviH+xlfft8fB39qr4peJPGTfs5eMr3x34avPF3iSe+vJPCupaY99pumxTXDszBBbCMKDgSXO0AZC1xf8AwRs/bx/aN/Z6/Zv/AGifCv8AwUW+KXiLxb4s+FvgfSfjGmpeKtQmkupNE1rw5Hqb6ZbiZmfZZ3cE1tsHyrJLsQAbVAB+tZZVXcTx60gZScBh61+H8H7ff7Uv7Jn/AATi/ZJ+Cfxz/bjv/BXxC/as1TVfF3j747ePtSbU38G+GSEvfJs1u/MWCeW1uLKC3UqY4nM21Y2ZJI9X4W/t+fBf9jH9uD4E+E/2Ov8Agsj42/ac8EfGH4jW/gn4ifD/AOKXjhPEep6VcX5WGw1ewufs0LWsUdwVWWLlGEmAuSDEAftZuUNtJ59KAwYZU5r8YPjV/wAFGPgt+2t+2f8AHD4W/tU/8Fe/FH7L3w3+D/jebwX4J8G/C/xlH4e1/wAQ6lZM0eoaxe3/ANnmle2MwaKGFNsZEYLAMjGbvf8Agn//AMFFfiH8Zf2Zv21P2bLH9rx/i9/woPwpdXnw2+Oel3Hk3+s6Rf6NfT2fmzQqm++s5bZo3uVClpACMldxAP1hLoOC445PPSlBzyK/HX9gL9lH/go3/wAFLv8Agln4B/ap8Xf8FZPjD4L8cyeEZIvhnpPgfX/s+mF7J5bWO4195hJdazcXMtu0srPMioJdqphSD9p/8EN/22viV/wUI/4Ji/DX9pb40SW8njDUbW+07xNeWdqsEd5dWV7NaG6CIAiNMkSTOqKqK8jhFVQAAD2T4lftk/AX4UftN/DX9kHxh4nuovHnxYj1WXwbpMOlzSR3EWnWj3V1JJOF8uIKiEAM25mIAB5I8S/4KK/8FB/i3+yF+1x+yr8Avh54T8OahpPxz+JVz4f8VXWtQ3DXFnaxpa7XtTFMirJm4JJkWRcKBtGcj4j/AOCpH7CTfFH/AIOCf2Y/Dv8Aw2n+0B4d/wCFtad40uvtnhb4kC0m8GfYdCz5WgH7O39nR3Hk4uF/eeaJH5XOa2P+C3vwn+K/ww+P/wDwTl+CHwO+MGoap4t0j4lXmjaB4++KMza1etcCHTIl1O/KmH7bOuTMwygldQDgMaAP2CjlV1U7h8y5pxZVOCevT3r8nP2o/Dv7ZH/BHr9rD9nv9oDRf+CiXxZ+L3gP4x/GTTPh98V/Bnxc1S2vrZZ9TD+XfaXFBBEmnJGI5pFhhVcNFGjO8buhg/4KFf8ABRvwL8Vf+Cl3jP8A4J+fGj/gpTqH7L/wo+FHhPTbjxRrXg/XI9J8S+Mte1CGO6ht7XUHhla1tLa3kjMnlKHZ5GViwZWhAP1qDA9DXlv7a/7WXw7/AGF/2VfHH7WfxVt7qfQ/BGhvf3FnZ7fOvJS6xQW0Zb5Q8s0kUSk8AuCeAa+CP+CO/wC3xZ6h/wAFBPHn/BOPwD+3re/tLfDS1+GMHjf4c/EfxFqaahrek7LyKzvdG1C9WKM3sm+ZJ0kZQyxkAnkKuz/wdcfA/wD4WB/wST8b/F3/AIXF480P/hAfsM//AAi/hvxF9l0jxH9s1fTbby9Vt/Lb7YkOfNhXcmyX5uelAH0F/wAE3fjr/wAFNf2iNPX4yftl/Ar4V+BPAnivwva6z4G0Xwr4jv73X7Dz2V0t9S85FgLfZ2DlotpDEKVBLBPq3epOAw55Ffjh+0L8XvFP/BIT9kL4LfAv4c/8FFfiNB4i/aZ1/S4p/ip+0B4ui8Qw/DjQ7awt5NSudNjkgjjTatzBHHDIGQtJkspAYcfF/wAFA/gR+wj+0t8GfFX7GP8AwWv8d/tI+G/H/wAVrDwn8WPhn8VvHkfiO4h0/UCY49Y0+T7NC1j9lkGWij+SQyRL8qgggH7f71zt3DPpWJ8SfiN4N+Efw6174sfEHWf7P8P+GdFutW1vUBbyTfZrO2heaaXZErO+2NGbaisxxgAkgV+fP/BWTVv2TfA3xp/t/wDbC/4LofGr4Jrd2tkfCPwr+DviyHTbu3G0xtcPaWFhdX9+k0yFlaVSgbeilgAqeE/Aj42/Fj/gqf8A8EFf2gtL+Mn7W3xAuNV+CHifxjpNl8TPAd0/hu+8d6bpWkPdWY1KGSAP9nuIrpY57d445HSJPNPmeYzAH6u/sz/tF/DP9rT4E+Gf2jPg5f3V14Y8XaWuoaLc3ti9vLLbszKrNG/zJnaeDzjFd3X5If8ABIT9lnX/ANn3/gi/J+2L4Y/bG+O2r6l4i/Zn1Z9O8FeIviGbjw74YnW3nmjuNJtFhRrOWNoAEcSMVV2HoR9N/wDBCv4rfFD4w/8ABGL4Q/FH4s/EnXvE/ibU/C2qSal4k8QavNeX91Imo3yI8lxMzSOyqiKGZiQFA7UAfalAIPQ1+Fvhv9sX9qaw/wCDP9f2stQ/aQ+Id58RbPxPGzeOJPHF+NaljHjdLYxG/wDNM+w2+YMFiPLO3GOK+lvjl8av2vv+CT//AATn+Lf/AAUz/aa/ac1f4lfFjx5oei/2P8O9QYQeEfBuq3dw6QWWmWqvnyLZbwCaV3El2unqzsrPwAfp15iHo68nA5pxZQcE9envX4J/Hb9s74dfsy/Am8/bH/Z//wCDkfxN8VP2hPDtvaarrXw+8QeLLa58E+LZBJH9u0200OO0jSzR0MghaJxIvZoywki95/4Kg/t9eIvH/wAYf2Z7P4oftZfEr9m/9lT40fCtfEl58VfhnN9k1K78QXcInstJn1RbeZtOijgaKXeqBZBLLvG1PMhAP1zDBvunNFeL/sDfDjRPhn+zdpWk+Ef2yfFPx40C8uZ73w78RfF3ia01q6vbGRh5cYvrVFS7RNpAl5ZiWyQMKPaKACiiigAooooAKKKKACiiigAooooAKKKKACiiigAooooAKKKKACiiigAooooAKKKKACiiigAooooAKKKKACiiigAooooAKKKKACiiigAooooAKKKKACiiigAooooAKKKKACiiigAooooAKKKKACiiigAooooAKKKKACiiigAooooAKKKKACiiigAooooAKKKKACiiigAooooAKKKKACiiigD88/8Agvl+yT+2F8WtB+FX7Tn/AAT1+HDeJfi/8OdU8Q6Jp9ouoW9r9n0fxDoV1pt5dh7iSNGeCX7LIgJODlugNYP/AAUF/wCCcv7SHwN/YK/Z3T/gmv4KtvEnxc/ZdltbLwqpaC2m1XT7rR5tJ1XBkeONHmaWK7clhnyWwMkV+lRUMMMuaCAwwwzQB+e/x+/4JyfEz4c/8G7uof8ABOb4D+ARrfjSx+Ddpo66PpdxDGNQ1lpILi+kRpXVB5ly1zLy38XUnGeT/bg/YY/bQ8Yf8ExP2O2+APwctfEHxU/Zs8VfDvxjqnw31TXraybUpdH01YrmwW5ZzCJFm25bftKJJsLtsVv00Kqy7SvHpRtGNu3j0oA/Mn/gsH8G/wBuv/gpV/wSk8J6ZoX7E2seFfiVN8WtK1PVPhnJ4u0y+udPsLW5ul+0NdLLHA+6MxSbFbcvm7SDtY17b/wX6/Zr+N/7XX/BJL4ufs8/s5+ALjxP4y8Rf2D/AGNodrcwwyXPka9p9zLh5nRBthhlflhkLgZJAP2PsQjbsXHpinEBhhhmgDnfhLpGq+H/AIW+G9D1mxa3vLPQbKC6t3ZWMUiQRq6kqSCQQRwSOOCa/Nj/AIKf+GP+CgX/AAUZ+BXjb9jfxN/wRD0+41DUdWu9O8B/FLxN8WPD11peh2xuNkPiCNlb7dbTCJVkNtHHvIZkbeuY2/Umk2Lu3bRn1xQB+cP/AAU2/YF/bJvv2Uf2T9a/Z00GP4xfEb9l/wCIfhLX9a0bUNeh02fxjFptmkN3KlzdMESeSWJJPnOdskhG91WN0/4KF/B/9tv9vX4afsc/E9f2NdW8H+JPCP7VegeK/iF4HuPFenX83hvR7K7uEa6kuY5VimDQiKbbFudRLsI3Ka/SAgEYIpNiYxsHHTigD4s/4LCfsF/tA/tOQfCT9qj9jHW9Gt/jV+z344k8R+CdN8SzGPT9es51jW/0mWRcGI3CwQgSEgYVkLR+Z50Xhf7YvhH/AIK5f8FhfhHZ/sI+Pf2BV/Zs+HnibVLCX4vePfEfxQ0nXrj7Ba3Mdy+n6XBYZeWR5Io2WeQJGwjKNtDk1+pFIqKv3VA+goA/Pv4t/sTfG2L/AILtfs3ftEfDP4PXC/CT4c/BLWPDeo69b3lutvpcphvora2MbyiZsq8KgqjD5hk8Nt3/APgoh+yz+0B8Y/8Agqd+w/8AHv4Z/DW61bwj8Ldc8az+Ptahu7eNNIjvbCxitmdZJFd97xSD92rEbecZGfubaM7tvPrQVBOSvTpQB+a/iv8AZz/4KAf8E4P+ClXxW/bB/Yu/Zdtvjj8L/wBoa30298deCdN8ZWWi6z4Z16zRo/tkLX7CG4t5RLKzKrby85DeWsCGXy/9kvVv2tfiZ/wc23XxE/at+H/h/wAI65N+x611beA9B8QJqz+EtNbXIoobG9vY0WK4vGlMtwzRAxhbpFRnCbj9uftW/sP/ALUvxd+L7fGf9mb/AIKcfE74QXdxo1vpt94btND0nXdBaOFpGE8VjfwkQXLmVg8yuWcLGDwigTfsG/8ABMn4YfsReLfG3xs1D4o+MPid8VviXNbSeO/ih8Qr+O41K+jt02w2kCxIkdpaxj7sMY6CNWZlhhWMA9I/bT/Z+j/au/ZG+Jv7NLXsNrJ498BatoFve3ClltJrq0kiinIHXZIyPj/Zr81vjFpfx5/4Kf8A/Br/AH37PPwV+G97rnxk8O2OgeA/Gngd7y2h1Cx8Q+HtasIdRhuPMkSOGTyrX7VsZgfLmQ4+YCv13PPBFYPhb4WfDLwNruveKPBXw60HR9S8UX633ibUdL0eG3uNXuljEaz3UkahriQRqqB3LMFUDOBigD5q/wCCq37P3xk+Pn/BJL4nfs9/CLwJca14z1z4dRadpegwXEMck9yDbZjDyOsYI2NyWwdvBPGfmD9rf9gr9te9+AX7AvxS+Hv7Ndh8T7r9mvQ9Nb4k/AfWPEFlZvqV3/Y1hbLcRyzubSS4sZbecpl2y8imPcN2f1SKqy7SvHpRtUrtK8elAH5ft8GP+CmX7TX/AAWZ/Zq/bo+NP7HUPw7+HPg3w/4x0a40eTxpYarquiifS50ivdSa2fyF+1yzRRxQWxnMQgYysu8Knp//AAS3/ZP/AGhvgT/wUO/bd+MXxb+GN1onhn4ofEXRNR8A6tcXdvImr20EV8JZEWKRnQKZY+JFQneMAkMB94BFHIUcdOOlAVVJKqOevvQB+SWn/wDBJ39qa3/4K33Xw3k+Ftof2R5vjyv7Qg1ZtQg3nxYNKaAaeIRJ5gX+0XExj8vyzDGozwBXv3/BTD9iz9qmP9sL4W/8FRP2FPh94d8f+O/h94fvvCnjT4V+KNWh01PGPhy6dpBBbXsymK1uYZpZZFMvyNvBJIjaGf7w2ru3befWg88EUAfJP7J/7Q/7afxZ+NNhoXxi/wCCP118IvC8em3M95481z4meH72W1vFUCK2gs7BXmlEm5h5pZFUKc5ziuB/Y8tx+1Z/wWi/aA/bc0M+b4T+FPgfT/gb4X1WF8wapfxXf9ra3gdQ1tdPBblsYYhgCdpr7zCIv3UA/CsL4afCz4ZfBjwfb/D34P8Aw50HwpoFnLNJaaH4a0eGxs4HmlaaVkhgVUUvK7yMQMs7sxySTQB80f8ABdD9nz4yftU/8Eqfi98Av2f/AANceJPF/iLSbCLRdEtbiGKS6aPVLOZwGmdEGI43blhkLgZOAfCP23v2Jv2qPil4K/4J76Z4C+Dt9qFx8H/jB4J1f4lRR31op0Kysra0S6lk3TASCNo3BERcnb8obIz+lhAYYIpCqnqo46e1AHwZ/wAHBP7J37RH7Xv7Mvwr8D/s3fDC78VatoH7QnhvxBq9nZ3lvC1tpttFfCa4JuJY1IUyxjaCW+cYGASOa/bC/ZW/bs/ZQ/4Kgv8A8FV/+CfnwL034vaf498Dw+FPjJ8J7jxTBo+oXBtiv2TVbK6ucQ7kSGCNo23MAjBVbzy8H6MlQwwy5oIDDBFAH5V/EH4J/wDBVT9sv/gph+yf+2x8eP2QbP4a+C/hj4s122Pgaz8XWOtalo9rd2OJdW1G8hkSLE7x2scdrAsrRiKRnYFgtdHffsz/ALeH/BNb9tz4xfGf9lT9jTSP2hfg98fPEieLdY8L2vizTtG17wb4iZCLyZDqAEV7b3DuzBVIdcgfJ5bNcfphsXj5Rx046UMqtwyg/WgD4R+OfxO/aO+K/wDwSk/ay1/9ob9gcfAe4h+CviqDQrG48baXrN1rNr/wj92xuZf7OXZbbXZkETO7Hlvlzg/M3/BJf9pz/grr8Bv+CWnwn8AfCf8A4Jrab8bdLuvAcN38N/HXh/4qado9vHDNLMyWOrWl/wCXLHLatkGWAtHNH5YDK4dq/U/9pv4J2f7SX7NfxC/Zyvdek0m38f8AgfVvDc2qW9usr2aX1nLamZY2IDlBLuCkgEjBIrnP2E/2VLH9iX9kP4f/ALKNl4xl8RxeBPDsWlR65caets95sZj5hiV3EeS33dzYx1NAHwJYf8EDfjb4j/4JO+Jvgj43+Mehx/tIeK/jJJ8apvGAiMukWnjQyhkh5jLG28nfCzhG2vPJIEkUeW3q/gP9rL/gqxqp0nwn8U/+CBlr/b0l5b23iTXLH40eGl0IxtIq3GoRFxJcbNpeYW5WSQD92WZstX6AUmxM7tgz64oA+DPir+yb+0Rrv/BxF8M/2xtG+Ft1N8M9D/ZyvfDmqeLEvLcQ22pNf6hIlsYzIJiSk0RysZX5xzw229+2x+yv+0B8UP8Ags1+xr+0t4D+G1zqPgb4a2vjdfHHiCO7t1j0pr3S/JtQyPIJH3yfKNitjvivubapbcV59aCqk7itAH5k6r+zz/wUW/4Jgf8ABRD4wftK/sUfsnWfx6+EX7Qt9ba94m8G2Pjaz0PWfCviKNWE1yj3pEVxBO0szkKC2XUN5YgDTx/s7fs4f8FK/iL/AMFvPCn/AAUb/a3/AGe9L8G6FqHwF1Hw1D4b0HxBbaonhBUvfNttPvL1HX7bdyvJdTNJBD5KLJGgZyrEfp0yqwwy5+tG1c520Aflj+zf+z//AMFD/wDgj9qnjL9mD4O/8E99P/aM+B+oeNNQ8Q/DDxD4d8a6RpOs+GLe9fe+kXttqO0ThHGVniOMZYn94sMHb/8ABSv4T/tsft7f8ENfi18KLb9gn/hXfxV8Vahp6aX8LdP8a6Vqk88Ntr2nzC5e7gMVqHe2gklMe8lAm3czYWv0WZVb7yg/UUbVK7Sox6UAfKH7Yv7P/wAYfiR/wRp8b/s1+CfA1xfeONU+Akmg2Ph6O4hWSXUTpaQ/Z97OI93mArnft44Jr5n+K3/BMb9tR/2Mv2Jf2hf2ZNN0nSf2i/2UvAOlWzeB/FV9GlnrcUukWlpqmkS3EbFI5D5DRpJvCYklG9SVdf1IwCNpHHpQAAMAUAfIv7P/AO0n+31+094uX4M/tVf8Ei9U+FfgjWPD+oW3izxRq3xm0TVo7eRoCi2kFtZgzXSy7nXziIwo5IOcV8z/ALH3w7/4Kif8Eovhp/wwsv8AwTZs/wBo74f+EdSvR8MPil4R8eaJpV5Npc91JcxWeo2epFXjnjeaQtIh8sBwi79hkb9UVRV+6oH0FDIjcsgP1FAHnn7KfiP4seMfgNoPi746/s4Wfwl8Xais8uufD+x8S2usR6TJ58iov221jjinZ4ljkYouFMhTLbdx+H/2r/2df24Pgh/wWj0n/gpN8Jv2Pv8AhoTwfffBkeDLDSbHxZpemar4Gv1u/Oa5tl1J0iaOZd6mRGDgXVwGKKoWf9JBxwBSMqt95QfrQB+a3/BP/wCAX/BRrwX/AMFJ/wBpr9uP9pz9mHR9Dv8A4rfDHw7e+FvD+g+MIbzT7e+srYwxaHJfMFZrlEjhWe4WEW/mtK0ZaMIW87/bS/Z6/wCChH/BWDxd8HdE8Wf8Emrb4B+MPB3xG0fX9c+O2ufEzQdTuvDNnZymWS202TTma7vWkOGVWCRCWKMuFOJY/wBbQqg7goz64oCIDkIPyoA+GP8AgoF8Sf2z/iS/xD/Zfuf+CIMfxy8A3lusPg3XdQ+KXh6PTdake1UtJd2t66XGnGGZ5AkibnPlqyMhII8B+Kf/AARn/be0j/ghj8Bf2Xfhz450XxB8ev2d/HFh4/8ADkN5qH+g6jfW15fXEekpPMUUJFFerFG7lY2Nqi5ijbcn6ylFY5ZR+VLQB+Ov/BUT4e/8Fo/+CrP7LWheEb//AIJxWfwj0/wX480PxFfeG7z4labr2teK7xLjyTHaeQYoLOztY5bmeSSd/NmYW6xoFEpP098Zf2VP2g/En/Bff4RftbaH8M7q4+HPh34E61oeteKFu7cQ2uoTXV28cBjMglJZZIzlUK/N14OPurYm3bsXHpinbVLbivPrQB8K/tFfsq/tBeMf+C8H7Pf7V3hn4Z3V38PfB/wt8TaX4k8TR3dusVjd3KXIgiaNpBKxYyJgqhHzckYbB+1j+yz+0B49/wCC3/7LX7UvhD4aXV98P/APgvxnaeL/ABJHeW6xabNeafPFbIyNIJWLu6KNiNjdk4AJH3VtUtuK8+tNliWVGUjqpG7HSgD8VP2Jvip+3P8ABH/grl+3n8QP2Uv2Y9P+M3huT4paVZ+NfBNr4tttF1uzlMV49pqNnNeD7NPEqrdRTW7OkjNLAyEhJAfqj9iv9lD9tL9of/gpXrH/AAVh/b8+Dul/C2TQvh+PBHwe+Etv4kg1i+02zeZprnUr+6tT9n8+QvIqJGSdk7I4UwI0vuf7HH/BO7Sf2Rv2pP2h/wBpmy+KV1rs3x+8WafrVxo8+kJbpov2WOdREsgkYz7jcMdxVMBQMHkn6SACjAFAH5v/APBOP4S/8FCP2Df23Pjd+z74k/YvHib4Q/F/9obxB8RdL+NWlePNPii0m11KEP5E9hIftEjo0FvCVVVO95GG5FVmzf2K/wDgl/8AFXxl8Mv2/P2eP2q/AV94U8P/ALQfx88X6h4T1Zpre4ebS75pDaanEkUrYKOY5VSTaSUAYdRX6Y7FLbioz64pQoHRaAPzD/Zy+Kn/AAXh/Yv/AGYtH/Yluf8AgmLovxU8SeAdEh8N+Bvi9pfxe0qx8PanY28Yhs7y8tbhkvE8iJYhJHhZLgxNgoXDV5/+0f8A8EYP2nPhV/wbv/EH9iX4dW3/AAtL45fETxvZ+M/HVxo9xFbw6prlxrNjPeNA1yYR5cVvbRpvfaZPJZ9ke8Rr+vexS24qM+uKUqGGGXNAHyX/AMFgf2fvjJ+0Z/wSb+Kn7P3wW8CXGveMte8F29npOhW9xDHJcTrcWrMgeR1jBCxueWwdvGTgHn4/Hf7bv7LH7J3wH+CPgz/gmjqnxg02H4O6ZpPxKt9O+IGiWFzoN9b6faQfZDaX8givlc+crMkhVdn8QPP2oQCNpHFIVUjaVGPpQB8Df8EQ/wBhb48fsr+I/j58cPi38DtF+DOkfGTx5aax4T+A/h3XINQtPB0FvDLFJL5lr/oyzXRkRmjg/dosMajaAI0qf8Fyv2Nv2wf2tfG/7Muo/sdaPYrrvw9+NCeKpPEWtRpJpuiyWlt5trNeR+akklu1xHHG4iDuFZiFJAVv0FAAGAKCoJyV6UAflz+2lon/AAWL/wCCr3wd/wCHfnir/gnxY/s++EvGGpWafFX4ra18VtL1+G30uC5S4kg0u1ssTTyzGJNrSKigZikEe/zU6z9rr9gf9p39lz9s/wAB/wDBQz/gm/8AArw98TLfRfhHB8MPHvwT1rXbfS5tU0O2mWWyurC8ugYEuIWSJX8zrHboqKxkbH6MhVB3BRn6UpAIwRQB8t/safHX9rz4w/Fy8sPjn/wSmuPgn4ZsvD0lzp/jTWviJoWo3l1qPnRJ9gSy09WkjjaJpZDcNIB+6CbTuBHz7+wh8GP+Cgv7An/BQ347fDGT9jL/AITT4Q/HT49ah4/sfi/pPjzT7ZNAh1BXlniuLGZvtErRP5ce1FUkhypdSpr9JVVV+6oH0FBVSdxUZ9cUAflZ/wAFdP8Aglr+05+07/wUH8JeI/gf4B+3/C344eDdH8EftGXlvqkVq2k6XpPiOy1cXnzSLJLNPbRSWa7A+FRlIXcN03/Bcj/gmV+1T+1D+0j4H8V/sieCZJtL+LHgdfhJ8ctatdQt7c+HfC48Q6ZqsV+kUjqJSiR38bBAz7GCANuAr9TioJyV6dKCqtyV6UAfDf8AwVN/YG+PHxB8VfAr9sb9g7w94ZvPiT+zfqd8fD3gHxDIlrpviTQ761S0vNLErApbzGGNVhd8Im9ySp2kbX7NX7Sv7d/xS+M/hnwl8XP+CKVz8MPDs8sreJvHGrfFbw5fR6DIkDyRG2t7RWnvd86pEGUR7Q+89MV9lUioi8qgH0FAH5lad+zl+37/AMEw/wBrn4yeMf2Z/wBizS/2ivgz8cvHdz47l0mx8W6Zo+veDteugDejGoAR3ltK4XYqNlFUZ2lW836C0fU/2rP2mv2GfjZoXxR/YAPwZ8V614U1vRvCnhX/AITfSdXutejl0mRbeeSSxCw2zNPM0Iid227dxYBuPrNlVuGUH60oVQMBaAPk/wD4Ij/AH4xfsvf8ErPg/wDAb48+BLjw74v8N6Fdwa1odzcQyyW0jX93KqloXeM5SRG4Y/e5wcgcb/wbtfssfH79jT/gll4J+Af7TPw3ufCni7S9Z1ua+0W6u4Jnijm1GaWJt0EkiHcjA/ezzzivuIAKMAUBQowq4oA/Pr/grD+zn+2ZY/t3fswf8FG/2Pf2c4/i5L8GZvE+n+KvAUPiq00i8mtdWsBapcwS3REbeWHmLLktu8rClS7x0P8AgoT+zl+15+1n+0v+wL+0Lof7NeoaYfAvxAPiH4saL/b1jcHweJ4NPaSGWYSot15bxzJvgDBvKJA+ZQf0UKhhhlzSFVOMqPl6cdKAPhv/AILffsr/AB//AGpPCn7N2nfAP4bXXiSbwV+1X4T8VeKI7a7t4fsGj2kd2Li6bzpE3KhkT5Vyx3cA1xn7R/7Kv7bf7H//AAUm8a/8FEv2Kv2a9D+OfhX40+HtK034sfC288SWWj6pY3+mQi3tNUsLi9XyHQW42vASGZ2bruV4/wBGCob7y5oIDDDDNAHzn+xF8Yv2ovjB4k8R3f7QX/BNeb4FafY2dqPDuqal480bVrzWzI8nnxNBpoJtUi2RNmRz5hk4A2k1xX/Be39nP41/taf8Emfi5+z7+zt4BuPFHjLxFb6KujaHa3MMMlyYdbsLiXDTukY2wxSPywyFwMkgH7BVVUYVcfSggMMMM0AfAf7fv/BPL9pP41fAj9nT48/sxxaFb/HL9m280/WPDnhzxfIv9n61C1jbwalo80qZELTCCMLKG2gxldybxNH0nwF/ad/4KB/Eb4q+FfB3xO/4IaXHw90i61RE8WeLtS+MHhq8tfD0YVm8+3jtUae+IdVVQiITuDZUCvtikCIpyqAfhQB+XXw2+DH/AAUi/YD/AOClP7S3x38D/wDBPlfj/Z/HLXLPVvBvxGsPiPo+i3GlW0UZRdDvjfMZobaFfKUPCjgrbxkLKxCRb/8AwTG/YF/bE8O/sjftjfs//theHdN8O+Lvjb8YvG2qQa5pM4l0m+TWtKhga+tBvaYW3nmUqsypLsC7lDZA/SYqpO4qM/SlAA5AoA/O3/gkH8Lv249B/Ys/4dl/tz/sN3XgHQ/CPw5vPDMfxJsfH2m6jaeIkmllgCwWsDNNCTbTl97krmMghCwQeVfsBeBf+C4/7EH7LFr/AMErtE/YV8K6pH4bvtT0jwj+0ddfEqxTQrXS7u5uJk1GfSxuvbiSFpmCW6iNnGxXCbWkf9Zgqg5Cijau7dtGfWgD8X5v+CYn7b9p/wAGqOp/8E77H4C6ncfFpPETNa+Env7KOaeEeMVvhLv+0GEA2o83HmEjpyev3/8A8FK/+Cf91/wUR/4JzeIv2Rf+Eji8N+ItQ0nTrrw7rF0u+PTtXsnhuIDJs3fu2eMwyMoYrHK7KGIAP1DsTbt2DHpiloA/OnwX+1b/AMFiNF8I2ngv4rf8EG9N8VeOLSOO21XxJofxm8NWPh/WpF2rJqCGZXntkk+aQQMkjqCF5PA9x/bY+Nf7Wfgfxj/wp34b/wDBKOb48fC3WPCKDUtSsfH2g2afbzLKh0yfTNTKiS38pYWM4JUbyuw7c19SbEzu2DPrihlVvvKD9aAPy0/Y3/Zg/wCCqP8AwTK/4Ja/FDVf2Yv2XfBF98XfHHxmvPF/g34D3nidbvSfBGj309sjaWtwtxbx3L28MUhxHcRxnIYM7Bkk/TXwDf8AjHVPA+j6l8Q9BtdL1640q2l1rTLG8+0Q2l20SmaFJcDzESQsofA3AA4Ga1yoI2lePSigAooooAKKKKACiiigAooooAKKKKAKP/CR6KODfD/vlv8ACj/hI9F/5/l/75b/AArmW++3+8f50UAdN/wkei/8/wAv/fLf4Uf8JHov/P8AL/3y3+FczRQB03/CR6L/AM/y/wDfLf4Uf8JHov8Az/L/AN8t/hXM0UAdN/wkei/8/wAv/fLf4Uf8JHov/P8AL/3y3+FczRQB03/CR6L/AM/y/wDfLf4Uf8JHov8Az/L/AN8t/hXM0UAdN/wkei/8/wAv/fLf4Uf8JHov/P8AL/3y3+FczRQB03/CR6L/AM/y/wDfLf4Uf8JHov8Az/L/AN8t/hXM0UAdN/wkei/8/wAv/fLf4Uf8JHov/P8AL/3y3+FczRQB03/CR6L/AM/y/wDfLf4Uf8JHov8Az/L/AN8t/hXM0UAdN/wkei/8/wAv/fLf4Uf8JHov/P8AL/3y3+FczRQB03/CR6L/AM/y/wDfLf4Uf8JHov8Az/L/AN8t/hXM0UAdN/wkei/8/wAv/fLf4Uf8JHov/P8AL/3y3+FczRQB03/CR6L/AM/y/wDfLf4Uf8JHov8Az/L/AN8t/hXM0UAdN/wkei/8/wAv/fLf4Uf8JHov/P8AL/3y3+FczRQB03/CR6L/AM/y/wDfLf4Uf8JHov8Az/L/AN8t/hXM0UAdN/wkei/8/wAv/fLf4Uf8JHov/P8AL/3y3+FczRQB03/CR6L/AM/y/wDfLf4Uf8JHov8Az/L/AN8t/hXM0UAdN/wkei/8/wAv/fLf4Uf8JHov/P8AL/3y3+FczRQB03/CR6L/AM/y/wDfLf4Uf8JHov8Az/L/AN8t/hXM0UAdN/wkei/8/wAv/fLf4Uf8JHov/P8AL/3y3+FczRQB03/CR6L/AM/y/wDfLf4Uf8JHov8Az/L/AN8t/hXM0UAdN/wkei/8/wAv/fLf4Uf8JHov/P8AL/3y3+FczRQB03/CR6L/AM/y/wDfLf4Uf8JHov8Az/L/AN8t/hXM0UAdN/wkei/8/wAv/fLf4Uf8JHov/P8AL/3y3+FczRQB03/CR6L/AM/y/wDfLf4Uf8JHov8Az/L/AN8t/hXM0UAdN/wkei/8/wAv/fLf4Uf8JHov/P8AL/3y3+FczRQB03/CR6L/AM/y/wDfLf4Uf8JHov8Az/L/AN8t/hXM0UAdN/wkei/8/wAv/fLf4Uf8JHov/P8AL/3y3+FczRQB03/CR6L/AM/y/wDfLf4Uf8JHov8Az/L/AN8t/hXM0UAdN/wkei/8/wAv/fLf4Uf8JHov/P8AL/3y3+FczRQB03/CR6L/AM/y/wDfLf4Uf8JHov8Az/L/AN8t/hXM0UAdN/wkei/8/wAv/fLf4Uf8JHov/P8AL/3y3+FczRQB03/CR6L/AM/y/wDfLf4Uf8JHov8Az/L/AN8t/hXM0UAdOPEWjMwUXy5JwPlP+FFcyn+sX/fX+dFAHZ0UUUAFFFFABRRRQAUUUUAFFFFABRRRQAUUUUAFFFFABRRRQAUUUUAFFFFABRRRQAUUUUAFFFFABRRRQAUUUUAFFFFABRRRQAUUUUAFFFFABRRRQAUUUUAFFFFABRRRQAUUUUAFFFFABRRRQAUUUUAFFFFABRRRQAUUUUAFFFFABRRRQAUUUUAFFFFABRRRQAUUUUAFFFFABRRRQAUUUUAFFFFABRRRQAUUUUAFFFFABRRRQAUUUUAFFFFABRRRQAUUUUAFFFFABRRRQAUUUUAFFFFABRRRQBxbffb/AHj/ADoob77f7x/nRQAUUUUAFFFFABRRRQAUUUUAFFFFABRRRQAUUUUAFFFFABSF1U4ZgM9Pelr4P/4LT/H39vP4P+LP2f8Awx/wT/8AGC23irxF431+4vPDFxbxSW/iyHS9EbVBo8gdCx+0i3kgQIyNvnXDKcMoB93s6oNzsAPelr4J/b+/4KTXnjv/AIIP6/8A8FIP2F/iXe+HbzVrDwzd6Dqlr5Ul3o01x4i06zvrCUOrx+dF5lxbScMCRuUkFTX0h+07/wAFBf2W/wBlH4l2/wAJvit4k8SzeKNS0mbWrPw14N+HWs+ILxdMS5eBruRNOtZVghEiMu6RlJKnAOKAPZmZVG5jge9FfI/7Xv7dPwR+JH/BKvxR+2l+zT+37/wrnwjLHp50/wCNXh3wJJr8+jk6rbW0kLaVMI5RLI0gtnR1R4fO3kYHPuOkftSfBi7/AGobv9ieXxjeP8StM+H9r4vuNLu9CmtkvtIeZbY30Mu3ynHnna8aH92xYdEOAD0eivIdX/bu/ZV8O/FD4n/CTxN8WbfS9S+DPhrT9d+J97qlnLb6b4ftb6LzrVZ7xwIvOkiIdYVJdh0BPFc9+zv/AMFPv2K/2o/iZZfB34UfE7WI/E2saJJrPhrSfF3gPV/D0niHTUAZrvTjqVtCL6MJlz5RLhFZ9u1SQAfQCpJI2yONmbsqKWJ/AUnQ4Ir45/4OAfHnjf4Z/wDBHX44eOfhx401bw7rWn6To7WGs6FqctndWzNruno3lzQsrpuRmU4I3KxU5BIrovD3/BZD/gnFd+MvDfwxf9pTFxr+pR+H9E8U3XhbVV8N6rq8aiOS0t9da3+wTyb0YblmKFvl37jigD6korw39pD/AIKNfsofsp/EZvhB8W/FHimTxRDoEWu3mh+EfhrrevzWOmPJLEt5cHT7WWO3iLwSjLuGOxvl4po/4KTfsV3Pgb4QfFPR/jZDqXhX47eKIvDnw18T6XpN1NY3+qylljs55NgNlM0ivH5c6o4kikVlBjbAB7pRXn3xH/ah+DHwp+O3w3/Zp8aeIryLxt8WJtTTwTotno89y1yunwLNdyzPGpW2ijR1+eQgE7gM7Wx5F4v/AOCyX/BOPwL481TwN4m/aGlih0HxMnh3xF4vt/BurT+GNH1ZigFld65HbNYQyAyKHJl2RkkOykNgA+nqK8f/AGnf27/2X/2QfEfh/wAD/G7x5qMXiTxVDcXHh/wp4X8J6jr+rXtvB/rrhbPTYJpVgQZzM4VDtYAsQQO++EvxY8AfHT4Y6F8ZPhZrsmpeG/EumR6houoTadcWbT2z52uYbmOOaI8H5XRWGOlAHRUuyQoZRE+0cF9p2j2z0r56+OH/AAVN/Ye/Z++LOpfAjxt8VtW1Txlodit74k8N+A/Aer+JbnQ7dhuEl+NMtpls/lw2yVg+1lbbggnx/XvjR4g8bf8ABcX4F2fgT4ha9J4J8Wfso634gtNF+0XdpaXplvQ9tcy2U2zZN5Tr/rY1lT7rBSuAAfclFfLvjD/gsz/wTo8A+LL7w14y+N+sabZ6X4ql8M6r4wu/hrr0fhux1eO5Ns9pNrDWYs4ysoKtJv8AKUglnABI9G/af/bm/Zk/Y91Pw34b+Onj2+ttc8ZSXCeE/C/hvwvqGvatq/kJvmkgstOhmlaJE5aUhYx03EnFAHrlBZV5Y4rw/wAaf8FHf2Mvh7+zh4X/AGsPF3xhms/BPjjUYtO8G3DeE9UbUtbvpZZIo7S20wW322WcvE48sQggLuOFwx8r/ac/bo+GXxS/Zn8G/GP4B/tseKfg/Y3Hx90TwnqGs3fwVvbi+1C9LP5vh6ew1KGGW0WYvEWutpRfL2ZYMy0AfYihncRxozM33VVSSfwFBDK2x1ZWHVWXBH4V+Wf/AAUC/bq8P/Fv/grHY/sHeO/id+0N4L+EngP4b3niLxdYfBXwf4htdY8Ua+dTNpHbvNp9sbuTSIrc7luICtvJNlS5bbt+sP8AgnX+0V+yPrf7Ofi7Tvgx+0P8TNf8O/CXxJqVp438RftAXWow6toEgU3s1veXGrRxSpb2sJ2jzRmJEwzE5JAPpyivnH4I/wDBWb9gz9oX4meH/hL8NfjDqn9reMoZ5fAsniLwFrOjWPipIVzKdMvL61igviowQsbbmBygYVN8Rv8Agqt+wj8JvjRcfs7eP/ja9j44g+IFj4Mj8Lx+H7ue8utWuraC5QQxxIxkt1huImkueIYi6qzbmUEA+iKKV0aKRonHzIxVvqDikoAKKKKACiiigAooooAKKKKACiiigAooooAKKKKACiiigAooooAKKKKAFT/WL/vr/OihP9Yv++v86KAOzooooAKKKKACiiigAooooAKKKKACiiigAooooAKKKKACiiigAooooAKKKKACiiigAooooAKKKKACiiigAooooAKKKKACiiigAooooAKKKKACiiigAooooAKKKKACiiigAooooAKKKKACiiigAooooAKKKKACiiigAooooAKKKKACiiigAooooAKKKKACiiigAooooAKKKKACiiigAooooAKKKKACiiigAooooAKKKKACiiigAooooAKKKKACiiigAooooAKKKKACiiigAooooAKKKKACiiigDi2++3+8f50UN99v94/zooAKKKKACiiigAooooAKKKKACiiigAooooAKKKKACiiigAr41/4KGc/8FCv2Gc/9Fo8Rf+ozNX2VWL4j+Gvw58Y+I9B8Y+Lvh/omq6v4Vvpb3wvqupaXFNc6PcyRGGSa1kYFoJGjOwspBK8UAfin/wAF1Ph74k/4J0fCf45fCbwbpcy/A39rC+0bxD4b0+1t3a28K/EWy1zTb3ULNAvywW+oWNvJcISSPMtvLVUSIk/dH7Vv7dv7QOv/APBQfxl/wT/+DP7VXw3/AGedN8D/AA+s/FevfEf4iaLFqWpa013KWEelWt5d21mtrbxB/PuZWlZZCAEADGvrr4p/Bv4Q/HTwdJ8PPjb8KfDXjLQJbiG4k0PxVocGoWjTRHdFJ5Uysu9DyrYyMnHU1j/Gj9lf9l/9pHUdP1j9or9mj4d/EC80lZF0m68b+CLDVpLFXbc4ha5icxhmAYqDtJAJGeaAPw/17XIvEH/Buf8A8FCtRtPjJB8QrSb9riW4tfG1npcNjb66suseGpDfw28H7qGOcnzgsfyYcFeCK/Rr/grmtj+zD+0N+zn/AMFS2nWz0f4Z+OI/BPxavH+SBPB/iONLR7u6YAs0dneGOVVH8VxnnjH1V4i/Zj/Zs8X+E/FXgLxZ+zx4F1TQ/HOrR6p410XUPCdrLaa/fRmIpdXkTJsuJlMEJDuCwMSYPyit74ifDj4efF7wVqPw2+LPgHRPFHh3V4Fg1Xw/4i0uK8sbyNWV1SSCVSjqGRGAI4KKRggUAfi9+0D8OPi54o/4JBr/AMFC/F6nRZv2gP2tPD/xZ+MFxr3hsazDovw/N7LDpENzZRup1GwtYo9NuTb7gXSdlLqDkfWt98Fvil+1x+0B+z98TfiN/wAFqvgH45fwL8SofFvgbTfAPw5sbPU/EUUMEovbC0uI9euHeGe083zVSNwBGrsCI8V99WHh7QNJ8PQ+EdK0GxtdJt9PWwt9Kt7ONLWK1WMRLbrCBsEQjAQR42hQBjFed/DT9h/9ij4L+OIfid8G/wBjX4S+EPE1v5gh8SeFvhrpen38YkUpJtuIIFkTcpIbaw3AnPU0AfOn/BxkuP8AgiZ8eYkHXR9ERR6k+INNAA9ya8k/4K1ftQfsH/GL/gh3qHwf+C/j/wAJ+Jz428KeH/Dnwd+HPhy/gl1OTWEuLCK1s7bTkYzW89qy7ZISiPFsaNgGOw/ox8TPhb8MvjT4Gv8A4YfGL4daF4s8N6oIhqXh/wAS6TFfWN35UqTR+ZDKCj7JY45FyDh0VhyBWBpH7K37Lvh74xXX7RHh79mb4c6f8Qr2eaa88eWPgXT4danklBEjtepCJizAkM27cw6k0AfGXir9uT9qvxX+1F47/YGsf23/AIZ/s4L8CPhv4UvPHHxI+IGj22qap4qvrzT45rq50+LULy2tIbG3GVnuHWZhKycESAD5x/YS/Zr1T9vj/gh5+0d8Hvhr8SG8VeINP/aO8Y+Ifg/4w03SYtNa41nT5LHUNPurW2jwlgLpzKvlRgLEt8yqBgV+rfxX/ZW/Zd+PXiXS/Gnx1/Zn+HfjfWdDhWLRdY8YeCLDU7rT4w5kCwzXMTvGoclgoOA3IAPNcF+1H8M/2jPh18Fda8Of8Ev/AIY/C/wt46+IHjia98TeJtct1sLTS576F/tviWSC3jP9pagGigAVwS7lHcSLGUIB8Z/8E+fix8Vf+CrnxT+Lv/BUrwPojabrHhv4AWnwu+DsJZoY7bxZc6V/a2vTBJQNjxancW9msw4dAecCvJf2D/DXin45f8EabP8AZaf/AIK7fs+/DTwEvw91Dwx8Rfh54v8Ag3aWmq+EbqU3Ed+l7Jda7A8d0s7TTi6eGPe+Jgtfqd+xV+yX8Pv2G/2YfCP7L3w01C61Cw8L2Li61rUF/wBK1i/mlae8v5uWPmTzySSEbjtBVAcKKPiP+wz+xH8ZPG0/xL+MH7GHwj8W+Jbnb9o8R+KPhppd/fy7QApeeeBncgAYLEkdqAPkT43/ALJ1h8CPEPwp+MvwJ/4KqeAPh7+0V8Hf2cdN8Ia1rXxEuNPk0nxv4Ttz5iTalZT3P2iytpr23kkF7C8jLhxlyoYfT/8AwTN/a78T/t3/ALDvws/a88d/Dw+E9W8a6P8AatV0UySGKKWG8mtXmiMpL/Z5vI8+IMzERTKCzfePUfF79j39kT9oLW7LxN8ff2Tvhh461LTbNbTTdQ8ZfD/TdTntLdWLLDHJcQsyRgsSIwdoJ4FehWVlZ6bZQ6bp1pDb29rCkNtb28KxxwxqoVURVAVVAAAUAAAYAoA/N/8A4Ia/Hv4I/AH4ZfGj4B/tHfFnw74M+OXh/wCOnizV/jJb+LPEEGl32qyTXIlh1cG5dDPaNblNswJQD5uBIrN2nxA1nSPE3/Bwp8D/ABHomrxapp+p/sn+JLux1DS51uY7y3l1LfHLC6ErKroysrKSGBBBIOa+rPjF+yD+yR+0Trlr4m/aF/ZT+GXj7UrG2+z2Oo+NvAOnarcW8OSfLSW5hdwmT93O32res/gt8HNO8Z6L8RtP+Efhe38Q+HPD50Hw9r1v4ft47zS9LOP9AtpVUNBbcD9ymEHYCgD8e/2vv+ChHxn/AOCgn/BIz4pftUfEj/goP8K/hB4J8Q6X4k0fQ/2crbwbY6v4i1CS3nlgtdO1G7vrszxX8xjE3+i2qeRCY7gFQCR9IeJvhXpXjD4d/s2ftX/CP/go94P+CP7RPg/9mTRtsnjrUNOvLHxJ4ZuLG2nmTUrK6mSZLY3kTf6dDyjGTIZlQp9n3X7F37G19421/wCJl5+yH8K5PEniuzvbPxR4ib4eab9v1i3vImiu4bq48nzJknjd0lDMfMViG3A4qLx/+xH+xZ8WdO8P6P8AFb9jr4T+KLTwno8OkeFbXxJ8OdNvo9G0+JQsVnaiaFvIgQABYlwgAHFAHxho/wARdB/4K1/sNfs2/tf/ABM/ae0H9mj492viLWdX+FniKHUbS4s7nUbOSbTdQe1sNVmU6jp89uiTGLeZIlZQZJE3eZ4Z+0z+278Y/wBtf9hHwbc/HU+EtV8QfDb/AIKEeFfBE/jj4ezSv4f8Wx2cxkTUrISM+wMJ9rqrtHuXcm0P5afqx8U/2X/2Zvjp4V0fwJ8b/wBm/wCH/jTQ/DyhfD+i+LPBdjqFppYEaxgW0U0TLbgIqriMKNqgdBiprj9m39nS7+Heg/CC5/Z+8Dv4R8Lalb6j4Y8K/wDCJ2i6bo95A7PDcWtssYit5Y2d2V0UEFmOeTQB8n6tcXEf/Bz/AHzpdSKy/sESbWWVhjHjRvQ9K+I/2gPD3xO8Uf8ABPb/AIKh2Hw4gvJlh/a8mvPE0en27zTf2JBfWE1+wRXQuiQRs8i7lBhSUEgEmv2if4W/DGX4pt8c5PhvoDeNn8PnQm8Y/wBjw/2odLM/n/YftW3zPs/nfvPK3bd/zYzR4G+Fvwx+GGp69rXw0+G/h/w7eeKdbk1nxNdaFo8NrJq+oyDD3l00agzzMOGkfLHuaAPzz8b/AAi8b/t3eFfg9Drn/Bb/APZz8QeGdH+KHh7xT8MbPwf8JrPTrybU9OlMlraWP/E/d45zGZITAImkUbkKjDA9b/wTm8MaAP8Agtt/wUI8cf2RbnWLfXPAOn22q+WPPhtZtGnllgR/vKjvBAzqDhjCmc7Rj6n8K/sJfsN+BPiFB8XfA37FXwf0Xxda3zXtt4r0f4Y6VbalDctndOlzHbiRJCWbLqQxyeea7fw18Kvhf4M8Z+JPiP4P+Gvh/SfEXjGa2m8Xa9pmjwwXuuSW8bR273cyKHuGjR2VC5O1WIGMmgDfooooAKKKKACiiigAooooAKKKKACiiigAooooAKKKKACiiigAooooAKKKKAFT/WL/AL6/zooT/WL/AL6/zooA7OiiigAooooAKKKKACiiigAooooAKKKKACiiigAooooAKKKKACiiigAooooAKKKKACiiigAooooAKKKKACiiigAooooAKKKKACiiigAooooAKKKKACiiigAooooAKKKz/FviOy8H+F9R8V6kjtb6bYzXVwIwC2yNC7Yz3wDQBoUV+TviH/g77/4JxeHPEF/4cvvA/wAQGn0+9mtpjHpdoQWjcoSP9K6ZX0qrH/weIf8ABNkuobwJ8RFB/ibSbXH/AKVUAfrZRXwP+y//AMHHH/BN39p3XIPD+l/Ee48O3FxIEhXxDAsQZj0H7t3r7s0HxBovijSodb8P6nDeWlwgeC4t5AyupHBBoAuUUMwUbmr80P8AgsX/AMF0fFf7B/x18C/s0/s3/DjS/GnjLxJqCx6pY3148a2kLhQhGxGOdxORjoKAP0vorkfgT4j+IPi34TaH4j+KehWuma/eWEcupWNnM0kcMhUEqrMqkgH2FeZ/8FEv+Cg/wd/4Js/AQ/tB/G3S9Wu9H/tSKx8nRoY5JjJIkjrw8iDGI27+lAHvVFfkiP8Ag8S/4JstwngP4iN/u6Van/27qS3/AODw7/gmxJKEk8EfEKLP8Uuk2wH/AKVUAfrVRXxX+yH/AMF7P+Cen7YerQeH/BfxVXSNRunCWtjrqrE8zE4AGxmGc8da+0LS7tr63S7s51kjkXcjo2Qw9aAJKKRiQvFfkD+3L/wcUfHP9lr/AIKoN+wX4e+B+gahoq6xp9p/bN1qUizlbiGBydojI4Mp79qAP1/orL8Fa5N4k8Kafr1xCsb3lnHMyK2QpYZwK1KACiqmu61p/h7SbjWtVulht7aJpJpHOAqgZJr8wPHf/B2b/wAE5fAPxV1L4U6poPjSW60vWJNOub6DT7U2+9JTGWBNyCVyM525x2oA/UqiuW+C3xc8JfHb4YaL8WfA12ZtJ12xju7GRsZMbqGGcE9jXU0AFFVtXkvotNmk02NWnWNjEshwpbsD7V+U3hX/AIOAvjN8P/8AgqWP2Af2qvglo3hvS77xGum6P4ktb6RxMrzeWkhDIuAcg0AfrFRUdrcR3dutxCwZXXKsvepKACiiigAorwn/AIKD/t9/CP8A4JyfASf9ob41adql1otvqEFm8ekwxySmSVtq8O6DGfevgcf8Hin/AATYbhfAnxEb/d0m1P8A7dUAfrdRX5OaP/weA/8ABNXU71bObwp49td/AkutKtgo/K5NfY/7Hn/BXT9iH9tgxaf8Ivi9Zf2pN9zR75vLuD+Ayv60AfTlFAIIyDWb4w8VaR4I8MX3izX7tILPT7V57iWRsBVVST+goA0qK/Jv9kf/AIL7fH/9uH/go7rH7K37PvwL0O98C6LflLzxPcX8qzLCgxIQojZd24NgbumK/WRc45oAKKK+ef8Agop/wUm+AX/BNP4QQ/GL46tqE9ncaglpDZ6TFHJcOzI7bgrugwNh79xQB9DUV8D/APBP3/g4b/Yn/wCCinxmT4FfB6w8Safrk0e+3i1y0gjWUcZwUmfPWvvgHcMigAoor5N/4K7/ALZf7R/7Cf7M9x8f/gH8KNM8XNpt0q6lY6hdSRMkRDHeu1GyBt9uooA+sqK+Of8Agjd/wVV8Lf8ABUX9neP4mnTrXSPEVrcNFq+hwTb/ACSB1BIHGc/lX2NQAUUUUAFFFFABRRRQAUUUUAFFFFABRRRQAUUUUAFFFFABRRRQBxbffb/eP86KG++3+8f50UAFFFFABRRUttFHIGaQH5fegCKipv8AQP8Aa/Whm09V3Hdx9aAIaK8s8Aftu/swfE/9pnxN+yF4L8Z6hc+PfCMF1Nr2ly+H7uGGFbYwCUrcugikwbmLG1jnccdDXrP+gf7X60AQ0VMBYk4G79adJHZxNtcN+tAFeipv9A/2v1p0cdnK21A3r3oAr0VN/oH+1+tH+gf7X60AQ0VYEVmYzLhto9zTf9A/2v1oAhoqb/QP9r9adJFZxY3hufc0AV6Km/0D/a/WnIllI2xd2fxoAr0VMy2KsVYNkfWj/QP9r9aAIaKsJFZyKzKGwvXrTf8AQP8Aa/WgCGipv9A/2v1pzxWaIrsGw3Tk0AV6Km/0D/a/WhRYswUbueO9AENFWHSyjbY4bP403/QP9r9aAIaKnWO1lDLCG3bfevKPgV8cPEXjv48fGr4JeOrLTo5vh34s0seH5tNt5I/tGh6jpMF1bSS7nbfKJ1vYyw2g+UBtGMkA9Qoqb/QP9r9ad5Vn5fm4bb9TQBXoqb/QP9r9aP8AQP8Aa/WgCGirEkVnEdrhv1pv+gf7X60AQ0VYRLKRtiBs/jTWFirFTu4470AQ0VN/oH+1+tOWKzdGkUNhevJoAr0VN/oH+1+tH+gf7X60AQ0VYeOzRVdg2G6dab/oH+1+tAENFTKtizBRu5+tOdLKNtjbs/jQBXp0ccsxxDCz467VJxWP8S/iD4N+E3w6174peMJ5I9J8N6Nc6nqTx/e8mCMyMFBIyxA2gZ5JFfhX+1J+23+0D+134wufEfxG8a6lZ6O8zHSfB2m6lLDp+mw5+SPYhUTSAfemk3MzZxtXCjwc8z/D5LGKlFylLZJ20XVvW3lo7/efsnhL4M554sYitKhWjQw9GynUlFyfNK7UYQTjzOyu7yioq13dpP8AeySOWE4mhZM9NykZptfgt+yx+2/+0F+yF4wtfEXw78Z6lfaKsynWPBupahJNYanDn5kCOWEEuPuSx7WVsZ3LlT+2urftG/B/Q/2Zbz9rrUdRvP8AhCdP8Az+Mbu6hh3TrpcNi17IwTODIIkYbc/eGKMjz/D51CXLFxlHdPXR9U9L/crfcLxa8Gc88J8TRdetGvh611CpGLi+aNrxnBuXLKzurSkpK9ndSS7SgMG+6a+T/wBmjwz/AMFIP2mvDfgD9rT4iftc6D8N9M8Wf2X4hj+Cvhf4WWOqWdloty6XCaZe6pft9sub1rN0SW5gFvHHM7+XC6ou6H9m79uDxppX7PPjb4ofFvwj8S/iZqVn+0d488J6BpPw98CSaxfxafY65dw2kLJarHHFDDbwhPPnZATtUszuoPvH44fW1FfOuvf8FTf2UtP+Evg/4leF9N8feJtW8ea1qmjeG/hr4d8B3kviyXU9LZ11azl0uXy5baWxaJxP5pRUwuGbzI9214n/AOCgfwd0D4q+F/gtpHwl+LniLxJrmg6NrWvab4Z+F9/dv4NsNUkaOyk1v7v9nO7RXG6Ft80a20zuiohagD3DNCsrDKnP0r83/wBrH/gqH8WPhJ8GvFPh/wCDPjzxt408Uax+2hcfCW28WeHfg3ZxSeBbY3diz6fBbyTSQ6ndx29wYbS5nUC6mcl418vn1j9mr/go/wDAr4ffB7xxYfGz4nfHzVvEXgfx1p2gy6L8Y/h/ZR+Mb3UtWsornTdHsrDRLaP7dLJGGlQCISKkju7CKPcgB9kUV826l/wVk/Y68J/CDXvi98UpfGngz/hD/Gmk+GPHfhfxV4LubXW/DV5qUiCzlurMFi1tKjrKlxA0ySJu2F2VlHsPhT4m658WvgEPij8Mvh3quh69q+g3Vx4d8N/FPSbvQ54LwCVLePUYAklxaRtIiM2EaQRuGCkkCgDsaK+ff+CbX7QXxz/aK+DfjXUf2j5PC83izwX8ZvF/gy8uvBukzWOnzppOpG0SSKGaaaRQdrH55GbBGSSCT9BUAFFFFACp/rF/31/nRQn+sX/fX+dFAHZ0UUUAFFFFABRRRQAUUUUAFFFFABRRRQAUUUUAFFFFABRRRQAUUUUAFFFFABRRRQAUUUUAFFFFABRRRQAUUUUAFFFFABRRRQAUUUUAFFFFABRRRQAUUUUAFFFFABXK/HT/AJIt4t/7Fm//APSeSuqrlfjp/wAkW8W/9izf/wDpPJQB/JR/wR//AGZPhF+1f/wVB1T4WfGnw8dS0afXL5pLdZSmT9pl7j6V/Qhd/wDBuJ/wSyu4nhk+Bk21hjK6o4OPyr8L/wDg3u/5TD3/AP2GL/8A9KZa/rBzQB/PT/wW+/4Np/hP+zZ8FdS/ao/Yxlv9Mi8OqLrUNHluHmYLvC7kYnIwzA8V6/8A8Gl//BSn4j/GzwlrX7Ivxh8Qz6pf6BGtzotzdTFpUtlOx0JOSfmdPpiv0c/4K+fEjwX8Mv8Agn98RvEXjW+t47VdBaPZMw+dmkRQBnqckflX4Xf8GhPh3WNY/wCCjfi/4g6fbv8A2Svhm8iMgX5dz3Vs6j8lNAH9HX7QPxW0f4KfB7xB8TNcu44bfStNkn3SNgFgOBX89P8AwRG8Oat/wVq/4LPeOv2wPiRBJf6L4Rk/tS1t7z5o40nkmjiQZyPlJB49K/RD/g6c/aXuPgt/wTn1DwToepNa6p4kukSCRevlqrBh+bCvIf8Agzd+Btt4U/Y/8V/Gi7sfL1DX9aa0MhHLwRyFl/nQB+ykEKW8SwxrhVGK/LT/AIO7s/8ADq1sf9DxY/8ApNeV+ptfll/wd3f8orm4/wCZ4sf/AEmvKAPiD/g2Z/4JY/sdftt/s6ax4y/aB+Hkmr6hb6lJHDKt4Y9qgnjj6V+m2q/8G3X/AASv1eyksLr4G3AWRcbo9WcEfjivkH/gz48X+GNB/ZR16DWtfs7Vv7Wk2xzzbWPLdjX7G3vxl+F+m2rXt9470uONF3M7Xi4AoA/mq/4L+/8ABDbwz/wTGs9N/an/AGTde1PTvD66jHC0TXbmWymdgE2yZznP06V+sn/BtX+3N44/bI/YNs5PihqRutc8OXrWD3DHLSQqkZUknknLN+VfFP8AwdYf8FRvgB8YfgZZfsZfBjxPbeI9YutagvNS/s9w/wBmML5CnGevNfVX/Bq/+yV47/Z6/YKXxJ8RdImsL7xFqklzBbzLg+R5cQVvxIagD9Q26fiP51/LZ/wWO/5WRJP+xq0P/wBJbOv6k26fiP51/LZ/wWO/5WRJP+xq0P8A9JbOgD+nL4TnPw30M5/5hcP/AKDXRVzvwnOfhvoZz/zC4f8A0GuiJCjJNAHxV/wXp/bI0/8AY7/4J+eLPEX23ydS16zl0zS3WTDJM64Df+PV/L98P/8AgnR8ZPjX+xN46/b3vRcSWmk3yvHiMsbpnuI0kb8C7nv0r9FP+Dsr9rrVPj9+1N4V/Yq+G189xBpawpqljG2d148rMvHrseOv1W/Ym/4JveFPAX/BImy/ZUvNFikk1/wa008bQjIurmEy8+4kk/SgDxD/AINS/wBt3/hoX9if/hTninWPM1vwbIsFvas+WFmpMat/6B+dfq3X8sn/AARH+M2t/wDBMf8A4LF6p+zP4yvWtdP1rWLnQb97hsKm1i6k59WhUZ96/qVsbuG+s47y3k3RyIGRh3BGQfyoAmIyMEV+Gv8Awdr/ALJFx4VHgr9vv4baaya14d1S3OpTW/y7Y4GSRZDj3Wv3Kr5M/wCC3nwatPjh/wAEzPi14QkslkuF8G31xZyFctHIlvIwYe/FAFn/AII5ftn2P7bv7D3hP4pSX6zavFp8Nvrij/lncBOQfxVq+qq/AX/gzY/aVvI9S8ffsp3d8zRwRtq0cTMeNsypkf8Af6v36oAKKKKAPy//AODtj/lE/q3/AGNmlf8Ao6vgj/g2T/4JdfseftufArxJ4q/aB+HbatfWeobIJVumj2rtQ9vqa+9/+Dtf/lE/q/P/ADNmlf8Ao6vD/wDgzb/5Nq8Xf9hT/wBkSgfU+rfGP/BtH/wSx8XaPJpcnwZvLdmUiOaDV3VlOODxX4a/8Fgf+CZHxQ/4Ie/tJaD8XP2d/HmoW+i312tzod3byMj2+1ifLcg/MMqQc9Qa/rNZlUZY1+HP/B5f8UfAth8FvB/w2uby3fWr6VZbeIMC6osrE/oDQI/Uj/gmZ+1pB+2r+x/4V+O8YXztQtdl4y9GmUAsf/HhXyH/AMHP37fM37KP7E8nwx8J6qYte8dTPYwtDJtkhjUKSfXkEiuw/wCDYvwl4h8Ff8Em/BuleJbd47h764lVJM8IwjxX5B/8HM3xz1X9pf8A4KneF/gjoFzLNpukmztZLIMSvnNctvOP91h2oA/Rj/g1B/Ydj+DH7Ik37S/izS1k13x9fS3kN5LH+8WIN5RGTzy0bH/gVfrdXlv7F3wn0f4J/sv+CPh1oVusVvY+HLU7FXADPGJG/wDHnNepUAIzbVLE9B3r+aj/AIOnf2pdc/at/bi8KfsUfDS/eRdGf7NeW0Mm5ZbqQrsOB6Lv/Ov6Ev2svjh4c/Z1/Z58WfF/xTdrDa6Los0zSFsYYjYn/j7LX80v/BFv4L+Kf+Cnn/BYzVP2gviEJLyx0XULjVWvpMsm5ZlWJc/7jn8qAPGLX4RfFn/giX/wUZ+HWsajeTrcPp2n3lxcSKUC+eiPJH/wE4Ff1x/CH4j+Hfi18ONH+InhO9W40/VrJLm0mXoyMMg1+PX/AAd6/sTnxx+z3oP7VnhPSBHP4PkaPUpoY/mMbYKZI7ARmvav+DWv9tpf2lv2C9N+G3iDVVbV/BIXTFt5H+doI0Ch+vT5aAP0/rkPj18LNB+NXwg8QfDDxLaxzWesaXLbzLJGG6jrz9K6+kflCPagD+Yr/gll8YvEP/BIv/gtJ4j/AGYvFN7JY+Dda8QyWZ+0SfL9nWUrG4zwMqTX9OVncxXlrHdQtuWRQVPrX80P/B198Hf+FMf8FDPC/wC0ZoVv9lXVLO0DNEu0GSLlm+p3Zr97/wDgm78en/aZ/Yt+H/xskn8xte8Pw3LNnuVFAHudFFFABRRRQAUUUUAFFFFABRRRQAUUUUAFFFFABRRRQAUUUUAcW332/wB4/wA6KG++3+8f50UAFFFFABU9n9yT/PaoKnssbJMn/OKAIB0ps3+qb/dNWPJs/wDn5/8AHhTZobPyW/0n+E/xCgD8v/2H/wDlYc/aC/7AviX/ANGaNX6eV+Yv7Dao3/Bw7+0F5jbf+JL4k7/9NdFr9QPJs/8An5/8eFAESffX/eH86kvP9f8A8BFOWG0DAi4zz/eFPnjt3kzJNtbHqKAKtTWP+vb/AHf60eTZ/wDPz/48Kkt44EctFLuOPUUAVW+83+8aKmMNoTn7T/48KPJs/wDn5/8AHhQAD/kHt9f61DVpY4Ps7RiX5c8tmo/Js/8An5/8eFAEJ6VNe9U/3TR5Nn/z8/8AjwqSeOB9pll2+nNAFWpLX/j5X8f5U7ybP/n5/wDHhT4YrZZQ0c25vTcKAIJ/9e/+9TasSRWrSMzXGDnn5hTfJs/+fn/x4UAFt/qJf89qhHSrUKQKjKku4H73PSo/Js/+fn/x4UAQ1Ncf8esX4fyo8mz/AOfn/wAeFSSxwGJVeTCj7rZ68UAVadF/rk/3hUnk2f8Az8/+PCnJDah1Kz5OeBuFAEd5/wAfB/3RUdWZ47dpN0k21vTIpnk2f/Pz/wCPCgAsf9Y3+7XznPv+H3/BVWGYstvZ/FX4ByRttHE9/wCHtXDLn/b+y6s3uVj9q+kLdIEcmKXcceor51/bMgsvB37R37Mfxl83ctn8XrzwrffN/wAu2uaJeQAHjobq2tP+BBaAPoCpv+XD/gX9aSOG1KKWuDnb/eH+FS+XB9n2eb8ufvZ96AKtB6VN5Nn/AM/P/jwo8izP/Lz/AOPCgAvv9Yv+7UNWrhIHcGWXaceoqPybP/n5/wDHhQA2z/4+B/ummy/65/8AeNTwR26ybo5tzemRSPDal2LT4OeRuFAFepof+PWX/PajybP/AJ+f/HhUkccAhZVlyp+82elAFWipvJs/+fn/AMeFHk2f/Pz/AOPCgAuP+PaH6D+VQ1aljgMaK8u1QPlORzUfk2f/AD8/+PCgCOH/AFyf71Ouv+Plvw/lUkcVqJFKz5OeBuFLNFbNKWkm2t6bhQB5f+1/8Kdc+OX7LPxC+EPhdh/aniLwje2elqzBRJclN0SEnoGdQuf9qvwEniu7eeS21CxmtbiGVo7m1uIykkEqkq8bqeVZWBUg8ggiv6SPJs/+fn/x4V88ftL/APBK39j/APat8WzeP/Fnh3V9F8SXTBtS1zwfqS2s19gABp43jkhlft5hj3kdWOBXyPE/D1bN3Cth2ueKs09E1e6s9dU7+t91bX+mPo/+NmU+GcMVlucU5vDVpKopwSlKE0uV80W1eMoqOqd4uOkZKTcfw/t4L27uYrTTLCa6uppkitbW3jLyTyswVI0UcszMQoA5JIFfu58JP2XNLP7AujfsbfGi3mms9Q+FLeFPGVvZzqsnl3di8F5HG4yMqJ5FDeqg1h/sy/8ABLL9j79lPxZH4+8H+HtV1zxJasTp2u+MNSW6nsMjBaCNI44Yn7eYI94GQGGTX0P5FmOBc/8Ajwo4Y4fr5Pz1cQ1zyVklslvq+709Lbu+k/SA8a8p8TI4XLcnpzWGoyc3OaUZTm1yrlim7RinLVu8nL4Uopy+Sv2XL3/gp3+zT4Z8BfsqfEf9mnwD8RtF8Ix6doafGbRPiwNHW+0a2kW3ivbrSLqymuIr5bNI2kgillilmV9ssasMeL+Lf2If28/C/wANbHw74Z8Mr4k8IyftIfEjxV4/+E+h/F6TwpeeLdI1fUbmXRpTq9mwaKKDzTcTWRkQykxh93lmNv0hMcH2dUMvy9mzUfk2f/Pz/wCPCvrj+aT8x/Cn/BOr9oT4Vfsp3nwb8S/sJ+G/HWtT/Hvxl4v8M33hH9pCfw/qXgVb+RJNOvNN1trUXkuA8kUrOUlIhVpILgP5Y6z42fscf8FB/FutfBuXw/4I0C3+OHhTwb4W03xN+11o/wAXprFZhbXEU+sWV/oKW8ba3bSeVMkMc6skhumkP2Ul1b9DPJs/+fn/AMeFSXEcDvmWXaceooA/OM/8E3f2ojZ65AdF0Pdff8FObH412/8AxUMPPhGKayZrj2uNsD/6N/rOOOoq5+0x/wAE2v2m/it+0J8Xvjr4I0jR7mM/HDwd488E6DL8StR8Ny+J7Ow8DtoGoWf9p6RIt3o1wHuJWgnOVZ4groYZXNfoZ5Nn/wA/P/jwqSCO3WTdFNuOPUUAfnbZ/sDfEvxd8Kp/EXhz9jW8+HPjTVPjh8M9V8QL4s/aUvvHV9qug+HtYjuzI91qM8q2wt45rtY7eKRjID0yFQfoVcsklzNLGPleZ3Xj1YmpmhtCxJuO/wDeFN8mz/5+f/HhQB4P+wH8APiR+z74P+K2m/Eqxs4JvFX7Qvjzxbo4s79LgSaXqervc2kjFCdjtEwJjPzKeDg8V7lVkrGlo4ifcPWq1ABRRRQAqf6xf99f50UJ/rF/31/nRQB2dFFFABRRRQAUUUUAFFFFABRRRQAUUUUAFFFFABRRRQAUUUUAFFFFABRRRQAUUUUAFFFFABRRRQAUUUUAFFFFABRRRQAUUUUAFFFFABRRRQAUUUUAFFFFABRRRQAVyvx0/wCSLeLf+xZv/wD0nkrqq5X46f8AJFvFv/Ys3/8A6TyUAfxqfseftofEf9hX9unXPjf8L/h/D4k1O116+VNOuGIVh9pk5+6fX0r9MW/4O5P+ChN0Db2f7DOnrI3CbZpGP/oqvlL/AIIJeFPDHjH/AIK7ahpHizw/aalatrN8Tb3kO9f+PmXtX9Sa/sufs8q/mL8HfD+4chv7PWgD+ZX9pn48/wDBab/gt3r1j8N5Pgp4m0/wvc3S+ZY29pMbGLPR3bAGPw61+2X/AAQm/wCCQmm/8Ew/2fpLbxZPDdeNPEDR3GtXEOCICFP7tT3Hzfhivtzwz8OfAvg5DH4X8J6fYqwwRbWwWtoAKMAUAfg3/wAHq/ii/wBP8I/CHw1bviG+bUHmXsdrw4/nX2t/wbL+HbXQf+CZHhaW2jCm8jWaQjuSgP8AWvkb/g8++Gd/4h+D3w2+IMMLGHQ57tJnXoN7RnH/AI6a+oP+DWnx/ZeOf+CZmjw2cyyf2XeNZy7T0ZFA/pQB+k9fll/wd3f8orm4/wCZ4sf/AEmvK/U2vyy/4O7v+UVzcf8AM8WP/pNeUAfi1/wSb/4IpftNf8FHPhfqHxB+DfxOtdEs7W7aF4Zr8xMzAnnHpxX1ne/8GlH/AAUHa1dbf9oHTncr8qtrZwT719O/8GcR/wCMTNeH/UXk/m1ftFtH92gD+Sn4tf8ABN39sn/giZ8V9M/aN/aI+BGl/EHR7G+jcXyXDXFtE27jc+wgHjpX9EX/AASK/wCClPwU/wCCiv7ONn40+GVpDpd9psa2+qaCqhWtWABBA/unPXA6GtP/AILF+BvAXjP/AIJ1fFaHxzY28kdr4Nv7mzaYD5bhLeQxke+RX4mf8GevjrxXo37Wvjzwbp9xI+lXmmw+dGWJWPEs2CPc/wBKAP6U26fiP51/LZ/wWO/5WRJP+xq0P/0ls6/qTbp+Ir+Wz/gsd/ysiSf9jVof/pLZ0Af05fCc5+G+hnP/ADC4f/Qax/2lPi9oPwI+B/iT4q+JL9ba10jSppvOZsYcRtt/XFbHwnOfhvoZz/zC4f8A0Gvy1/4Ox/24JPgN+xhB8B/DeqBdR8cXjQXkMcmJI4V2sG+hIYUAfl7/AMEsfhr4p/4Kq/8ABbHVfjb41DTWml+IW1a4kmJKNHA21Fzj+5Gtf1RWQ0nTrSOwtXjSKJAkaL0VRwB+WK/kN/YM/wCCM/8AwV6+Mnwxsf2i/wBkjSRpuka7G5tdQTxEtpJOodkOQVPdT37V7/8A8OUP+Dkf/ocbr/wvE/8AjdAG7/wdL/sual+yt+3P4V/bF+Htl9j03WL6GWa6hUqXvARI2OOchJM1+6//AASs/aq0v9sD9iHwP8YrO7R5rrS44bqNW+ZJI1CnPoTgmv5vv2pf+CF//BcaX4Z3njb9oSxGuaL4fjN5Ms/ihLlogAQWVQgJOGP4V9s/8GfP7a1xbP4u/Yt8baozXlvKL3SoZG/1SRHy5F5/2pB09KAP3zrzv9rfSLXW/wBl/wCImnXabkk8D6uMH/rymr0QHPIryn9uHxfbeBv2RPiV4kvJAsdv4F1Ysx7ZsphQB/N3/wAGqXim98L/APBTbVtOsnKpfaXcW0q7u3nxH+a1/UxGMJiv5gv+DSn4d3fjX/go14o8TiBvs+laBcT+Zjjd9pgXH1w1f0/ICq4NAC0UUUAfl/8A8HbB/wCNT+rcf8zZpX/o6vxW/wCCQv8AwW0/aT/4JsfDfVvAvwZ/Z2tfF9vqF15s1zcSMpjOFGOEb+7X7U/8Ha+f+HT2rf8AY2aV/wCjq+bf+DQv4Q/DD4gfs4+Krvxt4D0vVJo9UPly31rvZfkj4FAHkur/APB11/wUq8daZN4f8IfsW29lezoViuLNpHdD6j90K8D+GX/BNb/gq7/wWz/abt/ih+1R4Z17SdFmvUe61PxFBLDGtsMZWIuMHC5A5r+m60/Zl+AVjMLiz+Eegxuv3WWwUEV1+kaDo2g2q2Wj6XBbRKMLHDGFAoA5n4G/Brwl8AfhZpHwp8E2Sw6fo9ukECqu3cBgbj7mv5VPjTdS/Er/AIOFtV0jXQJI4fiEsMYbnCrHGw/XNf1tP0/4EP51/JV+2rpEv7O//BfW88U64Ps8eoeNobyNm+UbXEceR+KmgD+sHwLAlr4L0m2iHyx6Zbqv0ESitasX4b3yan8P9D1GM5W40e1kX6NCh/rWlqmpWmkafNqV/MscMEbSTSN0VVGST+AoA/H3/g7g/bhk+EH7K1j+zX4Q1X/iaeMr5IdUtI2+b7LtaQNx/tpH+ddJ/wAGon7Fdp+z7+xNJ8cNftVj1Px5dpcRmaPbJHHGHXHPQHK/lX5Gf8FpPiv8Vf8Agqj/AMFZrr4N/By1XVL2x1CXRPDsP2jEcvl5O7POOIyc16P4O/4IUf8ABxB4O8O22geDtVbTtPgjAt7S38bRxqg9MeXxQB/Rr+238DfCn7Tf7M/ir4Q+IbeO6h1LS5PLjYZzIFO3+dfznf8ABvZ8efEf/BO3/gq9qX7KXxJuvs0Guaq2g3UMzYjim8zbvOeh61ef/gid/wAHIjKQ/i66YdMHx0nP/kOvjv8Aa9/Ye/4KBf8ABMP4w6N8Yv2mtG+w65eXy3lrq0OpfaTLN97cXUD5u9AH9oNvMs8CzIchlBz9RT68p/Yj+Pmg/tM/sueC/jN4euFkg1rQbWX5Wz83kpn9a9WJwM0Afg3/AMHq3hyztPAnwn8TRRqJp9QvY3buQogr7c/4NnvFN94g/wCCWvgOxvZCw07SoYI8nooQV8G/8Hovj601aL4X/DmK6U3FndXE7RKc48wQ4/lX6Hf8G53w5u/AX/BK/wCGc17E0cmpaDDcsrDBGUHWgD7sooooAKKKKACiiigAooooAKKKKACiiigAooooAKKKKACiiigDi2++3+8f50UN99v94/zooAKKKKACkutW0vQNFv8AX9d1O2sbHT7WS5vr69uFhhtoI0LPLJI5CxoqgksxAAGSaWvz3/4Lr+KPiV8SPGP7M/8AwTz8BfDOXxhY/HL4oXlz4t8Kr4o/seHX9K0K2hvH028u/KlaCxeWaOe4aJGnMVowiVnKqQD6Y/Zn/wCCj37Fn7Y/xJ174U/su/GxfG+peGbOS51jUNF8N6kdIREmihIi1OS3SzuX3zJhYZXLLuYZCMR7dN/qm/3TXxT8Cf2uf21P2bP2tvhh+wL+3t8Fvg3pej/FbRdSh+Dfif4Azalb6Rp9zpFrHNLo91p9+Mwf6OcxTRFEOI1VDufyfdPix+1p4j+Gnj7VPAWnfsSfHnxdBp7RrH4k8H+E9NuNNvd8KSboJJtRidwu/YdyL86MBkAEgHxP+w//AMrDv7QX/YF8S/8AozRq/TyvyA/ZJ+PuteGP+C1/xp+Mlv8AszfFLWLrV9J1tZfA+h6HZy67poml0nL3ML3iQqqbAGKzPzLFgHcdv6afAj9orXPjb4kvvD2rfsrfF74fx2Wni6XVPiJ4dsbO0uW8xU8iJ7e+nZpfm37SoG1WOcjBAPTE++v+8P51Jef6/wD4CKctoqsGNwvB9P8A69PntxLJu84Lx0xQBVqax/17f7v9aPsY/wCfhf8Avn/69SW8Aik3eaG+XGMUAVW+83+8aKmNoCc/aF6/3f8A69H2Mf8APwv/AHz/APXoAB/yD2+v9ahq0IALZovNGP73pUf2Mf8APwv/AHz/APXoAhPSpr3qn+6aDZrjm5X/AL5/+vUlxCspX96FwPzoAq1Ja/8AHyv4/wAqd9jH/Pwv/fP/ANenQ2wjlV/ODe2KAIZ/9e/+9TasSWoeRm89Rk9MdP1pv2Mf8/C/98//AF6AC2/1Ev8AntUI6VahgCRuglDbvbpxUYs1xxcr/wB8/wD16AIamuP+PWL8P5UfYx/z8L/3z/8AXqSSFXhSPzQNvRvXigCrTov9cn+8Kk+xj/n4X/vn/wCvTktVV1bz14bPT/69AEd5/wAfB/3RUdWZ7cSS7zMF46Ypn2Mf8/C/98//AF6ACx/1jf7tfN//AAVOlGg/se33xSiJW4+H/jvwj4tt5AOYxYeILJ5W9v3DS8/0r6Ut4PKYsJQ2R6V4z/wUO8DL48/YG+N3hSOUNNefCfX/ALJheRPHYyzRHr2kjWgD2C8Xy72dAMBZ3AHoNxxTv+XD/gX9a5v4NeLIvib8H/CPxJiuQV8Q+FNL1NWx1E9nDLnr33V1HkL9m8rzR1+9+NAFWg9Km+xj/n4X/vn/AOvQbNe9yv8A3z/9egAvv9Yv+7UNWriASuCZQvHpUf2Mf8/C/wDfP/16AG2f/HwP9002X/XP/vGp4LcRSb/ODe2KR7VWkZvPXls4x0/WgCvU0P8Ax6y/57UfYx/z8L/3z/8AXqSOALC8fmg7urenFAFWipvsY/5+F/75/wDr0fYx/wA/C/8AfP8A9egAuP8Aj2h+g/lUNWpYA8SJ5oG3vjrxUf2Mf8/C/wDfP/16AI4f9cn+9Trr/j5b8P5VJHahZFbz1OD0x1/Wia2EkpfzgvtigDP1jV9O0DSbrXtYuRDZ2NrJcXcx/wCWcSKWZvyB/Gvhj4uftV/Fj4razNPYeJ9Q0LRSx+w6Ppd28G2PPBmdCGlkIxnJ2g8AAV9n/GjwdqXjL4Q+KPCeiP5l7qOg3UFnGv8AHIUyq9e5G38a/OZWZhlo2VujIy4KnuCOxB4I7Gv5v8es+zrA1MJgMPOVOjOMpScW1zyTS5W1uoqz5dm5JtOyt+5eDuT5VjI4jGVoKdWDikmk+VNX5kn1k7q+65Wk9Xf0X4U/tS/Fz4VazFdyeJ7/AFzStw+26Lq1486yR9/KdyWikx0IOM9QRX3RoGvaT4n0Gx8T6JdCSx1Cyju7WZsLmF0Dhj2GB17DB9K/NJ3Eal2BOOwHJ9vrX2d8Qf2ffiN46/4JweKf2bPC+pLYeL/EnwX1jw/pc00xi+x6le6ZcxQ7n4KbJZ0BI6Y9qz8Bc+zzGYjFYCvOVShCKknJt8km7KKb2Uld22vFtJXd78YcnynC0cPjKMIwqyk4uyS5opXu0t3F2V97SSb0Vsb4Z/8ABRnQvjtqVtP+z3+yL8bPHngS68RQaTa/FzQdA0q38PXO+ZYXvbb7dqVve3tjE7NvuoLZ4ysbtGZAOe+/Za/aJ0z9qTwh4j8W+HPCF/pq+HPiT4m8IXEFxcLcGaXR9TlsXuFZFUBJTFvVSMqDgluteHf8E+P+Ch37Dlr+zV8JfgD42+PXgf4c/ETwxoPh/wAF6x8H/GWvQ6Vr+ka1awWtk2mrp9yY7iQeeNsTpGUkUqynBOPjrxd8UfgXofwAtf2ffjr8Kfhfq1r48/bU+LzWPi748a9Pp/gXwxPYavfzNJqbRELc3E0bvHa2krxpLIHfzFaJc/0ofhR+vy211JJ5KWkxdfvL5TZH1GOKsXdneyTfu7KZtq4O2FuOfpX4heAB8Lvih/wT28JaR8VP2yPgTF4d+FH7RHxCsfBPwv8AjZ4ludP8D+PdBtLjyYbJGuLiS8QWUN4slh5pumgEsQeOQBGX0L9of4m/sqaf44/Z/wD2yNW8C/C/xZDcfDf4b6f4f/ZJ8aeKJV8feA1ub+H7HeeFIklP2qcm6t3njmt0kmh0xCbiNWaIAH6A/F39uTw98F/hLrnxM8Z/AP4kWd7bfFhPh14N8KalpllZ3/jbWZ72KzsZdNaW68n7DdSSl47md4gIopHZRhVb0T9njxl8afiF4GHiH45/s36r8MdeXUJ7c+G9R8TafrDSwoEKXMdxYM0ZR9xG1gkimNsrgqT+PPxL+Dfwe+MmkeKrf4p/DzRfEUbf8Foo9DZNYs0uAdPv5dJjvrPDZ/dTpGqyR9GVBkcca37R3w18E/sw/FL9o34IfAfwt4R8DfCCP9pz4cWXxI0K6kvtJ8K2uhXXgEzCPVJNMieW00641d7NZ5cLGWlVZ2EMkpoA/aF7S789ovsk27JO3yznGevSsP4i+NdG+FngnVviB4ttNVaw0XT3vLyHSdDudQvHjXHyw2tsjzTyEkBY41LMT06kfkRf/CjSrv8AZi8UaB4H/aR+Ccnw78U/tOfCODw/4S/ZV+Jd1faZ4I1CbXI4dTmtLjan9nSXKPbzLFAQsckTyBVZiW/Uoaf+yt/wTn/ZflSC/wBF+Gfwn+F2iTNukml+z6TYpKzHBZnmmkeSTAUF5ZpZQqhmcAgGL+zP+2/8J/2lvFHiL4Uad4Q8eeCfG3hvTbbVdS8EfE7wVcaFqj6XcySRW+owRylkubV5YZYy8TsY5E2SLGxAPr1fDv8AwTM+OHwI/bj/AGm/G37fC/GL4ct418SeA7bw78PfhPoPj7TdU8QeFfAtpfvdC71eGzuJPJvr28ukuJoQCtov2W3eRpVkr7ioAKKKKAFT/WL/AL6/zooT/WL/AL6/zooA7OiiigAooooAKKKKACiiigAooooAKKKKACiiigAooooAKKKKACiiigAooooAKKKKACiiigAooooAKKKKACiiigAooooAKKKKACiiigAooooAKKKKACiiigAooooAK5T46nHwV8XE/wDQs3//AKTSV1dVdb0bT/EWj3Wg6tbiW1vLeSC4iOfnjdSrD8QTQB/KP/wb3ED/AILD3wz/AMxi/wD/AEplr+sKvl/4Ef8ABHT/AIJ8/s1/FZ/jZ8Hf2fdN0fxLJNJLJqUN1csxZ3Z2OGlK/eYnpX1BQAUUUUAfDH/Bwp+yje/tV/8ABOTxZ4b8Pab52raaFvLWQLlkVVfd+pH6V8I/8GX/AO0Jbaj8PfiT+zFd3O240GSHVlgkb5h507ocD8K/cHxr4Y07xn4U1Dwtq8CyW1/avDNG3dWFfzleG/D/AIg/4IOf8F1P7R8Q2kml/Dr4ham0VrNt/cyW8jSGFPlz90uhxigD+kmvyx/4O7iP+HVzZ/6Hix/9Jryv0+8L+IdL8V6Da+IdEvEuLW7hWW3mj+66kZBFcH+1T+yJ8A/20fhr/wAKi/aM8A23iLw/9tS7/s+6kkVfNRXVWzGyngO3fvQB/Ob/AMEBf+C5H7Ov/BNH4Gap8Pfi94X1K9urrUHmjazuQihSTjqjV+gV3/weF/sMwwNJb/DXX5GXog1FOf8AyDX0x/xDl/8ABIXqf2RNF/8AA69/+P05P+Dc7/gkPE4eP9kXRgy9P9Ovf/j9AH46/wDBVn/g4u+Ln/BTDwC37M/7Jnwa1jR9F1y4WC9aXfNcT54CAqqgAgkHj8a++/8Ag2C/4JMePv2Kvhfq/wAffjfpDWniXxjBGkVjcJh4IVJZW9cku35CvvP4Bf8ABML9h79ma8W++D37Pfh/S5VXCyfZmmI9x5rPzXvkEENtEsFvCsaKuFVFAAHoAOlACt0/EV/LZ/wWO/5WRJP+xq0P/wBJbOv6k26fiP51/LZ/wWO/5WRJP+xq0P8A9JbOgD+m/wCGNzDa/DDRbm4lVY10mEs7HAA29a/lg/4Lk/tHeIP+CjP/AAVqtfhD4MaS7sdF1K30WG1hbcjkTF3cDudsmD9K/qZ8BaRY+IfhDpmiapF5lvd6JHFOgYruVkwRkHI4PY18+eDf+CKP/BODwF8aY/2hPDP7OGlweLIr1rtdVa7unbziMFsNKVJ47igD1P8AYa+Amh/s1/sreCfg/oFqsVvpOgwBo1XpI481/wDx5zXrWxf7o/Kkghjt4VgiQKqKFVV7ADpTqAMX4g+E9P8AG/gjVvCOo2aTQ6lp01tJG65B3xlf5mv5NtLv/Ef/AASP/wCC5U2mx3z2Wmw+KGj1CQ8K9pO5fA7cNsr+uOvmL9o//gj1/wAE+/2sviS3xb+O37Puma54gbGdSluLiOQ4II/1cqjqB2oA+g/h5430X4keCdL8d+Hp1ksdXsY7u1ZWzmORQy8/Q18T/wDBxn+0bpPwE/4JhfEOwm1H7PqXijQbrTNLO7BMjxMv49a+1Ph94A8JfCTwPp/gTwbpy2ek6PZpbWNuJGYRRIoCrliTwB3Jr8Bf+Di79pDWv+Ch37e3gH/gml8BLltchs/Etpbapb2TH93dPMkUqsTgcDcfwoA9u/4M+/2Sb3wN+z/4l/aQ8RaW1vfa9efZ9PkZfv2xYvkE9vkWv2qryn9if9mzw5+yX+zV4V+BPhq1WODQdLity20ZZlQAk46nivVqACiiigD8v/8Ag7YOP+CT+rD/AKmzSv8A0dXh/wDwZt4/4Zq8Xf8AYUP/AKBHX6z/ALUn7JfwI/bL+GUnwf8A2h/Alv4h8PzXUVxJp9zJIimSM5Vsxsp4PvWN+yX+wZ+y9+xB4fuvC37NXwwtPDdjeTeZcQWs0rh2wBn947elAz2KiiigQEZGK/m7/wCDtz9l7VfhR+134G/a90fTPJ028WC2kkjU4NxBO8xJPrtZa/pEr46/4LefsE237e37EHiLwDpelLceIdMt5L3QW43LKAC2M8ZIWgDu/wDglX+0PYftPfsLfD34r2V2sv2rQY4ZNrZw0JaHB9/3dcz/AMFnv2v9N/Y0/YM8bfEqW6Vby40qSxsY92GLzYiyPcb8/hX5r/8ABqT+2vd/DfWvFf8AwTq+NupyWOvaJqkzaPZ3qsCsagZUYBXlg7df4q/YD9q79ib9nH9tfwjF4E/aO+HsPiLSYZA62dxczRruByD+7dc80Afz0/8ABqN+y3qf7R37cevftQeO7WS4g8OwTXlnfTfNuu2kRDz67ZH/ACr+mwIoGNorx/8AZI/YO/Zd/Yd8NXfhL9mj4WWPhmxvpvNuY7SSVzI2c8mR2PX3r2KgBNi/3R+VfmJ/wdO/seD9o3/gn1qXxC0jS/M1HwKH1NXjj+d1Vfu/Tiv08rB+JPw38H/FvwXqHw+8e6LFqGk6pbtBfWc2dssZ6g4xQB+P3/Bod+23/wALK/Z41r9lvxfrQk1bwvMsml27ScpaKShGPqyV+zs0ixQtK3RVJNfOf7K//BJ/9hf9i7x9dfEv9nD4IWPhvWL23aC5urS8uW3ozq5BDysvVR27Vs/8FF/2tvA37F/7KPij4zeM/EEWn/ZbBotNaTd+8uGU7UGAecBvyoA/nu/4OC/iHqn7cv8AwWK0n4EfDbfqEGmtaae1rH82J0YrL+oFf0ifss/BzSfgH8BfDPwn0NVW10XS47eNVHTAFfgz/wAG137F/jv9s/8AbX8Uf8FOPjJ4dnbTRr013pFzcKDHPctIXkUAknAIXt3r+idF2KFA6UALRRRQAUUUUAFFFFABRRRQAUUUUAFFFFABRRRQAUUUUAFFFFAHFt99v94/zoob77f7x/nRQAUUUUAFeC/t2/sTa1+1npPgf4g/CP4rR+APit8IvGK+J/hr4zuNH/tC2inMJhutPvLcOjS2d3BiOUI6upVGG4K0b+9VYsgSkgH+eKAPjX4M/sU/tjfFr9rTwH+2d/wUf+KXwyutY+EOmatbfC7wL8GdH1KDSbS91KJYLvVry41NzPcTmAeWkAURxYVlO5WL/Xs1vAYmzCv3f7vtVsWM443r+tNlsZvKbLr900Afl/8AsQIjf8HDf7QSsgI/sbxLwR/000av06WKJOUiVfotfmP+w3GZP+Dh39oIKf8AmC+JP/Rui/41+oBsZuzr+tAEKAeYvH8Q/nUt6Mz8j+EUq2UwYEuvBzT7i2klk3oy9Mc0AVsD0qax4mbA/h/rR9hn/vr+tSW1tJDIXdl+7jigCqwG5uP4jRgelTGymJzvXr70fYZ/76/rQAL/AMg9vr/WocD0q0LaQWrQFlyaj+wz/wB9f1oAgIGOlT33JTI/hNBsZzxvX9akubeSbaUZflHegCrgelSWoxcrgev8qd9hn/vr+tOgtJY5RIzLx6UAQ3ABnbI/ipuB6VPLZzPIzhl5NJ9hn/vr+tABa/8AHvJ/ntUAAx0q3DbyRxOjMvzVGLGccb1/WgCHA9KmuP8Aj1i/D+VH2Gf++v61JLbu8KRqwyv+FAFXA9KWIATJgfxCuQ+PXxq8D/s6fDyf4jfEG8k+zrMtvY2Nooa4v7lgSsEQOBuIBYsSFVQWPAr431b/AIK1/GuXWmuvD3wp8JWmniTMdnfSXVxNtz0aVZIxnHdUxnsa+jybhTPM+ourhafuJ25m0k32V9/lourPjeI+PeGeFcRHD4+s1Uavyxi5NLu7aJdru76Jn31eDNxyP4RUeB6V4/8AsnftleDf2rrS606HSG0HxNptus2oaHNceckkOQv2i3kwDJHuIDAgMhZc5BDH2b7DP/fX9a8jH5fjMrxUsNioOM47p/o1o0+jTsz6HKc2y/PMBDGYGop05bNX+aadmmno00mgsAPMbj+Gsfxn4ZtvGng/WvB92gaPVtGvbKRSOolt5I8f+PVuW1vJCxZ2XkdqLK0mjvoJCy/69f1YVxnong3/AATQ8RSeK/8AgnX8CdZueZv+FS6Hb3Ge0kFqsDD8DER+Fe6kgafz/e/rXzj/AMEkrG4T/gnh8N9NL5OmprGl7TnI+y63f2+Pw2Y7fQdKwf2ov2xvGtj4uvvhl8ItYGm2ulzNbalrUEatPcXCn50iZgRGitlSwG5ipwQOvy/FvF+UcG5Z9cx7bu+WMYpOUna9km0rJK7baS9Wk/oOG+Gsy4ox/wBVwaWivKUnaMVtd2Ter0SSbfom19SZTOOKUgelfA/hT9qb9oLwjqialB8T9R1JFbMtjrkn2q3mHoQ3zLn1UqRX2n8FfiZpPxt+HVj4/wBEh+z+eWivrF33NaXKHEkW7HzDoVburKcCvB4J8TMi42rzw1CMqdaK5uSdtY3Sbi02nZtXTs9dE1dnr8VcB5xwnShXrOM6cnbmjfR7pNNJq9nZq601adkdZf8AMi5H8NQ4HpVq5t5JmVkZeB3qP7DP/fX9a/Rj4gbZgfaBx/CaZKAZnyP4jU9vayxS72Zfwpr2czSM4ZfmbNAEOB6VNB/x6S/57UfYZ/76/rUkdu6QPEzDLUAVcD0owPSpvsM/99f1o+wz/wB9f1oALj/j2h+g/lUOB6ValtpHiSNWX5f8Kj+wz/31/WgCOEDzk4/ip10M3LZHp/Knx2cySK5ZflbNLPaSySmRWXn1oAr4HavJ/iv+xf8ACr4ua5ceK4rm+0HVrlt95c6T5ZiuXPV3icbd57spXPU5PNevfYZu8kY9Seg9/pXxr8cP+CrP/COeJ7rw3+z/AOC9N1e1tZWik8Ra5LKYLplJBMEMTKTH6SO43dQuME1/qLT4+pvA1cLGvCNpPm0UXsnzXTi3qlyvmav0uefjvEDDeHfLjqmKdGUrxSjdyns2uVJ8yWjfMuVO12m0ey/Cf9i34T/DLW4fFN5cX3iDUrWQSWcurLGsNu46OsKDBcdmYtg8gZ5r18gN94Zz1z3r45+A/wDwVSj8QeJrfwx8fvBum6Pb3kyxR+I9Ell+z2zE4BuIZS7LHnGZEY7c5K4yR9mGymH/AC0T6+vvUx4Do8AU1gaWFjQjLVcuql0bcrtya0T5ndK2ysGB8QcP4iRljoYp1pRsmpXThfZcrSUU9WuVcrd7NtMhnsLKeS31uext5Ly3Ty7e8ktkaaJS2dqyEFlGewIqrNouj3OnSaRcaPZSWc1wZ5rSSxiaGSUvvMjIV2s5f5txG4nnOea5fxd+09+zN4C+JWn/AAE8dftI/D7Q/HGqTQx6Z4O1jxtp9rqt48xAiWKzlmWZ2csoUBCWJGM5Fbvgbx34F+J+nXur/DnxtpeuWum63faPqFxpl0JVt7+znaC6tnx92SKVWRlPQig9AuXmkaRfp5d9o9jOv2xbrbPp8Lg3AxibDKf3nA+f73A5q3qVpaTazb61LaQte28LJb3r26NPErfeVZCN6g9wCAak+wzf31/WpLm2kmkDIy9Mc0AZp0vTDnOl2nzXovG/0OLm5GP3/wB3/W8D959/jrVnTrS1huriWG1hRrxR9rZIUUz4UIPMIH7zCgKN2cAY6cVzGq/G34I6F4J8RfEvW/jd4Ns/DfhDULmw8WeILjxNarY6JdW7rHPBdz+Zst5Y3ZVeOQq6swBAJAqP4AftA/Aj9pzwOPin+zp8ZvDPjnw79slsn1jwrqyXkEdzGEZ4XZPuSKroxVsHa6nGGBoA37bw/oGn2C6LYaBp8FnFcrPHZwadCkKyqwZZAioFDhgCGxuBAIORU17Y2WpWsljqVlDcwyjEsN1AsqPzn5lcFTyAeR1GattZTFiQ68nNAsZz/GnryenvQBm6F4P8I+HUmvvD/hPSdPmkjMck1hpUEDsmQdpaNFJGQDjOMirlR+Htf0DxRoD6z4W8QWGqWZleP7Zpl7HcQ71OGTfGzLuB6jORUlABRRRQAqf6xf8AfX+dFCf6xf8AfX+dFAHZ0UUUAFFFFABRRRQAUUUUAFFFZPjmaW38I6hNC+1ltmKsO3FAGoJFPIDf98mjzB6N/wB8mv42/hF8S/8AgpB+1/8Atcal8A/gx+0X4mbVLzVZxaxS6uEUAPjHOBxX2c3/AARP/wCDgyKE3Nr8c9aZtm5F/wCEmi54zjrQB/St5i+v6U6v5YfF37Tv/BeH/gjX4ysdY+OV3qF5pbXCGSa+ka8hkjBG4F4yApwCOTX74f8ABJf/AIKg/DP/AIKefs723xY8JBbPVrc+TrekSSAvbzYyR2yBnrQB9XVwXxp/ag/Z8/Z1trS7+OXxi8O+E47+Qx2Umv6tFaidgMkL5jDJx6V2etatp+haVcaxqt0sFtaxNLcTO2AiKMlj9BX80/7Xfxa8e/8ABbf/AILUaL+z/wCE9Vuv+EK8K6r5TLCxMOImMjvxx8wG38KAP6TPA/jrwh8SfC9n408CeI7PVtLv4/Ms7+wuFlimXJGVZSQRkGtaub+EPw20D4RfDbRfhz4Yslt7PR9PitoY16DaoyfxOTXSUABOBk03zF9G/wC+TXzz/wAFSv2sNM/Y2/Yq8b/Gq7vliuLHR3js134ZpZSIgR7gvn8K/kl0X/gon+3va+OE+NkPxz8XnSYvESs0rXZ8gFnZvKPGPuhuPagD+2IMGGQaK8J/4Jt/tOaH+1t+xv4H+MWjX/2lrzRoYb6bdnNzHGqyf+PZr3agAJwMmvI/GP7eX7HPw/8AiM/wj8a/tL+CdL8TRyrHJoN94it47pXbopjL7snB7V62/wBw/Sv5Qf8Agr3d3a/8HDesRLdShf8AhLbH5fMOPutQB/Vzp+oWeq2Ueo6fcJNBMgeGWNgyup6EEdRUrMq9TXL/AAR4+EPhv/sDwf8AoAr5y/4Lm+MvFXw//wCCWPxj8YeCdfutL1Sx8H3UlnfWcm2SJhE5BU9jxQB9aeYPRv8Avk0eYPRv++TX8f8A/wAE/vAf/BWT/go/ruqaL8Bf2ifEs82lruuPtGtiP1PfHpX1TP8A8ETf+DhC3iaaz+OmstIoyqt4mi5/WgD+lfzF9f0p2a/lf8UftV/8F3P+CM3jDT9V+P8AeahdaXLMoaXUJjdQyoG5G+MhVb61/QF/wSh/4KM+Bv8AgpP+yzo3xq8Nr9n1NbOGLxBp5bJtrzy1Mi5wM/MTQB9M3t7a6daSX17OsUMSlpJJGwqgdya83+Hv7ZP7LfxX8cXXw2+G/wAfPCeua9ZttutH0zXIZriI9wUVif0r0m7tLe+t2tbqIPHIMOrdGHpX82P/AAVj+Hnjr/gjh/wV78N/tc/CWW6g8L+KL9JrxfMbymkZ2WVcegTBoA/pSByM4org/wBmX45eFv2j/gb4b+Mng7UFubHXNKiuEkU/xY2uPwZWrvKACiiigAooooAKKKKACiiigAooooAKKKKACiiigAooooAKKKKACvCv2yP+CcP7I/7eq6GP2m/hZa+ID4dumuNKkkIVopGUAnOD2Ar3WigDn/hd8M/CPwe8B6b8N/AmnfZNJ0m3WCxt92fLjUYA/KugoooAKKKKACiiigBHPH4iv5a/+CxjI3/ByHIQ6/8AI1aH1YD/AJdbOv6lSARgivO/FP7Jv7OHjXx2fib4q+DWg3+vmRZP7WurPdNuUAKd2eoCjH0oA6L4TnPw30M5/wCYXD/6DXRVHbW0FnAttbRKkaKFVV6ADtUlABRRRQAUUUUAV9T0621awm068j3RzRlJF9VPWvnP4Uf8El/2GPgv+0HdftReA/gxZ23ja8vGurjWnYM5lLbiw+Xg596+lKKABQFG0UUUUAFFFFABRRRQAUUUUAFNlijniaGVAysuGVh1p1FAHzLF/wAEh/2D7b9pV/2trL4LWlv46kvEuW1iBgpMigAHAX0A719NKNowKKKACiiigAooooAK8h/a5/YZ/Zw/bj8GRfD/APaR8CR69pMM4mjtZH2gOAQD0Pqa9eooA4H9nL9mf4N/spfDaz+EvwN8G2+h6DY/8e9jaqAq8Y9Pau+oooAKKKKACiiigAooooAKKKKACiiigAooooAKKKKACiiigAooooA4tvvt/vH+dFDffb/eP86KACiiigAqez+5J/ntUFT2WSkgA/zigCAM2PvN/wB9U2Vm8pvmb7p/iqYWtyBjy/8Ax6my2tx5TZj/AIT/ABe1AH5hfsPE/wDEQ5+0EAf+YN4l/wDRui1+ne5v7zf99V+Yv7DiM/8AwcO/tBBf+gL4l/8ARui/41+n32W4/wCef/jwoAahbeuWP3h396kvCRPwT90U1La4DqTH/EP4qkuoJpJdyJn5fWgCvub+83/fVTWRJmbJP3f6037Lc/8APP8A8eqS0gljlLSLj5cdaAIGZtzfM33j3pNzf3m/76qQ2txuJ8vv/eo+y3P/ADz/APHqAHKT9gY5/i/rUO5v7zf99VYEMv2RoivzZ9feo/stz/zz/wDHqAIyzY+83/fVTXhIKYP8NNNrckY8v/x6pbqGWQqY1zgetAFbc395v++qktS32hcse/ej7Lc/88//AB6nW9vMkyu6cD3oAZOWEzAMfvetM3N/eb/vqppredpWZY+Cf71N+y3P/PP/AMeoAfbE+RJk/wCcVAGbH32/76qxBDKkUiuvLdOfaoxa3IGPL/8AHqAI9zf3m/76qecn7LFg+n8qi8ibONq/99Cp5oZWt40VfmXGefagD4V/4K73utt4t+H+nzGT+zRpOpTQ/wB03PnQqx92CbB7A+9fIFfq5+1D+zB4e/ae+HX/AAhuuXZ0/ULK4+1aHrEcYkazuNu07lyN8br8rrkEgAghlBr4h1f/AIJk/tg6bq76bY+DdD1KBZNqalZ+JoEhcf3sS7ZF+hUn61+78C8T5LSyGnhK9WNKdO6ak1FNOTkmm7J72ave6elrH8r+KPA/E1biqtmGFoTrU63K04JzcWoRi4tK7VuW6drWa1umlg/sB3msWf7YfgcaLu3XF1dQXir/ABWrWcxlz7AKG+qiv1ARnKAl26f3q+fv2LP2ET+zbNcePvHWq2ereLb21NtG1jk2umW7EF44mcBpJHwA0mFG0bVGCxP0L9luf+ef/j1fn3HudYHOs7VTCO8YRUeb+Zpyba8ley72bWlj9c8KeG8z4b4ZdLHrlnUm58vWKcYxSdtLvlu1fS6Ts00PsSTI2T/DTbIt9vtxuP8Ax8x9/wDbFPtIZYnYyLjj1os7acX0DMnH2iM/e/2xXxJ+mHzr/wAEtW+xfsi2umSsy/2X8UvHloydfLEXi7U/lz/FgEc96+YPiDoOreFviDr3hvXUZbyz1q6S43Z+YmVmDe4ZWDA9wwr6h/4Jj28x/Zh1RVX7vxq+I3t/zNupV3nx1/ZP8A/HQx65qFxdaTr0MIiTVtPVGMsYPypNG2FkCjODkMOmccV+T+LPA+YcZZTRlgGvbUXJqLdlJSSuk3opXimr2W6bVz9F8OeLcHwvmVVYxP2VVJOSV3Fxbs7LVrV3td7WTPguvsT/AIJ+aLqmmfBa/wBXvFZbfVvEUs1irfxRxxRxM49i6sPfZWX4T/4JweHLHVUuvG3xGvtWtY23fYLGxWzEoHZ5C7sB67cHHcV7R4a8WfCyKS18C+EPGXhkSWqLbWej6frNuXiVeBGsauTx6dfqa+G8LPDvOOF8+WZ5240WoyhTg5xcpSlZN+63GyV7JNttp2VtfrfEPjjK+IMp/s/KuaqrqU58skoqOqXvJO7druySStd306e+JEi4P8NQguTgFiT0GTzU93DLI4KJ04PbFeb/ALWGu+IPB/7PHibXNClkgufssNsLiFvmhSedIpHBHQhHYA9s5r+gc2zCnlGVYjHVE3GjCc2lu1CLk0vN2PxnLcFUzLMKOEg0nUnGCb2Tk1FN+WpV8T/tifs/+CPED6DqnjiS6uIJDHc/2Vp8t3HCw6hpEG0kdwpbFdt4P8e+D/iNoq+KfAniS31PT5pGVbi2Y/Kw6o6kBo3HdWAPNfm0iqiBEXaqjCqOwr2/9gPxBrOn/G648MWUrGy1fQ7h76HPy74NrRSfUElc+j4r+e+D/GrOs54oo4HHUKapVpKEeRSUoN6Ru3JqSvZS0jvzK1uV/tPE3hVleVcP1MZhK03UpR5nzcvLJLWVkopxdrtavs97r7K3N/eb/vqpoSfsspz/AJxTfstx/wA8/wDx4VJFDKtvIjL8zdOfav6UPwor7m/vN/31Rub+83/fVSfZbn/nn/49R9luf+ef/j1ADrgn7PFg9h/Kodzf3m/76qxNDK0MaKvKjnn2qP7Lc/8APP8A8eoAbESZkyx+96066LfaGwx7d6WK2nWVWaPo396luLeZ5mdE4PvQB5v+1nf6/p37MHxCvfDUkovY/B995LRE7lUx4cj3EZc1+UKrGihIgNqjChegHav2gutLF9bSWV9YxzwzRtHNDMAySIwKsrA9QQSCPQ18GfHL/glZ8V9A8STX/wCz81jrWhXE2610m+1NLa8sFJ/1W6T5JkXorblbAAIJ+Y/q3hvxBleW062Exc1TcmpKT0T0s03srWur6O767/gvjJwjnmdVsPmGApyqqEXCUYq8lrdSUVq73s7JtWWltvlF1jdGSYDYww2e471+kGofE34w/Dr/AIJZ6l8YPAlvLdeOvDvwD1HWPDcMlr573GpWujzy2QMZB8wlo4TtI+bp3rw74F/8Erfirr3iS31L9oJrHRdBt5Q11o9jqaXN5qCg/wCq3R/JCjdGbcWxwoBO4fellYPpsUMGnWkdvHbqqW8UKhViVQAqqOgAAAA9BR4kcQZXmVOjhMJNVHFuTktUtLJJ7O+7tpouux4NcI55ktbEY/H05UlOKjGMlaT1u5OL1VrWV0m7vS1m/mX/AIJo/sm/sm6D+xR8IfF/hT4UeFdfvvFXhnw/4t1zxtrGhwX2qeJdcuYYb6bWru7uUknnu3upHlEjOWiYKqbBGoX5s+E/x21n4WfsreJ/C/gf9pbU/AnjDxd+2J8VLXw/pvhX4Rt438Q+I1h13Ubie20/TwSqFFVZpbqVHiijQh9hkVx9TeB/+CWv7O3wk8b2Xin4G+L/AIreAdDs9e/thfhr4H+MGsab4U+1m6a6fbpUcxhhhklZi9tD5cDhipj2nFReL/8AglT+zD4p0rT1sJfHHh3XdF+IXiTxjoHjTwj48udL1vSr/Xrpp9ViguoAu22uMhGgKsNiLzuUNX5SfvR8sWP/AAUI/wCCgvxP/Yy8M+N9Ji1bQ18M/GPxX4H+OXxX8KfBkatrWi2ejzSRWepr4VMs/kecfKF8ENx9kKSFE2uCnofxm/bE/aD8O/G34P61qv7V8Phb4C694G8K3ul/HDQ/grDrXh/x3rV3drDd2+qXRmb/AIRmKdHtBajase+9kZrkmHyT7Da/8ErPgH4a8Ax/DX4U/Ev40+BNMXxnq/iWdvBXxu1ixuby61MxG9S5uBI0t2jtEHUzM8sbtIySqzk1Y8Z/8Eqv2VvGUPhLwffjx8vw+8HaPo+nab8Ibf4naovhG4i0pkfT/tWmGUpcmN4opG3tid4laYSsM0Afnp+0v4i+Mvx98Eax4R8K/EbQfAem6f8A8FbrfwZNZeF/hxpUcOpiS80ya2v75PLC3lzDcs88kkwdrpiomLBVx7F4q/bv/bu/Zz8efFT9l7xR8cJviN4kh+OXhXwR4Z+IEfwXOoaho1jqHgyTxFqF8uhaDDu1OeOO3eKKI5AJErlo4nQ/XJ/4JqfsxmG8gHhvW9t9+0dD8b7j/ion58WRPC6yj5eLbMCf6P06/MM1N8R/+CbH7K3xh8QfEDxV8RPB2sXGq/ELxVoXie+1ix8UXVje6NrWj6fHYadqOl3Nq0c2nXEUMePMjcltzhso7IQD5G1b9vr/AIKJ+EPgv4q0TQLTVrzVNF+Mvw50T4efE74wfAXUfB0fiqx8Qan9lu9OvNOuYIFaS0kXy5bqyVN0VxCVEb/M33ZoXwe1/Vf2em+Bn7UfiDSvi5fXWh3Om+MLu+8L2+lWXiXc0haNrGN5IreJl2RbdzDC7mJJauI0v/gnf8MV+GkPww8d/Fb4teOLe3+IGh+MINT8e/FC71e8hv8ASbqG6tEjedSsUHmQqXijRRISSTu+avWfit8M7P4w+AtY+HniDWvEOl22tQ7JtS8I+J7rR9StmEiyrJb3lo6TQOHRTlW5GVYFWYEA+H/+CXmi6P8ADn9vL43eDvFf7Kvhn9m/xTr3w58M6lo/wP8AAt1ZXej6lo1rdXsD+JhdaesdtJdPdXDWUkKQQGJLeFiZvO3r99V5T+zb+xL8JP2Y9a174iaNrfjPxZ408SafbafrHjn4leNrvxBq8thbySywWUc9y223tkkmlfyYUjVnfc+4gEerUAFFFFACp/rF/wB9f50UJ/rF/wB9f50UAdnRRRQAUUUUAFFFFABRRRQAVj+P/wDkTNS/69W/lWxWP4//AORM1L/r1b+VAH8n/wDwQa/5TP2P/YYuv/Rgr+tS1/49o8D/AJZj+VfyHf8ABGD4nfD74R/8FeIfGXxN8Yafoel2+rXRmvtSulhiXMg6s5AFf06r/wAFR/8AgnxBZrIf2vPABCxgnb4qtM9PTzKAOf8A+CwHwF+H3x4/YJ+IXh7xtoVrcNHoNxLa3UkQ3wOsbEMp7HivxR/4M0PiV4mtf2r/ABr8JFvG/sptBe8MQb5TIAwz168V9V/8F2v+Dhj9mOz/AGbfEX7Nf7Nfi238SeIvE1jJaSX+nzeZDbxsu3crr8pPXjJrkP8Ag0C/YN8d/Djwrr37XHjvw/caeutwtaaT9qiKmeArkOueo+Y0AfoB/wAF6/2tj+yN/wAE6PG3jCyuxFe6tZNpFmyt8ytcqYtwx3G6vzh/4M8/2X38QXfj39sLxbZteT6lcC0s7q4GSkqnezA+pEgBroP+Dz/4v3vh/wCFHgP4SRXLLDrl01xJFu4YxMjCvrb/AINfvhfZ/DP/AIJk6LHbWyo2qatLeO23li0cQ7/7tAH6NUUVi/EPxppXw78E6p441yXy7PSbGW7upD0VI0LE/kKAPwm/4PCP2zrm7uPCf7EvgvU2F9eXUV1qkMUn+tjdTtUgf7Tx/iKg8T/8EZNLh/4N5YL5PDKw+MrdYvEmoMIf3rFEkjCg9ek+T9K+O/Clp4j/AOCxf/BdVJb95L/QYfFkzx3AyyxWcDM8R9s+XGPxr+pLUvhb4c1H4OzfCe70uGbTZNFNi1rsG1lEe0cfUA0Afin/AMGfH7bN5qXgvxN+xr431Py7jRbxbjRbWWT5iHLmUY9mK1+7AORmv5PfDF/4r/4I2f8ABd+7WSSS3sJtekKo3yxi1upfMTjoQAoFf1caNqllrel2+rabOstvcQrLDIrZDIygg5+hoAsv9w/Sv5Pf+Cvn/Kw9q/8A2Ntj/wCgtX9YT/cP0r+T3/gr5/ysPav/ANjbY/8AoLUAf1N/BH/kkPhv/sDwf+gCvl7/AIL/AH/KI343f9iVef8AomSvqH4I/wDJIfDf/YHg/wDQBXy9/wAF/v8AlEb8bv8AsSrz/wBEyUAfk/8A8GZGf+FqePP+vcf+gPX9FI6V/HP/AMEb/wDgrR8U/wDgmF4s17XPhn8ELbxhLqybJo5/O/dcN/zzdcda/Qq4/wCDwr9rnyW2fsK6ahwfmxd8e/8Ax8UAfo5/wcZ+D/hZ4j/4Je/ELU/HdpZte2WlSSaJJKo3/aNv8J656V8K/wDBl9c+LP8AhVfjq33yf2R/azHvtEmwV+e/7an/AAWC/a5/4K7+PNK+BPxN8U2PgXwtJeL52nvMlvDGWOCWaQ5PA7sRxX9EP/BE79iL4H/sTfsYeHfCvwZ8V2PiAavptvfatr1lcLKt5cPChZgyfLjPpxQB9h1+ZH/B0x+ydYfHn/gnhqXxLjsPO1LwPcC7tfLX5yJCiNj6AGv03rxf/goT8N7L4q/sdePvB1/brJHN4euZGVv9iNn/AKUAfm3/AMGiv7Zl/wDFj9lLVf2efF+rGS/8H6k0Wmws+WW3KpIeP953r9jK/mD/AODUj4kXPw6/4Kb+LvAc92y2N9a3UK2+flEizSqD9eB+Vf0+UAFFFFAASAMmm+an96vlP/gsz4u/bA8EfsP65r/7Dkt4vj6O+gFj9gskuJPKKybsI6MDzt7V+LB/ag/4OnweNU8Wf+Edaf8AyLQB/Sn5qf3qPNT+9X81n/DUH/B1B/0FPFn/AIR1p/8AItH/AA1B/wAHUA/5iniz/wAI60/+RaAP6U/Nj/vUodWOAa/mr/4ag/4OoP8AoKeLP/COtP8A5Fr7p/4IN/GL/gst8Qf2jfEGmf8ABRC61uTwzHoBbTf7S0OG1T7Rk9DHCmT+JoA/WyiiigAopskixLvc8VH9utv+eq/99CgCaioft1t/z1X/AL6FH262/wCeq/8AfQoAmoqH7dbf89V/76FH262/56r/AN9CgCaioft1t/z1X/voUfbrb/nqv/fQoAmoqH7dbf8APVf++hR9utv+eq/99CgCaioft1t/z1X/AL6FH262/wCeq/8AfQoAmoqH7dbf89V/76FH262/56r/AN9CgCaioft1t/z1X/voUfbrb/nqv/fQoAmoqH7dbf8APVf++hR9utv+eq/99CgCaioft1t/z1X/AL6FH262/wCeq/8AfQoAmoqH7dbf89V/76FH262/56r/AN9CgCaioft1t/z1X/voUfbrb/nqv/fQoAmoqH7dbf8APVf++hR9utv+eq/99CgCaioft1t/z1X/AL6FH262/wCeq/8AfQoAmoqH7dbf89V/76FH262/56r/AN9CgCaioft1t/z1X/voUfbrb/nqv/fQoAmoqH7dbf8APVf++hR9utv+eq/99CgCaioft1t/z1X/AL6FH262/wCeq/8AfQoAmoqH7dbf89V/76FH262/56r/AN9CgCaioft1t/z1X/voUfbrb/nqv/fQoAmoqH7dbf8APVf++hR9utv+eq/99CgCaioft1t/z1X/AL6FH262/wCeq/8AfQoAmoqH7dbf89V/76FH262/56r/AN9CgCaikVgwytLQAUUUUAFFFFABRRRQAUUUUAFFFFABRRRQAUUUUAFFFFAHFt99v94/zoob77f7x/nRQAUUUUAFWLJZWSTy4ZH/AOucbNjj2FV6/NP/AILcfFD9krTP20/2Z/hv+298dda8G/CuHw74413xlHpWtazYDULho9PstMjaXSR5ybZvPk3HCgIwY4bawB+l7NexqDMk8e7p5sbLn8wKZLNN5TfvW+6a8D/4J2/Bv9if4cfBW58Y/sEePLjxV4L8Yagt9Jrn/Cyr7xNDNcQx+SVSa7mlaBkyVeL5WDDDKCAB3Xjn9rH9lP4b+JL7wN8R/wBqP4a+Hdc0/auoaLr3jzT7O8tWaNZFEkMsyuhKOrAEDKsD0IoA+B/2HXdf+Dhz9oLa2P8AiS+Jf/Rui1+nnnTf89mr8lf2O/j78BvC/wDwXW+OXxi8TfHHwbpvhHVtJ8QJpPirUPFFpDpt60smkeWsVy8gikLeXJgKxz5bf3Tj9Nvhr+0V+z18Z9YuPD3wb+P/AIG8YahZ2v2q8sfCvi6y1GaCDeE810gkZlTeQu4jGSB1NAHapNMXUGVvvCn3ckizYWRh8vao0il3rmJvvD+GpLuORpsrGx+XsKAI/Om/57NUtnJI8xDuzfL3qLypv+eLf981JZxyLKS0bD5e4oAjM0wYgSt19aPOm/57NQ0U24/uW6/3aPKm/wCeLf8AfNAEwkk+xM+87s9c+9Q+dN/z2apVST7EyeW27PTHvUXlTf8APFv++aAAzTY/1zVNdySKV2ORx2qAxTEY8lv++anvEdipVGPHYUAQ+dN/z2an20srTqrSMetM8qb/AJ4t/wB80+2jkWdWaNh16igBJpZVmYLK33vWm+dN/wA9mp00cpmYiJvvelN8qb/ni3/fNAE1vJI0MjM5JH+FeJ/tlftdW/7LngyyfSrCHUvE2uNIui6fcyHyY0jx5lzNtwxjUsqhQQXY4yAGI9st0kWGQNGwz049q/P/AP4K0aHrlr8a/CviC7tpBp954RNtZyFTt86G6laZPriaJvXBHpX1PBmV4PN+IKWHxWsNW1tzWTaX6vyTPhfEjPMx4f4Rr4vBO1S8YqVr8vNJJy7X6K+zafkec3X/AAUB/bJu9Y/tk/HW9hbdlbO20uzW1Uf3fKMJyPqSfU19ffsQftvXH7Slld+BPHtja2Pi/SbUXLSWKlLfVLUEI0yISfLkRmXemSMOrLxlV/N+vfP+CZ2ja1qv7XOl32lW8jwaboOpXGpMmcJC0PlLu+srxgDuR7V+wcW8M5HUyCtVhRhTlTi5RlGKi7xV7OyV09rO+91qfzv4f8acUUuLMNRnialWFacYSjOUpq0nZyXM3Zx+K6torPS5+k3nTf8APZqdHLKZVBlb7w700RTY/wBS3/fNcd8evjP4e/Z5+Fmp/FbxTZSXEenhEs9PjcI99dSNtigVj93c3VsHaqs2OK/nzD4etiq8aNGN5SaSS6tuyR/XWMxmHwOFnicRLlhBOUm9kkrt/JHaXczpOUWUj5egpgnlIyJ2/Ovy2+IP7c37VfxE16TW7r4xaposbOTBpfhmb7HbW69lAUb3x/edmJ/SvYP2M/8AgoP8RX+IGmfCn4+eIf7a03WrqOz03xBdRot1Y3LnbEsrqAJYnYhCzDchYHcRnH3mO8Ns8wWAliVKE3FXcYt3stXa6SbXbr0u7X/Ksr8Z+GMyzaODcKlOM3yxnJR5bt2XNaTcU31s7bysrtfd9nJI7sHct8vem2U0pv4AZW/4+U/9DFOs45Y5WEkTL2O4d6bYxTfb7f8AdN/x8Ifu/wC0K/PT9dPnf/gl7NJP+yXJqgkI/tD4s/EG62r0G/xbqmAD3HGc9819FeZJ9i37zu3fe/Gvm3/gk3JLf/8ABP7wHrAjY/2peeINSJ9ftOv6jOD+If6V9JeXJ9i2bDu3fd/GgD5r/wCCgvxQ8SaLo+i/DDR9Qmt7bWoZ7rVpIpCrTxRuI0gJH8BYszDvhQeMg/J/2W2ChRAo28rtXG33GOlfcn7WX7OeqfHLwzY3/hUxx69ojSGyjuW2R3cMmC8Bb+BsqrKx4zkHAbI+XdP/AGVv2jtS1gaHH8HtWhk8za1xeeXFbp/tGUtt2j2JPoDX8f8Ai9w3xVjONqldYepWpTUFScIymklFJx91PlfPzNp2bvzdT+mPDPPeHMLwrCi60KVSDk6ilKMW25NqWrV1y8qT6W5eh9RfsYfFTxN8S/gyv/CU38t1faHqUmmyX0rEvcxiNJImc/xOFfYT1O0E5JJr0vxR4f0nxn4cvvCfia1+1afqVq9veW7NjfGwwcHsR1B7EA9q5v4CfBWH4F/DS08FR3a3l5JNJd6teQoQkty+0HaDzsVVVFzyQueM4rsZiLeF7i5IijjQvJJK21UUDJYk9AByTX9NcLYHMKHCeFwube9VVNRqKVpdLOMnqpNLST1u03d3ufgvEGLwdXiLEYjLfdpuo5QtddbpxWjV3rFaWVlZWPkPxN/wT2+KNprbW/gbxZoupae7/uJtUuHtbiNc9JFCMrEeqnnrgdK9o/Zo/ZksPgDb3er6lrKal4h1CEQXV5bxlIbeEMG8mIN8xBYAszYLYAwAOfOfiN/wUNmsdblsfg/4Os72zhYour608oFx/tRwoVIT0LNkjnArU+C37eFh4z8SW/hT4qeGrXRZr6YRWmrafcO1r5rHCpKkmWiBPAcMy5POByPx3h3EeCeS8WKWBqP23M1CUnN0oyenuSat1spSbj/LLZn6bnlHxWzThxxxlP8AdWTko8iqSS196Kd+l3GKT7x6H0R503/PZqmikkNtIxc5HQ/hUJhnB2mBuOPu1yfx98c6v8MPgb4m8b6MNl9Z2G2xkYf6uaV0hST/AICZN31FfvmYY6hleX1sZW+ClGU5W3tFOTt52R+PYPC1swxlLDUviqSjFX2vJpL8WZfxK/an+Dfwp1Z/D3inxlJJqUX+v07S7V7qWD2k24WM/wCyzA+1XPhf+0V8KfjDctp3gbxj5t9HGXfTby3e3udo6sqOPnA7lC2O+K/Plmkd2lmleSR2LSSSMWZ2JyWYnqSeSTyTU2m6xq/h3UrfxD4fvpLW/sJluLG5jbDRSqcqw/r6jI6Gv5apeP3ECzT2lXDU/q99YJS51HynzWcrdeVJ9luf0HU8GsneXclPET9vb4ny8nN5x5bqPlzNruz9Op5JBbxsrkEjk/hUPnTf89mqj4P8QSeM/Aeh+LhbbDquk2160aLwhliVyB7Ak1e8qb/ni3/fNf1ZRrU8RRjVpu8ZJNPyauj+dqtOpRqSpz0cW0/VaMdFLKZVBlb71OuZZVnZVkYDimxRyiVSYm+9/dpbmORp2ZY2PToK1MxnnTf89mqa0d3Lb3LfL3qHypv+eLf981NZo6liyMOO4oAhE02P9c350edN/wA9mpBFMBjyW/75pfKm/wCeLf8AfNAExkk+xK+87s9c+9Q+dN/z2apWST7EqeW27PTHvUXlTf8APFv++aAAzTf89m/OpbySRJQEcr8vaojFMf8Ali3/AHzUl5HI0oKxsfl7CgCPzpv+ezVJaSSNNhpGPy96j8qb/ni3/fNSWkcizZaNh8vcUAMeaYOwErfeNJ503/PZqHil3tiJvvH+Gjypv+eLf980ASo7PZSF2J69agqdFZLKQMpHXrUFABRRRQAqf6xf99f50UJ/rF/31/nRQB2dFFFABRRRQAUUUUAFFFFABWP4/wD+RM1L/r1b+VbFY/j/AP5EzUv+vVv5UAfxk/sX/sX2n7en/BQi6/Z7vfEy6THqmrXP+mMpO3Ensp9fSv1vt/8Agy+8HHy5JP2hoWU4J/cy/wDxuvgb/gg1/wApn7H/ALDF1/6MFf1qWv8Ax7R/9cx/KgD8mf2YP+DSb9iD4P8Aia08W/FK+u/FF3ZSrLDGbiXyWcHPzKSAR+Ffqp4I8D+FPhz4ZtfB/grQLXTdNsY/LtbOzhWOOJfQKoAArWooA/nw/wCD2fTbyXxL8INTjjZoYob1ZG7KSExX6U/8G9GqWmqf8E1fBr2mMRqUb2O1f6Yr5h/4O/P2d7r4gfsW6b8ZbKyaaTwzq0EbCNcsscsihj9ABXUf8GkvxvtPHv8AwTym8C3l6rahoviCYNDu5WExQgH6ZzQB+rlfnb/wcoftrx/sm/sA65peiasseu+J4vsNnarJh5IZGEchH/AS/wCVfohJIkaF5G2qO9fzB/8AB0T+1Xq/7Xv/AAUG0f8AZL8C37XVn4durWwtjbvlJJ5gpII9Q8xH4UAfOv8AwRO/4K0fCj/glj8QvEXxQ8b/AAUuvFmraxZ/Z7eaGRR9n+dG3DdIuDhSOPWv0sP/AAewfCv/AKNK1z/wMh/+P19ofsN/8EHf+CemjfsqeC7L4wfsseHtW8SNoNq2sXt9ahnecxDfz/vZr1j/AIcZf8Eqv+jNfCP/AIAigD+Z3/gtJ/wVR+E//BTn4t6D8aPhv8GbzwfrdjbPDql1NIpa4xtEZBWR+gB9Otf0pf8ABDj9sXT/ANsj9gDwX43W+SS903TI9MvV3Dfvtx5JYjrz5efxry/9vL/ggv8A8E9Nd/ZX8W2/wj/Zk8P6H4gg0159Pv8AT7MLKrqPugj1zX5t/wDBoV+2Pe/C748eJv2MvHuptE2rSSDS7OZtvkzRndIMH3R/zoA/o3f7h+lfye/8FfP+Vh7V/wDsbbH/ANBav6wWOUJHpX8n3/BXz/lYe1f/ALG2x/8AQWoA/qb+CP8AySHw3/2B4P8A0AV8vf8ABf7/AJRG/G7/ALEq8/8ARMlfUPwR/wCSQ+G/+wPB/wCgCvl7/gv9/wAojfjd/wBiVef+iZKAPx8/4NB/hF8MPin8TvHFt8RvAmk60kNuDEupWMc2z5ZP74PpX79H9in9k912v+z54RIP8J8P23/xFfhD/wAGa+q6VpfxR8ePqmqW1srW42m4uEjz8r/3iK/oaHjnwYBj/hLNM/8ABhF/8VQB8Lf8FR/+CHf7HX7Uv7POvf8ACIfCDRvDviax0+WfStQ0XT47Y+aqk/P5ajcPrmvzs/4NSP25Pib4K/aL8U/8E/fiD4nuL7RtKmuo9Ka6mL+TJC7xCNc/dXKDjgV+un/BSb/goh+z3+xv+zZ4i8Z+LviTpX9oNpcyabpsF2sktxIVICgLnHPqRX4X/wDBrD8JPF/xy/4KX+Lv2joNFuIdBWe9v/tzKQhkkmklEf1+YUAf02q25Qw71w/7TOoWmm/s9+Nbq9I8seFtQB3H1tpK7eJSkaqewr5h/wCCxvxmtfgT/wAE8fiL8QLm6WLydJMCNu53S/u8f+PUAfz3/wDBttpd7rH/AAV11abTlLLDdXkkm3+79pk5r+rCv5w/+DPj4E6n4v8A2qvHn7TlzaNJYwxTWUbsvCyPmTOfXEgr+jygAooooA4D9pP9pL4RfspfC+6+MHxv8Tx6PoNnMsdxfSqzBWYMQMKCeintXzQf+C/P/BLkf83G2H/gLcf/ABqvZP8Agob+wr8PP+Cin7Nuo/sz/FHX9Q03SdSuo55LrTADKrIrgYyRx8571+cx/wCDNP8AYSPP/C7vHf8A45/8doA+tP8Ah/3/AMEuP+jjbH/wDuf/AI1QP+C/X/BLg/8ANxtj/wCAlx/8ar5K/wCINT9hI8/8Lu8ef+O//HKUf8Gaf7CR5/4Xd48/8d/+OUAfWf8Aw/7/AOCXH/Rxtj/4B3P/AMar1X9lH/gpp+xx+2b40vPAf7PfxVtdc1SxtPtNxbwwyqVj55+dF9K/Pb/iDU/YRPH/AAuzx56fw/8Ax2vpz/gl/wD8EE/2cP8Aglr8WtW+Lnwe+IXiTV77V9M+xTw6xjYqc8jDnnmgD7wooooA+W/+C0fjPxT8Pv8AgmV8WvGPgrX7vS9UsPC08tnfWNw0UsTBTyrKQQa/kPH/AAUV/bqHA/az+IH/AIVl3/8AHK/tN/a1/Zt8J/td/s9+Jv2dfHOo3VppPijTXs724s/9aiMMZXkc/jX5b/8AEGT+wQOP+Fy+OP8AvlP/AI5QB/P1/wAPFf26v+js/iB/4Vd3/wDHKP8Ah4t+3V/0dn8QP/Cru/8A45X9Aw/4Myv2CD/zWXxz/wB8p/8AHKT/AIgyv2CP+iy+Of8AvlP/AI5QB/P1/wAPFv26v+js/iB/4Vd3/wDHKP8Ah4r+3V/0dn8QP/Cru/8A45X9Av8AxBlfsEf9Fl8c/wDfKf8Axyj/AIgyv2CP+iy+Of8AvlP/AI5QB/P1/wAPFv26v+js/iB/4Vd3/wDHKP8Ah4t+3V/0dn8QP/Cru/8A45X9Av8AxBlfsEf9Fl8c/wDfKf8Axyj/AIgyv2CP+iy+Of8AvlP/AI5QB/P1/wAPFf26v+js/iB/4Vd3/wDHKP8Ah4t+3V/0dn8QP/Cru/8A45X9Av8AxBlfsEf9Fl8c/wDfKf8Axyj/AIgyv2CP+iy+Of8AvlP/AI5QB/P1/wAPFv26v+js/iB/4Vd3/wDHKP8Ah4r+3V/0dn8QP/Cru/8A45X9Av8AxBlfsEf9Fl8c/wDfKf8Axyj/AIgyv2CP+iy+Of8AvlP/AI5QB/P1/wAPFv26v+js/iB/4Vd3/wDHKP8Ah4t+3V/0dn8QP/Cru/8A45X9Av8AxBlfsEf9Fl8c/wDfKf8Axyj/AIgyv2CP+iy+Of8AvlP/AI5QB/P1/wAPFf26v+js/iB/4Vd3/wDHKP8Ah4t+3V/0dn8QP/Cru/8A45X9Ax/4Myv2CB/zWXxz/wB8p/8AHKT/AIgyv2CP+iy+Of8AvlP/AI5QB/P1/wAPFv26v+js/iB/4Vd3/wDHKP8Ah4r+3V/0dn8QP/Cru/8A45X9A3/EGV+wRjP/AAuXxz/3yn/xyj/iDK/YIxn/AIXL45/75T/45QB/Pz/w8W/bq/6Oz+IH/hV3f/xyj/h4t+3V/wBHZ/ED/wAKu7/+OV/QMP8AgzJ/YIJx/wALm8cf98p/8coH/BmV+wQTj/hcvjn/AL5T/wCOUAfz8/8ADxX9ur/o7P4gf+FXd/8Axyj/AIeLft1f9HZ/ED/wq7v/AOOV/QL/AMQZX7BH/RZfHP8A3yn/AMcpT/wZk/sED/ms3jj/AL5T/wCOUAfz8/8ADxb9ur/o7P4gf+FXd/8Axyj/AIeK/t1f9HZ/ED/wq7v/AOOV/QN/xBlfsEf9Fl8c/wDfKf8Axyj/AIgyf2CP+iy+OP8AvlP/AI5QB/Pz/wAPFv26v+js/iB/4Vd3/wDHKP8Ah4t+3V/0dn8QP/Cru/8A45X9A3/EGV+wR/0WXxz/AN8p/wDHKB/wZk/sEH/msvjj/vlP/jlAH8/P/DxX9ur/AKOz+IH/AIVd3/8AHKP+Hi37dX/R2fxA/wDCru//AI5X9Av/ABBlfsEf9Fl8c/8AfKf/AByl/wCIMn9gjOP+Fy+OP++U/wDjlAH8/P8Aw8W/bq/6Oz+IH/hV3f8A8co/4eK/t1f9HZ/ED/wq7v8A+OV/QN/xBlfsEf8ARZfHP/fKf/HKP+IMr9gjGf8Ahcvjn/vlP/jlAH8/P/Dxb9ur/o7P4gf+FXd//HKP+Hi37dX/AEdn8QP/AAq7v/45X9A3/EGT+wRjP/C5fHH/AHyn/wAcoH/BmV+wQf8Amsvjn/vlP/jlAH8/P/DxX9ur/o7P4gf+FXd//HKP+Hi37dX/AEdn8QP/AAq7v/45X9A3/EGV+wR/0WXxz/3yn/xyg/8ABmV+wQDj/hcvjn/vlP8A45QB/Pz/AMPFv26v+js/iB/4Vd3/APHKP+Hiv7dX/R2fxA/8Ku7/APjlf0DH/gzK/YIH/NZfHP8A3yn/AMco/wCIMr9gjGf+Fy+Of++U/wDjlAH8/P8Aw8W/bq/6Oz+IH/hV3f8A8co/4eLft1f9HZ/ED/wq7v8A+OV/QL/xBlfsEf8ARZfHP/fKf/HKUf8ABmV+wQf+ay+Of++U/wDjlAH8/P8Aw8V/bq/6Oz+IH/hV3f8A8co/4eLft1f9HZ/ED/wq7v8A+OV/QL/xBlfsEf8ARZfHP/fKf/HKP+IMr9gj/osvjn/vlP8A45QB/P1/w8W/bq/6Oz+IH/hV3f8A8co/4eK/t1f9HZ/ED/wq7v8A+OV/QL/xBlfsEf8ARZfHP/fKf/HKP+IMr9gj/osvjn/vlP8A45QB/P1/w8W/bq/6Oz+IH/hV3f8A8co/4eLft1f9HZ/ED/wq7v8A+OV/QL/xBlfsEf8ARZfHP/fKf/HKP+IMr9gj/osvjn/vlP8A45QB/P1/w8V/bq/6Oz+IH/hV3f8A8cqxpX/BRT9uc6lCJP2sPHzK0gDK3iq7wf8AyJX7+/8AEGV+wR/0WXxz/wB8p/8AHKfa/wDBmj+wZbXC3EXxm8cbkbI3Rx//ABygD9Uv2Z9Rv9W+APhHUtTu5Li4m0C3eaaVyzOxXkknrXdVjfD3wZZfDzwVpfgjTZ3lt9Ls47aGST7zKowCfetmgAooooAKKKKACiiigAooooAKKKKACiiigAooooAKKKKAOLb77f7x/nRQ332/3j/OigAooooAK8O/aI/4KNfBz9kX4ir8Ofi74F+LsK3WiwahpfiTwz8I9X1vR72aV5UFjHc2EUqm6QxgvE6qAJY/mO449xqxYySpHII55E7/ALuQr29jQB8Pf8Ebfgl8SfBetftBftNat8CdY+EPgv43fFdfEXw8+E/iCzWzv9JsorXyJtRurNSRYz3shEjW5+ZBEOq7GP1v4i+Evwn8UanceIvE3wp8K6lqFxhri+1DwzZzzSlVCgs8kRZsKoHJPAA6CuiCv1Ktk8scHk02VW8pvlb7p/hoA/K/9i3wD4C1X/gvv8evBeqeA9DutHs9H8Qmz0m60eCS1gKS6NsKRMhRCMtyAD8zf3jn9OvCvw6+HngW8l1HwR8PPD+i3E8PkzXGkaDbWskke4NsZoo1JXcAcE4yM1+bf7D2T/wcOftBYH/MF8S/+jdFr9PNrf3W/wC+aAJEubguoMn8Q/hqS6nmjl2o+Pl9KhQMHUlT94dvepLwEz8A/dHagBv2q5/56f8AjtSWk8skpWRs/LnpVfa391v++amsgRMcg/d/rQA03VwGIEnf+6KPtVz/AM9P/HaYQxY/K33j/DSbW/ut/wB80AWBNL9kaUt82fT3qP7Vc/8APT/x2nKD9gYY7/1qHa391v8AvmgCQ3VyBnzP/HaluppYyojbGR6VWKtj7rf981NeZJTA/hoAb9quf+en/jtOt7iZ5lR3yPpUO1v7rf8AfNSWoYXCkqe/b2oAdNcTrKyrJwD/AHab9quf+en/AI7STAmZiFP3vSmbW/ut/wB80AWIJpXikZm5Xpx7Vw/x4+B3gL9ozwFJ4B+I9lI8ImE9jfWbBLmwnAIEsTEEA4JBUgqykgg9u3tgRBICp/L2qAK2Put/3zW2HxFfC141qMnGUXdNaNM58Zg8LmGFnh8TBTpzVpRaumn0Z8PXf/BInxaNY8vT/j9pbabv4luPDc32kL7qsuwt9GA+lfUH7Nv7MHw7/Za8GyaL4Ha4vNQ1Jo31rXdQC/aL1lB2rhfljjXJ2xrwMkksxJr0Ha391v8Avmp5wTaxAD0/lXu5pxZn+cYb6viq14aXSUY3t35Ur97PS+trnyuR8AcJ8OY14vA4ZRqa2k5Sk4p78vNJ200utbXV7MZ9quf+en/jtfNf/BVLQtc1/wDZjt9WsY3kg0PxZaXmpBV+5A0U8AkOOyySp9N2a+kNrf3W/wC+ah1LR9M1/T7jQtd0uG8sb6F7e9s7qHfFPC42vG6ngqQcEV52T5g8pzSjjOW/JJO3ddV62vZ9GexxFlCz7I8Rl7ly+1g4p9n0duqTtddVofjLWv8AD3w1rfjP4heH/CHhqBpNQ1LXbO3s1XOd5mQ7uOgUAsT2Ck9q+1PiJ/wSQ8A6l4hlvfhl8WtS0GwlbculahpQ1BbcE/cjlEkblR2D7j6setem/sx/sOfC39mm/fxXZXV54g8SSQtCuuanAsf2WNhh1t4VysW4cFiWcjjcASD+4Y/xH4fp5fKphpOdRrSHK1Z9OZtctl1s35XP5jyvwb4urZvCljIRp0VJc1RTi04p68qT5rtbc0Y+dj3OO4a4upm35UuxXA689azta8TDwxot/wCJb2fbDpun3N3I20cLFC7k/wDjtXbEESNlT930ryP9u3xcPh9+xB8ZvHRkZG0n4U+IriFl6mX+z51jA9y7KB9a/n0/rY5//glxpF34Z/4JvfAuxmASa4+Fuk3067eklzF9pbr7y17758v2Tzd3zZxnHvXE/s/eCJfhn8AfAfw3ljKt4e8D6NphXb08iwgjx+a12gO6w+Xn5v60AN+1XH/PT/x0U37RMP4l/wC+RTdrf3W/75oKtj7rf980AWLuaWN1EbY49K81/a21LVrb9m3xg+nzOHbS1jkMfBELzxrL+Gwtn2zXpF8CZFwD930qjquk6frml3Wi6xp63VneW8kF1byKdssbqVZT7EGvNzrA1M0yfE4KEuWVWnOCl2couKfyvc7srxcMBmdDFTjzKnOEmu6jJNr52sfmf04xUd2Ea0kEh+Xy23e3Fe8fEn9gj4raBrcn/CrRb+INJdybWO4vUt7yBeySCQqrkdN6nnqQDWp8GP2DfGN14gt9b+NaWtlptrMJG0W1ulnmvSDkRyMmUjjP8WCWYcDGc1/EFLwy44rZp/Z7wU4u9nNp+yXeXtPhaS10bb2Sb0P6xqcf8I0su+uLFRatdRTXtH5cnxJ9NUkt20tT6Z+Gup63e/Dfw7e61I322bw/YyXnmD5vNNuhbOe+af8AEbwTYfFL4ca34B1q4aOHVbGS389VyYWwGSTHfa4Vsd8VqbWzny8eyrgD2HtU0IP2WUY/ziv7k+o0amW/U8R78XDklf7SceV39Ve/qfyV9bqU8b9ao+5JS5o2+y07q3o9j82/iJ8PPGfwl1+Tw18QtFksLiNiI7hlP2e6XtJDJ911PscjoQCCK0Pg/wDBbxn8c/EMeg+FbGVbEyAalrTRn7PZxfxNv6M+M7UBJJx0GSP0MmgS4h+zXECyR5z5ckQZc+uGBFLHEIolgii2xp9yNE2qv0A4Ffg1L6PuWRzT2lTGylh735ORKbX8rqKVvJtQTttZ6n7BU8aMwll3s4YWKrWtz8zcU+6hy39E5td7rQXTdPtPDuhWOh6NH5VrZ2sVtaxtztjRAqj8gKk+1XP/AD0/8dp1wD9niG09PT2qHa391v8Avmv6EhCNOKjFWS0SXRH4vKUpycpO7e7JYrmdpVVpOrf3aW4uJkmZEfAHtUcKsJlJU/e9KddBjcNhT27VRIfarn/np/47UtrNLIWEjZwPSq21v7rf981NZAgvkfw0ANF1ckZ8z/x2j7Vc/wDPT/x2owrY+63/AHzRtb+63/fNAFgzS/ZFlDfNn096j+1XP/PT/wAdpzA/YFGP4v61Dtb+63/fNAEn2q4H/LT/AMdFSXc8scgWNsfLnpVcq2Put/3zU16CZlwP4f60AN+1XP8Az0/8dqS1nmkl2u+fl9Kr7W/ut/3zU1mCJ+QfuntQA17m4DsBJ/Ef4aPtVz/z0/8AHaa6tvb5T949vem7W/ut/wB80AWFkeWzkZznqKr1NECLKQEdzUNABRRRQAqf6xf99f50UJ/rF/31/nRQB2dFFFABRRRQAUUUUAFFFFABWf4r0641fw7eaZabfMmgZI93TNaFFAH4I/8ABLj/AIN7P29v2TP+Ci1t+0x8UI/DX/COxahNM/2PUZWm2u4I+VoVHT3r97IFKQIjDlVApwVRyFooAKKKKAPF/wDgoJ+zTpH7WX7JXjT4KajYJPNq2h3KaerqDtuvKYRN+DYr8G/+Dab476v+w5/wUd8b/sU/FO5NsNamazsY7hiirNGWcsAfUFR+Ff0mMMjGa/E//gsz/wAEUf2nta/bd8Jftx/8E+/BhutYjvo31yys5PJ27JN5clQclgdv0FAH7HfFNfF918OtWT4eQwTaxJYyDTluJCsbSFTtyQDgc+hr8G/2Wf8Ag2//AG7b/wD4KTRftT/tYzeHZvD/APwlU2sSNa6lNNLnzWliXDQqMA7B16V+5v7N2qfErWfgl4bvvi/4XOj+Im0uNNW04ybvKlX5DzgZyFDdO9dyFUchaAIbG0isbVLWFAqouFVegHpU1FFAEOoWNtqVnJY3sCyRSDbIjdGGelfz+6V/wbu/8FG/gD/wUxk/as/Z0u/DK+HG8ZSajD9o1OaOVLWWctImFhI+67YGcV/QRQVU8laAKOhDURosK6siLcCEecsbZAbHPYd6/lK/4K+f8rD2r/8AY22P/oLV/WE/3D9K/k9/4K+f8rD2r/8AY22P/oLUAf1N/BH/AJJD4b/7A8H/AKAK8f8A+CrH7NnxD/a7/YF+JX7O/wAKxa/294o8N3Flpv22Rki8x42UbiqsQMn0NewfBH/kkPhv/sDwf+gCuoIzwRQB/L58L/8Ag2R/4LafBO/uL/4UeN/DeiNccSGx8RXcZYc9dsA9a7c/8EIP+DiOUeXJ8f8AT9rcH/irb7/4zX9Jexf7o/KjYv8AdH5UAfzmfDH/AINS/wBv/wCOHim3n/bH/aSmWxEqtL9n1Oe9x64WYKB+dftx/wAE+v8Agnl8Cv8Agnf8EtP+EPwc0VVaG3jGpalIn728mVArSHrjJGcZ7174FA6LRQAZr8Tv+Du79sg6D8I/DP7HvgbVFk1jxTqBbUrFG+YxEqIuBnq6kV+1Gr3N1Z6bNdWVm1xNHGWjhU4Lkfw/jX4aXH/BHf8Abz/bo/4LAf8ADTn7aXw8/s/4e6Heg6TG1wXE0CFnjXBUDIck/jQB9pf8G5v7Df8Awxx+wBoMmtaW1rrvi1f7U1eORPmVmOxRzz9xEr9Aqp6Dotj4c0a10LTYRHb2dvHBCi9FVFCgfkKuUAFFFFABRRRQAUUUUAFFFFABRRRQAUUUUAFFFFABRRRQAUUUUAFFFFABRRRQAUUUUAFFFFABRRRQAUUUUAFFFFABRRRQAUUUUAFFFFABRRRQAUUUUAFFFFABRRRQAUUUUAFFFFABRRRQAUUUUAFFFFABRRRQAUUUUAFFFFABRRRQAUUUUAFFFFABRRRQAUUUUAFFFFAHFt99v94/zoob77f7x/nRQAUUUUAFWLIkJIR/niq9T2Z/dyf57UAIL6UjOxabLfS+U2UX7pqIEY60kpHlNz/CaAPzI/YclKf8HDv7QRC/8wXxJ/6N0X/Cv0/+3S/3Fr8vf2Hz/wAdDn7QX/YF8S/+jNGr9PMj1oAmW9lLBSi8nFPuLqSKTYqr0zzVZCPMXn+IfzqW9OJ+f7ooAX7dL/cWpLa5eaQoyj7ueKq7h61NYnMzY/u/1oADeyg42L1o+3S/3FqFmG48/wARo3D1oAtC5c2zTkDINR/bpf7i0Kc6e31/rUO4etAExvpQM7FqS4uHhKhVHzDvVQkY61PfHBTP900AH26X+4tc78TfjZ8Nfgt4e/4Sz4reMbLRbBpPLhkuNzSXEmM+XFGgLyt3woOBycVuE54U89q/Ln9uT4na98T/ANp7xS2q3Uhs/D2pzaLotqWOy2ggbYxUdmkkDux6kkDooA+q4Q4bXEmZOjUm4wguaTW+6SSvdXd92mkkz4PxC4ylwXk0cRSpqdWpLlgnflTs25StZtJLZNNtrVK7Ptjwx/wUu/ZM8T62ui/8J1faX5j7YrzXdBntbYknA3S/MqD3faPUivcodU+0QpcW7RSRyIrxyRybldSMhgRwQRyCOCK/Fuvvb/glJ8TNf8UfCnxB8NtZu2nt/CepW50l5GyYbW5SRvIH+ykkTlR2D4HAAH1PGHAeCyXLXjsFOVotKUZNPRtJNNJdWrpp73urWfwvh34qZlxHnSyvMqcOaak4SgmtYpyakm5bxTaaas1Zp3uvrSG4eSN3Kj5f8KjF9KRnYtFqcwS4/wA8VACMda/LD92J21CRRudUUAZZmbAA7knsAO/avD/Gv/BST9k3wbrLaCPH93q00LFLi40DRZry3RgcECYYV8eqFh71yH/BUn4o694K+BeneB/D15Jb/wDCYau9nqU0LbWNnFD5skWRyBIxjVsdV3DoTX58AADAH/1q/UODeBcHnWX/AF3GzkoybUVFpaLRttp9bpJJbXvqfhviN4pZjw1m/wDZmW04OUUnOU03rJXUYpOPSzbbe9kla5+vnwm+PXwx+Ofh+TxN8KvGNnrFtC6pdrGGjmtXIyFlhcB4ye2Rg44Jrq0vZWkVCi/M2K/J79kj4p678IP2ifC3iXRbqRYb7VrfS9Yt1Y7bqzuZVidGHfaWEi+jICO9fqhr+v6J4P0e+8T+J9Ujs9O0m3lutQvJs7YYYlLO5xzwB0HJ6CvneLuF/wDV3MoUaMnOFRXjf4r3s4u272s0le+1z7Dw944/1wyapXxMFTqUnadtI2tdSV22k1e6bdrN3szTnupIpdiqvSmfbpf7i18X63/wV709vFjHQPgJcXGgrJtS4u9e8m+ljzw/lCJo0OOdhc+hYHNfVnwx+JXhD4v+AtL+JXgXUGuNL1a3823aaPZIjAlXikX+GRHDKwyeRwSMGvNzThvOslowq42i4RlondPXezs3Z26O3Xsz3Mi4y4a4lxFShluIVScNWrSi7XtdcyXMr2V43Sur7q/UW1w8zFWUcDtXzh/wVanm1r9hzxP8O4bhYrjxvr3hzwnb/NjP9pa5ZW0n4CFpWPspr6LsCPMbn+Gvlf8A4KWaff8AxG1n4Jfs/wCgMx1DxJ8TrzWvLjzlodE0HUL9eg/5+TaL/vMvrXzmKrSw+GnUjHmcU2l3aV7fM+sw9ONavCEnZNpX7Xe/yMn43/t6/EXxH4nvNO+DWoR6JocNw8drqC2qSXV4oOPMzIpWJDgbVC7tvJOTgZfwx/bu+MvhDWYj8QtRHifSWYLdQz28cd1EmeXikjVcsBztcEN0yCc14fasGto2UYHljj04qQsFG5jgDkn0r+D6niPxtWzT+0Pr1RSvflUn7NeXs78nL0s077u71P6+p8C8J08v+pfVIONrcziud+fPbmv5pq3Sy0P020jxLY+INJtde0S5jubK+to7izuI87ZYnUMrD6g/h0rjfjJ+0z8OPgdHBB4uup7jULqPzLXSNNiElw8eceY25lWNM8BmIyQcA4NUv2WdN1PSP2cvCFjrCNHN/Y3mBHzuWOSWSSMf9+2WvkD9pi91a/8A2hvGcutFvOj12SGMP/DAgCwge3l7SPrnvX9M8deIGacO8F4PMsPSSr4lQ+JNxpuVPnlp1a2Sfm3e1n+C8I8G4DPOKsTga9RulQc9rJzUZ8i16J7tr0Vr3X1X8L/23/hF8TNfg8KtBqOh6hdyCOyj1mOPyriQnhFljYqrnsrBcnABJOK9b+3TDgxqPY54r8vbttlrI+9l2oWDr1UjnI9x1r9KPBN5q1/4K0fUPEAYX82i2s2obuomMCNIT6c5Jrl8JPEDNuMo4nDZjFOdJRanFWupXVpLZNNaNWTT20u+jxI4My3heVCtgZNQqcycZO9nG2qe9nfW97PrrZbkFzJNLsZV9aR7yRXZAi/K2K5qw+L/AMJZdc/sOL4p+G2vfu/ZF1y3Mm7+7jf19utdBOCk8iuNp3Hg1+wYfGYTFpuhUjO2j5WnZ9nZuzPzOth8Rh7KrBxvqrpq67q5J9ul/uLWD8QvjF8PfhRoq618Q/FNtpsczMtrCwaSa4YDkRxIC747kDAzyRWxGolkWLdjcwXPpk4r88vjl4/1f4m/FrXPFerzMw/tCa1sIWbi2tYpGSONfQYG4+rMxPWvz7xM47nwNlNOph6anWqtqClflSik5SlZpu10kk1du99NftOA+EI8XZlOnWm4UqaTk1bmd3ZJXTSvZu7Tta1tT7B8J/tsfADxdq0eiweL5dPmmYLC2tabJaxSMeg8w5RSf9orXqRvZ1O1o1BFfmCwDKVZcg8EHvX2h+wt4/1jxn8GJNJ127kuJfDuqNp9vPKxZmtzEkkSknrsDMg/2QvpXyHhj4r5hxXmzyvM6cFNxcoSgmk+XVxkm5a2u000tGmru59Lx94dYPhzLlmGAqScE0pRnZtX0TTSWl7Jpp73v0Oj/aW/af0j4A6RZ2lrpS6pr+qRtJY6e8xSOKIcGaVhkhd3AUcsQeQASPDvDX/BRb4qWmspN4x8F6Ffaa0n7630yGW2nRf9h2kdWI9GGD6jrVX/AIKEeHdZsfi9pPiq6idrDUvDsNvZz4O0SwvJ5kX1w6tjuGz2NeDsyopd2CqBkk9q/PfELxG40y/jPEYbDYiVGFGSUYpKzVk+aV0+bmvfW6s0kur+14J4H4WxvC1GvXoqrOrFuUm3dO7XLGzXLy2tpZ3Tu+i/S7wf420bx34c07xd4ZuluNP1S2Se1m2kEqexHZgQVI7EEVpTXckcrRqq8V5Z+xt4e1nwz+z74dstdgkhmuGuLyKCRSGjhmmZ4wQemVw2P9uvT7o4uWz7fyr+o+H8dic0yLC4zEQ5KlSnCco7WlKKbVnqtXs9e5/PucYShgM2xGGoy5oQnOMX3UZNJ9tlutOw77dL/cWpLe4eYsGUfKO1Vdw9amsTkvj+6K9c80BfSkZ2LR9ul/uLUAIx1pdw9aALRuXFss+0ZNR/bpf7i0Mcaev1/rUO4etAExvpf7i1Jc3LwyBFUfdzzVQketT3xxMuf7v9aAD7dL/cWn291JLJsZV6Z4qtuHrUtkcz8f3TQArXsoYqEXg4o+3S/wBxahcjzG5/iP8AOjcPWgCx5zTWkjsPUcVXqaL/AI8ZPqahoAKKKKAFT/WL/vr/ADooT/WL/vr/ADooA7OiiigAooooAKKKKACiiigAooooAKKKKACiiigAoKqeq0UUAAGOAKKKKACiiigAooooAG+70r8ef2z/APg2p+Kf7UP/AAUsvv25dJ+P2iadp91rNvero88ExmURg5XiErnn1r9hqKAMfwD4dm8IeC9L8L3E4lfT7KOBpFHDFVxmtiiigAooooAKKKKACkCqOQo/KlooAKKKKACiiigAooooAKKKKACiiigAooooAKKKKACiiigAooooAKKKKACiiigAooooAKKKKACiiigAor8Ef+Dpr/gpR+21+x3+114L8B/s1fHfWPDGm6l4NS5urLT5iqyTG7uU3H3Kqo/CvnX4X+K/+Dnv4v8Agix+IHgb4qeNrzTNStxLa3CXQw6nofvUAf08UZr+Yfxb+2J/wcr/ALGcZ+IPxlt/F2q6FZfPcTXsitCAOu7axPTjoa/Rj/giT/wca+F/2+fE0f7Pnx90iHw7462hbMqw8m99geDv4OQR6c0AfrBUN9f2em2sl7f3UcMMSF5JJZAqqo6kk8AfWpgwI3A8V+W//Bzl/wAFLLv9kD9ln/hTXw21do/F/jiP7Ja/Z5PmjiZiHzjkZRW/OgD9LfC/xJ+H/jaeS28H+N9H1SSJd0iabqkM7IM4yQjHHUVtk45NfmL/AMGyn7DOsfs7/sgw/G34iy3Fx4m8cRJdGa6kZmS2f94F+b/gFfpfr8ssGhXk8D7XjtZGRvQhTg/nQBbor+T34zf8FY/+Cwvj39vXx3+zx8CP2m/EsksPjjU7HRdLtrjaEijunRVHPYYFe0DQP+DqkjePiD43Ydf+Ppcf+hUAf0tUZr+YHxF/wUg/4OI/2AL6Lxv+0jo3ijUtFt5gZJdaKtbyL77GYj8Vr9eP+CJ//Bcf4c/8FQvCFx4Y1+xj0Tx1pcam+0vcNsy9N8Z7gHGeB1oA/QbNYOq/FH4c6HrC+H9a8d6LZ30hxHZ3WrQxzN9EZgx/Kt1gJEwehr8QP+DrT9kTx/4Lh8O/t+/A3VtRs9T0G6SPU1sZnVVVSGMrAHGKAP2+jkSVBJGwZWGVZTnNOr47/wCCJn/BQHRv2/8A9i3w/wDEGS6jGvWFsltrVnvy0TgDBP1Ofyr7EoAKKKKACiiigAooooAKKKKACiiigAooooAKKKKACiiigAooooAKKKKACiiigAooooAKKKKACiiigAooooAKKKKAOLb77f7x/nRQ332/3j/OigAooooAKms3CJIzEfj9KhJAGTX5g/8ABeX/AIKe/tXfA74bfETwV/wTy8d/8I5qXwT0fR9f+NXj5NLtrsaZJqeo2tjpfh2BbhJF+1zrdPfTMU/dwW0ahi0pWgD9RBeA8/Z1/wC+v/rU2W8HlN/o6/dP8X/1qW/RY7+4jRcKszBR6DNV5nXym+YfdNAH5kfsNSbP+Dh39oLK5/4k3iX/ANG6L/hX6gfbB/z7r/31/wDWr8vf2Hzj/g4c/aCJ/wCgL4l/9GaNX6eBlPANAE63aswU268n1/8ArU+e4EUm3yQ3HWqyffX/AHh/OpLz/X/8BFAC/bB/z7r/AN9f/WqS3uBLIVEQX5c5qrU1j/r2/wB3+tACm8GcfZ1/76/+tSfbB/z7r/31/wDWqFvvN/vGigC0J1+zGbyh1+7+NR/bB/z7r/31/wDWoH/IPb6/1qGgCY3i45t1/wC+v/rVJcTLEV/dBsj8qqnpU171T/dNAAbsEY8gf99f/Wr89f8Agoj+yr4z8H/FTWPjr4O8O3V94Y8RXH23UnsoWlbSrxgBKJVUEiKRh5iyY2gsytjAz+glSWbMl0rIxU4PI+le/wAOcQYrhvMPrNFKSatKL0TWj36NNaOzt2abR8nxjwjgeMsp+p4iTg4vmhJK7jKzW2l002mrq/RppNfi/odlfeKNWh0DwvYXGqX9zII7ex02FriaVj0VUQEk/hX6XfsB/s5a1+zf8JboeN7WNPEniS+S91a1SUMLKNE2Q2xIyGdQXZyOA0hAJC5PtUen2On3c02n2NvbvK376S3t0jZ/94qAT+NSdOAK9/ijjzEcQ4NYSnS9nBtOXvczlbVK9opJPXZttLXofJ8D+FeD4RzF4+tXdaqk1H3eRRvo3bmk3Jq6vdJJtWe65X49/Hvwh+zx8LNQ+KPjC0mmit5I7ey0+1IEl9dSZEcKk8LnBJY8KqscHAB+T/Cf/BXzxSviuN/iH8FdJj8PvLi4bRNQna8tY8/fHmjZMVHJXCbuxBxXuv7eHwE8W/tA/s/y6B4CgFxrWi6xDqthYNIF+27I5I5IVJIAcpISueCygZGc1+fPhT9mv9oLx14rXwL4f+DniOPUWk8uY6nos9rBadi80sqBY0HUnJJxwCcCva4JyXhTMMlqVcfyuom+bmk48kbKzWqsuvM766dLHzfiZxLx5lPEtGhlXNGk4xceWCkqkm3dO8XdrRcqtpZ9Uz9Bf20/gd/w1j8ArZPhzcW1xqtjNFrXhWYyBY79XhIMO48KJYnypPAdUzgZr8zfEmkav4M1qbw34z0m60fUbZylxYapA1vNG3oVfB/EZB7Eiv1++HHg2H4efDvQPh9Defak0LQ7TTluCuPO8mFY9+O2SpOPQ1t6nYWOo29u+oWFvcNHjy2uLdJCnHbcDj8K8fhzjipw3SnhPZ+1o8zcdeVq/wAno97WVm3r0PoeMvC+jxlXp5h7X6viHGKn7vPF2Xbmi01te7TSStpc/Oj9gH9lXxn8Tfironxd8S+Hbqz8I+Hb+PUEu7yExDVLmI7oYYQwy6CQK7uBtATaCS3H3R+0Z8PtS+NHwK8WfC3R5o7e/wBd0WW3sZpH2r5+Q6BjjhWdApPYNmuuLMxy7s3b5jTov9cn+8K8bPOKsdnWbU8c0oeztyRWqjZ31el23u7K+itZH0fDHAmV8N8P1crUnU9spe0k9HLmjyuyV+VJbK7tq7ts/HbWPh18R9B8Vv4F1v4d69ba4s3lNo7aRM1wZM9FVVO8Hsy5U9QSK/TH9hv4S+J/gV+zfo3grxva+VrE11dajqFm0gb7G1xJvEGRkblULuxxuLDnGa9dup7hZtq3MgAUYHmHioK9HibjjFcR4GGFdFU4pqTs27tJpW0Vlq9NXtr38fgrwwwPBuaVMdHESqycXGKcVFRi2m72b5paLX3Vv7uqtat5xKzARBeK+dNauD8QP+CrHh+we38y1+FPwH1DUyY2/wBRqHiDVYbaEn0b7NpVxjvhzX0PZBi7Kg+YqAv1r4Hvvj38Qfh1+1J8avid4EuNHb/hNNe0yw0zUJYTdNBpWk2X2WGNVbCZe4e8nJww/eqB0zX5DxRxdknB+BWKzGbXM7RjFXlJ9VFXW3VtpLS71V/27h/hvNuJsW8PgYJ2V5Nu0Yrzeu/RJNvWy0dvd/jX+wv4b8e+Irnxh8OfEcfh66vZWlvNOuLQzWkkjHLOmwhoiTyV+ZcnIAqh8MP+Ce2j6LqsPiD4reMIdagt5Q0ej6daPFBMQekzudzL6ooXPQnGRXC/Dz9vj4qaFq0Y+JdjY69pjPi5azsUtbqJe7RlMI5HXay89Nwr7A0LXNI8TeFrPxHoF+l1Y6hbx3FncR9JI35U+3HUdQcjtX5nwvlHhJx1mNTMcFhf30GpSpzcoq7eknTUnTab3SvG/wASu9fvOIMy8SOEcFDA4vEfupLljOPK9EvhU3FTTS2btK2zstLS3SKuxLRFUDCqvAA7AcdMV5D+0R+yd4T+Ompr4usNXk0LXlhWKW9jtxNDdoowomjyp3KOA6nOOCCAMekeKvFfhvwRoFx4p8Xa3b6dp9ooNxd3TYVcnAHGSzE8BQCSegryuw/bu/Z5vtWXTJdW1i1iZ9v9oXmiutuOfvHDF1HuV474r9A4uxXA9bDrLOIKtJRqWajOai9NFJO6lHquZNdVfc+M4bocV0a7x+TU6jcLpyhFyWuri1ZqXR8rT6O2xz/wx/4J/eH/AAl4lt/EHxL8YL4gjtZVlt9KtLE29vI6kEGYuzM6g87AADjkkZB579vz43eILnxLF8FdEvpLXT47GK710Qtta7kly0cTEc+WqAMV6MzjIO0V9TteWeo29vqGnXcNxb3EIkt7i3kDxyxsMq6sOGUjkEda+RP2/PhjrGk+PLf4vWto0mlalYwWl9cKOLa6iBVQ/oHTbtPQspHXGfzrxE4bwvCPh3WpcO0vZwnODrOLlKTp2d25NuTjflTV7KLlpZyPtuCc8xHEnG9GpndTnlGMlTUkklPS1opKKduZrS7ko9Uj59NtbGPyTbx7P7uwY/Kvqn9gL42a/qr6h8HPE97JeRWFh9t0Ka4kLPDErqksG45JUb1ZQfu/MBxgD5Z6cmvpT/gnz8MNZXVdT+Meo2bQ2Emntp2jySLj7UzSK00i+qKI1Xd0LMcfdNfinhHUzSnx5hVgb2d/aJbezs+bm6WWlr/b5ba2P1fxKjl8+D8Q8Xa6tyX357q3L5vW9vs83S59Vi92sGFuuVbI+b/61fDf7V/7P3iX4X+OtS8aaVo003hfVr2S7t723jLpYySNve3lx9zDMdrH5WUjnIIr7dqaAkWs2D1yD78frX9WcdcEYDjjK44WvN05wfNCaV+VtWaaurxa3V1qk7qx/OvCPFmM4SzB4ijFTjJWlFu11urPWzXR2ejatqfmPoGman4s1WHQfCmmXGqX1w+yGz0+IyyOfovQe5wB3Ir7z/Zc+Ed18DfhVD4Z1ny5NWvrp7/V/LkDLHM6qoiVv4giKqkjgtuI4xXd2tnaWIcWNpDb+Z/rPs8CR7/rtAz+NLPcW9pbyXV1PHDDDG0k00rhUjRRlmYngAAEknoBXzPAPhTguCcZPH1sR7atyuKfLyRinvpzSbbta91ZXVtWz3uMvETGcWYWODp0fZUk02ubmcmtteWNkr7Wd3Z30sVvHXg3wf8AEPwy3hfxx4attU0+4IZra5B+RgOHRhhkYdmUgj1rzvwr+xr+zv4U11dfg8ET30kMgkt4dW1SW5giYHIPlthW/wCB7q5Hx1/wUO+H2kakdK8D+CNQ8QQQHa2pNeLZwykd4wyO7L6Eque1dd8Dv2rvh38br/8A4Ry0trrR9c8tpI9J1Blb7QqjLGGRflkIHJUhWxzggE16H+sHhZxNn0KE50K2Ji7RcoXu09FGpKPLLX4VGT1+HU4v7F8QshyedaMa1LDtXkoztZdXKEZc0dN3KK030PWFuxJKoaAfM3X/ACKJrkRysnkg++ahh/1yf71Ouv8Aj5b8P5V+mHwg77YP+fdf++v/AK1SW84lLfuguB+dVamsur/7ooABeLji3X/vr/61H2wf8+6/99f/AFqhHSigC0ZwLZZREMf3aj+2D/n3X/vr/wCtQf8AkHr9f61DQBMbxe9uv/fX/wBapLi4EUm0xBvlzVU9Kmvv9ev+7/WgA+2D/n3X/vr/AOtUkFwJZNvkheOtVals/wDX/wDATQA5rtVYqLdevr/9ak+2D/n3X/vr/wCtUT/fb/eP86SgCwZRLaOwTb1GKr1NF/x5SfU1DQAUUUUAKn+sX/fX+dFCf6xf99f50UAdnRRRQAUUUUAFFFFABRRRQAUUUUAFFFFABRRRQAUUUUAFFFFABRRRQAUUUUAFFFFABRRRQAUUUUAFFFFABRRRQAUUUUAFFFFABRRRQAUUUUAFFFFABRRRQAUUUUAFFFFABRRRQAUUUUAFFFFABRRRQAUUUUAFFFFAH80f/B5Jz+3v8OB/1I8X/pdd1+4//BI8l/2Bfh3vZuNAgH3j/dr8N/8Ag8mYL+3v8OWY8f8ACDw/+l93X7S/8Eofi78L9G/YP+H9jqXj3S4Zo9BhEkcl0AVO3ofegD6f8d+AfCHxI8M3XhDxtoNvqWn30LRXFtdRh1ZWGD1z2r+ST9tDwFD/AME8/wDgtfC/wkdrG3/4S62nsYbVtohjllWNkGO3X86/px/ar/4Kbfsh/sj/AA+vvHfxM+LWlqtpbtJFaw3Ss0zgZCDngk8V/MZ4Jm8a/wDBYj/gsrb+LvDOgzSaXf8AiaO4t2jUkQWsTBgWPuVJ/GgD+tL4fa/Ld/CjQ/E1/L802gWtzM7erW6MT+dfzE/tv/EXxD/wVc/4Luaf8NNLuJrnQ9G8VQ2kdj95FS1YLNgeh8qT86/or/ay8SXXwE/YW8Ua9azNHJ4b8Esqtn7pitguf/Ha/ni/4Ni/CY+NX/BW/VPjZqkX2g295qV22/lS0yzHd9f3maAP6bvhj4J0X4ceAdK8D+HLNbex0yyjt7aFeiqqgAfpWj4k/wCRdv8A/ryl/wDQDVuMYQDFVPEh/wCKdv8A/ryl/wDQDQB/Jd+xISP+Dg7XiP8Aopusf+lpr+tizGbdSS3/AH0a/jTs/wBqDTP2O/8AgsX45+Pmr+GJtYg0X4lawzafbybHl/0xjgHB9PSv1zi/4PQfg/DCFH7GXiTIX7v9qHr/AN+aAP1x/a6+Dfwx+Nv7P3irwT8VNFtbzTLjRLgyNdIG8oqhZWBPQ5Ar+Yn/AIN89R1v4d/8FoLrw78PpHWzS51G18mNjtMC3cYB49gK9y/b5/4OuPjN+1T8Ob/4H/s6fCOTwf8A8JFH9iuLq+k8yYIxBO1gqkHjH0zX09/wbKf8Ef5Pgvqk37cfxc8U2upeJNYt2WwsY5NzWyyMHcvnqSVXn60AftlHnZg147+31+zppf7VX7J3jT4H6naxyf29oc9tEXXOxnQrkHsea9kUbRiodQi86zki/vLQB/NX/wAGu/7UOsfsvf8ABQLxV+x14mvXt9J16W4VY5m4WaHdsAHbJbtX9LETB41cH7yg1/Jv+0xbXf7Hv/Bw1p9n4dP2OGPx/p/2hU43QyXWHH5DFf1beCdYg1/wjpusWxzHc2MUinPqooA1KKKKACiiigAooooAKKKKACiiigAooooAKKKKACiiigAooooAKKKKACiiigAooooAKKKKACiiigAooooAKKKKAOLb77f7x/nRQ332/wB4/wA6KACiiigDH+Icfj6bwBr0Xwo1DSrTxU2iXY8L3WvQySWMOpGF/sslykXzvCs2xnVPmKggda/ET/gpb+yR/wAFSP2NP+CIXxk+GXxi8T/s4654D1TxFpviD4leKPD9n4jfxh4m1q98RafI2pTXF0VtpJ3uBArkxgLBHsQLhMfunWd4x+HvgH4q+D7/AMA/FDwNoviTQr8xG+0XxDpMF9Z3BjdZIy8M6PG+2RFdcqcMoIwQDQBkfAxvj4nwq0tP2sH8EzfEPdcDxJJ8Obe9j0Yv9ok8r7Ot6zTj9z5W/eT+83lflxXE/FX4D/tJeMvHeqeKPAH/AAUD8deCdFvGjax8K6R4D8M3ltp6rEisqTXtjJO+51aQ73JBkIGFAA9eZ3kYyyHLMcs3qabN/qm/3TQB+Qv7JPwp+Mut/wDBbP41fDvw9+1p4o0LxPp2la42pfEKy8L6LPfaqEk0nzEktp7VrOMPuQkxxKR5C4xuav00+B3wh+OHw48SX2r/ABb/AGy/F3xMsbjT/ItdH8QeD9B0+K0m8xW+0K+m2kMjNtBTazFMMTjIBr4L/Yf/AOVh39oL/sC+Jf8A0Zo1fp5QBOslmWAEB6/3afcPbLJiWIs2PSqyffX/AHh/OpLz/X/8BFAC+bZf88D/AN81Jbvbs5EMe07fSqtTWP8Ar2/3f60ABlss/wCoP/fNHm2X/PA/981C33m/3jRQBaD2/wBmZhH8meRUfm2X/PA/980D/kHt9f61DQBN5tl/zwP/AHzUlw9uu3zY93Hy1VPSpr3qn+6aADzbL/ngf++adDJatKBHEVbtxXI/Fb4x/DP4I+GP+Ev+Kfi+30ixabyYWlV5JLiXGfLiiQF5GxzhQcDk4HNYPwM/a0+AXx/1uTQfhp458/UreFpn0vULCWzuGiHWRElA8xR32kkdwK7KeW5hUwjxUKMnTW8lFuK9Xa34nm1c6yejmEcDUxEI1pbQc4qb9I3u79NNT0ySS0EjB4Tuzz8tN82y/wCeB/75qOf/AF7/AO9Ta4z0i1E1u8beXCcdGXb19qy9S8deCNL1FdB1nxZpltdkgJY3mrQRyZPT928gb9K+dP8AgpD+074s+CvgjS/hv8N9Wl0/W/FXnyXWqW77ZrKwi2o3lH+CSR32hxyqq+MEgj88JrO0upnuLu1jmkkYtJNOod3Y9SzNksT6kkmv0bhnw/q59l6xlet7OMr8qUeZuzs29VZXTS3b30Vr/jvG3i1Q4WzZ5dhcP7acLc7cuWKbSaivdk27NNvRK6Wrvb9qme0U7XtmU9cFakle3EKs8eV/hH4V8B/8E0v2m/GGlfEa0/Z18Wa1cX+h6xDMPD4u5i7abdxoZfKRmORDIiONnRXClcZbP3xOc2kJHt/KvleIshxPDuZPC1mpaKUZLTmi7pO3R3TTXdbtWb+64Q4qwfGGTrHYeLjq4yi9XGSSbV+qs007K6auk7pHm2X/ADwP/fNKklmXULCQd3Hy1BT7ZFkuoUf7rTKG+mRXhn1B41+1f+3F8Mf2Y7uPwvNos3iLxRcW6zrotncLCttE33ZLiUhvLDc7VCs7AZwBg14p4L/4K8Rya2kPxK+AcVvpskmJLrw/rTTTwL6+VNGolx6BlJ7elfLn7Quva54o+P3jjXfEpf7dN4u1BZ1kPKCO4eJE+ixoij0AFcfX9BZT4e8OxyuCxNPnqSim5c0lq1f3bNKy6aO/W5/I+feLnF9TPKksHWVKlCTUYckXdJ295yi5Nu2tmrdLbn65eL/jR8PIv2c9f+PegeLLc+HbXwbf6wmuRtiNIIreRi5zyrKVIKnDKwKkAivzxs1KWcSEcrGob64qb4d6x4k+JX7Ii/sYRGZ7f4u/HLRfCsHlyfPDpbRpquulR/cFjYyhu265/wBrn6y+PX7Dlp458T3njf4Ta5Z6PPqE7TXej6hEwtmdjkvG6AmInqVKlckkFelfxJ9ITw1zjMMfBZWvavDOacbpScZqElJXsnJJWkt30Wlj+8PAPxGyyWSrE5ivZfWYxd7NxUoOUZJ7vlbbcW9lu9bnyXX3b+xRHf2/7MHh3+1wxVpLx7VW6/Z2upDH+HUj2NeQfD3/AIJ76/JrEd18WfGWnx6fGwaTT9DkeSa5H9wyuqiJT3IDNjpg8j6q06x0/StBt9J0q0it7W1iSG1toVwkUa4Coo7AAAV8f4M8A8QZDmlbNcypuknTdOMG1zSvKMnJpN2S5bJOzbd7JLX7TxR4yyXOcBSy/ATVRqanKST5VaMopJvdvmu2tFbe70+Xv+Cj2tam2p+EfDce5NNa3vLwxj7slwrpGCfUqhOPTzD6180V+gnxy+CHhf47eEV8Na/cSWlxazGfS9Ut4w0lpKRtJ2nG9GHDJkZwCCCAa+ftP/4J2/EKTV1h1f4m6HFp/mfNcWlrO85X2jZVUH6uR9a+d8T/AA54wzTjGrjsDRdanW5eVqUVy2jGLjJSatqrp/DZ73ue34f8ccM5bwzTweLqqlOlzXTUnzXk5Jqyd97Nb3W1rHpP/BPrXNR1D4G3Wm6tvktdL8RT22ls38EJijlZB/srI7Y9N2K9uvIdG1Czl0/UdMjuLeeMpPb3ECyRyqeqsrZDD2NY/gT4deGPhR4O0/wF4QtmjsbGJgrzMGkmkZtzyyEYy7Nye3YYAArWr+iOE8oxOS8L4XLsXJTnTpqMuq22V90vhWmqS0PxPiLMqGaZ/iMbh48sZzcl0e+77N7vzZw1r+yr+zSurrqsPwZ0fzg24JJHI0Of+uRfy/8Ax2u/jTT7dVs7eyVVjURxRxRgKqjgKoHAHoBTbP8A4+B/umuc+L19rWl/DHxVqnhzd/aFtoF9LYmP7wkELYI9xyR7iuungco4fwtavhMNCmknKSpwjFy5U39lK77XOaeLzLOMRTpYmvKbbUU5ylJRu0urdl3scJ8S/wBt/wCCXw88QTeF7Sx1PXru1kMd42kRR+TC4OGTzJHUOwPBC5AORnIrrvgv+0H8MPjnp11J4KvZorqzQPfaRqEIjuYUPG/aCVdM8blJAOAcE1+eNuEWBFiOV2jafUetejfslX2r2P7SPhMaMz7ri9lgu1T+O2aCTzQfYABvYqD2r+bOHfGzifH8UUKWJhB0K1SMOSMdYqclFOMr3bV03e6lqko3Vv3XPPCnIcFw9Wq4ec1WpQlPmb0k4pyacbWSdmlazWjblZ3++vNsv+eB/wC+a8b/AG8PEV7ov7Pd1a6NujXVNXtLG9ZeD5DF3Zc+jGNVPqCR3r11M7Fz6VgfFT4c6L8WvAGpfD/XpWih1CEeXcxqGa3mVt0cqjuVYA44yMjvX9F8VZfjM24ZxmCwjtUqU5xjrbVxaSv0T2b6XufiPDuNwuW59hsViFeEKkZS66Jp3t1tul1sfnPVjR9e1TwrrNl4o0SdorzTbyO6tZF6iRGDD88YPqCRXceN/wBlv4+eBNWfTbr4balqkIb9xqWh2rXUE654YbAWTP8AdcAj9a7v9nL9jjx1rXiyx8Y/Fnw9Jo+jafcJcppt7gXN/Ip3IpQHMce4AsWwSBtA5JH8Q5XwTxdjs6hgaWFqQq8yu3CUVCz+Nyaskt076/Zu2k/6xzDizhrC5VLF1MRCdNxdkpRbnp8KSd23ta2n2rJM+xRLaPNlbYozMCF2/dJ5x+HSieS1WUiSLc3fioY2ZrhXc5ZpMsfU066/4+W/D+Vf38fxr0HebZf88D/3zUlu9u27yoyvHzVVqay6v/uigA82y/54H/vmjzbL/ngf++ahHSigC0Xt/sysY/kzwuKj82y/54H/AL5oP/IPX6/1qGgCbzbL/ngf++akuHt1cCaPcdvpVU9Kmvv9ev8Au/1oAPNsv+eB/wC+akt3tmkxFFtbHpVWpbP/AF//AAE0AOaWzDEGA5zz8tJ5tl/zwP8A3zUT/fb/AHj/ADpKALJaJrRzCm0c1WqaL/jyk+pqGgAooooAVP8AWL/vr/OihP8AWL/vr/OigDs6KKKACiiigAooooAKKKKACiiigAooooAKKKKACiiigAooooAKKKKACiiigAooooAKKKKACiiigAooooAKKKKACiiigAooooAKKKKACiiigAooooAKKKKACiiigAooooAKKKKACiiigAooooAKKKKACiiigAooooA/md/4PNIGuv26fh9boeZPAcagn3vrys79ln/g1w/ao/aF+Bnh/wCL/hr44afZ2etWKXENq99tKKR061r/APB5Jz+3x8OP+xHh/wDS67r9xv8Agkd837Anw8Df9AGD/wBBoA/Iz4df8GcvxB1jVIYfjT+0I5sdw89dPvA5IzzgE+lfq3/wTd/4JAfspf8ABNPww1h8H/DEdzrFxGFvfEN1Ev2mdfQnHT8a+rqKAPnL/grfHPP/AME4fi/DbbvMbwTfBNvXPktX4Tf8GeE9vb/tc+IrC6X9+1o4VSeQQgz/AFr+iL9rP4cv8XP2cvGHw3SMMdY0O4tgp77oyK/mn/4N4/Fg/Zr/AOC1V/8ACHxDJ9ltpNY1axk8z5fmjE4Xr6lVx9aAP6m0+4PpVPxIf+Kdv/8Aryl/9ANW4mDRhgaqeJD/AMU7f/8AXlL/AOgGgD+RD9m74Z+CPi7/AMF3/FHgT4ieH7fVNJvPiZrAubK6QMkg+2t1zX9Llv8A8Ed/+CccsCsf2VvC3/gvT/4mv5wf2Jf+Vg3Xv+ym6x/6Wmv62LJgLZeD/wB8mgD4S/ah/wCDd3/gmn8d/h7qWi6N+z/ovhzV5LV/setaVZos0L4yMcDvjv0r8Wf2Bf2l/j9/wRY/4Kw3H7IOteLry+8L3mtrYXemzSnytkjZilx6hQR0/ir+n34hfELwf8MvCV74x8ceIrXS9Ps7d5Jrq+mEaDAJxlsCv5L/ANq/4o6f+3r/AMF3V8Z/B23kvrXU/F1tBDJaqWG2IsC/H8Pv0oA/rk0rULbVdNh1KzmEkU8YeORf4lPQ1LcY8lsj+Gsb4b+H7jwr4G0vw9dtuks7GOFz6lRjNamqTfZ9PlnLY2rk0Afym/8ABbV11D/g4emXTG3M3izS1Qr3f7S39a/qI/Z7inh+CnhiK53b10WHdu69K/lnvUuf28v+Dg+w1vw9m8hh8dW1zdMp3Zjt7gO/6Gv6vPDdhFpfh+x06GLYsNpGirj7uFAxQBeooooAKKKKACiiigAooooAKKKKACiiigAooooAKKKKACiiigAooooAKKKKACiiigAooooAKKKKACiiigAooooA4tvvt/vH+dFDffb/AHj/ADooAKKKKACp7LGyTd/nioKns/uSf57UAJtsP77frTZRYCJvnb7p9ajHSmzf6pv900AfmP8AsN+Wf+Dh39oLzP8AoDeJf/Rui/8A16/UDFh/fb9a/L39h/8A5WHf2gv+wL4l/wDRmjV+nlAEyrZbhtds5460+4Fr5mZmbdj3qun31/3h/OpLz/X/APARQAu2w/vt+tSWwthITCxzt75qrU1j/r2/3f60ABFjnl2/WjbYf32/WoW+83+8aKALQW2+zEBj5eeT+NR7bD++360D/kHt9f61DQBMVsMffb9akuBb5Xzmbp8tVT0qa96p/umgD4K/4K5WXiNPi34P1Gfzm0N/DcsOmsc+Wt4LhmuV/wB8oYD6lVHYGvDv2T7HxZqH7UPw/tvBSTf2kniq1mUwg5S3Rwbl2x/AIPM3dsHB61+pPjrwD4J+Jvhubwf8Q/Cmn61pc7B5LHUrcSR7h0cd1YdmUgj1rI+EP7PnwT+CN3NN8KfhnpeizXkey6ureNnnlTrsMsjM+3ODtBA46V+nZZx9hcBwx/Z0qDdRRlFPTkalfV6366pJ83dX0/D878J8dmnG/wDa8MSlRlOE5J39onHl0jpZr3dG2uVPZ8uvbSix81ss33j603bYf32/Wo5/9e/+9Ta/MT9wPj3/AIK0fCLWNU0fwz8ctBtJbix0OGfS9fZVJ+yxzSLJBO3om/fGzdAWTPWviGv2k+zW17p11ZXttHNDNE0c0M0YdJEZcMrKchgRwQRg14jq3/BPL9j/AFjWf7bl+EIt2Z98lnp+tXdtbMc/88kkCqPZdo9AK/VOE/EDCZPlccFjacmoX5XGz0bbs03HZt2ab0srK13+D8e+EuYcQZ5PMssqwi6lueM3JWaSjeLjGV00ldNKzu7u9l8l/wDBNX4T6149/aW03x6tpIujeC1lvdQvNp2faXheKC3Bx99jIXI7LGScZGf0okW2EEaux2jG38qwfBfgjwf8OfDlv4Q8BeGLHR9Ltc/Z7DTrcRxqT1bA5Zj3YksT1JrauP8Aj1i/D+VfH8VcQS4kzT6zy8sYpRiutk27vzbbflotbXf6JwHwjHg3I/qbnzzlJznJKy5mkrLrZKKWu7u7K9kbbD++360ItiZAEdt273r53/bQ/bjs/wBmyW38B+CtFtdX8W3tqty0d6zfZdMt2JCSTBSGkd8HbGCvA3MQCoPzDon/AAU1/az0rW49V1HXvD+p26ybpNMuvDkUULD+6HiKyL9dxx713ZTwLn2cYFYqkoxi9Y8zacl3SSenZu191pqebn3ilwpw9mbwFeU5zjpLkimoPtJtq7XVR5mtnroex/tzf8E+fFfj/wAe3nxo+AsNvdX2rMJfEHhqa4WB5bjABubd3whLgAvGxX5gWUncRXgHg39gH9rXxhraaTcfCa40GHzNtxqfiK7hgt4Rnlvkdnkx6Ipz+tffX7Nf7SXhH9qD4dr468PWTWF5bTfZNc0aaYSPY3IXdjdgb42X5kfAyMggEEDzf9s7/gpZ+z9+xbqMPg7xHZX3ibxbcW6zr4V0Fo1e3hb7j3UzkJbq4BKr80jDkJt5rqqeImfcJ4KWCxqgvZe7eafMraJaSSlZfDo7rXVBk/gXk3itn1PEcPwq1Z4i8+Si48suspPmj+7V/jblFRbt7rPEfAn7Lfxlv/21Zvhd+zX8fPDPhuw/Z+8F263HiPXvh0+sSXHiXxJF5t+fK+226ealjaWoRskQw3IiKuXZ690b9m39vu4m829/4Kg+R6ro3wE0SED6efJMfzJ49+a+Sf2DP+CvPwa+E+reKtP+P3gHW9NvPiH8RtT8U+IvG1lcJeW8Ut1IqW8UluAJkhtbOK2twyeYcQl9o3ED9MtH1jSPEOk2viDw/qttf6fqFtHc2F9ZzLLDcwSLuSWN1JDoykEMOCK/O6WeYfPq1TEQq+0k3eT1Tu+rTSav00t0Wx+3cReGXFHhlRoYHNcBLDQ5bU9Yyg1FLSM4SnFtaXXM5K6b3u/B0/Zg/bWZc3P/AAVU8ab+/wBn+EfhaNPwU2rY/Omy/sw/t4CHNt/wVQ1xo93yi++CfhqTjPfZGhLe/H0r6Cqb/lw/4F/Wug+XPnmD4Ff8FGtIXzNM/wCCingXUmX/AJZeIv2dYir+xa01SEj8BSf2V/wVk0yQfYPFH7N/iqOM4Jm8N+JNCd/q0U94qn6Ka7/9qv8AaE8Pfsr/ALP/AIm+O/iTT2vY9Ds1+x6akmxr68ldYre33fwh5XUFgCVUMcHFfiJ8cP2u/wBpb9ozxXN4u+LHxi1y5kklLW+l6bqc1np9gp6RwW8TqqqBxubc7YyzMSTXzud8RYXJZRpuLlNq9k7WW129d9baPZ7H7d4S+BufeKtGtjKdeOHwtKXI6koublOyk4wgnG/KnFyblFLmVuZ3t+v9/wDG3/gpH4TkW18Zf8E9/B/iLb964+Hvx2h8xx6rBqtja/rJTJP+CgB8Jssfxs/YV/aI8Fqn/H1ff8K9TxBZxf7Xm6JcXTFffYD7V+b37CH/AAU2+NH7MfxF0rw/8TPiBq3iT4b3t3Hba3pWuX0l3JpcTtt+12kspZ4jGW3tFny3QMNobaw/aJAbeTMEm1h0khbGR6gjsRz9K6slzrDZ1Qc6acXHRp9L7a9U9bbbPQ8HxT8Kc+8Ks2p4XHTjVpVk5U6sU0pKLSknF6xnG8eZXkrSi1J3dvFfAH/BS/8A4J9fEDW/+Ee0H9rPwhp+rbti6L4svn0K+Zum37PqSQSZz2xXuFs+najZpq9lKtzazLvjurdhLDIp7h1yrDt1rG8Z/D3wB8V9M/4Rr4qeBND8UacyndY+JNHgv4T7bZ0cV4dqf/BLj9jvTdUuNc+C3hHxB8JNVkkYjUvg540v/Dm0+9tbym0cezwke2OK9g/Lyt8Sv+CfOg63r02tfCvx9Do9pcSl20m/095orfJyRE6MGCeisDjoDjFd/wDs6/sneDfgXLceJrnW5Nc1ye3aBtQkt/JjtomwWSGPJILY5ckkjgYGQeEk+CX/AAUO+FB8z4O/to+H/iNYx/LDoPx08Eol0U/ujV9F8lwf9qS2kPrmn/8ADb/xh+EVtJH+15+wz488K2atibxl8N5E8a6CigfNK/2JU1CBO/7y04B5NfEZf4c8F5XnH9p4bCKNVO61k4xb6xg24RfayXL9mx9XjOOOKcwyz6hiMS5U7WatFNrtKSXM13u3frc+jNth/fb9aNth/fb9a4H4F/tMfs+ftN6RJrn7Pfxo8N+MYbf/AI/IdB1RJbmzOcbZ7c4mgb/ZkRSK7gEHoa+3PlC1ILYRpuZgMfKVzzx7VGE08dGb9aLj/j2h+g/lUNAFiMWXmLsdt2eOtEwtPNJlZt3frUMP+uT/AHqddf8AHy34fyoAdtsP77frUluLcFjCx6fNnNVamsur/wC6KAALYY++360bbD++361COlFAFoi2+zKCx8vseaj22H99v1oP/IPX6/1qGgCbbYf32/WpLkWxcecx3be2aqnpU19/r1/3f60AG2w/vt+tPtxa+ZmFm3Y96rVLZ/6//gJoAcy2O47nbO7nrSbbD++361E/32/3j/OkoAsERC0fyTlear1NF/x5SfU1DQAUUUUAKn+sX/fX+dFCf6xf99f50UAdnRRRQAUUUUAFFFFABRRRQAUUUUAFFFFABRRRQAUUUUAFFFFABRRRQAUUUUAFFFFABRRRQAUUUUAFFFFABRRRQAUUUUAFFFFABRRRQAUUUUAFFFFABRRRQAUUUUAFFFFABRRRQAUUUUAFFFFABRRRQAUUUUAFFFFAH4V/8HN//BK39uL9uL9r7wT8R/2aPg1N4i0jSvCcdre3Ud2kYjmF3cuVw3+y6n8a/WD/AIJv/C3xx8GP2PfBfw4+I2jGw1jTNHiivLUuG8twMEZHFe6UUAFFFFAEdzBHcwNBKMqykMPXiv5hf+C0nwM8Rf8ABND/AILEaB+0x4Rs2sfDeu+IrS+iul4DZKNccj3Etf0/V8H/APBfL/gmfD/wUP8A2QdS0rwpoyzeMPD9u114fkVf3hKncY19Sw3AfWgD64/Zw+L/AIe+PHwT8OfFnwxcLJZa5pcN1AytnIdA39a67XoZbjQ7y3hXc8lrIqL6kqQBX5of8G12r/tk+A/2crz9m/8Aa1+C/iLw/ceGWH9i6jrFjJFHLbqdgjXcBk4OfotfpzQB/Kr8b/8AgiX/AMFkvD/7cfjr9oP4F/AG+t2vfG2pX2i6pBfx5MMlyzqwz0yMGvTR8BP+DqEDA0LxF/4NIa/pdooA/mR1L/glv/wcaftW3H/CHfHXxjr2k6PdfJNHc6pG8WCepCYP61+ln/BGP/g3W+G//BPLVl+Mvxf1qHxV46eICO4WPbDbZIJwpyc5A53etfqFRQAKAowK+a/+Csv7Vem/sf8A7D3jn4tS6olvqFtodx/Y6M2GluNhKqPcnFfSbNtUtivxY/4OVfhv+3r+278SPCn7JP7PXwK8RXng/wC1Rzap4ghsJTbCXcAcso27cetAHgf/AAaXfsdav8W/2i/F/wC3b400t1htGmj0trhMrM0+7LKfUYFf0RqNqgAV4B/wTS/Yu8I/sKfsoeGfgZ4YsBG9lZq19Iyjc8pUZzgc4xX0BQAUUUUAFFFFABRRRQAUUUUAFFFFABRRRQAUUUUAFFFFABRRRQAUUUUAFFFFABRRRQAUUUUAFFFFABRRRQAUUUUAcW332/3j/Oihvvt/vH+dFABRRRQAVPZcpICce/4VB9BXlGr/APBQT9g3wf8AFF/gZ4s/bZ+Emm+M/t32FvCt98RNOjv47vdtFs8RmzHMzEKImw5JAAyRQB679ntf+fr/AMeFNmgtfJb/AEr+E/xCoyrRkxuu1l4ZT2NNm/1Tf7poA/Mf9htUb/g4d/aC3vt/4kviTv8A9NdF/wDr1+oHkWv/AD9f+PCvy9/Yf/5WHf2gv+wL4l/9GaNX6eUATrBbbgVuec8fMKfPFC8m6SfacdMiqyffX/eH86kvP9f/AMBFAC+Ra/8AP1/48Kkt4oUctHNuOPUVVqax/wBe3+7/AFoADBbZybr/AMeFHkWv/P1/48Khb7zf7xooAtLFD9naMTfLn72RxTFtrd2CJcZY8ABhzSD/AJB7fX+tfO//AAUr+KfiD4bfs3tpnhi+ktbrxTrEekTXULFXjtTFJLOFIOQXWMR567XbpXoZXl9XNsxpYOm7ObSu+nd/JXZ5Oe5tRyHJ6+YVk3GlFyst32S7Xdlfpc3fiF/wUB/ZL+HWvTeGb74lXGqXdvIY7oeHdJlvYoWBwVMqARkjuFZsGvQfhP8AHX4OfH7RZNe+FXj611WK1ZVvIFDQ3Fqx6CWGQCSPODgkYODgmvyCRVjRY40CqowqqMAD0rtP2ePirr3wV+Nfh34heH7l0aHUoLbUYVbC3dnNKsc0DjuCrbhnoyqRyK/Xsw8L8tjl8nhKs/apXXM1yya6WSTV9k7u3W5/PWU+OGczzeCx9Gn9XlJJqKkpRTdrpuTUrbtcqv05T9c/Itf+fr/x4U+GG3WUMk+5vTcKglQRSvEDnY7Lk98HFOtf+Plfx/lX4if02SSQ27SMzXODnkbhVXV9R8PeH7Majr3iC0sbcttFxfXkcMefTc5ANYHxm+JGl/B/4a+IvijrUBmt9B0uW7a3VtpndQBHFntvdkXPbNfk98VPid48+N3i6fxx8U9dk1TUJmJRJeYLRc8RQRn5Yo16AAZPUkkk19lwnwfiOJnOo6ns6cHZu123vZK62Vm23pdaPp+b8feImF4J9nRjS9rWqJtRvypRTtzSdm9XdJJa2d2rK/7DaRfaTq2nf2jouq295aycLc2twksZPsyEr+tO+z2v/P1/48K/IX4HfHH4gfs4eMofHPwz1J7fy2B1DSA5FrqcIPzQyxj5TkZAfG5CQQeMH9ZPCXibSvGvhTS/GWhOzWOsabBfWbN97ypYw659wGwfcGs+K+EsRwzVg+fnpzvaVrO63TV330d9ddrG3AXiBheNqFRey9lWp25o35k072lF2V9U001ppve5reRa/wDP1/48Kkniia3VDLtUD5Wz14qrST6ppZuo9DGqWpvgoY2Iuk88Db18vO79K+SSb2P0CUox3fkfl/8At9W2sWv7YvjpdZLM0l9bS2bMeGtTZwCIj2wCPqDXkFfpt+1v+xf4Q/ahtLXXIdbbQ/E+m25gsdYW386KaHJYQXEeQWQMSVZSGQs2Mgla+bdE/wCCTXx3vNaWz8QfEnwfZ2HmASX1nJc3Mu3PVYTEnOOzOB7mv6B4c424f/sWjTxFVU504Ri00/spK6sndO17LVbWP5K4x8M+Lf8AWbEVcJQdanWqSnGUWvtycrSu1ytN2u7J7p9F0X/BHyy1Obxh4+uSHGm/2fpcUufuPcedOVX3by9/4MPavy4+MPj3xN8U/i74s+JPjO6ebVtc8TX93fNIxO1jcOojGeioirGF6BUA7V++PwK+Angf9nLwJbfDj4exTOqzefeahdMDcX922AZpCABnhVVR8qqAB3J/J39pX9h34sfH74p/FD9pX9jv4SXWvfD7/hZ2q6Xa22m3aSXd1cWvlrqF5awHb5todQN1EgjZ2BibAKkEfzX4u163E2ZSx2Dg3BPa2rSjGKlb/t1+aUvJn+mf0G8xyHwzpVsmz6vClWrU48lSUlGCl7Sc5Uud2S5ueLTbUZSp73cU/k0EjkV+v3/BCrxhrviv9ia60DX713tvC/jm/wBM0VpG+5atDBdeUM9kknkwB0DAYGK/PD4T/wDBNz9uP4w+KYPC+jfs4eJNDWSQC41jxhp76ZY2i5GXd5gHcAHO2NXc9hX6M/F3UtG/4JC/8E4YdA+FVxHqXiNbxNO0vVb61G2+1y9LyT30kfQJGkcrpGcjbDEhJ5NfnvCuGxOBxFTH14uFKEHdtNX2dknvtf1SXU/pr6ROe5DxfkuC4QymtTxGPxWIpezjCcZKnbmTnOUbqCtLl11cXKVrRZ9XeJ/GPgLwT5P/AAmXjjStJ+0c2/8AamqQW3m/7vmsu78K1LSWxvtNjurO9jmtplDw3EMiskinnKsMqw+hr+cLxt4k8Q/EzxPd+NviTrt34h1m/lMl7qutTG5nmY+rPnA9FGFA4AA4r3j/AIJz/ttePf2RPjVomjv4jupPh9rurQWXijw7JMzW0Ec0ix/bYEJ2wzRMyuSgHmKrK2cqV9fC8c0a2LUKtLlg3a/NdrzastO9np5n5jxB9ETMst4bni8BmSr4qnFydL2XLGbSu4wnzyfN0jzRSk7X5L3X6Wf8FefhH4j+LH7CXiqy8FW8t9faDeWOvGxt13yXEFpNunCgdSsTPJgcny8V+JyujqJI3VlYZVlOQR6j2r+kb95bzYDYeNyNy+oOK+Rfjh/wRa/Y3+Mfi668baL/AMJJ4GvL6YzXlr4PvIFsZZGJLMttcRSJCST0iKrn+Hk1vxPw3is0xEcThmuZLlabts200/nre3Q8f6P/AI7ZB4f5NWyPPYTVGVR1adSEeazlGMZRnFNO3uJxcVJ3bTVrNfkJ4Q+H/in4teLdL+FXgfTJLzWfEl/Hpum20a5LyzNsyfRVBLseiqrE4Ar+jLS9IstJ0y10mPUPMW0tYoFkYj5wiKm78dua8P8A2Vv+Ccf7Mf7GeoSeIvhloOoal4iuLdoZPFPiW8W5vVibG6OLaiRW6t38tFLDhiQMV7XqOo6fpGnz6tq1/Ba2trC011dXUyxxQxqMs7uxCqoHUkgV3cM5HWyajOVdrnna6WySvbXvq79D5Xx+8Xcu8U81wmHyqlJYbDKfLKaSlUnU5OZ8qbtFKEVFN8zu20rpK/BFAkm6OfcfTcKR4LYuxa4wSeRuFct8MvjT8G/i3eXMPwp+LnhfxQ9iubyPw7r9veNAD3cROxUZ7kYPrXRy/wCuf/eNfTRnCpHmi7rutT8BxOFxWDrOjiIShNbxknFq/dOzRJ5Fr/z9f+PCpYEjhVnguCp/56K2CPxFVKmh/wCPWX/PaqOc8r+Ov7Dv7J/7R2sR+Lfin8JdNl8TW/Nj410OaTSdes2xgNFqVk0VwpHXBdhkcg81wM3wZ/b4/Z4X7V8B/wBozTfjN4fg5/4Qv44MLTWEjHOy18QWMfzseQPtltJnjdJ3r6MooA8J8Ff8FD/g9J4qsfhH+014X8QfA3xxdP5Nj4f+J0UVvZ6pKBgjT9WiZ7C/yeFVJVlPeMdK9+e1gjbZLOVYrkBiOR6+49+lZHj/AMCeB/iZ4KuPAPxJ8GaT4i0HUovL1DQ9e02K8s7lcdHilVlP1xn3r56X9jL4x/s1Rf2h/wAE+Pjf/YulRsWb4OfE26udW8KyD+5ZXGWvdFPJx5Ty268fucUAfTkcFsJFZbjJB4G4Us0Nu0pZ59rem4V8/wDwr/bz8G33xA0/4G/tO+AdU+C/xHv5BHpvhzxlcxvpuvP66Rq8f+i6gDxiLMdwM/NEK97uwy3Tq6lWGMqwwRxQA7yLX/n6/wDHhUkEUSbvKm3ZHPI4qrU1l1f/AHRQAfZ7X/n6/wDHhR5Fr/z9f+PCoR0ooAtNFD9nWMzfLn72RzUfkWv/AD9f+PCg/wDIPX6/1qGgCb7Pan/l6/8AHhUlxFC7hpJtpx6iqp6VNff69f8Ad/rQAeRa/wDP1/48KkgigSTdHNuOOm4VVqWz/wBf/wABNAD2gtixJucc/wB4U3yLX/n6/wDHhUT/AH2/3j/OkoAslI47RxG+4etVqmi/48pPqahoAKKKKAFT/WL/AL6/zooT/WL/AL6/zooA7OiiigAooooAKKKKACiiigAooooAKKKKACiiigAooooAKKKKACiiigAooooAKKKKACiiigAooooAKKKKACiiigAooooAKKKKACiiigAooooAKKKKACiiigAooooAKKKKACiiigAooooAKKKKACiiigAooooAKKKKACiiigAooooAKKKKAAKF6fzooooAKKKKACiiigApCoJzz+dLRQAUUUUAFFFFABRRRQAUUUUAFFFFABRRRQAUUUUAFFFFABRRRQAUUUUAFFFFABRRRQAUUUUAFFFFABRRRQAUUUUAFFFFAHFt99v94/zoob77f7x/nRQAUUUUAAJByD7ivzE/4Lf+Ivgf8P8A9mP4rfsv+Gv+CXGqx2/jjy7vW/jpN8L7aHwV4fvtQYST+I7y/wBNjuNQa4tXdpJJBalvMUqWII3fp4mzzF80nbuG/b1255x74r4o/aA8Wf8ABZ74reCvHH7Lfhb9hn4J2P8Awlulano1l8YZvjdLLpFnZXSyQpLLpD6ebySZbeTlMmMyjdgr8hAPqn9nDw5o+gfs6/D/AETw38VI/G+m2XgTRrfT/Gkc6TL4hgjsIY01ESIzK4uFUTBlYg+ZwTXHfFP9pX4q/D/x3qngrw7+wP8AGTxnY2LRrb+J/C8ugDT9QDRI5aH7VqMU2FLmM741O5GxkYJ0/wBjf9m3Sf2Pv2Uvh3+y5ovie41yDwD4PstF/tq6iMbX8kSfvZxGS3lK8jOVj3NsTauTjNejzwxNGzNEpO09V9qAPyI/ZI+NHjnw7/wW2+NXxT0v9lf4h67q2qaXrq3XgHSW0oaxpiyS6Tl5/NvVtsLsUHy53OZo8bucfpp8D/jl8RPi74kvtC8X/sffE74b29pp/wBph1fxw+jtbXcnmKn2eP7DfTv5mCX+ZQu1TznAr4K/YgVW/wCDhv8AaCVlGP7F8S8f9tdGr9OliiQ5WNR9FoAsrZlWDGZeDnpT57YyybxIF4x0qqgHmLx/EP51LejM/I/hFAC/Yj/z2X/vmpLe3MLlzIG+XHSquB6VNY8TNgfw/wBaAD7GSc+cv5UfYj/z2X/vmoWA3Hj+I0YHpQBaFv8A6M0HmDr96vJv2zP2c7/9o34F3vgrQLqFdbsbuPUtB+0OEje5jDKYWb+ESRu6bugYqTwK9VXjT247/wBahwPSurA4zEZfjKeJou04NNeq7+T2fkcOaZbhc4y+rgsSr06kXF97NdH0a3T6PU/GrxZoOu+Addn8L+O9GutF1K1crcWGrQmCVCPZsZHowypHIJHNe0fsO/soeMfj58TdJ8X6lodxbeCtF1CK91LVriFkivWicOlrATjzWdlXcy5VE3ZOSoP6S6lpOl6uiJq+l2t4sPMQvLWObZ9N4OPwq9ejJiQD7q7UVV6D0AHT6Cv0rH+KGKxWXyo0cOoVJKzlzXSvo3Fcq17Xbt5n4rlPgbgcDm8cRicW6tKEk1Dk5XKzulKXM1bvaK5l/KOa0d3aRplyzFm+XuTmlhtTHKJDKDjtiq4hkLbBAxYfeUL8w/DrTrTH2hSPevys/eDjP2mPhPqnxo+A/i74aaHcIuoaxo8kenq7BVa4VlliQkngM8aqT23V+Sd5aX+n3txpuq6fNaXdrO0N5Z3UZSW3lU4aN1PKspyCDX7PXCgzOCP4q83+Ln7JX7PPxy1f/hI/iR8Nre61TYqNq1ldS2d1Io4AkeFl83A4G8EgdDX6BwXxlR4cjUw+Jg5U5PmvG11KyT0bSaaS6q1utz8l8SvDnEcZVKWMwVSMK0FytTvyyjdtapNppt9GnfW1j8sNA8O+IvGGvWXhHwhpMuoatqlwttptjAuXmmbgD6DqT0VQScAV+v3wt+Hv/Ctvhl4c+HY1FZ/7B0G009p1HEjRRKjMPYsCR7Vz3wW/Zf8AgN8Bzcal8L/hxaWF/NEY5dVuJpLq8ZMcr50zMyqe6rtB7g126gY6VjxpxdT4knTpYeDjShd+9a8m9LtJtJJbavdt9lv4a+HtbgunWr4upGdaqkvdvyxitbJtJtt6t2VrJLq35v8Atn+PfFnwj/Zi8W+PfBF40Oq2tpBBaXUaZa08+4jgacejIshYHoGwe1flUJbhdX/t9bq4Gped539pCdvtXm5z5nnZ37887s5zX7IeJ/DHh7xp4cv/AAh4r0iG+0zVLOS11CznB2TQuMMpxyPYggggEYIr5hf/AIJHfCCHxGuqt8WvFDaK0m/+x/Jt/O29fL+1Y3be27Zvx3zzXrcB8UZHkOBrUcZeM5SvzKLfMrJKOnZptXsve3PA8VeBuJuKc0w2Iy+06cY8vK5KPJLmbc9bLVNJ2vL3Vo9D2f8AY58d+K/i5+zN4R+IPja887VbywkivbpkwbpoZ5IBOccZdYwxxwSSa9NSzKurGUfK2elfPnxv/bL+An7IdtZ/CHQPDlxqWo6VYxQ2/hnQWSOPTbcKPLWaaTIjYrzsw0hB3MBuBPKfCz/gqv8ACLxV4kt9F+JHgLVPCUM8ypHqzX0d9axkngzbER419XCsB1OBkj5mtw1nmZe1zDCYSSozlKUVpdRbbSUb8zSVrWTT6H2uF404YyVUMox+Pi8TTjCE2+ZpzUUpOU7csW2m3zSTT3sz0f8Ab5+M/jP4O/AqTTPg/cR/8LH+IGrW3g34YwNnjWr8mNbo/wDTO0gE945PAS2Oa7f4DfAfwX+zn8FPCvwF+Hn/ACBfCOh2+mWMkqjzLjy1+e4kOeZJZC8rt3aRjXiXwhv7f9rz9t3xF+0tDcR3ngX4Mx3ngn4ZXET7odR16dU/t/VoyD8yxKItOjcZGRdYPNel/tQ/tYfBL9j/AOHy/EP40eIJLeO6maDSdJ0+ETX2qTKNzR28WRnaMFnYqiAjcwyAfka1anh6bqVWoxW7eiR+l5ZluYZ1j6eCwFKVWtUdoQgnKUn5JeWr6JXb0R6pBAY5N7y7vlxz1FfKv/BYj9njxj8eP2M7w+AdOl1HVvB+vW/iKPTbWMtNd28UcsNykaj7ziKYyBereVgZJAPi+j/8HB3w5HiRYNX/AGVvEtvo7SYkvrfxNaTXSx5+95BREJx/CJfxr7Z+BPx4+Ff7SPw2sfi78GfFceraPeO0fnLG0c1rcJjfbzRt80MyZGVPYgglSCfH+vZTxBh6mFo1U7pp7przSaV7O3l3P06XCXiV4MZ1geIcxy+VJUqkZRbcJwk1rySlTlNRc4qSs2pNXaWjt/PRHJHNEs8EivGwyrqcg16J+yr+z/4u/ag/aD8M/BbwfYySPf6lDcavcKmUsNNilV7i5kPRVCAqM/edkUcsK/YT4uf8Evf2F/jX4suPHPjH4E29rq15IZL678O6tc6WLqQ9Xkjt3WNnJ5L7QxJJJNekfAf9mP4Bfsx+Ebjw38CPhbpvh23vJVe+lt98tzeMD8pmuJWaWbHONzEDJwBmvkMLwNio4pe3qR9mnra92u1mrK/q7eZ/TmffS64dqcNzWUYKtHGzi1H2ip+zpyatzc0ZuU1F6pckea1ny3O+mtTNPJL5w+Z2b5uw/P0r40+OP/BbP9kb4T+MLrwV4O0zxJ49lsbhobzVPDEdtHp6upIZY57iRftGGGN0alD2Y11H/BXz4n+J/hd+wf4rn8IXktrda9e6foU15buVeG1u59s+COm+JXiz6SHvX4rKqIoSNFVVGFVRgAeg9q9XijiTFZZiI4bDWTtzNtX3bSSW3TW9z87+j54F8O8fZLWzzPZSlSjUdKnTjLlu4xjKUpyXvW99KKi46pttppH7lfsj/wDBSn9mf9tLW28GeA9U1LQvFMdu0y+F/E9skNzcxqMu9u8bvFcBRyVRt4UFioHNfPn/AAcC+I/Hmk/B74eeC9LubhfC+u+JL0+IlhUiK5uIII3s4JT/ABLzcShDwWiBxlBX5jeGfHPib4X+JdP+JngvVJLHWPDt9HqWl3cTENHNC29fwOCpHQqzA8E1/QZ8Qfhp8M/2iPhk3gv4t+ArHWtB1q1guLrSNQQlVZkWRSrKQ0boW+V0KsvYis8tzDFcUZPiMJNqNRJe8tE03dXXnytO3R7dDr454L4e+jz4mZNxHhYSr4Kcqj9lJqU4ShFRbjJ2UuX2salPm1U4Wc9pL8K/2NvFHj7wJ+1j8Odf+ErzRa9J4y06zt47QlWu4ZrhI57d8feieFpAyngKC3G3I/oGls8zSFZVC+Y236Z4rxL9nL/gnn+yB+zD43b4g/B/4RLa695MkVvrGqatc6hcWiMMMsBuHYQ7lJUsgDFSQTgkV7NKB5z8fxGvW4aybE5NhpwrTTcneyvZaW6pavrp0R+bePXilkPiln+FxWVYedOFGm4OdRRVSbcr2ajKaUYfZ95u8pOyJhYuxwsm4+iqTT0tmiiaFyQW/vKRX5d/8Fwf2qfjLoXxh0n9mbwV4x1Tw/4ci8LW+r6wuk3slrJq89zLMqrLJGQxhjWHAjBCs7sWB2rjkP8AgjF+1f8AGvRP2pNK/Zw1PxpquteE/GFlfq2marfSXS6bdQWstylzA0jFogRE0bqDsbzFJXcAazqcUYWGcrAcj+JR5v7z0tbtfS9/lY7ML9HriDFeF0uMVioK1KVdUbO7oxTk5c97KfInJQ5WmrJyUrpfrf8AYj/z2X/vmj7Ef+ey/wDfNQDBGdtLgelfUH8+lqW3LxIgkxt9uvFR/Yj/AM9l/wC+aLj/AI9ofoP5VDgelAGP8Tvg78M/jb4Fvvhf8Y/Auj+KPDepLtvtD1zT0ubaXjhtr52uOquuGU4IIIrwCf4N/tb/ALE4+3/sx6zqXxk+Gdrky/CPxjrYbxFokAH3dD1e4P8ApaKPu2V8xOF2pOuQtfTMIHnJx/FS3iq1wwZc8D+VAHAfs6/tM/Bb9qbw3e698I/Fkkl3o9yLTxN4a1iwksdY8PXeObW/spsS20gIIG4bHxlGZSDXo0EHk7iZAcivFv2jP2N/A3x28T2Pxh8L+KNU+H/xU0SEx+Hvip4RVF1KBO1tdxt+61OyJ+9a3AZcE7CjYaud+EX7YXjb4dfELS/2bP28/C+l+DvGmsyfZvB/jnR3YeFPHUg6JaTSnOn35H3tPuG3k/6l5VPAB9DiyI485f8Avmj7Ef8Ansv/AHzUO0qdrphl4ZWXkGjA9KALRt/9GWDzB1+9Uf2I/wDPZf8AvmhudPXjv/WocD0oAm+xH/nsv5VJcW5mcOJAvy46VUIHpU99zMuR/D/WgA+xH/nsv/fNSQWxik3mQNxjpVXA9KlshifgfwmgB7WZLE+cOuelN+xH/nsv/fNQuB5jcfxH+dGB6UAWTF5No67t3eq1TRf8eMn1NQ0AFFFFACp/rF/31/nRQn+sX/fX+dFAHZ0UUUAFFFFABRRRQAUUUUAFFFFABRRRQAUUUUAFFFFABRRRQAUUUUAFFFFABRRRQAUUUUAFFFFABRRRQAUUUUAFFFFABRRRQAUUUUAFFFFABRRRQAUUUUAFFFFABRRRQAUUUUAFFFFABRRRQAUUUUAFFFFABRRRQAUUUUAFFFFABRRRQAUUUUAFFFFABRRRQAUUUUAFFFFABRRRQAUUUUAFFFFABRRRQAUUUUAFFFFABRRRQAUUUUAFFFFABRRRQAUUUUAFFFFABRRRQAUUUUAFFFFABRRRQBxbffb/AHj/ADoob77f7x/nRQAUUUUAFT2eSkgH+eKgqez/ANXJ/ntQA0WU4GPl/wC+qbNZz+U33fun+KmBmx99v++qbKzCJvnb7p/ioA/Mf9hyNpP+Dh39oIL/ANAXxJ/6N0Uf1r9P/sc/+z/31X5f/sPE/wDEQ5+0EAf+YN4l/wDRui1+ne5v7zf99UATLaTBgTt4OetOuLeWWXemOmOTUKFt6/MfvDv71JeEifAJ+6O9ACfY5/8AZ/76qS2t5IpC74+7jiq25v7zf99VNZEmZsk/d/rQAGznJzhev96o7iL7JbyXd3PDDDDG0k000gVI0UZZmY8AAckngCkLNuPzN94/xV8l/wDBWD4qeIfDvgDw18J9GvZIbXxRcXVzrTRsR59vbeUFgPPKtJKGYdCIwDxkV62R5TUzzNaWCg+Vzb17JJtu3WyTstLvS6PB4oz6jwzkNfMqkeZU0rLa7bUYq/ROTV3Z2V3Z7HpHiD/go3+yD4d1CTw83xNudQZJNsl5o2g3V1ag7u0qoA4903D0Jr1H4bfEbwD8YfC8fjP4X+MtP1zTZJDH9psZjmOQcmORGAeJ8c7XAODnGK/Hmvav+CfnxS8QfDb9qDw/pOl3kq6d4suho+tWat8k6ureTIR/fjkClW6gFx0Y1+oZ14a5fhcqqV8HUn7SEXK0mmpJK7WkU07LTVro+6/DOGfGnOMZntLDZlRp+yqyULwUlKLk0k9ZSUkm1dWTtqnpZ/p0bKfH8P8A31Xxr/wUu/a78b+FvFi/s8fC3XrnSPJ0+K48UapYymO4czDdHaRuPmiUR7XdlIZt6qCAGB+xQ7tHks3K/wB41+df/BUL4ceIPCX7T1z49vrRv7L8Xadaz6fdhfkM0ECQTQZx99fLR8f3ZAexr5Pw7wmBxnEajiUnaMpRT2ck1062XM12tfoff+L+YZpl/B0p4KTjzTjGco6NQalfVaq8lGL7qVup88WN7qGl6quu6Xqd1a38cm+PULa7kjuFb+8JFYPn3zX6Gf8ABOH9qrxR8dtB1P4efEzUPtviLwzBFPDq0mBJqNi5MYaTAwZY3AVm43K6E/Nkn876+xv+CRPw511vFvir4xXFtJHpY0xdEspmUhbm4MyzTbT3EYjjBPTMmOoNfqniBhMDW4bq1a6XNC3I+qbklZeTV7rbr0TX4V4S5hmmF4zoYfCyfJU5lUj9lxUW+Zra8Wk097+7f3mn9wS2szyM428n1pPsc/8As/8AfVNnLecwDN97+9THdwjEO3T+9X84n9jnm/7S/wC1h8NP2VvD8EvjAT6lrOqK7aT4f0118+dV4Mrs3ywxA8b2zk8KGIOPnPRf+Cu9wdZUeJf2f1j01nwzaX4kMlzGvriWFUc+2Vz6ivE/2+tc1nXP2wPGw1mWRv7PvLexsUfOI7aO1iKKuexLu3uXJ714/X7zw9wDkE8mpVcXB1J1IqTfNJW5kmklFpaJ7u7b120X8p8XeK/FlPiOvQwFVUqVGcoKPLGTlyScW5OUW9Wm7KySst1d/sF8J/iX4K+NvgSz+I/w31yO/wBLvdyqzKUlgkXh4ZUPMcingqfYgkEE9JqLzWmmvdRW/nPbQPKsI/5aMiFgv4kY/Gvh/wD4JEa9rS6z4/8ACiySNpv2TTr/AG5O2O5MksRI9C0YAPr5Y9K+4pZHjghkRsMuCD+FfknEuU08jzyrg4PmjFpq+9pJSSduqvZvS9r2R/QPBfEFXijhmhmNSPJOaakltzRk4tq99G1dJt2va7tc/F3UfEGr+LdSuvFviC9kudQ1a5kvb64kJLSzSsXdj+J/Lioa+lP2uP2APiP8O/FuqePPg/4ak1rwjdSy3rWtkym40YEl5I3jYgvCvzFZFztXhgNu4+ZfAf8AZO+Ov7Rcel6z8PfBk0fh7VoY7i18Xakvlaa9s/SeOQ83CkcgRBt3qAc1/RWF4iyHEZesVCvCMLXs5JOP91q901tbr0vofx9juD+KcHm0sDUwtSdW9rqMpKevxKVrNPe99PtWadvt/wD4Jkaje6x+yFoti9nDDFpWsapZWvlRCMPGLky7sKACd0rgt1JBJJNfnL/wWq8b+JfE/wC3prHhPWbpmsfCfh3S7LRrfnYiT263Uzgf3nllIJ6kRqP4eP1x+EPwn8OfAv4aaN8J/CU0slno9n5f2mbiS5mZi8s7gdGeRmbHQZA7V8j/APBV3/gmv4v/AGo7ux+PnwDht7jxppemrp+r+H7idIP7bs0ZmhaGRiEW5iLuu1yFkRgNylAG/kXxEhLO/rFXAxfK6jmordxu+nfVSt5WWtj/AFK+ibnmUeH/ABTgY8RVIx/2b2HtJNctOq1T95ye0Woyp870SneTUeZr8lq+9P8AggH408TW/wC0D48+F9vcudH1PwWmr3EDMdiXdtdxQpIPRmjuHQkdQi5ztGPl/TP2F/219X8SDwlZfsk/EL7c0mzZceG5YYVOcZaeTbCq/wC0X2+9fqR/wS7/AOCf2o/sW+AdV8TfEq9tLrx54sWAasuny+ZBpVpES0VlHJj94+92eSQYUttVchAx/NeF8tzCWcU6vI4xhdttNLZq2u7d7W7an9qfSF484Lo+GeMy54qlWr4lRjTpwnGcrqcZc7UW+WMFHmUnZOSUU7s+rfsc/wDs/wDfVS/Z5Psvk8bt2f1rl/ib8Uvh78GfBF98SPir41sdA0LTYw17qmpTlY48nCqAMs7sflVFBZicAE18tn/gup+w0Nc/4R9YfH7Wvm4/t5fCP+jbd33tnnfaMd/9VnHbtX6disyy/AyUa9WMW9k2k/X089j/AD54d4E4y4soTr5Pl9XEQg7SlCEpRTtflulZytZ8qblZrQ+if2of2cvD/wC1J8BPE3wI8WXrWdvr1iFt9Qhj3vY3cbrLb3AXjdslRGK5G5dy5Ga/Er46/sP/ALVv7OXimfwt8Svgnr0kccpS11zQdJnv9Nvl7PDPCjAAjB2OFkXOGUEV+53wu+LHw6+Nfgiy+JPwm8b2PiDQdRUmz1PTZyyOQcMhBwyOp4ZHAZTwQK6ISzRj93PIv+7IRmvLzjh/B56oVee0ktJKzTW69VrdNNbn6N4X+NHFPg/PEZa8MqtGU250anNCUKiSjJp2bjJqKjOMoy+FaRabf41/sFf8Er/jf+0h8RdL8UfGH4e6t4V+Hen3cd1q11r9jJaXGsojBhaW0EgWQrIQFaZgqKhbBZsCv2Ya1uHdnIQbjnAPA9vpS3zN5qne33eu41Bub+83/fVdWT5LhcloOFJtuWrb6229Etber1Pm/FDxUz/xUzeni8fGNOnSTjTpwu4wUmnJtvWUpWjzS0TUYpRVixb20sUu9tuPrTZLSZpGYbfmbPWktCTOMseh70yVm81xuP3j3r2D8xPBf23v+Ccfwi/bisdM1Dxhq+oeH/EmhwvBpPiXR0jeQW7Nua3mikG2aLdllGVZGJKsAzA5X7Dn/BLf4N/sUa3ffECx8T6l4s8XXli9lHrmr20UEdjbOQXS3gjyI2fChpGZnIXaCoLA/Ru5v7zf99VNCzfZZOT3/lXnyyrLpY3626a9p3/W21/O1/M+1peI3HFHhV8NQx01gXe9PS1m7uKlbnUG7twUuR3d46sT7HP/ALP/AH1R9jn/ANn/AL6qLc399v8Avqjc399v++q9A+KLM1vI8Uca4+Uc8+1R/Y5/9n/vqluCfs8RBPT19qh3N/eb/vqgCaO0mWRXO3hs9adPayyTNIu3n3qGFm85fmb73rTrpm+0MAx7d/agBfsc/wDs/wDfVYfxM+EHw3+Nvw+1b4UfGXwLpfiTw1rlv5OqaLq1uJYZ17HHVHU4ZJFIdGUMpBANa+5v7zf99VPZEkvk/wANAHyhJ4w+Mn/BNKKHTfjV4i1r4hfs/wAcgisfiJeb7zxB8PIyQEg1jaC+o6YuQF1AAzQAYnDKPMH1LpN1Ya/pNrr+gatZ6hp9/ax3Nhf2N0s0F1BIoZJY5EyroykEMCQQeKWREuIWgnVZI5IykkcihldSMFSDwQRwQeCOtfKviL4fePf+CbOoXfxN/Z08Man4k+BNxPJeeNvhHpUbT3vglmJebVvD8ecyWecvPpY+780lvjmMgH1qbeT7KsIxuBqP7HP/ALP/AH1WR8P/AIh+Bfiz8ONH+J3wv8YWGv8Ah3XLNLvR9a0q5EtveQt0dGH4gg4KkEEAgitLc395v++qAJfsU5/u/nUlzbySyB0x93HNVizf3m/Opr1mEygMfu+vvQAn2Of/AGf++qfbW0sUu99v3ccGq+5v7zf99VNZkmfkn7p70ADWcxdiNv3s9aT7HP8A7P8A31THZt7fM33j396bub+83/fVAFjynhs5Ff3PFV6miJNlJk9zUNABRRRQAqf6xf8AfX+dFCf6xf8AfX+dFAHZ0UUUAFFFFABRRRQAUUA54pC6gZJoAWiuP+PvxgtPgH8FfFPxpvfAviXxND4X0O41OTw/4P0k3uqagsSFvJtoMr5krYwqkgZ6kAE1e+EvxFt/i18K/DPxVg8J67oEfibw/Z6rHofijTTZ6lpy3ECTC2u4CT5FxHv2SR5O11YZOM0AdFRSB1bgGjeoOM0ALRRuG3dXyP8AE7/grh4Y8I/tS/Er9kj4W/sT/Hj4peJPhLaaTc+OLv4d6Do01nZpqVn9rtVQ3mp28sztHu+VY8lo3AzjJAPriivHf2KP24/gZ+3p8JLr4s/BO41q1/sfXrnQfFXhvxTosmm6v4c1i22/aNOvraTJhuI967lBZeeGPOPYQ6k4/pQAtFAYEZpC6gZJoAWikDKRkH/61QahqEen2E1+YJphDC0nl28JeRwq5wqjliegA5J4oAsUV5r+yN+0rY/tb/s/aD+0BYfCDx54Dh143QTwr8SvD/8AZetWfk3MsH7+3DuED+V5iEMd0bo3BJA9JDA9KAFoppkQdT/9anUAFFNLqDg/ypdwK7gfyoAWik3rjcTwO9I0qhSR2GcetADqK+fP2Q/26n/an+P/AMevgc/wtGgj4J+P4PDS6oNcN3/bXmWguPtHleRH9mxnbs3SZ67h0r6C3pt37hj1oAWimtKoUkf3c/Wvn/8AZA/bpf8Aaq+O3x4+Cz/C0aCPgn8RI/C66kNcN3/bO+0Fx9o8vyI/s+M7fL3Seu7tQB9BUV5v+1n+0fYfsm/s+eIv2g9Q+E3jjx1D4djt2k8LfDfQf7T1m9865it/9Htt6B9nm+Y5LALHHI38OD534+/b7Pgv9v74QfsQR/CGaVPit4E1rxJ/wkl7q7Ws2kfYER/s72ZgYuz78EmVChB+VsUAfRlFeJfDv9uv4c+LPhn8XfjF8QPht4++HPhv4MeItb0/xNqnxB8JyWS31npcPn3Gr2CRmR7qwaMM0ciqHfYw8sHAPpfwk+K3gT45fCnwx8bfhhrLal4Z8Y+HrLXPDuom1lh+1WN3Ak8Evlyqrx7o5Eba6qy5wwBBFAHRUUFgDg1wP7UH7T3wP/Y0+BOv/tK/tIeOF8N+C/DEcD61rLWNxdeQJriO2iAit45JXLTTRoAqk5cdBkgA76igsAMk0gdWOAaAFopA6ngfypN6+tADqKaZFHf2ry/wJ+1Jp3jv9qTx5+y3D8FviJptx4D0nTL6bxprHhdoPD2si8j8wR6fe7iLl4s7ZBtXa6yKMlGwAepUU0yIOp/+tTmZVGWOKACimmQAceo4/Gvn3/gnL+3VJ+338KfFnxNl+Fi+Ev8AhF/ifr3hD7Euvf2h9p/s2dYvtW/yIdnmbs+Xtbbj7zZ4APoSimh1PQ9envSlgvU0ALRTd6kZH8qcTjrQAUUV5+v7UfwOk/ahk/Yzi8a7viRH4DHjOTw6um3Py6KbwWQujP5fkc3GUEe/zOC23bzQB6BRXz9+z1+3O/x3/bs/aK/YsPwt/spfgH/wiH/FS/259o/t3+3NMkvv+PfyE+y+T5fl/wCsl8zO75Pu19ABlIyDQAtFIHVuh/8Ar0pIUZY0AFFNaRVUn0GcetfP/wCxp+3Q/wC1r8Xvjr8LH+Fo8Pj4L/FCTweL4a4bz+2dtsk/2rZ5Ef2fO/b5e6Tp96gD6CooBDDINNEiN0b6e9ADqKMjOKTcvc9KAFopAyk4BpSQBkmgAopAwJwKC6g4JoAWik3DGcH/AL5NKTigAoppdQcZ+vtXA/Hz9qH4Hfsxx+DZfjd44XRR8QPH+meCvCP/ABL7i4Ooa5qDOLS0HkRv5e/y3PmPtjUKSzCgD0CivL/i/wDtP6f8IPjt8MPgVdfBn4ha9L8TrzUre38TeGfDJu9H8OmzgSYtqtxvH2RZg+2I7W3sj52hSa9O3r+mcYoAdRRuBG4H8qQOpPBoAWiim+YvrQA6im+Ynr9fanFgv3jQAUUgdW4Br5//AOCjf7cz/sB/B3w38V4/haPFh8QfEnQfCf8AZ51w6f8AZ/7SufI+0+Z5E27y/veXtG7puWgD6Bopscqv7fMR+RpSwHBNAC0UAhhkGgHNABRQGBGf6UhcDr/KgBaK8v039qHT9S/a+1D9kJfgx8QobnT/AAHF4obx9ceGSnhiZHuhbjT0vt/zX2W8zydmCiud2UIrQ/Z//ah+B/7Uem+JtX+BfjQ65beD/Gmo+E/EE39m3Nsttq9gypdW48+NDIEZwPMQNG38LMOaAPQKK4D9l/8Aag+B37ZfwO0X9o/9m/xwviTwX4hkvF0bWk0+4tVufs13NaTER3EccgAmglUFlG4LuGVIJ70SITgH/wCvQA6ikLqDg0oIPINABRSF1U4J59KXcuM5oAKKQOrHANLQAUUUUAFFFFABRRRQAUUUUAFFFFAHFt99v94/zoob77f7x/nRQAUUUUAFT2WSkgA/zioKltZokEitKqt/vc9KAGi1uAMeV/48KSa2uPKb91/Cf4hQLm4Iz5p/SkmuJ/Kb96fun0oA/MT9hxGf/g4d/aCCj/mDeJf/AEbov+Nfp99luP8Anl/48K/MH9h12X/g4d/aC2n/AJgviX/0bov+Ffp79on/AOep/SgBUtpw6kx/xDuKkuoJZJdyJkbfUVGtxOXUGU/eFPuppUl2o+PloAZ9luP+eX/jwqS0hljlLOmPlx1qL7RP/wA9T+lS2k0rylXfPy5oAjNtcEk+V3/vCvn/AP4KFfsv+LP2gPhhp+teAdON14i8KXE1xZ6erqGvraVVE8CZP+szHHIoJ+YqV6sK+gDcTgkeaevtSfaJ/wDnqf0rvyvMsTlGYU8ZQ+KDur7PSzT8mm0+tnoeTnmT4PiDKa2X4q/JUVnbdWaaa84ySaumrrVNaH4uamf7Ev5dJ1xWsby3kKXFnfKYZomHBVkfDKc9iK+pP+CcH7KfjjxZ8TdN/aA8V+Hbix8N+H3a40Z76Extqt5sZI2iVsEwx7i5k+6WCqu75sffV9pGj6sF1PVtGsbu5hP7q4urGKWROezOpIqZrq6c5MzM3QZ6n2r9BzjxMxGY5bPDUKHs3NOMpc3No9HyrlVrrS7enRX1X5Hw74K4TJ86p43FYr20aclKMFDlvJO8XJ80rpPWySu1q7XTRbO5wI0hYnooyMmsv4o/Czwd8WfCcvgr4k+DbfVtJnYNJa3sZASQfdkRwQ0cgycOhDDPWvhj9uv9uT4l+IviNq3wc+FHi+80Pw/oV09jqN9pdwYbnVLpPlmzKmGSFW3IFQjcVZmJBAHgHgP44/Gf4X66viXwD8Vdf0+8WTex/tSWaKbnOJYpWaOVT3DKc+3Woynw3zjEYOGM9uqVRpSirO66puSacX10Ta9dDXPvGTh/CZlUy76rKvSTcJyvGztpJRjJNTW695xT6XVm/vOw/wCCWn7LVlrA1O40nxNeW6vu/su78TN9nP8AskoqyEfV+fWvfvCnhTRvBukWfhrwvoNrpumafB5NnY2MKxwwIP4VUdOefUk5OTXnv7Jf7Rv/AA0r8HLXx9Nax2eqW10+n69ZW/8Aq4ryNVYtHnny3RkkUHJAYrk7c16dbzytOqvJkc18ZnWMzypiZYXMqspSptq0pNpNaXXTXv1XU/R+Gct4Xo4KOOyahCEK0VLmjFRbT1Sel9P5Xs9LJhLbztKzLHwT6im/Zbj/AJ5f+PCuN+Lf7RnwZ+B0scXxU+KGm6LNcDdb2UztJcyL/eWGJWk2/wC0QB71D8Kv2mPgl8bp5LL4WfFTTdXuoY98mnxs0N0qd28mVVcqO7AEDua4f7NzB4X6z7Gfs/5uWXL/AOBWt+J6n9sZQsd9SeIp+2/k548//gN+b8Dxb9uv9gzxJ8ctXX4wfCA2v/CTLax22raPeXCwrqkcYxHJHI3ypMi/IQ5CuoX5lK8/K2ifsHftha5ra6EnwF1azbdh7zVLi3gtYx3Yy+YRj/dDE9ga/U63lkeGRmfOOn5VCssg+YNz/uivrso8QM7yjALCRjCcYq0XJO6XRaSV0ul9UtL2SS/P+IPCPhniDNpY+c6lKU3eag4pSfV2lGVm+rWjetrtt/Pfw78FfCf/AIJl/sx658Q/i94rWRlaO88TapZwl2vLnHl29jaRHDP8zbIw2NzOztsGdvxF8Rf+C9v7UOteIWl+F3wt8E6Bosc2baz1qzn1K7dP+msqzRICe4RABnhj1r2n/g4Cu/FR+Avw7trd5P7Gk8dznUtudpuFsJDbhu3QzkZ7jivyxr8H444rzrEZ3O9Rpuzk1o5NpPfokrJJWStba1v9MPov+Bfh3U8O6OZ43CRrubnCEJtuFOEJONuW9pTnJSnKUruzjaz5nL9HPAX7fvjT/gqUnh/9g7xP4XsvAknjLUpB8SNd0fWWWPV/DltC09zpmnpJ+9iubwqsDgswS3E7KzE4X9JtH0Kx0Sxs9I0TR7exsbG3jt7Gzs41jhtoI1CRxRqvCoqgKABgACv5/P2T5/E1r+1Z8L7jwZ5n9rL8RNFFj5fdjexBwf8AZMZkDf7JbPGa/oLNw5uyscnyecQuMY254/SvV4UzbFZpgpfWNZQdr901dX6XX5W63Z+U/SO8N+H/AA94qw7yZclHEwc/ZXbVOUZcr5W7y5JXTSbdpc6TUeWMVuoZXlLqny465FM+w3h4NnJ/3zXxN/wV/wD+CiXj39mGPSfgH8BtXXTvF3iDTTqOra95SSSaTpxdooxArAqJ5nSTDsD5aRkgbmVl/Lc/G/45HxT/AMJ0fjn42/tzzPM/tj/hML77Tvzndv8ANznP4VGbcXYXLMW8PGDm18WtkvLZ3ffZdL3vbq8OPo1cScfcORzqti4YWlUu6ScXOU0m1zNJxUItp8rvKTWvLyuLl/RLaRyplXB2Y+Vd2R+VR/ZbjP8Aqv8Ax4V8T/8ABH//AIKJeO/2nIdW+APx61ZdS8XeH9NXUNI8QeWkcmraerrFIJwoCmeFnjy6geYkgJG5WZvtf7RPn/Wn9K9/L8fh8ywscRR2ffdNbp+a/wCCtD8X404NzrgHiKtkuaRSq07O8XeMoyV4zi2k3GS7pNO6klJNL8nf+C8Pxf8AE3iL9pDw78DDezJoXhfwzb6qtnuxHPqF48wM5H8RSGJI1Jzt3SYxuNfDVfqx/wAFjv2BfiL+0IdI/aN+Bvh+bWvEWg6SdM1/w7ZqDc6jYLI0sU1uvHmTRM8oMf3nRxtyyBW/LFvD/iNfEP8AwiLeGNWGreZ5f9knSZ/te/ONvkbPMznjG3Oa/JuKMPi6Oc1J1k7Sd4vo1ZWS9NmvI/0l+j3nvDeY+FuBw2XTip0IONaCa5oVOZucpLdKo25qWzTte6aX2n/wQn+MPifwv+09rXwSS7mk0Pxd4ZudQlst37uG/szEUuBn7paJ5I2IxuAjznaK/Ws2twf+WX/jwr4J/wCCOP7AXxG+Ad3qn7Snxz8PT6Lr2s6R/Znhzw7fRhbqws3kSSa4uE58qWUxxqsZwyIrFsF9o+9llu3z5Zdtv3tq9Pr6V+h8K4fFYbJ4QrppttpPdJ9Pm7v5n8SfSMzvh3PfFHEYjKJxnGMKcKk4tOM6kVaTTWjtHlg2tG4Ozas3JdwyyOpRM4HqK8n/AGtv2uvhD+xf8OIviL8X7m9k+3Xn2PRdF0mFJb3UrjbuKRqzKqqq/M8jsFUY5JKg+sXbzJtljY+W38a4Kn8elfIv/BWz9iP4nftkfDPwzrHwfubW58SeC7+7kt9DvbpbddTt7pIllVJXwiTI0MbKHKqylxuBxXp5pVxlDL6k8LHmqJaLfqr6dWldpdXpqfnvh7l/DGbcaYLCcQ1/Y4Kc2qk7qNlytxTk01GMpqMZSdlGMnK6tddp+xJ/wUk+BH7bGt6j4T8FaZrXh/xHpdmbubQfECw+ZcWu4K08EkLskiqzIGU4ZS6nBBzX0HJbTmRmEfVs9RX54f8ABJb/AIJq/tB/AT46XH7QP7Q2hQ+G2sdDutO0TQF1KG5uriS4KB55fIZ0jjVEIVdxZmfOFC/N+h0lxOJWAkPDYrnyPEZjicvU8bHlnd9LNro2uj+7v1Pc8XMl4HyHjSrhOFMQq2FUYu6mqkYzafNGNRXU4pWd7uzbi23Fh9luP+eX/jwqSKGVbeRGT5m6c+1RfaJ/+ep/SpYppDbyOX5Xofwr2D8xI/stx/zy/wDHhR9luP8Anl/48KT7RP8A89T+lH2if/nqf0oAlmhlaGNFTlRzz7VH9luP+eX/AI8KkmmlWCNlfluv5VF9on/56n9KAHRW86yqzR8BvUUtxbzPOzpHkHHcU2KeYyqpkPLe1OuJ5lnZVkwOKAG/Zbj/AJ5f+PCpLWGWMsXTGRUX2if/AJ6n9KltZZJNwd88UARC1uAMeV/48KUW90rB0RlZTlWVhkH86aLm4Iz5p/Sl+0T/APPU/pQB8sfE34a+PP8Agn14z1n9pn9nDwje658KdcvJNT+MHwj0eHfNpkzHM3iPQ4gcCUDL3diuFuFBkjAlBD/SHw+8ceDfix4H0n4m/DDxTY6/4d16xjvdF1rS7hZLe8t3GVkRgenqDyCCCAQRW558y2qzpKVfdww7c18l+OdLu/8Agmd8QdR+PPgK0uG/Z/8AFWqtd/FLwpY25k/4QDUZn+fxJYRKCf7Plcg31qg/dMTcxjHmCgD6wNrcH/ll/wCPCpLuGWSUMiZ+XHWqtjrFvqlhb6rpOq295aXUCT2l5ZzLLDcQuoZJI3XIdGUhgwOCCDVq7mlSUKj4+XNAEf2W4/55f+PCpLWCWOXc6YG31FRfaJ/+ep/SpLWaV5drvn5aAGPbTl2Ij/iPcUfZbj/nl/48KHuJw7ASn7x9KT7RP/z1P6UASrG8VnIrrjqar1YWR5LOQu2eoqvQAUUUUAKn+sX/AH1/nRQn+sX/AH1/nRQB2dFFFABRRRQAU2UkRMR/dNOoYBl2nvQB8M/8Ewfir8UvHf7dv7a/hLxx8S/EOtaV4X+M2l2fhnS9W1ue6t9Itn0sO0NrHI5W3jLfMUjCgnkjivl34YfF7/gon8Sf+CaP7WWp/s8/ET4leKvF2h/tpeJ9HeTQ9Ze/8T6d4Ot72wF5Z6B9sLrHcR2plEEKgbN7mJRKUz9UfEj/AIJdftS+FP2zPiV+1X+wj+3xB8J7f402em/8LG8O6x8L7bxEialZQG3h1PT2muI0t5jEcFJEkjZyzuJR5aRw/sm/8Er/ANp39hb9mbxz8E/2Yf25re017xH8fNS8fWPi7xp8P11yS5026jhU6VqCG5hM8ztCrS3sLQsSSURMmgDxfwz8bPgJD/wSg/a6+J37E37df7QXiTxN4d+Guoya1ofxi8eanJ4m+HGr2+lXBjWNb1UvbCSR1Zy4keJpYG8lh5bAcz8bPiB+1x8SbX/glx8P/hZ+2F468E6n8VvAF3D488SWesS3U+rRP4S06e5uLhJ2eK7vdpuHguLlJvJuZVn2swIb6Jg/4JD/ABN8XfDv9qTxD8d/2odN8S/Fb9p7wLH4X1TxHo/gT+ytG8PWUGnzWlrFb2IupppipndnlluGdwsagJtbf0sf/BLnxFF4q/Yr8RD4y2JX9lDw7caZqUf9gyZ8SGTQINK8yI+d/ooDQmTa3mcOBnK5YA8W+F2m/GT/AIJof8Fcfhx+y9B+2L8XPip8LfjZ8LfEGoXmj/GLxlJ4hvtD1fRVSc3dpdyoskcUsJ2GAHaXeRjnEQjw/wDgn98G/wBqn/gqf+yjF/wU78df8FCPjJ8P/HXxD1LUtS+GfhXwL4w+z+FfBdpY6hcwWFpNpPltbaurmDNy10rNNG+z926mQ/YPxl/Yc1j4pf8ABRH4JftwW/xHtbOz+E3hrxNpd14ck0lpJNSbVII4ldZxIFiEZTJBRtw4GM5HwTdw/s6/8E/PhX8UvgN8CP8Agvn8M/AfwJ03X9amvPhpb6fpepeOPBObiaTU9C0O4OoB0lkl+1LCJbKeaJnVkEj5lYA+qP8Ag3c+LPxQ+Of/AARy+D/xY+M3xE1zxZ4m1pfEM2qa94j1SW9vLlh4h1JEDzTMzsERUjUEnaiKowFAr54+H+qft8aX/wAFwf28n/YW8D/CDWbptM+GR17/AIWv4l1TT1hceHZfsv2ZbG0nEwJ87zBI0WNse1juYr9Kf8G+3wR+JH7PX/BHX4HfCv4teG7nR9eg8O3uoXWm3kJjmto7/U7u/hSRDhkkENzFuRgGVsggEEVna/8A8E6P21vAf7ePxw/bG/ZQ/bG8A+Frf46WvhuDXNH8X/CG51ubSv7H037HDJbyx6rbI7MWmch02/Oq4OzcQDwH9gHx18E/An7EH7V2m/teftH+MPgP8XbL4oXWs/tSeL7O+sLC58O6tqK2728mhSqt1GLGeBVt7QlZbmR2k2rveKua/Z2/aVvvg1/wVf8AgN8H/wBm/wCL37XXiD4Y/GXT9f0nxZbftL2HiFtNv2tNJkv7HUtDutcijuElLI3nCPCtG8Z2r8pr3nXv+CC2i+Lv2T/H3w38Z/tceJtW+NHxI+Iml+PPE3x0vfDtpvl1/TWU2G3SUYQDT4VDKlkXYASthwAip05/4Jq/th/E39sH4H/tnftS/t0aP4o1b4N63qkth4R8M/DUaLorWd/pcllOyq13cXD3ruYnM0kxhVUKRwIS7uAfOHgr9uv4/fsD/sK/tmfswfFT4keLvGnxU/Z78VPpnwr1/XNRuNV1bWtO8VMB4Vne4mZpLydJ7hldVJMaQLGMBBjN+NPxc+IvwS+NnwX/AOCT37Qv7Wnx+sfDvgL9n+z8bfF/xx8JYfEWueLPGniO41H7MLN9RsILm+sbBZUuZjIHTcjxW24YTHU698NPgL/wVU/4LueEfjZ+zvrd9rngT9njw9b/APC4PF2i6g58P+I/ElneSXOgaRGUIju7mxmnmvJJl8xFURxFlYKK+tP2vf8Agnv4++Lf7SfhX9t79lH9pab4T/F7wz4Zm8M32r3fhePXNJ8SeH3uPtX9mahZPNCxVLjMkc0U0boZHyHOwoAfJf7K3x5/bon8IftYfs1/saeMvjF4/tdE+HsHiD9mvxt8evCOp2es2uq3VvOl3pEt5rlrB9vaG5VHtWuFZVDBJXljUsO1/wCCNHxD+Afijxtq3h9P2v8A9qG6+NekfDeNPiV8Ev2kfFmoG606V5o2k1eCwvYwq/vcRLLZyeSkVxGrorSIT9OeGPgj/wAFFbn4PeO/D/xE/bx8I/8ACa+IYbYeCfEXhn4KpbWPhJ0z5p+x3Wo3DaiJOP8AWypt52+3F/Ar/gnp8fB+2f8A8N4ftl/tPaB468YaT8Objwb4O0fwX8Oz4f0vSbS4uBPcXMvm3t1cXc8hRAA0qRxgyYQlgygHx7+wr+0V4K+JX/Bvt+zx8Q/29/8Agof8a/CereJvGuqw/wDCQeB/F2o3HjDxtdp4h1a2t9HSWCG51K5Vl8kFbbbIqQRjekamuk/4Jp/tT/EfSP29fjZ+xJpPjf8AaO1L4fzfBJfH/g2P9pjTdStPEmhXaXj2FzHaz6iq3txYyl43jeQkJJbuqYZZGftPg/8A8EJPif8As/8A7MH7LnhL4OftgWOl/Fn9lnWfFV34X8Y6h4DN9o2sWuv3N099Z3OnG6jkXdFNHEsyThk2yMoDOrR+mfAT/gmD+0R4J/bx8T/t4ftBftn2/wAQte8YfA+48Cahp8PgNdKtNMdtUF3AbCJLiQxWccShDDLJNNJM8spmAcRIAfDf7L3wW/bL/aT/AOCFNr/wUz8Z/wDBVn9oTT/iR4V+FWt634N03w/44NrokKaHJfGGHULfy2fV5blrRmuLi7eRyJVjUCOIK36ufsB/HfxX+07+wv8ACL9orxzFBHrnjb4ZaLretLaR7IheXNjFLMY1/hQyFiq5OAQK8k/Zi/4Jl+IP2ff+CO8v/BLu7+L9nqWoSfDfxJ4Y/wCEyj0N4oVfVGvys/2YyliI/tgyvmAv5ZwV3YHs/wCxX+zzffsl/se/DX9mTUvFUWuXHgDwHpvh+bWIbM26XjWlssJlEZZigbbnaWOPWgD8/wD9kb4MftBft5ftb/tceBPi3+3t8a/D/wAPfh3+0Ff23hLw38PfiDdaReRzz2Kble/QtcLZQII2gsYXjt1leZ3R8qF8c/ac/bG/bK/Z9/4Jcftxfsy+JP2lvFmv+NP2XviN4Qs/BPxaGsTWuuahoepavplxawXl3atFJLcrAZYJ5lZTKkpU9y3ov7A3wH/a38Yft2/tvfE39kf9sKz8BXzftDXGla54b8YeA08RaJfxrZI8N3HElxaz2t5EZphvWYxSr5aSRN5aMvtXxI/4IVjxf/wTD+Mn7E5/abvNY+JXx38VWvij4lfGbxJ4dQyarq8epWV47rY28iLbWwS08qG2SQpCJCRkZBAOP/autP2x/wBhf4P/AA7+BHhv9uTx14j+MH7V3x10Tw14o+Ivii6hurHwPHPbvLqb+HbBoxDYxBUKQWzbyPM3bw6qwP2lvAfxk/4I8/GP9nr4yfCn9tL41fEfwd8SPjJofwv+JPgX4yeP5vEsd9FqaXCw6taSXCeZZXcMkZd44CscuI12oqsH+wP+Cgv7B/gv9v74HWXwy1/xxq3hHxF4Z8UWHiv4d+O/D6o174Z8Q2LFrS/iST5JQpZ1eJsbkdgrI+yRfJ9D/wCCaH7SHxp+Pnw4+NH/AAUS/bO0z4oab8H9WXW/Afgfwj8NF8N6ZN4gjRo4Nc1HdeXT3NzGGLxxxmGOKQbl+VnRgD5d/Yz/AGSPGn7V/wDwUW/bf0vV/wBq74meAfBmkfHC0l/sP4TeJm8P3+q6k2klBNdalAn2ryIYiDHbRyJG8rF5Vk2Rgejfsb/H/wAf/DrwZ+2N+wb+2x+3F4mtdF/Z01WxttL/AGgtR1i2h16z8O6zp5urIz3ksDxz6jbqNnntGzySSqFTdsFd54W/4JX/ALW3wL/aV+NH7Vf7LH7del+Gtc+MfjqXVda8MeKPhuda0JrFbWGK0XyReW88V7A/2tvtEc3lypMiSQny1Za2tf8ABCXwd42/YG+Lf7K/xK/aa8Ra98RvjZ4qh8W+PvjVdaFbx3F5r9vcQXFrIunIwhSwia3RFsd+1Y3kVHjJVkAPmX4VftRQfs//APBQz9nGy/ZR+Ov7Y3i/4b/FjXJvCvi9v2jNN8Q3Hh7X4J7CSex1LSrzXIY2iuVlTzWEKqJYuiooYP0P7Fv7IvjT9q3/AIKEftvaZrH7WPxM8A+DNJ+PEMv9h/CbxM3h++1TUn0vb511qUCfajBFEV8u2jkSN5CXlWTZGB9CeL/+CYn7bfx4+OvwR/aC/al/b/0bxHffBn4gWuuaf4Y8M/C0aNpF7AtvNDcyzKbyeeS/lzDsm81IIVEqrbnzCwj8Jf8ABK79rv4EftH/ABq/am/ZZ/bv0vw3rfxk8ez6vrXhjxR8N/7a0I2ItoYrNfJF5bzxX0Dm7Y3Ec3lTJLGkkJ8tWUA+Of2m/wBrL9sz4Bf8Ezf29v2QfEH7VHjbWvF/7Mvizwnb+AvjFFrstp4im0PWL6wuLSG5vrUxvLdxQ+ZFNOCGkEzBht4P1b+0SWk/4OCP2SWlZnLfBHxoWaRixb91Dkknqan+IP8AwQ1m8Wf8E1vjZ+x9c/tOXeu/FD4++JLfxF8SfjN4k8Nx7tS1OO/tLn5LC3kVba1WO18qG2SQrCJGIJHy17p8R/2EtZ8d/wDBRj4O/tyw/Eu1t7P4XeA9c8P3Hh1tIdpdRe/RFEyzebtiCbclSrE9M85AB8CmLx/+1h/wSs/4KXQ/GP4/fEu8/wCFb/tFfGL/AIRRrX4gahCbfT9N0YNa6M2Jfn0oeY4awP8Ao7BuU6Gry/sy/HX4Df8ABvn8Of2tv2O/2j/jA3jzwn8NfAHxU/sPWPitq13pt1babpUNxf6NHbPMVh06S1nuWNjGPKkNvboV2ooH2J+zx/wS1074Y/AL9qj9nj4k/FFtb0f9pr4seOPFOoXGk6abObSLHxFaR2z2al3kDyxIrES4CsSPkGOcf4JxTf8ABHT9gqXR/wDgpF+214K8T/Dj4e+HdO8O+E9SHw+/sWc6baWjQRWUkP2u5Oo3UsUaIscahiImyJCzMADjfE37Sviz9vf/AIKU/sz/AA//AGbvil4o0f4Y6H8JD8bfiF/Y+qXFjHrtrqSJb+HtMujA65/e+dcyWsu5JI4zlTgGuZ/4OtvhXp3iv/gjf8RviVc+M/FVjc+D5NGkttL0jxNc2unan9q13S7dlv7WNhFeqgPmRiVW8qQB0wea3P8Ag3O/YT1P9lL9kzWvjR408L+ItD1r4va4NT0bw34uvnuNS8N+EbYyx6Bo87Ox+eG2lkmK4UobsoyqykV9P/8ABRn9ijwt/wAFFP2KvH37GnjHxddeH7PxtpcMMeuWdqJ3sLq3uobu2nMRZfNVJ7eJmj3IXUModCQwAPiv/gpD481D9gB/gf8A8E8/hz+058ftO0f49eNPEWp+NvidBrGs+OPGWl6JpWm28tzY6UzJdXlu87vboksMbi1Hnz7cl2qf9gD48+KPAv8AwUp0z4GfAL4m/tM/Eb4J/ELwHqF1rH/C/PCfiZpvBniOyaNong1TXLSKQ2t1beYpt97hZwGDDeI69q+Kf/BNL9pf9ov4V+AfE/xt/bdtbP8AaC+Eviu51f4Y/G3wL8NobBdNiuLRLW5s7rTJ7maO8guYwxnRZIRIfLUBURlk9e/Zq+F/7fnhXx7ceJv2rv2vPA/jTQ/7Dezs/C/g34RyaEFvPNiZb+S6m1K7kdvLWRDCqomZd2cqAQD4c/4N6vh/+1F+0J+w/wCA/wDgoD+0z+3V8VvFV3L4c8RaH4V8Ft4un/sg2MN/dWxvdSWXfPf6l9ohuGS5eYCKIwxogEYrwH4M6F+294r/AOCCWi/8Fdr7/gp58cP+FpeBvBk2ueGdEXxcx8NvZ6RqdxCbTUrEoTq8lzHHK0txdySSb3iRSIYhG36hf8EwP2ENY/4J7f8ABPbwb+xHq/xLtfFF14Vh1mNvEVvpL2sdx9u1O8vQfIaRyuwXQQjec7M8ZrzX4af8EmPE3w//AOCJF1/wSXk+N1jdalP4D1fw+PGy6DIsAe8vLi5Ev2Xzi2FE4UjzOSu7jO2gD5t/aI0L9rH9j/4XfAP/AIKg2X7f3xc8S+LPF3xI8Hw/FTwDrXiXzPBup6brzRR3VlYaPs8mwEPmItvIC0iqGZ2kkIkHufwd+Lfxa1b/AIK7/trfDPU/ir4muPDvhf4V+DbrwvoE/iC5ax0e4n0u5aaa1gL+XbSSMiszxqrMwBJJ5r1D9rr/AIJ1a9+0v+xj8O/2VtO+K1npN14H8ReD9Tm1qfRXmjvF0WWF3QRCVShl8o4yzbc4OetaXgL9gXXPBv7dH7Qf7X0vxQtZ7X42eC9A0Oz0NdHdZNIbTrOa3aV5fNxOHMu4KFTAGM9yAfm7+zb8Gf2y/wBof/ghRbf8FO/GX/BVn9oLT/iT4R+Eusa94P07w/42NrocMehtfNDDqFt5bPq8tybRmuLi7kkc+aqKBHEEb3r4l/tqftOfts+Gf2Gv2U/A3xh1T4XX/wC1H8OLjxf8WPHngkx2+rWNjY6Jb3k9lpUkiuLaS5uJnAnUGSBUVhuG5T9Dfs4/8Ey9f+BX/BHK4/4Jb3nxfs9S1Cf4Y+IvCg8ZR6G8cKvqf27bP9mMpYiP7YMr5gL+WcFd3HO+Kv8Agj3d63+yj+zh8PfA/wC0nfeCfjH+zFoVlZ/Dv4vaH4ejuER1sI7G+huNPnk23FndwxgSQ+ajZRP3m3ejgHn8cHxl/wCCYX/BUP4C/AHw7+1L8TviZ8Kf2j4fEGl6t4Z+LXi+bxFe+GtY0uwiu4L+wvrkG5EMo/dyW7OY1LyScny1j+Z/2cf2u/jB+yF/wR++LPiT9nbUbLTfiF48/bU8Q+B/BeuapapPbaNfaprEcX26SNwUfyolldQ4KeYE3q65Rvv74I/8E6fi/f8A7X2h/t0ft1ftO2PxP8aeCdBvNK+F+g+GfBP/AAj+geEVvVWO/u4YHurqe4vJ40EZmkmCiN2TYcRmPj/hv/wRR8BS/sCfFT9g74+/E6413TfiN8Uta8Z2fiDw3Ytpt5od1c30V5aSW7O8mJreWJTvztcFkKlSwIB4z+3x8H/j3/wRv/Z40r/gon8If2/fjp8QpfAHijR4vir4R+K3j6TXNL8ZaRf6lDZ3SQWcy+Xpt0slxG0MltsEcaspV85rvfG918Yv+Ckv/BWD4vfsfy/tM/ET4Z/Cv9mvwz4ZfVtI+FfiqXQdT8V69rlrJeRTXGoW2J1s4LZWT7PGU3SlXLEDaek1P/glf+1z+0je/D/wX/wUT/4KB6f8UPhz8Pdds9bk8I+GfhPF4em8Z6lZsHtJ9auPttws0SPvZrWCOKKVirNyi4wv22/AHwZ+An/BQxv2qfgz/wAFS/hT+z38WvFXgG1tPiB4J+LC2V5pXjPSIZZY7LUGtZr+ymjngaKeNbiKUgrAEwg80yAHzjpPwr/b7+IXxN/4KCfsBeAP2+PjB4k8TfCbwH8Ppvgn4quPFk1rrEU62N1qsNq8lqYo5J7gFLG4udge6ULLLuk5HqWu/t6ePv8Agp/p37Cvw0/Z0+JWu+GJPi5O3xI+M1/4J1qeyfTtE0CLytR0mWWF0lFvdas5sgykbjBg4Gc8v/wSG8deBvhF+0v+3F/wUQ+NP7YFv40+Ft1feDdNuP2gvEENtp+keJNU02wmi1NrFYQIxZw3U8NpaxxNNvUwxpLcNh37n/ggb+yZ4Vh8XfGb/gpto3g7W9G8M/F7xZqMPwK0PxBA63Gj+BzqVxqDSW8JUNawahfXEt0tttwI4rd1LiTewB+mK8pgmvya8T/sP+DfHX/Byj4n8KXXx9+NmnR6r+yzH4xlu9E+MmsWdzBcSeLnRtPhmimDxaYBnbYKfIQklVU7dv2H/wAEk/Bn7Umm/s26x8Xf2xNY8ZR+Nfij8Q9c8Xt4P8Z6tJcyeDdNurpl0/RYEZ2W2iitIopDAu0RyTyKQCKz/wBo/wD4J5fGzxf/AMFA/Df/AAUN/Zd/ai0vwJ4ltvhuPAPjDRfEfgEa5Zavog1L+0FaLbd2721wspYb8uGGzhQrCQA+Svh1+yl43/ax/wCC5n7e/hKz/ax+JXwx8K2MPwtn8QW/wp1xNH1fV7s+HD9k/wCJkI3mt7eJVui8MOwzPLFufZGyScda/wDBST9rn9hz9hP9qT4F6h8dtc8d+OPhD+0BZ/DT4TfEvxhp7azqqWWrPB9muL1UjZtRu7SFriUFo386URoY2TCV+iH7Ov7Der/A39vX9pT9sy6+I9vqVt8e18Hi10CPS2hk0b+xNLlsW3zGRhP5pk3jCptxg5615Pf/APBFrwT8R9H/AGpPBvxo+Kl3daT+0N8RrHxbpF34atWsNS8JXdnHCbWaC4Z3DTxzwpIHCqCAykFXIoA+XdA+N2v/ALOX7R3wP8QfsYftGftnfFe81r4o6X4T+M3hf44eCPF82j6joN+8sN1rUf8AaemRwaZPaTmCZVt2gUp8hUoJFP6b/ti+JPhz4T/Zd8beIPi9+0TqHwn8N2+gzDWPiJo+pQWd5okTEJ59vNPFKiTkkJH+7di7qEUuVryz4Efs+/8ABU3wX4r8L2nxy/4KNeCPGnhfQLoNrS2XwGGm6x4mhETL5dxcjVJLe1O9lcvBbgny8YUMRXVf8FIv2G9D/wCCif7IfiT9lrWfiLfeE5tXmsb3SfE2n2SXTadf2d1HdW8z27sqXMQliXfCzLvUkBkba6gH50/Bj9p4fAf/AIKT/s7eHP2Wfjd+2F4r+Gnxbvr7w34wX9pDTfEM+ha5GdOkutP1PR7vXYY5IrgSIXkWJQJYiMKgB37H7C37IHjX9q/9tz9tqx1z9rT4neAvBek/tHXMkOhfCTxQ3h6+1DU308K1xd6hbp9qeGOIx+VbJIkRk3vKsmEC/RniH/gmV+2p8bP2ivgj+0x+1L+3vo/iTUfgz42XVdP8K+F/heNG0e6tns5re5kkVry4nkv5CYCsxlWCFRIqQfvCxo+BP+CVX7Yn7Pf7QPxq/aV/ZY/b50vw7q3xm+Il7rmteGPFPwz/ALa0NbNookstkQvLeaG+tybstcJKYrhJYkkg/cowAPnWf/gpj+17/wAE/f2G/wBtP4U+MviVdfE7xx+zB400fQPhv4/8XNHLd32n6+9tHpkmoybQl1dWgnaSWRsCUqqtgcnsv27v2Zv2rP8Aglx+xfff8FDvhh/wUn+N3jj4nfDD7FrPjXR/iJ44e+8KeM4Jr22j1GzOkOn2fToissn2c2wWWFcIHLkTL9DfCr/gjL8D9N/Yq+Kv7J37SXxC1v4oav8AHjVrrW/jF8RL61gsL7WdYmMbJd2sMYeKxS2khiktrcB4oWjHDAkHivEv/BI79rv9oj4ZeGv2U/24v+CkH/CxPgv4f1Kxn1zw7pXwvj0jW/G1tZypNaWer6mb6ZXiSSGHzGggjlnCFmdHIcADvAPx68f/AAM/4LRt4R8f/FLxFL8K/wBqb4K2/ir4cab4o16eW10HxDokanUdPsYZXKWiSafMLybYFBdRkYUY+Prj9vr9pnUPgJoPxqvv2h/ij4Zi/bc/aS1ZfCeqaHo+p61qfgj4X6UssaRaNpccVybbULiOPd9ogt2yt155TdGki/oV/wAFaP8Agmlrv/BRf4IeHfBnwp+Ocnwr8aeE9cmuvD/jix0f7VLa2d3p9zpuo2QRZI2Ec9pdMp2up3RR8jGa0v2o/wDgl98PfjZ+zX8M/gj8FfiXrPwr8QfA270y9+CvjrQbWK7uPDVzYWv2SASQTYS9tnh+Se2chJ14Y0AfKX7G3x68S/DL/gpR8NPhD+yx8Uv2p/iR8I/id4f1y0+I1t+0F4V8UTR+DtUsbJbrTtSttR1uzjkRbry7i2e3WUxb2VioJiC+5/8ABb39sf4j/sx/Br4a/DP4SeNta8K6z8ZPizpvg++8YeG/DNxrGq6Bo7xy3GoXmn2dvBPJcXvkwiKJFidgZi64ZAw9d/Zy+Ev/AAUR8LfESHX/ANqP9s/wL4y8OWujz2i+HPCXwbfRJby6ZojHfTXUup3RDKqSAwxRohMuc/KBVn9v/wDYb8O/t2fCPSfBzfEjWPA/izwd4ssvFfw58e+H4o5Lrw7rtpvFvdCKX93cxbZHSSB8LIjsMq21lAPhn9lb44618I/+Ch3we8C/sk/GX9rL4k/DP4iWuq6L8WNJ/aC8K+K7qLQbi3sTc6brFpf6zYxfZmkmSWGaNJTEyuD5SlUYaP8AwTs+GP7Rn/BXr4AXX/BTbx9/wUG+NXw+1Tx14s1WX4R+Ffhz4uFjoPg7S9O1OW1s47rSzG1vq8zy20huDdh0midU2pjcfsT9nn4Of8FIfC3xE03WP2mP24vAvjLwzpmnz29xoXhj4KvotzrEzKBFdXF1JqlwImQgsY4YlRtxHAAx418Of+CUn7UH7Mur+MfhZ+xl/wAFB5Ph/wDBfxx4suNcPg65+G8Gpa14Ra7mWS/g0LU3uVitUmJk8rz7W4FsSHCSvvZwD4n+GX7Wv7V3iT/g38/Z1+OniP8AaS8cSeOPEn7VVhp/iLxRB4svUvb60k8VX8Mlm84kEjWxjVY/JJ2BEVduFAH23/wVv+KvxS+Hf7Rn7Gej/D74leIdBsvE37TVnpniS00XW7i0h1aya1mY2tysTqs8JIB8uQMpx0r5m/4JIfsIeDf+Chf/AAbTeEP2V9X8d6l4VmuPE2u6h4X8XabGJ7vQdUsvE95NaXaruQS7WTa6hkLo7hWjYq6++eI/+CSn7aHxz+MfwR+P/wC11/wUbh8ba58F/iVp/iDStG0X4YwaHo89pHHIt55kMVw8k1/cMtswuHcQwKkqRwDzXYgHG/8ABQzxF+zN4u/aT+IXhXSP27f21tW+Jljommi4+G37LtxreoWfgDdb7YJpbXR7UW6yTujTPHfzSSPu+VY4ytfJPxy8W+Nf+Ck3/BOT/gnD+2p8eviz48t/GHjX9qfwj4H8SL4b8aXemWU3k6trdm+sRWtsyRWuqt9l3rewqksXmMqFVCgfodoX/BML9q74K/HH4ua/+yb+3zb+B/APxw8eSeL/ABdo998ModU13R9SuFjS/fStSkulhiMyx4j+02twlthCsbkNv43QP+CF2veGP+CWnwZ/YL8LftS/2X4y+AfxYj+IPw9+Iw8Ii6t11SDWNQv7YXOnvOvnIItQkiZRKo3qr4ZQY2AJv2jYPHv7LH/BRv8A4J+/sx/Dr4/fEy88K6tq3xHh8UQ+JPiFqOpT+JFi0ZbqD+05ZpSb/wAmZy0XnbxEAAm0AVzfwE8IfGH/AILAfHj9or4kfFD9sj4xfDfwH8JPjJrfwr+H3gf4M+PZvDZjk0yKEXesX1xbL5t7PNJNG8MUreXCFYFJA4I9+8X/ALAnxx+Lf7R37LH7T/xp/aE0DVPEnwBuPFdx4mOjeCZbC38RyavYfZI/s8Ru5fsYhULnc0vmYJ+T7tc9r3/BM79o74NftI/EX4+f8E8/2zdN+GOn/GDUBqvxA8D+L/hqviTS110oI5Nb0/be2slrcuo3SRuZI5XO5+FREAPiD9pL9vL9tz4b/wDBJj9pr4ca7+0JrOpfE79mf9orRvCXh/4p2tw9jea9pJ1jT5LNr5rQxh5jBK0FwqjEiY372Z3f179sv4UftN/8Et/il+z7+1d4Y/4KO/G74kaj46/aD0DwR8VfC/xD8TR3Hh3WbLWHm+0z2WlRRJb6W8bxHyEgAWJSoy21vM9R+K//AAQt0bxL/wAExPG37CHgz9oG8k8YfErx9beNfiH8WPFWii6utf17+0ra9uruS2gkjWJXFusUcSNtjQLkuxd29z/4KQfsLax+3b4P+F/hjR/iRbeGm+Hvxu8O+PZprnS3uxex6ZJMzWgCyJ5bP5vEhLBdv3TnIAPQP2zP2hG/ZR/ZG+Jv7TMehLqkngDwHq+vwaZI5VbyS0tZJkhZhyqu6KpYDgEntXyV+wv+wZ8Y/wBor4HfDH9tr9qP/go1+0JqXxC8aadoXjjUtK8HfE6bRfC9msoivo9Jg0i1T7K9n5TR283mCR5x5jB03gL9zfEr4beC/jB8N/EHwj+JOhR6p4d8U6LeaRr2mTMypeWV1E8M8LFSCA8bspwQeeDXyF+y1/wTy/4KCfsc6D4b/Z/+E/8AwUp0nWvhD4T1WzHh/SvHvwbTUPEVjodvMjDRBqUOoQQyRmFWhFw1tviVwI1VURVAPmX/AIKTfEj4HQ6z8cPFf7PH7fv7bPir4seEbq8uGtfgjPreq+E/AGrWsBmg0y9g0+0XSltleMLcw3Dy3AUTCV0YcP8Ajv8AtI/thfta3n/BMvWfh3+094j+GGt/HXw1rUvxFv8AwnN5dvdiTw5Zz3bizfdbvKo+0taNPHKtrNIkoVimG9v8N/8ABHj9p74beBvip+y38Hf+Chi+G/gn8VPE2u6zfaTF8L4bjxRpaasH+2WFtq8t20PlOXY/aJLSS4VTtRkcLKvSfD3/AIJL+L/B7/sTTX/xx024b9k3R9SsdSEXh2Vf+EjFzpCaerRkzH7Nt2Bzu37s8bcYIB5r8HfDnxv/AOCc/wDwV/8Ahn+yXpP7Yvxa+Knwz+OXwx168n0f4zeM38QXuh61o4jl+12t3KiyRxSxMEMA+Uu8jHOIhHsf8HLsPiy7/YT8E2/gPVbWx1uT9oHwWuj3t/a+dDb3RvnEMkkf8aLJtZl/iAI719C/GX9hvWfin/wUQ+Cf7b9t8R7azs/hN4Z8TaXdeHZNKaSTUm1SCOJXScSBYhGUyQUbcOBjORV/4Kkf8E+R/wAFJvgF4f8A2frz4p3nhHT7H4j6H4g1jU9Ljb7bJZ2UzPLDayqw+z3DK37uchxGwDFGoA+TP+Ch/wALP2iP+CTvw68M/wDBRn4Wft+fG/x7deHPiFpNt8WfB/xJ8af2jovizStT1Fbe6W100RJbaZcLJNH5H2RI0hjBUIcVk/tTftjaT+0B/wAFMPi9+zv8dP2gP2i/A3wy+BtroWmaDof7OPh/xKbrxFrWo6e95dXupajoVnLLDHAjxQw2jSKkjK0u0hGB978T/wDBLr9q/wDaV8b/AA/0n9vj9vyz+I/w1+G3ia08RWvgvw/8KYNAuPFeqWjb7O41q6W7mSZImLFre3hggmYh2RSqheq+Mf8AwTs+Oeh/tgeIv24P2D/2sLP4Z+KPHmk2Fl8UPC/irwKPEOg+KnsYzDZXbRJdWtxaXMULGMyRSlXRUBQHezgGB/wRP+OXx2+Jfwm+JHwq+MfiD4ieKNN+HXxMu9H+G3xE+J3g++0jWPE3hh4IprGa8F7b28lxdxbpIZZzFGZNiMy7mJbxrx9+3H8QP+Cbv7TX7d2h/Fr4q6prGn6X8MdL+L/wO0XxVr9zeLGt1DPptxYw+cz/AGe2OtrawxwxDYnnjAGcV9+fs2eCf2ivAvgGfTP2nfjzo/xC8SXGrT3KaxoPgkaBa21s4Ty7RLb7TcsRGQ/7x5S7BuenPgH7ff8AwSn0z9tz9qz4N/tFD4ox+HbHwJdfZviHoP8AYouv+E20WHVdO1m00yZ2cCKGPUNMilPytuEj/QgHw/p/7Uf7an7K3/BLz48/8E6fH37SeteMf2oPCPxF8O/Dzwb4ovfEl22q3knjOGxuNPnW+eR5hPD9p1ZYnDkxjT0CsNox6Z+0X8I/2ofiR/wWQ8Ef8E4Phn+3n8WfBHw/T9jGxu/Gmr6D4wuf7bvEsNdntvttrPM0iQ6pcSfZFmv2jknaFJUDDzCa+kvjx/wSj0z43f8ABUL4cf8ABQK7+Ka2mheErOzufE3w6/sYPB4g1rTYdVi0bU2m3jy5bUaxdEEq2QkYGOSO5uf2HdXm/wCCq1r/AMFGl+I9uLG3/Z/k+HH/AAiZ0t/OaVtaGpfbftPmbduB5fl+XnPzbjnAAPnjSrj4j6v/AMF0vE/7FmpftBfEqTwG/wCwvbKNPj8eX0Ukd/Jri2LavG0ciiLUzD/y+xqswbkMK8h/4IgfsC+B/H3wy/aEmu/2jPjxpxt/2jvH3hdf7F+N2tWYaGK9ttt8yxTKH1A7fnvCPNk3tvLZAH3BpP7Cmsad/wAFWdU/4KOP8SrZ7HUPgTB8Pl8JjSXEscserDUPtn2jzNpUgbPL2A5Od3GDzf7FP/BPj42/sT/tFfEzXPBv7UGmav8ACD4jfEHXPHB+H+oeAwuqaXq+pvG80cWqJdbWtldCVVoN2CFJyC7AH5tf8E0viDqf/BNr/g2S/wCHoHw08c+PNW8ZHwlrOj6J4T1rxvfXnhnTr678ZT6db3lvo8khtYZEkaKZ2jRWkxMOszlu21345+Kf2ZdW+Gvxl/ZY/ax/ba+LPxG0/wAe6Xa/FTwn8Tvhl4xbw/4x0e8ulj1U29je6dHZ6PLDu822MLJ5KJ5RWYtkfUf7Ov8AwRI1X4bfsa+Ov+CX/wAcP2kbPx5+zhrWm6pa+CvDMPgVdP8AEHh83eqNqUMran9pliupbWdmkjZrYBpdrkBFENemfA/9l/8A4KqfDW/8L+EPH/8AwU38J+MPCfh3VLWTULzUfgT5fiLX9PikG+yub0aqbdHeIeWbtLcyE/ORuJyAfM/h34W/tDftzf8ABYb9s79nbxF+3p8ZvAfwv+G8nw/vbHwz8NfGkul3ZvL/AMOo4EF4RI9lagw3MstvbCL7RNPG8jMItrew/wDBE34sfHSZv2gP2Pfjr8ade+I8vwH+NV54Z8L+N/FdyLjVr/RZLeO4tUvp8A3NzHlw0zDLbscBQB6/+zp+wzqvwM/b0/aV/bMu/iPb6lb/AB8Hg8WugR6W0L6N/Ymly2LbpjIwn80yBxhU24x83Wj9i39h3WP2U/jt+0D8YdS+I1trUXxp+Ji+KbSxg0t7dtKjFosHkO5kYTHK53AKPbnAAPNP+Cpvi39l63+IngPwV8aP2xf2hPDfiS4sNQn8N/CL9nHVtVXWPE64G67mt9Et5L544QjhHeSK3zvzuYcfL37Hf7Uf/BRX4pf8E9/2vvgD+y34p+JXiT4ofCPxV/Z/wZ1X43aObLxgNLvLeC6S2vku0VpdQhh+1GGW4GZWeAkBNqj68/aU/wCCeHx68Sft46Z/wUM/ZB/am0fwH4yb4Yt4B8UaR4y+H7eItM1HSxem8imiWO9tJbaeOViTiQpJtjyExJ5vM/s5/wDBLz9qr9mTT/2gte+H/wDwUBa88f8Axq8TaFr9r8RPE3w3tb6bTr21hiS/WWxSaG3lgnCywxRR+WbaGRAHkeMOQDA/4Iz+O/2XPGHi3xVp/wALv2wf2ndc+IGl+GdOtfH/AMG/2n/Fl/NrPhuZXZvtxsb6MGKWUyKkklq7W2DGoVCQD9/18p/svf8ABP8A+Mng79tPXv8AgoT+1z+0do/jz4kal8NYfAWi2ng/wKfD+kaNoa3326WPypbu6muppLkLJ5ryjYC6qpBG36soAKKKKACiiigAooooAKKKKACiiigDi2++3+8f50UN99v94/zooAKKKKABs7flr49/ao/Yz/bQ8Q6b8SP2gtD/AOCvfxK8F6now1TWfhvoPhvw9o+neF/D9jDC00FpqVvJDNLqm0Rt5lxLKu7dkRgLg/YQBZgqjJZgFA7k9q/K39vX/gqP+yn+2l8ePEf/AATVH7bHgv4W/Bvw7eLZftA/ELU/E0dpqPilQ7CXwzoa/fMLtGYru9wE2lkXep2zgH29/wAEyv2lvH37ZP7Afwn/AGnfib4XXS/EXjLwfDe61a29uYoXuVllgeeJOdkU3leci5OFlUA4xXtV7qulWrSWt1rFjDMgw8M+oQxuuRkZVnBHBB5HQ5rkv2ZfiP8As+/Eb4CeGNd/ZM8UeGtW+HFrpo0rwlP4RlEmmw2tkfsotoMAAJD5Xl7ccbKwPiZ+wv8AsSfGHxnqXxN+LX7HHwt8UeJNVZH1TXvEHgi0u7y7ZIliQySupZysaIoyeFUDtQB8K/sRX9hD/wAHCPx/1CfUbaO3k0fxGI7iS5RY33S6NjDEgHv37H0Nfp1aahp+oSNDp+p2lw6ruaO1vIpWVc4yQjEgZ4z0r8kP2RP2X/2aPGn/AAXD+NvwD8Zfs8eCNW8DaHpWvSaL4N1HwzbS6XYNFLpPltDbFfLjKiWUDaBjzGxjNfpp8G/2S/2VP2dfEF54s/Z//Zk+H/gfVNQsfsV9qXhPwnbWE9xb71k8l3iUFk3qrbTxlQaAPQ0il3r+6b7w/hNSXaO02VRj8vZaRbqcsoLD72Pu0+5uJY5dqEfdz0oAh8qX/nk3/fJqSzR1mJZGHy91pv2u4/vL/wB81JazyyylXP8ADnpQBCY5CSRG3X+6aPKl/wCeTf8AfJp5u5wxAZev92k+13H95f8AvmgB4R/sLJsbOemPeo4lkilSUwv8sit909jmphPL9kaUn5s+nvUX2u4/vL/3zQB+Rv7RHgHXfhh8ePF3gnxFBItxb+ILqeGSRT+/t55WmhmHqHRwc+oYdQa42v1e/aC/Zh+EH7S1hbRfEzQpft1hGU0/WtLm8i8tkJyYw+Crx552OrKCcjBJNeX+Ev8AglT+zn4V1uLVvEuveJvE0Mcm9dN1S5hgtnx0WQW6K0g9V3AHociv3bLfErJv7Nj9bUlVikmkrqTS3i7pa72drba7v+Wc68F+JP7ZmsBKEqE5NxlKVnFN3tJWbbW14817X0bsq3/BKnwFr3h34Aap4w1S1mjg8T+IzdaWrKcSW8MKwecPZ3D4PcID0xXv3xU8df8ACqfhj4k+J81j5w8P6Dd6gsEinbK8cRKIfYvtB9ia3bTy9PtIdP0+1gt7e3hWK3t7eEJHFGowqKo4VQAAAOAKzfH3hDT/AIoeBdb+G2vzGOy1/R7nT7mSNctGssZTePdSQw91r8jzDMqebZ7LG4iNoTmm0tbRVlbzfKrX6vU/oLKckrcP8LQy3CTvUp02oyel5tN3t0Tm721stNT8f/E3ijxN428R33jPxnrE2oaxqk5n1K+uGy80h6/RR0VRwqgAAAVHomt654a1uz8S+GNXn0/VNPuFn07ULZ9slvKOjKf5joRkHIJFavxV+Fnjn4G+Nbn4dfE7SWsdStWKpI6kQ3sYOBPA54kjYcgjkdDggiofhx8PfGvxe8YWvgD4aaJJqmrXb7UhhGUgXPMszdIo16szYGOmTgH+oY1sH9T9qpR9ly3vpyctvu5bfKx/DcqGYf2i6Eoz+sc1mtfac9//AALmv87+Z+sP7PvxIm+MXwQ8NfFCezEM2vaHDd3MMa4VZipWQL/s71bHsRXTiKXH+qb/AL5NYnwZ+H1j8IvhPoPww0q58+Hw9o8Nktxtx5zIvzyY7bnLNjsDW+lzdSMqR4ZmOFUL1PpX8nY14eWMqvD/AMPmly/4bu34WP76yyOMjltFYt3qqEef/Hyrm/G55l+198I/gr8Zf2c/FXg/9onUo9K8JRaY+o6p4gmmWE6ILYGUX6yMCI2h2luQQw3IQQxB/JjwJ/wSb/bL+LXgXSPir8LPBVndeG/ESPdaDJ4m1KPR9Sk08yMLa7uLNy5t/OiCTLHvd1WRQwVsqP0F1u6f/gpj8X5fClncpcfs6/DnxAF164TJg+J3iS0lyLJD0m0ewmUNM3KXVyixjckT5+tLi5nMazs+5n5Zj34r5vNMgy/N5KddNSWl07O3Z6NP7j9k8PfGXjbwzw9TDZTUhKjN8zp1YuUFK1uaNpRlFtJJ2kk7K6dkfDv/AATl/wCCSL/sueMofjx8evEGn654ztIXTw/pejK72GimRCrz+a6q1xcFGKKQqpGCxG8kMPtuKKQSp+6bAYfwml+13H95f++acl1O0iqWHLY6V24DL8LluHVHDxst+7b7t9X/AMMtD5PjLjTiLjzO5ZrnNb2lVpRVklGEVe0YRWkYptvu23KTcm2/yS/4LxfC3xN4Z/av0X4sXNpM2i+KvCNtaWd5t/dpeWbyiWDPZvLlikA7gsR9018RV/RB8c/gt8Lf2hvAV58KfjL4LtNe0O8ZJGtbncrwzLnbNDIhDwyrk4kQhgCR0JB+Qf8Ahwh+yf8A8JD9vHxX+JH9m7939k/2hY9P7v2j7N5mPf72O+ea+FzzhLH4jMJ18LZxm7tN2ab39VfXTXpbS7/sDwj+klwfkXBOHyfP1Up1cNHkjKEOeNSEfgtZ3jNRtFqS5Xbm5tWo/Pf/AAQc+F/ifxJ+1frfxYtrORdF8L+D7mzvLzb8jXd5JCIoAf73lxSSHrgBc/eFfrQYpc/6puv901xvwu+HPwO/ZI+DkvhfwNommeEfB/h2zmv76Z5iFRVXdNd3MzktI+1ctI5LEKB0AFfBXxu/4OAdbj8VTab+zb8D9NvNFt5SsOueM7ueOW/Uf8tEtYNphQ9V3uXII3Kp4Hu4OeB4Ty2FHFVFzSbbsm7t2vZb2Ssru3yvY/H+JsLxh9JDj3FZpw7gX7ClGEE5yhBRhG/LzyclHnm3KXJFyaTtqouT/ScxSH/lk3/fJqx5t59ix50u7d1yd2M+vWvin9hj/gsn4O/aa8cWPwW+MPge38GeLNUfytDu7S/Nxpmqz4J+zhpAr28zfwK25XI2hwxVT9qCeT7J52fm3envXvYHMMJmVD22HnzLbs0+zT1X9dD8d4u4L4k4FzZ5bnmHdKrbmV2pRlFuylGUW4yV01dN2aadmmlTvrqz0mxn1XVrlbW1tYXnurmYYWKNFLO59goJ/Cvwx/bU/b6+L/7aHjq+v7/xLqGmeB1uGHhvwfaXbw2yWoJEc1wiEC4uHX52Z9wUttUADn9wPiB4dfx94D1zwJNfC3XW9Gu9Pa42/wCq8+B4t/4b8/hX87fibwL4r+F/iO/+GfjvRpdP1rw7dNp2rWMy4aGeL5GHupxuVujKysOCK+N46xGKp0qNOLahLmvbq1ayf4u3Xfof1J9EHJeHcdmOZY/EwjPF0VSVPmSbhCXPzzgn1bUYuS1itLpTafUfAP8AaN+N37MHjCHxt8DPiBfaPdRyBrjTzcO+n3694rm3J2Sow4JwHHVWUgGv3T/Zg+Omi/tPfADwr8efDemSWlv4k0wTTWLNuNpco7RXEG7+LZNHIobjIAOOa/n0kljhjaaZtqryxxn9O59upr91P+CZ/wAHvGX7P37EfgX4d+O7CSz1prW51PUrGdSHtHvbmS5EDA/ddEkRWHZtw7VxcC4jFfWqlG7dNRvbopXVrdrq/rbyPrPpe5Lw7Hh/A5q4RjjpVuRNJKU6Xs5OfN1koSVOzd+Tnsrc+vu9pGyTD90yjB/hpsschlYiNvvf3TUtvcTSTBHYYx6U2S6nWRlBHDY6V+ln8DkflS/88m/75NSwo4tpFKNk9Bj2pn2u4/vL/wB81LFPI1vJIx5Xp+VAEHlS/wDPJv8Avk0eVL/zyb/vk077Xcf3l/75o+13H95f++aAHzo5giUI2cdNvtUXlS/88m/75NTzTyJDG6nluv5VF9ruP7y/980AEUcgmUmNvvf3TRcpI1wxWNj06L7U6O6naVVYjlsdKWe5mSZkUjHHagCLypf+eTf98mprNHUtuRh8vcVH9ruP7y/981LbTySlt56D0oAriKXH+qb/AL5NL5Uv/PJv++TTheXBGdy/980fa7j+8v8A3zQA9kf7CqbG3Z6bfeq11YxX1tJZX2npcQTRtFPb3EG+OWNgVZHUjDKQSCp4IJFWzPJ9kWXPzH/Govtdx/eX/vmgD5T+Fzz/APBOr40aV+zL4ga4/wCFH/EDVjb/AAc1i6kLL4L1mQl28LXEjdLOc7n0+Rj8jbrYk/u8/V16kjTDEbcLg/KeDnpXK/Gz4R/D79on4Ua78Efi9oY1Lw34ksTaapaq2yQDIZJonHMc0ThZY5BhkkRWBBFeWfsdfGj4naT4g1z9in9pfX5NS+Jnw7sY7m08TXEPljxz4Zd/Ls9dQf8APYEfZ7xFJEdwm7hZVoA958qX/nk3/fJqS0R1myyMPl7rTftdx/eX/vmpLa4lkl2uR93PSgCF4pd7fum+8f4TR5Uv/PJv++TUjXc4YgFeGI+7Tftdx/eX/vmgB8astlIGUjr1FQVYEry2cjP7iq9ABRRRQAqf6xf99f50UJ/rF/31/nRQB2dFFFABRRRQAUUUUAFFFFABRRRQAV59qP7Jv7Lmr/FKL446r+zh4CuvGsEwlh8YXHg2wfVI3BB3LdmEzA5A5DZ4r0GigAooooAKCM9RRRQBk+DPAvgn4c6J/wAI18PvB+l6Hpv2qe5/s/R9PitYBNNK000nlxKq73kd5GbGWZ2Ykkk1rUUUAFFFFABRRRQAUHngiiigDB8I/C34Z/D/AFfXPEHgP4d6Fot94n1P+0vEl7pOjwW02q3mxY/tNy8ahp5diqvmOWbaoGcACt6iigAooooAKKKKACiiigAooooAKyfF3gPwR4/s7XT/AB14P0vWoLHUrfULGHVtOiuVt7uBxJBcIJFYJLG4DI4wysMgg81rUUAA44FFFFABRRRQAUUUUAFFFFABRRRQAUUUUAFcV8YP2bf2ef2hIbW2+PXwJ8G+NorFt1jF4u8LWepLbtnO5BcxPsOQDxjkV2tFAHO6r8I/hXr3w8/4VJrvw20C+8K/Z47f/hGrzRYJNP8AKjZWjj+zMhi2qyKyrtwCqkcgV0QGKKKAAAKNqjAooooAKKKKACiiigAooooAKKKKACiiigAooooAKKKKAMH4a/Cz4ZfBnwlD4A+EHw60HwroVrNNLbaL4b0eCxtIpJZGlldYYEVFZ5HZ2IGWZmY5JJreoooAKKKKACiiigAooooAKKKKACiiigAooooAKKKKACiiigAooooAKKKKACiiigAooooAKKKKACiiigAooooAKKKKACiiigAooooAKKKKAOLb77f7x/nRQ332/wB4/wA6KACiiigABIO5TgjkEdqyI/hb8M7qS4urj4ceHGkkkZ5ZG8O2hZ2YkliTFkkkkknkmterFkcLIaAM/StL0rQ9Pj0rRdMtbK1h3eVa2drHDGmSWOEQBRkkk4HJOamlI8puf4TVgX0hGfLX86bLfSeU37tfunvQB+X/AOw//wArDn7QX/YF8S/+jdFr9PMj1r8xf2G5PL/4OHf2giF/5g3iT/0bov8AhX6gfbpP+ea/nQBChHmLz/EP51LenE/P90U5b2QsF8teTinz3TxSbAgPGaAKu4etTWJzM2P7v9aPt0n/ADzX86kt7l5pNjKB8uaAKrMNx5/iNG4etTm+kBI8tevrSfbpP+ea/nQAKc6e31/rUO4etWhcubZp9o47VH9uk/55r+dAEBIx1qe+OCmf7poN9IBny1/OpLi4eEqAoO4UAVdw9aktTm5XHv8Ayp326T/nmv506G7eSVYygGaAMnxb4T8J+NLVtI8ZeGNM1i0WQstrq2nxXMYPchZFIB+mKi8L+DfBngewbS/BPhLSdGtZGBkt9J06K2RyOhYRqN345rbkvJEkZAi8Gmm/kAyY1/OtPbVvZ+z5ny9r6fdsY/V8P7b23Iufbmsr27X3C1OYJAOfp9K+Xvj9498W/tf/ABT1X9hr9nvxXe6T4e0Zlh+PnxM0ebbJo8DqG/4RvTZhwdUuYz++lHFnA5J/euoGv+0R8ffit8Y/ifefsR/sa6+un+LIbeKX4ofEqOMTW/w502UZCqCCs2sXCbvs9sf9UP38uFVQ3rHwD+Cvww/Zl+FOk/Bb4PeHP7N0PSY3Maz3BmubueRi813czN809zNIWkklYlndiazNjU8A+A/BHws8E6T8Nvht4WstD8P6Dp8Vhouj6dHsgsraNdqRIPQDueSck5JJrU8Sa5o3hjwzceJvEeqW9jp2m2cl3qF9dSBIraCOMvJK7HoqqCSfQVa+3Sf881/OvnH/AIK+XWvw/wDBOj4iS6D5i+Zb6cmoGH7ws21C3Fx3+6UOG/2S2eM1zYzEfVcHUrpX5IuVu9k2e9wrk0eI+JsDlMp8ixFalScv5faTjC9utr3t1Pkr49f8F7PiHdeLJ9P/AGX/AIWaDb+H4JClvrXjK2nuLrUFB/1q28csa26N2Vmd8YJ2klR3n7Ev/BbNfin8RtM+E/7VHgzR/D1xrN1Ha6T4s8PtLHYi5chY4rqCZ3MAdvlEyuVDMoZVB3D8vW3bju655qtqxxpV02eVtpCpHUEKcEe+a/IqfFWd08R7aVS+usbLla7W6eu/mf6ZYv6OnhTjMheV0sCqcnG0aylJ1VK2k3Jv3nfVxa5HsopWS/pQvDi4Ib0waj3D1rF+Emp+Kp/hR4VuPGiyNrEvhjTn1Zrj75ujaxmXd7792feug+3Sf881/Ov2SMuaKl3P8tcRReGxE6TafK2rrZ2drryfQ+S/+C0us+ItL/YA8SW+hOy2+oeINFs9YaNeto94pZSeys6xKfUHB61+NJJPJr+ij4ufCvwR+0D8L9e+DXxN0lrrQvEOntaahDFJtkCkgrIjYO2RHVZEbHDIpr8j/jT/AMEV/wBtT4e+LLjT/hV4csfiFofmn7Bq2m6rbWdyY+32i2uZE8t/XYzoeoIzivzvjHKMwxOMhiaMHOPKo2Su0029lrZ33Xnfpf8At/6LviXwZkfC+IyHNcTTwtb20qsZVJRhCcZQhH45NR5ouFnFtNpx5b2lb5H/ALS1LRmXWdFupIL6ykW5sZoWIeOeNg8bKR/EHVSPev6RLCe/udAtrnVbfybqS3iku4cY2Ssql19sMTX5n/sF/wDBGX4l6J8TNJ+MP7X1ppmn6foN7He6b4Jtb+O8mvbqNg8TXckeYUhVgreUrOZCoDbVyG/Tr7S5t/tBHzFufzr0uDcrxmAo1amIi489rJ6PS+rXS9+uunofDfSk8QOFuMM2wGByarGv9VVVzqwalBup7O0IyWkuVU7txbj7ySd1JKqAXO1FZj/dVSSfwFeK/tR/8E+f2Xf2uL+PXvjB4AuIdfhhWGLxJod49hqBhHSN3UFZ0H8IkR9v8JAzXzP/AMF3f2hvjf8AD/T/AAD8J/AXibVPD/h/xNb6hd6xfaTdvby6hNbvCiWpmjIcIqymRowRvLKTkLiuV/4IS/tDfHTxJ8UPF3wS8VeMtW13wrZ+FRq9qusX0t02mXf2qOJUjkkJZEmWSQmPdjdFuUD5yezFZ1gcRm39k1qPMnZXdmr25lo/Lr0fS2p8pw74W8YZL4a/8RHyrMlQlBSkowcoz9mqjpS/eRaV3JP9201KOjlzPlPp74D/APBJv9jD9nDxna/EDw/4M1PxDrVjMs+l3/jHVvtwsZR0kihCJCJAcFZCjMpGVIPNfR24E5LdeSSetWri4aFlVVByKj+3Sf8APNfzr6DC4PC4OnyUIKK7JW+/ufjWf8TcQ8VYxYvOMVUxFRKylUk5NLtG791X1srK93uxtmR9oHP8JpkpAmfJ/iNWILp5ZNhQCke9kWRlEa/K2K6DwyvuHrU0B/0SX/Paj7dJ/wA81/OpI7lnheUqPl/woAq7h60bh61N9uk/55r+dH26T/nmv50AFwcW0OfT+lQ7h61aluWSJJAo+b/Co/t0n/PNfzoAjhI85Of4qddHFy2fb+VSJeSPIqGNfmOOtE128cpjCDigCvuHrU1icl8f3RR9uk/55r+dSW9w8xbcoG0UAVARjrS7h61ML6QjPlr+dH26T/nmv50ADHGnr9f61DuHrVo3LC2E+0ZJ6fjUf26T/nmv50AQEj1rxr9uH4BeO/iToOh/Gn9ntbW3+L3wvu5NX+H091J5cOqKy4vdCuW/59b+FfKOfuSiGUcpXthvpP8Anmv51Jc3LxSBFX+HNAHn/wCzr8fPAn7TnwX0H44/Dozx6brlqzSafeoUutMu43MVzYXCnlJ7edJIZFPRkz0INd3ZHM/H9018xavcn9iT9tKHxXb4tvhX+0Nr0dprsbORb+HPHxj2294AOI4dVijEEhxj7XDExOZjn6iguZJJfKePbjO4HqD6UAVXI8xuf4j/ADo3D1qdr2QMV8teDjrSfbpP+ea/nQARf8eMn1NQ1YMzTWkjsMdqr0AFFFFACp/rF/31/nRQn+sX/fX+dFAHZ0UUUAFFFFABRRRQAUUUUAFFFFABRRRQAUUUUAFFFFABRRRQAUUUUAFFFFABRRRQAUUUUAFFFFABRRRQAUUUUAFFFFABRRRQAUUUUAFFFFABRRRQAUUUUAFFFFABRRRQAUUUUAFFFFABRRRQAUUUUAFFFFABRRRQAUUUUAFFFFABRRRQAUUUUAFFFFABRRRQAUUUUAFFFFABRRRQAUUUUAFFFFABRRRQAUUUUAFFFFABRRRQAUUUUAFFFFABRRRQAUUUUAFFFFABRRRQAUUUUAFFFFABRRRQBxbffb/eP86KG++3+8f50UAFFFFABU9mf3cn+e1QVYsjhZCRQBWBGOtJKR5Tc/wmrAuoCM/Zf0FJLcweU3+jfwnsKAPy+/YfP/HQ5+0F/wBgXxL/AOjNGr9PMj1r8xf2GnVP+Dh39oIsuf8AiS+JP/Rui/8A16/UA3MH/Pt+goAhQjzF5/iH86lvTifn+6KctzCWAFt39qfPPGkm14d3HWgCruHrU1iczNj+7/Wj7TB/z6/oKkt5o5JCqQ7floAqsw3Hn+I0bh61ObmDJBtu/oKT7TB/z6/oKABTnT2+v9ah3D1q0Jo/sxl8n5c/d/Go/tMH/Pr+goAgJGOtT3xwUz/dNBuoAM/Zf0FSTzJGVDw7sj8qAKu4etSWpzcrj3/lTvtMH/Pr+gp8E0csyxxW3zN93avNAEFww89+f4q+c/jv+0P8Tviz8UNQ/Y1/Yn1e3h8X2Mcf/CyPiZNbi4074cWsgyBtPy3esSJkwWecR8SzbVAVq/xQ/aI+J37WXjXWP2af2F/Ev9k6bo982n/FD48QQLNbeHnH+t0rRdwKX2rkcPLzDZA5ffJhB7P8AvgZ8Jf2ZfhZp/wd+DnhH+zdFsGkmbzJjNcXt1Id015dTvl7m5lfLyTOSzMeuMAAHhnxs+LnwA/4JA/sk2fhr4ceELjUb7U9SnTQ9P1HUDJfeI9WkXzLvVdTuzmSaQ58yabBJLRxoFBUD889e/4LD/8ABQ3WvEEmuWXxusdIhaXfHo+leE7D7HEM/cxNFJI492kJ9xXt3/BwVpPiMfEv4W+JJlf+xZNA1Wztf7sd4LiCSRfQM0RjI7kIeuK/PevyvijOsyjm06FOpKEYWsotq90ndtavfTpbzuf6K/R78KeA8R4c4bOMdgqWKr4nncpVYRqqKjUlBQhGacY2UbyaXM5N3biopfsB/wAEzP8Agp7N+19f3Xwb+MOjafpfjvT9Pa9s7jS1aO01u1QgSukbkmGePcrNGGZWUllwFZV+uvGvhPwz498FX3gbxrokOpaPrOnyWOq6dc58u5t5YykkbY5AKk8jkHBHIr8T/wDgkzpPiPVP+Chvw3l8NiQGxutQu9SkUHEdkun3CzFv9kmRE9y6iv3DMqpbRtJFuyo49OK+u4VzDEZnlbeJ95xk43fVWT17728+utz+aPpEcG5HwB4iQp5GvZQq0oVuSLf7qbnOL5He8U3BTir+621G0VFL8lf2g/8Aghh+0L4S8XXE/wCzZ4g0XxZ4amnY6fba3rC2Gp2cZORHMXXyp9o+XzVZS2MlAa7v9if/AIIk+MND+Iel/Ez9sDVdEaw0q7iurPwTot4bz7ZOjbk+1z7VjESsAxiTf5mAGYLkN+ln2mD/AJ9f0FOS4hLqot8ZbrgUU+Eclp4r2yi9HdRb937t/k215WFjfpLeKuO4feVTxEE5R5ZVowtWaas/evyJtfajCMlupKWp4X+3R+3p8JP2IPDFnqvjW0utc8Q635n9g+FtLkSOe7WPHmTySN8sEKllUuQSWbCqxBx8v/Cj/gv34I1vxjb6T8b/ANnybwvodxKEk8QaH4ibUvsIJx5k0DwRM0Y4LGMlgASFbpXjH/Bd7w/4v0/9tLS/EevRTNpeqeAbKPw/O2fL/cT3AuYlPTcryIzDriVD3r4uaWKBTPOwWNBudj2Uck18vnXFGbYXNp06MlGMHazSd/Ntq+vk1pbrqf0L4U/R88NeIPDbCY/MqUq+IxUOd1I1JxdNttctOMZKF4Ws+eM7zUr+7aK/pE0DUdP1ezh1bSb+G6tLq3jntbq2kDxzxOoZJEYcMrKQQR1BpG2McMB1ryL/AIJxeHPGHg/9hr4WeGvH1vNDqtr4NtTLBcjEkELlngiYdVKwtGu08jGDXsn2mD/n2/QV+kYarKvh4VWrOSTt2uk7fI/hLPcvpZRneKwNKoqkaNScFNbTUJOKkvKSV16kIKjgGvLf2uv2zPgx+xd8M7fxp8WL+6mutSneHQPD+lxq97qkyYLCNWIVI0BBeVyEQEDlmVW9Y+0wf8+v6Cvxj/4LU+LfEXiL9vvWtC1i4drPw/4Z0m00SEghY4Jbf7TIwHTLTSvkjrsUH7vHkcRZpUynLXWpq8m1FX2Td3f7k/nY/S/A/wAPcB4lcdRy3HTcaFOnKrUUXaUoxlCKgnra8pxu9+VStZ2a9G+LH/BZn4Q/tE6V/wAK8/aC/YB0/wAQ+EWvVnW3m8bM17A65AmiP2aMRygEjKSJkEruwa+2/wDgn1P+xdq3wL/4Sn9iHwfZ6L4fv77brNn5Mg1CC+RRmC9aV5JTKit8uXZCrbkJVsn8MK+7v+CAni7X7D9pTx14IhnkOkaj4DXUL63z8n2q3vYo4ZPTdsuJl9SPpx8Zw/xBi8RnEI4pRm56KXLFSWjtZpJ26NP19f6p8avBjhvI/C/FVuH51cNDD2qyoqvWnQqe9FScqdSpOKmk+aM4pO6s73Tj+rl+R5i8/wANQ7h61auJo42UPFuqP7TB/wA+v6Cv1A/z2G2ZH2gc/wAJpkpAmfJ/iNWIJ4nl2pBt9+KR7iEOym3zhvQUAV9w9amgP+iS/wCe1H2mD/n1/QVJHNG0LusWAv8AD68UAVdw9aNw9am+0wf8+v6Cj7TB/wA+v6CgAuDi2hz6f0qHcPWrUs0axIzRZDdF9OKj+0wf8+v6CgCOEjzk5/ip10cXLZ9v5VIlxC0iqttjLdeOKJp4klKNBuPrxQBX3D1qaxOS+P7oo+0wf8+v6CpLeaOQsEh24H50AVARjrS7h61MLqAjP2X9BR9pg/59f0FAAxxp6/X+tQ7h61aM0f2YS+V8v92o/tMH/Pr+goAgJHrU98cTLn+7/Wj7TB/z7foKkuJoo32vDu+WgDhP2gfgf4F/aW+CviX4DfElZP7G8UaY1pcXFuxWaykyHgvIWHKzQTLHNGw5DxrXHfsH/G7x18VvhhfeBvji8afFH4Z6xJ4T+JkMabFuNQt0VodSjXr5N9atDdocY/euvVDXtH2mD/n1/QV80/tGSr+y3+114J/bN0yM2vhPxw1n8OvjJtO2KHzpj/YGsyAYUGC7kayeRj/qr5c8RigD6QcjzG5/iP8AOjcPWrEk8ccjRyWvzKxVunUHFN+0wf8APr+goAIv+PGT6moasmRJLR2SPb14qtQAUUUUAKn+sX/fX+dFCf6xf99f50UAdnRRRQAUUUUAFFFFABRRRQAUUUUAFFFFABRRRQAUUUUAFFFFABRRRQAUUUUAFFFFABRRRQAUUUUAFFFFABRRRQAUUUUAFFFFABRRRQAUUUUAFFFFABRXmf7ZP7Tfh39jT9lzx3+1J4t8Katrmm+BfDNzrF3pWhwh7m5WJfurnhRkgs5+VEDOeFNef/8ABK//AIKHeHf+CoH7HWh/taeHPhbqvg9NU1C9sbrQ9UuluRFPbTGJzDcKiLcxE9JAi/MGUgFTQB9GUUUUAFFFFABRRRQAUUUUAFFfnX/wXA/4KuftKf8ABOX9oX9lz4VfAfw34NvtO+NHjS+0nxVJ4o0m5uJreGG80eFWtjDcxBGK382d4cZCYAwc+zf8Ffv+Cp/hT/gkj+y1Y/tJ+K/g7rHjY6p4wtvD9ho+k3qWiLNLDcTmWe4dHEUYjtpAMI7PIyKAAWdQD6uor5E/b5/4KHeNvgr/AMEf9c/4KQ/s9eE7aHVG+HujeKPDui+OtNkYQpfy2REN3BDMjCRYrlgyrINrjqQMHrP+CR37WnxN/bo/4J1/DH9q74x6botn4l8ZaTc3WqW3h6zlgs43jvrmBRGkssrqNkS5y7ZOTwCAAD6PooooAKKK/Of/AILs/wDBWD9pj/gmv8Xv2a/An7P/AIc8GX1l8XvGGoaV4nfxVpNzcyQQw3GlRo1sYbmERttvZs7w+SExjB3AH6MUV8e/8Fif+Cu/gv8A4JCfA/wz8YvGXwT13xs3ijxZ/YtrZ6VeJZwwBYnmkkluJEdVfy0by4tuZWVgCoVmGn/wVE/bx+If7KH/AASn8aft6fAHw3YnXNJ8O6Lq2h6X430qUxqt7e2UZjureKWN1dYrlgVEgKuOcgEEA+r6K+ef+CUv7VHxI/bZ/wCCfPwv/al+LunaPaeI/Gfh03+q2+gWskNnHJ9pnjxEkkkjKNsa9XbnP0H0NQAUUUUAFFFFABRRRQAUUV+dvxR/4KtftJ+C/wDg4e+Gf/BKjSvDfg5/hv4w8EzaxqepTaXcHWI500nVbsLHMLgRBTJZRAgwk7SwzkggA/RKihTlc0UAFFFFABRRRQAUUUUAFFFFABRRRQAUUUUAFFFFABRRRQAUUUUAFFFFABRRRQAUUUUAFFFFABRRRQAUUUUAFFFFABRRRQBxbffb/eP86KG++3+8f50UAFFFFABXyZ+15/wVQ1v9lL9pv4e/s7ad+xb488RaX40+LHhXwLq3xM1O6j0bw/Y3evfNbixldJZdXnijWWSaOKOOKIoqPMruoP1nXw//AMFwD/of7HIYnA/b8+G3Hpzf0AfcLLsdo8/dYj8jTJv9U3+6atXL2Jnk/ct/rG/mfevF/ip8Nf22tf8AHuqaz8Iv2t/h/wCGfDUzRnS9B1v4KSardWiiFFcSXY1OETFpA7g+WuA4XnbkgHxH+w//AMrDv7QX/YF8S/8AozRq/TyvyD/ZK8HftMaj/wAFtvjV4X8G/H3wppfjq30vXTrni6/+Gz3lhfIsuk+asenfbkaAsTEQxuH2iNwd2/j9NPgd4H/ao8J+I769/aE/aN8G+NtLm0/y7HT/AA18K5NBmt7nzFPnPM1/ceYmzcvl7RyQ2eMUAekp99f94fzqS8/1/wDwEUqPZb12wtnPFPuWtRJiaNmbHagCtU1j/r2/3f60m+w/54N/n8aktmti5EMZU7e9AFZvvN/vGipi9jnmBv8AP40m+w/54N/n8aAFH/IPb6/1qGrStb/ZmYRnZ3FRb7D/AJ4N/n8aAIj0qa96p/umk32H/PBv8/jXC/tJftN/Bf8AZb8HWvi74v65PHJql19i8M+H9Js2vNW8QXx+7ZafZx/vLqdjgYUbVB3OyqCaAOr1vXNE8M6LeeJPE2tWem6bp1q9zqOpaldJBb2kCDc8ssjkLGigElmIAFfLv/CWfFr/AIKZLJofwk1vW/AH7PczNFqXjy3Eljr/AMR4ejW+k7gJNO0puQ9+Qs1wp2wBEJkOhoX7N/xa/bQ17T/ij+394fh0XwbY3a3vhT9nazuluLRHRg0V54jnQ7NSuwcMtkubSDA3ec/zD6ktjZh1jgh27V2oAuAqgYAAHAAHAA4A6UAc/wDD/wCHHgL4P+B9J+FXws8Iaf4f8N+H7NbPRdE0q3EVvZwr/CijuTksxyzMSzEkk1sVPK1mJGDwtuzzTd9h/wA8G/z+NAHn/wC0n+zJ8Kv2tvhBffCD4u6bPJYyzrdWN7ZSCO6067RSEuYGIIWRQzDkFWVmVgVJFfnh4g/4IAfGqHxC8HhL9pHwjdaR5n7u71XQ7yG6CZ/iiiLozAejgE+lfqpC1uYnMcZC/wAXvUW+w/54N/n8a8jMMjyzNKiniIXktLptO3Z23+e3Q/TOCfF7j/w9wk8Jk2L5aM3zOEoQnFSe8oqafK3bXlaUtOZOyPnr9hT/AIJ5/Cn9hzQr660HV7jxF4s1qBYdc8VX1ssLPCrbltreIE+RBuwxG5ndgC7HaoX6GuP+PWL8P5Um+w/54N/n8alla3EKmRCV/hH4V34XC4fB0VRoR5YrZL+tfNvVnxef8QZ1xRm1XM81ryrV6jvKUrXdlZJJJKKSSSjFKKSSSSKtOi/1yf7wp++w/wCeDf5/Gljey8xQkLBt3FdB45wf7R/7NfwW/al8GH4d/HDwTFrGnxzCezkWZ4LiynwQJoJoyHifHBwcMOGBHFeF/B//AII2fsS/CHxta+PP+Ef8ReKLqxnWfT7Pxhra3VnBKpyrmCOKNZiD0Eu8ZwcZFfWVw1qJcSxEt7UzfYf88G/z+NcNbLcvxNZVqtKMpLq0m/6XTsfWZTx3xpkWVVMsy7MK1HDzveEKkox13sk9Ob7Vrc3W4+zZnmd3OWbkn1qv3/GrVq1uWPkxleOc1Fvsf+eDf5/Gu4+TIq+Pf+Cpf/BNTW/2vLPTvjP8F7uyh8d6Jp/2C403UJxBBrdkrs8cfmkYinjZ32M3ysshViuFZfsffYf88G/z+NS7rf7Lnyz5f938a48dgcPmWFlQrq8X96fRp91/wHofTcH8XZ5wNn9LOMpmo1qd91eMotWlGS0vGS31TWji1JJr8IbD/gml+35qPiYeE4/2UPFUNz5mxri7+zRWac8sbkzeVt9wx46Zr9Ov+Caf7AEX7Enw91LUfGOr2mqeOPFXknX7qwy1tZQRFjFZwMwDOoZmd5MLvcjACqtfT3/Eu/59j/3zS+ZY/wDPFv8AP414+VcL5flWI9vFylJbc1tL9rJa20v+R+peIn0hONfEXJP7IxFOlQoSac1SUr1HFppSc5y91SSkoq2qV27C33+sX/dqGrV01uGXzoyx7YqLfYf88G/z+NfSH4OJZ/8AHwP9002X/XP/ALxqa3a1MuIomDe9Nkey8xg8LFt3NAENTQ/8esv+e1JvsP8Ang3+fxqWJrcwMUjIX+IUAVaKl32H/PBv8/jRvsP+eDf5/GgBbj/j2h+g/lUNWpmthEhkjJX+Got9h/zwb/P40AMh/wBcn+9Trr/j5b8P5U6NrIyKEhYNninTtaCUiWJi1AFeprLq/wDuik32H/PBv8/jUts1ud3kxlf72aAKo6UVLvsP+eDf5/GjfYf88G/z+NACn/kHr9f61DVpmt/sysYzs7Cot9h/zwb/AD+NAER6VNff69f93+tIHsM/6lv8/jUly1sHAmjLHb2oArVzPxm+DXgj9oj4ReKPgV8SLUy6F4u0G50rU9uN8ccqbRKhP3ZI22yK3VWRSORXV77D/ng3+fxp9u1q0mIoiDjvQB4f+wV8YPHPxU+AUfh34yXSyfEX4dazdeCviQ2T++1fTyI/tgz/AAXdsbe8U9CLjjpXtFfOviMR/s7f8FJNH8Wqnl+F/wBonw+dB1fjCReMNGgeexmLHgNdaZ9pgOOWawiHpX0cJLAjIhb/AD+NADov+PKT6moasZiNo5hXavvVegAooooAVP8AWL/vr/OihP8AWL/vr/OigDs6KKKACiiigAooooAKKKKACiiigAooooAKKKKACiiigAooooAKKKKACiiigAooooAKKKKACiiigAooooAKKKKACiiigAooooAKKKKAPiL/AIKw/wDBZjw3/wAErPjj+z/8OPiB8J7PVPDXxm8TXen694yvvFR0+LwpZ2t1psVxfPELaX7SqRX7SlN0f+owD82R8/8Aiv8A4Lh/8FT/AI8eHbz48/8ABOT/AIIv+JvGvwes5Hk0rxp4t177Ff8AiazX/l5sdMXZOyPg7DGLgsMcBsoPEv8Ag8G8G6B8Rv2iv2H/AIe+K4Wk0vXvG3iLTtSjjkKM9vPeeHIpAGHKkox57V+32i6Jo2haRbaFoek21lY2UC29lZ2cCxRW8KDakcaqAEVVAAUAAADFAHxz/wAEfv8Agtb8C/8AgrT4J8Q2Wh+CdS8A/ErwTIqeNPhzrt0JprRWYqtxbzbENxBvVo2JjjkikXbJGoeJ5PFf2jf+Dk/wL+y5+1p8ev2U/iP+zHeXmrfCqPS7TwHaeH/Fn2rUvH+sah9l+y6fb2f2UGAlbgyO6vMUSFtqSOUjb528NaPp3wR/4PRLvQ/g1t0+x+Ifw/urj4g2GnxqkYkl8PtdybwBwZLmzs7lieWkk3HJam/srfC3wT8SP+DzD48a94u0aK7ufBXgdtd0BpYwwgvv7K0OyEuDxlYryfB7MQRyAQAfdv7Kn/BRD9sPx1/wTj+M/wC2j+2l+wlefC7xB8PbbxBqeh/DbWri6tpNX0qx0eK+iMktzCWTzZDPA0giwPLJ8vIKnrf+CNX/AAULsP8Agpl+xLpP7S+lfAez+G9nJrd/pNr4VsNaF9Fbx2rogZZBb24AO77ojAGOpzx3H/BT9Qv/AATV/aG2r/zQvxd/6Zrqvy//AOCJvj7xh8LP+DVb4u/En4fXk9rrmg+F/iLf6Te2rFZLS4isnZJ1PYxkb/8AgNAHufxp/wCDgf4vfGb9qDxN+x1/wRw/YU1L9ojxB4Mla38WeN5vEMel+HdPuFZlKJO+2OZCySos0k8CytC/k+cmHLPgF/wcJfFD4Y/tX6B+xH/wWB/Ye1L9nfxZ4qeOHwv4tXX01LQNRmkfYitMoKxRlykXnxzTxrI4EphUMwf/AMGi3wv+HXgv/gj34f8AG3hSC3bWPGXjLXNQ8VTKoMn2mC6NnDGx64W3t4WC9B5rEDLEnkf+Dyr4a/D/AMR/8EutD+IniC1tY9d8MfFDTh4cvGRfOb7Vb3UdxbIx5COiLKyjqbZCfu0AfWX/AAWl/wCCpV//AMEj/wBlTRf2l9O+BMfxCbVvH1n4bfRZPFB0nyRPaXk/2gSi3n3ENahNm0Z8wtuG3B8c+Ff/AAXA+On7XX7f2kfAn9iL9hXxJ4v+BGn+NZPD3jL9oSe3u20tpYo385rMxxCHy45FUeY8r71dSUjDoW+UP+Djfxx4z+Jv/Btj+zT8S/iNezXHiLxFqXgLVNeuLhsySX0/he+lnZj/AHjIzE+5r9Yv+Cbfwr8GfBf9gD4L/DLwHo0Nnpmk/DHRFhjhhVN8j2UUs0zAceZLLJJI7dWeRick0Ae2Bm2BivOORXwX+zL/AMFrNT8af8FPfF//AASp/a9/Znj+EvjvS7VrnwJq0fjJtU0/xlEoMga2Z7S3MZktv38Y+fPlTxuY5Ytjfe1fkj/wdofBr4F6J+zB4H/bns/iQ3gr48fDPxnp8Xwg1XSYS2oa3O90kraeuz5v3OxryORsiJonVcG5YMAfRX/BSb/gsu/7G37U/wAK/wBhD9m79nN/jP8AGb4oXWYfCNr4p/suLRrFsrHd3U4trjarFZZCNoCQ200sjIoTf9uaU+pSabbyaxBBHdNChuY7WZpI1k2jcFZlUsobOCVBIwcDpX42f8Gt+nfD/wDaw+Lfx+/4KQftG+N28RftP6t4xbSPGGj6rpzW03g7TCoWGG3hkJaNJfINvk8xx6esAC7ZDJ+zdAH4o/8AB1z/AMno/wDBP7/sqWr/APpy8M19/f8ABZH/AIKBaZ/wTS/Yh1T9pvWvgJY/Eq1t/Een6dN4W1DWBYxTefO22QyNb3AyjIrAGPrzkEV8A/8AB1z/AMno/wDBP7/sqWr/APpy8M17Z/wdzf8AKGzxB/2P2hf+lMlAHSf8FjPjfJ+0z/wbY+MP2kZvDK6K/wAQvgz4a8Svoy3n2kWBv59LujbiXYnm7PN2b9i7tudq5wF/4Iw/tOfBb9jn/g3Y+FP7SP7QfjOHQfCfhXwXf3WqX03LN/xN71Y4Yl6yTSSFY44xy7uqjk1wX7c//KorpP8A2a74D/8ARWjV+RPhf44fFXXP2d/2K5f+CjvwH8YWP7C/hHxJdaVHHot8fJ8TapHPcy3GpXIRPMZFado0iwGe3tb5LZxI0zgA/oM/4JGf8FI/2hv+Cnnw31L9onxb+xS3wp+G088kPgfV9Y8aPfah4l2yY+0Ja/YoVhtwuVMnmuGkyqbgrNXjPxw/4Lp/HT4u/tQ+LP2N/wDgj1+wte/tBeIvAMhg8d+Nr3xNFo/hzRroMyfZ1uJdqTtuSZAWmh3tBJ5ImVSw+tv2q/iVYfCz/gm18SPjF+zFcab9n8N/A/Wda+Hsvhjy/sey30aaawNp5PyeThYjHs+Xbt28Yr8Sv+DfTxT/AMFxvhh/wT9hu/8Agm/+yf8As++JvBOveMtSvb/X/G+uXEerXWoJ5cDidU1CEIESONUXYPkw38e5gD9Cf2Rf+C5Hxkj/AGzdG/4J2f8ABVL9iq7+AfxN8WW6v4F1S38RR6pofiORt22COdMrG7FdiFJZleTMTGOTYj/Nf/B26c/tI/sLn/qpmr/+lvh+uX/4KA/sWf8AByN/wUo8X/CXxZ8aP2UvgP4X1X4R+MhrnhfX/BPjBoLq3keS2eQMZ76f5N9tDIQihsxLjPQ9R/wdtjb+0h+wuP8Aqp2sf+lugUAfdX/Bbf8A4KXad/wSs/ZA0n9o7Vf2dLD4nQ6h8RLPQ/8AhH9Q1waekLyQXl0l0JDa3ALI9ooC7AcvuDAqAfOf+C+3xBk+LH/BvN8UvifLpC6e3iLwP4Z1NrFbjzhbm41TS5vL37V37d+3dtXOM4GcV43/AMHmn/KJ7wz/ANl00v8A9Nur16F/wWZ/5Vk/F3/ZKfBf/pZpFAz5p/4Jl/8ABWX9qvwt/wAEzvhL+zL/AMEv/wDgnxr/AMfPE/gbwOsfxC8UyagdM0Dw/fPcTTrpolkVPtt4IZUd445F2CSPBclgn2B/wR7/AOC7mj/8FGvin4u/ZI+Pv7POqfB343eBbeSfV/Buq3Uksd5BFIkU7xGWOOWGaKR1D20ilgjq6PIBJ5fUf8G5HhPw34X/AOCMHwLtvD+iW9ql74aub+88qMZnuZtQumllc9WZj3PQAAYAAHxL8WdE07wl/wAHrPwp1Dw7B9ll8V/DWe68QNHx9tkXwtq8Kl/XCWdsP+2S+lAj9Bv+Crf/AAV+/Z8/4JT/AA70bUfH+g6p4w8deMLlrTwF8N/DeDf61OpVSxbDeRAHeNDJtdy0gCRyNkD5D8e/8Fsv+C2v7OvgOT9qf9pn/ghTeaX8I4rcXmoyaT8RI5tZ0eyI3NcXUCrLLEI0yz+dawKu0h2i5I8x8YQWXx6/4PP9N8M/GLy76x+GPw7t5PANjfRho5JY9B+3RlQerR3N9d3Ckcq8IYfdr9tNW0jStX0ubR9Y023u7S6iaC6trqFZI543G10dWBDKykggggg80AeSfsG/t3/s8f8ABRv9mzR/2ov2afEs19oGqO9vdWWoQrFfaTfRhfOsbuJWYRTpuUkBmVldJEZ43R2+Ov2sf+C+/jBv2utY/wCCff8AwSw/Yw1n9or4oeG2li8X31rrSafoXh6eNwkkc1yVKuY5P3UjSSW8SSFYxK77kHxz/wAG3finxD+zb4i/4KKfDT4FXk2p+FvhnfXF/wCB4y5lijurV9dhtmUHIZporSDJ53CBfSvaP+DL3wL4Pj/4J4/Eb4xxwR3XinxN8ZLu08SavI264nitdPspLeGRicsFa8uZRnnNy570Adb4P/4OHv2g/wBlH9oLwz+zr/wWs/4J86h8A08YSFNB+I2leI49V0Jn3IpEroXjEce9PNkiuJWi8yMyRIjbx+kP7Rv7SPwb/ZP+A/iT9pT47+M7fQ/B/hPSzfaxqsgLhY9yqiIq8ySSSOkcaKCzvIiqCWFfCf8Awdh/DT4f+NP+CLPxB8W+K9Nt5dT8H+IPD2qeF5ZMBobyTVbexkKdyTa3dypA7c9q/Pf/AILP/HD4weIf+DXv9juy8S3F5GfE11odvr100jbry3sdJvFs1lP8fmKkU+WyS0StyRmgD6y+E/8AwXz/AOCrv7aMN58ef2Av+CKOreLvg3p95OltrfiPxvHp9/rcMTsrNbbtsbSAoyNHbrdhJFZNzMMV8yfs/ftveCP2/wD/AIOwv2ffjr4T8C+IvCWo2vw91bQ/GXgvxZp722oeHNbs9A8Qx3enzBlXcY2xhsKSrDckbh41/ev4GfCr4e/BP4M+Ffg58LdOt7fw14X8O2elaDBbqPLW0ggSOPGOuVUHPOSScnNfjX8XvB3hjwv/AMHsHwi1bw/pkNvceIPh7dajrUkWM3F0PCmtW/mNj+LybeFffaD3oA/b9PuD6UtIn3B9KWgAooooAKKKKACiiigAooooAKKKKACiiigAooooAKKKKACiiigAooooAKKKKACiiigAooooAKKKKACiiigAooooAKKKKAOLb77f7x/nRQ332/3j/OigAooooAK8w/af/Y++GH7YNv8ADmP4na54gsf+FWfF7Q/iN4ePh+6gi+0appfnG3huPOhk32zec29U2OcDa6859Pqeyxsk3f54oAgLF2Ln+Jifzps3+qb/AHTVjbp//PQ/mabKth5bYkP3T60Afl/+w/8A8rDv7QX/AGBfEv8A6M0av08r8xf2GxGf+Dhz9oLzTj/iTeJP/Ruif/Xr9QCthnmQ/maAIk++v+8P51Jef6//AICKVVsdw2yHOeOtPuBa+ZmZyGxQBWqax/17f7v9aNun/wDPQ/makthbByYHydtAFVvvN/vGipithnmQ/rRtsP8AnofzNAAP+Qe31/rUKq7sI40Zmb7qquSa4X9of9qf4DfsteGrPU/i94ya3utZmMHhvw1plnJfazr9z2t7CxhDTXTk4HyrtXOWZRk148/ws/as/bgBl/aNvdT+C/wpuPu/CzwzrQ/4SnxFbsPu61qducafCy43WNmxkIYrJP1WgDW+Jf7aXiHxt441L9n/APYP8F6f8R/HGmXH2bxN4ovbpk8IeC3PX+0r2LP2m5XPGn2u6YkYdohzXSfAD9jPw98HPGM3x3+Kfjm/+JXxe1S1aDVPiV4ht1jktbc9bHS7Vf3WlWQJOIofnfOZXkbmvS/hx8M/hb8H/Aum/DH4U+C9L8N+HdHtxDpeiaJYrb21sn+yiADJJJLHLMSSxJOa6C4Fudvnueny0AVQABgCpLX/AI+V/H+VO26f/wA9D+Zp0AtPNBiclvxoAhn/ANe/+9TasSLZeY3mSHdnnrTdun/89D+ZoALb/US/57VCOlWoRbCN/Kf5f4vao9un/wDPQ/maAIamuP8Aj1i/D+VG3T/+eh/M1JKtv5KCR/l/h9+KAKtOi/1yf7wqTbp//PQ/maVFsvMXZId27jrQAy8/4+D/ALoqOrM4tDJmZ/m+ppm3T/8AnofzNABY/wCsb/dqHv8AjVq2FsHJgfJxUe2w/wCeh/WgCGpv+XD/AIF/Wjbp/wDz0P5mpNtt9mxv/d56/jQBVoPSptun/wDPQ/maNth/z0P60AF9/rF/3ahq1ci2LAztg44qPbp//PQ/maAG2f8Ax8D/AHTTZf8AXP8A7xqaAWnmgwuS340jrZb23yHdu560AQVND/x6y/57UbdP/wCeh/M1JGtt5LBH+X+L2oAq0VNt0/8A56H8zRt0/wD56H8zQAXH/HtD9B/KoatSi28pBI/y4+Wo9un/APPQ/maAI4f9cn+9Trr/AI+W/D+VSRrZeYuyQ7s8daJltPNJlc7vxoAr1NZdX/3RRt0//nofzNSW4twWMLk8fNQBVHSipgun/wDPQ/rRt0//AJ6H8zQAH/kHr9f61DVoi2+zKCx8vseaj26f/wA9D+ZoAhPSpr7/AF6/7v8AWjbYf89D+tSXAtS+Z2wcUAVals/9f/wE0u3T/wDnofzNPtxa+ZmFyWxQB4d/wUH+E3iz4s/ss+Iz8Mov+K28Hz2/jL4fyKpLrrekTC9t41x/z2EcluexWdgeDXonwd+LHhT48/CXwv8AHDwJLv0Xxj4fs9a0v5gSsNzCsoQ46MpYoR2KkcYrrA9pBOs6vl45A4HPJBzivm//AIJ7wWfwpvvi1+xlO+2L4V/Ei4n8LQqOF8Na2p1bTgD3WKSa8tR6fZsdqAPo6L/jyk+pqGrBEItH8lsrzVegAooooAVP9Yv++v8AOihP9Yv++v8AOigDs6KKKACiiigAooooAKKKKACvKf23v2wfhn+wP+y34u/a3+MWi65qHhvwbZwXGp2fhu1hmvpVluYbZREk0sUZO+ZCdzqMAnOcA+rV8L/8HKn/AChI+PH/AGBNL/8AT1p9AHzrpH/B3B8AvFWkx+NfBn/BOn9pLVfC7h2HiCz8K2ckJRGIdgyTtGdpGD+8wCCCRivrj/gmn/wW6/YG/wCCqbX2g/s3eP8AUbDxZpdobvUPAfjHT1sdWitd237QqpJJDcRhiAzQSyeXuTzAm9N3I/8ABtgd/wDwRG+AzyO3GiaoPvH/AKDV/XwJ/wAFXfBvgz4C/wDB0n+yZ44/ZT0u10fxx411bRZ/iRbaDAsf2u3utUns7q8nCY/ezacbpZWONyRBmBJJIB+8dFfJf/BUn/gsb+yf/wAEovBGk3fxouNU8QeL/EwZfB/w+8LQpNqep4OzzTvYLBAHKqZXJLHcI0lZSo+PvFn/AAclftx/A/w5D8Zf2qP+CBPxi8C/DNZI21XxYfEE002mW7MFEs0E+mQJGTkALNLCCzKu7JBoA/XWivJ/2Lf21/2dv2//ANnzR/2l/wBmPxymueG9WLRSLJGYbrTrtMebZXUJ+aG4jJGVOQyskiM8bo7fD/7SP/BxXrVr+1b4q/Y//wCCbv8AwT18d/tLeI/ANxJa+OtU8O6m2n6bpdxG5R40lS1uWl2yK8JdxChkjYRmQYYgH6cE45Ncdp37QvwI1f4xXX7PWk/GbwrdePLDTX1C/wDBdr4gt5NVtbRTEpnktVcyxx5miG5lA/eL6ivk79m//grD+0f8c/2PPjB8e/HH/BKz4seCfHPwp/cr8KdQ8ya98R3BgEyw2D/ZEnkOxkYt9lKkSoUMnzBfxp/ZD/4Kc/tA/DD/AIL7fHj9srwx/wAEuPjB4n8WeMPBt3Zal8FtI0u6bX/D6PLo7Nc3Ua2TyLGDbIDuhTBuo8scjcAf08UV89/syft3n4lfsPH9tb9rH4JeIP2f7OwttTu/Evhz4kRy293otpaXEkfnTCWCF8SIgkVfLywkULvJBPxRYf8ABxt+1D+0KmqfET/gnZ/wRU+LXxi+GWm3UsMHj661s6OuqNExWT7LbpZXPm4ZThVkaQcB40Y7AAfq3RXyX/wSs/4LAfs+f8FUPBPiBvAvhvWvBfj7wRdraePfhr4rQJqOjzEsu4EAedD5iSR79qOrxlZI4yVDeX/H3/g4Q/Z4/ZW/br+Nf7IX7Qnw41HQdG+DHw1h8W3HjSLWIZn155o9LMOnWdkY1JuJJNTWJN0wXdEzMUTLKAfdXxG8e+HfhZ8P9c+Jni+eWLSfDuj3Wp6pLBA0rpb28LTSMqLlnIRGwoBJPAr5l/4JOf8ABYT9nj/grv4B8XeNvgT4L8WeH5PButw2Gqab4stIElZJ43kt50e3lkjYOqOGTduRkIIIKO3L/wDBKf8A4Kz/ABQ/4KTeCviV8SPHn7Cfir4SaD4RhsbnwlceJr6eVvFNpcRXcnnRGWzgjUKtumfLaZR54y2AC+X/AMEBv28P2b/29v2ZPGHxE/Zj/Yo8P/AzQ9H8fSWF74a8OpZLBfXjWNrPJesLS2t03sJVjJKliI1y38KgH3hRXwT/AMFK/wDgvt8A/wBg/wCNlh+x98JPg74q+OXx01NY2g+F/gCMtLaeZGJY47qZY5WjlkiPmrDFFLII8O6xo8bN4PqP/Bzn8Yf2Z/GWhQf8FOv+CQHxW+Bfg/xBeLa2fjZdUfVoElYE7WjksrVW2qGkdI5GmCKSsTnCkA/W6ivOfEf7THgA/sran+1p8Kr+38aeHIfA114n0OXRr1fL1e2is3uUWKQghfMCbQSPlJ5HBFfmrqP/AAde/C3Uf2V/h38TfhR+xn4q8bfFn4mX2qJoXwZ8N68Lu5trSyuWga6ubiC1aRRIUdo40tnZvKkyVVdxAP1worh/2ZPit4l+Ov7OXgH41+Mvh1d+D9X8X+C9L1rVPCd+0jT6NcXVrHNJZSGSONy8TOYyWRDlTlV6V12o63pGkNGuqanb2/mZ8v7RcKm7GM43EZxkfnQBaorM/wCEz8J/9DLp/wD4HRf/ABVB8Z+EgMnxNp//AIHRf/FUAadFMt7iC7t47q1mWSORA8ckbBlZSMggjqCKfQAUUUUAFFFFAH4V/wDB5J4I1H4mfG79iv4b6R4lbRbvxB4r8Taba6wqsxsJJ7rw7EtwAhDEoWD/ACkH5eCDXteq/wDBWb/gu9+yboK/s6/Hb/giV4j+LnjzTI5NPtPip8NdauZfD/iHZmOHUnjtrGf7P5gCyvG8kDEsw8u2zsTd/wCDiH/gnp+2L+21+0n+yD49/Zd+DE3irSfhj451TUPHF1FrVhaf2bby3uhSRuVup4mlytpcHEYcjy+QMrn9So41CsCg+ZiTx15oA/Ln/giH/wAEsv2wvBP7TvxN/wCCt3/BUSewj+OHxUt3s9N8J2M0cyeHNOcxbhIyPIiyGO3treGJHcwW8O15HeV0io/sjfsWftUeBv8Ag5+/aF/bI8W/BDWrD4Y+Kvhu2neH/GU6x/Y7658nQB5aEPuJzbTj7vWJvQ1+qwAAwBTRHGH8wRru/vbeaAPI/wDgoL4F8YfFD9gz43fDT4e+H7jVtf8AEXwh8S6Zoel2u3zby8n0u4ihhTcQNzyMqjJAyeSOtfIv/Buv+xV8WfgV/wAEjl/ZZ/bN+CN9oF7quveIoNe8K+IFXNzp92VjKuEY/JJGXHXOPwNfowQCMEUiIkY2ogUeiigD8Ov2a/hF/wAFdf8Ag29+JPjb4O/BX9jnXf2pP2bfFGvPq/hhvBt0f7c0a6ZRGS8MEUsqyGFIlmQwNBK0UTxSxEyobXxp/Zi/4Kq/8HHPx5+H+nftd/sq6l+zP+zF4H1oatqXhvxLqrNr3iG4A2PthaOKVZ2iLRRvJDFHbJcTsGuHxG37dlVJ3FRn1pQqqchevX3oA/Mr/g6D/Yq+Pn7Vf/BM7wn8B/2OvgZqHirVNH+KWk3cfh3w7DGv2TToNN1KHcqsygRoZIUAHTcvGOn3x+yx4b1/wb+zN8O/CPirSZrHU9L8C6PZ6jY3GN9vPFYwpJG2CRlWUqcEjI613jokg2yIGH+0KUDAwBQA12Krux+ma/I/4U/sXftj/wDBVb/gsr/w3N/wUG+APiDwB8EvgTt/4UT8O/FnlCXVbxpN0V9PDE7hX3xJdzZI+dLODMyRSGv1ypqRxx/6uNV/3VoA/IX9vr/gn9+2N+wR/wAFavCv/BWz/glr8ENU8aaV48uJLL4/fDHw7JDG2oq7K9zcqjug/wBJRfO3YPl3tusjbxOVr9cPDmsHxBoFjrp0u8sfttnFP9j1GHy7iDegby5Uydrrnay5OCCKtPHHIMSRq3+8KcBgYAoA/KT/AIOM/wBif9qv9q/9qf8AYx8b/s6/A/WvFulfD34iajfeM73SljKaVbyX+gukkm51OCttO3APEbZxivV/+Dln9l/9oH9rr/gl3rHwZ/Zq+FWqeMPFFz400e6h0bSVQzNDHO7SSfOyjaoIzz39MkfoE0cbkF41bHTK9KV0SQbXQMPRhQB+dH7Xn7KP7RXjn/g2k039kPwj8JNWv/iVD+z74P0STwdAsf2xdQtY9LFxbkb9u+Mwy5wxHyHBPGb/AOwR/wAEzLP4zf8ABArwN/wTt/bt+FV9ot5deEb2y1rS75Yxf6JeHUbua2u4WBZUniLxTJ1B+66lWZD+hBRCnllBt/u44pVVVG1VwPQUAflH/wAEIfhV/wAFJf2Mbzxr/wAEof29v2e9c8VfCfSbjUIPhn8U0jiuNJksWV/NsJP3pcWk8b+ZCHXdE8ksD8FFj8a+BfwF/wCCvX/BuR8WfHXgH9lv9krUf2oP2Y/FWvPrWgaT4d1Ix69odw67AGjijlm84RJHHKVt5YZxBC6Nbu0kY/b8RRB/MES7v723mnFQTkr06UAfnf8Asqf8FZP+Cm/7Vvx98I+A3/4IffET4aeB7zVlXxl43+IviL7E+m2Wxw0kVpc2ts0rB9h+VnYqGAjJII8u/wCDlD9iX9rD9rj45fsh+J/2b/gXrXjCx8CePtSvfGFzpCxFdLgku9FZHk3upwwt5iMAjEbZxxn9YNi7t+0bvXFI8ccn341bHTcvSgD81P8Ag6Y/ZG/aU/bN/wCCcOg/Cj9lz4O6v428RWvxe0/VLjSdFVGljs47DUkeYh2X5Q80S8ZOXHGMkdr/AMFS/wBmX4+fGf8A4IE+Jf2Y/hb8LdT1vx9efDnwrYW3haz8v7U9xb3WmNPH8zBcosMpPzdEOM8A/e7okg2yIGH+0KCiMuxkBX+7igD5X/4Il/Bj4p/s9f8ABLT4M/Br41+CL3w34o0DwmbbWdE1FVE1pL9ruH2MFJGdrKevQ/hXyZ8ZP2Jv2rPEH/B1T8If21dG+B2tXHwr8P8Aw6msdY8bRrH9jtrhtE1q3EbEuGz5txCnCnmRexzX6uKqqNqrgegpvlxl/MMa7v723mgD8u/+C2f/AASm/a78e/tQ/DX/AIK1/wDBLm803/heXwuhjtNS8K6lcJBH4l09DIEVHdkjMnlz3FvLHI6edby7VkR4lSXhfiF/wV//AOC7n7Rfwwvv2ef2b/8Aghl8Qvh38UdW09tPk8feK9Rkj0XRpHTY95bSXdtbQSOAWePfOyRuF3CcAq37AEAjBFJsXgbRx046UAfEH/BDD/gkNp3/AASi/ZHvvhx478Qaf4m+IXjrUv7W+I2uWaM9tLL5flxWMLSKGlt4UaTDOoZ3nmfChgi/Efw6/ZV/4Kh/8G6P7UfxA1z9iL9lLUv2jv2Y/iHqn9pReC/DeouuteHrjDeUoiVJphLErGIyRwzR3MMUO8wyYCft5QVUnJXp0oA/D/8Aan+HH/BYP/g448ReEPgF8Q/2M9c/ZX/Z20XXotW8Xah46vSda1i4jDIoW2lihmYrHJJ5UPkiASZklmYrEq/fH/BUD/gkT8MP27f+CZa/sA/DuSy8K/8ACH6fp0nwnurrzHtdGvNNtzb2kcm3L+S1u0ls7gOypMzhXZQp+xwqg7goyepxS0Afi7+yF/wUi/4L5fsUfC7Q/wBhn4+/8EUfG3xY8TeEdPi0Tw38QtB8QvbafeWcKLFbG8vI7a5tZHVAoNwZ4mdVHmKH3ued/Zv/AOCb3/BVPRP+DhT4J/8ABRr9sfwE2tXPirw3q2rfErUPCUcTaD4FuJtI1jTbLQopDMWl8i3WwDuAymS4bEk5zM/7heWmMbF/Kgxxlg5jXcOjbelACpnaMjtS0UUAFFFFABRRRQAUUUUAFFFFABRRRQAUUUUAFFFFABRRRQAUUUUAFFFFABRRRQAUUUUAFFFFABRRRQAUUUUAFFFFABRRRQBxbffb/eP86KG++3+8f50UAFFFFABU9n9yT/PaoKnssFJATj3/AAoAgHSmzf6pv901YFrABj7V+opJbaDym/0n+E9x6UAfl9+w/wD8rDv7QX/YF8S/+jNGr9PK/Mb9huMP/wAHDv7QQL/8wXxJ/wCjdF/xr9P/ALNB/wA/X6igCJPvr/vD+dSXn+v/AOAinLbQhgRc9/anzwxPJuefbx04oAq1NY/69v8Ad/rXN/Fz4t/B/wCAfgef4l/G74paH4S8P2/+s1jxDqUVrAWwSEQuQZHOMBEDMx4AJrw2H9qX9qH9psG0/YX+AraN4cuBtX4x/GrTbjTtPkj5/e6boo2X2o8EFXm+ywk/xMOoB7h8Uvit8Mvgj4Hvvif8Y/iDo3hbw7p+ftmt6/qCWttGecLvcjc5xgIuWY8AE14On7Qv7V/7XS/Zf2Nvh83w68E3Bx/wun4qeH5Bc3sef9ZougybZZ8ghlub4wxdxHIOK6j4X/8ABP74Z6J46s/jh+0R461j4zfEixfzLDxd8Qlhkt9GfOSNK0yNRZ6YuejRo0uPvSMea94eCKRzLJelmb7zM2SfxoA8j/Z3/Yw+Df7O2pX3xM006t4r+IWrw+X4g+KPji+/tDxBqK5/1f2ggLaweltbLFCoA+U4zXqgAAwBVoQx/Z2iE3y5+96VH9mg/wCfr9RQBCelTXvVP900G1gIx9q/UVJPCkhUvNtwPzoAq1Ja/wDHyv4/yp32aD/n6/UU6GCJJVdJ9x9OKAIZ/wDXv/vU2rElvC0jM1zjJ6ccU37NB/z9fqKAC2/1Ev8AntUI6VahhjWNkSXdu6+1Ri1gAx9q/UUAQ1Ncf8esX4fyo+zQf8/X6ipJYY2hRGlwF/i9eKAKtOi/1yf7wqT7NB/z9fqKclvCHVhcZw3TigCO8/4+D/uio6szwRPLuefb7cUz7NB/z9fqKACx/wBY3+7UPf8AGrVvFHGxKTbuPao/s0He6/lQBDU3/Lh/wL+tH2aD/n6/UVJ5Mf2by/N+XOd340AVaD0qb7NB/wA/X6ij7NB/z9fqKAC+/wBYv+7UNWriGORgzzbeKj+zQf8AP1+ooAbZ/wDHwP8AdNNl/wBc/wDvGp4YYkkDJPuPpxSPbwl2Y3GMt044oAr1ND/x6y/57UfZoP8An6/UVJHDGsLos2Q38XpxQBVoqb7NB/z9fqKPs0H/AD9fqKAC4/49ofoP5VDVqWGNokVpdqr0PrxUf2aD/n6/UUARw/65P96nXX/Hy34fyqRLeFXVluMkHpkUTQRPKXafafTigCvU1l1f/dFH2aD/AJ+v1FSW8McZYpNuyPyoAqjpRUwtYAMfav1FH2aD/n6/UUAB/wCQev1/rUNWjDGbYRed8oP3vxqP7NB/z9fqKAIT0qa+/wBev+7/AFo+zQf8/X6ipLiGORwzzbflxQBVqWz/ANf/AMBNL9mg/wCfr9RUkEMccm5J93HSgCs/32/3j/Ovnb4kJJ8J/wDgpd8NfiBBldP+L/w/1bwLq38KHVNKY6xpbH1YwNqcYzyeB6V9HtbQliTc9/avnT/gqNbN4W/Zdh/aF0wvJffBrx5oHj6AR/8APtY3yJqA47Np9xdqfagD6KhObGQj3qGrTpbpbSfY5lkhb5oWVsgoeVIPcbSDVWgAooooAVP9Yv8Avr/OihP9Yv8Avr/OigDs6KKKACiiigAooooAKKKKACvhf/g5U/5QkfHj/sCaX/6etPr7or4b/wCDku1ur3/gid8d7aztpJpG0PTNscUZZjjWtPJ4HsM0AfnD/wAEiv2a/wDg5R8e/wDBOT4Yax+xD/wUF+DXgv4Tajpt4fC+keINCim1XTIf7RulmRi2h3G9jMJnUmZuGABXAA+7v+CXv/BBPR/2N/2hNU/b7/a+/aO1r46ftBaxDIP+E01yF47fR/Ng8iQWyyO8jyeVugEzMoWAiOOKJdwbsP8Ag21tbmz/AOCJnwHtru3kikXRdU3RyxlWGdZvz0Iz0/MV9yMAy7T3oA/C/wDZE0rR/wBuD/g77+NXjL42Wf8AaCfA/wAJXr+AdM1D95DYTWD6dpkMiRvlcBr66u14+WeVZFwwBH7heIfDXh7xVoN94X8T6JZ6jpup2klpqWn39us0N3byKUkilRgVkRkYqVYEEEg1+LP/AAVU/Z2/a/8A+CUH/BXa2/4Ln/sjfBbU/iN8PPFWliy+NHhPQ0LTWafZo7e4Mixq0kdvKlvBdJcgOkd1bsJtqOiyd38Tv+Dvf9jjxb8L/wCyP2IvgJ8UviJ8XNet/I8I+A7rwgI/Lv2GEF2beeVpVU8mO1EjSFQgZAxkUA8g/wCDXl7r9m7/AIKkftnf8E/PBF3fTeBfCviq+bRo7qdpFtm0rXZ9Nib5icSSwSoHbq32dck7RjkfBCf8FBf+DXr9rL4z+P8AVP2P9S+M/wCzf8TvEA1a68beHZHN1pcEU07wzXM6RyfZpY47yRJY7qNYppFUxTIN5b7K/wCDbT/glr8fP2IfhT8QP2sP21Y5o/jD8cNWj1TXNLumWS60uzSSacC48sYW6uJriWaWNc7QIUO11dFx9J/4O5f+CbGkafq2lfHv4c/Fv4feLtDuJYb7wXrXgkyXkro52pGVkUKWXHyziEqSQeBuIB9mf8E6/wDgpv8Asmf8FR/ghc/Gb9lfxheXEenzra+IvDetWwttV0O4ZNyRXMId1AdQSksbyRPtcK5ZHC/mp/wTg/5W9f2sv+yaah/6P8N1t/8ABrz+y/8AF7/hev7Sn/BQm5+BWpfCj4XfGTxFv+GHge/s/su+ya/urtZEgwoWGCKaOGORVEb+bKI8KmK8R/aY/aUuf+CG3/BzL8RP20P2mfhH4ovfhV8ZvB7WeleItDsFmZ4prbTnleAO8cckkF7YCKWEyLIsUgkCtujVwD6I/wCDzj4z+LvAX/BNTwp8KfDeoT21n47+KFpbeIPLb5bqztLW4u1t39QblLaUe8AqX4Lf8FYP+Cnv7PXwi8M/Ar4W/wDBsT8StN8OeENDttJ0Sxh+JLYit4I1jTkaL8zELuZjksxLEkkmvR/+Cj/wV8If8HIn/BFXTfid+x7b6jb6lc6xL4p+GNn4qhisJ7y+06e906azm/eOkQnT7UkbFxHvMDuyqCR4n+yB/wAHSHwy/Zr+F2kfswf8FcfgN8TPhv8AF/wTpcOl65fTeEWmg1pYI1iS9aNnSaKaULudRG0LH5432uEQA5P/AIJu+DP+CinxF/4OJdU/b/8AHn/BM7xx8BfBXxM8F32meOrTUpDdWSSRabDtla4+z26l5rqytXI8sEyMxJYlmrh/jH8Bfhr+0X/wekr4I+Lnhy31jQtP0/Tdcm0m8jDw3VxY+Eobm2DqeGVbiOGQqcq3l7WBBIr9QP8Agmr/AMFmf2cf+Cp/jXxfoP7Nnwq+I1no3hPT7ac+LfFXhhbPT9SklkdGht3SSQb0ARirlHIckLhSa/Pqx0vU/wDiNg1TUDptx9n/AOEHBFx9nbyz/wAUZEv3sYxnjOcZ468UAftV8R02fD7XOSf+JPddT/0xevyA/wCDK6YQf8E9/ilKyswX4xSMVUZJxo1gcD8q/YD4lZ/4V9rnB/5A910Gf+WD1+Q3/BljY3tl+wD8UIL21khk/wCFxMwSaNlOP7G08g8joR+lAHFf8Ggvhyy/aR+Jn7S3/BSP4trb6r8R/FnjWOxOpTDdNYRXJlv7sRn+FJpHt1x2W0VRgZB/Vb/gpV+zr8OP2p/2Cviz8CviZplpLpet+BdSMc11GCtjeRW7z2t6PR4J44plPrGM5GQfx38JXXx8/wCDVv8A4KI/E/xh4n/Z88TeMv2RfjFqSXVv4k8J2Imfw8ySyy2kbFiI4p4Bcz2xileEXMe2VGJiMY9E/b6/4OMdK/4KKfArXP2C/wDgjn+z98SviN8Rvifo8mhahrDeGTa2+habdqYbmX77MJDEzx+dJ5MMAkMxl/d7SAH/AAbVfFjxn49/4N8vjh4D8VanNdWXgnUvGGmeHd5+S2sp9BivmgX2FzdXMh95qm/4MoPgJ8NLP9jr4pftRJ4dgbxjq3xLk8KTas8YaWHS7PTrC7SCNjzGrz3rvIFIDmKItny0x9WfsIf8E2Ln/glz/wAEQvF/7N+v3dvfeMNR8D+JfEHju400tJDLrF1pkitFD3ZYYYbe3DD/AFhg37V37R4b/wAGXOnahpv/AAS08cJqFjNA0nx81SSNZomUsp0TRAGGRyODyOKAP14AwMCvl3/gpD/wTl/4J0/t+yeDW/b68I2eqHwmuojwn9q8bXWj+X9q+zfaseRcQ+dn7Pb/AHt23HGNxz9RV8/ftz/8Etv2FP8AgpO3hdv20/gZ/wAJp/whn27/AIRv/iptT037H9r8j7R/x43MPmb/ALND9/dt2fLjJyAfIX/EOd/wbrZ/5JDo/wD4ezVP/lhTW/4Nzv8Ag3W28/CPSB/tf8Ls1Tj3/wCQhXoH/ELl/wAEKv8Aoxgf+HO8T/8Ayyo/4hcv+CFf/RjA/wDDneJ//llQB9sfA/4c/Dn4PfBbwf8ACT4P2i2/hLwt4X0/R/C8Md810sem21tHDbKJnZmlAiRBvLMW6kknNdO7bVLY6DNYHwm+FvgX4HfCzwz8Fvhfof8AZnhrwf4fstE8O6b9pkm+yWNpAkFvD5krNI+2ONV3OzMcZJJJNdBQB+Of7bv/AAdLfGj9kb9rj4hfsy6D/wAEtda8YWfgjxNNpVv4mtvHF1brqCxhSJRGulShM7s4DsMdz1Plv/EZF8f/APpDT4i/8OJef/KWv3cMSk5Jb/vs0eSnq3/fw/40AfhH/wARkXx//wCkNPiL/wAOJef/AClo/wCIyL4//wDSGnxF/wCHEvP/AJS1+7nkp6t/38P+NHkp6t/38P8AjQB+ER/4PIPj633v+CNHiH/w4l5/8paX/iMi+P8A/wBIafEX/hxLz/5S1+7nkp6t/wB/D/jR5Kerf9/D/jQB+Ef/ABGRfH//AKQ0+Iv/AA4l5/8AKWj/AIjIvj//ANIafEX/AIcS8/8AlLX7ueSnq3/fw/40eSnq3/fw/wCNAH4R/wDEZF8f/wDpDT4i/wDDiXn/AMpaP+IyL4//APSGnxF/4cS8/wDlLX7ueSnq3/fw/wCNHkp6t/38P+NAH4R/8RkXx/8A+kNPiL/w4l5/8paP+IyL4/8A/SGnxF/4cS8/+Utfu55Kerf9/D/jR5Kerf8Afw/40AfhH/xGRfH/AP6Q0+Iv/DiXn/ylo/4jIvj/AP8ASGnxF/4cS8/+Utfu55Kerf8Afw/40eSnq3/fw/40AfhH/wARkXx//wCkNPiL/wAOJef/AClo/wCIyL4//wDSGnxF/wCHEvP/AJS1+7nkp6t/38P+NHkp6t/38P8AjQB+Ef8AxGRfH/8A6Q0+Iv8Aw4l5/wDKWj/iMi+P/wD0hp8Rf+HEvP8A5S1+7nkp6t/38P8AjR5Kerf9/D/jQB+Ef/EZF8f/APpDT4i/8OJef/KWj/iMi+P/AP0hp8Rf+HEvP/lLX7tbYd/l+Yd393zDn+dO8lPVv+/h/wAaAPwj/wCIyL4//wDSGnxF/wCHEvP/AJS0f8RkXx//AOkNPiL/AMOJef8Aylr93PJT1b/v4f8AGjyU9W/7+H/GgD8I/wDiMi+P/wD0hp8Rf+HEvP8A5S0f8RkXx/8A+kNPiL/w4l5/8pa/dzyU9W/7+H/GjyU9W/7+H/GgD8I/+IyL4/8A/SGnxF/4cS8/+UtH/EZF8f8A/pDT4i/8OJef/KWv3c8lPVv+/h/xo8lPVv8Av4f8aAPwj/4jIvj/AP8ASGnxF/4cS8/+UtH/ABGRfH//AKQ0+Iv/AA4l5/8AKWv3c8lPVv8Av4f8aPJT1b/v4f8AGgD8I/8AiMi+P/8A0hp8Rf8AhxLz/wCUtH/EZF8f/wDpDT4i/wDDiXn/AMpa/dzyU9W/7+H/ABo8lPVv+/h/xoA/CP8A4jIvj/8A9IafEX/hxLz/AOUtH/EZF8f/APpDT4i/8OJef/KWv3c8lPVv+/h/xo8lPVv+/h/xoA/CP/iMi+P/AP0hp8Rf+HEvP/lLR/xGRfH/AP6Q0+Iv/DiXn/ylr93PJT1b/v4f8aPJT1b/AL+H/GgD8I/+IyL4/wD/AEhp8Rf+HEvP/lLR/wARkXx//wCkNPiL/wAOJef/AClr93PJT1b/AL+H/GjyU9W/7+H/ABoA/CP/AIjIvj//ANIafEX/AIcS8/8AlLR/xGRfH/8A6Q0+Iv8Aw4l5/wDKWv3c8lPVv+/h/wAaPJT1b/v4f8aAPwj/AOIyL4//APSGnxF/4cS8/wDlLR/xGRfH/wD6Q0+Iv/DiXn/ylr93PJT1b/v4f8aPJT1b/v4f8aAPwj/4jIvj/wD9IafEX/hxLz/5S0f8RkXx/wD+kNPiL/w4l5/8pa/dzyU9W/7+H/GjyU9W/wC/h/xoA/Gn9kH/AIOq/jb+1D+1R8O/2cdZ/wCCVOt+FbXx14y0/Q7jxHceOrqddNS5mWNrgxtpMYcICW2l1BA6gZI/ZdG3KGx1GaQRKDnLf99n/GnUAFFFFABRRRQAUUUUAFFFFABRRRQAUUUUAFFFFABRRRQAUUUUAFFFFABRRRQAUUUUAFFFFABRRRQAUUUUAcW332/3j/Oihvvt/vH+dFABRRRQAVPZ/ck/z2qCrFkCUkAoArADHSklA8puP4TVgWMg48xfypJLCRkZfMX7v92gD8vv2H/+Vhz9oLP/AEBvEv8A6M0Wv08VTI/lRxs7f3UUsx/AV+OfjLxL+3L+yR/wVZ+N37TnwX/Yp8WeMG1rWNZ0nTZrrwbq0unzWs8lky3McltH+9GLRQNrBTvbkYBrH8bftXf8FavjTq07ftDfsqfGDxF4dl3BfAvhPR9d8I6Syk/dnbTbf7ZdL/svc7SOoPIoA/Ub41ft2fsufATxSvw68V/EldX8aSNiz+HvgnT5dd8QXL9lFhZLJJHk8bpfLQdyK5G78Z/8FF/2kJdvw/8Ahzof7Pfhib7mveP1h8QeLZojyrQ6VbubGxYjvczzMpPMXBFfFHwO/b7/AG2/2afCn/CF/AL/AIIf2vg/T2ObiPw/4L1+1e5b+/NItr5k7erSMzHua7KT/gsB/wAFS3Of+HTGr/8Agh8R/wDyNQB9ifCj9gL4BfDvxxD8Y/G0etfE74iQ8x/ET4qaiNY1K3bIP+iRsotdOX0W1hjwOMmvc7RnkuWkkdmYryzMST+Jr8x/+Hvv/BUr/pExq3/gg8Sf/I1Oj/4LA/8ABUyJsr/wSZ1f/wAEHiP/AORqAP0wYDceP4jRgelfmaf+Cvv/AAVLJyf+CTGrf+CDxJ/8jUf8Pff+CpX/AEiY1b/wQeJP/kagD7s8CfGDxX4k/au+JnwGv7XT10Twf4F8IazpU0NuwuXuNUm1hLkSuWKsgFhDsAUFSXyTkY9GwPSvyQ8Jf8FPP+CiWh/tMePvifpP/BNfVLrxF4i8HeGNO1zwyNF10tptnZS6q1ncsq2/mqJzd3CguArfZjtLENXe/wDD33/gqV/0iY1b/wAEHiT/AORqAP0xIGOlT33JTI/hNfmOf+Cvn/BUo8f8OmNW/wDBD4k/+RqdJ/wWB/4KmSEZ/wCCTGr8f9QHxH/8jUAfphgelSWoxcrgev8AKvzJ/wCHvv8AwVK/6RMat/4IPEn/AMjUqf8ABX//AIKmRtuX/gkxq3/gg8R//I1AH6Z3ABnbI/ipuB6V+Zrf8Ff/APgqW7bj/wAEmNW/8EHiP/5Go/4e+/8ABUr/AKRMat/4IPEn/wAjUAfeX7Rvx4uv2fvC/hfW7TwpFqzeJvif4Z8JNFNeNALZNV1GOza5BVW3NGJN4Q4DYwSM5r0DaASuOhIr8if2k/8Agpn/AMFDPif4a8Kab8Q/+CbmqeGrfSPih4Z1vS7qTRtdQXupWWox3FpYgzW4BaeVBEFUlzuIUMcY9EP/AAV9/wCCpeTn/gkxq3Xn/iQeJP8A5GoA/TLA9KmuP+PWL8P5V+Y//D33/gqV/wBImNW/8EHiT/5Gpzf8Fgf+CpjIsf8Aw6Y1fC/9QHxH/wDI1AH6YYHpSxACZMD+IV+Zn/D33/gqV/0iY1b/AMEHiT/5GoX/AIK/f8FS1O4f8EmNW/8ABB4j/wDkagD9NrwZuOR/CKjwPSvzOk/4LAf8FTJG3H/gkxq//gh8R/8AyNSf8Pff+CpX/SJjVv8AwQeJP/kagD701b46XWgftX+Ef2bE8LQyw+KPh/r3iSTWjeMsls2nXdhbrAItuGEgvCxYsCvlgAHJx3xAyeO9fkXr3/BTf/gobfftX+D/AIu33/BNzVLbxRo/w/1/SdJ8K/2Lru++sbq70+W5vApt/NKwyW8KFlUqPP5IO3HoX/D33/gqX/0iY1b/AMEPiT/5GoA/TLA9Km/5cP8AgX9a/Mf/AIe+/wDBUr/pExq3/gg8Sf8AyNTv+HwP/BUzy/KP/BJnV8f9gDxH/wDI1AH6YYHpSED0r8zv+Hvv/BUr/pExq3/gg8Sf/I1H/D33/gqX/wBImNW/8EHiT/5GoA/Ti/5kXI/hqHA9K/M+T/gsD/wVNlILf8EmdX/8EHiP/wCRqb/w99/4Klf9ImNW/wDBB4k/+RqAPvb9or43XP7P3gXS/HFn4Yh1ZtQ8eeGvDjWs140CxrqurW9g0+5VbJjE/mBcYYrgkZzXoF3GI7yaPrtlZc/Q4r8i/wBpD/gp3/wUP+JfgHS9A+Iv/BNXUvDdhaePvDOrW99NouvIs99ZavbXVpaZmgAzPPEkIAO4+ZhQWxXoE/8AwWA/4KmyTySSf8El9Y3M5LZ0DxH1zz/y7UAfphgelTQf8ekv+e1fmP8A8Pff+CpX/SJjVv8AwQeJP/kanL/wWB/4KmKjR/8ADpjV8N/1AfEf/wAjUAfphgelGB6V+Zv/AA99/wCCpX/SJjVv/BB4k/8Akaj/AIe+/wDBUr/pExq3/gg8Sf8AyNQB+nFwM20OR2/pUOB6V+Z7f8Fgf+CproqH/gkzq/y/9QDxH/8AI1N/4e+/8FSv+kTGrf8Agg8Sf/I1AH6Vanf/ANk6dc6qIBJ9ltJp/L3bd/lxM+3PbO3Ge2a4/wDZk+Mdz+0X+zZ8O/2hL7w5Fo83jvwNpfiCXSYbozpZNd26zGFZGVS4XdjcVBOOgr8/dT/4K6f8FQrzS7q1vP8Agk/q0MMtnMk039g+Iv3aNGys3NtjAUknPYdR1rjf2Xf+CoH/AAUU+Ff7Mnw5+F3w0/4Jpan4o8OeG/Aul6X4f8SxaLrzrqtlBbJHDdBobcxsJFUPlCV+bg4xQB+tmB6VNY8F8D+EV+Y//D33/gqV/wBImNW/8EHiT/5Gp0f/AAWB/wCCpkedv/BJjV+f+oD4j/8AkagD9LwBjpS4HpX5m/8AD3z/AIKlf9ImNW/8EHiT/wCRqP8Ah77/AMFSv+kTGrf+CDxJ/wDI1AH6cNzp68d/61Dgelfmef8AgsD/AMFTTH5f/DpnV8f9gDxH/wDI1N/4e+/8FSv+kTGrf+CDxJ/8jUAfpddS/ZrWa6EQbybeSXb03bEZ8fjtx+Ncb+zV8ZLn9ov9m74e/tAX3hyPR5vG3gvTtcl0mG6M6WbXMIlMSyMqlwucbioz6V+f9z/wV5/4KjS2s0U3/BJ3Vo0e3kR5P7B8R/KpQhjzbdgT/wDW61xP7MP/AAVB/wCCivws/Zq+Hvwx+Gv/AATQ1PxP4d8OeC9O0zQfEkWia86apZwwKkVyrQ25jYOo3ZQleeDjFAH62YHpUtkMT8D+E1+ZH/D33/gqV/0iY1b/AMEHiT/5GpY/+CwH/BUyNty/8EmNX/8ABB4j/wDkagD9MXA8xuP4j/Ouf+LXw10r4zfCfxV8G9cx9h8XeGdQ0S7yuf3d3bSQH/0MH8K/O0/8Fff+CpZOT/wSY1b/AMEHiT/5GpY/+CwH/BUyKVZU/wCCTGrbkYMv/Eg8R9Qcj/l2oA+0f+CdPxK1L4ufsD/Cnx1rxZtUl8C2VjrjSHk6hZJ9hus+/nWz575r2Cvlv/gjrq3xe1X9kvxF/wALi+DeqeA7pfix4mu9J8N6tptzatb2d9cpqWEW5VZGiWe8uI0bHIj9Qa+pKACiiigBU/1i/wC+v86KE/1i/wC+v86KAOzooooAKKKKACiiigAooooAKCMjBoooAAMDAooooAQqG6iq1to2l2d1NfWlhDFNcHM80cKq0n+8wAJ/E1aooAAMcAVWudH0y8uob26sYZJrc5glkhVmjP8Askgkfgas0UAAAHSoNQ0zT9VtzaalZxXETEFo5ow6nHThgRU9FADY40ijWJFAVVwqgcAelV9R0TSdXRY9U06C4WNt0a3EKyBT6jcDj8KtUUANjiSJQsYwFXCqOgH0pdo3bufzpaKACkVQvTP4nNLRQA140kBVx1GD71Bp+j6ZpMBtdMsIbeMsWMdvCsalj1OFABqzRQAHnihVCjAz+JoooAKKKKACiiigAooooAKKKKACiiigAooooAKKKKACiiigAorg/wBp39pD4U/shfs/+LP2l/jfrrab4V8G6NLqOr3EaBpGRcBYolJAeWR2SONMjc8irnmvzA+CX7QX/Bxr/wAFZfh//wANa/speNPhF+zb8L9Ynmf4eaL4s0U6rrGuWSOyJc3Ly2twFjdlcCRUg3BQyRshWWQA/Xuivzh/4JUf8FYv2ofHn7Xnjn/glP8A8FQPh34d8N/HTwNp/wDaei+IfCchXSfF2lhI2M0SMTiXy5Y7hSmBJG0gaK3e3dGyf+CQ/wDwVP8A2t/jJ/wUb/aE/wCCZX7fJ8M/8Jl8MZDdeD9Q8PeHW01NU063uTDNcMjTSZE0Vzp1zEowwSWTOQOAD9NK+Kv+C0/7bX/BRP8AYo+GPgXxJ/wT0/Ypk+MWqa/4sax8TKuhahqg0u1EQaMfZrB0lUzMWUXLExRGPa6sZUxhf8HB/wDwVK+IX/BLj9jfSvHHwIsdJv8A4keNPGVnofhHT9WsWuowoDT3U5gVlaUCNFhAByHuozg15n/wWo/4KRf8FAf+CWv/AASl+EPx3tdR8HT/ABf1zxZpOhfEKS68O+bp6XFxo9/d3UdvEsoChJ7dEVsncqE4G7FAH6Y+HL7V9S0Gy1DX9DOm309pFJeaebhZvssrIC8XmL8r7WJXcODjI4NXa+e/2wP+CgPwy/YL/YO1L9tb4+bp7TSfD9jPHpOmlY5tV1G5SNYLOAMTgySycnkRxh3b5UY1+dP7Onxk/wCDqj/goz4Isf21fgn4q+Bfwb+H+vJ9v8G/D/xhpLNJrOmnJgnZzZ3VxslXGJWltvNGJEjSJ0agD0T40fttftW+G/8Ag6k+Dv7E2i/G/WLf4U+IvhzcahrHglRF9jubhdE1ucSN8m/Pm28L/e6xjtxX6qqflH0r+dz9mr9pn4+/tN/8HZvwM1H9rD9n/wD4Vp8U/B3gnVfDHxC8MwXQmszqNv4a1yX7XZNuY/ZJ4biCaIF5MLJxJKu2Rv00/wCCun/BW34i/sdfEP4e/sPfsUfBu1+JX7R/xeYN4P8ADOpSsmn6TY73Q6je7XRnjLQzhVDxoFt7iWSRFhCyAH3hRX5B/HvxL/wdHfsHfCvVf2zvH3x2+BHxk8NeE7B9W8afDHRfDJtmtdOjXfcyWs62ltLKsUQdyzSlgEyI5eUP2N4S/wCCl2g/tPf8EefE/wDwUm/ZmiisbyP4Q+Idf03TNaj+0jStY06zuTJa3CqUMqxXUBUn5PNj2uMBxQB9bUV+J37EP/BWv/guB/wV+/Zk0Pwt+wV8OPhv4U8UaBDeRfF743ePbF7fRINTe9ney03SbRVuTJKun/ZpJpGimAabDLCDG83X/sI/8Fdv+Clf7Mf/AAU20b/gkz/wWe0PwnqWteNrZZfAPxO8L2sVrHfSSLL9nLCFYop7aeSCS3jKwQyxzja6sGJjAP2Cor5d/wCCtX/BVD4Lf8Emf2WJv2g/ifpM2vatqV8NM8F+D7K6EM+t6g0bSBDIVbyIERS8s5Vgi7QFd3jR/iH4dN/wdx/tkeFtP/aD8O/Eb4C/APStYhS80z4d+JdEdr0WrqGiNyr2N/LCzIQWR5Y5VJIaOMjaAD9gKK+Gfjd/wUr+MP8AwSy/4JQ6d+1N/wAFRdE8N6n8XIZJdKHhX4fzGCz17V5Li4+xW8MrGQRA2kSzzy4IRUmKRswSJvAPDvh//g7A/aC+H1r+0ppfxv8AgL8KbjVLNdQ0v4JX/hcvMkLLuS3vJ57W4kguHXGU8/5SwDmE7lQA/WWivh//AIIpf8FZvEX/AAUl8BeOfhx8f/hbb+A/jd8HfEX9hfFDwjZs/wBmjuN8sS3ECyM7Iplt7iJoi8hjeH77B0J+4KACiiigAooooAKKKKACiiigAooooAKKKKACiiigAooooAKKKKACiiigAooooAKKKKACiiigAooooAKKKKACiiigAooooAKKKKACiiigAooooAKKKKACiiigDi2++3+8f50UN99v94/zooAKKKKAPnX/AIKTftleOf2QvhR4V074HeCNK8TfFL4q/ELTfAvwt0TX5ZU006teFibu/MJEos7eJGkk2YZvlXKglh554D/aY/bX/ZN/bj+GP7IP7bPxE8BfEjwz8dbDWE8C/EDwd4Jk8OXGj6/p8AuptMvLU3M8cttJAyiCcMJWfIZcZNYX/BZq+s/g/wDFL9kn9srxlN5Hgr4YftFWsXjrUpWC22i2Oq2psk1K5c/LHBFMqhnJwDIB1YZj/bx1vRfjh/wVP/Yt/Zu+Hes2uq614V8Wa18S/Fx0m8Sc6LodrpixW9xceWTsiup5PKjY8ORjuKAPuxNrIGA6jNOwPSnQafcRQJGdvyqB972p/wBjn/2f++qAJHuLlLCNUupVHHCyEY/WoftN3/z+z/8Af5v8ame3ka2WIY3Kaj+xz/7P/fVACJc3e9f9Nn+8P+Wzev1qS9urvz/+Pyb7o/5bN/jTVtJgwJ28HPWnXNtLLLvTb93HJoAi+03f/P7P/wB/m/xqaxurvzj/AKZN93/ns3r9aj+xz/7P/fVSW1vJFIXfH3ccUARNc3e4/wCmz/eP/Ldv8aT7Td/8/s//AH+b/GnmznJzhev96k+xz/7P/fVAHlnw9+Gfj3QP2yPit8adUslj8PeKPh74K0vRb5NQVpJrvTp9be7Rowd8YUXtvhmAD72xnBr1H7Td/wDP7P8A9/m/xqYW8n2VoTjcTUf2Of8A2f8AvqgBhubvH/H7P/3+b/GrF7c3eUxeTfd/57N/jURspyMfL/31UtzBJKVKY+Ud6AIPtN3/AM/s/wD3+b/GpLW6u/tC/wCmTd/+Wzen1pv2Of8A2f8AvqnwWsscyyNt496AGz3V357f6ZN97/ns3+NM+03f/P7P/wB/m/xp8trM8jONvJ9aT7HP/s/99UAeJft0+DfHPj/wN8O7LwZ4a1TWptN+P3gPVNQjsIXma1sbbW4Jrm5cD7sUcal3boqjJ6V7Y11dl2P22f7x/wCWzev1qaG3kSN0bHzdMH2qIWU4GPl/76oAb9pu/wDn9n/7/N/jU9xdXf2WL/TJu3/LZvT61F9jn/2f++qllgkeGONcZXr+VAEH2m7/AOf2f/v83+NOiursTJ/ps/3h/wAtm/xo+xz/AOz/AN9UsdpMsisdvytnrQA68urv7Qf9Mm+6P+Wzf41F9pu/+f2f/v8AN/jUtxbSyy7124+tM+xz/wCz/wB9UAeK+LPB/jnUP+CjPw1+I1l4b1SbQdN+DPjDT9R1yOFmtrW7n1LR3ggkkzhZJEhkZVPJEbEdK9pN1dkn/TZ+v/PZv8altreSJyz45HY1H9jnz/D/AN9UAN+03f8Az+z/APf5v8an+1Xf2D/j8m+9/wA9m9frUX2Of/Z/76qX7PJ9l8njduz+tAEH2m7/AOf2f/v83+NBursf8vs//f5v8ad9jn/2f++qPsU5/u/nQBLf3V35i/6ZN93/AJ7N/jUH2m7/AOf2f/v83+NT3UEkzqUxwO5qL7HP/s/99UAeNfty+FPHHjz4O+H9G8FaBqmsXlv8YvAmoTWunxvNJFaW3iOynuZyByI4oo2kduiqpJ6V7Re3Nx9un8u8m2+c+3bM2Mbj70Q28kMnmSFdoH96mtbSSu0kbKys2Qd1ADPtN3/z+z/9/m/xqeC6u/ssn+mTf9/m9PrUX2Of/Z/76qWK3kWB42xlun5UAQfabv8A5/Z/+/zf40fabv8A5/Z/+/zf4077HP8A7P8A31R9jn/2f++qAJbi6u/s0X+mTdB/y2b0+tQfabv/AJ/Z/wDv83+NTzW8jwxouPl6/lUX2Of/AGf++qAKHiP+0rzw9qFpbSXE0kmm3SRxLIzF3NvIFAGeSSQB74rzD/gn/wCGPGfw8/YN+CPgHxxompaJreifCXw/Y6zo+oI8NxZXUVjGkkMqE5R1I2lT0Ir14QNA6yTSIqhv4mpXj+0TM0EsbdP4ulADPtN3/wA/s/8A3+b/ABqeyubvL5vJvu/89m/xqL7HP/s/99VLbQSRbi+OR2oAri5u8f8AH7P/AN/m/wAaX7Td/wDP7P8A9/m/xpwspwMfL/31R9jn/wBn/vqgCVrq7+wL/pk3X/ns3r9ag+03f/P7P/3+b/GpjbyfZVhGNwNR/Y5/9n/vqgCDUJb2bT7qFbi4kZ7OdVQSsSzGJwoAz1zivK/2BvC/jP4efsJ/BbwH430TUtE1rR/hbollq2kahG8FxZ3MdqiSRSRk5R1IwQeRivW/sVwx2gAk9AuST+lRfbtP1HVLnTLHU7SW6sVjF9ax3aNLb78lPMRSWTdtONwGcHHQ0AP+03f/AD+z/wDf5v8AGpbK6u/P/wCPyb7p/wCWzf40z7HP/s/99U+2tpYpd77fu44NAEb3N3vb/TZ/vH/ls3r9aT7Td/8AP7P/AN/m/wAae1nMXYjb97PWk+xz/wCz/wB9UAPWSWSzkMsrMeeXYt/Oq9WPKeGzkV/c8VXoAKKKKAFT/WL/AL6/zooT/WL/AL6/zooA7OiiigAooooAKKKKACiiigAooooAKKKKACiiigAooooAKKKKACiiigAooooAKKKKACiiigAooooAKKKKACiiigAooooAKKKKACiiigAooooAKKKKACiiigD8x/8Ag7ibxyv/AARq8UDwp5n9nt408PjxNszj7D9rO3d7favsnXvivOv2Lv2If+C7Pjf9jv4T+LfgH/wXP8O6P4J1L4aaFceEdGh+AmjyLp2mtp8H2e13mEsxij2xlm+YlMthiQP1B/ae/Zv+FH7X3wA8Wfs0fHHQW1Lwr4y0eTTtXtY5Nkiq2CksTEHZLHIqSRvg7XjU44r8qfgP+wj/AMHGf/BIXRbn4BfsH/E34N/Hb4QQahM/g/RfiY01rfaHFI+9xtE1uYgzsSY0uZot251jjMjAgHpf7Mf/AARC/b28Nf8ABVX4e/8ABT39tH/gozovxU1zwTot7pE1rZ/DeLRpbuyl06+tYov9FKRfJJetIWaMs23BPC48a/4Ll6Of+CZn/BZ/9mf/AILKaFbGz8K+ItUj8G/Fy6hhYxhBE1u9xL/z0lfTJ5fLXpnSUPBANfcn/BOy0/4Lda78YNa+IX/BTPV/gho/gy58M/ZtC8C/C2G6e5ttUFxEwuppZxJ+7MPnIVFy4JKkIuCT03/BY/8A4J8J/wAFN/8Agn942/ZY0q602z8SXiW+p+CtV1ZmWCx1e1lEkLMyo7Ikiebbu4VmEdw5AJxQB8I/tM6C/wDwVP8A+Dnn4f8A7PsqvffDj9j/AMLx+J/EyMAYZddleC7WNW5Ul530iNom6rY3I7HFr/g9UG3/AIJf/D8f9V803/0yazX0Z/wQV/4JUfGr/gm58L/iN4v/AGtfH2j+Lvi98UvGC6h4o8SaLqk95HJY20WyzhaWeGJnkEkt3KzbAP3yrzszSf8ABxN/wTF/aH/4KsfsaeFv2f8A9m3XvCen61ovxOtPEV5N4v1Oe1t2tYtN1C2KI0MEzGQvdR4BUDAY54AIB8gf8He0nipf+CSXwPjsd/8AY7fEfSf7S29PP/sC88gH2x5/4j6V+zHwkPgI/C3w23wqa2bwudBsv+Ebazx5JsPs6fZzHjjZ5WzGOMYrxv8AbK/4J6/DH9vb9hDUf2J/j1KYbfUtDsorfWtMUSS6VqVqkZgvIC4GSkqcr8vmRs6HAc1+eX7MH7Kv/B0z+wP4Htf2LPgr8RP2fPiD8P8ASYW0/wAF+O/HlxctN4f0/J8mMKnl3GEU8RSRXaxAeUjNGiLQBzfxtufD8/8AwetfBeHRpLZriD4aXKassGNy3H/CL64wEmP4/JaE887SnbFeZftf+AP2vfit/wAHZ+ueAv2eP2q7P4O+Mbz4Z2o+Gvi3VvCNvrStZJ4fjkubWG3uVZAzsuonzAMqEkxySD9Gfsy/8EA/2u/2ff8AgsH8H/8AgpH46/aN0X4lXdloerXvxv8AFXiDUp7bUtW8QX9jqtn/AMS+yS2aGKyggubCGNPMjG2F9scShIx75/wWX/4Iv67/AMFBvEngf9q/9lf41/8ACrv2hvhbsXwb4yk8z7LeWyStNHZ3TRK0kQjmeR45USQATTo8UokBQA888Uf8E0/+Dhfxp4Z1Lwd4n/4LveHrzS9X0+ex1G0k/Z+0cLPbzRtHIhxCCMoxGQQRnIIPNW/2ev8AgmT4z/4JO/8ABBz9pP8AZg8a/Gu08dS3Pgfx1rllqdjpL2cdtBP4fEf2cI8jk4e3kkLZxmXGOMnnvDfjj/g7l0+yj+GGqfCT9k++kgj+zt8RNSvLtWuT0NwYre7QBj1wLRV/6Z9q+x9Y+A/7X3xX/wCCWvij9mz9orx54R134zeKvg/rfh3WfEGkCS20e51a7srm3jmBFujJDmSPcywAjDFY+i0AfIP/AAaAWttbf8Ef7CS3t0ja4+I2vSXDIoBkcG3UM3qdqquT2AHavF/+Dgu2t4P+C8H/AAT11KGJUuJfiNo8Usyrh2jXxPYbVJ7gb3wOnzN6mvuD/ggr/wAE9/jl/wAEzP2B7P8AZi/aD1nw1f8AiC28WapqTXHhTUJrm1MNw0RQb5oYW3fI2RtwOOT287/4Kqf8Eo/2l/21f+Clv7KP7Xfwk8QeDrXwt8EfGFjqvi2217VriG9nhh1m0vHFtHHbyJI3lQPgO6AtgEgc0AfLf/BzPdWcH/BWD9gNvjI9uvw3j+IkcmoNqWBabf7e0j+0PN3cbBbi235/gr9uk24+X+8f518qf8Fe/wDglD8Hv+Ct/wCy+fgZ8Qtdl8O6/o+oHU/BPjC1sxPJpF7sKMHjJUzW8iHbJFuXdtRgQ0aEfFXwX8Af8HbX7JXhKz/Zx0XUP2evi5o2mWyWWj/EDxpqlxLd21sihYxI4ltJ5mVQMtNDM5Ocu/WgDh/+DxIeMZfFv7IEGm+OYfDOgt8R9WGp+JL6zW5s9KvfM0gWt3NCwKyiKP7XJsYEMquOhNfRU3/BPj/g4xeSTZ/wXx0IqWbn/hnvRV7nsIePw4HavT/jZ/wS6+K3/BSn/glXpv7IH/BUz4l6BffFlZptTb4gfD+x/wBE0nV0ubk2N1bwvFbiVUtJkt5oysfmK0wVkYrKvzR8Gfh7/wAHXf7Dng7T/wBnXwV/wzr8c/DmiwLZ+H/GHjPUrtb63soxshimbz7KWQqgGd6zuDx5rgAkA9e/4JO/8EZf2nP2Ff23/ip+2z+0l+2dpPxO1z4raG0HiGPTPBY0jz9Qa8huPtbJE/krhY3XakajMpPGDn9Gq+bv+CcGif8ABUDT/BfijV/+CnvjD4YX2vaprsdz4V0r4XwzraaPY/Z1V7aRpokZ281S4JeY/Of3mNqr9I0AFFFFABRRRQAUUUUAFFFFABRRRQAUUUUAFFFFABRRRQAUUUUAFFFFABRRRQAUUUUAFFFFABRRRQAUUUUAFFFFABRRRQAUUUUAFFFFABRRRQAUUUUAFFFFAHFt99v94/zoob77f7x/nRQAUUUUAZvjDwb4P+InhXUfAnxB8JaXr2h6xZvaavomt6fHd2d9buMPDNDKrJKjDqrAg1w/7Ov7G37J/wCyNb6lb/sv/s3eCfh//bTq2sTeE/D0NpNfbSzIs0oBkkRCzFELbE3HaBk16VRQA7zJf+erf99GjzJf+erf99Gm0UAO8yX/AJ6t/wB9GjzJf+erf99Gm0UAO8yX/nq3/fRo8yX/AJ6t/wB9Gm0UAO8yX/nq3/fRo8yX/nq3/fRptFADvMl/56t/30aEeR5FRrhlDMAWLH5cnrTaKAPjXwB/wUC/bJ1v/gqHof7HHxc/ZZ8P/D7wP4k8C+Jtb8Pz6h4mfU/EV+mmXaQQ3sn2dltLOGcMWW32zSbcEyIflr7M82X/AJ6t/wB9GviH4yjH/BwB8DQB/wA21+M//ThFX24KAHeZL/z1b/vo0eZL/wA9W/76NNooAd5kv/PVv++jR5kv/PVv++jTaKAHeZL/AM9W/wC+jSNLMFyJG/76NJRQB8s/tGfEj/gsy/xI8RJ+yF+zD8Cz4P8ADN0Y9Nb4l/EbUW1nxxGLZJjJYw6fGINN3SM9uq3kmS8RZtqMDXon/BP79s7wv/wUD/Y78D/tfeDPC9/4ftfGFhObrQNQuvOl0y+trmW1u7bzNqeaqTwuFkKIXQqxRSSo85/b5/bM+KHhvxFa/sLfsH6Mvib9ovx3pp/suNVZrHwBpcoMcniXWJQrLbQQhiYY2Beeby1RJMhH9W/Yo/ZH8A/sH/sp+Bv2R/hlcXVxo/gnRfsseoX1uYZdRuZJXnurx0JOxpriWWXYCQoYKDhaAPVPMl/56t/30aPMl/56t/30abRQA7zJf+erf99GjzJf+erf99Gm0UAO8yX/AJ6t/wB9GljdmlRZJ2VS4DNuPAzyaZRsaT92gO5uF20Afn/+1Z/wUD/4KwfsMfDbUv21/wBpb9lb4Ft8FvD+pWUPizwj4N+JGq3vjDR7S7vY7OO6FzLbx6fcsryxkxIgzuUZUFmj/QJpGDfu7hmXgo3I3KRkHB6cEcdulfnT/wAFq/2RvFfhr4Q+Kf8AgotcftceKtc0z4WXsPji1+B/xYmhvfhzqr2wjSGw+y2y28jO8hVoPMmmBnZRjDk195fCH4iv8YPhN4V+Lkvhm60VvFnhnTtbfRr5sz6e13ax3Bt5DgfPGZNh4HK9BQB0nmS/89W/76NHmS/89W/76NNooAd5kv8Az1b/AL6NHmS/89W/76NNooAd5kv/AD1b/vo0eZL/AM9W/wC+jTaMKTh87c/Nt6470AfL/wDwUa/ai+KXhR/DH7FX7JviBbX40fF+O6Gl6z5bTR+B/DdsM6r4nuVAKoIY8w2qyFRNdyoFEnlshz/+CGnxn+LPx/8A+CUPwX+Lvxs+IereKPFGtaDfPq2vazeNNdXjJq9/CjSOeXIjjjXJ5wo61xafsJf8FEvhn+0X8bP2qfAH7Y3wbutU+J00g+1eMvg7ql9eaL4etIZBY6JbSR6rDDDbRJ877IgZpi0shkJAGP8A8G0mm/GO0/4JKfDDUPH3jjwzqXhq60ec+CNL0fw7Pa32mRLq2qC6W9uXuZEvGeXaUMccIjCspVydxAPv7zJf+erf99GjzJf+erf99Gm0UAO8yX/nq3/fRo8yX/nq3/fRptFADvMl/wCerf8AfRo8yX/nq3/fRptFAHxZ/wAFhvjhN4Q1z9nj4CXH7Z2q/AfSviN8XLz/AITD4h6T4ttNEmttE07Q7y5mi+2XgaCIPPJaqN6sGcxrhiQp9g/Yh/Z5HwY8Pal460X9vv4s/HXR/GFravpWpfELxlp2sWVosLS5ksJbGCND5nmbXO5gRGvTFY/7bH7Qv/BL3wD4z8MfCX/goR4q+E9pqOpaXe6n4Wtfix4fguLb7OHSC4aG4vLaS3iZmEatHvWRwoO1guR85f8ABFvRPhxqn7Xv7UHxk/Yb8LSaF+y34o1Hw+PAcFlpMthoeqeJYLd49XvNFtpFXyrUEeU7qixu3lqmViVUAP0a8yX/AJ6t/wB9GjzJf+erf99Gm0UAO8yX/nq3/fRo8yX/AJ6t/wB9Gm0UAO8yX/nq3/fRo8yX/nq3/fRptFAH55/8Fm/2w/Eln8evhD/wTa8FeLfiNpkPxNsNS8R/EOP4P6XcXXi/WNFsgy2+h6T5QxA97PHP51y8kMcFvau7yCPerdt/wSm8a/8ABOrwB488cfsifspfsVeI/wBnb4haFpdlqXizwB4+8Niz13WNKjd47bU/tYu7v+1LZJbh4/O89ijzHP3wTpftrfAv4/8Aw0/bs+F//BTH9nL4NXXxM/4RvwPqvgL4ofD/AEa+todZuvD91N9rhvdM+1PHDLPb3G8vCzhpUKquNzMuX+zh8K/2g/2nP+CnM3/BSb4q/s5+IPg/4N8M/BZ/APgPwt46ks18Sa7LdX/2y51C7gs5pks7eLLwxwPIzs37zIBK0AfbXmS/89W/76NHmS/89W/76NNooAd5kv8Az1b/AL6NHmS/89W/76NNooAUvIww0jf99GkoooAKKKKAFT/WL/vr/OihP9Yv++v86KAOzooooAKKKKACiiigAooooAKKKKACiiigAooooAKKKKACiiigAooooAKKKKACiiigAooooAKKKKACiiigAooooAKKKKACiiigAooooAKKKKACiiigAooooAKKKKACiiigAooooAKKKKACiiigAooooAKKKKACiiigAooooAKKKKACiiigAooooAKKKKACiiigAooooAKKKKACiiigAooooAKKKKACiiigAooooAKKKKACiiigAooooAKKKKACiiigAooooAKKKKACiiigAooooAKKKKACiiigDi2++3+8f50UN99v94/zooAKKKKACiiigAooooAKKKKACiiigAooooAKKKKAOE1v9mr4MeIv2idB/at1fwnLL488M+F77w7ousLqk6xwaddyCSeIwBvKcswyHZSw7Hpju6KKACiiigAooooAKCMjBFFFAHyb47/4Ig/8E2viT8XvGHx48V/CTxk3irx9rEmp+LNU074xeI7L7fcM7PylveIqxoWIjjA2RLhUCqAK90/Zs/Zk+Dv7JHwxj+DvwK0fVrHw/FqNxfR2+teKL7V5hNOVMh8+9lkl2koMLu2g5IGSSe+ooAKKKKACiiigApskcc0bQzRK8ciskkbDhlIIKn2IJH406igD5H8Mf8EJv+CUXhPWtH1aw/ZMS8tdA1Y6lo3hvXvHOuanoNndEsTImlXd7Jac7m+Ro2QZ4XgV9dSSSTSNNK+5mbLMe5ptFABRRRQAUUUUAFFFFABVfSNI0nQNMh0XQtLtbGztk2W1nY2qQwwrknaqRgKoyScADkk96sUUAFFFFABRRRQAUUUUAV9X0jSvEGnHSNe0q0v7RpA5tb+zjuItw6NskVlz74zVgZ2quflVQqKOAqjooA4AHoMAUUUAFFFFABRRRQAUUUUADKrDay5HvTURI12xoqj0UU6igAooooAKKKKACiiigAooooAVP9Yv++v86KE/1i/76/zooA7OiiigAooooAKKKKACiiigAooooAKKKKACiiigAooooAKKKKACiiigAooooAKKKKACiiigAooooAKKKKACiiigAooooAKKKKACiiigAooooAKKKKACiiigAooooAKKKKACiiigAooooAKKKKACiiigAooooAKKKKACiiigAooooAKKKKACiiigAooooAKKKKACiiigAooooAKKKKACiiigAooooAKKKKACiiigAooooAKKKKACiiigAooooAKKKKACiiigAooooAKKKKACiiigAooooAKKKKAOLb77f7x/nRVxtJbcT9pHLE/6v3+tJ/ZL/wDPyP8Av3/9egCpRVv+yX/5+R/37/8Ar0f2S/8Az8j/AL9//XoAqUVb/sl/+fkf9+//AK9H9kv/AM/I/wC/f/16AKlFW/7Jf/n5H/fv/wCvR/ZL/wDPyP8Av3/9egCpRVv+yX/5+R/37/8Ar0f2S/8Az8j/AL9//XoAqUVb/sl/+fkf9+//AK9H9kv/AM/I/wC/f/16AKlFW/7Jf/n5H/fv/wCvR/ZL/wDPyP8Av3/9egCpRVv+yX/5+R/37/8Ar0f2S/8Az8j/AL9//XoAqUVb/sl/+fkf9+//AK9H9kv/AM/I/wC/f/16AKlFW/7Jf/n5H/fv/wCvR/ZL/wDPyP8Av3/9egCpRVv+yX/5+R/37/8Ar0f2S/8Az8j/AL9//XoAqUVb/sl/+fkf9+//AK9H9kv/AM/I/wC/f/16AKlFW/7Jf/n5H/fv/wCvR/ZL/wDPyP8Av3/9egCpRVv+yX/5+R/37/8Ar0f2S/8Az8j/AL9//XoAqUVb/sl/+fkf9+//AK9H9kv/AM/I/wC/f/16AKlFW/7Jf/n5H/fv/wCvR/ZL/wDPyP8Av3/9egCpRVv+yX/5+R/37/8Ar0f2S/8Az8j/AL9//XoAqUVb/sl/+fkf9+//AK9H9kv/AM/I/wC/f/16AKlFW/7Jf/n5H/fv/wCvR/ZL/wDPyP8Av3/9egCpRVv+yX/5+R/37/8Ar0f2S/8Az8j/AL9//XoAqUVb/sl/+fkf9+//AK9H9kv/AM/I/wC/f/16AKlFW/7Jf/n5H/fv/wCvR/ZL/wDPyP8Av3/9egCpRVv+yX/5+R/37/8Ar0f2S/8Az8j/AL9//XoAqUVb/sl/+fkf9+//AK9H9kv/AM/I/wC/f/16AKlFW/7Jf/n5H/fv/wCvR/ZL/wDPyP8Av3/9egCpRVv+yX/5+R/37/8Ar0f2S/8Az8j/AL9//XoAqUVb/sl/+fkf9+//AK9H9kv/AM/I/wC/f/16AKlFW/7Jf/n5H/fv/wCvR/ZL/wDPyP8Av3/9egCpRVv+yX/5+R/37/8Ar0f2S/8Az8j/AL9//XoAqUVb/sl/+fkf9+//AK9H9kv/AM/I/wC/f/16AKlFW/7Jf/n5H/fv/wCvR/ZL/wDPyP8Av3/9egCpRVv+yX/5+R/37/8Ar0f2S/8Az8j/AL9//XoAqUVb/sl/+fkf9+//AK9H9kv/AM/I/wC/f/16AKqf6xf99f50VbTSW8xT9pH3l/5Z+/1ooA//2Q==)"
      ],
      "metadata": {
        "id": "zaAf1Ln60gjW"
      }
    },
    {
      "cell_type": "code",
      "source": [
        "#Implimanting naive bayes model\n",
        "naive_bayes = GaussianNB()\n",
        "naive_bayes.fit(x_train, y_train)"
      ],
      "metadata": {
        "id": "LE-JC4eAlxUm"
      },
      "execution_count": null,
      "outputs": []
    },
    {
      "cell_type": "code",
      "source": [
        "#score for naive bayes\n",
        "naive_bayes.score(x_train,y_train)"
      ],
      "metadata": {
        "id": "SG_SNySZlxfL"
      },
      "execution_count": null,
      "outputs": []
    },
    {
      "cell_type": "code",
      "source": [
        "# making predictions on the testing set\n",
        "y_pred = naive_bayes.predict(x_test)"
      ],
      "metadata": {
        "id": "PI8YmSeXl8YF"
      },
      "execution_count": null,
      "outputs": []
    },
    {
      "cell_type": "code",
      "source": [
        "y_pred"
      ],
      "metadata": {
        "id": "WHUVq_yH8wID"
      },
      "execution_count": null,
      "outputs": []
    },
    {
      "cell_type": "code",
      "source": [
        "# comparing actual response values (y_test) with predicted response values (y_pred)\n",
        "from sklearn import metrics\n",
        "print(\"Gaussian Naive Bayes model accuracy:\", metrics.accuracy_score(y_test, y_pred))"
      ],
      "metadata": {
        "id": "vQu1rDRmmBJv"
      },
      "execution_count": null,
      "outputs": []
    },
    {
      "cell_type": "code",
      "source": [
        "#confusion matrix\n",
        "naive_bayes_con_mat = confusion_matrix( y_test,y_pred)\n",
        "print(naive_bayes_con_mat)\n",
        "sns.heatmap(naive_bayes_con_mat,annot=True)"
      ],
      "metadata": {
        "id": "HvUpLg_M0m2x"
      },
      "execution_count": null,
      "outputs": []
    },
    {
      "cell_type": "markdown",
      "source": [
        "91% accuracy with naive bayes classifie"
      ],
      "metadata": {
        "id": "1CCHZDBSmIeW"
      }
    },
    {
      "cell_type": "markdown",
      "source": [
        "###ML Model - 6 Support Vector Machine"
      ],
      "metadata": {
        "id": "2kcY3SwvmNM-"
      }
    },
    {
      "cell_type": "markdown",
      "source": [
        "![support-vector-machine-algorithm.png](data:image/png;base64,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)"
      ],
      "metadata": {
        "id": "tMPo8XYN0L-U"
      }
    },
    {
      "cell_type": "code",
      "source": [
        "support_vector = SVC(kernel='linear')\n",
        "support_vector.fit(x_train, y_train)"
      ],
      "metadata": {
        "id": "LUp3hh5umY9Z"
      },
      "execution_count": null,
      "outputs": []
    },
    {
      "cell_type": "code",
      "source": [
        "support_vector.score(x_test, y_test)"
      ],
      "metadata": {
        "id": "qXMvokmXmZCw"
      },
      "execution_count": null,
      "outputs": []
    },
    {
      "cell_type": "code",
      "source": [
        "y_pred = support_vector.predict(x_test)"
      ],
      "metadata": {
        "id": "8o8wr_I-mZHi"
      },
      "execution_count": null,
      "outputs": []
    },
    {
      "cell_type": "code",
      "source": [
        "y_pred"
      ],
      "metadata": {
        "id": "FZp1Wk680rxv"
      },
      "execution_count": null,
      "outputs": []
    },
    {
      "cell_type": "code",
      "source": [
        "#confusion matrix\n",
        "support_vector_con_mat = confusion_matrix( y_test,y_pred)\n",
        "print(support_vector_con_mat)\n",
        "sns.heatmap(support_vector_con_mat,annot=True)"
      ],
      "metadata": {
        "id": "AUBZ9hrEmnkF"
      },
      "execution_count": null,
      "outputs": []
    },
    {
      "cell_type": "markdown",
      "source": [
        "93% accuracy with support vector machine"
      ],
      "metadata": {
        "id": "1UXrCmY5mrNU"
      }
    },
    {
      "cell_type": "markdown",
      "source": [
        "### 1. Which Evaluation metrics did you consider for a positive business impact and why?"
      ],
      "metadata": {
        "id": "nR3fHHxdRi7e"
      }
    },
    {
      "cell_type": "markdown",
      "source": [
        "* I would like to go with Precision.\n",
        "* model evaluation metrics comparison, we can see that K-Nearest Machine being the model with highest accuracy rate by a very small margin, works best among the experimented models for the given dataset.\n",
        "---------\n",
        "* Accuracy : Accuracy will require two inputs (i) actual class labels (ii)predicted class labels. To get the class labels from probabilities( these probabilities will be probabilities of getting a HIT), you can take a threshold of 0.5. Any probability above 0.5 will be labeled as class 1 and anything less than 0.5 will be labeled as class 0.\n",
        "* Precision : Precision for a label is defined as the number of true positives divided by the number of predicted positives. Report precision in percentages.\n",
        "* Recall : Recall for a label is defined as the number of true positives divided by the total number of actual positives. Report recall in percentages.\n",
        "* F1-Score : This is defined as the harmonic mean of precision and recall"
      ],
      "metadata": {
        "id": "jz8nhMiCRlQu"
      }
    },
    {
      "cell_type": "markdown",
      "source": [
        "### 2. Which ML model did you choose from the above created models as your final prediction model and why?"
      ],
      "metadata": {
        "id": "cBFFvTBNJzUa"
      }
    },
    {
      "cell_type": "code",
      "source": [
        "#Creating a function to return all Models Accuracy Score \n",
        "\n",
        "def accuracy_of_each_model(model,X_train,X_test):\n",
        "\n",
        "  #predicting a train datas\n",
        "  y_train_preds=model.predict(X_train)\n",
        "\n",
        "  #predicting a test datas\n",
        "  y_test_preds=model.predict(X_test)\n",
        "\n",
        "  #storing all training scores\n",
        "  train_scores=[]\n",
        "\n",
        "  #storing all test scores\n",
        "  test_scores=[]\n",
        "  metrics=['Accuracy_Score','Precsion_Score','Recall_Score','Roc_Auc_Score']\n",
        "\n",
        "  # Get the accuracy scores\n",
        "  train_accuracy_score = accuracy_score(y_train,y_train_preds)\n",
        "  test_accuracy_score = accuracy_score(y_test,y_test_preds)\n",
        "  \n",
        "  train_scores.append(train_accuracy_score)\n",
        "  test_scores.append(test_accuracy_score)\n",
        "  # Get the precision scores\n",
        "  train_precision_score = precision_score(y_train,y_train_preds)\n",
        "  test_precision_score = precision_score(y_test,y_test_preds)\n",
        "\n",
        "  train_scores.append(train_precision_score)\n",
        "  test_scores.append(test_precision_score)\n",
        "\n",
        "  # Get the recall scores\n",
        "  train_recall_score =recall_score(y_train,y_train_preds)\n",
        "  test_recall_score =recall_score(y_test,y_test_preds)\n",
        "\n",
        "  train_scores.append(train_recall_score)\n",
        "  test_scores.append(test_recall_score)\n",
        "\n",
        "  # Get the roc_auc scores\n",
        "  train_roc_auc_score=roc_auc_score(y_train,y_train_preds)\n",
        "  test_roc_auc_score =roc_auc_score(y_test,y_test_preds)\n",
        "\n",
        "  train_scores.append(train_roc_auc_score)\n",
        "  test_scores.append(test_roc_auc_score)\n",
        "\n",
        "  return train_scores,test_scores,metrics\n"
      ],
      "metadata": {
        "id": "q8Dz1RTb9KMW"
      },
      "execution_count": null,
      "outputs": []
    },
    {
      "cell_type": "code",
      "source": [
        "models=[log_reg,tree_cv,random_forest_gridcv,knn_cv,naive_bayes,support_vector]\n",
        "name=['Logistic Regression Model','Decision Tree Model After Hyperparameter Tuning','Random Forest Model After Hyperparameter Tuning','Knn Model After Hyperparameter Tuning','Naive BayesModel','Support vector model']"
      ],
      "metadata": {
        "id": "cMW8SlTE9KiO"
      },
      "execution_count": null,
      "outputs": []
    },
    {
      "cell_type": "code",
      "source": [
        "for model_ in range(len(models)):\n",
        "  train_score_,test_score_,metrics_=accuracy_of_each_model(models[model_],x_train,x_test)\n",
        "  print(\"-----\"*3+f\"{name[model_]}\"+\"-----\"*3)\n",
        "  print(\"\")\n",
        "  print(pd.DataFrame(data={'Metrics':metrics_,'Train_Score':train_score_,'Test_Score':test_score_}))\n",
        "  print(\"\")"
      ],
      "metadata": {
        "id": "MRdZeiQQ9LCl"
      },
      "execution_count": null,
      "outputs": []
    },
    {
      "cell_type": "markdown",
      "source": [
        "* From the above snap shot, we can clearly see that for the accuracy and roc auc score is improved for K-Nearest Neighbors.\n",
        "So, I have chosen K-Nearest Neighbors as the final prediction model which should be deployed for real user interaction.\n",
        "* All the others model are also perform well in this dataset but I chose K-Nearest Neighbors model.\n"
      ],
      "metadata": {
        "id": "jHVz9hHDKFms"
      }
    },
    {
      "cell_type": "markdown",
      "source": [
        "### 3. Explain the model which you have used and the feature importance using any model explainability tool?"
      ],
      "metadata": {
        "id": "zosx0Wx0Q9w-"
      }
    },
    {
      "cell_type": "code",
      "source": [
        "# Initialize JavaScript visualizations in notebook environment\n",
        "shap.initjs()\n",
        "# Define a tree explainer for the built model\n",
        "explainer = shap.TreeExplainer(decision_classify)\n",
        "# obtain shap values for the first row of the test data\n",
        "shap_values = explainer.shap_values(x_test)"
      ],
      "metadata": {
        "id": "SvXTWKL4ixDn"
      },
      "execution_count": null,
      "outputs": []
    },
    {
      "cell_type": "code",
      "source": [
        "# Initialize JavaScript visualizations in notebook environment\n",
        "shap.initjs()\n",
        "# obtain shap values for the first row of the test data\n",
        "shap_values = explainer.shap_values(x_test.iloc[0])\n",
        "shap.force_plot(explainer.expected_value[0], shap_values[0], x_test.iloc[0]) "
      ],
      "metadata": {
        "id": "G53CVos1odsM"
      },
      "execution_count": null,
      "outputs": []
    },
    {
      "cell_type": "code",
      "source": [
        "x_test.mean()"
      ],
      "metadata": {
        "id": "z7VorfdakSFI"
      },
      "execution_count": null,
      "outputs": []
    },
    {
      "cell_type": "code",
      "source": [
        "# Obtain a Scatter Summary Plot \n",
        "shap_values = shap.TreeExplainer(decision_classify).shap_values(x_test)\n",
        "shap.summary_plot(shap_values[0], x_test)"
      ],
      "metadata": {
        "id": "QbVpV-t6kSIV"
      },
      "execution_count": null,
      "outputs": []
    },
    {
      "cell_type": "markdown",
      "source": [
        "This plot is made of all the dots in the train data. It demonstrates the following information:\n",
        "\n",
        "* Feature importance: Variables are ranked in descending order.\n",
        "\n",
        "* Impact: The horizontal location shows whether the effect of that value is associated with a higher or lower prediction.\n",
        "\n",
        "* Original value: Color shows whether that variable is high (in red) or low (in blue) for that observation.\n",
        "\n",
        "* Red indicates a higher and blue indicates a lower . From the X-axis we can verify the impact (Positive or Negative) for that specific data."
      ],
      "metadata": {
        "id": "-WS4c5HTlKcs"
      }
    },
    {
      "cell_type": "code",
      "source": [
        "# Obtain a Bar Summary Plot\n",
        "shap.summary_plot(shap_values, x_train, plot_type=\"bar\")"
      ],
      "metadata": {
        "id": "CQPNVJATkli3"
      },
      "execution_count": null,
      "outputs": []
    },
    {
      "cell_type": "markdown",
      "source": [
        "A variable importance plot lists the most significant variables in descending order. The top variables contribute more to the model than the bottom ones and thus have high predictive power.\n",
        "\n",
        "Here, we can see the feature importance for respective classes in a descending order"
      ],
      "metadata": {
        "id": "eWxYwpc6lfjJ"
      }
    },
    {
      "cell_type": "markdown",
      "source": [
        "The most important feature are overall rating and Value for money that contribute to a model's prediction whether a passenger will recommended a particular airline to his/her friends."
      ],
      "metadata": {
        "id": "QNcZFnJ8RAqI"
      }
    },
    {
      "cell_type": "markdown",
      "source": [
        "# **Conclusion**"
      ],
      "metadata": {
        "id": "gCX9965dhzqZ"
      }
    },
    {
      "cell_type": "markdown",
      "source": [
        "The Models used for this Classsification problem are\n",
        "\n",
        "1. Logistic Regression Model\n",
        "2. Decision Tree Model\n",
        "3. Random Forest Model\n",
        "4. K-Nearest Neighbor Model\n",
        "5. Naive Bayes\n",
        "6. Support Vector Machine Model\n",
        "\n",
        "* We performed Hyperparameter tuning using Gridsearch CV method for Decision Tree Model, Random Forest Model , K-Nearest Neighbor ,Support Vector Machine and Naive Bayes. To increase accuracy and avoid Overfitting Criteria.\n",
        "\n",
        "* Based on the knowledge of the business and the problem usecase. The Classification metrics of Recall is given first priority , Accuracy is given second priority , and ROC AUC is given third priority.\n",
        "\n",
        "* We have built classifier models using 6 different types of classifiers and all these are able to give accuracy of more than 90%.* We can conclude that Decission Tree gives the best model.\n",
        "\n",
        "* model evaluation metrics comparison, we can see that Support Vector Machine being the model with highest accuracy rate by a very small margin, works best among the experimented models for the given dataset.\n",
        "\n",
        "* The most important feature are overall rating and Value for money that contribute to a model's prediction whether a passenger will recommened a particular airline to his/her friends.\n",
        "\n",
        "* The classifier models developed can be used to predict passenger referral as it will give airlines ability to identify impactful passengers who can help in bringing more revenues.\n",
        "\n",
        "* As a result, in order to increase their business or grow, our client must provide excellent cabin service, ground service, food beverage entertainment, and seat comfort."
      ],
      "metadata": {
        "id": "Fjb1IsQkh3yE"
      }
    },
    {
      "cell_type": "markdown",
      "source": [
        "### ***Hurrah! You have successfully completed your Machine Learning Capstone Project !!!***"
      ],
      "metadata": {
        "id": "gIfDvo9L0UH2"
      }
    }
  ]
}